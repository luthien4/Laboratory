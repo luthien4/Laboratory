{
 "cells": [
  {
   "cell_type": "markdown",
   "source": [
    "<div class=\"list-group\" id=\"list-tab\" role=\"tablist\">\n",
    "\n",
    "## TABLE OF CONTENTS\n",
    "\n",
    "- <a href='#1'>1. THE BASICS OF PROBABILITY</a>\n",
    "    - <a href='#1-1'>1.1 Probability Formula</a>\n",
    "    - <a href='#1-2'>1.2 Expected Values</a>\n",
    "    - <a href='#1-3'>1.3 Probability Frequency Distribution</a>\n",
    "- <a href='#2'>2. COMBINATORICS</a>\n",
    "    - <a href='#2-1'>2.1 Permutations</a>\n",
    "    - <a href='#2-2'>2.2 Solving Factorials</a>\n",
    "    - <a href='#2-3'>2.3 Variations with Repetition</a>\n",
    "    - <a href='#2-4'>2.4 Variations without Repetition</a>\n",
    "    - <a href='#2-5'>2.5 Combinations without Repetition</a>\n",
    "    - <a href='#2-6'>2.6 Combinations with Repetition</a>\n",
    "- <a href='#3'>3. BAYESIAN INFERENCE (?)</a>\n",
    "    - <a href='#3-1'>3.1 The Intersection of Two Sets</a>\n",
    "    - <a href='#3-2'>3.2 The Union of Two Sets</a>\n",
    "    - <a href='#3-3'>3.3 Mutually Exclusive Sets</a>\n",
    "    - <a href='#3-4'>3.4 Dependent and Independent Events</a>\n",
    "    - <a href='#3-5'>3.5 Conditional Probability</a>\n",
    "    - <a href='#3-6'>3.6 Law of Total Probability</a>\n",
    "    - <a href='#3-7'>3.7 Additive Law</a>\n",
    "    - <a href='#3-8'>3.8 Multiplication Rule</a>\n",
    "    - <a href='#3-9'>3.9 Bayes Rule</a>\n",
    "- <a href='#4'>4. DISCRETE DISTRIBUTIONS</a>\n",
    "    - <a href='#4-1'>4.1 Uniform Distribution</a>\n",
    "    - <a href='#4-2'>4.2 Bernoulli Distribution</a>\n",
    "    - <a href='#4-3'>4.3 Binomial Distribution</a>\n",
    "    - <a href='#4-4'>4.4 Poisson Distribution</a>\n",
    "- <a href='#5'>5. CONTINUOUS DISTRIBUTIONS</a>\n",
    "    - <a href='#5-1'>5.1 Continuous Distributions</a>\n",
    "    - <a href='#5-2'>5.2 Normal Distribution</a>\n",
    "    - <a href='#5-3'>5.3 Standardizing a Normal Distribution</a>\n",
    "    - <a href='#5-4'>5.4 Students T Distribution</a>\n",
    "    - <a href='#5-5'>5.5 Chi-Square Distribution</a>\n",
    "    - <a href='#5-6'>5.6 F-Distribution</a>\n",
    "    - <a href='#5-7'>5.7 Exponential Distribution</a>\n",
    "    - <a href='#5-8'>5.8 Logistic Distribution</a>\n",
    "</div>"
   ],
   "metadata": {
    "collapsed": false
   }
  },
  {
   "cell_type": "code",
   "execution_count": 2,
   "outputs": [],
   "source": [
    "import pandas as pd\n",
    "import numpy as np\n",
    "\n",
    "import matplotlib.pyplot as plt             # for creating plots\n",
    "from matplotlib.colors import ListedColormap\n",
    "%matplotlib inline\n",
    "import seaborn as sns\n",
    "import plotly\n",
    "\n",
    "# For use of all the tools in each of the following packages in python without calling them\n",
    "from math import*\n",
    "from itertools import*\n",
    "from collections import*"
   ],
   "metadata": {
    "collapsed": false,
    "ExecuteTime": {
     "end_time": "2024-07-19T14:09:17.022024300Z",
     "start_time": "2024-07-19T14:09:16.976081800Z"
    }
   }
  },
  {
   "cell_type": "markdown",
   "source": [
    "<div style=\"color:white; background-color:  #9e1d0a; padding: 14px;\">\n",
    "<center>\n",
    "<b>\n",
    "THE BASICS OF PROBABILITY </b>\n",
    "</center>\n",
    "</div>"
   ],
   "metadata": {
    "collapsed": false
   }
  },
  {
   "cell_type": "code",
   "execution_count": null,
   "outputs": [],
   "source": [],
   "metadata": {
    "collapsed": false
   }
  }
 ],
 "metadata": {
  "kernelspec": {
   "display_name": "Python 3",
   "language": "python",
   "name": "python3"
  },
  "language_info": {
   "codemirror_mode": {
    "name": "ipython",
    "version": 2
   },
   "file_extension": ".py",
   "mimetype": "text/x-python",
   "name": "python",
   "nbconvert_exporter": "python",
   "pygments_lexer": "ipython2",
   "version": "2.7.6"
  }
 },
 "nbformat": 4,
 "nbformat_minor": 0
}
