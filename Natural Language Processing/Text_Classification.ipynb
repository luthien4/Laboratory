{
 "cells": [
  {
   "cell_type": "markdown",
   "source": [
    "<div style=\"color:white; background-color: black; padding: 20px; border-radius:8px; font-size:26px\"><b style=\"font-weight: 700;\"><center>LEARNING NLP </center></b></div>\n"
   ],
   "metadata": {
    "collapsed": false
   }
  },
  {
   "cell_type": "markdown",
   "source": [
    "<div style=\"color:white; background-color: black; padding: 20px; border-radius:8px; font-size:20px\"><b style=\"font-weight: 700;\"><center> Text Classification </center></b></div>"
   ],
   "metadata": {
    "collapsed": false
   }
  },
  {
   "cell_type": "markdown",
   "source": [
    "## <a id='1'>1. Using Bag of Words </a>\n"
   ],
   "metadata": {
    "collapsed": false
   }
  },
  {
   "cell_type": "code",
   "execution_count": 2,
   "outputs": [],
   "source": [
    "import numpy as np\n",
    "import pandas as pd\n",
    "import os"
   ],
   "metadata": {
    "collapsed": false,
    "ExecuteTime": {
     "end_time": "2023-10-24T09:16:47.331356600Z",
     "start_time": "2023-10-24T09:16:47.329852700Z"
    }
   }
  },
  {
   "cell_type": "code",
   "execution_count": 3,
   "outputs": [],
   "source": [
    "temp_df = pd.read_csv('D:/git/Laboratory/NLP/Learning_NLP/data/IMDB Dataset.csv')"
   ],
   "metadata": {
    "collapsed": false,
    "ExecuteTime": {
     "end_time": "2023-10-24T09:16:50.309595800Z",
     "start_time": "2023-10-24T09:16:49.910410600Z"
    }
   }
  },
  {
   "cell_type": "code",
   "execution_count": 4,
   "outputs": [
    {
     "data": {
      "text/plain": "                                              review sentiment\n0  One of the other reviewers has mentioned that ...  positive\n1  A wonderful little production. <br /><br />The...  positive\n2  I thought this was a wonderful way to spend ti...  positive\n3  Basically there's a family where a little boy ...  negative\n4  Petter Mattei's \"Love in the Time of Money\" is...  positive",
      "text/html": "<div>\n<style scoped>\n    .dataframe tbody tr th:only-of-type {\n        vertical-align: middle;\n    }\n\n    .dataframe tbody tr th {\n        vertical-align: top;\n    }\n\n    .dataframe thead th {\n        text-align: right;\n    }\n</style>\n<table border=\"1\" class=\"dataframe\">\n  <thead>\n    <tr style=\"text-align: right;\">\n      <th></th>\n      <th>review</th>\n      <th>sentiment</th>\n    </tr>\n  </thead>\n  <tbody>\n    <tr>\n      <th>0</th>\n      <td>One of the other reviewers has mentioned that ...</td>\n      <td>positive</td>\n    </tr>\n    <tr>\n      <th>1</th>\n      <td>A wonderful little production. &lt;br /&gt;&lt;br /&gt;The...</td>\n      <td>positive</td>\n    </tr>\n    <tr>\n      <th>2</th>\n      <td>I thought this was a wonderful way to spend ti...</td>\n      <td>positive</td>\n    </tr>\n    <tr>\n      <th>3</th>\n      <td>Basically there's a family where a little boy ...</td>\n      <td>negative</td>\n    </tr>\n    <tr>\n      <th>4</th>\n      <td>Petter Mattei's \"Love in the Time of Money\" is...</td>\n      <td>positive</td>\n    </tr>\n  </tbody>\n</table>\n</div>"
     },
     "execution_count": 4,
     "metadata": {},
     "output_type": "execute_result"
    }
   ],
   "source": [
    "# Get the first 10000 rows of temp_df\n",
    "df = temp_df.iloc[:10000]\n",
    "df.head()"
   ],
   "metadata": {
    "collapsed": false,
    "ExecuteTime": {
     "end_time": "2023-10-24T09:17:49.300433100Z",
     "start_time": "2023-10-24T09:17:49.288966600Z"
    }
   }
  },
  {
   "cell_type": "code",
   "execution_count": 5,
   "outputs": [
    {
     "data": {
      "text/plain": "'A wonderful little production. <br /><br />The filming technique is very unassuming- very old-time-BBC fashion and gives a comforting, and sometimes discomforting, sense of realism to the entire piece. <br /><br />The actors are extremely well chosen- Michael Sheen not only \"has got all the polari\" but he has all the voices down pat too! You can truly see the seamless editing guided by the references to Williams\\' diary entries, not only is it well worth the watching but it is a terrificly written and performed piece. A masterful production about one of the great master\\'s of comedy and his life. <br /><br />The realism really comes home with the little things: the fantasy of the guard which, rather than use the traditional \\'dream\\' techniques remains solid then disappears. It plays on our knowledge and our senses, particularly with the scenes concerning Orton and Halliwell and the sets (particularly of their flat with Halliwell\\'s murals decorating every surface) are terribly well done.'"
     },
     "execution_count": 5,
     "metadata": {},
     "output_type": "execute_result"
    }
   ],
   "source": [
    "df['review'][1]"
   ],
   "metadata": {
    "collapsed": false,
    "ExecuteTime": {
     "end_time": "2023-10-24T09:18:58.153516300Z",
     "start_time": "2023-10-24T09:18:58.148041800Z"
    }
   }
  },
  {
   "cell_type": "code",
   "execution_count": 6,
   "outputs": [
    {
     "data": {
      "text/plain": "sentiment\npositive    5028\nnegative    4972\nName: count, dtype: int64"
     },
     "execution_count": 6,
     "metadata": {},
     "output_type": "execute_result"
    }
   ],
   "source": [
    "df['sentiment'].value_counts()"
   ],
   "metadata": {
    "collapsed": false,
    "ExecuteTime": {
     "end_time": "2023-10-24T09:23:49.910506700Z",
     "start_time": "2023-10-24T09:23:49.904504600Z"
    }
   }
  },
  {
   "cell_type": "code",
   "execution_count": 7,
   "outputs": [
    {
     "data": {
      "text/plain": "review       0\nsentiment    0\ndtype: int64"
     },
     "execution_count": 7,
     "metadata": {},
     "output_type": "execute_result"
    }
   ],
   "source": [
    "# Search for null values\n",
    "df.isnull().sum()"
   ],
   "metadata": {
    "collapsed": false,
    "ExecuteTime": {
     "end_time": "2023-10-24T09:25:32.765321600Z",
     "start_time": "2023-10-24T09:25:32.757664100Z"
    }
   }
  },
  {
   "cell_type": "code",
   "execution_count": 8,
   "outputs": [
    {
     "data": {
      "text/plain": "17"
     },
     "execution_count": 8,
     "metadata": {},
     "output_type": "execute_result"
    }
   ],
   "source": [
    "# Search for duplicates\n",
    "df.duplicated().sum()"
   ],
   "metadata": {
    "collapsed": false,
    "ExecuteTime": {
     "end_time": "2023-10-24T09:26:11.950548800Z",
     "start_time": "2023-10-24T09:26:11.916196Z"
    }
   }
  },
  {
   "cell_type": "code",
   "execution_count": 11,
   "outputs": [
    {
     "name": "stderr",
     "output_type": "stream",
     "text": [
      "C:\\Users\\luthi\\AppData\\Local\\Temp\\ipykernel_8960\\1440087712.py:2: SettingWithCopyWarning: \n",
      "A value is trying to be set on a copy of a slice from a DataFrame\n",
      "\n",
      "See the caveats in the documentation: https://pandas.pydata.org/pandas-docs/stable/user_guide/indexing.html#returning-a-view-versus-a-copy\n",
      "  df.drop_duplicates(inplace = True)\n"
     ]
    },
    {
     "data": {
      "text/plain": "0"
     },
     "execution_count": 11,
     "metadata": {},
     "output_type": "execute_result"
    }
   ],
   "source": [
    "# Lets drop the duplicates\n",
    "df.drop_duplicates(inplace = True)\n",
    "df.duplicated().sum()"
   ],
   "metadata": {
    "collapsed": false,
    "ExecuteTime": {
     "end_time": "2023-10-24T09:27:40.628552400Z",
     "start_time": "2023-10-24T09:27:40.573216Z"
    }
   }
  },
  {
   "cell_type": "markdown",
   "source": [
    "**Lets do some basic preprocessing:**\n",
    "- Remove tags\n",
    "- Lowercase\n",
    "- Remove stopwords"
   ],
   "metadata": {
    "collapsed": false
   }
  },
  {
   "cell_type": "code",
   "execution_count": 12,
   "outputs": [],
   "source": [
    "# Remove tags\n",
    "import re\n",
    "\n",
    "def remove_tags(raw_text):\n",
    "    cleaned_text = re.sub(re.compile('<.*?>'), '', raw_text)\n",
    "    return cleaned_text"
   ],
   "metadata": {
    "collapsed": false,
    "ExecuteTime": {
     "end_time": "2023-10-24T09:40:30.859479100Z",
     "start_time": "2023-10-24T09:40:30.855979700Z"
    }
   }
  },
  {
   "cell_type": "code",
   "execution_count": 15,
   "outputs": [
    {
     "name": "stderr",
     "output_type": "stream",
     "text": [
      "C:\\Users\\luthi\\AppData\\Local\\Temp\\ipykernel_8960\\3653777268.py:1: SettingWithCopyWarning: \n",
      "A value is trying to be set on a copy of a slice from a DataFrame.\n",
      "Try using .loc[row_indexer,col_indexer] = value instead\n",
      "\n",
      "See the caveats in the documentation: https://pandas.pydata.org/pandas-docs/stable/user_guide/indexing.html#returning-a-view-versus-a-copy\n",
      "  df['review'] = df['review'].apply(remove_tags)\n"
     ]
    },
    {
     "data": {
      "text/plain": "                                                 review sentiment\n0     One of the other reviewers has mentioned that ...  positive\n1     A wonderful little production. The filming tec...  positive\n2     I thought this was a wonderful way to spend ti...  positive\n3     Basically there's a family where a little boy ...  negative\n4     Petter Mattei's \"Love in the Time of Money\" is...  positive\n...                                                 ...       ...\n9995  Fun, entertaining movie about WWII German spy ...  positive\n9996  Give me a break. How can anyone say that this ...  negative\n9997  This movie is a bad movie. But after watching ...  negative\n9998  This is a movie that was probably made to ente...  negative\n9999  Smashing film about film-making. Shows the int...  positive\n\n[9983 rows x 2 columns]",
      "text/html": "<div>\n<style scoped>\n    .dataframe tbody tr th:only-of-type {\n        vertical-align: middle;\n    }\n\n    .dataframe tbody tr th {\n        vertical-align: top;\n    }\n\n    .dataframe thead th {\n        text-align: right;\n    }\n</style>\n<table border=\"1\" class=\"dataframe\">\n  <thead>\n    <tr style=\"text-align: right;\">\n      <th></th>\n      <th>review</th>\n      <th>sentiment</th>\n    </tr>\n  </thead>\n  <tbody>\n    <tr>\n      <th>0</th>\n      <td>One of the other reviewers has mentioned that ...</td>\n      <td>positive</td>\n    </tr>\n    <tr>\n      <th>1</th>\n      <td>A wonderful little production. The filming tec...</td>\n      <td>positive</td>\n    </tr>\n    <tr>\n      <th>2</th>\n      <td>I thought this was a wonderful way to spend ti...</td>\n      <td>positive</td>\n    </tr>\n    <tr>\n      <th>3</th>\n      <td>Basically there's a family where a little boy ...</td>\n      <td>negative</td>\n    </tr>\n    <tr>\n      <th>4</th>\n      <td>Petter Mattei's \"Love in the Time of Money\" is...</td>\n      <td>positive</td>\n    </tr>\n    <tr>\n      <th>...</th>\n      <td>...</td>\n      <td>...</td>\n    </tr>\n    <tr>\n      <th>9995</th>\n      <td>Fun, entertaining movie about WWII German spy ...</td>\n      <td>positive</td>\n    </tr>\n    <tr>\n      <th>9996</th>\n      <td>Give me a break. How can anyone say that this ...</td>\n      <td>negative</td>\n    </tr>\n    <tr>\n      <th>9997</th>\n      <td>This movie is a bad movie. But after watching ...</td>\n      <td>negative</td>\n    </tr>\n    <tr>\n      <th>9998</th>\n      <td>This is a movie that was probably made to ente...</td>\n      <td>negative</td>\n    </tr>\n    <tr>\n      <th>9999</th>\n      <td>Smashing film about film-making. Shows the int...</td>\n      <td>positive</td>\n    </tr>\n  </tbody>\n</table>\n<p>9983 rows × 2 columns</p>\n</div>"
     },
     "execution_count": 15,
     "metadata": {},
     "output_type": "execute_result"
    }
   ],
   "source": [
    "df['review'] = df['review'].apply(remove_tags)\n",
    "df"
   ],
   "metadata": {
    "collapsed": false,
    "ExecuteTime": {
     "end_time": "2023-10-24T09:42:11.066868200Z",
     "start_time": "2023-10-24T09:42:11.046328400Z"
    }
   }
  },
  {
   "cell_type": "code",
   "execution_count": 16,
   "outputs": [
    {
     "name": "stderr",
     "output_type": "stream",
     "text": [
      "C:\\Users\\luthi\\AppData\\Local\\Temp\\ipykernel_8960\\4246960694.py:2: SettingWithCopyWarning: \n",
      "A value is trying to be set on a copy of a slice from a DataFrame.\n",
      "Try using .loc[row_indexer,col_indexer] = value instead\n",
      "\n",
      "See the caveats in the documentation: https://pandas.pydata.org/pandas-docs/stable/user_guide/indexing.html#returning-a-view-versus-a-copy\n",
      "  df['review'] = df['review'].apply(lambda x:x.lower())\n"
     ]
    },
    {
     "data": {
      "text/plain": "                                                 review sentiment\n0     one of the other reviewers has mentioned that ...  positive\n1     a wonderful little production. the filming tec...  positive\n2     i thought this was a wonderful way to spend ti...  positive\n3     basically there's a family where a little boy ...  negative\n4     petter mattei's \"love in the time of money\" is...  positive\n...                                                 ...       ...\n9995  fun, entertaining movie about wwii german spy ...  positive\n9996  give me a break. how can anyone say that this ...  negative\n9997  this movie is a bad movie. but after watching ...  negative\n9998  this is a movie that was probably made to ente...  negative\n9999  smashing film about film-making. shows the int...  positive\n\n[9983 rows x 2 columns]",
      "text/html": "<div>\n<style scoped>\n    .dataframe tbody tr th:only-of-type {\n        vertical-align: middle;\n    }\n\n    .dataframe tbody tr th {\n        vertical-align: top;\n    }\n\n    .dataframe thead th {\n        text-align: right;\n    }\n</style>\n<table border=\"1\" class=\"dataframe\">\n  <thead>\n    <tr style=\"text-align: right;\">\n      <th></th>\n      <th>review</th>\n      <th>sentiment</th>\n    </tr>\n  </thead>\n  <tbody>\n    <tr>\n      <th>0</th>\n      <td>one of the other reviewers has mentioned that ...</td>\n      <td>positive</td>\n    </tr>\n    <tr>\n      <th>1</th>\n      <td>a wonderful little production. the filming tec...</td>\n      <td>positive</td>\n    </tr>\n    <tr>\n      <th>2</th>\n      <td>i thought this was a wonderful way to spend ti...</td>\n      <td>positive</td>\n    </tr>\n    <tr>\n      <th>3</th>\n      <td>basically there's a family where a little boy ...</td>\n      <td>negative</td>\n    </tr>\n    <tr>\n      <th>4</th>\n      <td>petter mattei's \"love in the time of money\" is...</td>\n      <td>positive</td>\n    </tr>\n    <tr>\n      <th>...</th>\n      <td>...</td>\n      <td>...</td>\n    </tr>\n    <tr>\n      <th>9995</th>\n      <td>fun, entertaining movie about wwii german spy ...</td>\n      <td>positive</td>\n    </tr>\n    <tr>\n      <th>9996</th>\n      <td>give me a break. how can anyone say that this ...</td>\n      <td>negative</td>\n    </tr>\n    <tr>\n      <th>9997</th>\n      <td>this movie is a bad movie. but after watching ...</td>\n      <td>negative</td>\n    </tr>\n    <tr>\n      <th>9998</th>\n      <td>this is a movie that was probably made to ente...</td>\n      <td>negative</td>\n    </tr>\n    <tr>\n      <th>9999</th>\n      <td>smashing film about film-making. shows the int...</td>\n      <td>positive</td>\n    </tr>\n  </tbody>\n</table>\n<p>9983 rows × 2 columns</p>\n</div>"
     },
     "execution_count": 16,
     "metadata": {},
     "output_type": "execute_result"
    }
   ],
   "source": [
    "# set text in lower case\n",
    "df['review'] = df['review'].apply(lambda x:x.lower())\n",
    "df"
   ],
   "metadata": {
    "collapsed": false,
    "ExecuteTime": {
     "end_time": "2023-10-24T09:43:34.508179800Z",
     "start_time": "2023-10-24T09:43:34.487370300Z"
    }
   }
  },
  {
   "cell_type": "code",
   "execution_count": 18,
   "outputs": [
    {
     "name": "stderr",
     "output_type": "stream",
     "text": [
      "C:\\Users\\luthi\\AppData\\Local\\Temp\\ipykernel_8960\\2004513663.py:6: SettingWithCopyWarning: \n",
      "A value is trying to be set on a copy of a slice from a DataFrame.\n",
      "Try using .loc[row_indexer,col_indexer] = value instead\n",
      "\n",
      "See the caveats in the documentation: https://pandas.pydata.org/pandas-docs/stable/user_guide/indexing.html#returning-a-view-versus-a-copy\n",
      "  df['review'] = df['review'].apply(lambda x: [item for item in x.split() if item not in sw_list]).apply(lambda x:\" \".join(x))\n"
     ]
    },
    {
     "data": {
      "text/plain": "                                                 review sentiment\n0     one reviewers mentioned watching 1 oz episode ...  positive\n1     wonderful little production. filming technique...  positive\n2     thought wonderful way spend time hot summer we...  positive\n3     basically there's family little boy (jake) thi...  negative\n4     petter mattei's \"love time money\" visually stu...  positive\n...                                                 ...       ...\n9995  fun, entertaining movie wwii german spy (julie...  positive\n9996  give break. anyone say \"good hockey movie\"? kn...  negative\n9997  movie bad movie. watching endless series bad h...  negative\n9998  movie probably made entertain middle school, e...  negative\n9999  smashing film film-making. shows intense stran...  positive\n\n[9983 rows x 2 columns]",
      "text/html": "<div>\n<style scoped>\n    .dataframe tbody tr th:only-of-type {\n        vertical-align: middle;\n    }\n\n    .dataframe tbody tr th {\n        vertical-align: top;\n    }\n\n    .dataframe thead th {\n        text-align: right;\n    }\n</style>\n<table border=\"1\" class=\"dataframe\">\n  <thead>\n    <tr style=\"text-align: right;\">\n      <th></th>\n      <th>review</th>\n      <th>sentiment</th>\n    </tr>\n  </thead>\n  <tbody>\n    <tr>\n      <th>0</th>\n      <td>one reviewers mentioned watching 1 oz episode ...</td>\n      <td>positive</td>\n    </tr>\n    <tr>\n      <th>1</th>\n      <td>wonderful little production. filming technique...</td>\n      <td>positive</td>\n    </tr>\n    <tr>\n      <th>2</th>\n      <td>thought wonderful way spend time hot summer we...</td>\n      <td>positive</td>\n    </tr>\n    <tr>\n      <th>3</th>\n      <td>basically there's family little boy (jake) thi...</td>\n      <td>negative</td>\n    </tr>\n    <tr>\n      <th>4</th>\n      <td>petter mattei's \"love time money\" visually stu...</td>\n      <td>positive</td>\n    </tr>\n    <tr>\n      <th>...</th>\n      <td>...</td>\n      <td>...</td>\n    </tr>\n    <tr>\n      <th>9995</th>\n      <td>fun, entertaining movie wwii german spy (julie...</td>\n      <td>positive</td>\n    </tr>\n    <tr>\n      <th>9996</th>\n      <td>give break. anyone say \"good hockey movie\"? kn...</td>\n      <td>negative</td>\n    </tr>\n    <tr>\n      <th>9997</th>\n      <td>movie bad movie. watching endless series bad h...</td>\n      <td>negative</td>\n    </tr>\n    <tr>\n      <th>9998</th>\n      <td>movie probably made entertain middle school, e...</td>\n      <td>negative</td>\n    </tr>\n    <tr>\n      <th>9999</th>\n      <td>smashing film film-making. shows intense stran...</td>\n      <td>positive</td>\n    </tr>\n  </tbody>\n</table>\n<p>9983 rows × 2 columns</p>\n</div>"
     },
     "execution_count": 18,
     "metadata": {},
     "output_type": "execute_result"
    }
   ],
   "source": [
    "# remove stopwords\n",
    "from nltk.corpus import stopwords\n",
    "\n",
    "sw_list = stopwords.words('english')\n",
    "\n",
    "df['review'] = df['review'].apply(lambda x: [item for item in x.split() if item not in sw_list]).apply(lambda x:\" \".join(x))\n",
    "\n",
    "df"
   ],
   "metadata": {
    "collapsed": false,
    "ExecuteTime": {
     "end_time": "2023-10-24T09:50:50.798098300Z",
     "start_time": "2023-10-24T09:50:49.788561300Z"
    }
   }
  },
  {
   "cell_type": "markdown",
   "source": [
    "**Lets separate text and target in dataset:**"
   ],
   "metadata": {
    "collapsed": false
   }
  },
  {
   "cell_type": "code",
   "execution_count": 19,
   "outputs": [
    {
     "data": {
      "text/plain": "                                                 review\n0     one reviewers mentioned watching 1 oz episode ...\n1     wonderful little production. filming technique...\n2     thought wonderful way spend time hot summer we...\n3     basically there's family little boy (jake) thi...\n4     petter mattei's \"love time money\" visually stu...\n...                                                 ...\n9995  fun, entertaining movie wwii german spy (julie...\n9996  give break. anyone say \"good hockey movie\"? kn...\n9997  movie bad movie. watching endless series bad h...\n9998  movie probably made entertain middle school, e...\n9999  smashing film film-making. shows intense stran...\n\n[9983 rows x 1 columns]",
      "text/html": "<div>\n<style scoped>\n    .dataframe tbody tr th:only-of-type {\n        vertical-align: middle;\n    }\n\n    .dataframe tbody tr th {\n        vertical-align: top;\n    }\n\n    .dataframe thead th {\n        text-align: right;\n    }\n</style>\n<table border=\"1\" class=\"dataframe\">\n  <thead>\n    <tr style=\"text-align: right;\">\n      <th></th>\n      <th>review</th>\n    </tr>\n  </thead>\n  <tbody>\n    <tr>\n      <th>0</th>\n      <td>one reviewers mentioned watching 1 oz episode ...</td>\n    </tr>\n    <tr>\n      <th>1</th>\n      <td>wonderful little production. filming technique...</td>\n    </tr>\n    <tr>\n      <th>2</th>\n      <td>thought wonderful way spend time hot summer we...</td>\n    </tr>\n    <tr>\n      <th>3</th>\n      <td>basically there's family little boy (jake) thi...</td>\n    </tr>\n    <tr>\n      <th>4</th>\n      <td>petter mattei's \"love time money\" visually stu...</td>\n    </tr>\n    <tr>\n      <th>...</th>\n      <td>...</td>\n    </tr>\n    <tr>\n      <th>9995</th>\n      <td>fun, entertaining movie wwii german spy (julie...</td>\n    </tr>\n    <tr>\n      <th>9996</th>\n      <td>give break. anyone say \"good hockey movie\"? kn...</td>\n    </tr>\n    <tr>\n      <th>9997</th>\n      <td>movie bad movie. watching endless series bad h...</td>\n    </tr>\n    <tr>\n      <th>9998</th>\n      <td>movie probably made entertain middle school, e...</td>\n    </tr>\n    <tr>\n      <th>9999</th>\n      <td>smashing film film-making. shows intense stran...</td>\n    </tr>\n  </tbody>\n</table>\n<p>9983 rows × 1 columns</p>\n</div>"
     },
     "metadata": {},
     "output_type": "display_data"
    },
    {
     "data": {
      "text/plain": "0       positive\n1       positive\n2       positive\n3       negative\n4       positive\n          ...   \n9995    positive\n9996    negative\n9997    negative\n9998    negative\n9999    positive\nName: sentiment, Length: 9983, dtype: object"
     },
     "metadata": {},
     "output_type": "display_data"
    }
   ],
   "source": [
    "# Separate text and target\n",
    "X = df.iloc[:, 0:1]\n",
    "y = df['sentiment']\n",
    "\n",
    "display(X)\n",
    "display(y)"
   ],
   "metadata": {
    "collapsed": false,
    "ExecuteTime": {
     "end_time": "2023-10-24T09:52:42.918617800Z",
     "start_time": "2023-10-24T09:52:42.912316100Z"
    }
   }
  },
  {
   "cell_type": "markdown",
   "source": [
    "**Lets encode the target:**"
   ],
   "metadata": {
    "collapsed": false
   }
  },
  {
   "cell_type": "code",
   "execution_count": 20,
   "outputs": [
    {
     "name": "stdout",
     "output_type": "stream",
     "text": [
      "[1 1 1 ... 0 0 1]\n"
     ]
    }
   ],
   "source": [
    "from sklearn.preprocessing import LabelEncoder\n",
    "\n",
    "encoder = LabelEncoder()\n",
    "\n",
    "y = encoder.fit_transform(y)\n",
    "\n",
    "print(y)"
   ],
   "metadata": {
    "collapsed": false,
    "ExecuteTime": {
     "end_time": "2023-10-24T09:55:09.837494800Z",
     "start_time": "2023-10-24T09:55:09.835495300Z"
    }
   }
  },
  {
   "cell_type": "code",
   "execution_count": 21,
   "outputs": [
    {
     "name": "stdout",
     "output_type": "stream",
     "text": [
      "(7986, 1)\n"
     ]
    }
   ],
   "source": [
    "from sklearn.model_selection import train_test_split\n",
    "X_train, X_test, y_train, y_test = train_test_split(X,\n",
    "                                                    y,test_size = 0.2,\n",
    "                                                    random_state = 1)\n",
    "\n",
    "print(X_train.shape)"
   ],
   "metadata": {
    "collapsed": false,
    "ExecuteTime": {
     "end_time": "2023-10-24T09:57:36.188171600Z",
     "start_time": "2023-10-24T09:57:36.182053100Z"
    }
   }
  },
  {
   "cell_type": "markdown",
   "source": [
    "**Apply BoW:**"
   ],
   "metadata": {
    "collapsed": false
   }
  },
  {
   "cell_type": "code",
   "execution_count": 22,
   "outputs": [],
   "source": [
    "from sklearn.feature_extraction.text import CountVectorizer\n",
    "\n",
    "cv = CountVectorizer()\n",
    "\n",
    "X_train_bow = cv.fit_transform(X_train['review']).toarray()\n",
    "X_test_bow = cv.transform(X_test['review']).toarray()"
   ],
   "metadata": {
    "collapsed": false,
    "ExecuteTime": {
     "end_time": "2023-10-24T10:03:55.777750600Z",
     "start_time": "2023-10-24T10:03:54.194254300Z"
    }
   }
  },
  {
   "cell_type": "code",
   "execution_count": 23,
   "outputs": [
    {
     "data": {
      "text/plain": "(7986, 48282)"
     },
     "execution_count": 23,
     "metadata": {},
     "output_type": "execute_result"
    }
   ],
   "source": [
    "X_train_bow.shape"
   ],
   "metadata": {
    "collapsed": false,
    "ExecuteTime": {
     "end_time": "2023-10-24T10:24:19.762758900Z",
     "start_time": "2023-10-24T10:24:19.759262500Z"
    }
   }
  },
  {
   "cell_type": "markdown",
   "source": [
    "### 🟠 **Naive Bayes algorithm** 🟠\n",
    "\n",
    "Naive Bayes is a family of probabilistic algorithms that are based on applying Bayes' theorem with the \"naive\" assumption of independence between every pair of features.\n",
    "- **Gaussian Naive Bayes**:\n",
    "    The term \"Gaussian\" in GaussianNB indicates that it's specifically designed for data that follows a Gaussian (normal) distribution.\n",
    "    *Gaussian Naive Bayes assumes that the features are continuous and follow a Gaussian distribution*. It *also assumes that features are independent of each other* given the class.\n",
    "    - **Training Phase:**\n",
    "        During the training phase, GaussianNB *estimates the mean and standard deviation of each feature for each class* in the dataset.\n",
    "\n",
    "    - **Probability Calculation:**\n",
    "        *To make a prediction, GaussianNB calculates the conditional probability of each feature value given a class*. This is done using the probability density function of the normal distribution.\n",
    "\n",
    "    - **Class Prediction:**\n",
    "        Once the conditional probabilities are calculated for each feature, *the final class prediction is made by combining these probabilities using Bayes' theorem*.\n",
    "\n",
    "    - **Decision Rule:**\n",
    "        The decision rule of Gaussian Naive Bayes is *to choose the class with the highest posterior probability*.\n",
    "\n",
    "\n",
    "- **Multinomial Naive Bayes**:\n",
    "    Multinomial Naive Bayes is used for *classification tasks*, particularly in cases where *the features are discrete and represent counts*.\n",
    "    In Multinomial Naive Bayes, the features are typically represented as counts. This is often encountered in text classification tasks, where the features might represent the frequency of each word in a document.\n",
    "    - **Probability Model**:\n",
    "        It models the probability of observing a particular count for each feature, given a class label.\n",
    "\n",
    "    - **Assumption of Feature Independence**:\n",
    "        Like basic Naive Bayes, Multinomial Naive Bayes assumes that the features are independent of each other given the class label. This assumption simplifies the calculation of probabilities.\n",
    "\n",
    "    - **Parameter Estimation**:\n",
    "        The algorithm needs to estimate the probabilities needed for classification. For Multinomial Naive Bayes, this involves estimating the probability of observing each count for each feature, given each class label.\n",
    "\n",
    "    - **Classification**:\n",
    "        To classify a new sample, the algorithm uses Bayes' theorem to compute the conditional probability of each class given the observed counts. It then selects the class with the highest probability as the predicted class.\n",
    "\n",
    "    - **Smoothing**:\n",
    "        In practice, to handle cases where a feature count in a particular class is zero, a smoothing technique like Laplace smoothing (additive smoothing) is often applied. This ensures that even features not seen in training data have a non-zero probability.\n",
    "\n",
    "    - **Use Cases**:\n",
    "        - Multinomial Naive Bayes is commonly used in natural language processing tasks, such as text classification, spam filtering, sentiment analysis, and document categorization.\n",
    "\n",
    "        - It's also used in other domains where data is represented as discrete counts, such as image classification based on histograms of oriented gradients (HOG).\n",
    "\n",
    "    - **Limitations**:\n",
    "        - It assumes feature independence, which may not hold in all cases.\n",
    "        - It can be sensitive to the scale of the features.\n",
    "        - It may not perform well on tasks where the features are not well represented as counts."
   ],
   "metadata": {
    "collapsed": false
   }
  },
  {
   "cell_type": "markdown",
   "source": [
    "**Apply Naive Bayes to data with BoW:**"
   ],
   "metadata": {
    "collapsed": false
   }
  },
  {
   "cell_type": "code",
   "execution_count": 24,
   "outputs": [
    {
     "data": {
      "text/plain": "GaussianNB()",
      "text/html": "<style>#sk-container-id-1 {color: black;}#sk-container-id-1 pre{padding: 0;}#sk-container-id-1 div.sk-toggleable {background-color: white;}#sk-container-id-1 label.sk-toggleable__label {cursor: pointer;display: block;width: 100%;margin-bottom: 0;padding: 0.3em;box-sizing: border-box;text-align: center;}#sk-container-id-1 label.sk-toggleable__label-arrow:before {content: \"▸\";float: left;margin-right: 0.25em;color: #696969;}#sk-container-id-1 label.sk-toggleable__label-arrow:hover:before {color: black;}#sk-container-id-1 div.sk-estimator:hover label.sk-toggleable__label-arrow:before {color: black;}#sk-container-id-1 div.sk-toggleable__content {max-height: 0;max-width: 0;overflow: hidden;text-align: left;background-color: #f0f8ff;}#sk-container-id-1 div.sk-toggleable__content pre {margin: 0.2em;color: black;border-radius: 0.25em;background-color: #f0f8ff;}#sk-container-id-1 input.sk-toggleable__control:checked~div.sk-toggleable__content {max-height: 200px;max-width: 100%;overflow: auto;}#sk-container-id-1 input.sk-toggleable__control:checked~label.sk-toggleable__label-arrow:before {content: \"▾\";}#sk-container-id-1 div.sk-estimator input.sk-toggleable__control:checked~label.sk-toggleable__label {background-color: #d4ebff;}#sk-container-id-1 div.sk-label input.sk-toggleable__control:checked~label.sk-toggleable__label {background-color: #d4ebff;}#sk-container-id-1 input.sk-hidden--visually {border: 0;clip: rect(1px 1px 1px 1px);clip: rect(1px, 1px, 1px, 1px);height: 1px;margin: -1px;overflow: hidden;padding: 0;position: absolute;width: 1px;}#sk-container-id-1 div.sk-estimator {font-family: monospace;background-color: #f0f8ff;border: 1px dotted black;border-radius: 0.25em;box-sizing: border-box;margin-bottom: 0.5em;}#sk-container-id-1 div.sk-estimator:hover {background-color: #d4ebff;}#sk-container-id-1 div.sk-parallel-item::after {content: \"\";width: 100%;border-bottom: 1px solid gray;flex-grow: 1;}#sk-container-id-1 div.sk-label:hover label.sk-toggleable__label {background-color: #d4ebff;}#sk-container-id-1 div.sk-serial::before {content: \"\";position: absolute;border-left: 1px solid gray;box-sizing: border-box;top: 0;bottom: 0;left: 50%;z-index: 0;}#sk-container-id-1 div.sk-serial {display: flex;flex-direction: column;align-items: center;background-color: white;padding-right: 0.2em;padding-left: 0.2em;position: relative;}#sk-container-id-1 div.sk-item {position: relative;z-index: 1;}#sk-container-id-1 div.sk-parallel {display: flex;align-items: stretch;justify-content: center;background-color: white;position: relative;}#sk-container-id-1 div.sk-item::before, #sk-container-id-1 div.sk-parallel-item::before {content: \"\";position: absolute;border-left: 1px solid gray;box-sizing: border-box;top: 0;bottom: 0;left: 50%;z-index: -1;}#sk-container-id-1 div.sk-parallel-item {display: flex;flex-direction: column;z-index: 1;position: relative;background-color: white;}#sk-container-id-1 div.sk-parallel-item:first-child::after {align-self: flex-end;width: 50%;}#sk-container-id-1 div.sk-parallel-item:last-child::after {align-self: flex-start;width: 50%;}#sk-container-id-1 div.sk-parallel-item:only-child::after {width: 0;}#sk-container-id-1 div.sk-dashed-wrapped {border: 1px dashed gray;margin: 0 0.4em 0.5em 0.4em;box-sizing: border-box;padding-bottom: 0.4em;background-color: white;}#sk-container-id-1 div.sk-label label {font-family: monospace;font-weight: bold;display: inline-block;line-height: 1.2em;}#sk-container-id-1 div.sk-label-container {text-align: center;}#sk-container-id-1 div.sk-container {/* jupyter's `normalize.less` sets `[hidden] { display: none; }` but bootstrap.min.css set `[hidden] { display: none !important; }` so we also need the `!important` here to be able to override the default hidden behavior on the sphinx rendered scikit-learn.org. See: https://github.com/scikit-learn/scikit-learn/issues/21755 */display: inline-block !important;position: relative;}#sk-container-id-1 div.sk-text-repr-fallback {display: none;}</style><div id=\"sk-container-id-1\" class=\"sk-top-container\"><div class=\"sk-text-repr-fallback\"><pre>GaussianNB()</pre><b>In a Jupyter environment, please rerun this cell to show the HTML representation or trust the notebook. <br />On GitHub, the HTML representation is unable to render, please try loading this page with nbviewer.org.</b></div><div class=\"sk-container\" hidden><div class=\"sk-item\"><div class=\"sk-estimator sk-toggleable\"><input class=\"sk-toggleable__control sk-hidden--visually\" id=\"sk-estimator-id-1\" type=\"checkbox\" checked><label for=\"sk-estimator-id-1\" class=\"sk-toggleable__label sk-toggleable__label-arrow\">GaussianNB</label><div class=\"sk-toggleable__content\"><pre>GaussianNB()</pre></div></div></div></div></div>"
     },
     "execution_count": 24,
     "metadata": {},
     "output_type": "execute_result"
    }
   ],
   "source": [
    "from sklearn.naive_bayes import GaussianNB\n",
    "\n",
    "gnb = GaussianNB()\n",
    "\n",
    "gnb.fit(X_train_bow, y_train)"
   ],
   "metadata": {
    "collapsed": false,
    "ExecuteTime": {
     "end_time": "2023-10-24T10:25:34.284459Z",
     "start_time": "2023-10-24T10:25:29.716412800Z"
    }
   }
  },
  {
   "cell_type": "code",
   "execution_count": 25,
   "outputs": [],
   "source": [
    "y_pred = gnb.predict(X_test_bow)"
   ],
   "metadata": {
    "collapsed": false,
    "ExecuteTime": {
     "end_time": "2023-10-24T10:26:11.751828100Z",
     "start_time": "2023-10-24T10:26:10.544672700Z"
    }
   }
  },
  {
   "cell_type": "code",
   "execution_count": 29,
   "outputs": [
    {
     "name": "stdout",
     "output_type": "stream",
     "text": [
      "Accurary score for Naive Bayes in test data:\n"
     ]
    },
    {
     "data": {
      "text/plain": "0.6324486730095142"
     },
     "execution_count": 29,
     "metadata": {},
     "output_type": "execute_result"
    }
   ],
   "source": [
    "from sklearn.metrics import accuracy_score, confusion_matrix\n",
    "\n",
    "print('Accurary score for Naive Bayes in test data:')\n",
    "accuracy_score(y_test, y_pred)"
   ],
   "metadata": {
    "collapsed": false,
    "ExecuteTime": {
     "end_time": "2023-10-24T10:30:10.331231900Z",
     "start_time": "2023-10-24T10:30:10.326398800Z"
    }
   }
  },
  {
   "cell_type": "code",
   "execution_count": 30,
   "outputs": [
    {
     "data": {
      "text/plain": "<sklearn.metrics._plot.confusion_matrix.ConfusionMatrixDisplay at 0x2b49f0e4c10>"
     },
     "execution_count": 30,
     "metadata": {},
     "output_type": "execute_result"
    },
    {
     "data": {
      "text/plain": "<Figure size 640x480 with 2 Axes>",
      "image/png": "[encoded data removed]"
     },
     "metadata": {},
     "output_type": "display_data"
    }
   ],
   "source": [
    "from sklearn.metrics import ConfusionMatrixDisplay\n",
    "\n",
    "ConfusionMatrixDisplay.from_estimator(\n",
    "                        gnb,\n",
    "                        X_test_bow,\n",
    "                        y_test,\n",
    "                        values_format='d',\n",
    "                        display_labels=['Positive reviews','Negative reviews'])"
   ],
   "metadata": {
    "collapsed": false,
    "ExecuteTime": {
     "end_time": "2023-10-24T10:32:00.774853900Z",
     "start_time": "2023-10-24T10:31:59.461921300Z"
    }
   }
  },
  {
   "cell_type": "markdown",
   "source": [
    "**<span style=\"color:#028553; font-size: 15pt\"> Some extra Notes about the Confusion Matrix </span>**\n",
    "\n",
    "<span style=\"color:#028553\"> Plotting a confusion matrix allow us to have a clear and quick insight to our model performance.\n",
    "It is very easy to interpretate the result from a confusion matrix, basically the 'y-axis' represents the true label and 'x-axis' represents the predicted label. </span>\n",
    "\n",
    "<span style=\"color:#028553\"> From the confusion matrix, we calculate the Sensitivity (Recall), the Precision and the Specificity: </span>\n",
    "\n",
    "<span style=\"color:#028553\"> **Sensitivity**, also known as Recall or True Positive Rate, measures the proportion of actual positives that are correctly predicted as positives. It's especially important when correctly identifying positives is crucial. </span>\n",
    "\n",
    " $$\\text{Sensitivity} =  \\frac{\\text{True Positives}}{\\text{True Positives} + \\text{False Negatives}}$$\n",
    "\n",
    "<span style=\"color:#028553\"> In the experimental example, our model predicted a total of 1216 Positive Reviews, from which 171 of them are correctly predicted and 499 of them are wrongly predicted. Therefore, the Sensitivity will be aprox. 0.5896 $\\approx \\frac{717}{(717 + 499)}$  meaning that the model correctly predicted 59% approx. of the actual positives. </span>\n",
    "\n",
    "<span style=\"color:#028553\"> **Specificity**, also known as the True Negative Rate (TNR), is a metric used in binary classification tasks. It measures the proportion of actual negatives that are correctly predicted as negatives. Specificity is an important metric, especially in situations where correctly identifying negatives is critical, such as in medical diagnoses (where false negatives can be particularly costly). It provides a complementary view to sensitivity (True Positive Rate), and both metrics together give a more comprehensive evaluation of a binary classification model's performance. </span>\n",
    "$$\\text{Specificity} =  \\frac{\\text{True Negatives}}{\\text{True Negatives} + \\text{False Positives}}$$\n",
    "\n",
    "<span style=\"color:#028553\">  In the experimental example, our model predicted a total of 781 of Negative Reviews, from which 546 of them are correctly predicted and 235 of them are wrongly predicted. Therefore, the Specificity will be aprox. $0.5225 \\approx \\frac{546}{546 + 499}$  meaning that the model correctly predicted 52% approx. of the actual negative reviews </span>\n",
    "\n",
    "<span style=\"color:#028553\"> **Precision** measures the proportion of true positives among all positive predictions made by the model. It's particularly important when minimizing false positives is crucial. </span>\n",
    "$$\\text{Precision} =  \\frac{\\text{True Positives}}{\\text{True Positives} + \\text{False Positives}}$$\n",
    "\n",
    "<span style=\"color:#028553\"> In the experimental example, the Precision is approx. $0.5896 \\approx \\frac{717}{717 + 499}$, meaning that among all the instances predicted as positive, 59% approx. were actually positive. </span>"
   ],
   "metadata": {
    "collapsed": false
   }
  },
  {
   "cell_type": "markdown",
   "source": [
    "**Apply Random Forest Classifier to data with BoW:**"
   ],
   "metadata": {
    "collapsed": false
   }
  },
  {
   "cell_type": "code",
   "execution_count": 31,
   "outputs": [
    {
     "name": "stdout",
     "output_type": "stream",
     "text": [
      "Accurary score for Random Forest Classifier in test data:\n",
      "0.8442663995993991\n"
     ]
    }
   ],
   "source": [
    "from sklearn.ensemble import RandomForestClassifier\n",
    "\n",
    "rf = RandomForestClassifier()\n",
    "\n",
    "rf.fit(X_train_bow, y_train)\n",
    "\n",
    "y_pred = rf.predict(X_test_bow)\n",
    "\n",
    "print('Accurary score for Random Forest Classifier in test data:')\n",
    "print(accuracy_score(y_test,y_pred))"
   ],
   "metadata": {
    "collapsed": false,
    "ExecuteTime": {
     "end_time": "2023-10-24T10:38:15.081541300Z",
     "start_time": "2023-10-24T10:37:16.754287100Z"
    }
   }
  },
  {
   "cell_type": "markdown",
   "source": [
    "**Apply Bag of Words to data using `max_features` :**\n",
    "\n",
    "`max_features`:\n",
    "    - This parameter is an integer value that represents the maximum number of features (words) to keep in the vocabulary.\n",
    "    - The vocabulary if build based on the frequency of words in the corpus, and `max_features` restricts the number of words to be considered.\n",
    "    - It helps in limiting the size of the vocabulary and can be useful in situations where you want to focus on the most frequent words or reduce memory usage.\n"
   ],
   "metadata": {
    "collapsed": false
   }
  },
  {
   "cell_type": "code",
   "execution_count": 32,
   "outputs": [],
   "source": [
    "cv = CountVectorizer(max_features = 3000)\n",
    "\n",
    "X_train_bow = cv.fit_transform(X_train['review']).toarray()\n",
    "X_test_bow = cv.transform(X_test['review']).toarray()"
   ],
   "metadata": {
    "collapsed": false,
    "ExecuteTime": {
     "end_time": "2023-10-24T10:50:28.811544500Z",
     "start_time": "2023-10-24T10:50:27.955679500Z"
    }
   }
  },
  {
   "cell_type": "markdown",
   "source": [
    "**Apply Random Forest Classifier to data with BoW:**"
   ],
   "metadata": {
    "collapsed": false
   }
  },
  {
   "cell_type": "code",
   "execution_count": 33,
   "outputs": [
    {
     "name": "stdout",
     "output_type": "stream",
     "text": [
      "Accurary score for Random Forest Classifier in test data:\n",
      "0.8357536304456685\n"
     ]
    }
   ],
   "source": [
    "rf = RandomForestClassifier()\n",
    "\n",
    "rf.fit(X_train_bow, y_train)\n",
    "y_pred = rf.predict(X_test_bow)\n",
    "\n",
    "print('Accurary score for Random Forest Classifier in test data:')\n",
    "print(accuracy_score(y_test,y_pred))"
   ],
   "metadata": {
    "collapsed": false,
    "ExecuteTime": {
     "end_time": "2023-10-24T10:53:03.476605100Z",
     "start_time": "2023-10-24T10:52:56.454396400Z"
    }
   }
  },
  {
   "cell_type": "markdown",
   "source": [
    "## <a id='2'>2. Using N_Gram </a>\n"
   ],
   "metadata": {
    "collapsed": false
   }
  },
  {
   "cell_type": "code",
   "execution_count": 34,
   "outputs": [],
   "source": [
    "cv = CountVectorizer(ngram_range = (1,2))      # <--- the CountVectorizer will consider both unigrams (single words) and bigrams (pairs of consecutive words) during tokenization.\n",
    "\n",
    "X_train_bow = cv.fit_transform(X_train['review']).toarray()\n",
    "X_test_bow = cv.transform(X_test['review']).toarray()"
   ],
   "metadata": {
    "collapsed": false,
    "ExecuteTime": {
     "end_time": "2023-10-24T11:06:22.551710700Z",
     "start_time": "2023-10-24T11:06:18.607701400Z"
    }
   }
  },
  {
   "cell_type": "markdown",
   "source": [
    "**Apply Random Forest Classifier to data with n-grams:**"
   ],
   "metadata": {
    "collapsed": false
   }
  },
  {
   "cell_type": "code",
   "execution_count": 35,
   "outputs": [
    {
     "name": "stdout",
     "output_type": "stream",
     "text": [
      "Accurary score for Random Forest Classifier in test data:\n",
      "0.8457686529794692\n"
     ]
    }
   ],
   "source": [
    "rf = RandomForestClassifier()\n",
    "\n",
    "rf.fit(X_train_bow, y_train)\n",
    "y_pred = rf.predict(X_test_bow)\n",
    "\n",
    "print('Accurary score for Random Forest Classifier in test data:')\n",
    "print(accuracy_score(y_test,y_pred))"
   ],
   "metadata": {
    "collapsed": false,
    "ExecuteTime": {
     "end_time": "2023-10-24T11:21:02.668831300Z",
     "start_time": "2023-10-24T11:06:28.001220100Z"
    }
   }
  },
  {
   "cell_type": "markdown",
   "source": [
    "## <a id='3'>3. Using Tf-idf </a>"
   ],
   "metadata": {
    "collapsed": false
   }
  },
  {
   "cell_type": "code",
   "execution_count": 36,
   "outputs": [],
   "source": [
    "from sklearn.feature_extraction.text import TfidfVectorizer\n",
    "\n",
    "tfidf = TfidfVectorizer()\n",
    "\n",
    "X_train_tfidf = tfidf.fit_transform(X_train['review']).toarray()\n",
    "X_test_tfidf = tfidf.transform(X_test['review']).toarray()"
   ],
   "metadata": {
    "collapsed": false,
    "ExecuteTime": {
     "end_time": "2023-10-24T11:21:29.706110900Z",
     "start_time": "2023-10-24T11:21:28.545957400Z"
    }
   }
  },
  {
   "cell_type": "code",
   "execution_count": 37,
   "outputs": [
    {
     "name": "stdout",
     "output_type": "stream",
     "text": [
      "Accurary score for Random Forest Classifier in test data:\n",
      "0.8477716574862293\n"
     ]
    }
   ],
   "source": [
    "rf = RandomForestClassifier()\n",
    "\n",
    "rf.fit(X_train_tfidf, y_train)\n",
    "y_pred = rf.predict(X_test_tfidf)\n",
    "\n",
    "print('Accurary score for Random Forest Classifier in test data:')\n",
    "print(accuracy_score(y_test,y_pred))"
   ],
   "metadata": {
    "collapsed": false,
    "ExecuteTime": {
     "end_time": "2023-10-24T11:22:31.555564300Z",
     "start_time": "2023-10-24T11:21:33.025354300Z"
    }
   }
  },
  {
   "cell_type": "markdown",
   "source": [
    "## <a id='4'>4. Using Word2Vec </a>"
   ],
   "metadata": {
    "collapsed": false
   }
  },
  {
   "cell_type": "code",
   "execution_count": 40,
   "outputs": [],
   "source": [
    "# Get the first 10000 rows of temp_df\n",
    "df = temp_df.iloc[:10000]"
   ],
   "metadata": {
    "collapsed": false,
    "ExecuteTime": {
     "end_time": "2023-10-24T11:29:33.241966800Z",
     "start_time": "2023-10-24T11:29:32.444118400Z"
    }
   }
  },
  {
   "cell_type": "markdown",
   "source": [
    "1. **Drop duplicates from data:**\n",
    "\n",
    "2. **Lets do some basic preprocessing:**\n",
    "    - Remove tags\n",
    "    - Lowercase\n",
    "    - Remove stopwords"
   ],
   "metadata": {
    "collapsed": false
   }
  },
  {
   "cell_type": "code",
   "execution_count": 41,
   "outputs": [
    {
     "name": "stderr",
     "output_type": "stream",
     "text": [
      "C:\\Users\\luthi\\AppData\\Local\\Temp\\ipykernel_8960\\3200671228.py:2: SettingWithCopyWarning: \n",
      "A value is trying to be set on a copy of a slice from a DataFrame\n",
      "\n",
      "See the caveats in the documentation: https://pandas.pydata.org/pandas-docs/stable/user_guide/indexing.html#returning-a-view-versus-a-copy\n",
      "  df.drop_duplicates(inplace = True)\n",
      "C:\\Users\\luthi\\AppData\\Local\\Temp\\ipykernel_8960\\3200671228.py:8: SettingWithCopyWarning: \n",
      "A value is trying to be set on a copy of a slice from a DataFrame.\n",
      "Try using .loc[row_indexer,col_indexer] = value instead\n",
      "\n",
      "See the caveats in the documentation: https://pandas.pydata.org/pandas-docs/stable/user_guide/indexing.html#returning-a-view-versus-a-copy\n",
      "  df['review'] = df['review'].apply(remove_tags)\n",
      "C:\\Users\\luthi\\AppData\\Local\\Temp\\ipykernel_8960\\3200671228.py:11: SettingWithCopyWarning: \n",
      "A value is trying to be set on a copy of a slice from a DataFrame.\n",
      "Try using .loc[row_indexer,col_indexer] = value instead\n",
      "\n",
      "See the caveats in the documentation: https://pandas.pydata.org/pandas-docs/stable/user_guide/indexing.html#returning-a-view-versus-a-copy\n",
      "  df['review'] = df['review'].apply(lambda x:x.lower())\n",
      "C:\\Users\\luthi\\AppData\\Local\\Temp\\ipykernel_8960\\3200671228.py:15: SettingWithCopyWarning: \n",
      "A value is trying to be set on a copy of a slice from a DataFrame.\n",
      "Try using .loc[row_indexer,col_indexer] = value instead\n",
      "\n",
      "See the caveats in the documentation: https://pandas.pydata.org/pandas-docs/stable/user_guide/indexing.html#returning-a-view-versus-a-copy\n",
      "  df['review'] = df['review'].apply(lambda x: [item for item in x.split() if item not in sw_list]).apply(lambda x:\" \".join(x))\n"
     ]
    }
   ],
   "source": [
    "# Lets drop the duplicates\n",
    "df.drop_duplicates(inplace = True)\n",
    "\n",
    "# Delete the tag characters\n",
    "def remove_tags(raw_text):\n",
    "    cleaned_text = re.sub(re.compile('<.*?>'), '', raw_text)\n",
    "    return cleaned_text\n",
    "df['review'] = df['review'].apply(remove_tags)\n",
    "\n",
    "# set text in lower case\n",
    "df['review'] = df['review'].apply(lambda x:x.lower())\n",
    "\n",
    "# Remove stopwords\n",
    "sw_list = stopwords.words('english')\n",
    "df['review'] = df['review'].apply(lambda x: [item for item in x.split() if item not in sw_list]).apply(lambda x:\" \".join(x))"
   ],
   "metadata": {
    "collapsed": false,
    "ExecuteTime": {
     "end_time": "2023-10-24T11:51:09.204775900Z",
     "start_time": "2023-10-24T11:51:07.362308100Z"
    }
   }
  },
  {
   "cell_type": "markdown",
   "source": [
    "3. **Load, tokenize and apply basic preprocessing to the Games of Thrones Books**"
   ],
   "metadata": {
    "collapsed": false
   }
  },
  {
   "cell_type": "code",
   "execution_count": 42,
   "outputs": [],
   "source": [
    "import gensim\n",
    "from nltk import sent_tokenize\n",
    "from gensim.utils import simple_preprocess"
   ],
   "metadata": {
    "collapsed": false,
    "ExecuteTime": {
     "end_time": "2023-10-24T11:51:57.688066Z",
     "start_time": "2023-10-24T11:51:57.683554200Z"
    }
   }
  },
  {
   "cell_type": "code",
   "execution_count": 43,
   "outputs": [],
   "source": [
    "story = []\n",
    "for doc in df['review']:\n",
    "    raw_sent = sent_tokenize(doc)  # --->  Uses sent_tokenize to tokenize the 'corpus' into individual sentences.\n",
    "    for sent in raw_sent:\n",
    "        story.append(simple_preprocess(sent))  # --->  Tokenize and basic preprocessing tasks to each sentence."
   ],
   "metadata": {
    "collapsed": false,
    "ExecuteTime": {
     "end_time": "2023-10-24T11:52:17.724320800Z",
     "start_time": "2023-10-24T11:52:15.658342100Z"
    }
   }
  },
  {
   "cell_type": "markdown",
   "source": [
    "4. **Train and apply Word2Vec on data**"
   ],
   "metadata": {
    "collapsed": false
   }
  },
  {
   "cell_type": "code",
   "execution_count": 44,
   "outputs": [],
   "source": [
    "# Instantiate the Word2vec model\n",
    "model = gensim.models.Word2Vec(window = 10,\n",
    "                               min_count = 2)"
   ],
   "metadata": {
    "collapsed": false,
    "ExecuteTime": {
     "end_time": "2023-10-24T11:52:39.710122300Z",
     "start_time": "2023-10-24T11:52:39.705130800Z"
    }
   }
  },
  {
   "cell_type": "code",
   "execution_count": 45,
   "outputs": [],
   "source": [
    "# Create the Vocabulary of \"story\" based on 'model'\n",
    "model.build_vocab(story)"
   ],
   "metadata": {
    "collapsed": false,
    "ExecuteTime": {
     "end_time": "2023-10-24T11:54:12.061831900Z",
     "start_time": "2023-10-24T11:54:11.583338600Z"
    }
   }
  },
  {
   "cell_type": "code",
   "execution_count": 46,
   "outputs": [
    {
     "data": {
      "text/plain": "(5876438, 6212140)"
     },
     "execution_count": 46,
     "metadata": {},
     "output_type": "execute_result"
    }
   ],
   "source": [
    "# Train the Word2Vec model on data\n",
    "model.train(story,\n",
    "            total_examples = model.corpus_count,\n",
    "            epochs = model.epochs)"
   ],
   "metadata": {
    "collapsed": false,
    "ExecuteTime": {
     "end_time": "2023-10-24T11:56:01.620456Z",
     "start_time": "2023-10-24T11:55:59.079451800Z"
    }
   }
  },
  {
   "cell_type": "code",
   "execution_count": 47,
   "outputs": [
    {
     "data": {
      "text/plain": "31845"
     },
     "execution_count": 47,
     "metadata": {},
     "output_type": "execute_result"
    }
   ],
   "source": [
    "# Length of list of words (or keys) in the vocabulary\n",
    "len(model.wv.index_to_key)"
   ],
   "metadata": {
    "collapsed": false,
    "ExecuteTime": {
     "end_time": "2023-10-24T11:56:49.773790600Z",
     "start_time": "2023-10-24T11:56:49.768799600Z"
    }
   }
  },
  {
   "cell_type": "code",
   "execution_count": 48,
   "outputs": [],
   "source": [
    "# Remove out-of-vocabulary words\n",
    "def document_vector(doc):\n",
    "    # Remove out-of-vocabulary words\n",
    "    doc = [word for word in doc.split() if word in model.wv.index_to_key]\n",
    "    return np.mean(model.wv[doc], axis = 0)"
   ],
   "metadata": {
    "collapsed": false,
    "ExecuteTime": {
     "end_time": "2023-10-24T12:03:41.819737400Z",
     "start_time": "2023-10-24T12:03:41.816230200Z"
    }
   }
  },
  {
   "cell_type": "code",
   "execution_count": 49,
   "outputs": [
    {
     "data": {
      "text/plain": "array([-0.14418341,  0.47559392,  0.19515002,  0.23836182, -0.05655508,\n       -0.5526392 ,  0.2441254 ,  0.9483166 , -0.35702422, -0.19181404,\n       -0.32290387, -0.45217296,  0.06173041,  0.04412324,  0.16994618,\n       -0.11078908,  0.03557588, -0.39107296, -0.02212032, -0.63197136,\n        0.03777236,  0.21918067,  0.06501037, -0.2923352 , -0.32986078,\n       -0.03946289, -0.2850879 ,  0.06176826, -0.30822036,  0.02323546,\n        0.39207152,  0.01210418,  0.1554405 , -0.31300798, -0.18270425,\n        0.3628268 ,  0.08114345, -0.4453991 , -0.23205557, -0.77038664,\n        0.10267307, -0.24430223,  0.05880289, -0.0329139 ,  0.48006156,\n       -0.11530486, -0.24894851, -0.00902762,  0.0545862 ,  0.36617106,\n        0.07370886, -0.3451657 , -0.40710917, -0.11891271, -0.15766118,\n        0.22964291,  0.17435838,  0.07251796, -0.2903165 ,  0.0796032 ,\n        0.0776647 ,  0.11634725,  0.02177638, -0.13428552, -0.48290095,\n        0.21030529,  0.02306757,  0.16489877, -0.38148543,  0.23919214,\n       -0.309748  ,  0.09361311,  0.60687524, -0.08815264,  0.35781   ,\n        0.13929649,  0.0099046 , -0.11416484, -0.5340158 ,  0.13509965,\n       -0.37065265,  0.05071159, -0.4266465 ,  0.43878293, -0.15113175,\n       -0.20659234, -0.05577715,  0.302503  ,  0.31195056,  0.06765675,\n        0.26153478,  0.19353883,  0.0066888 ,  0.08404063,  0.69294316,\n        0.31765726,  0.12695454, -0.1819373 , -0.04515548, -0.1790599 ],\n      dtype=float32)"
     },
     "execution_count": 49,
     "metadata": {},
     "output_type": "execute_result"
    }
   ],
   "source": [
    "document_vector(df['review'].values[0])"
   ],
   "metadata": {
    "collapsed": false,
    "ExecuteTime": {
     "end_time": "2023-10-24T12:04:12.404869300Z",
     "start_time": "2023-10-24T12:04:12.373225300Z"
    }
   }
  },
  {
   "cell_type": "markdown",
   "source": [
    "**taqaddum (tqdm)**\n",
    "\n",
    "**`tqdm`** is a popular Python library that provides a progress bar for loops or tasks that take a long time to complete. It stands for \"taqaddum\" which means \"progress\" in Arabic. Once imported, you can use tqdm to wrap an iterable (like a list, range, or any other iterable object) to monitor the progress of a loop.\n",
    "\n",
    "**`tqdm`** is especially useful when you have loops that may take a significant amount of time to complete, and you want to keep track of the progress. It provides a nice visual feedback for long-running tasks."
   ],
   "metadata": {
    "collapsed": false
   }
  },
  {
   "cell_type": "code",
   "execution_count": 50,
   "outputs": [],
   "source": [
    "from tqdm import tqdm"
   ],
   "metadata": {
    "collapsed": false,
    "ExecuteTime": {
     "end_time": "2023-10-24T12:10:33.950989900Z",
     "start_time": "2023-10-24T12:10:33.913094200Z"
    }
   }
  },
  {
   "cell_type": "code",
   "execution_count": 51,
   "outputs": [
    {
     "name": "stderr",
     "output_type": "stream",
     "text": [
      "100%|██████████| 9983/9983 [02:00<00:00, 82.98it/s] \n"
     ]
    }
   ],
   "source": [
    "X = []\n",
    "\n",
    "for doc in tqdm(df['review'].values):\n",
    "    X.append(document_vector(doc))"
   ],
   "metadata": {
    "collapsed": false,
    "ExecuteTime": {
     "end_time": "2023-10-24T12:13:25.651017700Z",
     "start_time": "2023-10-24T12:11:25.329555100Z"
    }
   }
  },
  {
   "cell_type": "code",
   "execution_count": 52,
   "outputs": [
    {
     "name": "stdout",
     "output_type": "stream",
     "text": [
      "(9983, 100)\n"
     ]
    }
   ],
   "source": [
    "# Set X of type array\n",
    "X = np.array(X)\n",
    "\n",
    "# print the shape of the dataset after removing the out-of-vocabulary words\n",
    "print(X.shape)"
   ],
   "metadata": {
    "collapsed": false,
    "ExecuteTime": {
     "end_time": "2023-10-24T12:13:35.360413600Z",
     "start_time": "2023-10-24T12:13:35.353456Z"
    }
   }
  },
  {
   "cell_type": "markdown",
   "source": [
    "5. **Encode the target:**"
   ],
   "metadata": {
    "collapsed": false
   }
  },
  {
   "cell_type": "code",
   "execution_count": 53,
   "outputs": [
    {
     "name": "stdout",
     "output_type": "stream",
     "text": [
      "[1 1 1 ... 0 0 1]\n"
     ]
    }
   ],
   "source": [
    "from sklearn.preprocessing import LabelEncoder\n",
    "\n",
    "encoder = LabelEncoder()\n",
    "\n",
    "y = encoder.fit_transform(df['sentiment'])\n",
    "\n",
    "print(y)"
   ],
   "metadata": {
    "collapsed": false,
    "ExecuteTime": {
     "end_time": "2023-10-24T16:53:53.050579700Z",
     "start_time": "2023-10-24T16:53:53.027036700Z"
    }
   }
  },
  {
   "cell_type": "markdown",
   "source": [
    "6. **Split data into training and test datasets**"
   ],
   "metadata": {
    "collapsed": false
   }
  },
  {
   "cell_type": "code",
   "execution_count": 54,
   "outputs": [],
   "source": [
    "from sklearn.model_selection import train_test_split\n",
    "\n",
    "X_train, X_test, y_train, y_test = train_test_split(X,\n",
    "                                                    y,\n",
    "                                                    test_size = 0.2,\n",
    "                                                    random_state = 1)"
   ],
   "metadata": {
    "collapsed": false,
    "ExecuteTime": {
     "end_time": "2023-10-24T16:56:46.185215700Z",
     "start_time": "2023-10-24T16:56:46.175118100Z"
    }
   }
  },
  {
   "cell_type": "markdown",
   "source": [
    "7.1. **Apply Naive Bayes to data with Word2Vec**"
   ],
   "metadata": {
    "collapsed": false
   }
  },
  {
   "cell_type": "code",
   "execution_count": 55,
   "outputs": [
    {
     "name": "stdout",
     "output_type": "stream",
     "text": [
      "Accurary score for in test data with Word2Vec:\n",
      "0.7310966449674512\n"
     ]
    }
   ],
   "source": [
    "from sklearn.naive_bayes import GaussianNB\n",
    "from sklearn.metrics import accuracy_score\n",
    "\n",
    "mnb = GaussianNB()\n",
    "\n",
    "mnb.fit(X_train, y_train)\n",
    "y_pred = mnb.predict(X_test)\n",
    "\n",
    "print('Accurary score for Naive Bayes in test data with Word2Vec:')\n",
    "print(accuracy_score(y_test,y_pred))"
   ],
   "metadata": {
    "collapsed": false,
    "ExecuteTime": {
     "end_time": "2023-10-24T17:01:36.911551200Z",
     "start_time": "2023-10-24T17:01:36.889637400Z"
    }
   }
  },
  {
   "cell_type": "markdown",
   "source": [
    "7.2. **Apply Random Forest to data with Word2Vec**"
   ],
   "metadata": {
    "collapsed": false
   }
  },
  {
   "cell_type": "code",
   "execution_count": 57,
   "outputs": [
    {
     "name": "stdout",
     "output_type": "stream",
     "text": [
      "Accurary score for Random Forest in test data with Word2Vec:\n",
      "0.7731597396094141\n"
     ]
    }
   ],
   "source": [
    "from sklearn.ensemble import RandomForestClassifier\n",
    "from sklearn.metrics import accuracy_score\n",
    "\n",
    "mrf =RandomForestClassifier()\n",
    "\n",
    "mrf.fit(X_train, y_train)\n",
    "y_pred = mrf.predict(X_test)\n",
    "\n",
    "print('Accurary score for Random Forest in test data with Word2Vec:')\n",
    "print(accuracy_score(y_test,y_pred))"
   ],
   "metadata": {
    "collapsed": false,
    "ExecuteTime": {
     "end_time": "2023-10-25T08:59:26.343786700Z",
     "start_time": "2023-10-25T08:59:12.622001100Z"
    }
   }
  },
  {
   "cell_type": "markdown",
   "source": [],
   "metadata": {
    "collapsed": false
   }
  }
 ],
 "metadata": {
  "kernelspec": {
   "display_name": "Python 3",
   "language": "python",
   "name": "python3"
  },
  "language_info": {
   "codemirror_mode": {
    "name": "ipython",
    "version": 2
   },
   "file_extension": ".py",
   "mimetype": "text/x-python",
   "name": "python",
   "nbconvert_exporter": "python",
   "pygments_lexer": "ipython2",
   "version": "2.7.6"
  }
 },
 "nbformat": 4,
 "nbformat_minor": 0
}
