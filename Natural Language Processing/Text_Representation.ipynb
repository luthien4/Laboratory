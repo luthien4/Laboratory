{
 "cells": [
  {
   "cell_type": "markdown",
   "source": [
    "<div style=\"color:white; background-color: black; padding: 20px; border-radius:8px; font-size:26px\"><b style=\"font-weight: 700;\"><center>LEARNING NLP </center></b></div>"
   ],
   "metadata": {
    "collapsed": false
   }
  },
  {
   "cell_type": "markdown",
   "source": [
    "<div style=\"color:white; background-color: black; padding: 20px; border-radius:8px; font-size:20px\"><b style=\"font-weight: 700;\"><center> Text Representation </center></b></div>"
   ],
   "metadata": {
    "collapsed": false
   }
  },
  {
   "cell_type": "markdown",
   "source": [
    "<div style=\"background-color:  #eddcd2; padding: 10px;\">\n",
    "\n",
    "### Experimental Data\n",
    "\n",
    "</div>"
   ],
   "metadata": {
    "collapsed": false
   }
  },
  {
   "cell_type": "markdown",
   "source": [
    "\n",
    "Tweets about Covid, collected from [here](https://www.kaggle.com/datasets/lakshmi25npathi/coronavirus-tweets-dataset)\n",
    "\n",
    "Games of Thrones, collected from [here](https://www.kaggle.com/datasets/khulasasndh/game-of-thrones-books)\n",
    "\n",
    "fastText English Word Vectors from [here](https://www.kaggle.com/code/nkitgupta/text-representations/input)\n"
   ],
   "metadata": {
    "collapsed": false
   }
  },
  {
   "cell_type": "markdown",
   "source": [
    "### **Common Terms in NLP:**\n",
    "- **Corpus**: is the entire collection of texts used for analysis or modeling (machine learning tasks, or to train NLP models)\n",
    "    - *Example*: The entire collection of Wikipedia articles in English, a collection of legal documents, or a set of medical research papers can all be considered corpora.\n",
    "- **Vocabulary** ($V$): is the set of unique words (or tokens) present in a corpus. It represents the entire lexical repertoire of a language or domain.\n",
    "    - *Example*: In a corpus of scientific articles, the vocabulary would include terms like \"hypothesis,\" \"experiment,\" \"data,\" etc.\n",
    "- **Document**: is a single unit of text within the corpus, often representing a separate entity. It can be a single article, a sentence, a paragraph, or any chunk of text that is considered as a separate entity for analysis.\n",
    "    - *Example*: In a corpus of news articles, each individual news article is considered a document.\n",
    "- **Word**: is the basic linguistic unit, which can be a single word or a tokenized element in a text. These tokens can be words, punctuation marks, or other meaningful units.\n",
    "    - *Example*: In the sentence \"The quick brown fox jumps over the lazy dog,\" the words are \"The,\" \"quick,\" \"brown,\" \"fox,\" \"jumps,\" \"over,\" \"the,\" \"lazy,\" and \"dog.\"\n",
    "\n",
    "---\n",
    "\n",
    "**Core Intuition**\n",
    "\n",
    "In the context of Natural Language Processing (NLP), \"core intuition\" refers to the fundamental understanding or insight that underlies the way humans process and understand language. It is the foundational principle that guides the development of NLP models and algorithms.\n",
    "\n",
    "Here are some core intuitions in NLP:\n",
    "\n",
    "- *Semantics and Syntax*:\n",
    "    - Understanding that language has both semantic (meaning) and syntactic (grammar and structure) components. This intuition guides the development of models that can grasp the meaning of sentences and understand their grammatical structure.\n",
    "\n",
    "- *Context Matters*:\n",
    "    - Recognizing that the meaning of a word or phrase can change based on the surrounding context. For example, the word \"bank\" has different meanings in \"river bank\" and \"financial bank.\"\n",
    "\n",
    "- *Ambiguity*:\n",
    "    - Acknowledging that language can be ambiguous, with words or phrases having multiple possible interpretations. NLP models need to be able to handle this ambiguity.\n",
    "\n",
    "- *Sequential Information*:\n",
    "    - Appreciating that the order of words in a sentence carries important information. This is particularly crucial for tasks like machine translation or sentiment analysis.\n",
    "\n",
    "- *Domain Specificity*:\n",
    "    - Understanding that language can be highly specialized and context-dependent, especially in technical or domain-specific domains. NLP models may need to adapt to different domains.\n",
    "\n",
    "- *Pragmatics and Contextual Inference*:\n",
    "    - Realizing that communication often relies on pragmatic aspects, such as implicatures, presuppositions, and conversational implicatures. NLP models may need to infer information beyond the explicit content of a sentence.\n",
    "\n",
    "- *Linguistic Variation*:\n",
    "    - Recognizing that language use can vary widely based on factors like dialect, socio-cultural context, and individual idiosyncrasies. NLP models need to be robust to these variations.\n",
    "\n",
    "- *Figurative Language*:\n",
    "    - Understanding that language can include metaphors, similes, and other figurative expressions. NLP models may need to recognize and interpret these non-literal uses of language.\n",
    "\n",
    "These core intuitions serve as the basis for developing NLP models that can perform tasks like sentiment analysis, text classification, machine translation, question answering, and more. They guide researchers and practitioners in designing algorithms that can effectively process and understand human language."
   ],
   "metadata": {
    "collapsed": false
   }
  },
  {
   "cell_type": "markdown",
   "source": [
    "<div class=\"list-group\" id=\"list-tab\" role=\"tablist\">\n",
    "\n",
    "## TABLE OF CONTENTS\n",
    "\n",
    "- <a href='#1'>1. IMPORTING LIBRARIES</a>\n",
    "- <a href='#2'>2. LOADING CLEANED DATA</a>\n",
    "- <a href='#3'>3. DATA SPLITTING</a>\n",
    "- <a href='#4'>4. TEXT REPRESENTATION</a>\n",
    "    - <a href='#4-1'>4.1 BASIC TEXT REPRESENTATION (VECTORIZATION)</a>\n",
    "        - <a href='#4-1-1'>4.1.1 One Hot Encoding</a>\n",
    "        - <a href='#4-1-2'>4.1.2 Bag of Words</a>\n",
    "        - <a href='#4-1-3'>4.1.3 Bag of N-grams</a>\n",
    "        - <a href='#4-1-4'>4.1.4 Term frequency - Inverse document frequency </a>\n",
    "    - <a href='#4-2'>4.2 DISTRIBUTED TEXT REPRESENTATION (VECTORIZATION)</a>\n",
    "        - <a href='#4-2-1'>4.2.1 Word2Vec Word Embedding </a>\n",
    "        - <a href='#4-2-2'>4.2.2 GloVe Word Embeddings </a>\n",
    "        - <a href='#4-2-3'>4.2.3 FastText Word Embeddings </a>\n",
    "        - <a href='#4-2-4'>4.2.4 Visualizing Embeddings </a>\n",
    "\n",
    "</div>"
   ],
   "metadata": {
    "collapsed": false
   }
  },
  {
   "cell_type": "markdown",
   "source": [
    "# <a id='1'>1. Importing Libraries </a>\n"
   ],
   "metadata": {
    "collapsed": false
   }
  },
  {
   "cell_type": "code",
   "execution_count": 5,
   "outputs": [],
   "source": [
    "import pandas as pd\n",
    "import numpy as np                          # for working with arrays and matrices\n",
    "\n",
    "pd.set_option('display.max_rows', 500)      # Set max number of rows displayed\n",
    "pd.set_option('display.max_columns', 500)   # Set max number of columns displayed\n",
    "pd.set_option('display.width', 1000)\n",
    "\n",
    "# Regex pkg\n",
    "import re\n",
    "\n",
    "# String and time module\n",
    "import string, time\n",
    "\n",
    "# Visualizations\n",
    "import matplotlib.pyplot as plt             # for creating plots\n",
    "from matplotlib.colors import ListedColormap\n",
    "%matplotlib inline\n",
    "import seaborn as sns\n",
    "import plotly\n",
    "\n",
    "# Split pkgs\n",
    "from sklearn.model_selection import train_test_split\n",
    "\n",
    "from scipy.stats import skew\n",
    "import statsmodels.api as sm\n",
    "\n",
    "# Save and load pkgs\n",
    "from pickle import dump, load\n",
    "\n",
    "import warnings\n",
    "warnings.filterwarnings(\"ignore\")\n",
    "warnings.filterwarnings(action='ignore', category=DeprecationWarning)"
   ],
   "metadata": {
    "collapsed": false,
    "ExecuteTime": {
     "end_time": "2023-10-23T10:42:54.075716300Z",
     "start_time": "2023-10-23T10:42:52.328647Z"
    }
   }
  },
  {
   "cell_type": "markdown",
   "source": [
    "# <a id='2'>2. Loading cleaned dataset </a>"
   ],
   "metadata": {
    "collapsed": false
   }
  },
  {
   "cell_type": "code",
   "execution_count": 2,
   "outputs": [],
   "source": [
    "import pickle\n",
    "\n",
    "with open('cleaned_tweets_data.pkl', 'rb') as file:\n",
    "    df = pickle.load(file)"
   ],
   "metadata": {
    "collapsed": false,
    "ExecuteTime": {
     "end_time": "2023-10-18T09:36:33.669728200Z",
     "start_time": "2023-10-18T09:36:33.137854600Z"
    }
   }
  },
  {
   "cell_type": "markdown",
   "source": [
    "## <a id='3'>3 Train-Test Split of Data</a>"
   ],
   "metadata": {
    "collapsed": false
   }
  },
  {
   "cell_type": "code",
   "execution_count": 3,
   "outputs": [
    {
     "name": "stdout",
     "output_type": "stream",
     "text": [
      "(32925, 6)\n",
      "(32925,)\n",
      "(8232, 6)\n",
      "(8232,)\n"
     ]
    }
   ],
   "source": [
    "# SPLIT DATA\n",
    "X_train, X_test, Y_train, Y_test = train_test_split(df.drop('Sentiment', axis = 1),\n",
    "                                                    df['Sentiment'],\n",
    "                                                    train_size=0.8,                            # <--- 80% train and 20% test\n",
    "                                                    random_state=42)\n",
    "\n",
    "print(X_train.shape)\n",
    "print(Y_train.shape)\n",
    "print(X_test.shape)\n",
    "print(Y_test.shape)"
   ],
   "metadata": {
    "collapsed": false,
    "ExecuteTime": {
     "end_time": "2023-10-18T09:36:37.559258200Z",
     "start_time": "2023-10-18T09:36:37.543420900Z"
    }
   }
  },
  {
   "cell_type": "markdown",
   "source": [
    "### **Feature Extraction from Text**"
   ],
   "metadata": {
    "collapsed": false
   }
  },
  {
   "cell_type": "markdown",
   "source": [
    "**Feature Extraction from Text** involves **converting raw text data into a numerical format** that can be used as input for machine learning models. This is a crucial step in natural language processing (NLP) tasks, as most machine learning algorithms require numerical input. The extracted features are then used as input for machine learning models to perform tasks like classification, regression, clustering, and more. The choice of feature extraction technique depends on the specific NLP task, the nature of the data, and the characteristics of the text corpus.\n",
    "\n",
    "Here are **some common techniques** for feature extraction from text:\n",
    "\n",
    "- *Bag of Words (BoW)*:\n",
    "    - BoW represents text data as a collection of words, disregarding grammar and word order. It creates a vocabulary of all unique words in a corpus and counts the frequency of each word in a document. Each document is then represented as a vector where each element corresponds to the frequency of a word in the vocabulary.\n",
    "<br>\n",
    "\n",
    "- *Term Frequency-Inverse Document Frequency (TF-IDF)*:\n",
    "    - TF-IDF is a numerical statistic that reflects the importance of a word in a document relative to a collection of documents (corpus). It takes into account both the frequency of a word in a document (Term Frequency) and the rarity of the word in the entire corpus (Inverse Document Frequency).\n",
    "<br>\n",
    "\n",
    "- *Word Embeddings*:\n",
    "    - Word embeddings are dense, low-dimensional vectors that represent words in a continuous vector space. Techniques like Word2Vec, GloVe, and FastText learn these embeddings by considering the context in which words appear. They capture semantic relationships between words and are effective in capturing word similarity and analogy.\n",
    "<br>\n",
    "\n",
    "- *Word Counts and Character Counts*:\n",
    "    - Simple features like the total number of words in a document, average word length, or frequency of specific characters can also be used as features.\n",
    "<br>\n",
    "\n",
    "- *N-grams*:\n",
    "    - N-grams are sequences of $N$ consecutive words. For example, Bi-grams consist of pairs of adjacent words. By considering sequences of words, N-grams can capture more context compared to BoW.\n",
    "<br>\n",
    "\n",
    "- *Part-of-Speech (POS) Tagging*:\n",
    "    - POS tagging assigns a grammatical label to each word in a sentence (e.g., noun, verb, adjective). These tags can be used as features to capture linguistic information.\n",
    "<br>\n",
    "\n",
    "- *Sentiment Scores*:\n",
    "    - Sentiment analysis tools can be used to assign sentiment scores to text, indicating the sentiment (positive, negative, neutral) expressed in the text.\n",
    "<br>\n",
    "\n",
    "- *Topic Modeling*:\n",
    "    - Topic modeling techniques like Latent Dirichlet Allocation (LDA) can be used to extract topics from a collection of documents. The distribution of topics in a document can be used as features.\n",
    "<br>\n",
    "\n",
    "- *Syntactic Features*:\n",
    "    - Features related to sentence structure, such as the presence of specific grammatical constructs (e.g., passive voice, conditional clauses), can be used.\n",
    "<br>\n",
    "\n",
    "- *Dependency Parsing*:\n",
    "    - Features based on syntactic relationships between words in a sentence can be used to capture structural information.\n",
    "<br>\n",
    "\n",
    "- *Lexical Diversity Measures*:\n",
    "    - Metrics like type-token ratio or TTR (ratio of unique words to total words) can be used to measure the richness and diversity of vocabulary in a document.\n",
    "\n"
   ],
   "metadata": {
    "collapsed": false
   }
  },
  {
   "cell_type": "markdown",
   "source": [
    "# <a id='4'> WORD EMBEDDINGS </a>\n",
    "\n",
    "In NLP, **Word Embedding** is a term used for the representation of words for text analysis, typically in the form of **a real-valued vector that encodes the meaning of the word such that the words that are closer in the vector space are expected to be similar in meaning**.\n",
    "\n",
    "**Word Embedding** or word vector is defined as a **numeric vector input that allows words with similar meanings to have the same representation**. It can approximate meaning and represent a word in a lower dimensional space.\n",
    "\n",
    "But the concept of Word Embedding is not simply to assign a random vector to a word, but assign the vector to each word in a way so that words of similar meaning will have a similar vector and have a closer distance in the vector space.\n",
    "\n",
    "Taxonomy of Word Embedding:\n",
    "\n",
    "![Models_proscons](figures/Word_embedding.png)\n"
   ],
   "metadata": {
    "collapsed": false
   }
  },
  {
   "cell_type": "markdown",
   "source": [
    "## <a id='4-1'>4.1 BASIC TEXT REPRESENTATION</a>"
   ],
   "metadata": {
    "collapsed": false
   }
  },
  {
   "cell_type": "markdown",
   "source": [
    "### <a id='4-1-1'>4.1.1 One Hot Encoding</a>"
   ],
   "metadata": {
    "collapsed": false
   }
  },
  {
   "cell_type": "markdown",
   "source": [
    "**One Hot Encoding** is a technique used in Natural Language Processing (NLP) to **convert categorical data, such as words or labels, into a numerical format** that can be used as input for machine learning algorithms. It's particularly useful when dealing with categorical features in text data.\n",
    "\n",
    "Here's how One Hot Encoding works in the context of NLP:\n",
    "\n",
    "- *Word Tokenization*:\n",
    "    - The first step in NLP is to break down text data into individual words or tokens. Each unique word becomes a category that we want to represent numerically.\n",
    "\n",
    "- *Creating a <b>Vocabulary</b>*:\n",
    "    - Next, we create a vocabulary, which is a set of all unique words in the corpus. This vocabulary will serve as the basis for One Hot Encoding.\n",
    "\n",
    "- *Assigning Indices*:\n",
    "    - Each word in the vocabulary is assigned a unique index. For example, the first word might be assigned index 0, the second word index 1, and so on.\n",
    "\n",
    "- *One Hot Encoding*:\n",
    "    - For each word in a sentence or document, a vector of all zeros is created, with a length equal to the size of the vocabulary. The element at the index corresponding to the word's index in the vocabulary is set to 1, while all other elements remain 0. This way, each word is represented as a binary vector.\n",
    "\n",
    "    - For example, if we have a vocabulary with 10 words, and the word \"apple\" has an index of 3, its One Hot Encoding vector will look like [0, 0, 0, 1, 0, 0, 0, 0, 0, 0].\n",
    "\n",
    "    - This encoding ensures that each word has a unique representation, and the vectors are orthogonal (meaning they are mutually independent).\n",
    "\n",
    "- *Handling Out-of-Vocabulary Words*:\n",
    "    - If a word is encountered in the future that is not in the original vocabulary, it can be handled by assigning a special \"Out of Vocabulary\" (OOV) token or by extending the vocabulary and re-encoding the data.\n",
    "\n",
    "- *Sparse Matrix Representation*:\n",
    "    - In practice, One Hot Encoding results in a sparse matrix where most of the values are zero. This is because most documents only contain a small subset of the entire vocabulary.\n",
    "\n",
    "<u>Notes: </u>\n",
    "One Hot Encoding is a straightforward and widely used technique for representing categorical data in NLP tasks like text classification, sentiment analysis, and more.\n",
    "- **Advantages**:\n",
    "    - Intuitive, easy to implement\n",
    "- **Disadvantages**:\n",
    "    - *Sparsity*, i.e. it can lead to high-dimensional feature spaces, which may not be efficient for very large vocabularies (overfitting) (In such cases, techniques like word embeddings (e.g., Word2Vec, GloVe) are preferred, as they provide more compact and semantically meaningful representations of words.)\n",
    "    - *No fixed size*\n",
    "    - *Out Of Vocabulary problem (OOV)*: It refers to the issue that arises when encountering words in new, unseen data that were not present in the original vocabulary used for encoding. If, during testing or real-world use, the model encounters a word that was not present in the original training data's vocabulary, it faces a problem. Since the word is not in the vocabulary, it cannot be represented using the OHE method. For example, if the word \"neologism\" was not present in the original training data, and it is encountered during testing, the model would not know how to represent it. It's important to choose an appropriate strategy based on the specific NLP task and the nature of the OOV words.\n",
    "        - **Strategies for Handling OOV Words**:\n",
    "                - *Ignoring the Word*: One option is to simply ignore OOV words. This may work in some cases if the OOV words are not critical for the task.\n",
    "                - *Replacing with a Special Token*: Replace OOV words with a special token like <UNK> (unknown) to indicate that the word is not recognized.\n",
    "                - *Expanding the Vocabulary*: If OOV words are common or critical for the task, you might consider retraining the model with an expanded vocabulary that includes the OOV words.\n",
    "    - *No capturing of semantic*\n",
    "\n",
    "\n",
    "\n"
   ],
   "metadata": {
    "collapsed": false
   }
  },
  {
   "cell_type": "markdown",
   "source": [
    "### <a id='4-1-2'>4.1.2 Bags of Words</a>"
   ],
   "metadata": {
    "collapsed": false
   }
  },
  {
   "cell_type": "markdown",
   "source": [
    "**The Bag of Words (BoW)** method is a fundamental technique in Natural Language Processing (NLP) used for text processing and feature extraction. It's called \"bag\" because it **involves treating text data as an unordered collection or bag of words, disregarding grammar, word order, and context**. BoW is widely used in various NLP tasks like sentiment analysis, document classification, and information retrieval. The BoW model represents a document as a vector of word frequencies. where each dimension of the vector corresponds to a unique words in the Vocabulary. The value at each dimension is the count of how many times that word appears in the document (absolute frequency)\n",
    "\n",
    "Similar to one-hot encoding, BoW maps words to unique integer IDs between 1 and |V|. Each document in the corpus is then converted into a vector of |V| dimensions were in the ith component of the vector, i = wid, is simply the number of times the word w occurs in the document, i.e., we simply score each word in V by their occurrence count in the document.\n",
    "\n",
    "Here are the **key steps** and concepts in the Bag of Words method:\n",
    "\n",
    "- *Tokenization*:\n",
    "    - The first step is to break down a piece of text into individual words or tokens. This process may involve removing punctuation and handling special cases like contractions.\n",
    "\n",
    "- *Vocabulary Building*:\n",
    "    - Once the text is tokenized, a vocabulary is constructed. This vocabulary consists of all unique words (or tokens) that appear in the corpus (collection of documents).\n",
    "\n",
    "- *Word Frequency Count*:\n",
    "    - For each document in the corpus, a vector is created where each element represents the frequency of a word in the document. These vectors can be very high-dimensional, with each dimension corresponding to a word in the vocabulary.\n",
    "\n",
    "- *Sparse Matrix Representation*:\n",
    "    - The result of BoW is often represented as a sparse matrix. A sparse matrix is a data structure that only stores non-zero elements, which are the counts of words in this case. This is efficient in terms of memory.\n",
    "\n",
    "- *Normalization (Optional)*:\n",
    "    - Depending on the specific task, the frequency counts can be normalized to make them more comparable across different documents. Common normalization techniques include TF-IDF (Term Frequency-Inverse Document Frequency).\n",
    "\n",
    "- *Feature Vectors*:\n",
    "    - Each document is represented as a feature vector where each element corresponds to the frequency of a specific word in the vocabulary. The order of the words does not matter, hence the term \"bag of words\".\n",
    "\n",
    "- *Loss of Contextual Information*:\n",
    "    - One limitation of BoW is that it completely ignores the order of words and any contextual information. For example, \"not good\" and \"good not\" would be represented the same way.\n",
    "\n",
    "- *High Dimensionality*:\n",
    "    - BoW can lead to high-dimensional feature spaces, especially for large vocabularies and extensive documents. This can impact the efficiency of some machine learning algorithms.\n",
    "\n",
    "- *Application in Machine Learning*:\n",
    "    - BoW vectors are commonly used as input features for various machine learning models. For example, in sentiment analysis, these vectors can be fed into a classifier to predict the sentiment of a document.\n",
    "\n",
    "<u>Notes: </u>\n",
    "BoW is a powerful and versatile technique, but it may not be suitable for tasks where word order or context is crucial (e.g., language translation or tasks requiring understanding of semantics). In such cases, more advanced techniques like word embeddings or deep learning models may be more appropriate.\n",
    "\n",
    "- **Advantages**:\n",
    "    - *Simple and intuitive*\n",
    "- **Disadvantages**:\n",
    "    - *Sparsity*\n",
    "    - *OOV*\n",
    "    - *Not considering Ordering*\n",
    "    - *Close or similar vectors with completely different meanings*\n"
   ],
   "metadata": {
    "collapsed": false
   }
  },
  {
   "cell_type": "markdown",
   "source": [
    "**`CountVectorizer()`**: It is a tool provided by scikit-learn for text processing in machine learning. It is used to convert a collection of text documents to a matrix of token counts.\n",
    "Some of its parameters are:\n",
    "- **`max_df`**: (maximum document frequency)\n",
    "    - This parameter specifies the threshold for the maximum frequency a term (word) can occur in the documents. Terms that occur more frequently than this threshold will be ignored. It can be set as an absolute count (e.g., max_df=5 means ignore terms that occur in more than 5 documents) or as a proportion (e.g., max_df=0.85 means ignore terms that occur in more than 85% of the documents).\n",
    "- **`min_df`**: (minimum document frequency):\n",
    "    - This parameter specifies the threshold for the minimum frequency a term must occur in the documents. Terms that occur less frequently than this threshold will be ignored. It can be set as an absolute count (e.g., min_df=2 means ignore terms that occur in fewer than 2 documents) or as a proportion (e.g., min_df=0.1 means ignore terms that occur in fewer than 10% of the documents).\n",
    "- **`max_features`**:\n",
    "    - This parameter specifies the maximum number of features (terms) to include in the vocabulary. It selects the max_features most frequently occurring terms in the dataset. This can be useful to limit the number of features in cases where the vocabulary is very large.\n",
    "- **`binary`**:\n",
    "    - When set to True, this parameter specifies that the CountVectorizer should return binary values (0 or 1) instead of the count of occurrences. This means that a term either occurs or it doesn't in a document.\n",
    "- **`ngram_range`**:\n",
    "    - This parameter takes a tuple of two values (*min_n, max_n*) where min_n is the minimum size of the n-grams and max_n is the maximum size of the n-grams."
   ],
   "metadata": {
    "collapsed": false
   }
  },
  {
   "cell_type": "code",
   "execution_count": 5,
   "outputs": [
    {
     "data": {
      "text/plain": "                    text  output\n0   people watch campusx       1\n1  campusx watch campusx       1\n2   people write comment       0\n3  campusx write comment       0",
      "text/html": "<div>\n<style scoped>\n    .dataframe tbody tr th:only-of-type {\n        vertical-align: middle;\n    }\n\n    .dataframe tbody tr th {\n        vertical-align: top;\n    }\n\n    .dataframe thead th {\n        text-align: right;\n    }\n</style>\n<table border=\"1\" class=\"dataframe\">\n  <thead>\n    <tr style=\"text-align: right;\">\n      <th></th>\n      <th>text</th>\n      <th>output</th>\n    </tr>\n  </thead>\n  <tbody>\n    <tr>\n      <th>0</th>\n      <td>people watch campusx</td>\n      <td>1</td>\n    </tr>\n    <tr>\n      <th>1</th>\n      <td>campusx watch campusx</td>\n      <td>1</td>\n    </tr>\n    <tr>\n      <th>2</th>\n      <td>people write comment</td>\n      <td>0</td>\n    </tr>\n    <tr>\n      <th>3</th>\n      <td>campusx write comment</td>\n      <td>0</td>\n    </tr>\n  </tbody>\n</table>\n</div>"
     },
     "execution_count": 5,
     "metadata": {},
     "output_type": "execute_result"
    }
   ],
   "source": [
    "# Example\n",
    "\n",
    "df_test = pd.DataFrame({'text': ['people watch campusx', 'campusx watch campusx', 'people write comment', 'campusx write comment'], 'output': [1,1,0,0]})\n",
    "\n",
    "df_test"
   ],
   "metadata": {
    "collapsed": false,
    "ExecuteTime": {
     "end_time": "2023-10-17T11:20:46.800447400Z",
     "start_time": "2023-10-17T11:20:46.797327Z"
    }
   }
  },
  {
   "cell_type": "code",
   "execution_count": 6,
   "outputs": [
    {
     "name": "stdout",
     "output_type": "stream",
     "text": [
      "Vocabulary: \n",
      " {'people': 2, 'watch': 3, 'campusx': 0, 'write': 4, 'comment': 1}\n",
      "\n",
      "\n",
      "Features names:\n",
      " ['campusx' 'comment' 'people' 'watch' 'write']\n",
      "\n",
      "\n",
      "Number of unique words in the Corpus: \n",
      " 5\n",
      "\n",
      "\n",
      "Word Frequency Count for each Document of the Corpus:\n",
      "[[1 0 1 1 0]]\n",
      "[[2 0 0 1 0]]\n",
      "[[0 1 1 0 1]]\n",
      "[[1 1 0 0 1]]\n"
     ]
    }
   ],
   "source": [
    "from sklearn.feature_extraction.text import CountVectorizer\n",
    "\n",
    "# Initiate the Count vectorizer\n",
    "my_cv = CountVectorizer()\n",
    "\n",
    "# Apply the transformation\n",
    "my_bow = my_cv.fit_transform(df_test['text'])\n",
    "\n",
    "# Get Vocabulary\n",
    "print('Vocabulary: \\n', my_cv.vocabulary_)\n",
    "\n",
    "print('\\n')\n",
    "\n",
    "# Get the Features names\n",
    "my_bow_feats = my_cv.get_feature_names_out()\n",
    "print('Features names:\\n', my_bow_feats)\n",
    "\n",
    "print('\\n')\n",
    "\n",
    "# Get the dimension of the Vocabulary\n",
    "print('Number of unique words in the Corpus: \\n', len(my_bow_feats))\n",
    "\n",
    "print('\\n')\n",
    "\n",
    "# Ge the Word Frequency Count for each Document\n",
    "print('Word Frequency Count for each Document of the Corpus:')\n",
    "print(my_bow[0].toarray())\n",
    "print(my_bow[1].toarray())\n",
    "print(my_bow[2].toarray())\n",
    "print(my_bow[3].toarray())"
   ],
   "metadata": {
    "collapsed": false,
    "ExecuteTime": {
     "end_time": "2023-10-17T11:20:54.063071700Z",
     "start_time": "2023-10-17T11:20:54.054845Z"
    }
   }
  },
  {
   "cell_type": "code",
   "execution_count": 7,
   "outputs": [
    {
     "data": {
      "text/plain": "array([[2, 1, 0, 1, 1]], dtype=int64)"
     },
     "execution_count": 7,
     "metadata": {},
     "output_type": "execute_result"
    }
   ],
   "source": [
    "my_cv.transform(['campusx watch and write comment of campusx']).toarray()\n"
   ],
   "metadata": {
    "collapsed": false,
    "ExecuteTime": {
     "end_time": "2023-10-17T11:20:57.981290Z",
     "start_time": "2023-10-17T11:20:57.973827Z"
    }
   }
  },
  {
   "cell_type": "markdown",
   "source": [
    "**BoW to Tweets Data**"
   ],
   "metadata": {
    "collapsed": false
   }
  },
  {
   "cell_type": "code",
   "execution_count": 39,
   "outputs": [],
   "source": [
    "cv = CountVectorizer(min_df = 1,\n",
    "                     max_df = 0.90,\n",
    "                     # max_features = 1000,\n",
    "                     binary = False)"
   ],
   "metadata": {
    "collapsed": false,
    "ExecuteTime": {
     "end_time": "2023-10-17T17:15:55.720030Z",
     "start_time": "2023-10-17T17:15:55.697485Z"
    }
   }
  },
  {
   "cell_type": "code",
   "execution_count": 40,
   "outputs": [
    {
     "name": "stdout",
     "output_type": "stream",
     "text": [
      "BOW cv_train: (32925, 49601)\n",
      "BOW cv_test: (8232, 49601)\n"
     ]
    }
   ],
   "source": [
    "# Train data\n",
    "bow_tweets_train = X_train['LemmatizedTweets']\n",
    "\n",
    "# fit_Transform train data\n",
    "bow_tweets_train = cv.fit_transform(bow_tweets_train)\n",
    "\n",
    "\n",
    "# Test data\n",
    "bow_tweets_test = X_test['LemmatizedTweets']\n",
    "\n",
    "# Transform test data\n",
    "bow_tweets_test = cv.transform(bow_tweets_test)\n",
    "\n",
    "print('BOW cv_train:', bow_tweets_train.shape)\n",
    "print('BOW cv_test:', bow_tweets_test.shape)\n"
   ],
   "metadata": {
    "collapsed": false,
    "ExecuteTime": {
     "end_time": "2023-10-17T17:16:03.287972300Z",
     "start_time": "2023-10-17T17:16:02.853973800Z"
    }
   }
  },
  {
   "cell_type": "code",
   "execution_count": 41,
   "outputs": [
    {
     "data": {
      "text/plain": "   0      1      2      3      4      5      6      7      8      9      10     11     12     13     14     15     16     17     18     19     20     21     22     23     24     25     26     27     28     29     30     31     32     33     34     35     36     37     38     39     40     41     42     43     44     45     46     47     48     49     50     51     52     53     54     55     56     57     58     59     60     61     62     63     64     65     66     67     68     69     70     71     72     73     74     75     76     77     78     79     80     81     82     83     84     85     86     87     88     89     90     91     92     93     94     95     96     97     98     99     100    101    102    103    104    105    106    107    108    109    110    111    112    113    114    115    116    117    118    119    120    121    122    123    124    125    126    127    128    129    130    131    132    133    134    135    136    137    138    139    140    141    \\\n0      0      0      0      0      0      0      0      0      0      0      0      0      0      0      0      0      0      0      0      0      0      0      0      0      0      0      0      0      0      0      0      0      0      0      0      0      0      0      0      0      0      0      0      0      0      0      0      0      0      0      0      0      0      0      0      0      0      0      0      0      0      0      0      0      0      0      0      0      0      0      0      0      0      0      0      0      0      0      0      0      0      0      0      0      0      0      0      0      0      0      0      0      0      0      0      0      0      0      0      0      0      0      0      0      0      0      0      0      0      0      0      0      0      0      0      0      0      0      0      0      0      0      0      0      0      0      0      0      0      0      0      0      0      0      0      0      0      0      0      0      0      0   \n1      0      0      0      0      0      0      0      0      0      0      0      0      0      0      0      0      0      0      0      0      0      0      0      0      0      0      0      0      0      0      0      0      0      0      0      0      0      0      0      0      0      0      0      0      0      0      0      0      0      0      0      0      0      0      0      0      0      0      0      0      0      0      0      0      0      0      0      0      0      0      0      0      0      0      0      0      0      0      0      0      0      0      0      0      0      0      0      0      0      0      0      0      0      0      0      0      0      0      0      0      0      0      0      0      0      0      0      0      0      0      0      0      0      0      0      0      0      0      0      0      0      0      0      0      0      0      0      0      0      0      0      0      0      0      0      0      0      0      0      0      0      0   \n2      0      0      0      0      0      0      0      0      0      0      0      0      0      0      0      0      0      0      0      0      0      0      0      0      0      0      0      0      0      0      0      0      0      0      0      0      0      0      0      0      0      0      0      0      0      0      0      0      0      0      0      0      0      0      0      0      0      0      0      0      0      0      0      0      0      0      0      0      0      0      0      0      0      0      0      0      0      0      0      0      0      0      0      0      0      0      0      0      0      0      0      0      0      0      0      0      0      0      0      0      0      0      0      0      0      0      0      0      0      0      0      0      0      0      0      0      0      0      0      0      0      0      0      0      0      0      0      0      0      0      0      0      0      0      0      0      0      0      0      0      0      0   \n3      0      0      0      0      0      0      0      0      0      0      0      0      0      0      0      0      0      0      0      0      0      0      0      0      0      0      0      0      0      0      0      0      0      0      0      0      0      0      0      0      0      0      0      0      0      0      0      0      0      0      0      0      0      0      0      0      0      0      0      0      0      0      0      0      0      0      0      0      0      0      0      0      0      0      0      0      0      0      0      0      0      0      0      0      0      0      0      0      0      0      0      0      0      0      0      0      0      0      0      0      0      0      0      0      0      0      0      0      0      0      0      0      0      0      0      0      0      0      0      0      0      0      0      0      0      0      0      0      0      0      0      0      0      0      0      0      0      0      0      0      0      0   \n4      0      0      0      0      0      0      0      0      0      0      0      0      0      0      0      0      0      0      0      0      0      0      0      0      0      0      0      0      0      0      0      0      0      0      0      0      0      0      0      0      0      0      0      0      0      0      0      0      0      0      0      0      0      0      0      0      0      0      0      0      0      0      0      0      0      0      0      0      0      0      0      0      0      0      0      0      0      0      0      0      0      0      0      0      0      0      0      0      0      0      0      0      0      0      0      0      0      0      0      0      0      0      0      0      0      0      0      0      0      0      0      0      0      0      0      0      0      0      0      0      0      0      0      0      0      0      0      0      0      0      0      0      0      0      0      0      0      0      0      0      0      0   \n\n   142    143    144    145    146    147    148    149    150    151    152    153    154    155    156    157    158    159    160    161    162    163    164    165    166    167    168    169    170    171    172    173    174    175    176    177    178    179    180    181    182    183    184    185    186    187    188    189    190    191    192    193    194    195    196    197    198    199    200    201    202    203    204    205    206    207    208    209    210    211    212    213    214    215    216    217    218    219    220    221    222    223    224    225    226    227    228    229    230    231    232    233    234    235    236    237    238    239    240    241    242    243    244    245    246    247    248    249    ...  49351  49352  49353  49354  49355  49356  49357  49358  49359  49360  49361  49362  49363  49364  49365  49366  49367  49368  49369  49370  49371  49372  49373  49374  49375  49376  49377  49378  49379  49380  49381  49382  49383  \\\n0      0      0      0      0      0      0      0      0      0      0      0      0      0      0      0      0      0      0      0      0      0      0      0      0      0      0      0      0      0      0      0      0      0      0      0      0      0      0      0      0      0      0      0      0      0      0      0      0      0      0      0      0      0      0      0      0      0      0      0      0      0      0      0      0      0      0      0      0      0      0      0      0      0      0      0      0      0      0      0      0      0      0      0      0      0      0      0      0      0      0      0      0      0      0      0      0      0      0      0      0      0      0      0      0      0      0      0      0  ...      0      0      0      0      0      0      0      0      0      0      0      0      0      0      0      0      0      0      0      0      0      0      0      0      0      0      0      0      0      0      0      0      0   \n1      0      0      0      0      0      0      0      0      0      0      0      0      0      0      0      0      0      0      0      0      0      0      0      0      0      0      0      0      0      0      0      0      0      0      0      0      0      0      0      0      0      0      0      0      0      0      0      0      0      0      0      0      0      0      0      0      0      0      0      0      0      0      0      0      0      0      0      0      0      0      0      0      0      0      0      0      0      0      0      0      0      0      0      0      0      0      0      0      0      0      0      0      0      0      0      0      0      0      0      0      0      0      0      0      0      0      0      0  ...      0      0      0      0      0      0      0      0      0      0      0      0      0      0      0      0      0      0      0      0      0      0      0      0      0      0      0      0      0      0      0      0      0   \n2      0      0      0      0      0      0      0      0      0      0      0      0      0      0      0      0      0      0      0      0      0      0      0      0      0      0      0      0      0      0      0      0      0      0      0      0      0      0      0      0      0      0      0      0      0      0      0      0      0      0      0      0      0      0      0      0      0      0      0      0      0      0      0      0      0      0      0      0      0      0      0      0      0      0      0      0      0      0      0      0      0      0      0      0      0      0      0      0      0      0      0      0      0      0      0      0      0      0      0      0      0      0      0      0      0      0      0      0  ...      0      0      0      0      0      0      0      0      0      0      0      0      0      0      0      0      0      0      0      0      0      0      0      0      0      0      0      0      0      0      0      0      0   \n3      0      0      0      0      0      0      0      0      0      0      0      0      0      0      0      0      0      0      0      0      0      0      0      0      0      0      0      0      0      0      0      0      0      0      0      0      0      0      0      0      0      0      0      0      0      0      0      0      0      0      0      0      0      0      0      0      0      0      0      0      0      0      0      0      0      0      0      0      0      0      0      0      0      0      0      0      0      0      0      0      0      0      0      0      0      0      0      0      0      0      0      0      0      0      0      0      0      0      0      0      0      0      0      0      0      0      0      0  ...      0      0      0      0      0      0      0      0      0      0      0      0      0      0      0      0      0      0      0      0      0      0      0      0      0      0      0      0      0      0      0      0      0   \n4      0      0      0      0      0      0      0      0      0      0      0      0      0      0      0      0      0      0      0      0      0      0      0      0      0      0      0      0      0      0      0      0      0      0      0      0      0      0      0      0      0      0      0      0      0      0      0      0      0      0      0      0      0      0      0      0      0      0      0      0      0      0      0      0      0      0      0      0      0      0      0      0      0      0      0      0      0      0      0      0      0      0      0      0      0      0      0      0      0      0      0      0      0      0      0      0      0      0      0      0      0      0      0      0      0      0      0      0  ...      0      0      0      0      0      0      0      0      0      0      0      0      0      0      0      0      0      0      0      0      0      0      0      0      0      0      0      0      0      0      0      0      0   \n\n   49384  49385  49386  49387  49388  49389  49390  49391  49392  49393  49394  49395  49396  49397  49398  49399  49400  49401  49402  49403  49404  49405  49406  49407  49408  49409  49410  49411  49412  49413  49414  49415  49416  49417  49418  49419  49420  49421  49422  49423  49424  49425  49426  49427  49428  49429  49430  49431  49432  49433  49434  49435  49436  49437  49438  49439  49440  49441  49442  49443  49444  49445  49446  49447  49448  49449  49450  49451  49452  49453  49454  49455  49456  49457  49458  49459  49460  49461  49462  49463  49464  49465  49466  49467  49468  49469  49470  49471  49472  49473  49474  49475  49476  49477  49478  49479  49480  49481  49482  49483  49484  49485  49486  49487  49488  49489  49490  49491  49492  49493  49494  49495  49496  49497  49498  49499  49500  49501  49502  49503  49504  49505  49506  49507  49508  49509  49510  49511  49512  49513  49514  49515  49516  49517  49518  49519  49520  49521  49522  49523  49524  49525  \\\n0      0      0      0      0      0      0      0      0      0      0      0      0      0      0      0      0      0      0      0      0      0      0      0      0      0      0      0      0      0      0      0      0      0      0      0      0      0      0      0      0      0      0      0      0      0      0      0      0      0      0      0      0      0      0      0      0      0      0      0      0      0      0      0      0      0      0      0      0      0      0      0      0      0      0      0      0      0      0      0      0      0      0      0      0      0      0      0      0      0      0      0      0      0      0      0      0      0      0      0      0      0      0      0      0      0      0      0      0      0      0      0      0      0      0      0      0      0      0      0      0      0      0      0      0      0      0      0      0      0      0      0      0      0      0      0      0      0      0      0      0      0      0   \n1      0      0      0      0      0      0      0      0      0      0      0      0      0      0      0      0      0      0      0      0      0      0      0      0      0      0      0      0      0      0      0      0      0      0      0      0      0      0      0      0      0      0      0      0      0      0      0      0      0      0      0      0      0      0      0      0      0      0      0      0      0      0      0      0      0      0      0      0      0      0      0      0      0      0      0      0      0      0      0      0      0      0      0      0      0      0      0      0      0      0      0      0      0      0      0      0      0      0      0      0      0      0      0      0      0      0      0      0      0      0      0      0      0      0      0      0      0      0      0      0      0      0      0      0      0      0      0      0      0      0      0      0      0      0      0      0      0      0      0      0      0      0   \n2      0      0      0      0      0      0      0      0      0      0      0      0      0      0      0      0      0      0      0      0      0      0      0      0      0      0      0      0      0      0      0      0      0      0      0      0      0      0      0      0      0      0      0      0      0      0      0      0      0      0      0      0      0      0      0      0      0      0      0      0      0      0      0      0      0      0      0      0      0      0      0      0      0      0      0      0      0      0      0      0      0      0      0      0      0      0      0      0      0      0      0      0      0      0      0      0      0      0      0      0      0      0      0      0      0      0      0      0      0      0      0      0      0      0      0      0      0      0      0      0      0      0      0      0      0      0      0      0      0      0      0      0      0      0      0      0      0      0      0      0      0      0   \n3      0      0      0      0      0      0      0      0      0      0      0      0      0      0      0      0      0      0      0      0      0      0      0      0      0      0      0      0      0      0      0      0      0      0      0      0      0      0      0      0      0      0      0      0      0      0      0      0      0      0      0      0      0      0      0      0      0      0      0      0      0      0      0      0      0      0      0      0      0      0      0      0      0      0      0      0      0      0      0      0      0      0      0      0      0      0      0      0      0      0      0      0      0      0      0      0      0      0      0      0      0      0      0      0      0      0      0      0      0      0      0      0      0      0      0      0      0      0      0      0      0      0      0      0      0      0      0      0      0      0      0      0      0      0      0      0      0      0      0      0      0      0   \n4      0      0      0      0      0      0      0      0      0      0      0      0      0      0      0      0      0      0      0      0      0      0      0      0      0      0      0      0      0      0      0      0      0      0      0      0      0      0      0      0      0      0      0      0      0      0      0      0      0      0      0      0      0      0      0      0      0      0      0      0      0      0      0      0      0      0      0      0      0      0      0      0      0      0      0      0      0      0      0      0      0      0      0      0      0      0      0      0      0      0      0      0      0      0      0      0      0      0      0      0      0      0      0      0      0      0      0      0      0      0      0      0      0      0      0      0      0      0      0      0      0      0      0      0      0      0      0      0      0      0      0      0      0      0      0      0      0      0      0      0      0      0   \n\n   49526  49527  49528  49529  49530  49531  49532  49533  49534  49535  49536  49537  49538  49539  49540  49541  49542  49543  49544  49545  49546  49547  49548  49549  49550  49551  49552  49553  49554  49555  49556  49557  49558  49559  49560  49561  49562  49563  49564  49565  49566  49567  49568  49569  49570  49571  49572  49573  49574  49575  49576  49577  49578  49579  49580  49581  49582  49583  49584  49585  49586  49587  49588  49589  49590  49591  49592  49593  49594  49595  49596  49597  49598  49599  49600  \n0      0      0      0      0      0      0      0      0      0      0      0      0      0      0      0      0      0      0      0      0      0      0      0      0      0      0      0      0      0      0      0      0      0      0      0      0      0      0      0      0      0      0      0      0      0      0      0      0      0      0      0      0      0      0      0      0      0      0      0      0      0      0      0      0      0      0      0      0      0      0      0      0      0      0      0  \n1      0      0      0      0      0      0      0      0      0      0      0      0      0      0      0      0      0      0      0      0      0      0      0      0      0      0      0      0      0      0      0      0      0      0      0      0      0      0      0      0      0      0      0      0      0      0      0      0      0      0      0      0      0      0      0      0      0      0      0      0      0      0      0      0      0      0      0      0      0      0      0      0      0      0      0  \n2      0      0      0      0      0      0      0      0      0      0      0      0      0      0      0      0      0      0      0      0      0      0      0      0      0      0      0      0      0      0      0      0      0      0      0      0      0      0      0      0      0      0      0      0      0      0      0      0      0      0      0      0      0      0      0      0      0      0      0      0      0      0      0      0      0      0      0      0      0      0      0      0      0      0      0  \n3      0      0      0      0      0      0      0      0      0      0      0      0      0      0      0      0      0      0      0      0      0      0      0      0      0      0      0      0      0      0      0      0      0      0      0      0      0      0      0      0      0      0      0      0      0      0      0      0      0      0      0      0      0      0      0      0      0      0      0      0      0      0      0      0      0      0      0      0      0      0      0      0      0      0      0  \n4      0      0      0      0      0      0      0      0      0      0      0      0      0      0      0      0      0      0      0      0      0      0      0      0      0      0      0      0      0      0      0      0      0      0      0      0      0      0      0      0      0      0      0      0      0      0      0      0      0      0      0      0      0      0      0      0      0      0      0      0      0      0      0      0      0      0      0      0      0      0      0      0      0      0      0  \n\n[5 rows x 49601 columns]",
      "text/html": "<div>\n<style scoped>\n    .dataframe tbody tr th:only-of-type {\n        vertical-align: middle;\n    }\n\n    .dataframe tbody tr th {\n        vertical-align: top;\n    }\n\n    .dataframe thead th {\n        text-align: right;\n    }\n</style>\n<table border=\"1\" class=\"dataframe\">\n  <thead>\n    <tr style=\"text-align: right;\">\n      <th></th>\n      <th>0</th>\n      <th>1</th>\n      <th>2</th>\n      <th>3</th>\n      <th>4</th>\n      <th>5</th>\n      <th>6</th>\n      <th>7</th>\n      <th>8</th>\n      <th>9</th>\n      <th>10</th>\n      <th>11</th>\n      <th>12</th>\n      <th>13</th>\n      <th>14</th>\n      <th>15</th>\n      <th>16</th>\n      <th>17</th>\n      <th>18</th>\n      <th>19</th>\n      <th>20</th>\n      <th>21</th>\n      <th>22</th>\n      <th>23</th>\n      <th>24</th>\n      <th>25</th>\n      <th>26</th>\n      <th>27</th>\n      <th>28</th>\n      <th>29</th>\n      <th>30</th>\n      <th>31</th>\n      <th>32</th>\n      <th>33</th>\n      <th>34</th>\n      <th>35</th>\n      <th>36</th>\n      <th>37</th>\n      <th>38</th>\n      <th>39</th>\n      <th>40</th>\n      <th>41</th>\n      <th>42</th>\n      <th>43</th>\n      <th>44</th>\n      <th>45</th>\n      <th>46</th>\n      <th>47</th>\n      <th>48</th>\n      <th>49</th>\n      <th>50</th>\n      <th>51</th>\n      <th>52</th>\n      <th>53</th>\n      <th>54</th>\n      <th>55</th>\n      <th>56</th>\n      <th>57</th>\n      <th>58</th>\n      <th>59</th>\n      <th>60</th>\n      <th>61</th>\n      <th>62</th>\n      <th>63</th>\n      <th>64</th>\n      <th>65</th>\n      <th>66</th>\n      <th>67</th>\n      <th>68</th>\n      <th>69</th>\n      <th>70</th>\n      <th>71</th>\n      <th>72</th>\n      <th>73</th>\n      <th>74</th>\n      <th>75</th>\n      <th>76</th>\n      <th>77</th>\n      <th>78</th>\n      <th>79</th>\n      <th>80</th>\n      <th>81</th>\n      <th>82</th>\n      <th>83</th>\n      <th>84</th>\n      <th>85</th>\n      <th>86</th>\n      <th>87</th>\n      <th>88</th>\n      <th>89</th>\n      <th>90</th>\n      <th>91</th>\n      <th>92</th>\n      <th>93</th>\n      <th>94</th>\n      <th>95</th>\n      <th>96</th>\n      <th>97</th>\n      <th>98</th>\n      <th>99</th>\n      <th>100</th>\n      <th>101</th>\n      <th>102</th>\n      <th>103</th>\n      <th>104</th>\n      <th>105</th>\n      <th>106</th>\n      <th>107</th>\n      <th>108</th>\n      <th>109</th>\n      <th>110</th>\n      <th>111</th>\n      <th>112</th>\n      <th>113</th>\n      <th>114</th>\n      <th>115</th>\n      <th>116</th>\n      <th>117</th>\n      <th>118</th>\n      <th>119</th>\n      <th>120</th>\n      <th>121</th>\n      <th>122</th>\n      <th>123</th>\n      <th>124</th>\n      <th>125</th>\n      <th>126</th>\n      <th>127</th>\n      <th>128</th>\n      <th>129</th>\n      <th>130</th>\n      <th>131</th>\n      <th>132</th>\n      <th>133</th>\n      <th>134</th>\n      <th>135</th>\n      <th>136</th>\n      <th>137</th>\n      <th>138</th>\n      <th>139</th>\n      <th>140</th>\n      <th>141</th>\n      <th>142</th>\n      <th>143</th>\n      <th>144</th>\n      <th>145</th>\n      <th>146</th>\n      <th>147</th>\n      <th>148</th>\n      <th>149</th>\n      <th>150</th>\n      <th>151</th>\n      <th>152</th>\n      <th>153</th>\n      <th>154</th>\n      <th>155</th>\n      <th>156</th>\n      <th>157</th>\n      <th>158</th>\n      <th>159</th>\n      <th>160</th>\n      <th>161</th>\n      <th>162</th>\n      <th>163</th>\n      <th>164</th>\n      <th>165</th>\n      <th>166</th>\n      <th>167</th>\n      <th>168</th>\n      <th>169</th>\n      <th>170</th>\n      <th>171</th>\n      <th>172</th>\n      <th>173</th>\n      <th>174</th>\n      <th>175</th>\n      <th>176</th>\n      <th>177</th>\n      <th>178</th>\n      <th>179</th>\n      <th>180</th>\n      <th>181</th>\n      <th>182</th>\n      <th>183</th>\n      <th>184</th>\n      <th>185</th>\n      <th>186</th>\n      <th>187</th>\n      <th>188</th>\n      <th>189</th>\n      <th>190</th>\n      <th>191</th>\n      <th>192</th>\n      <th>193</th>\n      <th>194</th>\n      <th>195</th>\n      <th>196</th>\n      <th>197</th>\n      <th>198</th>\n      <th>199</th>\n      <th>200</th>\n      <th>201</th>\n      <th>202</th>\n      <th>203</th>\n      <th>204</th>\n      <th>205</th>\n      <th>206</th>\n      <th>207</th>\n      <th>208</th>\n      <th>209</th>\n      <th>210</th>\n      <th>211</th>\n      <th>212</th>\n      <th>213</th>\n      <th>214</th>\n      <th>215</th>\n      <th>216</th>\n      <th>217</th>\n      <th>218</th>\n      <th>219</th>\n      <th>220</th>\n      <th>221</th>\n      <th>222</th>\n      <th>223</th>\n      <th>224</th>\n      <th>225</th>\n      <th>226</th>\n      <th>227</th>\n      <th>228</th>\n      <th>229</th>\n      <th>230</th>\n      <th>231</th>\n      <th>232</th>\n      <th>233</th>\n      <th>234</th>\n      <th>235</th>\n      <th>236</th>\n      <th>237</th>\n      <th>238</th>\n      <th>239</th>\n      <th>240</th>\n      <th>241</th>\n      <th>242</th>\n      <th>243</th>\n      <th>244</th>\n      <th>245</th>\n      <th>246</th>\n      <th>247</th>\n      <th>248</th>\n      <th>249</th>\n      <th>...</th>\n      <th>49351</th>\n      <th>49352</th>\n      <th>49353</th>\n      <th>49354</th>\n      <th>49355</th>\n      <th>49356</th>\n      <th>49357</th>\n      <th>49358</th>\n      <th>49359</th>\n      <th>49360</th>\n      <th>49361</th>\n      <th>49362</th>\n      <th>49363</th>\n      <th>49364</th>\n      <th>49365</th>\n      <th>49366</th>\n      <th>49367</th>\n      <th>49368</th>\n      <th>49369</th>\n      <th>49370</th>\n      <th>49371</th>\n      <th>49372</th>\n      <th>49373</th>\n      <th>49374</th>\n      <th>49375</th>\n      <th>49376</th>\n      <th>49377</th>\n      <th>49378</th>\n      <th>49379</th>\n      <th>49380</th>\n      <th>49381</th>\n      <th>49382</th>\n      <th>49383</th>\n      <th>49384</th>\n      <th>49385</th>\n      <th>49386</th>\n      <th>49387</th>\n      <th>49388</th>\n      <th>49389</th>\n      <th>49390</th>\n      <th>49391</th>\n      <th>49392</th>\n      <th>49393</th>\n      <th>49394</th>\n      <th>49395</th>\n      <th>49396</th>\n      <th>49397</th>\n      <th>49398</th>\n      <th>49399</th>\n      <th>49400</th>\n      <th>49401</th>\n      <th>49402</th>\n      <th>49403</th>\n      <th>49404</th>\n      <th>49405</th>\n      <th>49406</th>\n      <th>49407</th>\n      <th>49408</th>\n      <th>49409</th>\n      <th>49410</th>\n      <th>49411</th>\n      <th>49412</th>\n      <th>49413</th>\n      <th>49414</th>\n      <th>49415</th>\n      <th>49416</th>\n      <th>49417</th>\n      <th>49418</th>\n      <th>49419</th>\n      <th>49420</th>\n      <th>49421</th>\n      <th>49422</th>\n      <th>49423</th>\n      <th>49424</th>\n      <th>49425</th>\n      <th>49426</th>\n      <th>49427</th>\n      <th>49428</th>\n      <th>49429</th>\n      <th>49430</th>\n      <th>49431</th>\n      <th>49432</th>\n      <th>49433</th>\n      <th>49434</th>\n      <th>49435</th>\n      <th>49436</th>\n      <th>49437</th>\n      <th>49438</th>\n      <th>49439</th>\n      <th>49440</th>\n      <th>49441</th>\n      <th>49442</th>\n      <th>49443</th>\n      <th>49444</th>\n      <th>49445</th>\n      <th>49446</th>\n      <th>49447</th>\n      <th>49448</th>\n      <th>49449</th>\n      <th>49450</th>\n      <th>49451</th>\n      <th>49452</th>\n      <th>49453</th>\n      <th>49454</th>\n      <th>49455</th>\n      <th>49456</th>\n      <th>49457</th>\n      <th>49458</th>\n      <th>49459</th>\n      <th>49460</th>\n      <th>49461</th>\n      <th>49462</th>\n      <th>49463</th>\n      <th>49464</th>\n      <th>49465</th>\n      <th>49466</th>\n      <th>49467</th>\n      <th>49468</th>\n      <th>49469</th>\n      <th>49470</th>\n      <th>49471</th>\n      <th>49472</th>\n      <th>49473</th>\n      <th>49474</th>\n      <th>49475</th>\n      <th>49476</th>\n      <th>49477</th>\n      <th>49478</th>\n      <th>49479</th>\n      <th>49480</th>\n      <th>49481</th>\n      <th>49482</th>\n      <th>49483</th>\n      <th>49484</th>\n      <th>49485</th>\n      <th>49486</th>\n      <th>49487</th>\n      <th>49488</th>\n      <th>49489</th>\n      <th>49490</th>\n      <th>49491</th>\n      <th>49492</th>\n      <th>49493</th>\n      <th>49494</th>\n      <th>49495</th>\n      <th>49496</th>\n      <th>49497</th>\n      <th>49498</th>\n      <th>49499</th>\n      <th>49500</th>\n      <th>49501</th>\n      <th>49502</th>\n      <th>49503</th>\n      <th>49504</th>\n      <th>49505</th>\n      <th>49506</th>\n      <th>49507</th>\n      <th>49508</th>\n      <th>49509</th>\n      <th>49510</th>\n      <th>49511</th>\n      <th>49512</th>\n      <th>49513</th>\n      <th>49514</th>\n      <th>49515</th>\n      <th>49516</th>\n      <th>49517</th>\n      <th>49518</th>\n      <th>49519</th>\n      <th>49520</th>\n      <th>49521</th>\n      <th>49522</th>\n      <th>49523</th>\n      <th>49524</th>\n      <th>49525</th>\n      <th>49526</th>\n      <th>49527</th>\n      <th>49528</th>\n      <th>49529</th>\n      <th>49530</th>\n      <th>49531</th>\n      <th>49532</th>\n      <th>49533</th>\n      <th>49534</th>\n      <th>49535</th>\n      <th>49536</th>\n      <th>49537</th>\n      <th>49538</th>\n      <th>49539</th>\n      <th>49540</th>\n      <th>49541</th>\n      <th>49542</th>\n      <th>49543</th>\n      <th>49544</th>\n      <th>49545</th>\n      <th>49546</th>\n      <th>49547</th>\n      <th>49548</th>\n      <th>49549</th>\n      <th>49550</th>\n      <th>49551</th>\n      <th>49552</th>\n      <th>49553</th>\n      <th>49554</th>\n      <th>49555</th>\n      <th>49556</th>\n      <th>49557</th>\n      <th>49558</th>\n      <th>49559</th>\n      <th>49560</th>\n      <th>49561</th>\n      <th>49562</th>\n      <th>49563</th>\n      <th>49564</th>\n      <th>49565</th>\n      <th>49566</th>\n      <th>49567</th>\n      <th>49568</th>\n      <th>49569</th>\n      <th>49570</th>\n      <th>49571</th>\n      <th>49572</th>\n      <th>49573</th>\n      <th>49574</th>\n      <th>49575</th>\n      <th>49576</th>\n      <th>49577</th>\n      <th>49578</th>\n      <th>49579</th>\n      <th>49580</th>\n      <th>49581</th>\n      <th>49582</th>\n      <th>49583</th>\n      <th>49584</th>\n      <th>49585</th>\n      <th>49586</th>\n      <th>49587</th>\n      <th>49588</th>\n      <th>49589</th>\n      <th>49590</th>\n      <th>49591</th>\n      <th>49592</th>\n      <th>49593</th>\n      <th>49594</th>\n      <th>49595</th>\n      <th>49596</th>\n      <th>49597</th>\n      <th>49598</th>\n      <th>49599</th>\n      <th>49600</th>\n    </tr>\n  </thead>\n  <tbody>\n    <tr>\n      <th>0</th>\n      <td>0</td>\n      <td>0</td>\n      <td>0</td>\n      <td>0</td>\n      <td>0</td>\n      <td>0</td>\n      <td>0</td>\n      <td>0</td>\n      <td>0</td>\n      <td>0</td>\n      <td>0</td>\n      <td>0</td>\n      <td>0</td>\n      <td>0</td>\n      <td>0</td>\n      <td>0</td>\n      <td>0</td>\n      <td>0</td>\n      <td>0</td>\n      <td>0</td>\n      <td>0</td>\n      <td>0</td>\n      <td>0</td>\n      <td>0</td>\n      <td>0</td>\n      <td>0</td>\n      <td>0</td>\n      <td>0</td>\n      <td>0</td>\n      <td>0</td>\n      <td>0</td>\n      <td>0</td>\n      <td>0</td>\n      <td>0</td>\n      <td>0</td>\n      <td>0</td>\n      <td>0</td>\n      <td>0</td>\n      <td>0</td>\n      <td>0</td>\n      <td>0</td>\n      <td>0</td>\n      <td>0</td>\n      <td>0</td>\n      <td>0</td>\n      <td>0</td>\n      <td>0</td>\n      <td>0</td>\n      <td>0</td>\n      <td>0</td>\n      <td>0</td>\n      <td>0</td>\n      <td>0</td>\n      <td>0</td>\n      <td>0</td>\n      <td>0</td>\n      <td>0</td>\n      <td>0</td>\n      <td>0</td>\n      <td>0</td>\n      <td>0</td>\n      <td>0</td>\n      <td>0</td>\n      <td>0</td>\n      <td>0</td>\n      <td>0</td>\n      <td>0</td>\n      <td>0</td>\n      <td>0</td>\n      <td>0</td>\n      <td>0</td>\n      <td>0</td>\n      <td>0</td>\n      <td>0</td>\n      <td>0</td>\n      <td>0</td>\n      <td>0</td>\n      <td>0</td>\n      <td>0</td>\n      <td>0</td>\n      <td>0</td>\n      <td>0</td>\n      <td>0</td>\n      <td>0</td>\n      <td>0</td>\n      <td>0</td>\n      <td>0</td>\n      <td>0</td>\n      <td>0</td>\n      <td>0</td>\n      <td>0</td>\n      <td>0</td>\n      <td>0</td>\n      <td>0</td>\n      <td>0</td>\n      <td>0</td>\n      <td>0</td>\n      <td>0</td>\n      <td>0</td>\n      <td>0</td>\n      <td>0</td>\n      <td>0</td>\n      <td>0</td>\n      <td>0</td>\n      <td>0</td>\n      <td>0</td>\n      <td>0</td>\n      <td>0</td>\n      <td>0</td>\n      <td>0</td>\n      <td>0</td>\n      <td>0</td>\n      <td>0</td>\n      <td>0</td>\n      <td>0</td>\n      <td>0</td>\n      <td>0</td>\n      <td>0</td>\n      <td>0</td>\n      <td>0</td>\n      <td>0</td>\n      <td>0</td>\n      <td>0</td>\n      <td>0</td>\n      <td>0</td>\n      <td>0</td>\n      <td>0</td>\n      <td>0</td>\n      <td>0</td>\n      <td>0</td>\n      <td>0</td>\n      <td>0</td>\n      <td>0</td>\n      <td>0</td>\n      <td>0</td>\n      <td>0</td>\n      <td>0</td>\n      <td>0</td>\n      <td>0</td>\n      <td>0</td>\n      <td>0</td>\n      <td>0</td>\n      <td>0</td>\n      <td>0</td>\n      <td>0</td>\n      <td>0</td>\n      <td>0</td>\n      <td>0</td>\n      <td>0</td>\n      <td>0</td>\n      <td>0</td>\n      <td>0</td>\n      <td>0</td>\n      <td>0</td>\n      <td>0</td>\n      <td>0</td>\n      <td>0</td>\n      <td>0</td>\n      <td>0</td>\n      <td>0</td>\n      <td>0</td>\n      <td>0</td>\n      <td>0</td>\n      <td>0</td>\n      <td>0</td>\n      <td>0</td>\n      <td>0</td>\n      <td>0</td>\n      <td>0</td>\n      <td>0</td>\n      <td>0</td>\n      <td>0</td>\n      <td>0</td>\n      <td>0</td>\n      <td>0</td>\n      <td>0</td>\n      <td>0</td>\n      <td>0</td>\n      <td>0</td>\n      <td>0</td>\n      <td>0</td>\n      <td>0</td>\n      <td>0</td>\n      <td>0</td>\n      <td>0</td>\n      <td>0</td>\n      <td>0</td>\n      <td>0</td>\n      <td>0</td>\n      <td>0</td>\n      <td>0</td>\n      <td>0</td>\n      <td>0</td>\n      <td>0</td>\n      <td>0</td>\n      <td>0</td>\n      <td>0</td>\n      <td>0</td>\n      <td>0</td>\n      <td>0</td>\n      <td>0</td>\n      <td>0</td>\n      <td>0</td>\n      <td>0</td>\n      <td>0</td>\n      <td>0</td>\n      <td>0</td>\n      <td>0</td>\n      <td>0</td>\n      <td>0</td>\n      <td>0</td>\n      <td>0</td>\n      <td>0</td>\n      <td>0</td>\n      <td>0</td>\n      <td>0</td>\n      <td>0</td>\n      <td>0</td>\n      <td>0</td>\n      <td>0</td>\n      <td>0</td>\n      <td>0</td>\n      <td>0</td>\n      <td>0</td>\n      <td>0</td>\n      <td>0</td>\n      <td>0</td>\n      <td>0</td>\n      <td>0</td>\n      <td>0</td>\n      <td>0</td>\n      <td>0</td>\n      <td>0</td>\n      <td>0</td>\n      <td>0</td>\n      <td>0</td>\n      <td>0</td>\n      <td>0</td>\n      <td>0</td>\n      <td>0</td>\n      <td>0</td>\n      <td>0</td>\n      <td>0</td>\n      <td>0</td>\n      <td>0</td>\n      <td>0</td>\n      <td>0</td>\n      <td>0</td>\n      <td>0</td>\n      <td>0</td>\n      <td>...</td>\n      <td>0</td>\n      <td>0</td>\n      <td>0</td>\n      <td>0</td>\n      <td>0</td>\n      <td>0</td>\n      <td>0</td>\n      <td>0</td>\n      <td>0</td>\n      <td>0</td>\n      <td>0</td>\n      <td>0</td>\n      <td>0</td>\n      <td>0</td>\n      <td>0</td>\n      <td>0</td>\n      <td>0</td>\n      <td>0</td>\n      <td>0</td>\n      <td>0</td>\n      <td>0</td>\n      <td>0</td>\n      <td>0</td>\n      <td>0</td>\n      <td>0</td>\n      <td>0</td>\n      <td>0</td>\n      <td>0</td>\n      <td>0</td>\n      <td>0</td>\n      <td>0</td>\n      <td>0</td>\n      <td>0</td>\n      <td>0</td>\n      <td>0</td>\n      <td>0</td>\n      <td>0</td>\n      <td>0</td>\n      <td>0</td>\n      <td>0</td>\n      <td>0</td>\n      <td>0</td>\n      <td>0</td>\n      <td>0</td>\n      <td>0</td>\n      <td>0</td>\n      <td>0</td>\n      <td>0</td>\n      <td>0</td>\n      <td>0</td>\n      <td>0</td>\n      <td>0</td>\n      <td>0</td>\n      <td>0</td>\n      <td>0</td>\n      <td>0</td>\n      <td>0</td>\n      <td>0</td>\n      <td>0</td>\n      <td>0</td>\n      <td>0</td>\n      <td>0</td>\n      <td>0</td>\n      <td>0</td>\n      <td>0</td>\n      <td>0</td>\n      <td>0</td>\n      <td>0</td>\n      <td>0</td>\n      <td>0</td>\n      <td>0</td>\n      <td>0</td>\n      <td>0</td>\n      <td>0</td>\n      <td>0</td>\n      <td>0</td>\n      <td>0</td>\n      <td>0</td>\n      <td>0</td>\n      <td>0</td>\n      <td>0</td>\n      <td>0</td>\n      <td>0</td>\n      <td>0</td>\n      <td>0</td>\n      <td>0</td>\n      <td>0</td>\n      <td>0</td>\n      <td>0</td>\n      <td>0</td>\n      <td>0</td>\n      <td>0</td>\n      <td>0</td>\n      <td>0</td>\n      <td>0</td>\n      <td>0</td>\n      <td>0</td>\n      <td>0</td>\n      <td>0</td>\n      <td>0</td>\n      <td>0</td>\n      <td>0</td>\n      <td>0</td>\n      <td>0</td>\n      <td>0</td>\n      <td>0</td>\n      <td>0</td>\n      <td>0</td>\n      <td>0</td>\n      <td>0</td>\n      <td>0</td>\n      <td>0</td>\n      <td>0</td>\n      <td>0</td>\n      <td>0</td>\n      <td>0</td>\n      <td>0</td>\n      <td>0</td>\n      <td>0</td>\n      <td>0</td>\n      <td>0</td>\n      <td>0</td>\n      <td>0</td>\n      <td>0</td>\n      <td>0</td>\n      <td>0</td>\n      <td>0</td>\n      <td>0</td>\n      <td>0</td>\n      <td>0</td>\n      <td>0</td>\n      <td>0</td>\n      <td>0</td>\n      <td>0</td>\n      <td>0</td>\n      <td>0</td>\n      <td>0</td>\n      <td>0</td>\n      <td>0</td>\n      <td>0</td>\n      <td>0</td>\n      <td>0</td>\n      <td>0</td>\n      <td>0</td>\n      <td>0</td>\n      <td>0</td>\n      <td>0</td>\n      <td>0</td>\n      <td>0</td>\n      <td>0</td>\n      <td>0</td>\n      <td>0</td>\n      <td>0</td>\n      <td>0</td>\n      <td>0</td>\n      <td>0</td>\n      <td>0</td>\n      <td>0</td>\n      <td>0</td>\n      <td>0</td>\n      <td>0</td>\n      <td>0</td>\n      <td>0</td>\n      <td>0</td>\n      <td>0</td>\n      <td>0</td>\n      <td>0</td>\n      <td>0</td>\n      <td>0</td>\n      <td>0</td>\n      <td>0</td>\n      <td>0</td>\n      <td>0</td>\n      <td>0</td>\n      <td>0</td>\n      <td>0</td>\n      <td>0</td>\n      <td>0</td>\n      <td>0</td>\n      <td>0</td>\n      <td>0</td>\n      <td>0</td>\n      <td>0</td>\n      <td>0</td>\n      <td>0</td>\n      <td>0</td>\n      <td>0</td>\n      <td>0</td>\n      <td>0</td>\n      <td>0</td>\n      <td>0</td>\n      <td>0</td>\n      <td>0</td>\n      <td>0</td>\n      <td>0</td>\n      <td>0</td>\n      <td>0</td>\n      <td>0</td>\n      <td>0</td>\n      <td>0</td>\n      <td>0</td>\n      <td>0</td>\n      <td>0</td>\n      <td>0</td>\n      <td>0</td>\n      <td>0</td>\n      <td>0</td>\n      <td>0</td>\n      <td>0</td>\n      <td>0</td>\n      <td>0</td>\n      <td>0</td>\n      <td>0</td>\n      <td>0</td>\n      <td>0</td>\n      <td>0</td>\n      <td>0</td>\n      <td>0</td>\n      <td>0</td>\n      <td>0</td>\n      <td>0</td>\n      <td>0</td>\n      <td>0</td>\n      <td>0</td>\n      <td>0</td>\n      <td>0</td>\n      <td>0</td>\n      <td>0</td>\n      <td>0</td>\n      <td>0</td>\n      <td>0</td>\n      <td>0</td>\n      <td>0</td>\n      <td>0</td>\n      <td>0</td>\n      <td>0</td>\n      <td>0</td>\n      <td>0</td>\n      <td>0</td>\n      <td>0</td>\n      <td>0</td>\n      <td>0</td>\n      <td>0</td>\n      <td>0</td>\n      <td>0</td>\n      <td>0</td>\n      <td>0</td>\n      <td>0</td>\n      <td>0</td>\n      <td>0</td>\n    </tr>\n    <tr>\n      <th>1</th>\n      <td>0</td>\n      <td>0</td>\n      <td>0</td>\n      <td>0</td>\n      <td>0</td>\n      <td>0</td>\n      <td>0</td>\n      <td>0</td>\n      <td>0</td>\n      <td>0</td>\n      <td>0</td>\n      <td>0</td>\n      <td>0</td>\n      <td>0</td>\n      <td>0</td>\n      <td>0</td>\n      <td>0</td>\n      <td>0</td>\n      <td>0</td>\n      <td>0</td>\n      <td>0</td>\n      <td>0</td>\n      <td>0</td>\n      <td>0</td>\n      <td>0</td>\n      <td>0</td>\n      <td>0</td>\n      <td>0</td>\n      <td>0</td>\n      <td>0</td>\n      <td>0</td>\n      <td>0</td>\n      <td>0</td>\n      <td>0</td>\n      <td>0</td>\n      <td>0</td>\n      <td>0</td>\n      <td>0</td>\n      <td>0</td>\n      <td>0</td>\n      <td>0</td>\n      <td>0</td>\n      <td>0</td>\n      <td>0</td>\n      <td>0</td>\n      <td>0</td>\n      <td>0</td>\n      <td>0</td>\n      <td>0</td>\n      <td>0</td>\n      <td>0</td>\n      <td>0</td>\n      <td>0</td>\n      <td>0</td>\n      <td>0</td>\n      <td>0</td>\n      <td>0</td>\n      <td>0</td>\n      <td>0</td>\n      <td>0</td>\n      <td>0</td>\n      <td>0</td>\n      <td>0</td>\n      <td>0</td>\n      <td>0</td>\n      <td>0</td>\n      <td>0</td>\n      <td>0</td>\n      <td>0</td>\n      <td>0</td>\n      <td>0</td>\n      <td>0</td>\n      <td>0</td>\n      <td>0</td>\n      <td>0</td>\n      <td>0</td>\n      <td>0</td>\n      <td>0</td>\n      <td>0</td>\n      <td>0</td>\n      <td>0</td>\n      <td>0</td>\n      <td>0</td>\n      <td>0</td>\n      <td>0</td>\n      <td>0</td>\n      <td>0</td>\n      <td>0</td>\n      <td>0</td>\n      <td>0</td>\n      <td>0</td>\n      <td>0</td>\n      <td>0</td>\n      <td>0</td>\n      <td>0</td>\n      <td>0</td>\n      <td>0</td>\n      <td>0</td>\n      <td>0</td>\n      <td>0</td>\n      <td>0</td>\n      <td>0</td>\n      <td>0</td>\n      <td>0</td>\n      <td>0</td>\n      <td>0</td>\n      <td>0</td>\n      <td>0</td>\n      <td>0</td>\n      <td>0</td>\n      <td>0</td>\n      <td>0</td>\n      <td>0</td>\n      <td>0</td>\n      <td>0</td>\n      <td>0</td>\n      <td>0</td>\n      <td>0</td>\n      <td>0</td>\n      <td>0</td>\n      <td>0</td>\n      <td>0</td>\n      <td>0</td>\n      <td>0</td>\n      <td>0</td>\n      <td>0</td>\n      <td>0</td>\n      <td>0</td>\n      <td>0</td>\n      <td>0</td>\n      <td>0</td>\n      <td>0</td>\n      <td>0</td>\n      <td>0</td>\n      <td>0</td>\n      <td>0</td>\n      <td>0</td>\n      <td>0</td>\n      <td>0</td>\n      <td>0</td>\n      <td>0</td>\n      <td>0</td>\n      <td>0</td>\n      <td>0</td>\n      <td>0</td>\n      <td>0</td>\n      <td>0</td>\n      <td>0</td>\n      <td>0</td>\n      <td>0</td>\n      <td>0</td>\n      <td>0</td>\n      <td>0</td>\n      <td>0</td>\n      <td>0</td>\n      <td>0</td>\n      <td>0</td>\n      <td>0</td>\n      <td>0</td>\n      <td>0</td>\n      <td>0</td>\n      <td>0</td>\n      <td>0</td>\n      <td>0</td>\n      <td>0</td>\n      <td>0</td>\n      <td>0</td>\n      <td>0</td>\n      <td>0</td>\n      <td>0</td>\n      <td>0</td>\n      <td>0</td>\n      <td>0</td>\n      <td>0</td>\n      <td>0</td>\n      <td>0</td>\n      <td>0</td>\n      <td>0</td>\n      <td>0</td>\n      <td>0</td>\n      <td>0</td>\n      <td>0</td>\n      <td>0</td>\n      <td>0</td>\n      <td>0</td>\n      <td>0</td>\n      <td>0</td>\n      <td>0</td>\n      <td>0</td>\n      <td>0</td>\n      <td>0</td>\n      <td>0</td>\n      <td>0</td>\n      <td>0</td>\n      <td>0</td>\n      <td>0</td>\n      <td>0</td>\n      <td>0</td>\n      <td>0</td>\n      <td>0</td>\n      <td>0</td>\n      <td>0</td>\n      <td>0</td>\n      <td>0</td>\n      <td>0</td>\n      <td>0</td>\n      <td>0</td>\n      <td>0</td>\n      <td>0</td>\n      <td>0</td>\n      <td>0</td>\n      <td>0</td>\n      <td>0</td>\n      <td>0</td>\n      <td>0</td>\n      <td>0</td>\n      <td>0</td>\n      <td>0</td>\n      <td>0</td>\n      <td>0</td>\n      <td>0</td>\n      <td>0</td>\n      <td>0</td>\n      <td>0</td>\n      <td>0</td>\n      <td>0</td>\n      <td>0</td>\n      <td>0</td>\n      <td>0</td>\n      <td>0</td>\n      <td>0</td>\n      <td>0</td>\n      <td>0</td>\n      <td>0</td>\n      <td>0</td>\n      <td>0</td>\n      <td>0</td>\n      <td>0</td>\n      <td>0</td>\n      <td>0</td>\n      <td>0</td>\n      <td>0</td>\n      <td>0</td>\n      <td>0</td>\n      <td>0</td>\n      <td>0</td>\n      <td>0</td>\n      <td>0</td>\n      <td>0</td>\n      <td>0</td>\n      <td>...</td>\n      <td>0</td>\n      <td>0</td>\n      <td>0</td>\n      <td>0</td>\n      <td>0</td>\n      <td>0</td>\n      <td>0</td>\n      <td>0</td>\n      <td>0</td>\n      <td>0</td>\n      <td>0</td>\n      <td>0</td>\n      <td>0</td>\n      <td>0</td>\n      <td>0</td>\n      <td>0</td>\n      <td>0</td>\n      <td>0</td>\n      <td>0</td>\n      <td>0</td>\n      <td>0</td>\n      <td>0</td>\n      <td>0</td>\n      <td>0</td>\n      <td>0</td>\n      <td>0</td>\n      <td>0</td>\n      <td>0</td>\n      <td>0</td>\n      <td>0</td>\n      <td>0</td>\n      <td>0</td>\n      <td>0</td>\n      <td>0</td>\n      <td>0</td>\n      <td>0</td>\n      <td>0</td>\n      <td>0</td>\n      <td>0</td>\n      <td>0</td>\n      <td>0</td>\n      <td>0</td>\n      <td>0</td>\n      <td>0</td>\n      <td>0</td>\n      <td>0</td>\n      <td>0</td>\n      <td>0</td>\n      <td>0</td>\n      <td>0</td>\n      <td>0</td>\n      <td>0</td>\n      <td>0</td>\n      <td>0</td>\n      <td>0</td>\n      <td>0</td>\n      <td>0</td>\n      <td>0</td>\n      <td>0</td>\n      <td>0</td>\n      <td>0</td>\n      <td>0</td>\n      <td>0</td>\n      <td>0</td>\n      <td>0</td>\n      <td>0</td>\n      <td>0</td>\n      <td>0</td>\n      <td>0</td>\n      <td>0</td>\n      <td>0</td>\n      <td>0</td>\n      <td>0</td>\n      <td>0</td>\n      <td>0</td>\n      <td>0</td>\n      <td>0</td>\n      <td>0</td>\n      <td>0</td>\n      <td>0</td>\n      <td>0</td>\n      <td>0</td>\n      <td>0</td>\n      <td>0</td>\n      <td>0</td>\n      <td>0</td>\n      <td>0</td>\n      <td>0</td>\n      <td>0</td>\n      <td>0</td>\n      <td>0</td>\n      <td>0</td>\n      <td>0</td>\n      <td>0</td>\n      <td>0</td>\n      <td>0</td>\n      <td>0</td>\n      <td>0</td>\n      <td>0</td>\n      <td>0</td>\n      <td>0</td>\n      <td>0</td>\n      <td>0</td>\n      <td>0</td>\n      <td>0</td>\n      <td>0</td>\n      <td>0</td>\n      <td>0</td>\n      <td>0</td>\n      <td>0</td>\n      <td>0</td>\n      <td>0</td>\n      <td>0</td>\n      <td>0</td>\n      <td>0</td>\n      <td>0</td>\n      <td>0</td>\n      <td>0</td>\n      <td>0</td>\n      <td>0</td>\n      <td>0</td>\n      <td>0</td>\n      <td>0</td>\n      <td>0</td>\n      <td>0</td>\n      <td>0</td>\n      <td>0</td>\n      <td>0</td>\n      <td>0</td>\n      <td>0</td>\n      <td>0</td>\n      <td>0</td>\n      <td>0</td>\n      <td>0</td>\n      <td>0</td>\n      <td>0</td>\n      <td>0</td>\n      <td>0</td>\n      <td>0</td>\n      <td>0</td>\n      <td>0</td>\n      <td>0</td>\n      <td>0</td>\n      <td>0</td>\n      <td>0</td>\n      <td>0</td>\n      <td>0</td>\n      <td>0</td>\n      <td>0</td>\n      <td>0</td>\n      <td>0</td>\n      <td>0</td>\n      <td>0</td>\n      <td>0</td>\n      <td>0</td>\n      <td>0</td>\n      <td>0</td>\n      <td>0</td>\n      <td>0</td>\n      <td>0</td>\n      <td>0</td>\n      <td>0</td>\n      <td>0</td>\n      <td>0</td>\n      <td>0</td>\n      <td>0</td>\n      <td>0</td>\n      <td>0</td>\n      <td>0</td>\n      <td>0</td>\n      <td>0</td>\n      <td>0</td>\n      <td>0</td>\n      <td>0</td>\n      <td>0</td>\n      <td>0</td>\n      <td>0</td>\n      <td>0</td>\n      <td>0</td>\n      <td>0</td>\n      <td>0</td>\n      <td>0</td>\n      <td>0</td>\n      <td>0</td>\n      <td>0</td>\n      <td>0</td>\n      <td>0</td>\n      <td>0</td>\n      <td>0</td>\n      <td>0</td>\n      <td>0</td>\n      <td>0</td>\n      <td>0</td>\n      <td>0</td>\n      <td>0</td>\n      <td>0</td>\n      <td>0</td>\n      <td>0</td>\n      <td>0</td>\n      <td>0</td>\n      <td>0</td>\n      <td>0</td>\n      <td>0</td>\n      <td>0</td>\n      <td>0</td>\n      <td>0</td>\n      <td>0</td>\n      <td>0</td>\n      <td>0</td>\n      <td>0</td>\n      <td>0</td>\n      <td>0</td>\n      <td>0</td>\n      <td>0</td>\n      <td>0</td>\n      <td>0</td>\n      <td>0</td>\n      <td>0</td>\n      <td>0</td>\n      <td>0</td>\n      <td>0</td>\n      <td>0</td>\n      <td>0</td>\n      <td>0</td>\n      <td>0</td>\n      <td>0</td>\n      <td>0</td>\n      <td>0</td>\n      <td>0</td>\n      <td>0</td>\n      <td>0</td>\n      <td>0</td>\n      <td>0</td>\n      <td>0</td>\n      <td>0</td>\n      <td>0</td>\n      <td>0</td>\n      <td>0</td>\n      <td>0</td>\n      <td>0</td>\n      <td>0</td>\n      <td>0</td>\n      <td>0</td>\n      <td>0</td>\n      <td>0</td>\n      <td>0</td>\n      <td>0</td>\n      <td>0</td>\n      <td>0</td>\n      <td>0</td>\n    </tr>\n    <tr>\n      <th>2</th>\n      <td>0</td>\n      <td>0</td>\n      <td>0</td>\n      <td>0</td>\n      <td>0</td>\n      <td>0</td>\n      <td>0</td>\n      <td>0</td>\n      <td>0</td>\n      <td>0</td>\n      <td>0</td>\n      <td>0</td>\n      <td>0</td>\n      <td>0</td>\n      <td>0</td>\n      <td>0</td>\n      <td>0</td>\n      <td>0</td>\n      <td>0</td>\n      <td>0</td>\n      <td>0</td>\n      <td>0</td>\n      <td>0</td>\n      <td>0</td>\n      <td>0</td>\n      <td>0</td>\n      <td>0</td>\n      <td>0</td>\n      <td>0</td>\n      <td>0</td>\n      <td>0</td>\n      <td>0</td>\n      <td>0</td>\n      <td>0</td>\n      <td>0</td>\n      <td>0</td>\n      <td>0</td>\n      <td>0</td>\n      <td>0</td>\n      <td>0</td>\n      <td>0</td>\n      <td>0</td>\n      <td>0</td>\n      <td>0</td>\n      <td>0</td>\n      <td>0</td>\n      <td>0</td>\n      <td>0</td>\n      <td>0</td>\n      <td>0</td>\n      <td>0</td>\n      <td>0</td>\n      <td>0</td>\n      <td>0</td>\n      <td>0</td>\n      <td>0</td>\n      <td>0</td>\n      <td>0</td>\n      <td>0</td>\n      <td>0</td>\n      <td>0</td>\n      <td>0</td>\n      <td>0</td>\n      <td>0</td>\n      <td>0</td>\n      <td>0</td>\n      <td>0</td>\n      <td>0</td>\n      <td>0</td>\n      <td>0</td>\n      <td>0</td>\n      <td>0</td>\n      <td>0</td>\n      <td>0</td>\n      <td>0</td>\n      <td>0</td>\n      <td>0</td>\n      <td>0</td>\n      <td>0</td>\n      <td>0</td>\n      <td>0</td>\n      <td>0</td>\n      <td>0</td>\n      <td>0</td>\n      <td>0</td>\n      <td>0</td>\n      <td>0</td>\n      <td>0</td>\n      <td>0</td>\n      <td>0</td>\n      <td>0</td>\n      <td>0</td>\n      <td>0</td>\n      <td>0</td>\n      <td>0</td>\n      <td>0</td>\n      <td>0</td>\n      <td>0</td>\n      <td>0</td>\n      <td>0</td>\n      <td>0</td>\n      <td>0</td>\n      <td>0</td>\n      <td>0</td>\n      <td>0</td>\n      <td>0</td>\n      <td>0</td>\n      <td>0</td>\n      <td>0</td>\n      <td>0</td>\n      <td>0</td>\n      <td>0</td>\n      <td>0</td>\n      <td>0</td>\n      <td>0</td>\n      <td>0</td>\n      <td>0</td>\n      <td>0</td>\n      <td>0</td>\n      <td>0</td>\n      <td>0</td>\n      <td>0</td>\n      <td>0</td>\n      <td>0</td>\n      <td>0</td>\n      <td>0</td>\n      <td>0</td>\n      <td>0</td>\n      <td>0</td>\n      <td>0</td>\n      <td>0</td>\n      <td>0</td>\n      <td>0</td>\n      <td>0</td>\n      <td>0</td>\n      <td>0</td>\n      <td>0</td>\n      <td>0</td>\n      <td>0</td>\n      <td>0</td>\n      <td>0</td>\n      <td>0</td>\n      <td>0</td>\n      <td>0</td>\n      <td>0</td>\n      <td>0</td>\n      <td>0</td>\n      <td>0</td>\n      <td>0</td>\n      <td>0</td>\n      <td>0</td>\n      <td>0</td>\n      <td>0</td>\n      <td>0</td>\n      <td>0</td>\n      <td>0</td>\n      <td>0</td>\n      <td>0</td>\n      <td>0</td>\n      <td>0</td>\n      <td>0</td>\n      <td>0</td>\n      <td>0</td>\n      <td>0</td>\n      <td>0</td>\n      <td>0</td>\n      <td>0</td>\n      <td>0</td>\n      <td>0</td>\n      <td>0</td>\n      <td>0</td>\n      <td>0</td>\n      <td>0</td>\n      <td>0</td>\n      <td>0</td>\n      <td>0</td>\n      <td>0</td>\n      <td>0</td>\n      <td>0</td>\n      <td>0</td>\n      <td>0</td>\n      <td>0</td>\n      <td>0</td>\n      <td>0</td>\n      <td>0</td>\n      <td>0</td>\n      <td>0</td>\n      <td>0</td>\n      <td>0</td>\n      <td>0</td>\n      <td>0</td>\n      <td>0</td>\n      <td>0</td>\n      <td>0</td>\n      <td>0</td>\n      <td>0</td>\n      <td>0</td>\n      <td>0</td>\n      <td>0</td>\n      <td>0</td>\n      <td>0</td>\n      <td>0</td>\n      <td>0</td>\n      <td>0</td>\n      <td>0</td>\n      <td>0</td>\n      <td>0</td>\n      <td>0</td>\n      <td>0</td>\n      <td>0</td>\n      <td>0</td>\n      <td>0</td>\n      <td>0</td>\n      <td>0</td>\n      <td>0</td>\n      <td>0</td>\n      <td>0</td>\n      <td>0</td>\n      <td>0</td>\n      <td>0</td>\n      <td>0</td>\n      <td>0</td>\n      <td>0</td>\n      <td>0</td>\n      <td>0</td>\n      <td>0</td>\n      <td>0</td>\n      <td>0</td>\n      <td>0</td>\n      <td>0</td>\n      <td>0</td>\n      <td>0</td>\n      <td>0</td>\n      <td>0</td>\n      <td>0</td>\n      <td>0</td>\n      <td>0</td>\n      <td>0</td>\n      <td>0</td>\n      <td>0</td>\n      <td>0</td>\n      <td>0</td>\n      <td>0</td>\n      <td>0</td>\n      <td>0</td>\n      <td>0</td>\n      <td>0</td>\n      <td>0</td>\n      <td>0</td>\n      <td>0</td>\n      <td>...</td>\n      <td>0</td>\n      <td>0</td>\n      <td>0</td>\n      <td>0</td>\n      <td>0</td>\n      <td>0</td>\n      <td>0</td>\n      <td>0</td>\n      <td>0</td>\n      <td>0</td>\n      <td>0</td>\n      <td>0</td>\n      <td>0</td>\n      <td>0</td>\n      <td>0</td>\n      <td>0</td>\n      <td>0</td>\n      <td>0</td>\n      <td>0</td>\n      <td>0</td>\n      <td>0</td>\n      <td>0</td>\n      <td>0</td>\n      <td>0</td>\n      <td>0</td>\n      <td>0</td>\n      <td>0</td>\n      <td>0</td>\n      <td>0</td>\n      <td>0</td>\n      <td>0</td>\n      <td>0</td>\n      <td>0</td>\n      <td>0</td>\n      <td>0</td>\n      <td>0</td>\n      <td>0</td>\n      <td>0</td>\n      <td>0</td>\n      <td>0</td>\n      <td>0</td>\n      <td>0</td>\n      <td>0</td>\n      <td>0</td>\n      <td>0</td>\n      <td>0</td>\n      <td>0</td>\n      <td>0</td>\n      <td>0</td>\n      <td>0</td>\n      <td>0</td>\n      <td>0</td>\n      <td>0</td>\n      <td>0</td>\n      <td>0</td>\n      <td>0</td>\n      <td>0</td>\n      <td>0</td>\n      <td>0</td>\n      <td>0</td>\n      <td>0</td>\n      <td>0</td>\n      <td>0</td>\n      <td>0</td>\n      <td>0</td>\n      <td>0</td>\n      <td>0</td>\n      <td>0</td>\n      <td>0</td>\n      <td>0</td>\n      <td>0</td>\n      <td>0</td>\n      <td>0</td>\n      <td>0</td>\n      <td>0</td>\n      <td>0</td>\n      <td>0</td>\n      <td>0</td>\n      <td>0</td>\n      <td>0</td>\n      <td>0</td>\n      <td>0</td>\n      <td>0</td>\n      <td>0</td>\n      <td>0</td>\n      <td>0</td>\n      <td>0</td>\n      <td>0</td>\n      <td>0</td>\n      <td>0</td>\n      <td>0</td>\n      <td>0</td>\n      <td>0</td>\n      <td>0</td>\n      <td>0</td>\n      <td>0</td>\n      <td>0</td>\n      <td>0</td>\n      <td>0</td>\n      <td>0</td>\n      <td>0</td>\n      <td>0</td>\n      <td>0</td>\n      <td>0</td>\n      <td>0</td>\n      <td>0</td>\n      <td>0</td>\n      <td>0</td>\n      <td>0</td>\n      <td>0</td>\n      <td>0</td>\n      <td>0</td>\n      <td>0</td>\n      <td>0</td>\n      <td>0</td>\n      <td>0</td>\n      <td>0</td>\n      <td>0</td>\n      <td>0</td>\n      <td>0</td>\n      <td>0</td>\n      <td>0</td>\n      <td>0</td>\n      <td>0</td>\n      <td>0</td>\n      <td>0</td>\n      <td>0</td>\n      <td>0</td>\n      <td>0</td>\n      <td>0</td>\n      <td>0</td>\n      <td>0</td>\n      <td>0</td>\n      <td>0</td>\n      <td>0</td>\n      <td>0</td>\n      <td>0</td>\n      <td>0</td>\n      <td>0</td>\n      <td>0</td>\n      <td>0</td>\n      <td>0</td>\n      <td>0</td>\n      <td>0</td>\n      <td>0</td>\n      <td>0</td>\n      <td>0</td>\n      <td>0</td>\n      <td>0</td>\n      <td>0</td>\n      <td>0</td>\n      <td>0</td>\n      <td>0</td>\n      <td>0</td>\n      <td>0</td>\n      <td>0</td>\n      <td>0</td>\n      <td>0</td>\n      <td>0</td>\n      <td>0</td>\n      <td>0</td>\n      <td>0</td>\n      <td>0</td>\n      <td>0</td>\n      <td>0</td>\n      <td>0</td>\n      <td>0</td>\n      <td>0</td>\n      <td>0</td>\n      <td>0</td>\n      <td>0</td>\n      <td>0</td>\n      <td>0</td>\n      <td>0</td>\n      <td>0</td>\n      <td>0</td>\n      <td>0</td>\n      <td>0</td>\n      <td>0</td>\n      <td>0</td>\n      <td>0</td>\n      <td>0</td>\n      <td>0</td>\n      <td>0</td>\n      <td>0</td>\n      <td>0</td>\n      <td>0</td>\n      <td>0</td>\n      <td>0</td>\n      <td>0</td>\n      <td>0</td>\n      <td>0</td>\n      <td>0</td>\n      <td>0</td>\n      <td>0</td>\n      <td>0</td>\n      <td>0</td>\n      <td>0</td>\n      <td>0</td>\n      <td>0</td>\n      <td>0</td>\n      <td>0</td>\n      <td>0</td>\n      <td>0</td>\n      <td>0</td>\n      <td>0</td>\n      <td>0</td>\n      <td>0</td>\n      <td>0</td>\n      <td>0</td>\n      <td>0</td>\n      <td>0</td>\n      <td>0</td>\n      <td>0</td>\n      <td>0</td>\n      <td>0</td>\n      <td>0</td>\n      <td>0</td>\n      <td>0</td>\n      <td>0</td>\n      <td>0</td>\n      <td>0</td>\n      <td>0</td>\n      <td>0</td>\n      <td>0</td>\n      <td>0</td>\n      <td>0</td>\n      <td>0</td>\n      <td>0</td>\n      <td>0</td>\n      <td>0</td>\n      <td>0</td>\n      <td>0</td>\n      <td>0</td>\n      <td>0</td>\n      <td>0</td>\n      <td>0</td>\n      <td>0</td>\n      <td>0</td>\n      <td>0</td>\n      <td>0</td>\n      <td>0</td>\n      <td>0</td>\n      <td>0</td>\n      <td>0</td>\n      <td>0</td>\n      <td>0</td>\n      <td>0</td>\n      <td>0</td>\n      <td>0</td>\n    </tr>\n    <tr>\n      <th>3</th>\n      <td>0</td>\n      <td>0</td>\n      <td>0</td>\n      <td>0</td>\n      <td>0</td>\n      <td>0</td>\n      <td>0</td>\n      <td>0</td>\n      <td>0</td>\n      <td>0</td>\n      <td>0</td>\n      <td>0</td>\n      <td>0</td>\n      <td>0</td>\n      <td>0</td>\n      <td>0</td>\n      <td>0</td>\n      <td>0</td>\n      <td>0</td>\n      <td>0</td>\n      <td>0</td>\n      <td>0</td>\n      <td>0</td>\n      <td>0</td>\n      <td>0</td>\n      <td>0</td>\n      <td>0</td>\n      <td>0</td>\n      <td>0</td>\n      <td>0</td>\n      <td>0</td>\n      <td>0</td>\n      <td>0</td>\n      <td>0</td>\n      <td>0</td>\n      <td>0</td>\n      <td>0</td>\n      <td>0</td>\n      <td>0</td>\n      <td>0</td>\n      <td>0</td>\n      <td>0</td>\n      <td>0</td>\n      <td>0</td>\n      <td>0</td>\n      <td>0</td>\n      <td>0</td>\n      <td>0</td>\n      <td>0</td>\n      <td>0</td>\n      <td>0</td>\n      <td>0</td>\n      <td>0</td>\n      <td>0</td>\n      <td>0</td>\n      <td>0</td>\n      <td>0</td>\n      <td>0</td>\n      <td>0</td>\n      <td>0</td>\n      <td>0</td>\n      <td>0</td>\n      <td>0</td>\n      <td>0</td>\n      <td>0</td>\n      <td>0</td>\n      <td>0</td>\n      <td>0</td>\n      <td>0</td>\n      <td>0</td>\n      <td>0</td>\n      <td>0</td>\n      <td>0</td>\n      <td>0</td>\n      <td>0</td>\n      <td>0</td>\n      <td>0</td>\n      <td>0</td>\n      <td>0</td>\n      <td>0</td>\n      <td>0</td>\n      <td>0</td>\n      <td>0</td>\n      <td>0</td>\n      <td>0</td>\n      <td>0</td>\n      <td>0</td>\n      <td>0</td>\n      <td>0</td>\n      <td>0</td>\n      <td>0</td>\n      <td>0</td>\n      <td>0</td>\n      <td>0</td>\n      <td>0</td>\n      <td>0</td>\n      <td>0</td>\n      <td>0</td>\n      <td>0</td>\n      <td>0</td>\n      <td>0</td>\n      <td>0</td>\n      <td>0</td>\n      <td>0</td>\n      <td>0</td>\n      <td>0</td>\n      <td>0</td>\n      <td>0</td>\n      <td>0</td>\n      <td>0</td>\n      <td>0</td>\n      <td>0</td>\n      <td>0</td>\n      <td>0</td>\n      <td>0</td>\n      <td>0</td>\n      <td>0</td>\n      <td>0</td>\n      <td>0</td>\n      <td>0</td>\n      <td>0</td>\n      <td>0</td>\n      <td>0</td>\n      <td>0</td>\n      <td>0</td>\n      <td>0</td>\n      <td>0</td>\n      <td>0</td>\n      <td>0</td>\n      <td>0</td>\n      <td>0</td>\n      <td>0</td>\n      <td>0</td>\n      <td>0</td>\n      <td>0</td>\n      <td>0</td>\n      <td>0</td>\n      <td>0</td>\n      <td>0</td>\n      <td>0</td>\n      <td>0</td>\n      <td>0</td>\n      <td>0</td>\n      <td>0</td>\n      <td>0</td>\n      <td>0</td>\n      <td>0</td>\n      <td>0</td>\n      <td>0</td>\n      <td>0</td>\n      <td>0</td>\n      <td>0</td>\n      <td>0</td>\n      <td>0</td>\n      <td>0</td>\n      <td>0</td>\n      <td>0</td>\n      <td>0</td>\n      <td>0</td>\n      <td>0</td>\n      <td>0</td>\n      <td>0</td>\n      <td>0</td>\n      <td>0</td>\n      <td>0</td>\n      <td>0</td>\n      <td>0</td>\n      <td>0</td>\n      <td>0</td>\n      <td>0</td>\n      <td>0</td>\n      <td>0</td>\n      <td>0</td>\n      <td>0</td>\n      <td>0</td>\n      <td>0</td>\n      <td>0</td>\n      <td>0</td>\n      <td>0</td>\n      <td>0</td>\n      <td>0</td>\n      <td>0</td>\n      <td>0</td>\n      <td>0</td>\n      <td>0</td>\n      <td>0</td>\n      <td>0</td>\n      <td>0</td>\n      <td>0</td>\n      <td>0</td>\n      <td>0</td>\n      <td>0</td>\n      <td>0</td>\n      <td>0</td>\n      <td>0</td>\n      <td>0</td>\n      <td>0</td>\n      <td>0</td>\n      <td>0</td>\n      <td>0</td>\n      <td>0</td>\n      <td>0</td>\n      <td>0</td>\n      <td>0</td>\n      <td>0</td>\n      <td>0</td>\n      <td>0</td>\n      <td>0</td>\n      <td>0</td>\n      <td>0</td>\n      <td>0</td>\n      <td>0</td>\n      <td>0</td>\n      <td>0</td>\n      <td>0</td>\n      <td>0</td>\n      <td>0</td>\n      <td>0</td>\n      <td>0</td>\n      <td>0</td>\n      <td>0</td>\n      <td>0</td>\n      <td>0</td>\n      <td>0</td>\n      <td>0</td>\n      <td>0</td>\n      <td>0</td>\n      <td>0</td>\n      <td>0</td>\n      <td>0</td>\n      <td>0</td>\n      <td>0</td>\n      <td>0</td>\n      <td>0</td>\n      <td>0</td>\n      <td>0</td>\n      <td>0</td>\n      <td>0</td>\n      <td>0</td>\n      <td>0</td>\n      <td>0</td>\n      <td>0</td>\n      <td>0</td>\n      <td>0</td>\n      <td>0</td>\n      <td>0</td>\n      <td>0</td>\n      <td>0</td>\n      <td>0</td>\n      <td>0</td>\n      <td>...</td>\n      <td>0</td>\n      <td>0</td>\n      <td>0</td>\n      <td>0</td>\n      <td>0</td>\n      <td>0</td>\n      <td>0</td>\n      <td>0</td>\n      <td>0</td>\n      <td>0</td>\n      <td>0</td>\n      <td>0</td>\n      <td>0</td>\n      <td>0</td>\n      <td>0</td>\n      <td>0</td>\n      <td>0</td>\n      <td>0</td>\n      <td>0</td>\n      <td>0</td>\n      <td>0</td>\n      <td>0</td>\n      <td>0</td>\n      <td>0</td>\n      <td>0</td>\n      <td>0</td>\n      <td>0</td>\n      <td>0</td>\n      <td>0</td>\n      <td>0</td>\n      <td>0</td>\n      <td>0</td>\n      <td>0</td>\n      <td>0</td>\n      <td>0</td>\n      <td>0</td>\n      <td>0</td>\n      <td>0</td>\n      <td>0</td>\n      <td>0</td>\n      <td>0</td>\n      <td>0</td>\n      <td>0</td>\n      <td>0</td>\n      <td>0</td>\n      <td>0</td>\n      <td>0</td>\n      <td>0</td>\n      <td>0</td>\n      <td>0</td>\n      <td>0</td>\n      <td>0</td>\n      <td>0</td>\n      <td>0</td>\n      <td>0</td>\n      <td>0</td>\n      <td>0</td>\n      <td>0</td>\n      <td>0</td>\n      <td>0</td>\n      <td>0</td>\n      <td>0</td>\n      <td>0</td>\n      <td>0</td>\n      <td>0</td>\n      <td>0</td>\n      <td>0</td>\n      <td>0</td>\n      <td>0</td>\n      <td>0</td>\n      <td>0</td>\n      <td>0</td>\n      <td>0</td>\n      <td>0</td>\n      <td>0</td>\n      <td>0</td>\n      <td>0</td>\n      <td>0</td>\n      <td>0</td>\n      <td>0</td>\n      <td>0</td>\n      <td>0</td>\n      <td>0</td>\n      <td>0</td>\n      <td>0</td>\n      <td>0</td>\n      <td>0</td>\n      <td>0</td>\n      <td>0</td>\n      <td>0</td>\n      <td>0</td>\n      <td>0</td>\n      <td>0</td>\n      <td>0</td>\n      <td>0</td>\n      <td>0</td>\n      <td>0</td>\n      <td>0</td>\n      <td>0</td>\n      <td>0</td>\n      <td>0</td>\n      <td>0</td>\n      <td>0</td>\n      <td>0</td>\n      <td>0</td>\n      <td>0</td>\n      <td>0</td>\n      <td>0</td>\n      <td>0</td>\n      <td>0</td>\n      <td>0</td>\n      <td>0</td>\n      <td>0</td>\n      <td>0</td>\n      <td>0</td>\n      <td>0</td>\n      <td>0</td>\n      <td>0</td>\n      <td>0</td>\n      <td>0</td>\n      <td>0</td>\n      <td>0</td>\n      <td>0</td>\n      <td>0</td>\n      <td>0</td>\n      <td>0</td>\n      <td>0</td>\n      <td>0</td>\n      <td>0</td>\n      <td>0</td>\n      <td>0</td>\n      <td>0</td>\n      <td>0</td>\n      <td>0</td>\n      <td>0</td>\n      <td>0</td>\n      <td>0</td>\n      <td>0</td>\n      <td>0</td>\n      <td>0</td>\n      <td>0</td>\n      <td>0</td>\n      <td>0</td>\n      <td>0</td>\n      <td>0</td>\n      <td>0</td>\n      <td>0</td>\n      <td>0</td>\n      <td>0</td>\n      <td>0</td>\n      <td>0</td>\n      <td>0</td>\n      <td>0</td>\n      <td>0</td>\n      <td>0</td>\n      <td>0</td>\n      <td>0</td>\n      <td>0</td>\n      <td>0</td>\n      <td>0</td>\n      <td>0</td>\n      <td>0</td>\n      <td>0</td>\n      <td>0</td>\n      <td>0</td>\n      <td>0</td>\n      <td>0</td>\n      <td>0</td>\n      <td>0</td>\n      <td>0</td>\n      <td>0</td>\n      <td>0</td>\n      <td>0</td>\n      <td>0</td>\n      <td>0</td>\n      <td>0</td>\n      <td>0</td>\n      <td>0</td>\n      <td>0</td>\n      <td>0</td>\n      <td>0</td>\n      <td>0</td>\n      <td>0</td>\n      <td>0</td>\n      <td>0</td>\n      <td>0</td>\n      <td>0</td>\n      <td>0</td>\n      <td>0</td>\n      <td>0</td>\n      <td>0</td>\n      <td>0</td>\n      <td>0</td>\n      <td>0</td>\n      <td>0</td>\n      <td>0</td>\n      <td>0</td>\n      <td>0</td>\n      <td>0</td>\n      <td>0</td>\n      <td>0</td>\n      <td>0</td>\n      <td>0</td>\n      <td>0</td>\n      <td>0</td>\n      <td>0</td>\n      <td>0</td>\n      <td>0</td>\n      <td>0</td>\n      <td>0</td>\n      <td>0</td>\n      <td>0</td>\n      <td>0</td>\n      <td>0</td>\n      <td>0</td>\n      <td>0</td>\n      <td>0</td>\n      <td>0</td>\n      <td>0</td>\n      <td>0</td>\n      <td>0</td>\n      <td>0</td>\n      <td>0</td>\n      <td>0</td>\n      <td>0</td>\n      <td>0</td>\n      <td>0</td>\n      <td>0</td>\n      <td>0</td>\n      <td>0</td>\n      <td>0</td>\n      <td>0</td>\n      <td>0</td>\n      <td>0</td>\n      <td>0</td>\n      <td>0</td>\n      <td>0</td>\n      <td>0</td>\n      <td>0</td>\n      <td>0</td>\n      <td>0</td>\n      <td>0</td>\n      <td>0</td>\n      <td>0</td>\n      <td>0</td>\n      <td>0</td>\n      <td>0</td>\n      <td>0</td>\n      <td>0</td>\n      <td>0</td>\n    </tr>\n    <tr>\n      <th>4</th>\n      <td>0</td>\n      <td>0</td>\n      <td>0</td>\n      <td>0</td>\n      <td>0</td>\n      <td>0</td>\n      <td>0</td>\n      <td>0</td>\n      <td>0</td>\n      <td>0</td>\n      <td>0</td>\n      <td>0</td>\n      <td>0</td>\n      <td>0</td>\n      <td>0</td>\n      <td>0</td>\n      <td>0</td>\n      <td>0</td>\n      <td>0</td>\n      <td>0</td>\n      <td>0</td>\n      <td>0</td>\n      <td>0</td>\n      <td>0</td>\n      <td>0</td>\n      <td>0</td>\n      <td>0</td>\n      <td>0</td>\n      <td>0</td>\n      <td>0</td>\n      <td>0</td>\n      <td>0</td>\n      <td>0</td>\n      <td>0</td>\n      <td>0</td>\n      <td>0</td>\n      <td>0</td>\n      <td>0</td>\n      <td>0</td>\n      <td>0</td>\n      <td>0</td>\n      <td>0</td>\n      <td>0</td>\n      <td>0</td>\n      <td>0</td>\n      <td>0</td>\n      <td>0</td>\n      <td>0</td>\n      <td>0</td>\n      <td>0</td>\n      <td>0</td>\n      <td>0</td>\n      <td>0</td>\n      <td>0</td>\n      <td>0</td>\n      <td>0</td>\n      <td>0</td>\n      <td>0</td>\n      <td>0</td>\n      <td>0</td>\n      <td>0</td>\n      <td>0</td>\n      <td>0</td>\n      <td>0</td>\n      <td>0</td>\n      <td>0</td>\n      <td>0</td>\n      <td>0</td>\n      <td>0</td>\n      <td>0</td>\n      <td>0</td>\n      <td>0</td>\n      <td>0</td>\n      <td>0</td>\n      <td>0</td>\n      <td>0</td>\n      <td>0</td>\n      <td>0</td>\n      <td>0</td>\n      <td>0</td>\n      <td>0</td>\n      <td>0</td>\n      <td>0</td>\n      <td>0</td>\n      <td>0</td>\n      <td>0</td>\n      <td>0</td>\n      <td>0</td>\n      <td>0</td>\n      <td>0</td>\n      <td>0</td>\n      <td>0</td>\n      <td>0</td>\n      <td>0</td>\n      <td>0</td>\n      <td>0</td>\n      <td>0</td>\n      <td>0</td>\n      <td>0</td>\n      <td>0</td>\n      <td>0</td>\n      <td>0</td>\n      <td>0</td>\n      <td>0</td>\n      <td>0</td>\n      <td>0</td>\n      <td>0</td>\n      <td>0</td>\n      <td>0</td>\n      <td>0</td>\n      <td>0</td>\n      <td>0</td>\n      <td>0</td>\n      <td>0</td>\n      <td>0</td>\n      <td>0</td>\n      <td>0</td>\n      <td>0</td>\n      <td>0</td>\n      <td>0</td>\n      <td>0</td>\n      <td>0</td>\n      <td>0</td>\n      <td>0</td>\n      <td>0</td>\n      <td>0</td>\n      <td>0</td>\n      <td>0</td>\n      <td>0</td>\n      <td>0</td>\n      <td>0</td>\n      <td>0</td>\n      <td>0</td>\n      <td>0</td>\n      <td>0</td>\n      <td>0</td>\n      <td>0</td>\n      <td>0</td>\n      <td>0</td>\n      <td>0</td>\n      <td>0</td>\n      <td>0</td>\n      <td>0</td>\n      <td>0</td>\n      <td>0</td>\n      <td>0</td>\n      <td>0</td>\n      <td>0</td>\n      <td>0</td>\n      <td>0</td>\n      <td>0</td>\n      <td>0</td>\n      <td>0</td>\n      <td>0</td>\n      <td>0</td>\n      <td>0</td>\n      <td>0</td>\n      <td>0</td>\n      <td>0</td>\n      <td>0</td>\n      <td>0</td>\n      <td>0</td>\n      <td>0</td>\n      <td>0</td>\n      <td>0</td>\n      <td>0</td>\n      <td>0</td>\n      <td>0</td>\n      <td>0</td>\n      <td>0</td>\n      <td>0</td>\n      <td>0</td>\n      <td>0</td>\n      <td>0</td>\n      <td>0</td>\n      <td>0</td>\n      <td>0</td>\n      <td>0</td>\n      <td>0</td>\n      <td>0</td>\n      <td>0</td>\n      <td>0</td>\n      <td>0</td>\n      <td>0</td>\n      <td>0</td>\n      <td>0</td>\n      <td>0</td>\n      <td>0</td>\n      <td>0</td>\n      <td>0</td>\n      <td>0</td>\n      <td>0</td>\n      <td>0</td>\n      <td>0</td>\n      <td>0</td>\n      <td>0</td>\n      <td>0</td>\n      <td>0</td>\n      <td>0</td>\n      <td>0</td>\n      <td>0</td>\n      <td>0</td>\n      <td>0</td>\n      <td>0</td>\n      <td>0</td>\n      <td>0</td>\n      <td>0</td>\n      <td>0</td>\n      <td>0</td>\n      <td>0</td>\n      <td>0</td>\n      <td>0</td>\n      <td>0</td>\n      <td>0</td>\n      <td>0</td>\n      <td>0</td>\n      <td>0</td>\n      <td>0</td>\n      <td>0</td>\n      <td>0</td>\n      <td>0</td>\n      <td>0</td>\n      <td>0</td>\n      <td>0</td>\n      <td>0</td>\n      <td>0</td>\n      <td>0</td>\n      <td>0</td>\n      <td>0</td>\n      <td>0</td>\n      <td>0</td>\n      <td>0</td>\n      <td>0</td>\n      <td>0</td>\n      <td>0</td>\n      <td>0</td>\n      <td>0</td>\n      <td>0</td>\n      <td>0</td>\n      <td>0</td>\n      <td>0</td>\n      <td>0</td>\n      <td>0</td>\n      <td>0</td>\n      <td>0</td>\n      <td>0</td>\n      <td>0</td>\n      <td>0</td>\n      <td>0</td>\n      <td>0</td>\n      <td>...</td>\n      <td>0</td>\n      <td>0</td>\n      <td>0</td>\n      <td>0</td>\n      <td>0</td>\n      <td>0</td>\n      <td>0</td>\n      <td>0</td>\n      <td>0</td>\n      <td>0</td>\n      <td>0</td>\n      <td>0</td>\n      <td>0</td>\n      <td>0</td>\n      <td>0</td>\n      <td>0</td>\n      <td>0</td>\n      <td>0</td>\n      <td>0</td>\n      <td>0</td>\n      <td>0</td>\n      <td>0</td>\n      <td>0</td>\n      <td>0</td>\n      <td>0</td>\n      <td>0</td>\n      <td>0</td>\n      <td>0</td>\n      <td>0</td>\n      <td>0</td>\n      <td>0</td>\n      <td>0</td>\n      <td>0</td>\n      <td>0</td>\n      <td>0</td>\n      <td>0</td>\n      <td>0</td>\n      <td>0</td>\n      <td>0</td>\n      <td>0</td>\n      <td>0</td>\n      <td>0</td>\n      <td>0</td>\n      <td>0</td>\n      <td>0</td>\n      <td>0</td>\n      <td>0</td>\n      <td>0</td>\n      <td>0</td>\n      <td>0</td>\n      <td>0</td>\n      <td>0</td>\n      <td>0</td>\n      <td>0</td>\n      <td>0</td>\n      <td>0</td>\n      <td>0</td>\n      <td>0</td>\n      <td>0</td>\n      <td>0</td>\n      <td>0</td>\n      <td>0</td>\n      <td>0</td>\n      <td>0</td>\n      <td>0</td>\n      <td>0</td>\n      <td>0</td>\n      <td>0</td>\n      <td>0</td>\n      <td>0</td>\n      <td>0</td>\n      <td>0</td>\n      <td>0</td>\n      <td>0</td>\n      <td>0</td>\n      <td>0</td>\n      <td>0</td>\n      <td>0</td>\n      <td>0</td>\n      <td>0</td>\n      <td>0</td>\n      <td>0</td>\n      <td>0</td>\n      <td>0</td>\n      <td>0</td>\n      <td>0</td>\n      <td>0</td>\n      <td>0</td>\n      <td>0</td>\n      <td>0</td>\n      <td>0</td>\n      <td>0</td>\n      <td>0</td>\n      <td>0</td>\n      <td>0</td>\n      <td>0</td>\n      <td>0</td>\n      <td>0</td>\n      <td>0</td>\n      <td>0</td>\n      <td>0</td>\n      <td>0</td>\n      <td>0</td>\n      <td>0</td>\n      <td>0</td>\n      <td>0</td>\n      <td>0</td>\n      <td>0</td>\n      <td>0</td>\n      <td>0</td>\n      <td>0</td>\n      <td>0</td>\n      <td>0</td>\n      <td>0</td>\n      <td>0</td>\n      <td>0</td>\n      <td>0</td>\n      <td>0</td>\n      <td>0</td>\n      <td>0</td>\n      <td>0</td>\n      <td>0</td>\n      <td>0</td>\n      <td>0</td>\n      <td>0</td>\n      <td>0</td>\n      <td>0</td>\n      <td>0</td>\n      <td>0</td>\n      <td>0</td>\n      <td>0</td>\n      <td>0</td>\n      <td>0</td>\n      <td>0</td>\n      <td>0</td>\n      <td>0</td>\n      <td>0</td>\n      <td>0</td>\n      <td>0</td>\n      <td>0</td>\n      <td>0</td>\n      <td>0</td>\n      <td>0</td>\n      <td>0</td>\n      <td>0</td>\n      <td>0</td>\n      <td>0</td>\n      <td>0</td>\n      <td>0</td>\n      <td>0</td>\n      <td>0</td>\n      <td>0</td>\n      <td>0</td>\n      <td>0</td>\n      <td>0</td>\n      <td>0</td>\n      <td>0</td>\n      <td>0</td>\n      <td>0</td>\n      <td>0</td>\n      <td>0</td>\n      <td>0</td>\n      <td>0</td>\n      <td>0</td>\n      <td>0</td>\n      <td>0</td>\n      <td>0</td>\n      <td>0</td>\n      <td>0</td>\n      <td>0</td>\n      <td>0</td>\n      <td>0</td>\n      <td>0</td>\n      <td>0</td>\n      <td>0</td>\n      <td>0</td>\n      <td>0</td>\n      <td>0</td>\n      <td>0</td>\n      <td>0</td>\n      <td>0</td>\n      <td>0</td>\n      <td>0</td>\n      <td>0</td>\n      <td>0</td>\n      <td>0</td>\n      <td>0</td>\n      <td>0</td>\n      <td>0</td>\n      <td>0</td>\n      <td>0</td>\n      <td>0</td>\n      <td>0</td>\n      <td>0</td>\n      <td>0</td>\n      <td>0</td>\n      <td>0</td>\n      <td>0</td>\n      <td>0</td>\n      <td>0</td>\n      <td>0</td>\n      <td>0</td>\n      <td>0</td>\n      <td>0</td>\n      <td>0</td>\n      <td>0</td>\n      <td>0</td>\n      <td>0</td>\n      <td>0</td>\n      <td>0</td>\n      <td>0</td>\n      <td>0</td>\n      <td>0</td>\n      <td>0</td>\n      <td>0</td>\n      <td>0</td>\n      <td>0</td>\n      <td>0</td>\n      <td>0</td>\n      <td>0</td>\n      <td>0</td>\n      <td>0</td>\n      <td>0</td>\n      <td>0</td>\n      <td>0</td>\n      <td>0</td>\n      <td>0</td>\n      <td>0</td>\n      <td>0</td>\n      <td>0</td>\n      <td>0</td>\n      <td>0</td>\n      <td>0</td>\n      <td>0</td>\n      <td>0</td>\n      <td>0</td>\n      <td>0</td>\n      <td>0</td>\n      <td>0</td>\n      <td>0</td>\n      <td>0</td>\n      <td>0</td>\n      <td>0</td>\n      <td>0</td>\n      <td>0</td>\n      <td>0</td>\n      <td>0</td>\n      <td>0</td>\n      <td>0</td>\n      <td>0</td>\n    </tr>\n  </tbody>\n</table>\n<p>5 rows × 49601 columns</p>\n</div>"
     },
     "metadata": {},
     "output_type": "display_data"
    },
    {
     "data": {
      "text/plain": "   0      1      2      3      4      5      6      7      8      9      10     11     12     13     14     15     16     17     18     19     20     21     22     23     24     25     26     27     28     29     30     31     32     33     34     35     36     37     38     39     40     41     42     43     44     45     46     47     48     49     50     51     52     53     54     55     56     57     58     59     60     61     62     63     64     65     66     67     68     69     70     71     72     73     74     75     76     77     78     79     80     81     82     83     84     85     86     87     88     89     90     91     92     93     94     95     96     97     98     99     100    101    102    103    104    105    106    107    108    109    110    111    112    113    114    115    116    117    118    119    120    121    122    123    124    125    126    127    128    129    130    131    132    133    134    135    136    137    138    139    140    141    \\\n0      0      0      0      0      0      0      0      0      0      0      0      0      0      0      0      0      0      0      0      0      0      0      0      0      0      0      0      0      0      0      0      0      0      0      0      0      0      0      0      0      0      0      0      0      0      0      0      0      0      0      0      0      0      0      0      0      0      0      0      0      0      0      0      0      0      0      0      0      0      0      0      0      0      0      0      0      0      0      0      0      0      0      0      0      0      0      0      0      0      0      0      0      0      0      0      0      0      0      0      0      0      0      0      0      0      0      0      0      0      0      0      0      0      0      0      0      0      0      0      0      0      0      0      0      0      0      0      0      0      0      0      0      0      0      0      0      0      0      0      0      0      0   \n1      0      0      0      0      0      0      0      0      0      0      0      0      0      0      0      0      0      0      0      0      0      0      0      0      0      0      0      0      0      0      0      0      0      0      0      0      0      0      0      0      0      0      0      0      0      0      0      0      0      0      0      0      0      0      0      0      0      0      0      0      0      0      0      0      0      0      0      0      0      0      0      0      0      0      0      0      0      0      0      0      0      0      0      0      0      0      0      0      0      0      0      0      0      0      0      0      0      0      0      0      0      0      0      0      0      0      0      0      0      0      0      0      0      0      0      0      0      0      0      0      0      0      0      0      0      0      0      0      0      0      0      0      0      0      0      0      0      0      0      0      0      0   \n2      0      0      0      0      0      0      0      0      0      0      0      0      0      0      0      0      0      0      0      0      0      0      0      0      0      0      0      0      0      0      0      0      0      0      0      0      0      0      0      0      0      0      0      0      0      0      0      0      0      0      0      0      0      0      0      0      0      0      0      0      0      0      0      0      0      0      0      0      0      0      0      0      0      0      0      0      0      0      0      0      0      0      0      0      0      0      0      0      0      0      0      0      0      0      0      0      0      0      0      0      0      0      0      0      0      0      0      0      0      0      0      0      0      0      0      0      0      0      0      0      0      0      0      0      0      0      0      0      0      0      0      0      0      0      0      0      0      0      0      0      0      0   \n3      0      0      0      0      0      0      0      0      0      0      0      0      0      0      0      0      0      0      0      0      0      0      0      0      0      0      0      0      0      0      0      0      0      0      0      0      0      0      0      0      0      0      0      0      0      0      0      0      0      0      0      0      0      0      0      0      0      0      0      0      0      0      0      0      0      0      0      0      0      0      0      0      0      0      0      0      0      0      0      0      0      0      0      0      0      0      0      0      0      0      0      0      0      0      0      0      0      0      0      0      0      0      0      0      0      0      0      0      0      0      0      0      0      0      0      0      0      0      0      0      0      0      0      0      0      0      0      0      0      0      0      0      0      0      0      0      0      0      0      0      0      0   \n4      0      0      0      0      0      0      0      0      0      0      0      0      0      0      0      0      0      0      0      0      0      0      0      0      0      0      0      0      0      0      0      0      0      0      0      0      0      0      0      0      0      0      0      0      0      0      0      0      0      0      0      0      0      0      0      0      0      0      0      0      0      0      0      0      0      0      0      0      0      0      0      0      0      0      0      0      0      0      0      0      0      0      0      0      0      0      0      0      0      0      0      0      0      0      0      0      0      0      0      0      0      0      0      0      0      0      0      0      0      0      0      0      0      0      0      0      0      0      0      0      0      0      0      0      0      0      0      0      0      0      0      0      0      0      0      0      0      0      0      0      0      0   \n\n   142    143    144    145    146    147    148    149    150    151    152    153    154    155    156    157    158    159    160    161    162    163    164    165    166    167    168    169    170    171    172    173    174    175    176    177    178    179    180    181    182    183    184    185    186    187    188    189    190    191    192    193    194    195    196    197    198    199    200    201    202    203    204    205    206    207    208    209    210    211    212    213    214    215    216    217    218    219    220    221    222    223    224    225    226    227    228    229    230    231    232    233    234    235    236    237    238    239    240    241    242    243    244    245    246    247    248    249    ...  49351  49352  49353  49354  49355  49356  49357  49358  49359  49360  49361  49362  49363  49364  49365  49366  49367  49368  49369  49370  49371  49372  49373  49374  49375  49376  49377  49378  49379  49380  49381  49382  49383  \\\n0      0      0      0      0      0      0      0      0      0      0      0      0      0      0      0      0      0      0      0      0      0      0      0      0      0      0      0      0      0      0      0      0      0      0      0      0      0      0      0      0      0      0      0      0      0      0      0      0      0      0      0      0      0      0      0      0      0      0      0      0      0      0      0      0      0      0      0      0      0      0      0      0      0      0      0      0      0      0      0      0      0      0      0      0      0      0      0      0      0      0      0      0      0      0      0      0      0      0      0      0      0      0      0      0      0      0      0      0  ...      0      0      0      0      0      0      0      0      0      0      0      0      0      0      0      0      0      0      0      0      0      0      0      0      0      0      0      0      0      0      0      0      0   \n1      0      0      0      0      0      0      0      0      0      0      0      0      0      0      0      0      0      0      0      0      0      0      0      0      0      0      0      0      0      0      0      0      0      0      0      0      0      0      0      0      0      0      0      0      0      0      0      0      0      0      0      0      0      0      0      0      0      0      0      0      0      0      0      0      0      0      0      0      0      0      0      0      0      0      0      0      0      0      0      0      0      0      0      0      0      0      0      0      0      0      0      0      0      0      0      0      0      0      0      0      0      0      0      0      0      0      0      0  ...      0      0      0      0      0      0      0      0      0      0      0      0      0      0      0      0      0      0      0      0      0      0      0      0      0      0      0      0      0      0      0      0      0   \n2      0      0      1      0      0      0      0      0      0      0      0      0      0      0      0      0      0      0      0      0      0      0      0      0      0      0      0      0      0      0      0      0      0      0      0      0      0      0      0      0      0      0      0      0      0      0      0      0      0      0      0      0      0      0      0      0      0      0      0      0      0      0      0      0      0      0      0      0      0      0      0      0      0      0      0      0      0      0      0      0      0      0      0      0      0      0      0      0      0      0      0      0      0      0      0      0      0      0      0      0      0      0      0      0      0      0      0      0  ...      0      0      0      0      0      0      0      0      0      0      0      0      0      0      0      0      0      0      0      0      0      0      0      0      0      0      0      0      0      0      0      0      0   \n3      0      0      0      0      0      0      0      0      0      0      0      0      0      0      0      0      0      0      0      0      0      0      0      0      0      0      0      0      0      0      0      0      0      0      0      0      0      0      0      0      0      0      0      0      0      0      0      0      0      0      0      0      0      0      0      0      0      0      0      0      0      0      0      0      0      0      0      0      0      0      0      0      0      0      0      0      0      0      0      0      0      0      0      0      0      0      0      0      0      0      0      0      0      0      0      0      0      0      0      0      0      0      0      0      0      0      0      0  ...      0      0      0      0      0      0      0      0      0      0      0      0      0      0      0      0      0      0      0      0      0      0      0      0      0      0      0      0      0      0      0      0      0   \n4      0      0      0      0      0      0      0      0      0      0      0      0      0      0      0      0      0      0      0      0      0      0      0      0      0      0      0      0      0      0      0      0      0      0      0      0      0      0      0      0      0      0      0      0      0      0      0      0      0      0      0      0      0      0      0      0      0      0      0      0      0      0      0      0      0      0      0      0      0      0      0      0      0      0      0      0      0      0      0      0      0      0      0      0      0      0      0      0      0      0      0      0      0      0      0      0      0      0      0      0      0      0      0      0      0      0      0      0  ...      0      0      0      0      0      0      0      0      0      0      0      0      0      0      0      0      0      0      0      0      0      0      0      0      0      0      0      0      0      0      0      0      0   \n\n   49384  49385  49386  49387  49388  49389  49390  49391  49392  49393  49394  49395  49396  49397  49398  49399  49400  49401  49402  49403  49404  49405  49406  49407  49408  49409  49410  49411  49412  49413  49414  49415  49416  49417  49418  49419  49420  49421  49422  49423  49424  49425  49426  49427  49428  49429  49430  49431  49432  49433  49434  49435  49436  49437  49438  49439  49440  49441  49442  49443  49444  49445  49446  49447  49448  49449  49450  49451  49452  49453  49454  49455  49456  49457  49458  49459  49460  49461  49462  49463  49464  49465  49466  49467  49468  49469  49470  49471  49472  49473  49474  49475  49476  49477  49478  49479  49480  49481  49482  49483  49484  49485  49486  49487  49488  49489  49490  49491  49492  49493  49494  49495  49496  49497  49498  49499  49500  49501  49502  49503  49504  49505  49506  49507  49508  49509  49510  49511  49512  49513  49514  49515  49516  49517  49518  49519  49520  49521  49522  49523  49524  49525  \\\n0      0      0      0      0      0      0      0      0      0      0      0      0      0      0      0      0      0      0      0      0      0      0      0      0      0      0      0      0      0      0      0      0      0      0      0      0      0      0      0      0      0      0      0      0      0      0      0      0      0      0      0      0      0      0      0      0      0      0      0      0      0      0      0      0      0      0      0      0      0      0      0      0      0      0      0      0      0      0      0      0      0      0      0      0      0      0      0      0      0      0      0      0      0      0      0      0      0      0      0      0      0      0      0      0      0      0      0      0      0      0      0      0      0      0      0      0      0      0      0      0      0      0      0      0      0      0      0      0      0      0      0      0      0      0      0      0      0      0      0      0      0      0   \n1      0      0      0      0      0      0      0      0      0      0      0      0      0      0      0      0      0      0      0      0      0      0      0      0      0      0      0      0      0      0      0      0      0      0      0      0      0      0      0      0      0      0      0      0      0      0      0      0      0      0      0      0      0      0      0      0      0      0      0      0      0      0      0      0      0      0      0      0      0      0      0      0      0      0      0      0      0      0      0      0      0      0      0      0      0      0      0      0      0      0      0      0      0      0      0      0      0      0      0      0      0      0      0      0      0      0      0      0      0      0      0      0      0      0      0      0      0      0      0      0      0      0      0      0      0      0      0      0      0      0      0      0      0      0      0      0      0      0      0      0      0      0   \n2      0      0      0      0      0      0      0      0      0      0      0      0      0      0      0      0      0      0      0      0      0      0      0      0      0      0      0      0      0      0      0      0      0      0      0      0      0      0      0      0      0      0      0      0      0      0      0      0      0      0      0      0      0      0      0      0      0      0      0      0      0      0      0      0      0      0      0      0      0      0      0      0      0      0      0      0      0      0      0      0      0      0      0      0      0      0      0      0      0      0      0      0      0      0      0      0      0      0      0      0      0      0      0      0      0      0      0      0      0      0      0      0      0      0      0      0      0      0      0      0      0      0      0      0      0      0      0      0      0      0      0      0      0      0      0      0      0      0      0      0      0      0   \n3      0      0      0      0      0      0      0      0      0      0      0      0      0      0      0      0      0      0      0      0      0      0      0      0      0      0      0      0      0      0      0      0      0      0      0      0      0      0      0      0      0      0      0      0      0      0      0      0      0      0      0      0      0      0      0      0      0      0      0      0      0      0      0      0      0      0      0      0      0      0      0      0      0      0      0      0      0      0      0      0      0      0      0      0      0      0      0      0      0      0      0      0      0      0      0      0      0      0      0      0      0      0      0      0      0      0      0      0      0      0      0      0      0      0      0      0      0      0      0      0      0      0      0      0      0      0      0      0      0      0      0      0      0      0      0      0      0      0      0      0      0      0   \n4      0      0      0      0      0      0      0      0      0      0      0      0      0      0      0      0      0      0      0      0      0      0      0      0      0      0      0      0      0      0      0      0      0      0      0      0      0      0      0      0      0      0      0      0      0      0      0      0      0      0      0      0      0      0      0      0      0      0      0      0      0      0      0      0      0      0      0      0      0      0      0      0      0      0      0      0      0      0      0      0      0      0      0      0      0      0      0      0      0      0      0      0      0      0      0      0      0      0      0      0      0      0      0      0      0      0      0      0      0      0      0      0      0      0      0      0      0      0      0      0      0      0      0      0      0      0      0      0      0      0      0      0      0      0      0      0      0      0      0      0      0      0   \n\n   49526  49527  49528  49529  49530  49531  49532  49533  49534  49535  49536  49537  49538  49539  49540  49541  49542  49543  49544  49545  49546  49547  49548  49549  49550  49551  49552  49553  49554  49555  49556  49557  49558  49559  49560  49561  49562  49563  49564  49565  49566  49567  49568  49569  49570  49571  49572  49573  49574  49575  49576  49577  49578  49579  49580  49581  49582  49583  49584  49585  49586  49587  49588  49589  49590  49591  49592  49593  49594  49595  49596  49597  49598  49599  49600  \n0      0      0      0      0      0      0      0      0      0      0      0      0      0      0      0      0      0      0      0      0      0      0      0      0      0      0      0      0      0      0      0      0      0      0      0      0      0      0      0      0      0      0      0      0      0      0      0      0      0      0      0      0      0      0      0      0      0      0      0      0      0      0      0      0      0      0      0      0      0      0      0      0      0      0      0  \n1      0      0      0      0      0      0      0      0      0      0      0      0      0      0      0      0      0      0      0      0      0      0      0      0      0      0      0      0      0      0      0      0      0      0      0      0      0      0      0      0      0      0      0      0      0      0      0      0      0      0      0      0      0      0      0      0      0      0      0      0      0      0      0      0      0      0      0      0      0      0      0      0      0      0      0  \n2      0      0      0      0      0      0      0      0      0      0      0      0      0      0      0      0      0      0      0      0      0      0      0      0      0      0      0      0      0      0      0      0      0      0      0      0      0      0      0      0      0      0      0      0      0      0      0      0      0      0      0      0      0      0      0      0      0      0      0      0      0      0      0      0      0      0      0      0      0      0      0      0      0      0      0  \n3      0      0      0      0      0      0      0      0      0      0      0      0      0      0      0      0      0      0      0      0      0      0      0      0      0      0      0      0      0      0      0      0      0      0      0      0      0      0      0      0      0      0      0      0      0      0      0      0      0      0      0      0      0      0      0      0      0      0      0      0      0      0      0      0      0      0      0      0      0      0      0      0      0      0      0  \n4      0      0      0      0      0      0      0      0      0      0      0      0      0      0      0      0      0      0      0      0      0      0      0      0      0      0      0      0      0      0      0      0      0      0      0      0      0      0      0      0      0      0      0      0      0      0      0      0      0      0      0      0      0      0      0      0      0      0      0      0      0      0      0      0      0      0      0      0      0      0      0      0      0      0      0  \n\n[5 rows x 49601 columns]",
      "text/html": "<div>\n<style scoped>\n    .dataframe tbody tr th:only-of-type {\n        vertical-align: middle;\n    }\n\n    .dataframe tbody tr th {\n        vertical-align: top;\n    }\n\n    .dataframe thead th {\n        text-align: right;\n    }\n</style>\n<table border=\"1\" class=\"dataframe\">\n  <thead>\n    <tr style=\"text-align: right;\">\n      <th></th>\n      <th>0</th>\n      <th>1</th>\n      <th>2</th>\n      <th>3</th>\n      <th>4</th>\n      <th>5</th>\n      <th>6</th>\n      <th>7</th>\n      <th>8</th>\n      <th>9</th>\n      <th>10</th>\n      <th>11</th>\n      <th>12</th>\n      <th>13</th>\n      <th>14</th>\n      <th>15</th>\n      <th>16</th>\n      <th>17</th>\n      <th>18</th>\n      <th>19</th>\n      <th>20</th>\n      <th>21</th>\n      <th>22</th>\n      <th>23</th>\n      <th>24</th>\n      <th>25</th>\n      <th>26</th>\n      <th>27</th>\n      <th>28</th>\n      <th>29</th>\n      <th>30</th>\n      <th>31</th>\n      <th>32</th>\n      <th>33</th>\n      <th>34</th>\n      <th>35</th>\n      <th>36</th>\n      <th>37</th>\n      <th>38</th>\n      <th>39</th>\n      <th>40</th>\n      <th>41</th>\n      <th>42</th>\n      <th>43</th>\n      <th>44</th>\n      <th>45</th>\n      <th>46</th>\n      <th>47</th>\n      <th>48</th>\n      <th>49</th>\n      <th>50</th>\n      <th>51</th>\n      <th>52</th>\n      <th>53</th>\n      <th>54</th>\n      <th>55</th>\n      <th>56</th>\n      <th>57</th>\n      <th>58</th>\n      <th>59</th>\n      <th>60</th>\n      <th>61</th>\n      <th>62</th>\n      <th>63</th>\n      <th>64</th>\n      <th>65</th>\n      <th>66</th>\n      <th>67</th>\n      <th>68</th>\n      <th>69</th>\n      <th>70</th>\n      <th>71</th>\n      <th>72</th>\n      <th>73</th>\n      <th>74</th>\n      <th>75</th>\n      <th>76</th>\n      <th>77</th>\n      <th>78</th>\n      <th>79</th>\n      <th>80</th>\n      <th>81</th>\n      <th>82</th>\n      <th>83</th>\n      <th>84</th>\n      <th>85</th>\n      <th>86</th>\n      <th>87</th>\n      <th>88</th>\n      <th>89</th>\n      <th>90</th>\n      <th>91</th>\n      <th>92</th>\n      <th>93</th>\n      <th>94</th>\n      <th>95</th>\n      <th>96</th>\n      <th>97</th>\n      <th>98</th>\n      <th>99</th>\n      <th>100</th>\n      <th>101</th>\n      <th>102</th>\n      <th>103</th>\n      <th>104</th>\n      <th>105</th>\n      <th>106</th>\n      <th>107</th>\n      <th>108</th>\n      <th>109</th>\n      <th>110</th>\n      <th>111</th>\n      <th>112</th>\n      <th>113</th>\n      <th>114</th>\n      <th>115</th>\n      <th>116</th>\n      <th>117</th>\n      <th>118</th>\n      <th>119</th>\n      <th>120</th>\n      <th>121</th>\n      <th>122</th>\n      <th>123</th>\n      <th>124</th>\n      <th>125</th>\n      <th>126</th>\n      <th>127</th>\n      <th>128</th>\n      <th>129</th>\n      <th>130</th>\n      <th>131</th>\n      <th>132</th>\n      <th>133</th>\n      <th>134</th>\n      <th>135</th>\n      <th>136</th>\n      <th>137</th>\n      <th>138</th>\n      <th>139</th>\n      <th>140</th>\n      <th>141</th>\n      <th>142</th>\n      <th>143</th>\n      <th>144</th>\n      <th>145</th>\n      <th>146</th>\n      <th>147</th>\n      <th>148</th>\n      <th>149</th>\n      <th>150</th>\n      <th>151</th>\n      <th>152</th>\n      <th>153</th>\n      <th>154</th>\n      <th>155</th>\n      <th>156</th>\n      <th>157</th>\n      <th>158</th>\n      <th>159</th>\n      <th>160</th>\n      <th>161</th>\n      <th>162</th>\n      <th>163</th>\n      <th>164</th>\n      <th>165</th>\n      <th>166</th>\n      <th>167</th>\n      <th>168</th>\n      <th>169</th>\n      <th>170</th>\n      <th>171</th>\n      <th>172</th>\n      <th>173</th>\n      <th>174</th>\n      <th>175</th>\n      <th>176</th>\n      <th>177</th>\n      <th>178</th>\n      <th>179</th>\n      <th>180</th>\n      <th>181</th>\n      <th>182</th>\n      <th>183</th>\n      <th>184</th>\n      <th>185</th>\n      <th>186</th>\n      <th>187</th>\n      <th>188</th>\n      <th>189</th>\n      <th>190</th>\n      <th>191</th>\n      <th>192</th>\n      <th>193</th>\n      <th>194</th>\n      <th>195</th>\n      <th>196</th>\n      <th>197</th>\n      <th>198</th>\n      <th>199</th>\n      <th>200</th>\n      <th>201</th>\n      <th>202</th>\n      <th>203</th>\n      <th>204</th>\n      <th>205</th>\n      <th>206</th>\n      <th>207</th>\n      <th>208</th>\n      <th>209</th>\n      <th>210</th>\n      <th>211</th>\n      <th>212</th>\n      <th>213</th>\n      <th>214</th>\n      <th>215</th>\n      <th>216</th>\n      <th>217</th>\n      <th>218</th>\n      <th>219</th>\n      <th>220</th>\n      <th>221</th>\n      <th>222</th>\n      <th>223</th>\n      <th>224</th>\n      <th>225</th>\n      <th>226</th>\n      <th>227</th>\n      <th>228</th>\n      <th>229</th>\n      <th>230</th>\n      <th>231</th>\n      <th>232</th>\n      <th>233</th>\n      <th>234</th>\n      <th>235</th>\n      <th>236</th>\n      <th>237</th>\n      <th>238</th>\n      <th>239</th>\n      <th>240</th>\n      <th>241</th>\n      <th>242</th>\n      <th>243</th>\n      <th>244</th>\n      <th>245</th>\n      <th>246</th>\n      <th>247</th>\n      <th>248</th>\n      <th>249</th>\n      <th>...</th>\n      <th>49351</th>\n      <th>49352</th>\n      <th>49353</th>\n      <th>49354</th>\n      <th>49355</th>\n      <th>49356</th>\n      <th>49357</th>\n      <th>49358</th>\n      <th>49359</th>\n      <th>49360</th>\n      <th>49361</th>\n      <th>49362</th>\n      <th>49363</th>\n      <th>49364</th>\n      <th>49365</th>\n      <th>49366</th>\n      <th>49367</th>\n      <th>49368</th>\n      <th>49369</th>\n      <th>49370</th>\n      <th>49371</th>\n      <th>49372</th>\n      <th>49373</th>\n      <th>49374</th>\n      <th>49375</th>\n      <th>49376</th>\n      <th>49377</th>\n      <th>49378</th>\n      <th>49379</th>\n      <th>49380</th>\n      <th>49381</th>\n      <th>49382</th>\n      <th>49383</th>\n      <th>49384</th>\n      <th>49385</th>\n      <th>49386</th>\n      <th>49387</th>\n      <th>49388</th>\n      <th>49389</th>\n      <th>49390</th>\n      <th>49391</th>\n      <th>49392</th>\n      <th>49393</th>\n      <th>49394</th>\n      <th>49395</th>\n      <th>49396</th>\n      <th>49397</th>\n      <th>49398</th>\n      <th>49399</th>\n      <th>49400</th>\n      <th>49401</th>\n      <th>49402</th>\n      <th>49403</th>\n      <th>49404</th>\n      <th>49405</th>\n      <th>49406</th>\n      <th>49407</th>\n      <th>49408</th>\n      <th>49409</th>\n      <th>49410</th>\n      <th>49411</th>\n      <th>49412</th>\n      <th>49413</th>\n      <th>49414</th>\n      <th>49415</th>\n      <th>49416</th>\n      <th>49417</th>\n      <th>49418</th>\n      <th>49419</th>\n      <th>49420</th>\n      <th>49421</th>\n      <th>49422</th>\n      <th>49423</th>\n      <th>49424</th>\n      <th>49425</th>\n      <th>49426</th>\n      <th>49427</th>\n      <th>49428</th>\n      <th>49429</th>\n      <th>49430</th>\n      <th>49431</th>\n      <th>49432</th>\n      <th>49433</th>\n      <th>49434</th>\n      <th>49435</th>\n      <th>49436</th>\n      <th>49437</th>\n      <th>49438</th>\n      <th>49439</th>\n      <th>49440</th>\n      <th>49441</th>\n      <th>49442</th>\n      <th>49443</th>\n      <th>49444</th>\n      <th>49445</th>\n      <th>49446</th>\n      <th>49447</th>\n      <th>49448</th>\n      <th>49449</th>\n      <th>49450</th>\n      <th>49451</th>\n      <th>49452</th>\n      <th>49453</th>\n      <th>49454</th>\n      <th>49455</th>\n      <th>49456</th>\n      <th>49457</th>\n      <th>49458</th>\n      <th>49459</th>\n      <th>49460</th>\n      <th>49461</th>\n      <th>49462</th>\n      <th>49463</th>\n      <th>49464</th>\n      <th>49465</th>\n      <th>49466</th>\n      <th>49467</th>\n      <th>49468</th>\n      <th>49469</th>\n      <th>49470</th>\n      <th>49471</th>\n      <th>49472</th>\n      <th>49473</th>\n      <th>49474</th>\n      <th>49475</th>\n      <th>49476</th>\n      <th>49477</th>\n      <th>49478</th>\n      <th>49479</th>\n      <th>49480</th>\n      <th>49481</th>\n      <th>49482</th>\n      <th>49483</th>\n      <th>49484</th>\n      <th>49485</th>\n      <th>49486</th>\n      <th>49487</th>\n      <th>49488</th>\n      <th>49489</th>\n      <th>49490</th>\n      <th>49491</th>\n      <th>49492</th>\n      <th>49493</th>\n      <th>49494</th>\n      <th>49495</th>\n      <th>49496</th>\n      <th>49497</th>\n      <th>49498</th>\n      <th>49499</th>\n      <th>49500</th>\n      <th>49501</th>\n      <th>49502</th>\n      <th>49503</th>\n      <th>49504</th>\n      <th>49505</th>\n      <th>49506</th>\n      <th>49507</th>\n      <th>49508</th>\n      <th>49509</th>\n      <th>49510</th>\n      <th>49511</th>\n      <th>49512</th>\n      <th>49513</th>\n      <th>49514</th>\n      <th>49515</th>\n      <th>49516</th>\n      <th>49517</th>\n      <th>49518</th>\n      <th>49519</th>\n      <th>49520</th>\n      <th>49521</th>\n      <th>49522</th>\n      <th>49523</th>\n      <th>49524</th>\n      <th>49525</th>\n      <th>49526</th>\n      <th>49527</th>\n      <th>49528</th>\n      <th>49529</th>\n      <th>49530</th>\n      <th>49531</th>\n      <th>49532</th>\n      <th>49533</th>\n      <th>49534</th>\n      <th>49535</th>\n      <th>49536</th>\n      <th>49537</th>\n      <th>49538</th>\n      <th>49539</th>\n      <th>49540</th>\n      <th>49541</th>\n      <th>49542</th>\n      <th>49543</th>\n      <th>49544</th>\n      <th>49545</th>\n      <th>49546</th>\n      <th>49547</th>\n      <th>49548</th>\n      <th>49549</th>\n      <th>49550</th>\n      <th>49551</th>\n      <th>49552</th>\n      <th>49553</th>\n      <th>49554</th>\n      <th>49555</th>\n      <th>49556</th>\n      <th>49557</th>\n      <th>49558</th>\n      <th>49559</th>\n      <th>49560</th>\n      <th>49561</th>\n      <th>49562</th>\n      <th>49563</th>\n      <th>49564</th>\n      <th>49565</th>\n      <th>49566</th>\n      <th>49567</th>\n      <th>49568</th>\n      <th>49569</th>\n      <th>49570</th>\n      <th>49571</th>\n      <th>49572</th>\n      <th>49573</th>\n      <th>49574</th>\n      <th>49575</th>\n      <th>49576</th>\n      <th>49577</th>\n      <th>49578</th>\n      <th>49579</th>\n      <th>49580</th>\n      <th>49581</th>\n      <th>49582</th>\n      <th>49583</th>\n      <th>49584</th>\n      <th>49585</th>\n      <th>49586</th>\n      <th>49587</th>\n      <th>49588</th>\n      <th>49589</th>\n      <th>49590</th>\n      <th>49591</th>\n      <th>49592</th>\n      <th>49593</th>\n      <th>49594</th>\n      <th>49595</th>\n      <th>49596</th>\n      <th>49597</th>\n      <th>49598</th>\n      <th>49599</th>\n      <th>49600</th>\n    </tr>\n  </thead>\n  <tbody>\n    <tr>\n      <th>0</th>\n      <td>0</td>\n      <td>0</td>\n      <td>0</td>\n      <td>0</td>\n      <td>0</td>\n      <td>0</td>\n      <td>0</td>\n      <td>0</td>\n      <td>0</td>\n      <td>0</td>\n      <td>0</td>\n      <td>0</td>\n      <td>0</td>\n      <td>0</td>\n      <td>0</td>\n      <td>0</td>\n      <td>0</td>\n      <td>0</td>\n      <td>0</td>\n      <td>0</td>\n      <td>0</td>\n      <td>0</td>\n      <td>0</td>\n      <td>0</td>\n      <td>0</td>\n      <td>0</td>\n      <td>0</td>\n      <td>0</td>\n      <td>0</td>\n      <td>0</td>\n      <td>0</td>\n      <td>0</td>\n      <td>0</td>\n      <td>0</td>\n      <td>0</td>\n      <td>0</td>\n      <td>0</td>\n      <td>0</td>\n      <td>0</td>\n      <td>0</td>\n      <td>0</td>\n      <td>0</td>\n      <td>0</td>\n      <td>0</td>\n      <td>0</td>\n      <td>0</td>\n      <td>0</td>\n      <td>0</td>\n      <td>0</td>\n      <td>0</td>\n      <td>0</td>\n      <td>0</td>\n      <td>0</td>\n      <td>0</td>\n      <td>0</td>\n      <td>0</td>\n      <td>0</td>\n      <td>0</td>\n      <td>0</td>\n      <td>0</td>\n      <td>0</td>\n      <td>0</td>\n      <td>0</td>\n      <td>0</td>\n      <td>0</td>\n      <td>0</td>\n      <td>0</td>\n      <td>0</td>\n      <td>0</td>\n      <td>0</td>\n      <td>0</td>\n      <td>0</td>\n      <td>0</td>\n      <td>0</td>\n      <td>0</td>\n      <td>0</td>\n      <td>0</td>\n      <td>0</td>\n      <td>0</td>\n      <td>0</td>\n      <td>0</td>\n      <td>0</td>\n      <td>0</td>\n      <td>0</td>\n      <td>0</td>\n      <td>0</td>\n      <td>0</td>\n      <td>0</td>\n      <td>0</td>\n      <td>0</td>\n      <td>0</td>\n      <td>0</td>\n      <td>0</td>\n      <td>0</td>\n      <td>0</td>\n      <td>0</td>\n      <td>0</td>\n      <td>0</td>\n      <td>0</td>\n      <td>0</td>\n      <td>0</td>\n      <td>0</td>\n      <td>0</td>\n      <td>0</td>\n      <td>0</td>\n      <td>0</td>\n      <td>0</td>\n      <td>0</td>\n      <td>0</td>\n      <td>0</td>\n      <td>0</td>\n      <td>0</td>\n      <td>0</td>\n      <td>0</td>\n      <td>0</td>\n      <td>0</td>\n      <td>0</td>\n      <td>0</td>\n      <td>0</td>\n      <td>0</td>\n      <td>0</td>\n      <td>0</td>\n      <td>0</td>\n      <td>0</td>\n      <td>0</td>\n      <td>0</td>\n      <td>0</td>\n      <td>0</td>\n      <td>0</td>\n      <td>0</td>\n      <td>0</td>\n      <td>0</td>\n      <td>0</td>\n      <td>0</td>\n      <td>0</td>\n      <td>0</td>\n      <td>0</td>\n      <td>0</td>\n      <td>0</td>\n      <td>0</td>\n      <td>0</td>\n      <td>0</td>\n      <td>0</td>\n      <td>0</td>\n      <td>0</td>\n      <td>0</td>\n      <td>0</td>\n      <td>0</td>\n      <td>0</td>\n      <td>0</td>\n      <td>0</td>\n      <td>0</td>\n      <td>0</td>\n      <td>0</td>\n      <td>0</td>\n      <td>0</td>\n      <td>0</td>\n      <td>0</td>\n      <td>0</td>\n      <td>0</td>\n      <td>0</td>\n      <td>0</td>\n      <td>0</td>\n      <td>0</td>\n      <td>0</td>\n      <td>0</td>\n      <td>0</td>\n      <td>0</td>\n      <td>0</td>\n      <td>0</td>\n      <td>0</td>\n      <td>0</td>\n      <td>0</td>\n      <td>0</td>\n      <td>0</td>\n      <td>0</td>\n      <td>0</td>\n      <td>0</td>\n      <td>0</td>\n      <td>0</td>\n      <td>0</td>\n      <td>0</td>\n      <td>0</td>\n      <td>0</td>\n      <td>0</td>\n      <td>0</td>\n      <td>0</td>\n      <td>0</td>\n      <td>0</td>\n      <td>0</td>\n      <td>0</td>\n      <td>0</td>\n      <td>0</td>\n      <td>0</td>\n      <td>0</td>\n      <td>0</td>\n      <td>0</td>\n      <td>0</td>\n      <td>0</td>\n      <td>0</td>\n      <td>0</td>\n      <td>0</td>\n      <td>0</td>\n      <td>0</td>\n      <td>0</td>\n      <td>0</td>\n      <td>0</td>\n      <td>0</td>\n      <td>0</td>\n      <td>0</td>\n      <td>0</td>\n      <td>0</td>\n      <td>0</td>\n      <td>0</td>\n      <td>0</td>\n      <td>0</td>\n      <td>0</td>\n      <td>0</td>\n      <td>0</td>\n      <td>0</td>\n      <td>0</td>\n      <td>0</td>\n      <td>0</td>\n      <td>0</td>\n      <td>0</td>\n      <td>0</td>\n      <td>0</td>\n      <td>0</td>\n      <td>0</td>\n      <td>0</td>\n      <td>0</td>\n      <td>0</td>\n      <td>0</td>\n      <td>0</td>\n      <td>0</td>\n      <td>0</td>\n      <td>0</td>\n      <td>0</td>\n      <td>0</td>\n      <td>0</td>\n      <td>0</td>\n      <td>0</td>\n      <td>0</td>\n      <td>0</td>\n      <td>0</td>\n      <td>0</td>\n      <td>0</td>\n      <td>0</td>\n      <td>0</td>\n      <td>0</td>\n      <td>...</td>\n      <td>0</td>\n      <td>0</td>\n      <td>0</td>\n      <td>0</td>\n      <td>0</td>\n      <td>0</td>\n      <td>0</td>\n      <td>0</td>\n      <td>0</td>\n      <td>0</td>\n      <td>0</td>\n      <td>0</td>\n      <td>0</td>\n      <td>0</td>\n      <td>0</td>\n      <td>0</td>\n      <td>0</td>\n      <td>0</td>\n      <td>0</td>\n      <td>0</td>\n      <td>0</td>\n      <td>0</td>\n      <td>0</td>\n      <td>0</td>\n      <td>0</td>\n      <td>0</td>\n      <td>0</td>\n      <td>0</td>\n      <td>0</td>\n      <td>0</td>\n      <td>0</td>\n      <td>0</td>\n      <td>0</td>\n      <td>0</td>\n      <td>0</td>\n      <td>0</td>\n      <td>0</td>\n      <td>0</td>\n      <td>0</td>\n      <td>0</td>\n      <td>0</td>\n      <td>0</td>\n      <td>0</td>\n      <td>0</td>\n      <td>0</td>\n      <td>0</td>\n      <td>0</td>\n      <td>0</td>\n      <td>0</td>\n      <td>0</td>\n      <td>0</td>\n      <td>0</td>\n      <td>0</td>\n      <td>0</td>\n      <td>0</td>\n      <td>0</td>\n      <td>0</td>\n      <td>0</td>\n      <td>0</td>\n      <td>0</td>\n      <td>0</td>\n      <td>0</td>\n      <td>0</td>\n      <td>0</td>\n      <td>0</td>\n      <td>0</td>\n      <td>0</td>\n      <td>0</td>\n      <td>0</td>\n      <td>0</td>\n      <td>0</td>\n      <td>0</td>\n      <td>0</td>\n      <td>0</td>\n      <td>0</td>\n      <td>0</td>\n      <td>0</td>\n      <td>0</td>\n      <td>0</td>\n      <td>0</td>\n      <td>0</td>\n      <td>0</td>\n      <td>0</td>\n      <td>0</td>\n      <td>0</td>\n      <td>0</td>\n      <td>0</td>\n      <td>0</td>\n      <td>0</td>\n      <td>0</td>\n      <td>0</td>\n      <td>0</td>\n      <td>0</td>\n      <td>0</td>\n      <td>0</td>\n      <td>0</td>\n      <td>0</td>\n      <td>0</td>\n      <td>0</td>\n      <td>0</td>\n      <td>0</td>\n      <td>0</td>\n      <td>0</td>\n      <td>0</td>\n      <td>0</td>\n      <td>0</td>\n      <td>0</td>\n      <td>0</td>\n      <td>0</td>\n      <td>0</td>\n      <td>0</td>\n      <td>0</td>\n      <td>0</td>\n      <td>0</td>\n      <td>0</td>\n      <td>0</td>\n      <td>0</td>\n      <td>0</td>\n      <td>0</td>\n      <td>0</td>\n      <td>0</td>\n      <td>0</td>\n      <td>0</td>\n      <td>0</td>\n      <td>0</td>\n      <td>0</td>\n      <td>0</td>\n      <td>0</td>\n      <td>0</td>\n      <td>0</td>\n      <td>0</td>\n      <td>0</td>\n      <td>0</td>\n      <td>0</td>\n      <td>0</td>\n      <td>0</td>\n      <td>0</td>\n      <td>0</td>\n      <td>0</td>\n      <td>0</td>\n      <td>0</td>\n      <td>0</td>\n      <td>0</td>\n      <td>0</td>\n      <td>0</td>\n      <td>0</td>\n      <td>0</td>\n      <td>0</td>\n      <td>0</td>\n      <td>0</td>\n      <td>0</td>\n      <td>0</td>\n      <td>0</td>\n      <td>0</td>\n      <td>0</td>\n      <td>0</td>\n      <td>0</td>\n      <td>0</td>\n      <td>0</td>\n      <td>0</td>\n      <td>0</td>\n      <td>0</td>\n      <td>0</td>\n      <td>0</td>\n      <td>0</td>\n      <td>0</td>\n      <td>0</td>\n      <td>0</td>\n      <td>0</td>\n      <td>0</td>\n      <td>0</td>\n      <td>0</td>\n      <td>0</td>\n      <td>0</td>\n      <td>0</td>\n      <td>0</td>\n      <td>0</td>\n      <td>0</td>\n      <td>0</td>\n      <td>0</td>\n      <td>0</td>\n      <td>0</td>\n      <td>0</td>\n      <td>0</td>\n      <td>0</td>\n      <td>0</td>\n      <td>0</td>\n      <td>0</td>\n      <td>0</td>\n      <td>0</td>\n      <td>0</td>\n      <td>0</td>\n      <td>0</td>\n      <td>0</td>\n      <td>0</td>\n      <td>0</td>\n      <td>0</td>\n      <td>0</td>\n      <td>0</td>\n      <td>0</td>\n      <td>0</td>\n      <td>0</td>\n      <td>0</td>\n      <td>0</td>\n      <td>0</td>\n      <td>0</td>\n      <td>0</td>\n      <td>0</td>\n      <td>0</td>\n      <td>0</td>\n      <td>0</td>\n      <td>0</td>\n      <td>0</td>\n      <td>0</td>\n      <td>0</td>\n      <td>0</td>\n      <td>0</td>\n      <td>0</td>\n      <td>0</td>\n      <td>0</td>\n      <td>0</td>\n      <td>0</td>\n      <td>0</td>\n      <td>0</td>\n      <td>0</td>\n      <td>0</td>\n      <td>0</td>\n      <td>0</td>\n      <td>0</td>\n      <td>0</td>\n      <td>0</td>\n      <td>0</td>\n      <td>0</td>\n      <td>0</td>\n      <td>0</td>\n      <td>0</td>\n      <td>0</td>\n      <td>0</td>\n      <td>0</td>\n      <td>0</td>\n      <td>0</td>\n      <td>0</td>\n      <td>0</td>\n      <td>0</td>\n      <td>0</td>\n      <td>0</td>\n      <td>0</td>\n      <td>0</td>\n      <td>0</td>\n      <td>0</td>\n    </tr>\n    <tr>\n      <th>1</th>\n      <td>0</td>\n      <td>0</td>\n      <td>0</td>\n      <td>0</td>\n      <td>0</td>\n      <td>0</td>\n      <td>0</td>\n      <td>0</td>\n      <td>0</td>\n      <td>0</td>\n      <td>0</td>\n      <td>0</td>\n      <td>0</td>\n      <td>0</td>\n      <td>0</td>\n      <td>0</td>\n      <td>0</td>\n      <td>0</td>\n      <td>0</td>\n      <td>0</td>\n      <td>0</td>\n      <td>0</td>\n      <td>0</td>\n      <td>0</td>\n      <td>0</td>\n      <td>0</td>\n      <td>0</td>\n      <td>0</td>\n      <td>0</td>\n      <td>0</td>\n      <td>0</td>\n      <td>0</td>\n      <td>0</td>\n      <td>0</td>\n      <td>0</td>\n      <td>0</td>\n      <td>0</td>\n      <td>0</td>\n      <td>0</td>\n      <td>0</td>\n      <td>0</td>\n      <td>0</td>\n      <td>0</td>\n      <td>0</td>\n      <td>0</td>\n      <td>0</td>\n      <td>0</td>\n      <td>0</td>\n      <td>0</td>\n      <td>0</td>\n      <td>0</td>\n      <td>0</td>\n      <td>0</td>\n      <td>0</td>\n      <td>0</td>\n      <td>0</td>\n      <td>0</td>\n      <td>0</td>\n      <td>0</td>\n      <td>0</td>\n      <td>0</td>\n      <td>0</td>\n      <td>0</td>\n      <td>0</td>\n      <td>0</td>\n      <td>0</td>\n      <td>0</td>\n      <td>0</td>\n      <td>0</td>\n      <td>0</td>\n      <td>0</td>\n      <td>0</td>\n      <td>0</td>\n      <td>0</td>\n      <td>0</td>\n      <td>0</td>\n      <td>0</td>\n      <td>0</td>\n      <td>0</td>\n      <td>0</td>\n      <td>0</td>\n      <td>0</td>\n      <td>0</td>\n      <td>0</td>\n      <td>0</td>\n      <td>0</td>\n      <td>0</td>\n      <td>0</td>\n      <td>0</td>\n      <td>0</td>\n      <td>0</td>\n      <td>0</td>\n      <td>0</td>\n      <td>0</td>\n      <td>0</td>\n      <td>0</td>\n      <td>0</td>\n      <td>0</td>\n      <td>0</td>\n      <td>0</td>\n      <td>0</td>\n      <td>0</td>\n      <td>0</td>\n      <td>0</td>\n      <td>0</td>\n      <td>0</td>\n      <td>0</td>\n      <td>0</td>\n      <td>0</td>\n      <td>0</td>\n      <td>0</td>\n      <td>0</td>\n      <td>0</td>\n      <td>0</td>\n      <td>0</td>\n      <td>0</td>\n      <td>0</td>\n      <td>0</td>\n      <td>0</td>\n      <td>0</td>\n      <td>0</td>\n      <td>0</td>\n      <td>0</td>\n      <td>0</td>\n      <td>0</td>\n      <td>0</td>\n      <td>0</td>\n      <td>0</td>\n      <td>0</td>\n      <td>0</td>\n      <td>0</td>\n      <td>0</td>\n      <td>0</td>\n      <td>0</td>\n      <td>0</td>\n      <td>0</td>\n      <td>0</td>\n      <td>0</td>\n      <td>0</td>\n      <td>0</td>\n      <td>0</td>\n      <td>0</td>\n      <td>0</td>\n      <td>0</td>\n      <td>0</td>\n      <td>0</td>\n      <td>0</td>\n      <td>0</td>\n      <td>0</td>\n      <td>0</td>\n      <td>0</td>\n      <td>0</td>\n      <td>0</td>\n      <td>0</td>\n      <td>0</td>\n      <td>0</td>\n      <td>0</td>\n      <td>0</td>\n      <td>0</td>\n      <td>0</td>\n      <td>0</td>\n      <td>0</td>\n      <td>0</td>\n      <td>0</td>\n      <td>0</td>\n      <td>0</td>\n      <td>0</td>\n      <td>0</td>\n      <td>0</td>\n      <td>0</td>\n      <td>0</td>\n      <td>0</td>\n      <td>0</td>\n      <td>0</td>\n      <td>0</td>\n      <td>0</td>\n      <td>0</td>\n      <td>0</td>\n      <td>0</td>\n      <td>0</td>\n      <td>0</td>\n      <td>0</td>\n      <td>0</td>\n      <td>0</td>\n      <td>0</td>\n      <td>0</td>\n      <td>0</td>\n      <td>0</td>\n      <td>0</td>\n      <td>0</td>\n      <td>0</td>\n      <td>0</td>\n      <td>0</td>\n      <td>0</td>\n      <td>0</td>\n      <td>0</td>\n      <td>0</td>\n      <td>0</td>\n      <td>0</td>\n      <td>0</td>\n      <td>0</td>\n      <td>0</td>\n      <td>0</td>\n      <td>0</td>\n      <td>0</td>\n      <td>0</td>\n      <td>0</td>\n      <td>0</td>\n      <td>0</td>\n      <td>0</td>\n      <td>0</td>\n      <td>0</td>\n      <td>0</td>\n      <td>0</td>\n      <td>0</td>\n      <td>0</td>\n      <td>0</td>\n      <td>0</td>\n      <td>0</td>\n      <td>0</td>\n      <td>0</td>\n      <td>0</td>\n      <td>0</td>\n      <td>0</td>\n      <td>0</td>\n      <td>0</td>\n      <td>0</td>\n      <td>0</td>\n      <td>0</td>\n      <td>0</td>\n      <td>0</td>\n      <td>0</td>\n      <td>0</td>\n      <td>0</td>\n      <td>0</td>\n      <td>0</td>\n      <td>0</td>\n      <td>0</td>\n      <td>0</td>\n      <td>0</td>\n      <td>0</td>\n      <td>0</td>\n      <td>0</td>\n      <td>0</td>\n      <td>0</td>\n      <td>0</td>\n      <td>0</td>\n      <td>0</td>\n      <td>0</td>\n      <td>0</td>\n      <td>...</td>\n      <td>0</td>\n      <td>0</td>\n      <td>0</td>\n      <td>0</td>\n      <td>0</td>\n      <td>0</td>\n      <td>0</td>\n      <td>0</td>\n      <td>0</td>\n      <td>0</td>\n      <td>0</td>\n      <td>0</td>\n      <td>0</td>\n      <td>0</td>\n      <td>0</td>\n      <td>0</td>\n      <td>0</td>\n      <td>0</td>\n      <td>0</td>\n      <td>0</td>\n      <td>0</td>\n      <td>0</td>\n      <td>0</td>\n      <td>0</td>\n      <td>0</td>\n      <td>0</td>\n      <td>0</td>\n      <td>0</td>\n      <td>0</td>\n      <td>0</td>\n      <td>0</td>\n      <td>0</td>\n      <td>0</td>\n      <td>0</td>\n      <td>0</td>\n      <td>0</td>\n      <td>0</td>\n      <td>0</td>\n      <td>0</td>\n      <td>0</td>\n      <td>0</td>\n      <td>0</td>\n      <td>0</td>\n      <td>0</td>\n      <td>0</td>\n      <td>0</td>\n      <td>0</td>\n      <td>0</td>\n      <td>0</td>\n      <td>0</td>\n      <td>0</td>\n      <td>0</td>\n      <td>0</td>\n      <td>0</td>\n      <td>0</td>\n      <td>0</td>\n      <td>0</td>\n      <td>0</td>\n      <td>0</td>\n      <td>0</td>\n      <td>0</td>\n      <td>0</td>\n      <td>0</td>\n      <td>0</td>\n      <td>0</td>\n      <td>0</td>\n      <td>0</td>\n      <td>0</td>\n      <td>0</td>\n      <td>0</td>\n      <td>0</td>\n      <td>0</td>\n      <td>0</td>\n      <td>0</td>\n      <td>0</td>\n      <td>0</td>\n      <td>0</td>\n      <td>0</td>\n      <td>0</td>\n      <td>0</td>\n      <td>0</td>\n      <td>0</td>\n      <td>0</td>\n      <td>0</td>\n      <td>0</td>\n      <td>0</td>\n      <td>0</td>\n      <td>0</td>\n      <td>0</td>\n      <td>0</td>\n      <td>0</td>\n      <td>0</td>\n      <td>0</td>\n      <td>0</td>\n      <td>0</td>\n      <td>0</td>\n      <td>0</td>\n      <td>0</td>\n      <td>0</td>\n      <td>0</td>\n      <td>0</td>\n      <td>0</td>\n      <td>0</td>\n      <td>0</td>\n      <td>0</td>\n      <td>0</td>\n      <td>0</td>\n      <td>0</td>\n      <td>0</td>\n      <td>0</td>\n      <td>0</td>\n      <td>0</td>\n      <td>0</td>\n      <td>0</td>\n      <td>0</td>\n      <td>0</td>\n      <td>0</td>\n      <td>0</td>\n      <td>0</td>\n      <td>0</td>\n      <td>0</td>\n      <td>0</td>\n      <td>0</td>\n      <td>0</td>\n      <td>0</td>\n      <td>0</td>\n      <td>0</td>\n      <td>0</td>\n      <td>0</td>\n      <td>0</td>\n      <td>0</td>\n      <td>0</td>\n      <td>0</td>\n      <td>0</td>\n      <td>0</td>\n      <td>0</td>\n      <td>0</td>\n      <td>0</td>\n      <td>0</td>\n      <td>0</td>\n      <td>0</td>\n      <td>0</td>\n      <td>0</td>\n      <td>0</td>\n      <td>0</td>\n      <td>0</td>\n      <td>0</td>\n      <td>0</td>\n      <td>0</td>\n      <td>0</td>\n      <td>0</td>\n      <td>0</td>\n      <td>0</td>\n      <td>0</td>\n      <td>0</td>\n      <td>0</td>\n      <td>0</td>\n      <td>0</td>\n      <td>0</td>\n      <td>0</td>\n      <td>0</td>\n      <td>0</td>\n      <td>0</td>\n      <td>0</td>\n      <td>0</td>\n      <td>0</td>\n      <td>0</td>\n      <td>0</td>\n      <td>0</td>\n      <td>0</td>\n      <td>0</td>\n      <td>0</td>\n      <td>0</td>\n      <td>0</td>\n      <td>0</td>\n      <td>0</td>\n      <td>0</td>\n      <td>0</td>\n      <td>0</td>\n      <td>0</td>\n      <td>0</td>\n      <td>0</td>\n      <td>0</td>\n      <td>0</td>\n      <td>0</td>\n      <td>0</td>\n      <td>0</td>\n      <td>0</td>\n      <td>0</td>\n      <td>0</td>\n      <td>0</td>\n      <td>0</td>\n      <td>0</td>\n      <td>0</td>\n      <td>0</td>\n      <td>0</td>\n      <td>0</td>\n      <td>0</td>\n      <td>0</td>\n      <td>0</td>\n      <td>0</td>\n      <td>0</td>\n      <td>0</td>\n      <td>0</td>\n      <td>0</td>\n      <td>0</td>\n      <td>0</td>\n      <td>0</td>\n      <td>0</td>\n      <td>0</td>\n      <td>0</td>\n      <td>0</td>\n      <td>0</td>\n      <td>0</td>\n      <td>0</td>\n      <td>0</td>\n      <td>0</td>\n      <td>0</td>\n      <td>0</td>\n      <td>0</td>\n      <td>0</td>\n      <td>0</td>\n      <td>0</td>\n      <td>0</td>\n      <td>0</td>\n      <td>0</td>\n      <td>0</td>\n      <td>0</td>\n      <td>0</td>\n      <td>0</td>\n      <td>0</td>\n      <td>0</td>\n      <td>0</td>\n      <td>0</td>\n      <td>0</td>\n      <td>0</td>\n      <td>0</td>\n      <td>0</td>\n      <td>0</td>\n      <td>0</td>\n      <td>0</td>\n      <td>0</td>\n      <td>0</td>\n      <td>0</td>\n      <td>0</td>\n      <td>0</td>\n      <td>0</td>\n      <td>0</td>\n      <td>0</td>\n      <td>0</td>\n    </tr>\n    <tr>\n      <th>2</th>\n      <td>0</td>\n      <td>0</td>\n      <td>0</td>\n      <td>0</td>\n      <td>0</td>\n      <td>0</td>\n      <td>0</td>\n      <td>0</td>\n      <td>0</td>\n      <td>0</td>\n      <td>0</td>\n      <td>0</td>\n      <td>0</td>\n      <td>0</td>\n      <td>0</td>\n      <td>0</td>\n      <td>0</td>\n      <td>0</td>\n      <td>0</td>\n      <td>0</td>\n      <td>0</td>\n      <td>0</td>\n      <td>0</td>\n      <td>0</td>\n      <td>0</td>\n      <td>0</td>\n      <td>0</td>\n      <td>0</td>\n      <td>0</td>\n      <td>0</td>\n      <td>0</td>\n      <td>0</td>\n      <td>0</td>\n      <td>0</td>\n      <td>0</td>\n      <td>0</td>\n      <td>0</td>\n      <td>0</td>\n      <td>0</td>\n      <td>0</td>\n      <td>0</td>\n      <td>0</td>\n      <td>0</td>\n      <td>0</td>\n      <td>0</td>\n      <td>0</td>\n      <td>0</td>\n      <td>0</td>\n      <td>0</td>\n      <td>0</td>\n      <td>0</td>\n      <td>0</td>\n      <td>0</td>\n      <td>0</td>\n      <td>0</td>\n      <td>0</td>\n      <td>0</td>\n      <td>0</td>\n      <td>0</td>\n      <td>0</td>\n      <td>0</td>\n      <td>0</td>\n      <td>0</td>\n      <td>0</td>\n      <td>0</td>\n      <td>0</td>\n      <td>0</td>\n      <td>0</td>\n      <td>0</td>\n      <td>0</td>\n      <td>0</td>\n      <td>0</td>\n      <td>0</td>\n      <td>0</td>\n      <td>0</td>\n      <td>0</td>\n      <td>0</td>\n      <td>0</td>\n      <td>0</td>\n      <td>0</td>\n      <td>0</td>\n      <td>0</td>\n      <td>0</td>\n      <td>0</td>\n      <td>0</td>\n      <td>0</td>\n      <td>0</td>\n      <td>0</td>\n      <td>0</td>\n      <td>0</td>\n      <td>0</td>\n      <td>0</td>\n      <td>0</td>\n      <td>0</td>\n      <td>0</td>\n      <td>0</td>\n      <td>0</td>\n      <td>0</td>\n      <td>0</td>\n      <td>0</td>\n      <td>0</td>\n      <td>0</td>\n      <td>0</td>\n      <td>0</td>\n      <td>0</td>\n      <td>0</td>\n      <td>0</td>\n      <td>0</td>\n      <td>0</td>\n      <td>0</td>\n      <td>0</td>\n      <td>0</td>\n      <td>0</td>\n      <td>0</td>\n      <td>0</td>\n      <td>0</td>\n      <td>0</td>\n      <td>0</td>\n      <td>0</td>\n      <td>0</td>\n      <td>0</td>\n      <td>0</td>\n      <td>0</td>\n      <td>0</td>\n      <td>0</td>\n      <td>0</td>\n      <td>0</td>\n      <td>0</td>\n      <td>0</td>\n      <td>0</td>\n      <td>0</td>\n      <td>0</td>\n      <td>0</td>\n      <td>0</td>\n      <td>0</td>\n      <td>0</td>\n      <td>0</td>\n      <td>0</td>\n      <td>0</td>\n      <td>0</td>\n      <td>0</td>\n      <td>0</td>\n      <td>0</td>\n      <td>0</td>\n      <td>1</td>\n      <td>0</td>\n      <td>0</td>\n      <td>0</td>\n      <td>0</td>\n      <td>0</td>\n      <td>0</td>\n      <td>0</td>\n      <td>0</td>\n      <td>0</td>\n      <td>0</td>\n      <td>0</td>\n      <td>0</td>\n      <td>0</td>\n      <td>0</td>\n      <td>0</td>\n      <td>0</td>\n      <td>0</td>\n      <td>0</td>\n      <td>0</td>\n      <td>0</td>\n      <td>0</td>\n      <td>0</td>\n      <td>0</td>\n      <td>0</td>\n      <td>0</td>\n      <td>0</td>\n      <td>0</td>\n      <td>0</td>\n      <td>0</td>\n      <td>0</td>\n      <td>0</td>\n      <td>0</td>\n      <td>0</td>\n      <td>0</td>\n      <td>0</td>\n      <td>0</td>\n      <td>0</td>\n      <td>0</td>\n      <td>0</td>\n      <td>0</td>\n      <td>0</td>\n      <td>0</td>\n      <td>0</td>\n      <td>0</td>\n      <td>0</td>\n      <td>0</td>\n      <td>0</td>\n      <td>0</td>\n      <td>0</td>\n      <td>0</td>\n      <td>0</td>\n      <td>0</td>\n      <td>0</td>\n      <td>0</td>\n      <td>0</td>\n      <td>0</td>\n      <td>0</td>\n      <td>0</td>\n      <td>0</td>\n      <td>0</td>\n      <td>0</td>\n      <td>0</td>\n      <td>0</td>\n      <td>0</td>\n      <td>0</td>\n      <td>0</td>\n      <td>0</td>\n      <td>0</td>\n      <td>0</td>\n      <td>0</td>\n      <td>0</td>\n      <td>0</td>\n      <td>0</td>\n      <td>0</td>\n      <td>0</td>\n      <td>0</td>\n      <td>0</td>\n      <td>0</td>\n      <td>0</td>\n      <td>0</td>\n      <td>0</td>\n      <td>0</td>\n      <td>0</td>\n      <td>0</td>\n      <td>0</td>\n      <td>0</td>\n      <td>0</td>\n      <td>0</td>\n      <td>0</td>\n      <td>0</td>\n      <td>0</td>\n      <td>0</td>\n      <td>0</td>\n      <td>0</td>\n      <td>0</td>\n      <td>0</td>\n      <td>0</td>\n      <td>0</td>\n      <td>0</td>\n      <td>0</td>\n      <td>0</td>\n      <td>0</td>\n      <td>0</td>\n      <td>0</td>\n      <td>0</td>\n      <td>...</td>\n      <td>0</td>\n      <td>0</td>\n      <td>0</td>\n      <td>0</td>\n      <td>0</td>\n      <td>0</td>\n      <td>0</td>\n      <td>0</td>\n      <td>0</td>\n      <td>0</td>\n      <td>0</td>\n      <td>0</td>\n      <td>0</td>\n      <td>0</td>\n      <td>0</td>\n      <td>0</td>\n      <td>0</td>\n      <td>0</td>\n      <td>0</td>\n      <td>0</td>\n      <td>0</td>\n      <td>0</td>\n      <td>0</td>\n      <td>0</td>\n      <td>0</td>\n      <td>0</td>\n      <td>0</td>\n      <td>0</td>\n      <td>0</td>\n      <td>0</td>\n      <td>0</td>\n      <td>0</td>\n      <td>0</td>\n      <td>0</td>\n      <td>0</td>\n      <td>0</td>\n      <td>0</td>\n      <td>0</td>\n      <td>0</td>\n      <td>0</td>\n      <td>0</td>\n      <td>0</td>\n      <td>0</td>\n      <td>0</td>\n      <td>0</td>\n      <td>0</td>\n      <td>0</td>\n      <td>0</td>\n      <td>0</td>\n      <td>0</td>\n      <td>0</td>\n      <td>0</td>\n      <td>0</td>\n      <td>0</td>\n      <td>0</td>\n      <td>0</td>\n      <td>0</td>\n      <td>0</td>\n      <td>0</td>\n      <td>0</td>\n      <td>0</td>\n      <td>0</td>\n      <td>0</td>\n      <td>0</td>\n      <td>0</td>\n      <td>0</td>\n      <td>0</td>\n      <td>0</td>\n      <td>0</td>\n      <td>0</td>\n      <td>0</td>\n      <td>0</td>\n      <td>0</td>\n      <td>0</td>\n      <td>0</td>\n      <td>0</td>\n      <td>0</td>\n      <td>0</td>\n      <td>0</td>\n      <td>0</td>\n      <td>0</td>\n      <td>0</td>\n      <td>0</td>\n      <td>0</td>\n      <td>0</td>\n      <td>0</td>\n      <td>0</td>\n      <td>0</td>\n      <td>0</td>\n      <td>0</td>\n      <td>0</td>\n      <td>0</td>\n      <td>0</td>\n      <td>0</td>\n      <td>0</td>\n      <td>0</td>\n      <td>0</td>\n      <td>0</td>\n      <td>0</td>\n      <td>0</td>\n      <td>0</td>\n      <td>0</td>\n      <td>0</td>\n      <td>0</td>\n      <td>0</td>\n      <td>0</td>\n      <td>0</td>\n      <td>0</td>\n      <td>0</td>\n      <td>0</td>\n      <td>0</td>\n      <td>0</td>\n      <td>0</td>\n      <td>0</td>\n      <td>0</td>\n      <td>0</td>\n      <td>0</td>\n      <td>0</td>\n      <td>0</td>\n      <td>0</td>\n      <td>0</td>\n      <td>0</td>\n      <td>0</td>\n      <td>0</td>\n      <td>0</td>\n      <td>0</td>\n      <td>0</td>\n      <td>0</td>\n      <td>0</td>\n      <td>0</td>\n      <td>0</td>\n      <td>0</td>\n      <td>0</td>\n      <td>0</td>\n      <td>0</td>\n      <td>0</td>\n      <td>0</td>\n      <td>0</td>\n      <td>0</td>\n      <td>0</td>\n      <td>0</td>\n      <td>0</td>\n      <td>0</td>\n      <td>0</td>\n      <td>0</td>\n      <td>0</td>\n      <td>0</td>\n      <td>0</td>\n      <td>0</td>\n      <td>0</td>\n      <td>0</td>\n      <td>0</td>\n      <td>0</td>\n      <td>0</td>\n      <td>0</td>\n      <td>0</td>\n      <td>0</td>\n      <td>0</td>\n      <td>0</td>\n      <td>0</td>\n      <td>0</td>\n      <td>0</td>\n      <td>0</td>\n      <td>0</td>\n      <td>0</td>\n      <td>0</td>\n      <td>0</td>\n      <td>0</td>\n      <td>0</td>\n      <td>0</td>\n      <td>0</td>\n      <td>0</td>\n      <td>0</td>\n      <td>0</td>\n      <td>0</td>\n      <td>0</td>\n      <td>0</td>\n      <td>0</td>\n      <td>0</td>\n      <td>0</td>\n      <td>0</td>\n      <td>0</td>\n      <td>0</td>\n      <td>0</td>\n      <td>0</td>\n      <td>0</td>\n      <td>0</td>\n      <td>0</td>\n      <td>0</td>\n      <td>0</td>\n      <td>0</td>\n      <td>0</td>\n      <td>0</td>\n      <td>0</td>\n      <td>0</td>\n      <td>0</td>\n      <td>0</td>\n      <td>0</td>\n      <td>0</td>\n      <td>0</td>\n      <td>0</td>\n      <td>0</td>\n      <td>0</td>\n      <td>0</td>\n      <td>0</td>\n      <td>0</td>\n      <td>0</td>\n      <td>0</td>\n      <td>0</td>\n      <td>0</td>\n      <td>0</td>\n      <td>0</td>\n      <td>0</td>\n      <td>0</td>\n      <td>0</td>\n      <td>0</td>\n      <td>0</td>\n      <td>0</td>\n      <td>0</td>\n      <td>0</td>\n      <td>0</td>\n      <td>0</td>\n      <td>0</td>\n      <td>0</td>\n      <td>0</td>\n      <td>0</td>\n      <td>0</td>\n      <td>0</td>\n      <td>0</td>\n      <td>0</td>\n      <td>0</td>\n      <td>0</td>\n      <td>0</td>\n      <td>0</td>\n      <td>0</td>\n      <td>0</td>\n      <td>0</td>\n      <td>0</td>\n      <td>0</td>\n      <td>0</td>\n      <td>0</td>\n      <td>0</td>\n      <td>0</td>\n      <td>0</td>\n      <td>0</td>\n      <td>0</td>\n      <td>0</td>\n      <td>0</td>\n      <td>0</td>\n      <td>0</td>\n    </tr>\n    <tr>\n      <th>3</th>\n      <td>0</td>\n      <td>0</td>\n      <td>0</td>\n      <td>0</td>\n      <td>0</td>\n      <td>0</td>\n      <td>0</td>\n      <td>0</td>\n      <td>0</td>\n      <td>0</td>\n      <td>0</td>\n      <td>0</td>\n      <td>0</td>\n      <td>0</td>\n      <td>0</td>\n      <td>0</td>\n      <td>0</td>\n      <td>0</td>\n      <td>0</td>\n      <td>0</td>\n      <td>0</td>\n      <td>0</td>\n      <td>0</td>\n      <td>0</td>\n      <td>0</td>\n      <td>0</td>\n      <td>0</td>\n      <td>0</td>\n      <td>0</td>\n      <td>0</td>\n      <td>0</td>\n      <td>0</td>\n      <td>0</td>\n      <td>0</td>\n      <td>0</td>\n      <td>0</td>\n      <td>0</td>\n      <td>0</td>\n      <td>0</td>\n      <td>0</td>\n      <td>0</td>\n      <td>0</td>\n      <td>0</td>\n      <td>0</td>\n      <td>0</td>\n      <td>0</td>\n      <td>0</td>\n      <td>0</td>\n      <td>0</td>\n      <td>0</td>\n      <td>0</td>\n      <td>0</td>\n      <td>0</td>\n      <td>0</td>\n      <td>0</td>\n      <td>0</td>\n      <td>0</td>\n      <td>0</td>\n      <td>0</td>\n      <td>0</td>\n      <td>0</td>\n      <td>0</td>\n      <td>0</td>\n      <td>0</td>\n      <td>0</td>\n      <td>0</td>\n      <td>0</td>\n      <td>0</td>\n      <td>0</td>\n      <td>0</td>\n      <td>0</td>\n      <td>0</td>\n      <td>0</td>\n      <td>0</td>\n      <td>0</td>\n      <td>0</td>\n      <td>0</td>\n      <td>0</td>\n      <td>0</td>\n      <td>0</td>\n      <td>0</td>\n      <td>0</td>\n      <td>0</td>\n      <td>0</td>\n      <td>0</td>\n      <td>0</td>\n      <td>0</td>\n      <td>0</td>\n      <td>0</td>\n      <td>0</td>\n      <td>0</td>\n      <td>0</td>\n      <td>0</td>\n      <td>0</td>\n      <td>0</td>\n      <td>0</td>\n      <td>0</td>\n      <td>0</td>\n      <td>0</td>\n      <td>0</td>\n      <td>0</td>\n      <td>0</td>\n      <td>0</td>\n      <td>0</td>\n      <td>0</td>\n      <td>0</td>\n      <td>0</td>\n      <td>0</td>\n      <td>0</td>\n      <td>0</td>\n      <td>0</td>\n      <td>0</td>\n      <td>0</td>\n      <td>0</td>\n      <td>0</td>\n      <td>0</td>\n      <td>0</td>\n      <td>0</td>\n      <td>0</td>\n      <td>0</td>\n      <td>0</td>\n      <td>0</td>\n      <td>0</td>\n      <td>0</td>\n      <td>0</td>\n      <td>0</td>\n      <td>0</td>\n      <td>0</td>\n      <td>0</td>\n      <td>0</td>\n      <td>0</td>\n      <td>0</td>\n      <td>0</td>\n      <td>0</td>\n      <td>0</td>\n      <td>0</td>\n      <td>0</td>\n      <td>0</td>\n      <td>0</td>\n      <td>0</td>\n      <td>0</td>\n      <td>0</td>\n      <td>0</td>\n      <td>0</td>\n      <td>0</td>\n      <td>0</td>\n      <td>0</td>\n      <td>0</td>\n      <td>0</td>\n      <td>0</td>\n      <td>0</td>\n      <td>0</td>\n      <td>0</td>\n      <td>0</td>\n      <td>0</td>\n      <td>0</td>\n      <td>0</td>\n      <td>0</td>\n      <td>0</td>\n      <td>0</td>\n      <td>0</td>\n      <td>0</td>\n      <td>0</td>\n      <td>0</td>\n      <td>0</td>\n      <td>0</td>\n      <td>0</td>\n      <td>0</td>\n      <td>0</td>\n      <td>0</td>\n      <td>0</td>\n      <td>0</td>\n      <td>0</td>\n      <td>0</td>\n      <td>0</td>\n      <td>0</td>\n      <td>0</td>\n      <td>0</td>\n      <td>0</td>\n      <td>0</td>\n      <td>0</td>\n      <td>0</td>\n      <td>0</td>\n      <td>0</td>\n      <td>0</td>\n      <td>0</td>\n      <td>0</td>\n      <td>0</td>\n      <td>0</td>\n      <td>0</td>\n      <td>0</td>\n      <td>0</td>\n      <td>0</td>\n      <td>0</td>\n      <td>0</td>\n      <td>0</td>\n      <td>0</td>\n      <td>0</td>\n      <td>0</td>\n      <td>0</td>\n      <td>0</td>\n      <td>0</td>\n      <td>0</td>\n      <td>0</td>\n      <td>0</td>\n      <td>0</td>\n      <td>0</td>\n      <td>0</td>\n      <td>0</td>\n      <td>0</td>\n      <td>0</td>\n      <td>0</td>\n      <td>0</td>\n      <td>0</td>\n      <td>0</td>\n      <td>0</td>\n      <td>0</td>\n      <td>0</td>\n      <td>0</td>\n      <td>0</td>\n      <td>0</td>\n      <td>0</td>\n      <td>0</td>\n      <td>0</td>\n      <td>0</td>\n      <td>0</td>\n      <td>0</td>\n      <td>0</td>\n      <td>0</td>\n      <td>0</td>\n      <td>0</td>\n      <td>0</td>\n      <td>0</td>\n      <td>0</td>\n      <td>0</td>\n      <td>0</td>\n      <td>0</td>\n      <td>0</td>\n      <td>0</td>\n      <td>0</td>\n      <td>0</td>\n      <td>0</td>\n      <td>0</td>\n      <td>0</td>\n      <td>0</td>\n      <td>0</td>\n      <td>0</td>\n      <td>0</td>\n      <td>0</td>\n      <td>0</td>\n      <td>...</td>\n      <td>0</td>\n      <td>0</td>\n      <td>0</td>\n      <td>0</td>\n      <td>0</td>\n      <td>0</td>\n      <td>0</td>\n      <td>0</td>\n      <td>0</td>\n      <td>0</td>\n      <td>0</td>\n      <td>0</td>\n      <td>0</td>\n      <td>0</td>\n      <td>0</td>\n      <td>0</td>\n      <td>0</td>\n      <td>0</td>\n      <td>0</td>\n      <td>0</td>\n      <td>0</td>\n      <td>0</td>\n      <td>0</td>\n      <td>0</td>\n      <td>0</td>\n      <td>0</td>\n      <td>0</td>\n      <td>0</td>\n      <td>0</td>\n      <td>0</td>\n      <td>0</td>\n      <td>0</td>\n      <td>0</td>\n      <td>0</td>\n      <td>0</td>\n      <td>0</td>\n      <td>0</td>\n      <td>0</td>\n      <td>0</td>\n      <td>0</td>\n      <td>0</td>\n      <td>0</td>\n      <td>0</td>\n      <td>0</td>\n      <td>0</td>\n      <td>0</td>\n      <td>0</td>\n      <td>0</td>\n      <td>0</td>\n      <td>0</td>\n      <td>0</td>\n      <td>0</td>\n      <td>0</td>\n      <td>0</td>\n      <td>0</td>\n      <td>0</td>\n      <td>0</td>\n      <td>0</td>\n      <td>0</td>\n      <td>0</td>\n      <td>0</td>\n      <td>0</td>\n      <td>0</td>\n      <td>0</td>\n      <td>0</td>\n      <td>0</td>\n      <td>0</td>\n      <td>0</td>\n      <td>0</td>\n      <td>0</td>\n      <td>0</td>\n      <td>0</td>\n      <td>0</td>\n      <td>0</td>\n      <td>0</td>\n      <td>0</td>\n      <td>0</td>\n      <td>0</td>\n      <td>0</td>\n      <td>0</td>\n      <td>0</td>\n      <td>0</td>\n      <td>0</td>\n      <td>0</td>\n      <td>0</td>\n      <td>0</td>\n      <td>0</td>\n      <td>0</td>\n      <td>0</td>\n      <td>0</td>\n      <td>0</td>\n      <td>0</td>\n      <td>0</td>\n      <td>0</td>\n      <td>0</td>\n      <td>0</td>\n      <td>0</td>\n      <td>0</td>\n      <td>0</td>\n      <td>0</td>\n      <td>0</td>\n      <td>0</td>\n      <td>0</td>\n      <td>0</td>\n      <td>0</td>\n      <td>0</td>\n      <td>0</td>\n      <td>0</td>\n      <td>0</td>\n      <td>0</td>\n      <td>0</td>\n      <td>0</td>\n      <td>0</td>\n      <td>0</td>\n      <td>0</td>\n      <td>0</td>\n      <td>0</td>\n      <td>0</td>\n      <td>0</td>\n      <td>0</td>\n      <td>0</td>\n      <td>0</td>\n      <td>0</td>\n      <td>0</td>\n      <td>0</td>\n      <td>0</td>\n      <td>0</td>\n      <td>0</td>\n      <td>0</td>\n      <td>0</td>\n      <td>0</td>\n      <td>0</td>\n      <td>0</td>\n      <td>0</td>\n      <td>0</td>\n      <td>0</td>\n      <td>0</td>\n      <td>0</td>\n      <td>0</td>\n      <td>0</td>\n      <td>0</td>\n      <td>0</td>\n      <td>0</td>\n      <td>0</td>\n      <td>0</td>\n      <td>0</td>\n      <td>0</td>\n      <td>0</td>\n      <td>0</td>\n      <td>0</td>\n      <td>0</td>\n      <td>0</td>\n      <td>0</td>\n      <td>0</td>\n      <td>0</td>\n      <td>0</td>\n      <td>0</td>\n      <td>0</td>\n      <td>0</td>\n      <td>0</td>\n      <td>0</td>\n      <td>0</td>\n      <td>0</td>\n      <td>0</td>\n      <td>0</td>\n      <td>0</td>\n      <td>0</td>\n      <td>0</td>\n      <td>0</td>\n      <td>0</td>\n      <td>0</td>\n      <td>0</td>\n      <td>0</td>\n      <td>0</td>\n      <td>0</td>\n      <td>0</td>\n      <td>0</td>\n      <td>0</td>\n      <td>0</td>\n      <td>0</td>\n      <td>0</td>\n      <td>0</td>\n      <td>0</td>\n      <td>0</td>\n      <td>0</td>\n      <td>0</td>\n      <td>0</td>\n      <td>0</td>\n      <td>0</td>\n      <td>0</td>\n      <td>0</td>\n      <td>0</td>\n      <td>0</td>\n      <td>0</td>\n      <td>0</td>\n      <td>0</td>\n      <td>0</td>\n      <td>0</td>\n      <td>0</td>\n      <td>0</td>\n      <td>0</td>\n      <td>0</td>\n      <td>0</td>\n      <td>0</td>\n      <td>0</td>\n      <td>0</td>\n      <td>0</td>\n      <td>0</td>\n      <td>0</td>\n      <td>0</td>\n      <td>0</td>\n      <td>0</td>\n      <td>0</td>\n      <td>0</td>\n      <td>0</td>\n      <td>0</td>\n      <td>0</td>\n      <td>0</td>\n      <td>0</td>\n      <td>0</td>\n      <td>0</td>\n      <td>0</td>\n      <td>0</td>\n      <td>0</td>\n      <td>0</td>\n      <td>0</td>\n      <td>0</td>\n      <td>0</td>\n      <td>0</td>\n      <td>0</td>\n      <td>0</td>\n      <td>0</td>\n      <td>0</td>\n      <td>0</td>\n      <td>0</td>\n      <td>0</td>\n      <td>0</td>\n      <td>0</td>\n      <td>0</td>\n      <td>0</td>\n      <td>0</td>\n      <td>0</td>\n      <td>0</td>\n      <td>0</td>\n      <td>0</td>\n      <td>0</td>\n      <td>0</td>\n      <td>0</td>\n      <td>0</td>\n      <td>0</td>\n    </tr>\n    <tr>\n      <th>4</th>\n      <td>0</td>\n      <td>0</td>\n      <td>0</td>\n      <td>0</td>\n      <td>0</td>\n      <td>0</td>\n      <td>0</td>\n      <td>0</td>\n      <td>0</td>\n      <td>0</td>\n      <td>0</td>\n      <td>0</td>\n      <td>0</td>\n      <td>0</td>\n      <td>0</td>\n      <td>0</td>\n      <td>0</td>\n      <td>0</td>\n      <td>0</td>\n      <td>0</td>\n      <td>0</td>\n      <td>0</td>\n      <td>0</td>\n      <td>0</td>\n      <td>0</td>\n      <td>0</td>\n      <td>0</td>\n      <td>0</td>\n      <td>0</td>\n      <td>0</td>\n      <td>0</td>\n      <td>0</td>\n      <td>0</td>\n      <td>0</td>\n      <td>0</td>\n      <td>0</td>\n      <td>0</td>\n      <td>0</td>\n      <td>0</td>\n      <td>0</td>\n      <td>0</td>\n      <td>0</td>\n      <td>0</td>\n      <td>0</td>\n      <td>0</td>\n      <td>0</td>\n      <td>0</td>\n      <td>0</td>\n      <td>0</td>\n      <td>0</td>\n      <td>0</td>\n      <td>0</td>\n      <td>0</td>\n      <td>0</td>\n      <td>0</td>\n      <td>0</td>\n      <td>0</td>\n      <td>0</td>\n      <td>0</td>\n      <td>0</td>\n      <td>0</td>\n      <td>0</td>\n      <td>0</td>\n      <td>0</td>\n      <td>0</td>\n      <td>0</td>\n      <td>0</td>\n      <td>0</td>\n      <td>0</td>\n      <td>0</td>\n      <td>0</td>\n      <td>0</td>\n      <td>0</td>\n      <td>0</td>\n      <td>0</td>\n      <td>0</td>\n      <td>0</td>\n      <td>0</td>\n      <td>0</td>\n      <td>0</td>\n      <td>0</td>\n      <td>0</td>\n      <td>0</td>\n      <td>0</td>\n      <td>0</td>\n      <td>0</td>\n      <td>0</td>\n      <td>0</td>\n      <td>0</td>\n      <td>0</td>\n      <td>0</td>\n      <td>0</td>\n      <td>0</td>\n      <td>0</td>\n      <td>0</td>\n      <td>0</td>\n      <td>0</td>\n      <td>0</td>\n      <td>0</td>\n      <td>0</td>\n      <td>0</td>\n      <td>0</td>\n      <td>0</td>\n      <td>0</td>\n      <td>0</td>\n      <td>0</td>\n      <td>0</td>\n      <td>0</td>\n      <td>0</td>\n      <td>0</td>\n      <td>0</td>\n      <td>0</td>\n      <td>0</td>\n      <td>0</td>\n      <td>0</td>\n      <td>0</td>\n      <td>0</td>\n      <td>0</td>\n      <td>0</td>\n      <td>0</td>\n      <td>0</td>\n      <td>0</td>\n      <td>0</td>\n      <td>0</td>\n      <td>0</td>\n      <td>0</td>\n      <td>0</td>\n      <td>0</td>\n      <td>0</td>\n      <td>0</td>\n      <td>0</td>\n      <td>0</td>\n      <td>0</td>\n      <td>0</td>\n      <td>0</td>\n      <td>0</td>\n      <td>0</td>\n      <td>0</td>\n      <td>0</td>\n      <td>0</td>\n      <td>0</td>\n      <td>0</td>\n      <td>0</td>\n      <td>0</td>\n      <td>0</td>\n      <td>0</td>\n      <td>0</td>\n      <td>0</td>\n      <td>0</td>\n      <td>0</td>\n      <td>0</td>\n      <td>0</td>\n      <td>0</td>\n      <td>0</td>\n      <td>0</td>\n      <td>0</td>\n      <td>0</td>\n      <td>0</td>\n      <td>0</td>\n      <td>0</td>\n      <td>0</td>\n      <td>0</td>\n      <td>0</td>\n      <td>0</td>\n      <td>0</td>\n      <td>0</td>\n      <td>0</td>\n      <td>0</td>\n      <td>0</td>\n      <td>0</td>\n      <td>0</td>\n      <td>0</td>\n      <td>0</td>\n      <td>0</td>\n      <td>0</td>\n      <td>0</td>\n      <td>0</td>\n      <td>0</td>\n      <td>0</td>\n      <td>0</td>\n      <td>0</td>\n      <td>0</td>\n      <td>0</td>\n      <td>0</td>\n      <td>0</td>\n      <td>0</td>\n      <td>0</td>\n      <td>0</td>\n      <td>0</td>\n      <td>0</td>\n      <td>0</td>\n      <td>0</td>\n      <td>0</td>\n      <td>0</td>\n      <td>0</td>\n      <td>0</td>\n      <td>0</td>\n      <td>0</td>\n      <td>0</td>\n      <td>0</td>\n      <td>0</td>\n      <td>0</td>\n      <td>0</td>\n      <td>0</td>\n      <td>0</td>\n      <td>0</td>\n      <td>0</td>\n      <td>0</td>\n      <td>0</td>\n      <td>0</td>\n      <td>0</td>\n      <td>0</td>\n      <td>0</td>\n      <td>0</td>\n      <td>0</td>\n      <td>0</td>\n      <td>0</td>\n      <td>0</td>\n      <td>0</td>\n      <td>0</td>\n      <td>0</td>\n      <td>0</td>\n      <td>0</td>\n      <td>0</td>\n      <td>0</td>\n      <td>0</td>\n      <td>0</td>\n      <td>0</td>\n      <td>0</td>\n      <td>0</td>\n      <td>0</td>\n      <td>0</td>\n      <td>0</td>\n      <td>0</td>\n      <td>0</td>\n      <td>0</td>\n      <td>0</td>\n      <td>0</td>\n      <td>0</td>\n      <td>0</td>\n      <td>0</td>\n      <td>0</td>\n      <td>0</td>\n      <td>0</td>\n      <td>0</td>\n      <td>0</td>\n      <td>0</td>\n      <td>0</td>\n      <td>0</td>\n      <td>0</td>\n      <td>...</td>\n      <td>0</td>\n      <td>0</td>\n      <td>0</td>\n      <td>0</td>\n      <td>0</td>\n      <td>0</td>\n      <td>0</td>\n      <td>0</td>\n      <td>0</td>\n      <td>0</td>\n      <td>0</td>\n      <td>0</td>\n      <td>0</td>\n      <td>0</td>\n      <td>0</td>\n      <td>0</td>\n      <td>0</td>\n      <td>0</td>\n      <td>0</td>\n      <td>0</td>\n      <td>0</td>\n      <td>0</td>\n      <td>0</td>\n      <td>0</td>\n      <td>0</td>\n      <td>0</td>\n      <td>0</td>\n      <td>0</td>\n      <td>0</td>\n      <td>0</td>\n      <td>0</td>\n      <td>0</td>\n      <td>0</td>\n      <td>0</td>\n      <td>0</td>\n      <td>0</td>\n      <td>0</td>\n      <td>0</td>\n      <td>0</td>\n      <td>0</td>\n      <td>0</td>\n      <td>0</td>\n      <td>0</td>\n      <td>0</td>\n      <td>0</td>\n      <td>0</td>\n      <td>0</td>\n      <td>0</td>\n      <td>0</td>\n      <td>0</td>\n      <td>0</td>\n      <td>0</td>\n      <td>0</td>\n      <td>0</td>\n      <td>0</td>\n      <td>0</td>\n      <td>0</td>\n      <td>0</td>\n      <td>0</td>\n      <td>0</td>\n      <td>0</td>\n      <td>0</td>\n      <td>0</td>\n      <td>0</td>\n      <td>0</td>\n      <td>0</td>\n      <td>0</td>\n      <td>0</td>\n      <td>0</td>\n      <td>0</td>\n      <td>0</td>\n      <td>0</td>\n      <td>0</td>\n      <td>0</td>\n      <td>0</td>\n      <td>0</td>\n      <td>0</td>\n      <td>0</td>\n      <td>0</td>\n      <td>0</td>\n      <td>0</td>\n      <td>0</td>\n      <td>0</td>\n      <td>0</td>\n      <td>0</td>\n      <td>0</td>\n      <td>0</td>\n      <td>0</td>\n      <td>0</td>\n      <td>0</td>\n      <td>0</td>\n      <td>0</td>\n      <td>0</td>\n      <td>0</td>\n      <td>0</td>\n      <td>0</td>\n      <td>0</td>\n      <td>0</td>\n      <td>0</td>\n      <td>0</td>\n      <td>0</td>\n      <td>0</td>\n      <td>0</td>\n      <td>0</td>\n      <td>0</td>\n      <td>0</td>\n      <td>0</td>\n      <td>0</td>\n      <td>0</td>\n      <td>0</td>\n      <td>0</td>\n      <td>0</td>\n      <td>0</td>\n      <td>0</td>\n      <td>0</td>\n      <td>0</td>\n      <td>0</td>\n      <td>0</td>\n      <td>0</td>\n      <td>0</td>\n      <td>0</td>\n      <td>0</td>\n      <td>0</td>\n      <td>0</td>\n      <td>0</td>\n      <td>0</td>\n      <td>0</td>\n      <td>0</td>\n      <td>0</td>\n      <td>0</td>\n      <td>0</td>\n      <td>0</td>\n      <td>0</td>\n      <td>0</td>\n      <td>0</td>\n      <td>0</td>\n      <td>0</td>\n      <td>0</td>\n      <td>0</td>\n      <td>0</td>\n      <td>0</td>\n      <td>0</td>\n      <td>0</td>\n      <td>0</td>\n      <td>0</td>\n      <td>0</td>\n      <td>0</td>\n      <td>0</td>\n      <td>0</td>\n      <td>0</td>\n      <td>0</td>\n      <td>0</td>\n      <td>0</td>\n      <td>0</td>\n      <td>0</td>\n      <td>0</td>\n      <td>0</td>\n      <td>0</td>\n      <td>0</td>\n      <td>0</td>\n      <td>0</td>\n      <td>0</td>\n      <td>0</td>\n      <td>0</td>\n      <td>0</td>\n      <td>0</td>\n      <td>0</td>\n      <td>0</td>\n      <td>0</td>\n      <td>0</td>\n      <td>0</td>\n      <td>0</td>\n      <td>0</td>\n      <td>0</td>\n      <td>0</td>\n      <td>0</td>\n      <td>0</td>\n      <td>0</td>\n      <td>0</td>\n      <td>0</td>\n      <td>0</td>\n      <td>0</td>\n      <td>0</td>\n      <td>0</td>\n      <td>0</td>\n      <td>0</td>\n      <td>0</td>\n      <td>0</td>\n      <td>0</td>\n      <td>0</td>\n      <td>0</td>\n      <td>0</td>\n      <td>0</td>\n      <td>0</td>\n      <td>0</td>\n      <td>0</td>\n      <td>0</td>\n      <td>0</td>\n      <td>0</td>\n      <td>0</td>\n      <td>0</td>\n      <td>0</td>\n      <td>0</td>\n      <td>0</td>\n      <td>0</td>\n      <td>0</td>\n      <td>0</td>\n      <td>0</td>\n      <td>0</td>\n      <td>0</td>\n      <td>0</td>\n      <td>0</td>\n      <td>0</td>\n      <td>0</td>\n      <td>0</td>\n      <td>0</td>\n      <td>0</td>\n      <td>0</td>\n      <td>0</td>\n      <td>0</td>\n      <td>0</td>\n      <td>0</td>\n      <td>0</td>\n      <td>0</td>\n      <td>0</td>\n      <td>0</td>\n      <td>0</td>\n      <td>0</td>\n      <td>0</td>\n      <td>0</td>\n      <td>0</td>\n      <td>0</td>\n      <td>0</td>\n      <td>0</td>\n      <td>0</td>\n      <td>0</td>\n      <td>0</td>\n      <td>0</td>\n      <td>0</td>\n      <td>0</td>\n      <td>0</td>\n      <td>0</td>\n      <td>0</td>\n      <td>0</td>\n      <td>0</td>\n      <td>0</td>\n      <td>0</td>\n      <td>0</td>\n      <td>0</td>\n      <td>0</td>\n    </tr>\n  </tbody>\n</table>\n<p>5 rows × 49601 columns</p>\n</div>"
     },
     "metadata": {},
     "output_type": "display_data"
    }
   ],
   "source": [
    "# Create dataframes with the sparse matrices\n",
    "\n",
    "df_bow_tweets_train = pd.DataFrame(bow_tweets_train.todense())    # <---  It is used to convert a sparse matrix into a dense matrix.  In a dense matrix, all values are stored, including the zeros, which can consume a lot more memory. The resulting dense matrix is a regular 2D array where all the cells are explicitly represented.\n",
    "display(df_bow_tweets_train.head())\n",
    "df_bow_tweets_test = pd.DataFrame(bow_tweets_test.todense())\n",
    "display(df_bow_tweets_test.head())"
   ],
   "metadata": {
    "collapsed": false,
    "ExecuteTime": {
     "end_time": "2023-10-17T17:16:10.822315800Z",
     "start_time": "2023-10-17T17:16:08.653225300Z"
    }
   }
  },
  {
   "cell_type": "markdown",
   "source": [
    "### <a id='4-1-3'>4.1.3 Bag of N-grams</a>"
   ],
   "metadata": {
    "collapsed": false
   }
  },
  {
   "cell_type": "markdown",
   "source": [
    "The **Bag of N-grams model** is an extension of the Bag of Words (BoW) model used in Natural Language Processing (NLP). While BoW treats each word as a separate entity and disregards word order, **the Bag of N-grams model considers sequences of N consecutive words, or \"N-grams,\" in a text**.\n",
    "\n",
    "The corpus **vocabulary**, $V$, **is a collection of all unique n-grams across the text corpus**. Then, each document in the corpus is represented by a vector of length $|V|$. This vector simply contains the frequency counts of n-grams present in the document and zero for the n-grams that are not present.\n",
    "\n",
    "Bag of N-grams model:\n",
    "- *N_grams*:\n",
    "    - An N-gram is a contiguous sequence of N items from a given sample of text or speech. In the context of language, these \"items\" are usually words.\n",
    "\n",
    "- *Types of N-grams*:\n",
    "    - <u>Unigrams (N=1) </u>: Each word is treated individually. The sentence \"The quick brown fox\" would be represented as [\"The\", \"quick\", \"brown\", \"fox\"].\n",
    "    - <u>Bigrams (N=2) </u>: Sequences of two consecutive words are considered. The same sentence would be represented as [\"The quick\", \"quick brown\", \"brown fox\"].\n",
    "    - <u>Trigrams (N=3) </u>: Sequences of three consecutive words are considered. The sentence would be represented as [\"The quick brown\", \"quick brown fox\"].\n",
    "    - And so on for higher values of N.\n",
    "\n",
    "- *Bag of N-grams*:\n",
    "    - Like the Bag of Words model, the Bag of N-grams model represents text data as a collection of features, but instead of individual words, it considers N-gram sequences.\n",
    "\n",
    "- *Feature Extraction*:\n",
    "    - The process involves creating a vocabulary of all unique N-grams in the corpus. Each document is then represented as a vector, where each element corresponds to the frequency of an N-gram in the vocabulary.\n",
    "      Example: Consider the sentence: \"The quick brown fox jumps over the lazy dog.\" For bigrams, the Bag of N-grams representation might include features like \"The quick\", \"quick brown\", \"brown fox\", \"fox jumps\", \"jumps over\", \"over the\", \"the lazy\", \"lazy dog\".\n",
    "\n",
    "- *Preserving Context*:\n",
    "    - By considering sequences of words, the Bag of N-grams model captures some degree of context, which can be important for tasks like sentiment analysis, where the meaning of a sentence can change drastically based on word order.\n",
    "\n",
    "- *Limitations*:\n",
    "    - As N increases, the number of unique N-grams in the vocabulary can grow exponentially, potentially leading to high-dimensional feature spaces and increased computational requirements.\n",
    "\n",
    "The Bag of N-grams model is useful for tasks where word order and context are important, such as machine translation, part-of-speech tagging, and some types of sentiment analysis. It provides a compromise between the simplicity of Bag of Words and the context-awareness of more sophisticated models like recurrent neural networks (RNNs) or transformers.\n",
    "\n",
    "<u>Notes </u>:\n",
    "- **Advantages**:\n",
    "    - *Easy implementation*.\n",
    "    - *It captures some context and word-order information in the form of n-grams*.\n",
    "    - Thus, *the resulting vector space can capture some semantic similarity*. **Documents having the same n-grams will have their vectors closer to each other in Euclidean space as compared to documents with completely different n-grams**.\n",
    "- **Disadvantages**:\n",
    "    - *As $n$ increases, dimensionality (and therefore sparsity) only increases rapidly, slowing down the algorithm*.\n",
    "    - *OOV*"
   ],
   "metadata": {
    "collapsed": false
   }
  },
  {
   "cell_type": "code",
   "execution_count": 11,
   "outputs": [
    {
     "data": {
      "text/plain": "                    text  output\n0   people watch campusx       1\n1  campusx watch campusx       1\n2   people write comment       0\n3  campusx write comment       0",
      "text/html": "<div>\n<style scoped>\n    .dataframe tbody tr th:only-of-type {\n        vertical-align: middle;\n    }\n\n    .dataframe tbody tr th {\n        vertical-align: top;\n    }\n\n    .dataframe thead th {\n        text-align: right;\n    }\n</style>\n<table border=\"1\" class=\"dataframe\">\n  <thead>\n    <tr style=\"text-align: right;\">\n      <th></th>\n      <th>text</th>\n      <th>output</th>\n    </tr>\n  </thead>\n  <tbody>\n    <tr>\n      <th>0</th>\n      <td>people watch campusx</td>\n      <td>1</td>\n    </tr>\n    <tr>\n      <th>1</th>\n      <td>campusx watch campusx</td>\n      <td>1</td>\n    </tr>\n    <tr>\n      <th>2</th>\n      <td>people write comment</td>\n      <td>0</td>\n    </tr>\n    <tr>\n      <th>3</th>\n      <td>campusx write comment</td>\n      <td>0</td>\n    </tr>\n  </tbody>\n</table>\n</div>"
     },
     "execution_count": 11,
     "metadata": {},
     "output_type": "execute_result"
    }
   ],
   "source": [
    "# Example 1\n",
    "\n",
    "df_test"
   ],
   "metadata": {
    "collapsed": false,
    "ExecuteTime": {
     "end_time": "2023-10-17T11:21:28.866379400Z",
     "start_time": "2023-10-17T11:21:28.858571400Z"
    }
   }
  },
  {
   "cell_type": "code",
   "execution_count": 12,
   "outputs": [],
   "source": [
    "cv = CountVectorizer(ngram_range =(3,3))      # <--- change ngram_range to see different results"
   ],
   "metadata": {
    "collapsed": false,
    "ExecuteTime": {
     "end_time": "2023-10-17T11:21:30.452191800Z",
     "start_time": "2023-10-17T11:21:30.443010300Z"
    }
   }
  },
  {
   "cell_type": "code",
   "execution_count": 13,
   "outputs": [],
   "source": [
    "bow = cv.fit_transform(df_test['text'])"
   ],
   "metadata": {
    "collapsed": false,
    "ExecuteTime": {
     "end_time": "2023-10-17T11:21:31.567552900Z",
     "start_time": "2023-10-17T11:21:31.560068700Z"
    }
   }
  },
  {
   "cell_type": "code",
   "execution_count": 14,
   "outputs": [
    {
     "name": "stdout",
     "output_type": "stream",
     "text": [
      "{'people watch campusx': 2, 'campusx watch campusx': 0, 'people write comment': 3, 'campusx write comment': 1}\n"
     ]
    }
   ],
   "source": [
    "# Get the vocabulary\n",
    "print(cv.vocabulary_)"
   ],
   "metadata": {
    "collapsed": false,
    "ExecuteTime": {
     "end_time": "2023-10-17T11:21:32.589028300Z",
     "start_time": "2023-10-17T11:21:32.581349300Z"
    }
   }
  },
  {
   "cell_type": "code",
   "execution_count": 15,
   "outputs": [
    {
     "name": "stdout",
     "output_type": "stream",
     "text": [
      "[[0 0 1 0]]\n",
      "[[1 0 0 0]]\n"
     ]
    }
   ],
   "source": [
    "print(bow[0].toarray())\n",
    "print(bow[1].toarray())"
   ],
   "metadata": {
    "collapsed": false,
    "ExecuteTime": {
     "end_time": "2023-10-17T11:21:34.334004600Z",
     "start_time": "2023-10-17T11:21:34.321286400Z"
    }
   }
  },
  {
   "cell_type": "code",
   "execution_count": 16,
   "outputs": [
    {
     "name": "stdout",
     "output_type": "stream",
     "text": [
      "Unigram Vocabulary mapping for given sample corpus : \n",
      " {'the': 4, 'cat': 0, 'sat': 3, 'in': 2, 'hat': 1, 'with': 5}\n",
      "\n",
      "Bag of 1-gram (unigram) Representation of sentence 'the cat cat sat in the hat'\n",
      "[[2 1 1 1 2 0]]\n"
     ]
    }
   ],
   "source": [
    "# Example 2\n",
    "# Bag of 1-gram (unigram)\n",
    "sample_boN = CountVectorizer(ngram_range = (1,1))\n",
    "\n",
    "sample_corpus = ['the cat sat',\n",
    "                 'the cat sat in the hat',\n",
    "                 'the cat with the hat']\n",
    "\n",
    "sample_boN.fit(sample_corpus)\n",
    "\n",
    "def get_boN_representation(text):\n",
    "    return sample_boN.transform(text)\n",
    "\n",
    "print(f\"Unigram Vocabulary mapping for given sample corpus : \\n {sample_boN.vocabulary_}\")\n",
    "print(\"\\nBag of 1-gram (unigram) Representation of sentence 'the cat cat sat in the hat'\")\n",
    "print(get_boN_representation([\"the cat cat sat in the hat\"]).toarray())"
   ],
   "metadata": {
    "collapsed": false,
    "ExecuteTime": {
     "end_time": "2023-10-17T11:21:35.398023600Z",
     "start_time": "2023-10-17T11:21:35.387890300Z"
    }
   }
  },
  {
   "cell_type": "code",
   "execution_count": 17,
   "outputs": [
    {
     "name": "stdout",
     "output_type": "stream",
     "text": [
      "Unigram Vocabulary mapping for given sample corpus : \n",
      " {'the cat': 4, 'cat sat': 0, 'sat in': 3, 'in the': 2, 'the hat': 5, 'cat with': 1, 'with the': 6}\n",
      "\n",
      "Bag of 1-gram (unigram) Representation of sentence 'the cat cat sat in the hat'\n",
      "[[1 0 1 1 1 1 0]]\n"
     ]
    }
   ],
   "source": [
    "# Example 3\n",
    "# Bag of 2-gram (bigram)\n",
    "sample_boN = CountVectorizer(ngram_range = (2,2))\n",
    "\n",
    "sample_corpus = ['the cat sat',\n",
    "                 'the cat sat in the hat',\n",
    "                 'the cat with the hat']\n",
    "\n",
    "sample_boN.fit(sample_corpus)\n",
    "\n",
    "def get_boN_representation(text):\n",
    "    return sample_boN.transform(text)\n",
    "\n",
    "print(f\"Unigram Vocabulary mapping for given sample corpus : \\n {sample_boN.vocabulary_}\")\n",
    "print(\"\\nBag of 1-gram (unigram) Representation of sentence 'the cat cat sat in the hat'\")\n",
    "print(get_boN_representation([\"the cat cat sat in the hat\"]).toarray())"
   ],
   "metadata": {
    "collapsed": false,
    "ExecuteTime": {
     "end_time": "2023-10-17T11:21:38.093606200Z",
     "start_time": "2023-10-17T11:21:38.087455200Z"
    }
   }
  },
  {
   "cell_type": "code",
   "execution_count": 18,
   "outputs": [
    {
     "name": "stdout",
     "output_type": "stream",
     "text": [
      "Trigram Vocabulary mapping for given sample corpus : \n",
      " {'the cat sat': 4, 'cat sat in': 0, 'sat in the': 3, 'in the hat': 2, 'the cat with': 5, 'cat with the': 1, 'with the hat': 6}\n",
      "\n",
      "Bag of 3-gram (trigram) Representation of sentence 'the cat cat sat in the hat'\n",
      "[[1 0 1 1 0 0 0]]\n"
     ]
    }
   ],
   "source": [
    "# Example 4\n",
    "# Bag of 3-gram (trigram)\n",
    "\n",
    "sample_boN = CountVectorizer(ngram_range = (3, 3))\n",
    "\n",
    "sample_corpus = [\"the cat sat\", \"the cat sat in the hat\", \"the cat with the hat\"]\n",
    "\n",
    "sample_boN.fit(sample_corpus)\n",
    "\n",
    "def get_boN_representation(text):\n",
    "        return sample_boN.transform(text)\n",
    "\n",
    "print(f\"Trigram Vocabulary mapping for given sample corpus : \\n {sample_boN.vocabulary_}\")\n",
    "print(\"\\nBag of 3-gram (trigram) Representation of sentence 'the cat cat sat in the hat'\")\n",
    "print(get_boN_representation([\"the cat cat sat in the hat\"]).toarray())"
   ],
   "metadata": {
    "collapsed": false,
    "ExecuteTime": {
     "end_time": "2023-10-17T11:21:40.439431900Z",
     "start_time": "2023-10-17T11:21:40.434933Z"
    }
   }
  },
  {
   "cell_type": "markdown",
   "source": [
    "### <a id='4-1-4'>4.1.4 Term Frequency-Inverse Document Frequency (TF-IDF)</a>"
   ],
   "metadata": {
    "collapsed": false
   }
  },
  {
   "cell_type": "markdown",
   "source": [
    "**TF-IDF** **is a statistical measure** used in Natural Language Processing (NLP) and information retrieval **to evaluate the importance of a word within a document relative to a collection of documents, often referred to as a corpus**.\n",
    "\n",
    "Tf-Idf aims to quantify the importance of a given word relative to other words in the document and in the corpus.\n",
    "\n",
    "The intuition behind TF-IDF is as follows: if a word $w$ appears many times in a sentence $S_1$ but does not occur much in the rest of the Sentences $S_n$ in the corpus, then the word $w$ must be of great importance to the Sentence $S_1$. The importance of $w$ should increase in proportion to its frequency in $S_1$ (how many times that word occurs in sentence $S_1$), but at the same time, its importance should decrease in proportion to the word’s frequency in other sentences $S_n$ in the corpus. Mathematically, this is captured using two quantities: *TF* and *IDF*. The two are then multiplied to arrive at the TF-IDF score.\n",
    "- **TF (term frequency)**: It measures the frequency of a term (word) within a document. It indicates how often a word appears in a document relative to the total number of words in that document.\n",
    "    Mathematical Expression of TF:\n",
    "    $$\\text{TF}(t,d) = \\displaystyle\\frac{\\text{Number of occurrences of term $t$ in document $d$}}{\\text{Total number of terms in the document $d$}}$$\n",
    "\n",
    "Example: In a document with 100 words, if the word \"apple\" appears 5 times, its TF score is 0.05.\n",
    "\n",
    "- **IDF (Inverse Document frequency)**: It measures the importance of a term across a collection of documents (corpus). It assigns a weight to each term based on how common or rare it is in the entire corpus. Words that are common across many documents receive a lower weight, while rare words receive a higher weight.\n",
    "     It’s a well-known fact that stop words like *is, are, am*, etc., are not important, even though they occur frequently. To account for such cases, IDF weighs down the terms that are very common across a corpus and weighs up the rare terms. IDF of a term $t$ is calculated as follows:\n",
    "     $$\\text{IDF}(t) = \\log_e\\displaystyle\\frac{\\text{Total number of documents in the corpus}}{\\text{Number of documents with term $t$ in them}}$$\n",
    "\n",
    "Example: If there are 1,000,000 documents in the corpus and the word \"apple\" appears in 10,000 of them, its IDF score is approximately 4.0.\n",
    "\n",
    "- **TF_IDF Score**: The TF-IDF score of a term in a document is the product of its TF and IDF scores. It indicates how important a term is to a specific document in the context of the entire corpus.\n",
    " $$\\text{TF-IDF}(t,d,D) = \\text{TF}(t,d)\\cdot\\text{IDF}(t,D)$$\n",
    "\n",
    "Example: If \"apple\" has a TF of 0.05 and an IDF of 4.0, its TF-IDF score is 0.2.\n",
    "\n",
    "Similar to BoW, **we can use the TF-IDF vectors to calculate the similarity between two texts using a similarity measure like Euclidean distance or cosine similarity**. TF-IDF is a commonly used representation in application scenarios such as information retrieval and text classification. However, even though TF-IDF is better than the vectorization methods we saw earlier in terms of capturing similarities between words, it still suffers from the curse of high dimensionality.\n",
    "\n",
    "<u>Notes </u>:\n",
    "- **Advantages**:\n",
    "    - *Information Retrieval*. It captures a bit of the semantics of the sentence.\n",
    "\n",
    "- **Disadvantages**:\n",
    "    - Its *implementation is not that easy* as compared to BoW, OHE, N-grams\n",
    "    - I have a *fixed-length encoding for any sentence of arbitrary length*.\n",
    "    - The feature vectors are high-dimensional representations. The *dimensionality increases with the size of the vocabulary*.\n",
    "    - *OOV* problem"
   ],
   "metadata": {
    "collapsed": false
   }
  },
  {
   "cell_type": "code",
   "execution_count": 26,
   "outputs": [],
   "source": [
    "from sklearn.feature_extraction.text import TfidfVectorizer\n"
   ],
   "metadata": {
    "collapsed": false,
    "ExecuteTime": {
     "end_time": "2023-10-17T16:27:21.078850300Z",
     "start_time": "2023-10-17T16:27:21.061903300Z"
    }
   }
  },
  {
   "cell_type": "code",
   "execution_count": 27,
   "outputs": [
    {
     "data": {
      "text/plain": "array([[0.49681612, 0.        , 0.61366674, 0.61366674, 0.        ],\n       [0.8508161 , 0.        , 0.        , 0.52546357, 0.        ],\n       [0.        , 0.57735027, 0.57735027, 0.        , 0.57735027],\n       [0.49681612, 0.61366674, 0.        , 0.        , 0.61366674]])"
     },
     "execution_count": 27,
     "metadata": {},
     "output_type": "execute_result"
    }
   ],
   "source": [
    "# Example 1\n",
    "\n",
    "tfidf = TfidfVectorizer()\n",
    "\n",
    "tfidf.fit_transform(df_test['text']).toarray()"
   ],
   "metadata": {
    "collapsed": false,
    "ExecuteTime": {
     "end_time": "2023-10-17T16:27:24.187048700Z",
     "start_time": "2023-10-17T16:27:24.183072300Z"
    }
   }
  },
  {
   "cell_type": "code",
   "execution_count": 28,
   "outputs": [
    {
     "name": "stdout",
     "output_type": "stream",
     "text": [
      "[1.22314355 1.51082562 1.51082562 1.51082562 1.51082562]\n",
      "['campusx' 'comment' 'people' 'watch' 'write']\n"
     ]
    }
   ],
   "source": [
    "# Get the IDF scores for each word of the corpus\n",
    "print(tfidf.idf_)\n",
    "\n",
    "# Get the features (words)\n",
    "print(tfidf.get_feature_names_out())"
   ],
   "metadata": {
    "collapsed": false,
    "ExecuteTime": {
     "end_time": "2023-10-17T16:27:28.373871200Z",
     "start_time": "2023-10-17T16:27:28.368128400Z"
    }
   }
  },
  {
   "cell_type": "code",
   "execution_count": 33,
   "outputs": [
    {
     "name": "stdout",
     "output_type": "stream",
     "text": [
      "IDF Values for sample corpus : [1.         1.28768207 1.69314718 1.28768207 1.         1.69314718]\n",
      "TF-IDF Representation for sentence 'the cat sat in the hat' :\n",
      "[[0.29903422 0.385061   0.50630894 0.385061   0.59806843 0.        ]]\n"
     ]
    }
   ],
   "source": [
    "# Example 2\n",
    "\n",
    "tfidf = TfidfVectorizer()\n",
    "\n",
    "sample_corpus = ['the cat sat',\n",
    "                 'the cat sat in the hat',\n",
    "                 'the cat with the hat']\n",
    "tfidf_rep = tfidf.fit_transform(sample_corpus)\n",
    "\n",
    "print(\"IDF Values for sample corpus :\", tfidf.idf_)\n",
    "\n",
    "print(\"TF-IDF Representation for sentence 'the cat sat in the hat' :\")\n",
    "print(tfidf.transform([\"the cat sat in the hat\"]).toarray())"
   ],
   "metadata": {
    "collapsed": false,
    "ExecuteTime": {
     "end_time": "2023-10-17T16:29:48.314570300Z",
     "start_time": "2023-10-17T16:29:48.297612800Z"
    }
   }
  },
  {
   "cell_type": "markdown",
   "source": [
    "**TF-IDF to Tweets Data**"
   ],
   "metadata": {
    "collapsed": false
   }
  },
  {
   "cell_type": "code",
   "execution_count": 48,
   "outputs": [],
   "source": [
    "tfidf = TfidfVectorizer(min_df = 1,\n",
    "                        max_df = 0.90,\n",
    "                        norm = 'l2',               # It controls the normalization term used in the TF-IDF computation. It can take values like 'l1', 'l2', or None. 'l2' is commonly used, and it normalizes the term vectors to have a Euclidean norm of 1. This normalization is often applied to prevent longer documents from having a larger impact solely due to their length.\n",
    "                        use_idf = True,            # It determines whether to enable the inverse-document-frequency reweighting. If True, it scales down the importance of words that occur in many documents, giving more weight to terms that are rare across documents and less weight to terms that are common.\n",
    "                        max_features = 2000,       # It specifies the maximum number of features (words) to consider. It limits the vocabulary size to the top max_features ordered by term frequency across the corpus. If not specified, there is no limit. By setting max_features, you are limiting the vocabulary size to the most frequent words, which can help in reducing the dimensionality of the resulting TF-IDF matrix.\n",
    "                        stop_words = 'english')    #  If set to 'english', it will remove common English stop words ('the', 'is', 'and', etc.) from the input data. This is generally a good practice for text data, since stop words are often considered noise in natural language processing tasks."
   ],
   "metadata": {
    "collapsed": false,
    "ExecuteTime": {
     "end_time": "2023-10-17T17:29:31.387651300Z",
     "start_time": "2023-10-17T17:29:31.383966500Z"
    }
   }
  },
  {
   "cell_type": "code",
   "execution_count": 49,
   "outputs": [
    {
     "name": "stdout",
     "output_type": "stream",
     "text": [
      "TF-IDF cv_train: (32925, 2000)\n",
      "TF-IDf cv_test: (8232, 2000)\n"
     ]
    }
   ],
   "source": [
    "# Train data\n",
    "tfidf_tweets_train_cv = X_train['LemmatizedTweets']\n",
    "\n",
    "# fit_Transform train data\n",
    "tfidf_tweets_train = tfidf.fit_transform(tfidf_tweets_train_cv)\n",
    "\n",
    "# Test data\n",
    "tfidf_tweets_test_cv = X_test['LemmatizedTweets']\n",
    "\n",
    "# Transform test data\n",
    "tfidf_tweets_test = tfidf.transform(tfidf_tweets_test_cv)\n",
    "\n",
    "print('TF-IDF cv_train:', tfidf_tweets_train.shape)\n",
    "print('TF-IDf cv_test:', tfidf_tweets_test.shape)"
   ],
   "metadata": {
    "collapsed": false,
    "ExecuteTime": {
     "end_time": "2023-10-17T17:29:34.358959400Z",
     "start_time": "2023-10-17T17:29:33.841764Z"
    }
   }
  },
  {
   "cell_type": "code",
   "execution_count": 50,
   "outputs": [
    {
     "data": {
      "text/plain": "   0     1     2     3     4     5     6     7     8     9     10    11    12    13    14    15    16    17    18    19    20    21    22    23    24    25    26    27    28    29    30    31    32    33    34    35    36    37    38    39    40    41    42    43    44    45    46    47    48    49    50    51    52    53    54        55    56    57    58    59    60    61    62    63    64    65    66    67    68    69    70    71    72    73    74    75    76    77    78    79    80    81    82    83    84    85    86    87    88    89    90    91    92    93    94    95    96    97    98    99    100   101   102   103   104   105   106   107   108   109   110   111   112   113   114   115   116   117   118   119   120   121   122   123   124   125   126   127   128   129   130   131   132   133   134   135   136   137   138   139   140   141   142   143   144   145   146   147   148   149   150   151   152   153   154   155   156   157   158   159   160   161   162   163   164   \\\n0   0.0   0.0   0.0   0.0   0.0   0.0   0.0   0.0   0.0   0.0   0.0   0.0   0.0   0.0   0.0   0.0   0.0   0.0   0.0   0.0   0.0   0.0   0.0   0.0   0.0   0.0   0.0   0.0   0.0   0.0   0.0   0.0   0.0   0.0   0.0   0.0   0.0   0.0   0.0   0.0   0.0   0.0   0.0   0.0   0.0   0.0   0.0   0.0   0.0   0.0   0.0   0.0   0.0   0.0   0.0  0.000000   0.0   0.0   0.0   0.0   0.0   0.0   0.0   0.0   0.0   0.0   0.0   0.0   0.0   0.0   0.0   0.0   0.0   0.0   0.0   0.0   0.0   0.0   0.0   0.0   0.0   0.0   0.0   0.0   0.0   0.0   0.0   0.0   0.0   0.0   0.0   0.0   0.0   0.0   0.0   0.0   0.0   0.0   0.0   0.0   0.0   0.0   0.0   0.0   0.0   0.0   0.0   0.0   0.0   0.0   0.0   0.0   0.0   0.0   0.0   0.0   0.0   0.0   0.0   0.0   0.0   0.0   0.0   0.0   0.0   0.0   0.0   0.0   0.0   0.0   0.0   0.0   0.0   0.0   0.0   0.0   0.0   0.0   0.0   0.0   0.0   0.0   0.0   0.0   0.0   0.0   0.0   0.0   0.0   0.0   0.0   0.0   0.0   0.0   0.0   0.0   0.0   0.0   0.0   0.0   0.0   0.0   0.0   0.0   0.0   \n1   0.0   0.0   0.0   0.0   0.0   0.0   0.0   0.0   0.0   0.0   0.0   0.0   0.0   0.0   0.0   0.0   0.0   0.0   0.0   0.0   0.0   0.0   0.0   0.0   0.0   0.0   0.0   0.0   0.0   0.0   0.0   0.0   0.0   0.0   0.0   0.0   0.0   0.0   0.0   0.0   0.0   0.0   0.0   0.0   0.0   0.0   0.0   0.0   0.0   0.0   0.0   0.0   0.0   0.0   0.0  0.000000   0.0   0.0   0.0   0.0   0.0   0.0   0.0   0.0   0.0   0.0   0.0   0.0   0.0   0.0   0.0   0.0   0.0   0.0   0.0   0.0   0.0   0.0   0.0   0.0   0.0   0.0   0.0   0.0   0.0   0.0   0.0   0.0   0.0   0.0   0.0   0.0   0.0   0.0   0.0   0.0   0.0   0.0   0.0   0.0   0.0   0.0   0.0   0.0   0.0   0.0   0.0   0.0   0.0   0.0   0.0   0.0   0.0   0.0   0.0   0.0   0.0   0.0   0.0   0.0   0.0   0.0   0.0   0.0   0.0   0.0   0.0   0.0   0.0   0.0   0.0   0.0   0.0   0.0   0.0   0.0   0.0   0.0   0.0   0.0   0.0   0.0   0.0   0.0   0.0   0.0   0.0   0.0   0.0   0.0   0.0   0.0   0.0   0.0   0.0   0.0   0.0   0.0   0.0   0.0   0.0   0.0   0.0   0.0   0.0   \n2   0.0   0.0   0.0   0.0   0.0   0.0   0.0   0.0   0.0   0.0   0.0   0.0   0.0   0.0   0.0   0.0   0.0   0.0   0.0   0.0   0.0   0.0   0.0   0.0   0.0   0.0   0.0   0.0   0.0   0.0   0.0   0.0   0.0   0.0   0.0   0.0   0.0   0.0   0.0   0.0   0.0   0.0   0.0   0.0   0.0   0.0   0.0   0.0   0.0   0.0   0.0   0.0   0.0   0.0   0.0  0.000000   0.0   0.0   0.0   0.0   0.0   0.0   0.0   0.0   0.0   0.0   0.0   0.0   0.0   0.0   0.0   0.0   0.0   0.0   0.0   0.0   0.0   0.0   0.0   0.0   0.0   0.0   0.0   0.0   0.0   0.0   0.0   0.0   0.0   0.0   0.0   0.0   0.0   0.0   0.0   0.0   0.0   0.0   0.0   0.0   0.0   0.0   0.0   0.0   0.0   0.0   0.0   0.0   0.0   0.0   0.0   0.0   0.0   0.0   0.0   0.0   0.0   0.0   0.0   0.0   0.0   0.0   0.0   0.0   0.0   0.0   0.0   0.0   0.0   0.0   0.0   0.0   0.0   0.0   0.0   0.0   0.0   0.0   0.0   0.0   0.0   0.0   0.0   0.0   0.0   0.0   0.0   0.0   0.0   0.0   0.0   0.0   0.0   0.0   0.0   0.0   0.0   0.0   0.0   0.0   0.0   0.0   0.0   0.0   0.0   \n3   0.0   0.0   0.0   0.0   0.0   0.0   0.0   0.0   0.0   0.0   0.0   0.0   0.0   0.0   0.0   0.0   0.0   0.0   0.0   0.0   0.0   0.0   0.0   0.0   0.0   0.0   0.0   0.0   0.0   0.0   0.0   0.0   0.0   0.0   0.0   0.0   0.0   0.0   0.0   0.0   0.0   0.0   0.0   0.0   0.0   0.0   0.0   0.0   0.0   0.0   0.0   0.0   0.0   0.0   0.0  0.000000   0.0   0.0   0.0   0.0   0.0   0.0   0.0   0.0   0.0   0.0   0.0   0.0   0.0   0.0   0.0   0.0   0.0   0.0   0.0   0.0   0.0   0.0   0.0   0.0   0.0   0.0   0.0   0.0   0.0   0.0   0.0   0.0   0.0   0.0   0.0   0.0   0.0   0.0   0.0   0.0   0.0   0.0   0.0   0.0   0.0   0.0   0.0   0.0   0.0   0.0   0.0   0.0   0.0   0.0   0.0   0.0   0.0   0.0   0.0   0.0   0.0   0.0   0.0   0.0   0.0   0.0   0.0   0.0   0.0   0.0   0.0   0.0   0.0   0.0   0.0   0.0   0.0   0.0   0.0   0.0   0.0   0.0   0.0   0.0   0.0   0.0   0.0   0.0   0.0   0.0   0.0   0.0   0.0   0.0   0.0   0.0   0.0   0.0   0.0   0.0   0.0   0.0   0.0   0.0   0.0   0.0   0.0   0.0   0.0   \n4   0.0   0.0   0.0   0.0   0.0   0.0   0.0   0.0   0.0   0.0   0.0   0.0   0.0   0.0   0.0   0.0   0.0   0.0   0.0   0.0   0.0   0.0   0.0   0.0   0.0   0.0   0.0   0.0   0.0   0.0   0.0   0.0   0.0   0.0   0.0   0.0   0.0   0.0   0.0   0.0   0.0   0.0   0.0   0.0   0.0   0.0   0.0   0.0   0.0   0.0   0.0   0.0   0.0   0.0   0.0  0.389323   0.0   0.0   0.0   0.0   0.0   0.0   0.0   0.0   0.0   0.0   0.0   0.0   0.0   0.0   0.0   0.0   0.0   0.0   0.0   0.0   0.0   0.0   0.0   0.0   0.0   0.0   0.0   0.0   0.0   0.0   0.0   0.0   0.0   0.0   0.0   0.0   0.0   0.0   0.0   0.0   0.0   0.0   0.0   0.0   0.0   0.0   0.0   0.0   0.0   0.0   0.0   0.0   0.0   0.0   0.0   0.0   0.0   0.0   0.0   0.0   0.0   0.0   0.0   0.0   0.0   0.0   0.0   0.0   0.0   0.0   0.0   0.0   0.0   0.0   0.0   0.0   0.0   0.0   0.0   0.0   0.0   0.0   0.0   0.0   0.0   0.0   0.0   0.0   0.0   0.0   0.0   0.0   0.0   0.0   0.0   0.0   0.0   0.0   0.0   0.0   0.0   0.0   0.0   0.0   0.0   0.0   0.0   0.0   0.0   \n\n   165   166   167   168   169       170   171   172   173   174   175   176   177   178   179   180   181   182   183   184   185   186   187   188   189   190   191   192   193   194   195   196   197   198   199   200   201   202   203   204   205   206   207   208   209   210   211   212   213   214   215   216   217   218   219   220   221   222   223   224   225   226   227   228   229   230   231   232   233   234   235   236   237   238   239   240   241   242   243   244   245   246   247   248   249   ...  1750  1751  1752  1753  1754  1755  1756  1757  1758  1759  1760  1761  1762  1763  1764  1765  1766  1767  1768  1769  1770  1771  1772      1773  1774  1775  1776  1777  1778  1779  1780  1781  1782  1783  1784  1785  1786  1787  1788  1789  1790  1791  1792      1793  1794  1795  1796  1797  1798  1799  1800  1801  1802  1803  1804  1805  1806  1807  1808  1809  1810  1811  1812  1813  1814  1815  1816  1817  1818  1819  1820  1821  1822  1823  1824  1825  1826  1827  \\\n0   0.0   0.0   0.0   0.0   0.0  0.000000   0.0   0.0   0.0   0.0   0.0   0.0   0.0   0.0   0.0   0.0   0.0   0.0   0.0   0.0   0.0   0.0   0.0   0.0   0.0   0.0   0.0   0.0   0.0   0.0   0.0   0.0   0.0   0.0   0.0   0.0   0.0   0.0   0.0   0.0   0.0   0.0   0.0   0.0   0.0   0.0   0.0   0.0   0.0   0.0   0.0   0.0   0.0   0.0   0.0   0.0   0.0   0.0   0.0   0.0   0.0   0.0   0.0   0.0   0.0   0.0   0.0   0.0   0.0   0.0   0.0   0.0   0.0   0.0   0.0   0.0   0.0   0.0   0.0   0.0   0.0   0.0   0.0   0.0   0.0  ...   0.0   0.0   0.0   0.0   0.0   0.0   0.0   0.0   0.0   0.0   0.0   0.0   0.0   0.0   0.0   0.0   0.0   0.0   0.0   0.0   0.0   0.0   0.0  0.000000   0.0   0.0   0.0   0.0   0.0   0.0   0.0   0.0   0.0   0.0   0.0   0.0   0.0   0.0   0.0   0.0   0.0   0.0   0.0  0.000000   0.0   0.0   0.0   0.0   0.0   0.0   0.0   0.0   0.0   0.0   0.0   0.0   0.0   0.0   0.0   0.0   0.0   0.0   0.0   0.0   0.0   0.0   0.0   0.0   0.0   0.0   0.0   0.0   0.0   0.0   0.0   0.0   0.0   0.0   \n1   0.0   0.0   0.0   0.0   0.0  0.000000   0.0   0.0   0.0   0.0   0.0   0.0   0.0   0.0   0.0   0.0   0.0   0.0   0.0   0.0   0.0   0.0   0.0   0.0   0.0   0.0   0.0   0.0   0.0   0.0   0.0   0.0   0.0   0.0   0.0   0.0   0.0   0.0   0.0   0.0   0.0   0.0   0.0   0.0   0.0   0.0   0.0   0.0   0.0   0.0   0.0   0.0   0.0   0.0   0.0   0.0   0.0   0.0   0.0   0.0   0.0   0.0   0.0   0.0   0.0   0.0   0.0   0.0   0.0   0.0   0.0   0.0   0.0   0.0   0.0   0.0   0.0   0.0   0.0   0.0   0.0   0.0   0.0   0.0   0.0  ...   0.0   0.0   0.0   0.0   0.0   0.0   0.0   0.0   0.0   0.0   0.0   0.0   0.0   0.0   0.0   0.0   0.0   0.0   0.0   0.0   0.0   0.0   0.0  0.000000   0.0   0.0   0.0   0.0   0.0   0.0   0.0   0.0   0.0   0.0   0.0   0.0   0.0   0.0   0.0   0.0   0.0   0.0   0.0  0.000000   0.0   0.0   0.0   0.0   0.0   0.0   0.0   0.0   0.0   0.0   0.0   0.0   0.0   0.0   0.0   0.0   0.0   0.0   0.0   0.0   0.0   0.0   0.0   0.0   0.0   0.0   0.0   0.0   0.0   0.0   0.0   0.0   0.0   0.0   \n2   0.0   0.0   0.0   0.0   0.0  0.443189   0.0   0.0   0.0   0.0   0.0   0.0   0.0   0.0   0.0   0.0   0.0   0.0   0.0   0.0   0.0   0.0   0.0   0.0   0.0   0.0   0.0   0.0   0.0   0.0   0.0   0.0   0.0   0.0   0.0   0.0   0.0   0.0   0.0   0.0   0.0   0.0   0.0   0.0   0.0   0.0   0.0   0.0   0.0   0.0   0.0   0.0   0.0   0.0   0.0   0.0   0.0   0.0   0.0   0.0   0.0   0.0   0.0   0.0   0.0   0.0   0.0   0.0   0.0   0.0   0.0   0.0   0.0   0.0   0.0   0.0   0.0   0.0   0.0   0.0   0.0   0.0   0.0   0.0   0.0  ...   0.0   0.0   0.0   0.0   0.0   0.0   0.0   0.0   0.0   0.0   0.0   0.0   0.0   0.0   0.0   0.0   0.0   0.0   0.0   0.0   0.0   0.0   0.0  0.000000   0.0   0.0   0.0   0.0   0.0   0.0   0.0   0.0   0.0   0.0   0.0   0.0   0.0   0.0   0.0   0.0   0.0   0.0   0.0  0.000000   0.0   0.0   0.0   0.0   0.0   0.0   0.0   0.0   0.0   0.0   0.0   0.0   0.0   0.0   0.0   0.0   0.0   0.0   0.0   0.0   0.0   0.0   0.0   0.0   0.0   0.0   0.0   0.0   0.0   0.0   0.0   0.0   0.0   0.0   \n3   0.0   0.0   0.0   0.0   0.0  0.000000   0.0   0.0   0.0   0.0   0.0   0.0   0.0   0.0   0.0   0.0   0.0   0.0   0.0   0.0   0.0   0.0   0.0   0.0   0.0   0.0   0.0   0.0   0.0   0.0   0.0   0.0   0.0   0.0   0.0   0.0   0.0   0.0   0.0   0.0   0.0   0.0   0.0   0.0   0.0   0.0   0.0   0.0   0.0   0.0   0.0   0.0   0.0   0.0   0.0   0.0   0.0   0.0   0.0   0.0   0.0   0.0   0.0   0.0   0.0   0.0   0.0   0.0   0.0   0.0   0.0   0.0   0.0   0.0   0.0   0.0   0.0   0.0   0.0   0.0   0.0   0.0   0.0   0.0   0.0  ...   0.0   0.0   0.0   0.0   0.0   0.0   0.0   0.0   0.0   0.0   0.0   0.0   0.0   0.0   0.0   0.0   0.0   0.0   0.0   0.0   0.0   0.0   0.0  0.352491   0.0   0.0   0.0   0.0   0.0   0.0   0.0   0.0   0.0   0.0   0.0   0.0   0.0   0.0   0.0   0.0   0.0   0.0   0.0  0.000000   0.0   0.0   0.0   0.0   0.0   0.0   0.0   0.0   0.0   0.0   0.0   0.0   0.0   0.0   0.0   0.0   0.0   0.0   0.0   0.0   0.0   0.0   0.0   0.0   0.0   0.0   0.0   0.0   0.0   0.0   0.0   0.0   0.0   0.0   \n4   0.0   0.0   0.0   0.0   0.0  0.000000   0.0   0.0   0.0   0.0   0.0   0.0   0.0   0.0   0.0   0.0   0.0   0.0   0.0   0.0   0.0   0.0   0.0   0.0   0.0   0.0   0.0   0.0   0.0   0.0   0.0   0.0   0.0   0.0   0.0   0.0   0.0   0.0   0.0   0.0   0.0   0.0   0.0   0.0   0.0   0.0   0.0   0.0   0.0   0.0   0.0   0.0   0.0   0.0   0.0   0.0   0.0   0.0   0.0   0.0   0.0   0.0   0.0   0.0   0.0   0.0   0.0   0.0   0.0   0.0   0.0   0.0   0.0   0.0   0.0   0.0   0.0   0.0   0.0   0.0   0.0   0.0   0.0   0.0   0.0  ...   0.0   0.0   0.0   0.0   0.0   0.0   0.0   0.0   0.0   0.0   0.0   0.0   0.0   0.0   0.0   0.0   0.0   0.0   0.0   0.0   0.0   0.0   0.0  0.000000   0.0   0.0   0.0   0.0   0.0   0.0   0.0   0.0   0.0   0.0   0.0   0.0   0.0   0.0   0.0   0.0   0.0   0.0   0.0  0.351276   0.0   0.0   0.0   0.0   0.0   0.0   0.0   0.0   0.0   0.0   0.0   0.0   0.0   0.0   0.0   0.0   0.0   0.0   0.0   0.0   0.0   0.0   0.0   0.0   0.0   0.0   0.0   0.0   0.0   0.0   0.0   0.0   0.0   0.0   \n\n   1828  1829  1830  1831  1832  1833  1834  1835  1836  1837  1838  1839  1840  1841  1842  1843  1844  1845  1846  1847  1848      1849  1850  1851  1852  1853  1854  1855  1856  1857  1858  1859  1860  1861  1862     1863  1864  1865  1866  1867  1868  1869  1870  1871  1872  1873  1874  1875  1876  1877  1878  1879  1880  1881  1882  1883  1884  1885  1886  1887  1888  1889     1890  1891  1892  1893  1894  1895  1896  1897  1898  1899  1900  1901  1902  1903  1904  1905  1906  1907  1908  1909  1910  1911  1912  1913  1914  1915  1916  1917  1918  1919  1920  1921  1922  1923  1924  1925  1926  1927  1928  1929  1930      1931  1932  1933  1934  1935  1936  1937  1938  1939  1940  1941  1942  1943  1944  1945  1946  1947  1948  1949  1950  1951  1952  1953  1954  1955  1956  1957  1958  1959  1960  1961  1962  1963  1964  1965  1966  1967  1968  1969  1970  1971  1972  1973  1974  1975  1976  1977  1978  1979  1980  1981  1982  1983  1984  1985  1986  1987  1988  1989  1990  \\\n0   0.0   0.0   0.0   0.0   0.0   0.0   0.0   0.0   0.0   0.0   0.0   0.0   0.0   0.0   0.0   0.0   0.0   0.0   0.0   0.0   0.0  0.442051   0.0   0.0   0.0   0.0   0.0   0.0   0.0   0.0   0.0   0.0   0.0   0.0   0.0  0.41163   0.0   0.0   0.0   0.0   0.0   0.0   0.0   0.0   0.0   0.0   0.0   0.0   0.0   0.0   0.0   0.0   0.0   0.0   0.0   0.0   0.0   0.0   0.0   0.0   0.0   0.0  0.00000   0.0   0.0   0.0   0.0   0.0   0.0   0.0   0.0   0.0   0.0   0.0   0.0   0.0   0.0   0.0   0.0   0.0   0.0   0.0   0.0   0.0   0.0   0.0   0.0   0.0   0.0   0.0   0.0   0.0   0.0   0.0   0.0   0.0   0.0   0.0   0.0   0.0   0.0   0.0   0.0  0.300317   0.0   0.0   0.0   0.0   0.0   0.0   0.0   0.0   0.0   0.0   0.0   0.0   0.0   0.0   0.0   0.0   0.0   0.0   0.0   0.0   0.0   0.0   0.0   0.0   0.0   0.0   0.0   0.0   0.0   0.0   0.0   0.0   0.0   0.0   0.0   0.0   0.0   0.0   0.0   0.0   0.0   0.0   0.0   0.0   0.0   0.0   0.0   0.0   0.0   0.0   0.0   0.0   0.0   0.0   0.0   0.0   0.0   0.0   0.0   \n1   0.0   0.0   0.0   0.0   0.0   0.0   0.0   0.0   0.0   0.0   0.0   0.0   0.0   0.0   0.0   0.0   0.0   0.0   0.0   0.0   0.0  0.000000   0.0   0.0   0.0   0.0   0.0   0.0   0.0   0.0   0.0   0.0   0.0   0.0   0.0  0.00000   0.0   0.0   0.0   0.0   0.0   0.0   0.0   0.0   0.0   0.0   0.0   0.0   0.0   0.0   0.0   0.0   0.0   0.0   0.0   0.0   0.0   0.0   0.0   0.0   0.0   0.0  0.00000   0.0   0.0   0.0   0.0   0.0   0.0   0.0   0.0   0.0   0.0   0.0   0.0   0.0   0.0   0.0   0.0   0.0   0.0   0.0   0.0   0.0   0.0   0.0   0.0   0.0   0.0   0.0   0.0   0.0   0.0   0.0   0.0   0.0   0.0   0.0   0.0   0.0   0.0   0.0   0.0  0.000000   0.0   0.0   0.0   0.0   0.0   0.0   0.0   0.0   0.0   0.0   0.0   0.0   0.0   0.0   0.0   0.0   0.0   0.0   0.0   0.0   0.0   0.0   0.0   0.0   0.0   0.0   0.0   0.0   0.0   0.0   0.0   0.0   0.0   0.0   0.0   0.0   0.0   0.0   0.0   0.0   0.0   0.0   0.0   0.0   0.0   0.0   0.0   0.0   0.0   0.0   0.0   0.0   0.0   0.0   0.0   0.0   0.0   0.0   0.0   \n2   0.0   0.0   0.0   0.0   0.0   0.0   0.0   0.0   0.0   0.0   0.0   0.0   0.0   0.0   0.0   0.0   0.0   0.0   0.0   0.0   0.0  0.000000   0.0   0.0   0.0   0.0   0.0   0.0   0.0   0.0   0.0   0.0   0.0   0.0   0.0  0.00000   0.0   0.0   0.0   0.0   0.0   0.0   0.0   0.0   0.0   0.0   0.0   0.0   0.0   0.0   0.0   0.0   0.0   0.0   0.0   0.0   0.0   0.0   0.0   0.0   0.0   0.0  0.00000   0.0   0.0   0.0   0.0   0.0   0.0   0.0   0.0   0.0   0.0   0.0   0.0   0.0   0.0   0.0   0.0   0.0   0.0   0.0   0.0   0.0   0.0   0.0   0.0   0.0   0.0   0.0   0.0   0.0   0.0   0.0   0.0   0.0   0.0   0.0   0.0   0.0   0.0   0.0   0.0  0.000000   0.0   0.0   0.0   0.0   0.0   0.0   0.0   0.0   0.0   0.0   0.0   0.0   0.0   0.0   0.0   0.0   0.0   0.0   0.0   0.0   0.0   0.0   0.0   0.0   0.0   0.0   0.0   0.0   0.0   0.0   0.0   0.0   0.0   0.0   0.0   0.0   0.0   0.0   0.0   0.0   0.0   0.0   0.0   0.0   0.0   0.0   0.0   0.0   0.0   0.0   0.0   0.0   0.0   0.0   0.0   0.0   0.0   0.0   0.0   \n3   0.0   0.0   0.0   0.0   0.0   0.0   0.0   0.0   0.0   0.0   0.0   0.0   0.0   0.0   0.0   0.0   0.0   0.0   0.0   0.0   0.0  0.000000   0.0   0.0   0.0   0.0   0.0   0.0   0.0   0.0   0.0   0.0   0.0   0.0   0.0  0.00000   0.0   0.0   0.0   0.0   0.0   0.0   0.0   0.0   0.0   0.0   0.0   0.0   0.0   0.0   0.0   0.0   0.0   0.0   0.0   0.0   0.0   0.0   0.0   0.0   0.0   0.0  0.36402   0.0   0.0   0.0   0.0   0.0   0.0   0.0   0.0   0.0   0.0   0.0   0.0   0.0   0.0   0.0   0.0   0.0   0.0   0.0   0.0   0.0   0.0   0.0   0.0   0.0   0.0   0.0   0.0   0.0   0.0   0.0   0.0   0.0   0.0   0.0   0.0   0.0   0.0   0.0   0.0  0.000000   0.0   0.0   0.0   0.0   0.0   0.0   0.0   0.0   0.0   0.0   0.0   0.0   0.0   0.0   0.0   0.0   0.0   0.0   0.0   0.0   0.0   0.0   0.0   0.0   0.0   0.0   0.0   0.0   0.0   0.0   0.0   0.0   0.0   0.0   0.0   0.0   0.0   0.0   0.0   0.0   0.0   0.0   0.0   0.0   0.0   0.0   0.0   0.0   0.0   0.0   0.0   0.0   0.0   0.0   0.0   0.0   0.0   0.0   0.0   \n4   0.0   0.0   0.0   0.0   0.0   0.0   0.0   0.0   0.0   0.0   0.0   0.0   0.0   0.0   0.0   0.0   0.0   0.0   0.0   0.0   0.0  0.000000   0.0   0.0   0.0   0.0   0.0   0.0   0.0   0.0   0.0   0.0   0.0   0.0   0.0  0.00000   0.0   0.0   0.0   0.0   0.0   0.0   0.0   0.0   0.0   0.0   0.0   0.0   0.0   0.0   0.0   0.0   0.0   0.0   0.0   0.0   0.0   0.0   0.0   0.0   0.0   0.0  0.00000   0.0   0.0   0.0   0.0   0.0   0.0   0.0   0.0   0.0   0.0   0.0   0.0   0.0   0.0   0.0   0.0   0.0   0.0   0.0   0.0   0.0   0.0   0.0   0.0   0.0   0.0   0.0   0.0   0.0   0.0   0.0   0.0   0.0   0.0   0.0   0.0   0.0   0.0   0.0   0.0  0.000000   0.0   0.0   0.0   0.0   0.0   0.0   0.0   0.0   0.0   0.0   0.0   0.0   0.0   0.0   0.0   0.0   0.0   0.0   0.0   0.0   0.0   0.0   0.0   0.0   0.0   0.0   0.0   0.0   0.0   0.0   0.0   0.0   0.0   0.0   0.0   0.0   0.0   0.0   0.0   0.0   0.0   0.0   0.0   0.0   0.0   0.0   0.0   0.0   0.0   0.0   0.0   0.0   0.0   0.0   0.0   0.0   0.0   0.0   0.0   \n\n   1991  1992  1993  1994      1995  1996  1997  1998  1999  \n0   0.0   0.0   0.0   0.0  0.000000   0.0   0.0   0.0   0.0  \n1   0.0   0.0   0.0   0.0  0.000000   0.0   0.0   0.0   0.0  \n2   0.0   0.0   0.0   0.0  0.000000   0.0   0.0   0.0   0.0  \n3   0.0   0.0   0.0   0.0  0.415739   0.0   0.0   0.0   0.0  \n4   0.0   0.0   0.0   0.0  0.000000   0.0   0.0   0.0   0.0  \n\n[5 rows x 2000 columns]",
      "text/html": "<div>\n<style scoped>\n    .dataframe tbody tr th:only-of-type {\n        vertical-align: middle;\n    }\n\n    .dataframe tbody tr th {\n        vertical-align: top;\n    }\n\n    .dataframe thead th {\n        text-align: right;\n    }\n</style>\n<table border=\"1\" class=\"dataframe\">\n  <thead>\n    <tr style=\"text-align: right;\">\n      <th></th>\n      <th>0</th>\n      <th>1</th>\n      <th>2</th>\n      <th>3</th>\n      <th>4</th>\n      <th>5</th>\n      <th>6</th>\n      <th>7</th>\n      <th>8</th>\n      <th>9</th>\n      <th>10</th>\n      <th>11</th>\n      <th>12</th>\n      <th>13</th>\n      <th>14</th>\n      <th>15</th>\n      <th>16</th>\n      <th>17</th>\n      <th>18</th>\n      <th>19</th>\n      <th>20</th>\n      <th>21</th>\n      <th>22</th>\n      <th>23</th>\n      <th>24</th>\n      <th>25</th>\n      <th>26</th>\n      <th>27</th>\n      <th>28</th>\n      <th>29</th>\n      <th>30</th>\n      <th>31</th>\n      <th>32</th>\n      <th>33</th>\n      <th>34</th>\n      <th>35</th>\n      <th>36</th>\n      <th>37</th>\n      <th>38</th>\n      <th>39</th>\n      <th>40</th>\n      <th>41</th>\n      <th>42</th>\n      <th>43</th>\n      <th>44</th>\n      <th>45</th>\n      <th>46</th>\n      <th>47</th>\n      <th>48</th>\n      <th>49</th>\n      <th>50</th>\n      <th>51</th>\n      <th>52</th>\n      <th>53</th>\n      <th>54</th>\n      <th>55</th>\n      <th>56</th>\n      <th>57</th>\n      <th>58</th>\n      <th>59</th>\n      <th>60</th>\n      <th>61</th>\n      <th>62</th>\n      <th>63</th>\n      <th>64</th>\n      <th>65</th>\n      <th>66</th>\n      <th>67</th>\n      <th>68</th>\n      <th>69</th>\n      <th>70</th>\n      <th>71</th>\n      <th>72</th>\n      <th>73</th>\n      <th>74</th>\n      <th>75</th>\n      <th>76</th>\n      <th>77</th>\n      <th>78</th>\n      <th>79</th>\n      <th>80</th>\n      <th>81</th>\n      <th>82</th>\n      <th>83</th>\n      <th>84</th>\n      <th>85</th>\n      <th>86</th>\n      <th>87</th>\n      <th>88</th>\n      <th>89</th>\n      <th>90</th>\n      <th>91</th>\n      <th>92</th>\n      <th>93</th>\n      <th>94</th>\n      <th>95</th>\n      <th>96</th>\n      <th>97</th>\n      <th>98</th>\n      <th>99</th>\n      <th>100</th>\n      <th>101</th>\n      <th>102</th>\n      <th>103</th>\n      <th>104</th>\n      <th>105</th>\n      <th>106</th>\n      <th>107</th>\n      <th>108</th>\n      <th>109</th>\n      <th>110</th>\n      <th>111</th>\n      <th>112</th>\n      <th>113</th>\n      <th>114</th>\n      <th>115</th>\n      <th>116</th>\n      <th>117</th>\n      <th>118</th>\n      <th>119</th>\n      <th>120</th>\n      <th>121</th>\n      <th>122</th>\n      <th>123</th>\n      <th>124</th>\n      <th>125</th>\n      <th>126</th>\n      <th>127</th>\n      <th>128</th>\n      <th>129</th>\n      <th>130</th>\n      <th>131</th>\n      <th>132</th>\n      <th>133</th>\n      <th>134</th>\n      <th>135</th>\n      <th>136</th>\n      <th>137</th>\n      <th>138</th>\n      <th>139</th>\n      <th>140</th>\n      <th>141</th>\n      <th>142</th>\n      <th>143</th>\n      <th>144</th>\n      <th>145</th>\n      <th>146</th>\n      <th>147</th>\n      <th>148</th>\n      <th>149</th>\n      <th>150</th>\n      <th>151</th>\n      <th>152</th>\n      <th>153</th>\n      <th>154</th>\n      <th>155</th>\n      <th>156</th>\n      <th>157</th>\n      <th>158</th>\n      <th>159</th>\n      <th>160</th>\n      <th>161</th>\n      <th>162</th>\n      <th>163</th>\n      <th>164</th>\n      <th>165</th>\n      <th>166</th>\n      <th>167</th>\n      <th>168</th>\n      <th>169</th>\n      <th>170</th>\n      <th>171</th>\n      <th>172</th>\n      <th>173</th>\n      <th>174</th>\n      <th>175</th>\n      <th>176</th>\n      <th>177</th>\n      <th>178</th>\n      <th>179</th>\n      <th>180</th>\n      <th>181</th>\n      <th>182</th>\n      <th>183</th>\n      <th>184</th>\n      <th>185</th>\n      <th>186</th>\n      <th>187</th>\n      <th>188</th>\n      <th>189</th>\n      <th>190</th>\n      <th>191</th>\n      <th>192</th>\n      <th>193</th>\n      <th>194</th>\n      <th>195</th>\n      <th>196</th>\n      <th>197</th>\n      <th>198</th>\n      <th>199</th>\n      <th>200</th>\n      <th>201</th>\n      <th>202</th>\n      <th>203</th>\n      <th>204</th>\n      <th>205</th>\n      <th>206</th>\n      <th>207</th>\n      <th>208</th>\n      <th>209</th>\n      <th>210</th>\n      <th>211</th>\n      <th>212</th>\n      <th>213</th>\n      <th>214</th>\n      <th>215</th>\n      <th>216</th>\n      <th>217</th>\n      <th>218</th>\n      <th>219</th>\n      <th>220</th>\n      <th>221</th>\n      <th>222</th>\n      <th>223</th>\n      <th>224</th>\n      <th>225</th>\n      <th>226</th>\n      <th>227</th>\n      <th>228</th>\n      <th>229</th>\n      <th>230</th>\n      <th>231</th>\n      <th>232</th>\n      <th>233</th>\n      <th>234</th>\n      <th>235</th>\n      <th>236</th>\n      <th>237</th>\n      <th>238</th>\n      <th>239</th>\n      <th>240</th>\n      <th>241</th>\n      <th>242</th>\n      <th>243</th>\n      <th>244</th>\n      <th>245</th>\n      <th>246</th>\n      <th>247</th>\n      <th>248</th>\n      <th>249</th>\n      <th>...</th>\n      <th>1750</th>\n      <th>1751</th>\n      <th>1752</th>\n      <th>1753</th>\n      <th>1754</th>\n      <th>1755</th>\n      <th>1756</th>\n      <th>1757</th>\n      <th>1758</th>\n      <th>1759</th>\n      <th>1760</th>\n      <th>1761</th>\n      <th>1762</th>\n      <th>1763</th>\n      <th>1764</th>\n      <th>1765</th>\n      <th>1766</th>\n      <th>1767</th>\n      <th>1768</th>\n      <th>1769</th>\n      <th>1770</th>\n      <th>1771</th>\n      <th>1772</th>\n      <th>1773</th>\n      <th>1774</th>\n      <th>1775</th>\n      <th>1776</th>\n      <th>1777</th>\n      <th>1778</th>\n      <th>1779</th>\n      <th>1780</th>\n      <th>1781</th>\n      <th>1782</th>\n      <th>1783</th>\n      <th>1784</th>\n      <th>1785</th>\n      <th>1786</th>\n      <th>1787</th>\n      <th>1788</th>\n      <th>1789</th>\n      <th>1790</th>\n      <th>1791</th>\n      <th>1792</th>\n      <th>1793</th>\n      <th>1794</th>\n      <th>1795</th>\n      <th>1796</th>\n      <th>1797</th>\n      <th>1798</th>\n      <th>1799</th>\n      <th>1800</th>\n      <th>1801</th>\n      <th>1802</th>\n      <th>1803</th>\n      <th>1804</th>\n      <th>1805</th>\n      <th>1806</th>\n      <th>1807</th>\n      <th>1808</th>\n      <th>1809</th>\n      <th>1810</th>\n      <th>1811</th>\n      <th>1812</th>\n      <th>1813</th>\n      <th>1814</th>\n      <th>1815</th>\n      <th>1816</th>\n      <th>1817</th>\n      <th>1818</th>\n      <th>1819</th>\n      <th>1820</th>\n      <th>1821</th>\n      <th>1822</th>\n      <th>1823</th>\n      <th>1824</th>\n      <th>1825</th>\n      <th>1826</th>\n      <th>1827</th>\n      <th>1828</th>\n      <th>1829</th>\n      <th>1830</th>\n      <th>1831</th>\n      <th>1832</th>\n      <th>1833</th>\n      <th>1834</th>\n      <th>1835</th>\n      <th>1836</th>\n      <th>1837</th>\n      <th>1838</th>\n      <th>1839</th>\n      <th>1840</th>\n      <th>1841</th>\n      <th>1842</th>\n      <th>1843</th>\n      <th>1844</th>\n      <th>1845</th>\n      <th>1846</th>\n      <th>1847</th>\n      <th>1848</th>\n      <th>1849</th>\n      <th>1850</th>\n      <th>1851</th>\n      <th>1852</th>\n      <th>1853</th>\n      <th>1854</th>\n      <th>1855</th>\n      <th>1856</th>\n      <th>1857</th>\n      <th>1858</th>\n      <th>1859</th>\n      <th>1860</th>\n      <th>1861</th>\n      <th>1862</th>\n      <th>1863</th>\n      <th>1864</th>\n      <th>1865</th>\n      <th>1866</th>\n      <th>1867</th>\n      <th>1868</th>\n      <th>1869</th>\n      <th>1870</th>\n      <th>1871</th>\n      <th>1872</th>\n      <th>1873</th>\n      <th>1874</th>\n      <th>1875</th>\n      <th>1876</th>\n      <th>1877</th>\n      <th>1878</th>\n      <th>1879</th>\n      <th>1880</th>\n      <th>1881</th>\n      <th>1882</th>\n      <th>1883</th>\n      <th>1884</th>\n      <th>1885</th>\n      <th>1886</th>\n      <th>1887</th>\n      <th>1888</th>\n      <th>1889</th>\n      <th>1890</th>\n      <th>1891</th>\n      <th>1892</th>\n      <th>1893</th>\n      <th>1894</th>\n      <th>1895</th>\n      <th>1896</th>\n      <th>1897</th>\n      <th>1898</th>\n      <th>1899</th>\n      <th>1900</th>\n      <th>1901</th>\n      <th>1902</th>\n      <th>1903</th>\n      <th>1904</th>\n      <th>1905</th>\n      <th>1906</th>\n      <th>1907</th>\n      <th>1908</th>\n      <th>1909</th>\n      <th>1910</th>\n      <th>1911</th>\n      <th>1912</th>\n      <th>1913</th>\n      <th>1914</th>\n      <th>1915</th>\n      <th>1916</th>\n      <th>1917</th>\n      <th>1918</th>\n      <th>1919</th>\n      <th>1920</th>\n      <th>1921</th>\n      <th>1922</th>\n      <th>1923</th>\n      <th>1924</th>\n      <th>1925</th>\n      <th>1926</th>\n      <th>1927</th>\n      <th>1928</th>\n      <th>1929</th>\n      <th>1930</th>\n      <th>1931</th>\n      <th>1932</th>\n      <th>1933</th>\n      <th>1934</th>\n      <th>1935</th>\n      <th>1936</th>\n      <th>1937</th>\n      <th>1938</th>\n      <th>1939</th>\n      <th>1940</th>\n      <th>1941</th>\n      <th>1942</th>\n      <th>1943</th>\n      <th>1944</th>\n      <th>1945</th>\n      <th>1946</th>\n      <th>1947</th>\n      <th>1948</th>\n      <th>1949</th>\n      <th>1950</th>\n      <th>1951</th>\n      <th>1952</th>\n      <th>1953</th>\n      <th>1954</th>\n      <th>1955</th>\n      <th>1956</th>\n      <th>1957</th>\n      <th>1958</th>\n      <th>1959</th>\n      <th>1960</th>\n      <th>1961</th>\n      <th>1962</th>\n      <th>1963</th>\n      <th>1964</th>\n      <th>1965</th>\n      <th>1966</th>\n      <th>1967</th>\n      <th>1968</th>\n      <th>1969</th>\n      <th>1970</th>\n      <th>1971</th>\n      <th>1972</th>\n      <th>1973</th>\n      <th>1974</th>\n      <th>1975</th>\n      <th>1976</th>\n      <th>1977</th>\n      <th>1978</th>\n      <th>1979</th>\n      <th>1980</th>\n      <th>1981</th>\n      <th>1982</th>\n      <th>1983</th>\n      <th>1984</th>\n      <th>1985</th>\n      <th>1986</th>\n      <th>1987</th>\n      <th>1988</th>\n      <th>1989</th>\n      <th>1990</th>\n      <th>1991</th>\n      <th>1992</th>\n      <th>1993</th>\n      <th>1994</th>\n      <th>1995</th>\n      <th>1996</th>\n      <th>1997</th>\n      <th>1998</th>\n      <th>1999</th>\n    </tr>\n  </thead>\n  <tbody>\n    <tr>\n      <th>0</th>\n      <td>0.0</td>\n      <td>0.0</td>\n      <td>0.0</td>\n      <td>0.0</td>\n      <td>0.0</td>\n      <td>0.0</td>\n      <td>0.0</td>\n      <td>0.0</td>\n      <td>0.0</td>\n      <td>0.0</td>\n      <td>0.0</td>\n      <td>0.0</td>\n      <td>0.0</td>\n      <td>0.0</td>\n      <td>0.0</td>\n      <td>0.0</td>\n      <td>0.0</td>\n      <td>0.0</td>\n      <td>0.0</td>\n      <td>0.0</td>\n      <td>0.0</td>\n      <td>0.0</td>\n      <td>0.0</td>\n      <td>0.0</td>\n      <td>0.0</td>\n      <td>0.0</td>\n      <td>0.0</td>\n      <td>0.0</td>\n      <td>0.0</td>\n      <td>0.0</td>\n      <td>0.0</td>\n      <td>0.0</td>\n      <td>0.0</td>\n      <td>0.0</td>\n      <td>0.0</td>\n      <td>0.0</td>\n      <td>0.0</td>\n      <td>0.0</td>\n      <td>0.0</td>\n      <td>0.0</td>\n      <td>0.0</td>\n      <td>0.0</td>\n      <td>0.0</td>\n      <td>0.0</td>\n      <td>0.0</td>\n      <td>0.0</td>\n      <td>0.0</td>\n      <td>0.0</td>\n      <td>0.0</td>\n      <td>0.0</td>\n      <td>0.0</td>\n      <td>0.0</td>\n      <td>0.0</td>\n      <td>0.0</td>\n      <td>0.0</td>\n      <td>0.000000</td>\n      <td>0.0</td>\n      <td>0.0</td>\n      <td>0.0</td>\n      <td>0.0</td>\n      <td>0.0</td>\n      <td>0.0</td>\n      <td>0.0</td>\n      <td>0.0</td>\n      <td>0.0</td>\n      <td>0.0</td>\n      <td>0.0</td>\n      <td>0.0</td>\n      <td>0.0</td>\n      <td>0.0</td>\n      <td>0.0</td>\n      <td>0.0</td>\n      <td>0.0</td>\n      <td>0.0</td>\n      <td>0.0</td>\n      <td>0.0</td>\n      <td>0.0</td>\n      <td>0.0</td>\n      <td>0.0</td>\n      <td>0.0</td>\n      <td>0.0</td>\n      <td>0.0</td>\n      <td>0.0</td>\n      <td>0.0</td>\n      <td>0.0</td>\n      <td>0.0</td>\n      <td>0.0</td>\n      <td>0.0</td>\n      <td>0.0</td>\n      <td>0.0</td>\n      <td>0.0</td>\n      <td>0.0</td>\n      <td>0.0</td>\n      <td>0.0</td>\n      <td>0.0</td>\n      <td>0.0</td>\n      <td>0.0</td>\n      <td>0.0</td>\n      <td>0.0</td>\n      <td>0.0</td>\n      <td>0.0</td>\n      <td>0.0</td>\n      <td>0.0</td>\n      <td>0.0</td>\n      <td>0.0</td>\n      <td>0.0</td>\n      <td>0.0</td>\n      <td>0.0</td>\n      <td>0.0</td>\n      <td>0.0</td>\n      <td>0.0</td>\n      <td>0.0</td>\n      <td>0.0</td>\n      <td>0.0</td>\n      <td>0.0</td>\n      <td>0.0</td>\n      <td>0.0</td>\n      <td>0.0</td>\n      <td>0.0</td>\n      <td>0.0</td>\n      <td>0.0</td>\n      <td>0.0</td>\n      <td>0.0</td>\n      <td>0.0</td>\n      <td>0.0</td>\n      <td>0.0</td>\n      <td>0.0</td>\n      <td>0.0</td>\n      <td>0.0</td>\n      <td>0.0</td>\n      <td>0.0</td>\n      <td>0.0</td>\n      <td>0.0</td>\n      <td>0.0</td>\n      <td>0.0</td>\n      <td>0.0</td>\n      <td>0.0</td>\n      <td>0.0</td>\n      <td>0.0</td>\n      <td>0.0</td>\n      <td>0.0</td>\n      <td>0.0</td>\n      <td>0.0</td>\n      <td>0.0</td>\n      <td>0.0</td>\n      <td>0.0</td>\n      <td>0.0</td>\n      <td>0.0</td>\n      <td>0.0</td>\n      <td>0.0</td>\n      <td>0.0</td>\n      <td>0.0</td>\n      <td>0.0</td>\n      <td>0.0</td>\n      <td>0.0</td>\n      <td>0.0</td>\n      <td>0.0</td>\n      <td>0.0</td>\n      <td>0.0</td>\n      <td>0.0</td>\n      <td>0.0</td>\n      <td>0.0</td>\n      <td>0.0</td>\n      <td>0.0</td>\n      <td>0.0</td>\n      <td>0.0</td>\n      <td>0.0</td>\n      <td>0.0</td>\n      <td>0.0</td>\n      <td>0.0</td>\n      <td>0.000000</td>\n      <td>0.0</td>\n      <td>0.0</td>\n      <td>0.0</td>\n      <td>0.0</td>\n      <td>0.0</td>\n      <td>0.0</td>\n      <td>0.0</td>\n      <td>0.0</td>\n      <td>0.0</td>\n      <td>0.0</td>\n      <td>0.0</td>\n      <td>0.0</td>\n      <td>0.0</td>\n      <td>0.0</td>\n      <td>0.0</td>\n      <td>0.0</td>\n      <td>0.0</td>\n      <td>0.0</td>\n      <td>0.0</td>\n      <td>0.0</td>\n      <td>0.0</td>\n      <td>0.0</td>\n      <td>0.0</td>\n      <td>0.0</td>\n      <td>0.0</td>\n      <td>0.0</td>\n      <td>0.0</td>\n      <td>0.0</td>\n      <td>0.0</td>\n      <td>0.0</td>\n      <td>0.0</td>\n      <td>0.0</td>\n      <td>0.0</td>\n      <td>0.0</td>\n      <td>0.0</td>\n      <td>0.0</td>\n      <td>0.0</td>\n      <td>0.0</td>\n      <td>0.0</td>\n      <td>0.0</td>\n      <td>0.0</td>\n      <td>0.0</td>\n      <td>0.0</td>\n      <td>0.0</td>\n      <td>0.0</td>\n      <td>0.0</td>\n      <td>0.0</td>\n      <td>0.0</td>\n      <td>0.0</td>\n      <td>0.0</td>\n      <td>0.0</td>\n      <td>0.0</td>\n      <td>0.0</td>\n      <td>0.0</td>\n      <td>0.0</td>\n      <td>0.0</td>\n      <td>0.0</td>\n      <td>0.0</td>\n      <td>0.0</td>\n      <td>0.0</td>\n      <td>0.0</td>\n      <td>0.0</td>\n      <td>0.0</td>\n      <td>0.0</td>\n      <td>0.0</td>\n      <td>0.0</td>\n      <td>0.0</td>\n      <td>0.0</td>\n      <td>0.0</td>\n      <td>0.0</td>\n      <td>0.0</td>\n      <td>0.0</td>\n      <td>0.0</td>\n      <td>0.0</td>\n      <td>0.0</td>\n      <td>0.0</td>\n      <td>0.0</td>\n      <td>0.0</td>\n      <td>0.0</td>\n      <td>...</td>\n      <td>0.0</td>\n      <td>0.0</td>\n      <td>0.0</td>\n      <td>0.0</td>\n      <td>0.0</td>\n      <td>0.0</td>\n      <td>0.0</td>\n      <td>0.0</td>\n      <td>0.0</td>\n      <td>0.0</td>\n      <td>0.0</td>\n      <td>0.0</td>\n      <td>0.0</td>\n      <td>0.0</td>\n      <td>0.0</td>\n      <td>0.0</td>\n      <td>0.0</td>\n      <td>0.0</td>\n      <td>0.0</td>\n      <td>0.0</td>\n      <td>0.0</td>\n      <td>0.0</td>\n      <td>0.0</td>\n      <td>0.000000</td>\n      <td>0.0</td>\n      <td>0.0</td>\n      <td>0.0</td>\n      <td>0.0</td>\n      <td>0.0</td>\n      <td>0.0</td>\n      <td>0.0</td>\n      <td>0.0</td>\n      <td>0.0</td>\n      <td>0.0</td>\n      <td>0.0</td>\n      <td>0.0</td>\n      <td>0.0</td>\n      <td>0.0</td>\n      <td>0.0</td>\n      <td>0.0</td>\n      <td>0.0</td>\n      <td>0.0</td>\n      <td>0.0</td>\n      <td>0.000000</td>\n      <td>0.0</td>\n      <td>0.0</td>\n      <td>0.0</td>\n      <td>0.0</td>\n      <td>0.0</td>\n      <td>0.0</td>\n      <td>0.0</td>\n      <td>0.0</td>\n      <td>0.0</td>\n      <td>0.0</td>\n      <td>0.0</td>\n      <td>0.0</td>\n      <td>0.0</td>\n      <td>0.0</td>\n      <td>0.0</td>\n      <td>0.0</td>\n      <td>0.0</td>\n      <td>0.0</td>\n      <td>0.0</td>\n      <td>0.0</td>\n      <td>0.0</td>\n      <td>0.0</td>\n      <td>0.0</td>\n      <td>0.0</td>\n      <td>0.0</td>\n      <td>0.0</td>\n      <td>0.0</td>\n      <td>0.0</td>\n      <td>0.0</td>\n      <td>0.0</td>\n      <td>0.0</td>\n      <td>0.0</td>\n      <td>0.0</td>\n      <td>0.0</td>\n      <td>0.0</td>\n      <td>0.0</td>\n      <td>0.0</td>\n      <td>0.0</td>\n      <td>0.0</td>\n      <td>0.0</td>\n      <td>0.0</td>\n      <td>0.0</td>\n      <td>0.0</td>\n      <td>0.0</td>\n      <td>0.0</td>\n      <td>0.0</td>\n      <td>0.0</td>\n      <td>0.0</td>\n      <td>0.0</td>\n      <td>0.0</td>\n      <td>0.0</td>\n      <td>0.0</td>\n      <td>0.0</td>\n      <td>0.0</td>\n      <td>0.0</td>\n      <td>0.442051</td>\n      <td>0.0</td>\n      <td>0.0</td>\n      <td>0.0</td>\n      <td>0.0</td>\n      <td>0.0</td>\n      <td>0.0</td>\n      <td>0.0</td>\n      <td>0.0</td>\n      <td>0.0</td>\n      <td>0.0</td>\n      <td>0.0</td>\n      <td>0.0</td>\n      <td>0.0</td>\n      <td>0.41163</td>\n      <td>0.0</td>\n      <td>0.0</td>\n      <td>0.0</td>\n      <td>0.0</td>\n      <td>0.0</td>\n      <td>0.0</td>\n      <td>0.0</td>\n      <td>0.0</td>\n      <td>0.0</td>\n      <td>0.0</td>\n      <td>0.0</td>\n      <td>0.0</td>\n      <td>0.0</td>\n      <td>0.0</td>\n      <td>0.0</td>\n      <td>0.0</td>\n      <td>0.0</td>\n      <td>0.0</td>\n      <td>0.0</td>\n      <td>0.0</td>\n      <td>0.0</td>\n      <td>0.0</td>\n      <td>0.0</td>\n      <td>0.0</td>\n      <td>0.0</td>\n      <td>0.0</td>\n      <td>0.00000</td>\n      <td>0.0</td>\n      <td>0.0</td>\n      <td>0.0</td>\n      <td>0.0</td>\n      <td>0.0</td>\n      <td>0.0</td>\n      <td>0.0</td>\n      <td>0.0</td>\n      <td>0.0</td>\n      <td>0.0</td>\n      <td>0.0</td>\n      <td>0.0</td>\n      <td>0.0</td>\n      <td>0.0</td>\n      <td>0.0</td>\n      <td>0.0</td>\n      <td>0.0</td>\n      <td>0.0</td>\n      <td>0.0</td>\n      <td>0.0</td>\n      <td>0.0</td>\n      <td>0.0</td>\n      <td>0.0</td>\n      <td>0.0</td>\n      <td>0.0</td>\n      <td>0.0</td>\n      <td>0.0</td>\n      <td>0.0</td>\n      <td>0.0</td>\n      <td>0.0</td>\n      <td>0.0</td>\n      <td>0.0</td>\n      <td>0.0</td>\n      <td>0.0</td>\n      <td>0.0</td>\n      <td>0.0</td>\n      <td>0.0</td>\n      <td>0.0</td>\n      <td>0.0</td>\n      <td>0.0</td>\n      <td>0.300317</td>\n      <td>0.0</td>\n      <td>0.0</td>\n      <td>0.0</td>\n      <td>0.0</td>\n      <td>0.0</td>\n      <td>0.0</td>\n      <td>0.0</td>\n      <td>0.0</td>\n      <td>0.0</td>\n      <td>0.0</td>\n      <td>0.0</td>\n      <td>0.0</td>\n      <td>0.0</td>\n      <td>0.0</td>\n      <td>0.0</td>\n      <td>0.0</td>\n      <td>0.0</td>\n      <td>0.0</td>\n      <td>0.0</td>\n      <td>0.0</td>\n      <td>0.0</td>\n      <td>0.0</td>\n      <td>0.0</td>\n      <td>0.0</td>\n      <td>0.0</td>\n      <td>0.0</td>\n      <td>0.0</td>\n      <td>0.0</td>\n      <td>0.0</td>\n      <td>0.0</td>\n      <td>0.0</td>\n      <td>0.0</td>\n      <td>0.0</td>\n      <td>0.0</td>\n      <td>0.0</td>\n      <td>0.0</td>\n      <td>0.0</td>\n      <td>0.0</td>\n      <td>0.0</td>\n      <td>0.0</td>\n      <td>0.0</td>\n      <td>0.0</td>\n      <td>0.0</td>\n      <td>0.0</td>\n      <td>0.0</td>\n      <td>0.0</td>\n      <td>0.0</td>\n      <td>0.0</td>\n      <td>0.0</td>\n      <td>0.0</td>\n      <td>0.0</td>\n      <td>0.0</td>\n      <td>0.0</td>\n      <td>0.0</td>\n      <td>0.0</td>\n      <td>0.0</td>\n      <td>0.0</td>\n      <td>0.0</td>\n      <td>0.0</td>\n      <td>0.0</td>\n      <td>0.0</td>\n      <td>0.0</td>\n      <td>0.0</td>\n      <td>0.000000</td>\n      <td>0.0</td>\n      <td>0.0</td>\n      <td>0.0</td>\n      <td>0.0</td>\n    </tr>\n    <tr>\n      <th>1</th>\n      <td>0.0</td>\n      <td>0.0</td>\n      <td>0.0</td>\n      <td>0.0</td>\n      <td>0.0</td>\n      <td>0.0</td>\n      <td>0.0</td>\n      <td>0.0</td>\n      <td>0.0</td>\n      <td>0.0</td>\n      <td>0.0</td>\n      <td>0.0</td>\n      <td>0.0</td>\n      <td>0.0</td>\n      <td>0.0</td>\n      <td>0.0</td>\n      <td>0.0</td>\n      <td>0.0</td>\n      <td>0.0</td>\n      <td>0.0</td>\n      <td>0.0</td>\n      <td>0.0</td>\n      <td>0.0</td>\n      <td>0.0</td>\n      <td>0.0</td>\n      <td>0.0</td>\n      <td>0.0</td>\n      <td>0.0</td>\n      <td>0.0</td>\n      <td>0.0</td>\n      <td>0.0</td>\n      <td>0.0</td>\n      <td>0.0</td>\n      <td>0.0</td>\n      <td>0.0</td>\n      <td>0.0</td>\n      <td>0.0</td>\n      <td>0.0</td>\n      <td>0.0</td>\n      <td>0.0</td>\n      <td>0.0</td>\n      <td>0.0</td>\n      <td>0.0</td>\n      <td>0.0</td>\n      <td>0.0</td>\n      <td>0.0</td>\n      <td>0.0</td>\n      <td>0.0</td>\n      <td>0.0</td>\n      <td>0.0</td>\n      <td>0.0</td>\n      <td>0.0</td>\n      <td>0.0</td>\n      <td>0.0</td>\n      <td>0.0</td>\n      <td>0.000000</td>\n      <td>0.0</td>\n      <td>0.0</td>\n      <td>0.0</td>\n      <td>0.0</td>\n      <td>0.0</td>\n      <td>0.0</td>\n      <td>0.0</td>\n      <td>0.0</td>\n      <td>0.0</td>\n      <td>0.0</td>\n      <td>0.0</td>\n      <td>0.0</td>\n      <td>0.0</td>\n      <td>0.0</td>\n      <td>0.0</td>\n      <td>0.0</td>\n      <td>0.0</td>\n      <td>0.0</td>\n      <td>0.0</td>\n      <td>0.0</td>\n      <td>0.0</td>\n      <td>0.0</td>\n      <td>0.0</td>\n      <td>0.0</td>\n      <td>0.0</td>\n      <td>0.0</td>\n      <td>0.0</td>\n      <td>0.0</td>\n      <td>0.0</td>\n      <td>0.0</td>\n      <td>0.0</td>\n      <td>0.0</td>\n      <td>0.0</td>\n      <td>0.0</td>\n      <td>0.0</td>\n      <td>0.0</td>\n      <td>0.0</td>\n      <td>0.0</td>\n      <td>0.0</td>\n      <td>0.0</td>\n      <td>0.0</td>\n      <td>0.0</td>\n      <td>0.0</td>\n      <td>0.0</td>\n      <td>0.0</td>\n      <td>0.0</td>\n      <td>0.0</td>\n      <td>0.0</td>\n      <td>0.0</td>\n      <td>0.0</td>\n      <td>0.0</td>\n      <td>0.0</td>\n      <td>0.0</td>\n      <td>0.0</td>\n      <td>0.0</td>\n      <td>0.0</td>\n      <td>0.0</td>\n      <td>0.0</td>\n      <td>0.0</td>\n      <td>0.0</td>\n      <td>0.0</td>\n      <td>0.0</td>\n      <td>0.0</td>\n      <td>0.0</td>\n      <td>0.0</td>\n      <td>0.0</td>\n      <td>0.0</td>\n      <td>0.0</td>\n      <td>0.0</td>\n      <td>0.0</td>\n      <td>0.0</td>\n      <td>0.0</td>\n      <td>0.0</td>\n      <td>0.0</td>\n      <td>0.0</td>\n      <td>0.0</td>\n      <td>0.0</td>\n      <td>0.0</td>\n      <td>0.0</td>\n      <td>0.0</td>\n      <td>0.0</td>\n      <td>0.0</td>\n      <td>0.0</td>\n      <td>0.0</td>\n      <td>0.0</td>\n      <td>0.0</td>\n      <td>0.0</td>\n      <td>0.0</td>\n      <td>0.0</td>\n      <td>0.0</td>\n      <td>0.0</td>\n      <td>0.0</td>\n      <td>0.0</td>\n      <td>0.0</td>\n      <td>0.0</td>\n      <td>0.0</td>\n      <td>0.0</td>\n      <td>0.0</td>\n      <td>0.0</td>\n      <td>0.0</td>\n      <td>0.0</td>\n      <td>0.0</td>\n      <td>0.0</td>\n      <td>0.0</td>\n      <td>0.0</td>\n      <td>0.0</td>\n      <td>0.0</td>\n      <td>0.0</td>\n      <td>0.0</td>\n      <td>0.0</td>\n      <td>0.0</td>\n      <td>0.0</td>\n      <td>0.0</td>\n      <td>0.0</td>\n      <td>0.000000</td>\n      <td>0.0</td>\n      <td>0.0</td>\n      <td>0.0</td>\n      <td>0.0</td>\n      <td>0.0</td>\n      <td>0.0</td>\n      <td>0.0</td>\n      <td>0.0</td>\n      <td>0.0</td>\n      <td>0.0</td>\n      <td>0.0</td>\n      <td>0.0</td>\n      <td>0.0</td>\n      <td>0.0</td>\n      <td>0.0</td>\n      <td>0.0</td>\n      <td>0.0</td>\n      <td>0.0</td>\n      <td>0.0</td>\n      <td>0.0</td>\n      <td>0.0</td>\n      <td>0.0</td>\n      <td>0.0</td>\n      <td>0.0</td>\n      <td>0.0</td>\n      <td>0.0</td>\n      <td>0.0</td>\n      <td>0.0</td>\n      <td>0.0</td>\n      <td>0.0</td>\n      <td>0.0</td>\n      <td>0.0</td>\n      <td>0.0</td>\n      <td>0.0</td>\n      <td>0.0</td>\n      <td>0.0</td>\n      <td>0.0</td>\n      <td>0.0</td>\n      <td>0.0</td>\n      <td>0.0</td>\n      <td>0.0</td>\n      <td>0.0</td>\n      <td>0.0</td>\n      <td>0.0</td>\n      <td>0.0</td>\n      <td>0.0</td>\n      <td>0.0</td>\n      <td>0.0</td>\n      <td>0.0</td>\n      <td>0.0</td>\n      <td>0.0</td>\n      <td>0.0</td>\n      <td>0.0</td>\n      <td>0.0</td>\n      <td>0.0</td>\n      <td>0.0</td>\n      <td>0.0</td>\n      <td>0.0</td>\n      <td>0.0</td>\n      <td>0.0</td>\n      <td>0.0</td>\n      <td>0.0</td>\n      <td>0.0</td>\n      <td>0.0</td>\n      <td>0.0</td>\n      <td>0.0</td>\n      <td>0.0</td>\n      <td>0.0</td>\n      <td>0.0</td>\n      <td>0.0</td>\n      <td>0.0</td>\n      <td>0.0</td>\n      <td>0.0</td>\n      <td>0.0</td>\n      <td>0.0</td>\n      <td>0.0</td>\n      <td>0.0</td>\n      <td>0.0</td>\n      <td>0.0</td>\n      <td>...</td>\n      <td>0.0</td>\n      <td>0.0</td>\n      <td>0.0</td>\n      <td>0.0</td>\n      <td>0.0</td>\n      <td>0.0</td>\n      <td>0.0</td>\n      <td>0.0</td>\n      <td>0.0</td>\n      <td>0.0</td>\n      <td>0.0</td>\n      <td>0.0</td>\n      <td>0.0</td>\n      <td>0.0</td>\n      <td>0.0</td>\n      <td>0.0</td>\n      <td>0.0</td>\n      <td>0.0</td>\n      <td>0.0</td>\n      <td>0.0</td>\n      <td>0.0</td>\n      <td>0.0</td>\n      <td>0.0</td>\n      <td>0.000000</td>\n      <td>0.0</td>\n      <td>0.0</td>\n      <td>0.0</td>\n      <td>0.0</td>\n      <td>0.0</td>\n      <td>0.0</td>\n      <td>0.0</td>\n      <td>0.0</td>\n      <td>0.0</td>\n      <td>0.0</td>\n      <td>0.0</td>\n      <td>0.0</td>\n      <td>0.0</td>\n      <td>0.0</td>\n      <td>0.0</td>\n      <td>0.0</td>\n      <td>0.0</td>\n      <td>0.0</td>\n      <td>0.0</td>\n      <td>0.000000</td>\n      <td>0.0</td>\n      <td>0.0</td>\n      <td>0.0</td>\n      <td>0.0</td>\n      <td>0.0</td>\n      <td>0.0</td>\n      <td>0.0</td>\n      <td>0.0</td>\n      <td>0.0</td>\n      <td>0.0</td>\n      <td>0.0</td>\n      <td>0.0</td>\n      <td>0.0</td>\n      <td>0.0</td>\n      <td>0.0</td>\n      <td>0.0</td>\n      <td>0.0</td>\n      <td>0.0</td>\n      <td>0.0</td>\n      <td>0.0</td>\n      <td>0.0</td>\n      <td>0.0</td>\n      <td>0.0</td>\n      <td>0.0</td>\n      <td>0.0</td>\n      <td>0.0</td>\n      <td>0.0</td>\n      <td>0.0</td>\n      <td>0.0</td>\n      <td>0.0</td>\n      <td>0.0</td>\n      <td>0.0</td>\n      <td>0.0</td>\n      <td>0.0</td>\n      <td>0.0</td>\n      <td>0.0</td>\n      <td>0.0</td>\n      <td>0.0</td>\n      <td>0.0</td>\n      <td>0.0</td>\n      <td>0.0</td>\n      <td>0.0</td>\n      <td>0.0</td>\n      <td>0.0</td>\n      <td>0.0</td>\n      <td>0.0</td>\n      <td>0.0</td>\n      <td>0.0</td>\n      <td>0.0</td>\n      <td>0.0</td>\n      <td>0.0</td>\n      <td>0.0</td>\n      <td>0.0</td>\n      <td>0.0</td>\n      <td>0.0</td>\n      <td>0.000000</td>\n      <td>0.0</td>\n      <td>0.0</td>\n      <td>0.0</td>\n      <td>0.0</td>\n      <td>0.0</td>\n      <td>0.0</td>\n      <td>0.0</td>\n      <td>0.0</td>\n      <td>0.0</td>\n      <td>0.0</td>\n      <td>0.0</td>\n      <td>0.0</td>\n      <td>0.0</td>\n      <td>0.00000</td>\n      <td>0.0</td>\n      <td>0.0</td>\n      <td>0.0</td>\n      <td>0.0</td>\n      <td>0.0</td>\n      <td>0.0</td>\n      <td>0.0</td>\n      <td>0.0</td>\n      <td>0.0</td>\n      <td>0.0</td>\n      <td>0.0</td>\n      <td>0.0</td>\n      <td>0.0</td>\n      <td>0.0</td>\n      <td>0.0</td>\n      <td>0.0</td>\n      <td>0.0</td>\n      <td>0.0</td>\n      <td>0.0</td>\n      <td>0.0</td>\n      <td>0.0</td>\n      <td>0.0</td>\n      <td>0.0</td>\n      <td>0.0</td>\n      <td>0.0</td>\n      <td>0.0</td>\n      <td>0.00000</td>\n      <td>0.0</td>\n      <td>0.0</td>\n      <td>0.0</td>\n      <td>0.0</td>\n      <td>0.0</td>\n      <td>0.0</td>\n      <td>0.0</td>\n      <td>0.0</td>\n      <td>0.0</td>\n      <td>0.0</td>\n      <td>0.0</td>\n      <td>0.0</td>\n      <td>0.0</td>\n      <td>0.0</td>\n      <td>0.0</td>\n      <td>0.0</td>\n      <td>0.0</td>\n      <td>0.0</td>\n      <td>0.0</td>\n      <td>0.0</td>\n      <td>0.0</td>\n      <td>0.0</td>\n      <td>0.0</td>\n      <td>0.0</td>\n      <td>0.0</td>\n      <td>0.0</td>\n      <td>0.0</td>\n      <td>0.0</td>\n      <td>0.0</td>\n      <td>0.0</td>\n      <td>0.0</td>\n      <td>0.0</td>\n      <td>0.0</td>\n      <td>0.0</td>\n      <td>0.0</td>\n      <td>0.0</td>\n      <td>0.0</td>\n      <td>0.0</td>\n      <td>0.0</td>\n      <td>0.0</td>\n      <td>0.000000</td>\n      <td>0.0</td>\n      <td>0.0</td>\n      <td>0.0</td>\n      <td>0.0</td>\n      <td>0.0</td>\n      <td>0.0</td>\n      <td>0.0</td>\n      <td>0.0</td>\n      <td>0.0</td>\n      <td>0.0</td>\n      <td>0.0</td>\n      <td>0.0</td>\n      <td>0.0</td>\n      <td>0.0</td>\n      <td>0.0</td>\n      <td>0.0</td>\n      <td>0.0</td>\n      <td>0.0</td>\n      <td>0.0</td>\n      <td>0.0</td>\n      <td>0.0</td>\n      <td>0.0</td>\n      <td>0.0</td>\n      <td>0.0</td>\n      <td>0.0</td>\n      <td>0.0</td>\n      <td>0.0</td>\n      <td>0.0</td>\n      <td>0.0</td>\n      <td>0.0</td>\n      <td>0.0</td>\n      <td>0.0</td>\n      <td>0.0</td>\n      <td>0.0</td>\n      <td>0.0</td>\n      <td>0.0</td>\n      <td>0.0</td>\n      <td>0.0</td>\n      <td>0.0</td>\n      <td>0.0</td>\n      <td>0.0</td>\n      <td>0.0</td>\n      <td>0.0</td>\n      <td>0.0</td>\n      <td>0.0</td>\n      <td>0.0</td>\n      <td>0.0</td>\n      <td>0.0</td>\n      <td>0.0</td>\n      <td>0.0</td>\n      <td>0.0</td>\n      <td>0.0</td>\n      <td>0.0</td>\n      <td>0.0</td>\n      <td>0.0</td>\n      <td>0.0</td>\n      <td>0.0</td>\n      <td>0.0</td>\n      <td>0.0</td>\n      <td>0.0</td>\n      <td>0.0</td>\n      <td>0.0</td>\n      <td>0.0</td>\n      <td>0.000000</td>\n      <td>0.0</td>\n      <td>0.0</td>\n      <td>0.0</td>\n      <td>0.0</td>\n    </tr>\n    <tr>\n      <th>2</th>\n      <td>0.0</td>\n      <td>0.0</td>\n      <td>0.0</td>\n      <td>0.0</td>\n      <td>0.0</td>\n      <td>0.0</td>\n      <td>0.0</td>\n      <td>0.0</td>\n      <td>0.0</td>\n      <td>0.0</td>\n      <td>0.0</td>\n      <td>0.0</td>\n      <td>0.0</td>\n      <td>0.0</td>\n      <td>0.0</td>\n      <td>0.0</td>\n      <td>0.0</td>\n      <td>0.0</td>\n      <td>0.0</td>\n      <td>0.0</td>\n      <td>0.0</td>\n      <td>0.0</td>\n      <td>0.0</td>\n      <td>0.0</td>\n      <td>0.0</td>\n      <td>0.0</td>\n      <td>0.0</td>\n      <td>0.0</td>\n      <td>0.0</td>\n      <td>0.0</td>\n      <td>0.0</td>\n      <td>0.0</td>\n      <td>0.0</td>\n      <td>0.0</td>\n      <td>0.0</td>\n      <td>0.0</td>\n      <td>0.0</td>\n      <td>0.0</td>\n      <td>0.0</td>\n      <td>0.0</td>\n      <td>0.0</td>\n      <td>0.0</td>\n      <td>0.0</td>\n      <td>0.0</td>\n      <td>0.0</td>\n      <td>0.0</td>\n      <td>0.0</td>\n      <td>0.0</td>\n      <td>0.0</td>\n      <td>0.0</td>\n      <td>0.0</td>\n      <td>0.0</td>\n      <td>0.0</td>\n      <td>0.0</td>\n      <td>0.0</td>\n      <td>0.000000</td>\n      <td>0.0</td>\n      <td>0.0</td>\n      <td>0.0</td>\n      <td>0.0</td>\n      <td>0.0</td>\n      <td>0.0</td>\n      <td>0.0</td>\n      <td>0.0</td>\n      <td>0.0</td>\n      <td>0.0</td>\n      <td>0.0</td>\n      <td>0.0</td>\n      <td>0.0</td>\n      <td>0.0</td>\n      <td>0.0</td>\n      <td>0.0</td>\n      <td>0.0</td>\n      <td>0.0</td>\n      <td>0.0</td>\n      <td>0.0</td>\n      <td>0.0</td>\n      <td>0.0</td>\n      <td>0.0</td>\n      <td>0.0</td>\n      <td>0.0</td>\n      <td>0.0</td>\n      <td>0.0</td>\n      <td>0.0</td>\n      <td>0.0</td>\n      <td>0.0</td>\n      <td>0.0</td>\n      <td>0.0</td>\n      <td>0.0</td>\n      <td>0.0</td>\n      <td>0.0</td>\n      <td>0.0</td>\n      <td>0.0</td>\n      <td>0.0</td>\n      <td>0.0</td>\n      <td>0.0</td>\n      <td>0.0</td>\n      <td>0.0</td>\n      <td>0.0</td>\n      <td>0.0</td>\n      <td>0.0</td>\n      <td>0.0</td>\n      <td>0.0</td>\n      <td>0.0</td>\n      <td>0.0</td>\n      <td>0.0</td>\n      <td>0.0</td>\n      <td>0.0</td>\n      <td>0.0</td>\n      <td>0.0</td>\n      <td>0.0</td>\n      <td>0.0</td>\n      <td>0.0</td>\n      <td>0.0</td>\n      <td>0.0</td>\n      <td>0.0</td>\n      <td>0.0</td>\n      <td>0.0</td>\n      <td>0.0</td>\n      <td>0.0</td>\n      <td>0.0</td>\n      <td>0.0</td>\n      <td>0.0</td>\n      <td>0.0</td>\n      <td>0.0</td>\n      <td>0.0</td>\n      <td>0.0</td>\n      <td>0.0</td>\n      <td>0.0</td>\n      <td>0.0</td>\n      <td>0.0</td>\n      <td>0.0</td>\n      <td>0.0</td>\n      <td>0.0</td>\n      <td>0.0</td>\n      <td>0.0</td>\n      <td>0.0</td>\n      <td>0.0</td>\n      <td>0.0</td>\n      <td>0.0</td>\n      <td>0.0</td>\n      <td>0.0</td>\n      <td>0.0</td>\n      <td>0.0</td>\n      <td>0.0</td>\n      <td>0.0</td>\n      <td>0.0</td>\n      <td>0.0</td>\n      <td>0.0</td>\n      <td>0.0</td>\n      <td>0.0</td>\n      <td>0.0</td>\n      <td>0.0</td>\n      <td>0.0</td>\n      <td>0.0</td>\n      <td>0.0</td>\n      <td>0.0</td>\n      <td>0.0</td>\n      <td>0.0</td>\n      <td>0.0</td>\n      <td>0.0</td>\n      <td>0.0</td>\n      <td>0.0</td>\n      <td>0.0</td>\n      <td>0.0</td>\n      <td>0.0</td>\n      <td>0.0</td>\n      <td>0.0</td>\n      <td>0.0</td>\n      <td>0.0</td>\n      <td>0.443189</td>\n      <td>0.0</td>\n      <td>0.0</td>\n      <td>0.0</td>\n      <td>0.0</td>\n      <td>0.0</td>\n      <td>0.0</td>\n      <td>0.0</td>\n      <td>0.0</td>\n      <td>0.0</td>\n      <td>0.0</td>\n      <td>0.0</td>\n      <td>0.0</td>\n      <td>0.0</td>\n      <td>0.0</td>\n      <td>0.0</td>\n      <td>0.0</td>\n      <td>0.0</td>\n      <td>0.0</td>\n      <td>0.0</td>\n      <td>0.0</td>\n      <td>0.0</td>\n      <td>0.0</td>\n      <td>0.0</td>\n      <td>0.0</td>\n      <td>0.0</td>\n      <td>0.0</td>\n      <td>0.0</td>\n      <td>0.0</td>\n      <td>0.0</td>\n      <td>0.0</td>\n      <td>0.0</td>\n      <td>0.0</td>\n      <td>0.0</td>\n      <td>0.0</td>\n      <td>0.0</td>\n      <td>0.0</td>\n      <td>0.0</td>\n      <td>0.0</td>\n      <td>0.0</td>\n      <td>0.0</td>\n      <td>0.0</td>\n      <td>0.0</td>\n      <td>0.0</td>\n      <td>0.0</td>\n      <td>0.0</td>\n      <td>0.0</td>\n      <td>0.0</td>\n      <td>0.0</td>\n      <td>0.0</td>\n      <td>0.0</td>\n      <td>0.0</td>\n      <td>0.0</td>\n      <td>0.0</td>\n      <td>0.0</td>\n      <td>0.0</td>\n      <td>0.0</td>\n      <td>0.0</td>\n      <td>0.0</td>\n      <td>0.0</td>\n      <td>0.0</td>\n      <td>0.0</td>\n      <td>0.0</td>\n      <td>0.0</td>\n      <td>0.0</td>\n      <td>0.0</td>\n      <td>0.0</td>\n      <td>0.0</td>\n      <td>0.0</td>\n      <td>0.0</td>\n      <td>0.0</td>\n      <td>0.0</td>\n      <td>0.0</td>\n      <td>0.0</td>\n      <td>0.0</td>\n      <td>0.0</td>\n      <td>0.0</td>\n      <td>0.0</td>\n      <td>0.0</td>\n      <td>0.0</td>\n      <td>...</td>\n      <td>0.0</td>\n      <td>0.0</td>\n      <td>0.0</td>\n      <td>0.0</td>\n      <td>0.0</td>\n      <td>0.0</td>\n      <td>0.0</td>\n      <td>0.0</td>\n      <td>0.0</td>\n      <td>0.0</td>\n      <td>0.0</td>\n      <td>0.0</td>\n      <td>0.0</td>\n      <td>0.0</td>\n      <td>0.0</td>\n      <td>0.0</td>\n      <td>0.0</td>\n      <td>0.0</td>\n      <td>0.0</td>\n      <td>0.0</td>\n      <td>0.0</td>\n      <td>0.0</td>\n      <td>0.0</td>\n      <td>0.000000</td>\n      <td>0.0</td>\n      <td>0.0</td>\n      <td>0.0</td>\n      <td>0.0</td>\n      <td>0.0</td>\n      <td>0.0</td>\n      <td>0.0</td>\n      <td>0.0</td>\n      <td>0.0</td>\n      <td>0.0</td>\n      <td>0.0</td>\n      <td>0.0</td>\n      <td>0.0</td>\n      <td>0.0</td>\n      <td>0.0</td>\n      <td>0.0</td>\n      <td>0.0</td>\n      <td>0.0</td>\n      <td>0.0</td>\n      <td>0.000000</td>\n      <td>0.0</td>\n      <td>0.0</td>\n      <td>0.0</td>\n      <td>0.0</td>\n      <td>0.0</td>\n      <td>0.0</td>\n      <td>0.0</td>\n      <td>0.0</td>\n      <td>0.0</td>\n      <td>0.0</td>\n      <td>0.0</td>\n      <td>0.0</td>\n      <td>0.0</td>\n      <td>0.0</td>\n      <td>0.0</td>\n      <td>0.0</td>\n      <td>0.0</td>\n      <td>0.0</td>\n      <td>0.0</td>\n      <td>0.0</td>\n      <td>0.0</td>\n      <td>0.0</td>\n      <td>0.0</td>\n      <td>0.0</td>\n      <td>0.0</td>\n      <td>0.0</td>\n      <td>0.0</td>\n      <td>0.0</td>\n      <td>0.0</td>\n      <td>0.0</td>\n      <td>0.0</td>\n      <td>0.0</td>\n      <td>0.0</td>\n      <td>0.0</td>\n      <td>0.0</td>\n      <td>0.0</td>\n      <td>0.0</td>\n      <td>0.0</td>\n      <td>0.0</td>\n      <td>0.0</td>\n      <td>0.0</td>\n      <td>0.0</td>\n      <td>0.0</td>\n      <td>0.0</td>\n      <td>0.0</td>\n      <td>0.0</td>\n      <td>0.0</td>\n      <td>0.0</td>\n      <td>0.0</td>\n      <td>0.0</td>\n      <td>0.0</td>\n      <td>0.0</td>\n      <td>0.0</td>\n      <td>0.0</td>\n      <td>0.0</td>\n      <td>0.000000</td>\n      <td>0.0</td>\n      <td>0.0</td>\n      <td>0.0</td>\n      <td>0.0</td>\n      <td>0.0</td>\n      <td>0.0</td>\n      <td>0.0</td>\n      <td>0.0</td>\n      <td>0.0</td>\n      <td>0.0</td>\n      <td>0.0</td>\n      <td>0.0</td>\n      <td>0.0</td>\n      <td>0.00000</td>\n      <td>0.0</td>\n      <td>0.0</td>\n      <td>0.0</td>\n      <td>0.0</td>\n      <td>0.0</td>\n      <td>0.0</td>\n      <td>0.0</td>\n      <td>0.0</td>\n      <td>0.0</td>\n      <td>0.0</td>\n      <td>0.0</td>\n      <td>0.0</td>\n      <td>0.0</td>\n      <td>0.0</td>\n      <td>0.0</td>\n      <td>0.0</td>\n      <td>0.0</td>\n      <td>0.0</td>\n      <td>0.0</td>\n      <td>0.0</td>\n      <td>0.0</td>\n      <td>0.0</td>\n      <td>0.0</td>\n      <td>0.0</td>\n      <td>0.0</td>\n      <td>0.0</td>\n      <td>0.00000</td>\n      <td>0.0</td>\n      <td>0.0</td>\n      <td>0.0</td>\n      <td>0.0</td>\n      <td>0.0</td>\n      <td>0.0</td>\n      <td>0.0</td>\n      <td>0.0</td>\n      <td>0.0</td>\n      <td>0.0</td>\n      <td>0.0</td>\n      <td>0.0</td>\n      <td>0.0</td>\n      <td>0.0</td>\n      <td>0.0</td>\n      <td>0.0</td>\n      <td>0.0</td>\n      <td>0.0</td>\n      <td>0.0</td>\n      <td>0.0</td>\n      <td>0.0</td>\n      <td>0.0</td>\n      <td>0.0</td>\n      <td>0.0</td>\n      <td>0.0</td>\n      <td>0.0</td>\n      <td>0.0</td>\n      <td>0.0</td>\n      <td>0.0</td>\n      <td>0.0</td>\n      <td>0.0</td>\n      <td>0.0</td>\n      <td>0.0</td>\n      <td>0.0</td>\n      <td>0.0</td>\n      <td>0.0</td>\n      <td>0.0</td>\n      <td>0.0</td>\n      <td>0.0</td>\n      <td>0.0</td>\n      <td>0.000000</td>\n      <td>0.0</td>\n      <td>0.0</td>\n      <td>0.0</td>\n      <td>0.0</td>\n      <td>0.0</td>\n      <td>0.0</td>\n      <td>0.0</td>\n      <td>0.0</td>\n      <td>0.0</td>\n      <td>0.0</td>\n      <td>0.0</td>\n      <td>0.0</td>\n      <td>0.0</td>\n      <td>0.0</td>\n      <td>0.0</td>\n      <td>0.0</td>\n      <td>0.0</td>\n      <td>0.0</td>\n      <td>0.0</td>\n      <td>0.0</td>\n      <td>0.0</td>\n      <td>0.0</td>\n      <td>0.0</td>\n      <td>0.0</td>\n      <td>0.0</td>\n      <td>0.0</td>\n      <td>0.0</td>\n      <td>0.0</td>\n      <td>0.0</td>\n      <td>0.0</td>\n      <td>0.0</td>\n      <td>0.0</td>\n      <td>0.0</td>\n      <td>0.0</td>\n      <td>0.0</td>\n      <td>0.0</td>\n      <td>0.0</td>\n      <td>0.0</td>\n      <td>0.0</td>\n      <td>0.0</td>\n      <td>0.0</td>\n      <td>0.0</td>\n      <td>0.0</td>\n      <td>0.0</td>\n      <td>0.0</td>\n      <td>0.0</td>\n      <td>0.0</td>\n      <td>0.0</td>\n      <td>0.0</td>\n      <td>0.0</td>\n      <td>0.0</td>\n      <td>0.0</td>\n      <td>0.0</td>\n      <td>0.0</td>\n      <td>0.0</td>\n      <td>0.0</td>\n      <td>0.0</td>\n      <td>0.0</td>\n      <td>0.0</td>\n      <td>0.0</td>\n      <td>0.0</td>\n      <td>0.0</td>\n      <td>0.0</td>\n      <td>0.000000</td>\n      <td>0.0</td>\n      <td>0.0</td>\n      <td>0.0</td>\n      <td>0.0</td>\n    </tr>\n    <tr>\n      <th>3</th>\n      <td>0.0</td>\n      <td>0.0</td>\n      <td>0.0</td>\n      <td>0.0</td>\n      <td>0.0</td>\n      <td>0.0</td>\n      <td>0.0</td>\n      <td>0.0</td>\n      <td>0.0</td>\n      <td>0.0</td>\n      <td>0.0</td>\n      <td>0.0</td>\n      <td>0.0</td>\n      <td>0.0</td>\n      <td>0.0</td>\n      <td>0.0</td>\n      <td>0.0</td>\n      <td>0.0</td>\n      <td>0.0</td>\n      <td>0.0</td>\n      <td>0.0</td>\n      <td>0.0</td>\n      <td>0.0</td>\n      <td>0.0</td>\n      <td>0.0</td>\n      <td>0.0</td>\n      <td>0.0</td>\n      <td>0.0</td>\n      <td>0.0</td>\n      <td>0.0</td>\n      <td>0.0</td>\n      <td>0.0</td>\n      <td>0.0</td>\n      <td>0.0</td>\n      <td>0.0</td>\n      <td>0.0</td>\n      <td>0.0</td>\n      <td>0.0</td>\n      <td>0.0</td>\n      <td>0.0</td>\n      <td>0.0</td>\n      <td>0.0</td>\n      <td>0.0</td>\n      <td>0.0</td>\n      <td>0.0</td>\n      <td>0.0</td>\n      <td>0.0</td>\n      <td>0.0</td>\n      <td>0.0</td>\n      <td>0.0</td>\n      <td>0.0</td>\n      <td>0.0</td>\n      <td>0.0</td>\n      <td>0.0</td>\n      <td>0.0</td>\n      <td>0.000000</td>\n      <td>0.0</td>\n      <td>0.0</td>\n      <td>0.0</td>\n      <td>0.0</td>\n      <td>0.0</td>\n      <td>0.0</td>\n      <td>0.0</td>\n      <td>0.0</td>\n      <td>0.0</td>\n      <td>0.0</td>\n      <td>0.0</td>\n      <td>0.0</td>\n      <td>0.0</td>\n      <td>0.0</td>\n      <td>0.0</td>\n      <td>0.0</td>\n      <td>0.0</td>\n      <td>0.0</td>\n      <td>0.0</td>\n      <td>0.0</td>\n      <td>0.0</td>\n      <td>0.0</td>\n      <td>0.0</td>\n      <td>0.0</td>\n      <td>0.0</td>\n      <td>0.0</td>\n      <td>0.0</td>\n      <td>0.0</td>\n      <td>0.0</td>\n      <td>0.0</td>\n      <td>0.0</td>\n      <td>0.0</td>\n      <td>0.0</td>\n      <td>0.0</td>\n      <td>0.0</td>\n      <td>0.0</td>\n      <td>0.0</td>\n      <td>0.0</td>\n      <td>0.0</td>\n      <td>0.0</td>\n      <td>0.0</td>\n      <td>0.0</td>\n      <td>0.0</td>\n      <td>0.0</td>\n      <td>0.0</td>\n      <td>0.0</td>\n      <td>0.0</td>\n      <td>0.0</td>\n      <td>0.0</td>\n      <td>0.0</td>\n      <td>0.0</td>\n      <td>0.0</td>\n      <td>0.0</td>\n      <td>0.0</td>\n      <td>0.0</td>\n      <td>0.0</td>\n      <td>0.0</td>\n      <td>0.0</td>\n      <td>0.0</td>\n      <td>0.0</td>\n      <td>0.0</td>\n      <td>0.0</td>\n      <td>0.0</td>\n      <td>0.0</td>\n      <td>0.0</td>\n      <td>0.0</td>\n      <td>0.0</td>\n      <td>0.0</td>\n      <td>0.0</td>\n      <td>0.0</td>\n      <td>0.0</td>\n      <td>0.0</td>\n      <td>0.0</td>\n      <td>0.0</td>\n      <td>0.0</td>\n      <td>0.0</td>\n      <td>0.0</td>\n      <td>0.0</td>\n      <td>0.0</td>\n      <td>0.0</td>\n      <td>0.0</td>\n      <td>0.0</td>\n      <td>0.0</td>\n      <td>0.0</td>\n      <td>0.0</td>\n      <td>0.0</td>\n      <td>0.0</td>\n      <td>0.0</td>\n      <td>0.0</td>\n      <td>0.0</td>\n      <td>0.0</td>\n      <td>0.0</td>\n      <td>0.0</td>\n      <td>0.0</td>\n      <td>0.0</td>\n      <td>0.0</td>\n      <td>0.0</td>\n      <td>0.0</td>\n      <td>0.0</td>\n      <td>0.0</td>\n      <td>0.0</td>\n      <td>0.0</td>\n      <td>0.0</td>\n      <td>0.0</td>\n      <td>0.0</td>\n      <td>0.0</td>\n      <td>0.0</td>\n      <td>0.0</td>\n      <td>0.0</td>\n      <td>0.0</td>\n      <td>0.0</td>\n      <td>0.0</td>\n      <td>0.0</td>\n      <td>0.0</td>\n      <td>0.000000</td>\n      <td>0.0</td>\n      <td>0.0</td>\n      <td>0.0</td>\n      <td>0.0</td>\n      <td>0.0</td>\n      <td>0.0</td>\n      <td>0.0</td>\n      <td>0.0</td>\n      <td>0.0</td>\n      <td>0.0</td>\n      <td>0.0</td>\n      <td>0.0</td>\n      <td>0.0</td>\n      <td>0.0</td>\n      <td>0.0</td>\n      <td>0.0</td>\n      <td>0.0</td>\n      <td>0.0</td>\n      <td>0.0</td>\n      <td>0.0</td>\n      <td>0.0</td>\n      <td>0.0</td>\n      <td>0.0</td>\n      <td>0.0</td>\n      <td>0.0</td>\n      <td>0.0</td>\n      <td>0.0</td>\n      <td>0.0</td>\n      <td>0.0</td>\n      <td>0.0</td>\n      <td>0.0</td>\n      <td>0.0</td>\n      <td>0.0</td>\n      <td>0.0</td>\n      <td>0.0</td>\n      <td>0.0</td>\n      <td>0.0</td>\n      <td>0.0</td>\n      <td>0.0</td>\n      <td>0.0</td>\n      <td>0.0</td>\n      <td>0.0</td>\n      <td>0.0</td>\n      <td>0.0</td>\n      <td>0.0</td>\n      <td>0.0</td>\n      <td>0.0</td>\n      <td>0.0</td>\n      <td>0.0</td>\n      <td>0.0</td>\n      <td>0.0</td>\n      <td>0.0</td>\n      <td>0.0</td>\n      <td>0.0</td>\n      <td>0.0</td>\n      <td>0.0</td>\n      <td>0.0</td>\n      <td>0.0</td>\n      <td>0.0</td>\n      <td>0.0</td>\n      <td>0.0</td>\n      <td>0.0</td>\n      <td>0.0</td>\n      <td>0.0</td>\n      <td>0.0</td>\n      <td>0.0</td>\n      <td>0.0</td>\n      <td>0.0</td>\n      <td>0.0</td>\n      <td>0.0</td>\n      <td>0.0</td>\n      <td>0.0</td>\n      <td>0.0</td>\n      <td>0.0</td>\n      <td>0.0</td>\n      <td>0.0</td>\n      <td>0.0</td>\n      <td>0.0</td>\n      <td>0.0</td>\n      <td>...</td>\n      <td>0.0</td>\n      <td>0.0</td>\n      <td>0.0</td>\n      <td>0.0</td>\n      <td>0.0</td>\n      <td>0.0</td>\n      <td>0.0</td>\n      <td>0.0</td>\n      <td>0.0</td>\n      <td>0.0</td>\n      <td>0.0</td>\n      <td>0.0</td>\n      <td>0.0</td>\n      <td>0.0</td>\n      <td>0.0</td>\n      <td>0.0</td>\n      <td>0.0</td>\n      <td>0.0</td>\n      <td>0.0</td>\n      <td>0.0</td>\n      <td>0.0</td>\n      <td>0.0</td>\n      <td>0.0</td>\n      <td>0.352491</td>\n      <td>0.0</td>\n      <td>0.0</td>\n      <td>0.0</td>\n      <td>0.0</td>\n      <td>0.0</td>\n      <td>0.0</td>\n      <td>0.0</td>\n      <td>0.0</td>\n      <td>0.0</td>\n      <td>0.0</td>\n      <td>0.0</td>\n      <td>0.0</td>\n      <td>0.0</td>\n      <td>0.0</td>\n      <td>0.0</td>\n      <td>0.0</td>\n      <td>0.0</td>\n      <td>0.0</td>\n      <td>0.0</td>\n      <td>0.000000</td>\n      <td>0.0</td>\n      <td>0.0</td>\n      <td>0.0</td>\n      <td>0.0</td>\n      <td>0.0</td>\n      <td>0.0</td>\n      <td>0.0</td>\n      <td>0.0</td>\n      <td>0.0</td>\n      <td>0.0</td>\n      <td>0.0</td>\n      <td>0.0</td>\n      <td>0.0</td>\n      <td>0.0</td>\n      <td>0.0</td>\n      <td>0.0</td>\n      <td>0.0</td>\n      <td>0.0</td>\n      <td>0.0</td>\n      <td>0.0</td>\n      <td>0.0</td>\n      <td>0.0</td>\n      <td>0.0</td>\n      <td>0.0</td>\n      <td>0.0</td>\n      <td>0.0</td>\n      <td>0.0</td>\n      <td>0.0</td>\n      <td>0.0</td>\n      <td>0.0</td>\n      <td>0.0</td>\n      <td>0.0</td>\n      <td>0.0</td>\n      <td>0.0</td>\n      <td>0.0</td>\n      <td>0.0</td>\n      <td>0.0</td>\n      <td>0.0</td>\n      <td>0.0</td>\n      <td>0.0</td>\n      <td>0.0</td>\n      <td>0.0</td>\n      <td>0.0</td>\n      <td>0.0</td>\n      <td>0.0</td>\n      <td>0.0</td>\n      <td>0.0</td>\n      <td>0.0</td>\n      <td>0.0</td>\n      <td>0.0</td>\n      <td>0.0</td>\n      <td>0.0</td>\n      <td>0.0</td>\n      <td>0.0</td>\n      <td>0.0</td>\n      <td>0.000000</td>\n      <td>0.0</td>\n      <td>0.0</td>\n      <td>0.0</td>\n      <td>0.0</td>\n      <td>0.0</td>\n      <td>0.0</td>\n      <td>0.0</td>\n      <td>0.0</td>\n      <td>0.0</td>\n      <td>0.0</td>\n      <td>0.0</td>\n      <td>0.0</td>\n      <td>0.0</td>\n      <td>0.00000</td>\n      <td>0.0</td>\n      <td>0.0</td>\n      <td>0.0</td>\n      <td>0.0</td>\n      <td>0.0</td>\n      <td>0.0</td>\n      <td>0.0</td>\n      <td>0.0</td>\n      <td>0.0</td>\n      <td>0.0</td>\n      <td>0.0</td>\n      <td>0.0</td>\n      <td>0.0</td>\n      <td>0.0</td>\n      <td>0.0</td>\n      <td>0.0</td>\n      <td>0.0</td>\n      <td>0.0</td>\n      <td>0.0</td>\n      <td>0.0</td>\n      <td>0.0</td>\n      <td>0.0</td>\n      <td>0.0</td>\n      <td>0.0</td>\n      <td>0.0</td>\n      <td>0.0</td>\n      <td>0.36402</td>\n      <td>0.0</td>\n      <td>0.0</td>\n      <td>0.0</td>\n      <td>0.0</td>\n      <td>0.0</td>\n      <td>0.0</td>\n      <td>0.0</td>\n      <td>0.0</td>\n      <td>0.0</td>\n      <td>0.0</td>\n      <td>0.0</td>\n      <td>0.0</td>\n      <td>0.0</td>\n      <td>0.0</td>\n      <td>0.0</td>\n      <td>0.0</td>\n      <td>0.0</td>\n      <td>0.0</td>\n      <td>0.0</td>\n      <td>0.0</td>\n      <td>0.0</td>\n      <td>0.0</td>\n      <td>0.0</td>\n      <td>0.0</td>\n      <td>0.0</td>\n      <td>0.0</td>\n      <td>0.0</td>\n      <td>0.0</td>\n      <td>0.0</td>\n      <td>0.0</td>\n      <td>0.0</td>\n      <td>0.0</td>\n      <td>0.0</td>\n      <td>0.0</td>\n      <td>0.0</td>\n      <td>0.0</td>\n      <td>0.0</td>\n      <td>0.0</td>\n      <td>0.0</td>\n      <td>0.0</td>\n      <td>0.000000</td>\n      <td>0.0</td>\n      <td>0.0</td>\n      <td>0.0</td>\n      <td>0.0</td>\n      <td>0.0</td>\n      <td>0.0</td>\n      <td>0.0</td>\n      <td>0.0</td>\n      <td>0.0</td>\n      <td>0.0</td>\n      <td>0.0</td>\n      <td>0.0</td>\n      <td>0.0</td>\n      <td>0.0</td>\n      <td>0.0</td>\n      <td>0.0</td>\n      <td>0.0</td>\n      <td>0.0</td>\n      <td>0.0</td>\n      <td>0.0</td>\n      <td>0.0</td>\n      <td>0.0</td>\n      <td>0.0</td>\n      <td>0.0</td>\n      <td>0.0</td>\n      <td>0.0</td>\n      <td>0.0</td>\n      <td>0.0</td>\n      <td>0.0</td>\n      <td>0.0</td>\n      <td>0.0</td>\n      <td>0.0</td>\n      <td>0.0</td>\n      <td>0.0</td>\n      <td>0.0</td>\n      <td>0.0</td>\n      <td>0.0</td>\n      <td>0.0</td>\n      <td>0.0</td>\n      <td>0.0</td>\n      <td>0.0</td>\n      <td>0.0</td>\n      <td>0.0</td>\n      <td>0.0</td>\n      <td>0.0</td>\n      <td>0.0</td>\n      <td>0.0</td>\n      <td>0.0</td>\n      <td>0.0</td>\n      <td>0.0</td>\n      <td>0.0</td>\n      <td>0.0</td>\n      <td>0.0</td>\n      <td>0.0</td>\n      <td>0.0</td>\n      <td>0.0</td>\n      <td>0.0</td>\n      <td>0.0</td>\n      <td>0.0</td>\n      <td>0.0</td>\n      <td>0.0</td>\n      <td>0.0</td>\n      <td>0.0</td>\n      <td>0.415739</td>\n      <td>0.0</td>\n      <td>0.0</td>\n      <td>0.0</td>\n      <td>0.0</td>\n    </tr>\n    <tr>\n      <th>4</th>\n      <td>0.0</td>\n      <td>0.0</td>\n      <td>0.0</td>\n      <td>0.0</td>\n      <td>0.0</td>\n      <td>0.0</td>\n      <td>0.0</td>\n      <td>0.0</td>\n      <td>0.0</td>\n      <td>0.0</td>\n      <td>0.0</td>\n      <td>0.0</td>\n      <td>0.0</td>\n      <td>0.0</td>\n      <td>0.0</td>\n      <td>0.0</td>\n      <td>0.0</td>\n      <td>0.0</td>\n      <td>0.0</td>\n      <td>0.0</td>\n      <td>0.0</td>\n      <td>0.0</td>\n      <td>0.0</td>\n      <td>0.0</td>\n      <td>0.0</td>\n      <td>0.0</td>\n      <td>0.0</td>\n      <td>0.0</td>\n      <td>0.0</td>\n      <td>0.0</td>\n      <td>0.0</td>\n      <td>0.0</td>\n      <td>0.0</td>\n      <td>0.0</td>\n      <td>0.0</td>\n      <td>0.0</td>\n      <td>0.0</td>\n      <td>0.0</td>\n      <td>0.0</td>\n      <td>0.0</td>\n      <td>0.0</td>\n      <td>0.0</td>\n      <td>0.0</td>\n      <td>0.0</td>\n      <td>0.0</td>\n      <td>0.0</td>\n      <td>0.0</td>\n      <td>0.0</td>\n      <td>0.0</td>\n      <td>0.0</td>\n      <td>0.0</td>\n      <td>0.0</td>\n      <td>0.0</td>\n      <td>0.0</td>\n      <td>0.0</td>\n      <td>0.389323</td>\n      <td>0.0</td>\n      <td>0.0</td>\n      <td>0.0</td>\n      <td>0.0</td>\n      <td>0.0</td>\n      <td>0.0</td>\n      <td>0.0</td>\n      <td>0.0</td>\n      <td>0.0</td>\n      <td>0.0</td>\n      <td>0.0</td>\n      <td>0.0</td>\n      <td>0.0</td>\n      <td>0.0</td>\n      <td>0.0</td>\n      <td>0.0</td>\n      <td>0.0</td>\n      <td>0.0</td>\n      <td>0.0</td>\n      <td>0.0</td>\n      <td>0.0</td>\n      <td>0.0</td>\n      <td>0.0</td>\n      <td>0.0</td>\n      <td>0.0</td>\n      <td>0.0</td>\n      <td>0.0</td>\n      <td>0.0</td>\n      <td>0.0</td>\n      <td>0.0</td>\n      <td>0.0</td>\n      <td>0.0</td>\n      <td>0.0</td>\n      <td>0.0</td>\n      <td>0.0</td>\n      <td>0.0</td>\n      <td>0.0</td>\n      <td>0.0</td>\n      <td>0.0</td>\n      <td>0.0</td>\n      <td>0.0</td>\n      <td>0.0</td>\n      <td>0.0</td>\n      <td>0.0</td>\n      <td>0.0</td>\n      <td>0.0</td>\n      <td>0.0</td>\n      <td>0.0</td>\n      <td>0.0</td>\n      <td>0.0</td>\n      <td>0.0</td>\n      <td>0.0</td>\n      <td>0.0</td>\n      <td>0.0</td>\n      <td>0.0</td>\n      <td>0.0</td>\n      <td>0.0</td>\n      <td>0.0</td>\n      <td>0.0</td>\n      <td>0.0</td>\n      <td>0.0</td>\n      <td>0.0</td>\n      <td>0.0</td>\n      <td>0.0</td>\n      <td>0.0</td>\n      <td>0.0</td>\n      <td>0.0</td>\n      <td>0.0</td>\n      <td>0.0</td>\n      <td>0.0</td>\n      <td>0.0</td>\n      <td>0.0</td>\n      <td>0.0</td>\n      <td>0.0</td>\n      <td>0.0</td>\n      <td>0.0</td>\n      <td>0.0</td>\n      <td>0.0</td>\n      <td>0.0</td>\n      <td>0.0</td>\n      <td>0.0</td>\n      <td>0.0</td>\n      <td>0.0</td>\n      <td>0.0</td>\n      <td>0.0</td>\n      <td>0.0</td>\n      <td>0.0</td>\n      <td>0.0</td>\n      <td>0.0</td>\n      <td>0.0</td>\n      <td>0.0</td>\n      <td>0.0</td>\n      <td>0.0</td>\n      <td>0.0</td>\n      <td>0.0</td>\n      <td>0.0</td>\n      <td>0.0</td>\n      <td>0.0</td>\n      <td>0.0</td>\n      <td>0.0</td>\n      <td>0.0</td>\n      <td>0.0</td>\n      <td>0.0</td>\n      <td>0.0</td>\n      <td>0.0</td>\n      <td>0.0</td>\n      <td>0.0</td>\n      <td>0.0</td>\n      <td>0.0</td>\n      <td>0.0</td>\n      <td>0.0</td>\n      <td>0.0</td>\n      <td>0.0</td>\n      <td>0.0</td>\n      <td>0.000000</td>\n      <td>0.0</td>\n      <td>0.0</td>\n      <td>0.0</td>\n      <td>0.0</td>\n      <td>0.0</td>\n      <td>0.0</td>\n      <td>0.0</td>\n      <td>0.0</td>\n      <td>0.0</td>\n      <td>0.0</td>\n      <td>0.0</td>\n      <td>0.0</td>\n      <td>0.0</td>\n      <td>0.0</td>\n      <td>0.0</td>\n      <td>0.0</td>\n      <td>0.0</td>\n      <td>0.0</td>\n      <td>0.0</td>\n      <td>0.0</td>\n      <td>0.0</td>\n      <td>0.0</td>\n      <td>0.0</td>\n      <td>0.0</td>\n      <td>0.0</td>\n      <td>0.0</td>\n      <td>0.0</td>\n      <td>0.0</td>\n      <td>0.0</td>\n      <td>0.0</td>\n      <td>0.0</td>\n      <td>0.0</td>\n      <td>0.0</td>\n      <td>0.0</td>\n      <td>0.0</td>\n      <td>0.0</td>\n      <td>0.0</td>\n      <td>0.0</td>\n      <td>0.0</td>\n      <td>0.0</td>\n      <td>0.0</td>\n      <td>0.0</td>\n      <td>0.0</td>\n      <td>0.0</td>\n      <td>0.0</td>\n      <td>0.0</td>\n      <td>0.0</td>\n      <td>0.0</td>\n      <td>0.0</td>\n      <td>0.0</td>\n      <td>0.0</td>\n      <td>0.0</td>\n      <td>0.0</td>\n      <td>0.0</td>\n      <td>0.0</td>\n      <td>0.0</td>\n      <td>0.0</td>\n      <td>0.0</td>\n      <td>0.0</td>\n      <td>0.0</td>\n      <td>0.0</td>\n      <td>0.0</td>\n      <td>0.0</td>\n      <td>0.0</td>\n      <td>0.0</td>\n      <td>0.0</td>\n      <td>0.0</td>\n      <td>0.0</td>\n      <td>0.0</td>\n      <td>0.0</td>\n      <td>0.0</td>\n      <td>0.0</td>\n      <td>0.0</td>\n      <td>0.0</td>\n      <td>0.0</td>\n      <td>0.0</td>\n      <td>0.0</td>\n      <td>0.0</td>\n      <td>0.0</td>\n      <td>...</td>\n      <td>0.0</td>\n      <td>0.0</td>\n      <td>0.0</td>\n      <td>0.0</td>\n      <td>0.0</td>\n      <td>0.0</td>\n      <td>0.0</td>\n      <td>0.0</td>\n      <td>0.0</td>\n      <td>0.0</td>\n      <td>0.0</td>\n      <td>0.0</td>\n      <td>0.0</td>\n      <td>0.0</td>\n      <td>0.0</td>\n      <td>0.0</td>\n      <td>0.0</td>\n      <td>0.0</td>\n      <td>0.0</td>\n      <td>0.0</td>\n      <td>0.0</td>\n      <td>0.0</td>\n      <td>0.0</td>\n      <td>0.000000</td>\n      <td>0.0</td>\n      <td>0.0</td>\n      <td>0.0</td>\n      <td>0.0</td>\n      <td>0.0</td>\n      <td>0.0</td>\n      <td>0.0</td>\n      <td>0.0</td>\n      <td>0.0</td>\n      <td>0.0</td>\n      <td>0.0</td>\n      <td>0.0</td>\n      <td>0.0</td>\n      <td>0.0</td>\n      <td>0.0</td>\n      <td>0.0</td>\n      <td>0.0</td>\n      <td>0.0</td>\n      <td>0.0</td>\n      <td>0.351276</td>\n      <td>0.0</td>\n      <td>0.0</td>\n      <td>0.0</td>\n      <td>0.0</td>\n      <td>0.0</td>\n      <td>0.0</td>\n      <td>0.0</td>\n      <td>0.0</td>\n      <td>0.0</td>\n      <td>0.0</td>\n      <td>0.0</td>\n      <td>0.0</td>\n      <td>0.0</td>\n      <td>0.0</td>\n      <td>0.0</td>\n      <td>0.0</td>\n      <td>0.0</td>\n      <td>0.0</td>\n      <td>0.0</td>\n      <td>0.0</td>\n      <td>0.0</td>\n      <td>0.0</td>\n      <td>0.0</td>\n      <td>0.0</td>\n      <td>0.0</td>\n      <td>0.0</td>\n      <td>0.0</td>\n      <td>0.0</td>\n      <td>0.0</td>\n      <td>0.0</td>\n      <td>0.0</td>\n      <td>0.0</td>\n      <td>0.0</td>\n      <td>0.0</td>\n      <td>0.0</td>\n      <td>0.0</td>\n      <td>0.0</td>\n      <td>0.0</td>\n      <td>0.0</td>\n      <td>0.0</td>\n      <td>0.0</td>\n      <td>0.0</td>\n      <td>0.0</td>\n      <td>0.0</td>\n      <td>0.0</td>\n      <td>0.0</td>\n      <td>0.0</td>\n      <td>0.0</td>\n      <td>0.0</td>\n      <td>0.0</td>\n      <td>0.0</td>\n      <td>0.0</td>\n      <td>0.0</td>\n      <td>0.0</td>\n      <td>0.0</td>\n      <td>0.000000</td>\n      <td>0.0</td>\n      <td>0.0</td>\n      <td>0.0</td>\n      <td>0.0</td>\n      <td>0.0</td>\n      <td>0.0</td>\n      <td>0.0</td>\n      <td>0.0</td>\n      <td>0.0</td>\n      <td>0.0</td>\n      <td>0.0</td>\n      <td>0.0</td>\n      <td>0.0</td>\n      <td>0.00000</td>\n      <td>0.0</td>\n      <td>0.0</td>\n      <td>0.0</td>\n      <td>0.0</td>\n      <td>0.0</td>\n      <td>0.0</td>\n      <td>0.0</td>\n      <td>0.0</td>\n      <td>0.0</td>\n      <td>0.0</td>\n      <td>0.0</td>\n      <td>0.0</td>\n      <td>0.0</td>\n      <td>0.0</td>\n      <td>0.0</td>\n      <td>0.0</td>\n      <td>0.0</td>\n      <td>0.0</td>\n      <td>0.0</td>\n      <td>0.0</td>\n      <td>0.0</td>\n      <td>0.0</td>\n      <td>0.0</td>\n      <td>0.0</td>\n      <td>0.0</td>\n      <td>0.0</td>\n      <td>0.00000</td>\n      <td>0.0</td>\n      <td>0.0</td>\n      <td>0.0</td>\n      <td>0.0</td>\n      <td>0.0</td>\n      <td>0.0</td>\n      <td>0.0</td>\n      <td>0.0</td>\n      <td>0.0</td>\n      <td>0.0</td>\n      <td>0.0</td>\n      <td>0.0</td>\n      <td>0.0</td>\n      <td>0.0</td>\n      <td>0.0</td>\n      <td>0.0</td>\n      <td>0.0</td>\n      <td>0.0</td>\n      <td>0.0</td>\n      <td>0.0</td>\n      <td>0.0</td>\n      <td>0.0</td>\n      <td>0.0</td>\n      <td>0.0</td>\n      <td>0.0</td>\n      <td>0.0</td>\n      <td>0.0</td>\n      <td>0.0</td>\n      <td>0.0</td>\n      <td>0.0</td>\n      <td>0.0</td>\n      <td>0.0</td>\n      <td>0.0</td>\n      <td>0.0</td>\n      <td>0.0</td>\n      <td>0.0</td>\n      <td>0.0</td>\n      <td>0.0</td>\n      <td>0.0</td>\n      <td>0.0</td>\n      <td>0.000000</td>\n      <td>0.0</td>\n      <td>0.0</td>\n      <td>0.0</td>\n      <td>0.0</td>\n      <td>0.0</td>\n      <td>0.0</td>\n      <td>0.0</td>\n      <td>0.0</td>\n      <td>0.0</td>\n      <td>0.0</td>\n      <td>0.0</td>\n      <td>0.0</td>\n      <td>0.0</td>\n      <td>0.0</td>\n      <td>0.0</td>\n      <td>0.0</td>\n      <td>0.0</td>\n      <td>0.0</td>\n      <td>0.0</td>\n      <td>0.0</td>\n      <td>0.0</td>\n      <td>0.0</td>\n      <td>0.0</td>\n      <td>0.0</td>\n      <td>0.0</td>\n      <td>0.0</td>\n      <td>0.0</td>\n      <td>0.0</td>\n      <td>0.0</td>\n      <td>0.0</td>\n      <td>0.0</td>\n      <td>0.0</td>\n      <td>0.0</td>\n      <td>0.0</td>\n      <td>0.0</td>\n      <td>0.0</td>\n      <td>0.0</td>\n      <td>0.0</td>\n      <td>0.0</td>\n      <td>0.0</td>\n      <td>0.0</td>\n      <td>0.0</td>\n      <td>0.0</td>\n      <td>0.0</td>\n      <td>0.0</td>\n      <td>0.0</td>\n      <td>0.0</td>\n      <td>0.0</td>\n      <td>0.0</td>\n      <td>0.0</td>\n      <td>0.0</td>\n      <td>0.0</td>\n      <td>0.0</td>\n      <td>0.0</td>\n      <td>0.0</td>\n      <td>0.0</td>\n      <td>0.0</td>\n      <td>0.0</td>\n      <td>0.0</td>\n      <td>0.0</td>\n      <td>0.0</td>\n      <td>0.0</td>\n      <td>0.0</td>\n      <td>0.000000</td>\n      <td>0.0</td>\n      <td>0.0</td>\n      <td>0.0</td>\n      <td>0.0</td>\n    </tr>\n  </tbody>\n</table>\n<p>5 rows × 2000 columns</p>\n</div>"
     },
     "metadata": {},
     "output_type": "display_data"
    },
    {
     "data": {
      "text/plain": "   0     1         2     3     4     5     6     7     8     9     10    11    12       13    14    15    16    17    18    19    20    21    22    23    24    25    26    27    28    29    30    31    32    33    34    35    36    37    38    39    40    41    42    43    44    45    46    47    48    49    50    51    52    53    54    55    56    57    58    59    60    61    62        63    64    65    66    67    68    69    70    71    72    73    74    75    76    77    78    79    80    81    82    83    84    85    86    87    88    89    90    91    92    93    94    95    96    97    98    99    100   101   102   103   104   105   106   107       108   109       110   111   112   113   114   115   116   117   118   119   120   121   122   123   124   125   126   127   128   129   130   131   132   133   134   135   136   137   138   139   140   141   142   143   144   145   146   147   148   149   150   151   152   153   154   155   156   157   158   159   160   161   \\\n0   0.0   0.0  0.000000   0.0   0.0   0.0   0.0   0.0   0.0   0.0   0.0   0.0   0.0  0.00000   0.0   0.0   0.0   0.0   0.0   0.0   0.0   0.0   0.0   0.0   0.0   0.0   0.0   0.0   0.0   0.0   0.0   0.0   0.0   0.0   0.0   0.0   0.0   0.0   0.0   0.0   0.0   0.0   0.0   0.0   0.0   0.0   0.0   0.0   0.0   0.0   0.0   0.0   0.0   0.0   0.0   0.0   0.0   0.0   0.0   0.0   0.0   0.0   0.0  0.000000   0.0   0.0   0.0   0.0   0.0   0.0   0.0   0.0   0.0   0.0   0.0   0.0   0.0   0.0   0.0   0.0   0.0   0.0   0.0   0.0   0.0   0.0   0.0   0.0   0.0   0.0   0.0   0.0   0.0   0.0   0.0   0.0   0.0   0.0   0.0   0.0   0.0   0.0   0.0   0.0   0.0   0.0   0.0   0.0  0.000000   0.0  0.000000   0.0   0.0   0.0   0.0   0.0   0.0   0.0   0.0   0.0   0.0   0.0   0.0   0.0   0.0   0.0   0.0   0.0   0.0   0.0   0.0   0.0   0.0   0.0   0.0   0.0   0.0   0.0   0.0   0.0   0.0   0.0   0.0   0.0   0.0   0.0   0.0   0.0   0.0   0.0   0.0   0.0   0.0   0.0   0.0   0.0   0.0   0.0   0.0   0.0   0.0   0.0   \n1   0.0   0.0  0.000000   0.0   0.0   0.0   0.0   0.0   0.0   0.0   0.0   0.0   0.0  0.00000   0.0   0.0   0.0   0.0   0.0   0.0   0.0   0.0   0.0   0.0   0.0   0.0   0.0   0.0   0.0   0.0   0.0   0.0   0.0   0.0   0.0   0.0   0.0   0.0   0.0   0.0   0.0   0.0   0.0   0.0   0.0   0.0   0.0   0.0   0.0   0.0   0.0   0.0   0.0   0.0   0.0   0.0   0.0   0.0   0.0   0.0   0.0   0.0   0.0  0.000000   0.0   0.0   0.0   0.0   0.0   0.0   0.0   0.0   0.0   0.0   0.0   0.0   0.0   0.0   0.0   0.0   0.0   0.0   0.0   0.0   0.0   0.0   0.0   0.0   0.0   0.0   0.0   0.0   0.0   0.0   0.0   0.0   0.0   0.0   0.0   0.0   0.0   0.0   0.0   0.0   0.0   0.0   0.0   0.0  0.156001   0.0  0.111864   0.0   0.0   0.0   0.0   0.0   0.0   0.0   0.0   0.0   0.0   0.0   0.0   0.0   0.0   0.0   0.0   0.0   0.0   0.0   0.0   0.0   0.0   0.0   0.0   0.0   0.0   0.0   0.0   0.0   0.0   0.0   0.0   0.0   0.0   0.0   0.0   0.0   0.0   0.0   0.0   0.0   0.0   0.0   0.0   0.0   0.0   0.0   0.0   0.0   0.0   0.0   \n2   0.0   0.0  0.302078   0.0   0.0   0.0   0.0   0.0   0.0   0.0   0.0   0.0   0.0  0.00000   0.0   0.0   0.0   0.0   0.0   0.0   0.0   0.0   0.0   0.0   0.0   0.0   0.0   0.0   0.0   0.0   0.0   0.0   0.0   0.0   0.0   0.0   0.0   0.0   0.0   0.0   0.0   0.0   0.0   0.0   0.0   0.0   0.0   0.0   0.0   0.0   0.0   0.0   0.0   0.0   0.0   0.0   0.0   0.0   0.0   0.0   0.0   0.0   0.0  0.000000   0.0   0.0   0.0   0.0   0.0   0.0   0.0   0.0   0.0   0.0   0.0   0.0   0.0   0.0   0.0   0.0   0.0   0.0   0.0   0.0   0.0   0.0   0.0   0.0   0.0   0.0   0.0   0.0   0.0   0.0   0.0   0.0   0.0   0.0   0.0   0.0   0.0   0.0   0.0   0.0   0.0   0.0   0.0   0.0  0.000000   0.0  0.000000   0.0   0.0   0.0   0.0   0.0   0.0   0.0   0.0   0.0   0.0   0.0   0.0   0.0   0.0   0.0   0.0   0.0   0.0   0.0   0.0   0.0   0.0   0.0   0.0   0.0   0.0   0.0   0.0   0.0   0.0   0.0   0.0   0.0   0.0   0.0   0.0   0.0   0.0   0.0   0.0   0.0   0.0   0.0   0.0   0.0   0.0   0.0   0.0   0.0   0.0   0.0   \n3   0.0   0.0  0.000000   0.0   0.0   0.0   0.0   0.0   0.0   0.0   0.0   0.0   0.0  0.00000   0.0   0.0   0.0   0.0   0.0   0.0   0.0   0.0   0.0   0.0   0.0   0.0   0.0   0.0   0.0   0.0   0.0   0.0   0.0   0.0   0.0   0.0   0.0   0.0   0.0   0.0   0.0   0.0   0.0   0.0   0.0   0.0   0.0   0.0   0.0   0.0   0.0   0.0   0.0   0.0   0.0   0.0   0.0   0.0   0.0   0.0   0.0   0.0   0.0  0.000000   0.0   0.0   0.0   0.0   0.0   0.0   0.0   0.0   0.0   0.0   0.0   0.0   0.0   0.0   0.0   0.0   0.0   0.0   0.0   0.0   0.0   0.0   0.0   0.0   0.0   0.0   0.0   0.0   0.0   0.0   0.0   0.0   0.0   0.0   0.0   0.0   0.0   0.0   0.0   0.0   0.0   0.0   0.0   0.0  0.000000   0.0  0.000000   0.0   0.0   0.0   0.0   0.0   0.0   0.0   0.0   0.0   0.0   0.0   0.0   0.0   0.0   0.0   0.0   0.0   0.0   0.0   0.0   0.0   0.0   0.0   0.0   0.0   0.0   0.0   0.0   0.0   0.0   0.0   0.0   0.0   0.0   0.0   0.0   0.0   0.0   0.0   0.0   0.0   0.0   0.0   0.0   0.0   0.0   0.0   0.0   0.0   0.0   0.0   \n4   0.0   0.0  0.000000   0.0   0.0   0.0   0.0   0.0   0.0   0.0   0.0   0.0   0.0  0.13473   0.0   0.0   0.0   0.0   0.0   0.0   0.0   0.0   0.0   0.0   0.0   0.0   0.0   0.0   0.0   0.0   0.0   0.0   0.0   0.0   0.0   0.0   0.0   0.0   0.0   0.0   0.0   0.0   0.0   0.0   0.0   0.0   0.0   0.0   0.0   0.0   0.0   0.0   0.0   0.0   0.0   0.0   0.0   0.0   0.0   0.0   0.0   0.0   0.0  0.264564   0.0   0.0   0.0   0.0   0.0   0.0   0.0   0.0   0.0   0.0   0.0   0.0   0.0   0.0   0.0   0.0   0.0   0.0   0.0   0.0   0.0   0.0   0.0   0.0   0.0   0.0   0.0   0.0   0.0   0.0   0.0   0.0   0.0   0.0   0.0   0.0   0.0   0.0   0.0   0.0   0.0   0.0   0.0   0.0  0.000000   0.0  0.000000   0.0   0.0   0.0   0.0   0.0   0.0   0.0   0.0   0.0   0.0   0.0   0.0   0.0   0.0   0.0   0.0   0.0   0.0   0.0   0.0   0.0   0.0   0.0   0.0   0.0   0.0   0.0   0.0   0.0   0.0   0.0   0.0   0.0   0.0   0.0   0.0   0.0   0.0   0.0   0.0   0.0   0.0   0.0   0.0   0.0   0.0   0.0   0.0   0.0   0.0   0.0   \n\n   162   163   164   165   166   167   168   169   170   171   172   173   174   175   176   177   178   179   180   181   182   183   184   185   186   187   188   189   190   191   192   193   194   195   196   197   198   199   200   201   202   203   204   205   206   207   208   209   210   211   212   213   214   215   216   217   218   219   220   221   222   223   224   225   226   227   228   229   230   231   232   233   234   235   236   237   238   239   240   241   242   243   244   245   246   247   248   249   ...  1750  1751  1752  1753      1754  1755  1756  1757      1758  1759  1760  1761  1762  1763  1764  1765  1766  1767  1768  1769  1770  1771  1772  1773  1774  1775  1776  1777  1778  1779  1780      1781  1782  1783  1784  1785  1786  1787  1788  1789  1790  1791  1792  1793      1794  1795  1796  1797  1798  1799  1800  1801  1802  1803      1804  1805  1806  1807  1808  1809  1810  1811  1812  1813  1814  1815  1816  1817  1818  1819  1820  1821  1822  \\\n0   0.0   0.0   0.0   0.0   0.0   0.0   0.0   0.0   0.0   0.0   0.0   0.0   0.0   0.0   0.0   0.0   0.0   0.0   0.0   0.0   0.0   0.0   0.0   0.0   0.0   0.0   0.0   0.0   0.0   0.0   0.0   0.0   0.0   0.0   0.0   0.0   0.0   0.0   0.0   0.0   0.0   0.0   0.0   0.0   0.0   0.0   0.0   0.0   0.0   0.0   0.0   0.0   0.0   0.0   0.0   0.0   0.0   0.0   0.0   0.0   0.0   0.0   0.0   0.0   0.0   0.0   0.0   0.0   0.0   0.0   0.0   0.0   0.0   0.0   0.0   0.0   0.0   0.0   0.0   0.0   0.0   0.0   0.0   0.0   0.0   0.0   0.0   0.0  ...   0.0   0.0   0.0   0.0  0.000000   0.0   0.0   0.0  0.000000   0.0   0.0   0.0   0.0   0.0   0.0   0.0   0.0   0.0   0.0   0.0   0.0   0.0   0.0   0.0   0.0   0.0   0.0   0.0   0.0   0.0   0.0  0.000000   0.0   0.0   0.0   0.0   0.0   0.0   0.0   0.0   0.0   0.0   0.0   0.0  0.000000   0.0   0.0   0.0   0.0   0.0   0.0   0.0   0.0   0.0  0.000000   0.0   0.0   0.0   0.0   0.0   0.0   0.0   0.0   0.0   0.0   0.0   0.0   0.0   0.0   0.0   0.0   0.0   0.0   \n1   0.0   0.0   0.0   0.0   0.0   0.0   0.0   0.0   0.0   0.0   0.0   0.0   0.0   0.0   0.0   0.0   0.0   0.0   0.0   0.0   0.0   0.0   0.0   0.0   0.0   0.0   0.0   0.0   0.0   0.0   0.0   0.0   0.0   0.0   0.0   0.0   0.0   0.0   0.0   0.0   0.0   0.0   0.0   0.0   0.0   0.0   0.0   0.0   0.0   0.0   0.0   0.0   0.0   0.0   0.0   0.0   0.0   0.0   0.0   0.0   0.0   0.0   0.0   0.0   0.0   0.0   0.0   0.0   0.0   0.0   0.0   0.0   0.0   0.0   0.0   0.0   0.0   0.0   0.0   0.0   0.0   0.0   0.0   0.0   0.0   0.0   0.0   0.0  ...   0.0   0.0   0.0   0.0  0.000000   0.0   0.0   0.0  0.000000   0.0   0.0   0.0   0.0   0.0   0.0   0.0   0.0   0.0   0.0   0.0   0.0   0.0   0.0   0.0   0.0   0.0   0.0   0.0   0.0   0.0   0.0  0.000000   0.0   0.0   0.0   0.0   0.0   0.0   0.0   0.0   0.0   0.0   0.0   0.0  0.236246   0.0   0.0   0.0   0.0   0.0   0.0   0.0   0.0   0.0  0.000000   0.0   0.0   0.0   0.0   0.0   0.0   0.0   0.0   0.0   0.0   0.0   0.0   0.0   0.0   0.0   0.0   0.0   0.0   \n2   0.0   0.0   0.0   0.0   0.0   0.0   0.0   0.0   0.0   0.0   0.0   0.0   0.0   0.0   0.0   0.0   0.0   0.0   0.0   0.0   0.0   0.0   0.0   0.0   0.0   0.0   0.0   0.0   0.0   0.0   0.0   0.0   0.0   0.0   0.0   0.0   0.0   0.0   0.0   0.0   0.0   0.0   0.0   0.0   0.0   0.0   0.0   0.0   0.0   0.0   0.0   0.0   0.0   0.0   0.0   0.0   0.0   0.0   0.0   0.0   0.0   0.0   0.0   0.0   0.0   0.0   0.0   0.0   0.0   0.0   0.0   0.0   0.0   0.0   0.0   0.0   0.0   0.0   0.0   0.0   0.0   0.0   0.0   0.0   0.0   0.0   0.0   0.0  ...   0.0   0.0   0.0   0.0  0.284898   0.0   0.0   0.0  0.000000   0.0   0.0   0.0   0.0   0.0   0.0   0.0   0.0   0.0   0.0   0.0   0.0   0.0   0.0   0.0   0.0   0.0   0.0   0.0   0.0   0.0   0.0  0.000000   0.0   0.0   0.0   0.0   0.0   0.0   0.0   0.0   0.0   0.0   0.0   0.0  0.000000   0.0   0.0   0.0   0.0   0.0   0.0   0.0   0.0   0.0  0.000000   0.0   0.0   0.0   0.0   0.0   0.0   0.0   0.0   0.0   0.0   0.0   0.0   0.0   0.0   0.0   0.0   0.0   0.0   \n3   0.0   0.0   0.0   0.0   0.0   0.0   0.0   0.0   0.0   0.0   0.0   0.0   0.0   0.0   0.0   0.0   0.0   0.0   0.0   0.0   0.0   0.0   0.0   0.0   0.0   0.0   0.0   0.0   0.0   0.0   0.0   0.0   0.0   0.0   0.0   0.0   0.0   0.0   0.0   0.0   0.0   0.0   0.0   0.0   0.0   0.0   0.0   0.0   0.0   0.0   0.0   0.0   0.0   0.0   0.0   0.0   0.0   0.0   0.0   0.0   0.0   0.0   0.0   0.0   0.0   0.0   0.0   0.0   0.0   0.0   0.0   0.0   0.0   0.0   0.0   0.0   0.0   0.0   0.0   0.0   0.0   0.0   0.0   0.0   0.0   0.0   0.0   0.0  ...   0.0   0.0   0.0   0.0  0.000000   0.0   0.0   0.0  0.000000   0.0   0.0   0.0   0.0   0.0   0.0   0.0   0.0   0.0   0.0   0.0   0.0   0.0   0.0   0.0   0.0   0.0   0.0   0.0   0.0   0.0   0.0  0.332171   0.0   0.0   0.0   0.0   0.0   0.0   0.0   0.0   0.0   0.0   0.0   0.0  0.000000   0.0   0.0   0.0   0.0   0.0   0.0   0.0   0.0   0.0  0.000000   0.0   0.0   0.0   0.0   0.0   0.0   0.0   0.0   0.0   0.0   0.0   0.0   0.0   0.0   0.0   0.0   0.0   0.0   \n4   0.0   0.0   0.0   0.0   0.0   0.0   0.0   0.0   0.0   0.0   0.0   0.0   0.0   0.0   0.0   0.0   0.0   0.0   0.0   0.0   0.0   0.0   0.0   0.0   0.0   0.0   0.0   0.0   0.0   0.0   0.0   0.0   0.0   0.0   0.0   0.0   0.0   0.0   0.0   0.0   0.0   0.0   0.0   0.0   0.0   0.0   0.0   0.0   0.0   0.0   0.0   0.0   0.0   0.0   0.0   0.0   0.0   0.0   0.0   0.0   0.0   0.0   0.0   0.0   0.0   0.0   0.0   0.0   0.0   0.0   0.0   0.0   0.0   0.0   0.0   0.0   0.0   0.0   0.0   0.0   0.0   0.0   0.0   0.0   0.0   0.0   0.0   0.0  ...   0.0   0.0   0.0   0.0  0.000000   0.0   0.0   0.0  0.282965   0.0   0.0   0.0   0.0   0.0   0.0   0.0   0.0   0.0   0.0   0.0   0.0   0.0   0.0   0.0   0.0   0.0   0.0   0.0   0.0   0.0   0.0  0.000000   0.0   0.0   0.0   0.0   0.0   0.0   0.0   0.0   0.0   0.0   0.0   0.0  0.000000   0.0   0.0   0.0   0.0   0.0   0.0   0.0   0.0   0.0  0.174833   0.0   0.0   0.0   0.0   0.0   0.0   0.0   0.0   0.0   0.0   0.0   0.0   0.0   0.0   0.0   0.0   0.0   0.0   \n\n   1823  1824  1825      1826  1827  1828  1829  1830  1831  1832  1833  1834  1835  1836  1837  1838  1839  1840  1841  1842  1843  1844  1845  1846  1847  1848  1849  1850  1851  1852  1853  1854  1855  1856  1857  1858  1859  1860  1861  1862  1863  1864  1865  1866  1867  1868  1869  1870  1871  1872  1873  1874  1875  1876  1877  1878  1879  1880  1881  1882  1883  1884  1885  1886  1887  1888  1889  1890  1891  1892  1893  1894  1895  1896  1897  1898  1899  1900  1901  1902  1903  1904  1905  1906  1907  1908  1909  1910      1911  1912  1913  1914  1915  1916  1917  1918  1919  1920  1921  1922  1923  1924  1925  1926  1927  1928  1929  1930  1931  1932  1933  1934  1935  1936  1937  1938  1939  1940  1941  1942  1943      1944  1945  1946  1947  1948  1949  1950  1951  1952  1953  1954  1955  1956  1957  1958  1959  1960  1961  1962  1963      1964  1965  1966  1967  1968      1969  1970      1971  1972  1973  1974  1975  1976  1977  1978  1979  1980  1981  1982  1983  1984  \\\n0   0.0   0.0   0.0  0.000000   0.0   0.0   0.0   0.0   0.0   0.0   0.0   0.0   0.0   0.0   0.0   0.0   0.0   0.0   0.0   0.0   0.0   0.0   0.0   0.0   0.0   0.0   0.0   0.0   0.0   0.0   0.0   0.0   0.0   0.0   0.0   0.0   0.0   0.0   0.0   0.0   0.0   0.0   0.0   0.0   0.0   0.0   0.0   0.0   0.0   0.0   0.0   0.0   0.0   0.0   0.0   0.0   0.0   0.0   0.0   0.0   0.0   0.0   0.0   0.0   0.0   0.0   0.0   0.0   0.0   0.0   0.0   0.0   0.0   0.0   0.0   0.0   0.0   0.0   0.0   0.0   0.0   0.0   0.0   0.0   0.0   0.0   0.0   0.0  0.000000   0.0   0.0   0.0   0.0   0.0   0.0   0.0   0.0   0.0   0.0   0.0   0.0   0.0   0.0   0.0   0.0   0.0   0.0   0.0   0.0   0.0   0.0   0.0   0.0   0.0   0.0   0.0   0.0   0.0   0.0   0.0   0.0  0.000000   0.0   0.0   0.0   0.0   0.0   0.0   0.0   0.0   0.0   0.0   0.0   0.0   0.0   0.0   0.0   0.0   0.0   0.0   0.0  0.000000   0.0   0.0   0.0   0.0  0.271063   0.0  0.323641   0.0   0.0   0.0   0.0   0.0   0.0   0.0   0.0   0.0   0.0   0.0   0.0   0.0   \n1   0.0   0.0   0.0  0.000000   0.0   0.0   0.0   0.0   0.0   0.0   0.0   0.0   0.0   0.0   0.0   0.0   0.0   0.0   0.0   0.0   0.0   0.0   0.0   0.0   0.0   0.0   0.0   0.0   0.0   0.0   0.0   0.0   0.0   0.0   0.0   0.0   0.0   0.0   0.0   0.0   0.0   0.0   0.0   0.0   0.0   0.0   0.0   0.0   0.0   0.0   0.0   0.0   0.0   0.0   0.0   0.0   0.0   0.0   0.0   0.0   0.0   0.0   0.0   0.0   0.0   0.0   0.0   0.0   0.0   0.0   0.0   0.0   0.0   0.0   0.0   0.0   0.0   0.0   0.0   0.0   0.0   0.0   0.0   0.0   0.0   0.0   0.0   0.0  0.000000   0.0   0.0   0.0   0.0   0.0   0.0   0.0   0.0   0.0   0.0   0.0   0.0   0.0   0.0   0.0   0.0   0.0   0.0   0.0   0.0   0.0   0.0   0.0   0.0   0.0   0.0   0.0   0.0   0.0   0.0   0.0   0.0  0.514855   0.0   0.0   0.0   0.0   0.0   0.0   0.0   0.0   0.0   0.0   0.0   0.0   0.0   0.0   0.0   0.0   0.0   0.0   0.0  0.000000   0.0   0.0   0.0   0.0  0.000000   0.0  0.000000   0.0   0.0   0.0   0.0   0.0   0.0   0.0   0.0   0.0   0.0   0.0   0.0   0.0   \n2   0.0   0.0   0.0  0.000000   0.0   0.0   0.0   0.0   0.0   0.0   0.0   0.0   0.0   0.0   0.0   0.0   0.0   0.0   0.0   0.0   0.0   0.0   0.0   0.0   0.0   0.0   0.0   0.0   0.0   0.0   0.0   0.0   0.0   0.0   0.0   0.0   0.0   0.0   0.0   0.0   0.0   0.0   0.0   0.0   0.0   0.0   0.0   0.0   0.0   0.0   0.0   0.0   0.0   0.0   0.0   0.0   0.0   0.0   0.0   0.0   0.0   0.0   0.0   0.0   0.0   0.0   0.0   0.0   0.0   0.0   0.0   0.0   0.0   0.0   0.0   0.0   0.0   0.0   0.0   0.0   0.0   0.0   0.0   0.0   0.0   0.0   0.0   0.0  0.000000   0.0   0.0   0.0   0.0   0.0   0.0   0.0   0.0   0.0   0.0   0.0   0.0   0.0   0.0   0.0   0.0   0.0   0.0   0.0   0.0   0.0   0.0   0.0   0.0   0.0   0.0   0.0   0.0   0.0   0.0   0.0   0.0  0.000000   0.0   0.0   0.0   0.0   0.0   0.0   0.0   0.0   0.0   0.0   0.0   0.0   0.0   0.0   0.0   0.0   0.0   0.0   0.0  0.186208   0.0   0.0   0.0   0.0  0.000000   0.0  0.000000   0.0   0.0   0.0   0.0   0.0   0.0   0.0   0.0   0.0   0.0   0.0   0.0   0.0   \n3   0.0   0.0   0.0  0.000000   0.0   0.0   0.0   0.0   0.0   0.0   0.0   0.0   0.0   0.0   0.0   0.0   0.0   0.0   0.0   0.0   0.0   0.0   0.0   0.0   0.0   0.0   0.0   0.0   0.0   0.0   0.0   0.0   0.0   0.0   0.0   0.0   0.0   0.0   0.0   0.0   0.0   0.0   0.0   0.0   0.0   0.0   0.0   0.0   0.0   0.0   0.0   0.0   0.0   0.0   0.0   0.0   0.0   0.0   0.0   0.0   0.0   0.0   0.0   0.0   0.0   0.0   0.0   0.0   0.0   0.0   0.0   0.0   0.0   0.0   0.0   0.0   0.0   0.0   0.0   0.0   0.0   0.0   0.0   0.0   0.0   0.0   0.0   0.0  0.236563   0.0   0.0   0.0   0.0   0.0   0.0   0.0   0.0   0.0   0.0   0.0   0.0   0.0   0.0   0.0   0.0   0.0   0.0   0.0   0.0   0.0   0.0   0.0   0.0   0.0   0.0   0.0   0.0   0.0   0.0   0.0   0.0  0.000000   0.0   0.0   0.0   0.0   0.0   0.0   0.0   0.0   0.0   0.0   0.0   0.0   0.0   0.0   0.0   0.0   0.0   0.0   0.0  0.000000   0.0   0.0   0.0   0.0  0.000000   0.0  0.000000   0.0   0.0   0.0   0.0   0.0   0.0   0.0   0.0   0.0   0.0   0.0   0.0   0.0   \n4   0.0   0.0   0.0  0.279508   0.0   0.0   0.0   0.0   0.0   0.0   0.0   0.0   0.0   0.0   0.0   0.0   0.0   0.0   0.0   0.0   0.0   0.0   0.0   0.0   0.0   0.0   0.0   0.0   0.0   0.0   0.0   0.0   0.0   0.0   0.0   0.0   0.0   0.0   0.0   0.0   0.0   0.0   0.0   0.0   0.0   0.0   0.0   0.0   0.0   0.0   0.0   0.0   0.0   0.0   0.0   0.0   0.0   0.0   0.0   0.0   0.0   0.0   0.0   0.0   0.0   0.0   0.0   0.0   0.0   0.0   0.0   0.0   0.0   0.0   0.0   0.0   0.0   0.0   0.0   0.0   0.0   0.0   0.0   0.0   0.0   0.0   0.0   0.0  0.000000   0.0   0.0   0.0   0.0   0.0   0.0   0.0   0.0   0.0   0.0   0.0   0.0   0.0   0.0   0.0   0.0   0.0   0.0   0.0   0.0   0.0   0.0   0.0   0.0   0.0   0.0   0.0   0.0   0.0   0.0   0.0   0.0  0.000000   0.0   0.0   0.0   0.0   0.0   0.0   0.0   0.0   0.0   0.0   0.0   0.0   0.0   0.0   0.0   0.0   0.0   0.0   0.0  0.000000   0.0   0.0   0.0   0.0  0.000000   0.0  0.000000   0.0   0.0   0.0   0.0   0.0   0.0   0.0   0.0   0.0   0.0   0.0   0.0   0.0   \n\n   1985  1986  1987  1988  1989  1990  1991  1992  1993  1994  1995  1996  1997  1998  1999  \n0   0.0   0.0   0.0   0.0   0.0   0.0   0.0   0.0   0.0   0.0   0.0   0.0   0.0   0.0   0.0  \n1   0.0   0.0   0.0   0.0   0.0   0.0   0.0   0.0   0.0   0.0   0.0   0.0   0.0   0.0   0.0  \n2   0.0   0.0   0.0   0.0   0.0   0.0   0.0   0.0   0.0   0.0   0.0   0.0   0.0   0.0   0.0  \n3   0.0   0.0   0.0   0.0   0.0   0.0   0.0   0.0   0.0   0.0   0.0   0.0   0.0   0.0   0.0  \n4   0.0   0.0   0.0   0.0   0.0   0.0   0.0   0.0   0.0   0.0   0.0   0.0   0.0   0.0   0.0  \n\n[5 rows x 2000 columns]",
      "text/html": "<div>\n<style scoped>\n    .dataframe tbody tr th:only-of-type {\n        vertical-align: middle;\n    }\n\n    .dataframe tbody tr th {\n        vertical-align: top;\n    }\n\n    .dataframe thead th {\n        text-align: right;\n    }\n</style>\n<table border=\"1\" class=\"dataframe\">\n  <thead>\n    <tr style=\"text-align: right;\">\n      <th></th>\n      <th>0</th>\n      <th>1</th>\n      <th>2</th>\n      <th>3</th>\n      <th>4</th>\n      <th>5</th>\n      <th>6</th>\n      <th>7</th>\n      <th>8</th>\n      <th>9</th>\n      <th>10</th>\n      <th>11</th>\n      <th>12</th>\n      <th>13</th>\n      <th>14</th>\n      <th>15</th>\n      <th>16</th>\n      <th>17</th>\n      <th>18</th>\n      <th>19</th>\n      <th>20</th>\n      <th>21</th>\n      <th>22</th>\n      <th>23</th>\n      <th>24</th>\n      <th>25</th>\n      <th>26</th>\n      <th>27</th>\n      <th>28</th>\n      <th>29</th>\n      <th>30</th>\n      <th>31</th>\n      <th>32</th>\n      <th>33</th>\n      <th>34</th>\n      <th>35</th>\n      <th>36</th>\n      <th>37</th>\n      <th>38</th>\n      <th>39</th>\n      <th>40</th>\n      <th>41</th>\n      <th>42</th>\n      <th>43</th>\n      <th>44</th>\n      <th>45</th>\n      <th>46</th>\n      <th>47</th>\n      <th>48</th>\n      <th>49</th>\n      <th>50</th>\n      <th>51</th>\n      <th>52</th>\n      <th>53</th>\n      <th>54</th>\n      <th>55</th>\n      <th>56</th>\n      <th>57</th>\n      <th>58</th>\n      <th>59</th>\n      <th>60</th>\n      <th>61</th>\n      <th>62</th>\n      <th>63</th>\n      <th>64</th>\n      <th>65</th>\n      <th>66</th>\n      <th>67</th>\n      <th>68</th>\n      <th>69</th>\n      <th>70</th>\n      <th>71</th>\n      <th>72</th>\n      <th>73</th>\n      <th>74</th>\n      <th>75</th>\n      <th>76</th>\n      <th>77</th>\n      <th>78</th>\n      <th>79</th>\n      <th>80</th>\n      <th>81</th>\n      <th>82</th>\n      <th>83</th>\n      <th>84</th>\n      <th>85</th>\n      <th>86</th>\n      <th>87</th>\n      <th>88</th>\n      <th>89</th>\n      <th>90</th>\n      <th>91</th>\n      <th>92</th>\n      <th>93</th>\n      <th>94</th>\n      <th>95</th>\n      <th>96</th>\n      <th>97</th>\n      <th>98</th>\n      <th>99</th>\n      <th>100</th>\n      <th>101</th>\n      <th>102</th>\n      <th>103</th>\n      <th>104</th>\n      <th>105</th>\n      <th>106</th>\n      <th>107</th>\n      <th>108</th>\n      <th>109</th>\n      <th>110</th>\n      <th>111</th>\n      <th>112</th>\n      <th>113</th>\n      <th>114</th>\n      <th>115</th>\n      <th>116</th>\n      <th>117</th>\n      <th>118</th>\n      <th>119</th>\n      <th>120</th>\n      <th>121</th>\n      <th>122</th>\n      <th>123</th>\n      <th>124</th>\n      <th>125</th>\n      <th>126</th>\n      <th>127</th>\n      <th>128</th>\n      <th>129</th>\n      <th>130</th>\n      <th>131</th>\n      <th>132</th>\n      <th>133</th>\n      <th>134</th>\n      <th>135</th>\n      <th>136</th>\n      <th>137</th>\n      <th>138</th>\n      <th>139</th>\n      <th>140</th>\n      <th>141</th>\n      <th>142</th>\n      <th>143</th>\n      <th>144</th>\n      <th>145</th>\n      <th>146</th>\n      <th>147</th>\n      <th>148</th>\n      <th>149</th>\n      <th>150</th>\n      <th>151</th>\n      <th>152</th>\n      <th>153</th>\n      <th>154</th>\n      <th>155</th>\n      <th>156</th>\n      <th>157</th>\n      <th>158</th>\n      <th>159</th>\n      <th>160</th>\n      <th>161</th>\n      <th>162</th>\n      <th>163</th>\n      <th>164</th>\n      <th>165</th>\n      <th>166</th>\n      <th>167</th>\n      <th>168</th>\n      <th>169</th>\n      <th>170</th>\n      <th>171</th>\n      <th>172</th>\n      <th>173</th>\n      <th>174</th>\n      <th>175</th>\n      <th>176</th>\n      <th>177</th>\n      <th>178</th>\n      <th>179</th>\n      <th>180</th>\n      <th>181</th>\n      <th>182</th>\n      <th>183</th>\n      <th>184</th>\n      <th>185</th>\n      <th>186</th>\n      <th>187</th>\n      <th>188</th>\n      <th>189</th>\n      <th>190</th>\n      <th>191</th>\n      <th>192</th>\n      <th>193</th>\n      <th>194</th>\n      <th>195</th>\n      <th>196</th>\n      <th>197</th>\n      <th>198</th>\n      <th>199</th>\n      <th>200</th>\n      <th>201</th>\n      <th>202</th>\n      <th>203</th>\n      <th>204</th>\n      <th>205</th>\n      <th>206</th>\n      <th>207</th>\n      <th>208</th>\n      <th>209</th>\n      <th>210</th>\n      <th>211</th>\n      <th>212</th>\n      <th>213</th>\n      <th>214</th>\n      <th>215</th>\n      <th>216</th>\n      <th>217</th>\n      <th>218</th>\n      <th>219</th>\n      <th>220</th>\n      <th>221</th>\n      <th>222</th>\n      <th>223</th>\n      <th>224</th>\n      <th>225</th>\n      <th>226</th>\n      <th>227</th>\n      <th>228</th>\n      <th>229</th>\n      <th>230</th>\n      <th>231</th>\n      <th>232</th>\n      <th>233</th>\n      <th>234</th>\n      <th>235</th>\n      <th>236</th>\n      <th>237</th>\n      <th>238</th>\n      <th>239</th>\n      <th>240</th>\n      <th>241</th>\n      <th>242</th>\n      <th>243</th>\n      <th>244</th>\n      <th>245</th>\n      <th>246</th>\n      <th>247</th>\n      <th>248</th>\n      <th>249</th>\n      <th>...</th>\n      <th>1750</th>\n      <th>1751</th>\n      <th>1752</th>\n      <th>1753</th>\n      <th>1754</th>\n      <th>1755</th>\n      <th>1756</th>\n      <th>1757</th>\n      <th>1758</th>\n      <th>1759</th>\n      <th>1760</th>\n      <th>1761</th>\n      <th>1762</th>\n      <th>1763</th>\n      <th>1764</th>\n      <th>1765</th>\n      <th>1766</th>\n      <th>1767</th>\n      <th>1768</th>\n      <th>1769</th>\n      <th>1770</th>\n      <th>1771</th>\n      <th>1772</th>\n      <th>1773</th>\n      <th>1774</th>\n      <th>1775</th>\n      <th>1776</th>\n      <th>1777</th>\n      <th>1778</th>\n      <th>1779</th>\n      <th>1780</th>\n      <th>1781</th>\n      <th>1782</th>\n      <th>1783</th>\n      <th>1784</th>\n      <th>1785</th>\n      <th>1786</th>\n      <th>1787</th>\n      <th>1788</th>\n      <th>1789</th>\n      <th>1790</th>\n      <th>1791</th>\n      <th>1792</th>\n      <th>1793</th>\n      <th>1794</th>\n      <th>1795</th>\n      <th>1796</th>\n      <th>1797</th>\n      <th>1798</th>\n      <th>1799</th>\n      <th>1800</th>\n      <th>1801</th>\n      <th>1802</th>\n      <th>1803</th>\n      <th>1804</th>\n      <th>1805</th>\n      <th>1806</th>\n      <th>1807</th>\n      <th>1808</th>\n      <th>1809</th>\n      <th>1810</th>\n      <th>1811</th>\n      <th>1812</th>\n      <th>1813</th>\n      <th>1814</th>\n      <th>1815</th>\n      <th>1816</th>\n      <th>1817</th>\n      <th>1818</th>\n      <th>1819</th>\n      <th>1820</th>\n      <th>1821</th>\n      <th>1822</th>\n      <th>1823</th>\n      <th>1824</th>\n      <th>1825</th>\n      <th>1826</th>\n      <th>1827</th>\n      <th>1828</th>\n      <th>1829</th>\n      <th>1830</th>\n      <th>1831</th>\n      <th>1832</th>\n      <th>1833</th>\n      <th>1834</th>\n      <th>1835</th>\n      <th>1836</th>\n      <th>1837</th>\n      <th>1838</th>\n      <th>1839</th>\n      <th>1840</th>\n      <th>1841</th>\n      <th>1842</th>\n      <th>1843</th>\n      <th>1844</th>\n      <th>1845</th>\n      <th>1846</th>\n      <th>1847</th>\n      <th>1848</th>\n      <th>1849</th>\n      <th>1850</th>\n      <th>1851</th>\n      <th>1852</th>\n      <th>1853</th>\n      <th>1854</th>\n      <th>1855</th>\n      <th>1856</th>\n      <th>1857</th>\n      <th>1858</th>\n      <th>1859</th>\n      <th>1860</th>\n      <th>1861</th>\n      <th>1862</th>\n      <th>1863</th>\n      <th>1864</th>\n      <th>1865</th>\n      <th>1866</th>\n      <th>1867</th>\n      <th>1868</th>\n      <th>1869</th>\n      <th>1870</th>\n      <th>1871</th>\n      <th>1872</th>\n      <th>1873</th>\n      <th>1874</th>\n      <th>1875</th>\n      <th>1876</th>\n      <th>1877</th>\n      <th>1878</th>\n      <th>1879</th>\n      <th>1880</th>\n      <th>1881</th>\n      <th>1882</th>\n      <th>1883</th>\n      <th>1884</th>\n      <th>1885</th>\n      <th>1886</th>\n      <th>1887</th>\n      <th>1888</th>\n      <th>1889</th>\n      <th>1890</th>\n      <th>1891</th>\n      <th>1892</th>\n      <th>1893</th>\n      <th>1894</th>\n      <th>1895</th>\n      <th>1896</th>\n      <th>1897</th>\n      <th>1898</th>\n      <th>1899</th>\n      <th>1900</th>\n      <th>1901</th>\n      <th>1902</th>\n      <th>1903</th>\n      <th>1904</th>\n      <th>1905</th>\n      <th>1906</th>\n      <th>1907</th>\n      <th>1908</th>\n      <th>1909</th>\n      <th>1910</th>\n      <th>1911</th>\n      <th>1912</th>\n      <th>1913</th>\n      <th>1914</th>\n      <th>1915</th>\n      <th>1916</th>\n      <th>1917</th>\n      <th>1918</th>\n      <th>1919</th>\n      <th>1920</th>\n      <th>1921</th>\n      <th>1922</th>\n      <th>1923</th>\n      <th>1924</th>\n      <th>1925</th>\n      <th>1926</th>\n      <th>1927</th>\n      <th>1928</th>\n      <th>1929</th>\n      <th>1930</th>\n      <th>1931</th>\n      <th>1932</th>\n      <th>1933</th>\n      <th>1934</th>\n      <th>1935</th>\n      <th>1936</th>\n      <th>1937</th>\n      <th>1938</th>\n      <th>1939</th>\n      <th>1940</th>\n      <th>1941</th>\n      <th>1942</th>\n      <th>1943</th>\n      <th>1944</th>\n      <th>1945</th>\n      <th>1946</th>\n      <th>1947</th>\n      <th>1948</th>\n      <th>1949</th>\n      <th>1950</th>\n      <th>1951</th>\n      <th>1952</th>\n      <th>1953</th>\n      <th>1954</th>\n      <th>1955</th>\n      <th>1956</th>\n      <th>1957</th>\n      <th>1958</th>\n      <th>1959</th>\n      <th>1960</th>\n      <th>1961</th>\n      <th>1962</th>\n      <th>1963</th>\n      <th>1964</th>\n      <th>1965</th>\n      <th>1966</th>\n      <th>1967</th>\n      <th>1968</th>\n      <th>1969</th>\n      <th>1970</th>\n      <th>1971</th>\n      <th>1972</th>\n      <th>1973</th>\n      <th>1974</th>\n      <th>1975</th>\n      <th>1976</th>\n      <th>1977</th>\n      <th>1978</th>\n      <th>1979</th>\n      <th>1980</th>\n      <th>1981</th>\n      <th>1982</th>\n      <th>1983</th>\n      <th>1984</th>\n      <th>1985</th>\n      <th>1986</th>\n      <th>1987</th>\n      <th>1988</th>\n      <th>1989</th>\n      <th>1990</th>\n      <th>1991</th>\n      <th>1992</th>\n      <th>1993</th>\n      <th>1994</th>\n      <th>1995</th>\n      <th>1996</th>\n      <th>1997</th>\n      <th>1998</th>\n      <th>1999</th>\n    </tr>\n  </thead>\n  <tbody>\n    <tr>\n      <th>0</th>\n      <td>0.0</td>\n      <td>0.0</td>\n      <td>0.000000</td>\n      <td>0.0</td>\n      <td>0.0</td>\n      <td>0.0</td>\n      <td>0.0</td>\n      <td>0.0</td>\n      <td>0.0</td>\n      <td>0.0</td>\n      <td>0.0</td>\n      <td>0.0</td>\n      <td>0.0</td>\n      <td>0.00000</td>\n      <td>0.0</td>\n      <td>0.0</td>\n      <td>0.0</td>\n      <td>0.0</td>\n      <td>0.0</td>\n      <td>0.0</td>\n      <td>0.0</td>\n      <td>0.0</td>\n      <td>0.0</td>\n      <td>0.0</td>\n      <td>0.0</td>\n      <td>0.0</td>\n      <td>0.0</td>\n      <td>0.0</td>\n      <td>0.0</td>\n      <td>0.0</td>\n      <td>0.0</td>\n      <td>0.0</td>\n      <td>0.0</td>\n      <td>0.0</td>\n      <td>0.0</td>\n      <td>0.0</td>\n      <td>0.0</td>\n      <td>0.0</td>\n      <td>0.0</td>\n      <td>0.0</td>\n      <td>0.0</td>\n      <td>0.0</td>\n      <td>0.0</td>\n      <td>0.0</td>\n      <td>0.0</td>\n      <td>0.0</td>\n      <td>0.0</td>\n      <td>0.0</td>\n      <td>0.0</td>\n      <td>0.0</td>\n      <td>0.0</td>\n      <td>0.0</td>\n      <td>0.0</td>\n      <td>0.0</td>\n      <td>0.0</td>\n      <td>0.0</td>\n      <td>0.0</td>\n      <td>0.0</td>\n      <td>0.0</td>\n      <td>0.0</td>\n      <td>0.0</td>\n      <td>0.0</td>\n      <td>0.0</td>\n      <td>0.000000</td>\n      <td>0.0</td>\n      <td>0.0</td>\n      <td>0.0</td>\n      <td>0.0</td>\n      <td>0.0</td>\n      <td>0.0</td>\n      <td>0.0</td>\n      <td>0.0</td>\n      <td>0.0</td>\n      <td>0.0</td>\n      <td>0.0</td>\n      <td>0.0</td>\n      <td>0.0</td>\n      <td>0.0</td>\n      <td>0.0</td>\n      <td>0.0</td>\n      <td>0.0</td>\n      <td>0.0</td>\n      <td>0.0</td>\n      <td>0.0</td>\n      <td>0.0</td>\n      <td>0.0</td>\n      <td>0.0</td>\n      <td>0.0</td>\n      <td>0.0</td>\n      <td>0.0</td>\n      <td>0.0</td>\n      <td>0.0</td>\n      <td>0.0</td>\n      <td>0.0</td>\n      <td>0.0</td>\n      <td>0.0</td>\n      <td>0.0</td>\n      <td>0.0</td>\n      <td>0.0</td>\n      <td>0.0</td>\n      <td>0.0</td>\n      <td>0.0</td>\n      <td>0.0</td>\n      <td>0.0</td>\n      <td>0.0</td>\n      <td>0.0</td>\n      <td>0.0</td>\n      <td>0.0</td>\n      <td>0.000000</td>\n      <td>0.0</td>\n      <td>0.000000</td>\n      <td>0.0</td>\n      <td>0.0</td>\n      <td>0.0</td>\n      <td>0.0</td>\n      <td>0.0</td>\n      <td>0.0</td>\n      <td>0.0</td>\n      <td>0.0</td>\n      <td>0.0</td>\n      <td>0.0</td>\n      <td>0.0</td>\n      <td>0.0</td>\n      <td>0.0</td>\n      <td>0.0</td>\n      <td>0.0</td>\n      <td>0.0</td>\n      <td>0.0</td>\n      <td>0.0</td>\n      <td>0.0</td>\n      <td>0.0</td>\n      <td>0.0</td>\n      <td>0.0</td>\n      <td>0.0</td>\n      <td>0.0</td>\n      <td>0.0</td>\n      <td>0.0</td>\n      <td>0.0</td>\n      <td>0.0</td>\n      <td>0.0</td>\n      <td>0.0</td>\n      <td>0.0</td>\n      <td>0.0</td>\n      <td>0.0</td>\n      <td>0.0</td>\n      <td>0.0</td>\n      <td>0.0</td>\n      <td>0.0</td>\n      <td>0.0</td>\n      <td>0.0</td>\n      <td>0.0</td>\n      <td>0.0</td>\n      <td>0.0</td>\n      <td>0.0</td>\n      <td>0.0</td>\n      <td>0.0</td>\n      <td>0.0</td>\n      <td>0.0</td>\n      <td>0.0</td>\n      <td>0.0</td>\n      <td>0.0</td>\n      <td>0.0</td>\n      <td>0.0</td>\n      <td>0.0</td>\n      <td>0.0</td>\n      <td>0.0</td>\n      <td>0.0</td>\n      <td>0.0</td>\n      <td>0.0</td>\n      <td>0.0</td>\n      <td>0.0</td>\n      <td>0.0</td>\n      <td>0.0</td>\n      <td>0.0</td>\n      <td>0.0</td>\n      <td>0.0</td>\n      <td>0.0</td>\n      <td>0.0</td>\n      <td>0.0</td>\n      <td>0.0</td>\n      <td>0.0</td>\n      <td>0.0</td>\n      <td>0.0</td>\n      <td>0.0</td>\n      <td>0.0</td>\n      <td>0.0</td>\n      <td>0.0</td>\n      <td>0.0</td>\n      <td>0.0</td>\n      <td>0.0</td>\n      <td>0.0</td>\n      <td>0.0</td>\n      <td>0.0</td>\n      <td>0.0</td>\n      <td>0.0</td>\n      <td>0.0</td>\n      <td>0.0</td>\n      <td>0.0</td>\n      <td>0.0</td>\n      <td>0.0</td>\n      <td>0.0</td>\n      <td>0.0</td>\n      <td>0.0</td>\n      <td>0.0</td>\n      <td>0.0</td>\n      <td>0.0</td>\n      <td>0.0</td>\n      <td>0.0</td>\n      <td>0.0</td>\n      <td>0.0</td>\n      <td>0.0</td>\n      <td>0.0</td>\n      <td>0.0</td>\n      <td>0.0</td>\n      <td>0.0</td>\n      <td>0.0</td>\n      <td>0.0</td>\n      <td>0.0</td>\n      <td>0.0</td>\n      <td>0.0</td>\n      <td>0.0</td>\n      <td>0.0</td>\n      <td>0.0</td>\n      <td>0.0</td>\n      <td>0.0</td>\n      <td>0.0</td>\n      <td>0.0</td>\n      <td>0.0</td>\n      <td>0.0</td>\n      <td>0.0</td>\n      <td>0.0</td>\n      <td>0.0</td>\n      <td>0.0</td>\n      <td>0.0</td>\n      <td>0.0</td>\n      <td>0.0</td>\n      <td>0.0</td>\n      <td>0.0</td>\n      <td>0.0</td>\n      <td>0.0</td>\n      <td>0.0</td>\n      <td>0.0</td>\n      <td>0.0</td>\n      <td>0.0</td>\n      <td>0.0</td>\n      <td>0.0</td>\n      <td>0.0</td>\n      <td>0.0</td>\n      <td>0.0</td>\n      <td>0.0</td>\n      <td>...</td>\n      <td>0.0</td>\n      <td>0.0</td>\n      <td>0.0</td>\n      <td>0.0</td>\n      <td>0.000000</td>\n      <td>0.0</td>\n      <td>0.0</td>\n      <td>0.0</td>\n      <td>0.000000</td>\n      <td>0.0</td>\n      <td>0.0</td>\n      <td>0.0</td>\n      <td>0.0</td>\n      <td>0.0</td>\n      <td>0.0</td>\n      <td>0.0</td>\n      <td>0.0</td>\n      <td>0.0</td>\n      <td>0.0</td>\n      <td>0.0</td>\n      <td>0.0</td>\n      <td>0.0</td>\n      <td>0.0</td>\n      <td>0.0</td>\n      <td>0.0</td>\n      <td>0.0</td>\n      <td>0.0</td>\n      <td>0.0</td>\n      <td>0.0</td>\n      <td>0.0</td>\n      <td>0.0</td>\n      <td>0.000000</td>\n      <td>0.0</td>\n      <td>0.0</td>\n      <td>0.0</td>\n      <td>0.0</td>\n      <td>0.0</td>\n      <td>0.0</td>\n      <td>0.0</td>\n      <td>0.0</td>\n      <td>0.0</td>\n      <td>0.0</td>\n      <td>0.0</td>\n      <td>0.0</td>\n      <td>0.000000</td>\n      <td>0.0</td>\n      <td>0.0</td>\n      <td>0.0</td>\n      <td>0.0</td>\n      <td>0.0</td>\n      <td>0.0</td>\n      <td>0.0</td>\n      <td>0.0</td>\n      <td>0.0</td>\n      <td>0.000000</td>\n      <td>0.0</td>\n      <td>0.0</td>\n      <td>0.0</td>\n      <td>0.0</td>\n      <td>0.0</td>\n      <td>0.0</td>\n      <td>0.0</td>\n      <td>0.0</td>\n      <td>0.0</td>\n      <td>0.0</td>\n      <td>0.0</td>\n      <td>0.0</td>\n      <td>0.0</td>\n      <td>0.0</td>\n      <td>0.0</td>\n      <td>0.0</td>\n      <td>0.0</td>\n      <td>0.0</td>\n      <td>0.0</td>\n      <td>0.0</td>\n      <td>0.0</td>\n      <td>0.000000</td>\n      <td>0.0</td>\n      <td>0.0</td>\n      <td>0.0</td>\n      <td>0.0</td>\n      <td>0.0</td>\n      <td>0.0</td>\n      <td>0.0</td>\n      <td>0.0</td>\n      <td>0.0</td>\n      <td>0.0</td>\n      <td>0.0</td>\n      <td>0.0</td>\n      <td>0.0</td>\n      <td>0.0</td>\n      <td>0.0</td>\n      <td>0.0</td>\n      <td>0.0</td>\n      <td>0.0</td>\n      <td>0.0</td>\n      <td>0.0</td>\n      <td>0.0</td>\n      <td>0.0</td>\n      <td>0.0</td>\n      <td>0.0</td>\n      <td>0.0</td>\n      <td>0.0</td>\n      <td>0.0</td>\n      <td>0.0</td>\n      <td>0.0</td>\n      <td>0.0</td>\n      <td>0.0</td>\n      <td>0.0</td>\n      <td>0.0</td>\n      <td>0.0</td>\n      <td>0.0</td>\n      <td>0.0</td>\n      <td>0.0</td>\n      <td>0.0</td>\n      <td>0.0</td>\n      <td>0.0</td>\n      <td>0.0</td>\n      <td>0.0</td>\n      <td>0.0</td>\n      <td>0.0</td>\n      <td>0.0</td>\n      <td>0.0</td>\n      <td>0.0</td>\n      <td>0.0</td>\n      <td>0.0</td>\n      <td>0.0</td>\n      <td>0.0</td>\n      <td>0.0</td>\n      <td>0.0</td>\n      <td>0.0</td>\n      <td>0.0</td>\n      <td>0.0</td>\n      <td>0.0</td>\n      <td>0.0</td>\n      <td>0.0</td>\n      <td>0.0</td>\n      <td>0.0</td>\n      <td>0.0</td>\n      <td>0.0</td>\n      <td>0.0</td>\n      <td>0.0</td>\n      <td>0.0</td>\n      <td>0.0</td>\n      <td>0.0</td>\n      <td>0.0</td>\n      <td>0.0</td>\n      <td>0.0</td>\n      <td>0.0</td>\n      <td>0.0</td>\n      <td>0.0</td>\n      <td>0.0</td>\n      <td>0.0</td>\n      <td>0.0</td>\n      <td>0.0</td>\n      <td>0.0</td>\n      <td>0.0</td>\n      <td>0.0</td>\n      <td>0.0</td>\n      <td>0.0</td>\n      <td>0.0</td>\n      <td>0.000000</td>\n      <td>0.0</td>\n      <td>0.0</td>\n      <td>0.0</td>\n      <td>0.0</td>\n      <td>0.0</td>\n      <td>0.0</td>\n      <td>0.0</td>\n      <td>0.0</td>\n      <td>0.0</td>\n      <td>0.0</td>\n      <td>0.0</td>\n      <td>0.0</td>\n      <td>0.0</td>\n      <td>0.0</td>\n      <td>0.0</td>\n      <td>0.0</td>\n      <td>0.0</td>\n      <td>0.0</td>\n      <td>0.0</td>\n      <td>0.0</td>\n      <td>0.0</td>\n      <td>0.0</td>\n      <td>0.0</td>\n      <td>0.0</td>\n      <td>0.0</td>\n      <td>0.0</td>\n      <td>0.0</td>\n      <td>0.0</td>\n      <td>0.0</td>\n      <td>0.0</td>\n      <td>0.0</td>\n      <td>0.0</td>\n      <td>0.000000</td>\n      <td>0.0</td>\n      <td>0.0</td>\n      <td>0.0</td>\n      <td>0.0</td>\n      <td>0.0</td>\n      <td>0.0</td>\n      <td>0.0</td>\n      <td>0.0</td>\n      <td>0.0</td>\n      <td>0.0</td>\n      <td>0.0</td>\n      <td>0.0</td>\n      <td>0.0</td>\n      <td>0.0</td>\n      <td>0.0</td>\n      <td>0.0</td>\n      <td>0.0</td>\n      <td>0.0</td>\n      <td>0.0</td>\n      <td>0.000000</td>\n      <td>0.0</td>\n      <td>0.0</td>\n      <td>0.0</td>\n      <td>0.0</td>\n      <td>0.271063</td>\n      <td>0.0</td>\n      <td>0.323641</td>\n      <td>0.0</td>\n      <td>0.0</td>\n      <td>0.0</td>\n      <td>0.0</td>\n      <td>0.0</td>\n      <td>0.0</td>\n      <td>0.0</td>\n      <td>0.0</td>\n      <td>0.0</td>\n      <td>0.0</td>\n      <td>0.0</td>\n      <td>0.0</td>\n      <td>0.0</td>\n      <td>0.0</td>\n      <td>0.0</td>\n      <td>0.0</td>\n      <td>0.0</td>\n      <td>0.0</td>\n      <td>0.0</td>\n      <td>0.0</td>\n      <td>0.0</td>\n      <td>0.0</td>\n      <td>0.0</td>\n      <td>0.0</td>\n      <td>0.0</td>\n      <td>0.0</td>\n      <td>0.0</td>\n      <td>0.0</td>\n    </tr>\n    <tr>\n      <th>1</th>\n      <td>0.0</td>\n      <td>0.0</td>\n      <td>0.000000</td>\n      <td>0.0</td>\n      <td>0.0</td>\n      <td>0.0</td>\n      <td>0.0</td>\n      <td>0.0</td>\n      <td>0.0</td>\n      <td>0.0</td>\n      <td>0.0</td>\n      <td>0.0</td>\n      <td>0.0</td>\n      <td>0.00000</td>\n      <td>0.0</td>\n      <td>0.0</td>\n      <td>0.0</td>\n      <td>0.0</td>\n      <td>0.0</td>\n      <td>0.0</td>\n      <td>0.0</td>\n      <td>0.0</td>\n      <td>0.0</td>\n      <td>0.0</td>\n      <td>0.0</td>\n      <td>0.0</td>\n      <td>0.0</td>\n      <td>0.0</td>\n      <td>0.0</td>\n      <td>0.0</td>\n      <td>0.0</td>\n      <td>0.0</td>\n      <td>0.0</td>\n      <td>0.0</td>\n      <td>0.0</td>\n      <td>0.0</td>\n      <td>0.0</td>\n      <td>0.0</td>\n      <td>0.0</td>\n      <td>0.0</td>\n      <td>0.0</td>\n      <td>0.0</td>\n      <td>0.0</td>\n      <td>0.0</td>\n      <td>0.0</td>\n      <td>0.0</td>\n      <td>0.0</td>\n      <td>0.0</td>\n      <td>0.0</td>\n      <td>0.0</td>\n      <td>0.0</td>\n      <td>0.0</td>\n      <td>0.0</td>\n      <td>0.0</td>\n      <td>0.0</td>\n      <td>0.0</td>\n      <td>0.0</td>\n      <td>0.0</td>\n      <td>0.0</td>\n      <td>0.0</td>\n      <td>0.0</td>\n      <td>0.0</td>\n      <td>0.0</td>\n      <td>0.000000</td>\n      <td>0.0</td>\n      <td>0.0</td>\n      <td>0.0</td>\n      <td>0.0</td>\n      <td>0.0</td>\n      <td>0.0</td>\n      <td>0.0</td>\n      <td>0.0</td>\n      <td>0.0</td>\n      <td>0.0</td>\n      <td>0.0</td>\n      <td>0.0</td>\n      <td>0.0</td>\n      <td>0.0</td>\n      <td>0.0</td>\n      <td>0.0</td>\n      <td>0.0</td>\n      <td>0.0</td>\n      <td>0.0</td>\n      <td>0.0</td>\n      <td>0.0</td>\n      <td>0.0</td>\n      <td>0.0</td>\n      <td>0.0</td>\n      <td>0.0</td>\n      <td>0.0</td>\n      <td>0.0</td>\n      <td>0.0</td>\n      <td>0.0</td>\n      <td>0.0</td>\n      <td>0.0</td>\n      <td>0.0</td>\n      <td>0.0</td>\n      <td>0.0</td>\n      <td>0.0</td>\n      <td>0.0</td>\n      <td>0.0</td>\n      <td>0.0</td>\n      <td>0.0</td>\n      <td>0.0</td>\n      <td>0.0</td>\n      <td>0.0</td>\n      <td>0.0</td>\n      <td>0.0</td>\n      <td>0.156001</td>\n      <td>0.0</td>\n      <td>0.111864</td>\n      <td>0.0</td>\n      <td>0.0</td>\n      <td>0.0</td>\n      <td>0.0</td>\n      <td>0.0</td>\n      <td>0.0</td>\n      <td>0.0</td>\n      <td>0.0</td>\n      <td>0.0</td>\n      <td>0.0</td>\n      <td>0.0</td>\n      <td>0.0</td>\n      <td>0.0</td>\n      <td>0.0</td>\n      <td>0.0</td>\n      <td>0.0</td>\n      <td>0.0</td>\n      <td>0.0</td>\n      <td>0.0</td>\n      <td>0.0</td>\n      <td>0.0</td>\n      <td>0.0</td>\n      <td>0.0</td>\n      <td>0.0</td>\n      <td>0.0</td>\n      <td>0.0</td>\n      <td>0.0</td>\n      <td>0.0</td>\n      <td>0.0</td>\n      <td>0.0</td>\n      <td>0.0</td>\n      <td>0.0</td>\n      <td>0.0</td>\n      <td>0.0</td>\n      <td>0.0</td>\n      <td>0.0</td>\n      <td>0.0</td>\n      <td>0.0</td>\n      <td>0.0</td>\n      <td>0.0</td>\n      <td>0.0</td>\n      <td>0.0</td>\n      <td>0.0</td>\n      <td>0.0</td>\n      <td>0.0</td>\n      <td>0.0</td>\n      <td>0.0</td>\n      <td>0.0</td>\n      <td>0.0</td>\n      <td>0.0</td>\n      <td>0.0</td>\n      <td>0.0</td>\n      <td>0.0</td>\n      <td>0.0</td>\n      <td>0.0</td>\n      <td>0.0</td>\n      <td>0.0</td>\n      <td>0.0</td>\n      <td>0.0</td>\n      <td>0.0</td>\n      <td>0.0</td>\n      <td>0.0</td>\n      <td>0.0</td>\n      <td>0.0</td>\n      <td>0.0</td>\n      <td>0.0</td>\n      <td>0.0</td>\n      <td>0.0</td>\n      <td>0.0</td>\n      <td>0.0</td>\n      <td>0.0</td>\n      <td>0.0</td>\n      <td>0.0</td>\n      <td>0.0</td>\n      <td>0.0</td>\n      <td>0.0</td>\n      <td>0.0</td>\n      <td>0.0</td>\n      <td>0.0</td>\n      <td>0.0</td>\n      <td>0.0</td>\n      <td>0.0</td>\n      <td>0.0</td>\n      <td>0.0</td>\n      <td>0.0</td>\n      <td>0.0</td>\n      <td>0.0</td>\n      <td>0.0</td>\n      <td>0.0</td>\n      <td>0.0</td>\n      <td>0.0</td>\n      <td>0.0</td>\n      <td>0.0</td>\n      <td>0.0</td>\n      <td>0.0</td>\n      <td>0.0</td>\n      <td>0.0</td>\n      <td>0.0</td>\n      <td>0.0</td>\n      <td>0.0</td>\n      <td>0.0</td>\n      <td>0.0</td>\n      <td>0.0</td>\n      <td>0.0</td>\n      <td>0.0</td>\n      <td>0.0</td>\n      <td>0.0</td>\n      <td>0.0</td>\n      <td>0.0</td>\n      <td>0.0</td>\n      <td>0.0</td>\n      <td>0.0</td>\n      <td>0.0</td>\n      <td>0.0</td>\n      <td>0.0</td>\n      <td>0.0</td>\n      <td>0.0</td>\n      <td>0.0</td>\n      <td>0.0</td>\n      <td>0.0</td>\n      <td>0.0</td>\n      <td>0.0</td>\n      <td>0.0</td>\n      <td>0.0</td>\n      <td>0.0</td>\n      <td>0.0</td>\n      <td>0.0</td>\n      <td>0.0</td>\n      <td>0.0</td>\n      <td>0.0</td>\n      <td>0.0</td>\n      <td>0.0</td>\n      <td>0.0</td>\n      <td>0.0</td>\n      <td>0.0</td>\n      <td>0.0</td>\n      <td>0.0</td>\n      <td>0.0</td>\n      <td>0.0</td>\n      <td>...</td>\n      <td>0.0</td>\n      <td>0.0</td>\n      <td>0.0</td>\n      <td>0.0</td>\n      <td>0.000000</td>\n      <td>0.0</td>\n      <td>0.0</td>\n      <td>0.0</td>\n      <td>0.000000</td>\n      <td>0.0</td>\n      <td>0.0</td>\n      <td>0.0</td>\n      <td>0.0</td>\n      <td>0.0</td>\n      <td>0.0</td>\n      <td>0.0</td>\n      <td>0.0</td>\n      <td>0.0</td>\n      <td>0.0</td>\n      <td>0.0</td>\n      <td>0.0</td>\n      <td>0.0</td>\n      <td>0.0</td>\n      <td>0.0</td>\n      <td>0.0</td>\n      <td>0.0</td>\n      <td>0.0</td>\n      <td>0.0</td>\n      <td>0.0</td>\n      <td>0.0</td>\n      <td>0.0</td>\n      <td>0.000000</td>\n      <td>0.0</td>\n      <td>0.0</td>\n      <td>0.0</td>\n      <td>0.0</td>\n      <td>0.0</td>\n      <td>0.0</td>\n      <td>0.0</td>\n      <td>0.0</td>\n      <td>0.0</td>\n      <td>0.0</td>\n      <td>0.0</td>\n      <td>0.0</td>\n      <td>0.236246</td>\n      <td>0.0</td>\n      <td>0.0</td>\n      <td>0.0</td>\n      <td>0.0</td>\n      <td>0.0</td>\n      <td>0.0</td>\n      <td>0.0</td>\n      <td>0.0</td>\n      <td>0.0</td>\n      <td>0.000000</td>\n      <td>0.0</td>\n      <td>0.0</td>\n      <td>0.0</td>\n      <td>0.0</td>\n      <td>0.0</td>\n      <td>0.0</td>\n      <td>0.0</td>\n      <td>0.0</td>\n      <td>0.0</td>\n      <td>0.0</td>\n      <td>0.0</td>\n      <td>0.0</td>\n      <td>0.0</td>\n      <td>0.0</td>\n      <td>0.0</td>\n      <td>0.0</td>\n      <td>0.0</td>\n      <td>0.0</td>\n      <td>0.0</td>\n      <td>0.0</td>\n      <td>0.0</td>\n      <td>0.000000</td>\n      <td>0.0</td>\n      <td>0.0</td>\n      <td>0.0</td>\n      <td>0.0</td>\n      <td>0.0</td>\n      <td>0.0</td>\n      <td>0.0</td>\n      <td>0.0</td>\n      <td>0.0</td>\n      <td>0.0</td>\n      <td>0.0</td>\n      <td>0.0</td>\n      <td>0.0</td>\n      <td>0.0</td>\n      <td>0.0</td>\n      <td>0.0</td>\n      <td>0.0</td>\n      <td>0.0</td>\n      <td>0.0</td>\n      <td>0.0</td>\n      <td>0.0</td>\n      <td>0.0</td>\n      <td>0.0</td>\n      <td>0.0</td>\n      <td>0.0</td>\n      <td>0.0</td>\n      <td>0.0</td>\n      <td>0.0</td>\n      <td>0.0</td>\n      <td>0.0</td>\n      <td>0.0</td>\n      <td>0.0</td>\n      <td>0.0</td>\n      <td>0.0</td>\n      <td>0.0</td>\n      <td>0.0</td>\n      <td>0.0</td>\n      <td>0.0</td>\n      <td>0.0</td>\n      <td>0.0</td>\n      <td>0.0</td>\n      <td>0.0</td>\n      <td>0.0</td>\n      <td>0.0</td>\n      <td>0.0</td>\n      <td>0.0</td>\n      <td>0.0</td>\n      <td>0.0</td>\n      <td>0.0</td>\n      <td>0.0</td>\n      <td>0.0</td>\n      <td>0.0</td>\n      <td>0.0</td>\n      <td>0.0</td>\n      <td>0.0</td>\n      <td>0.0</td>\n      <td>0.0</td>\n      <td>0.0</td>\n      <td>0.0</td>\n      <td>0.0</td>\n      <td>0.0</td>\n      <td>0.0</td>\n      <td>0.0</td>\n      <td>0.0</td>\n      <td>0.0</td>\n      <td>0.0</td>\n      <td>0.0</td>\n      <td>0.0</td>\n      <td>0.0</td>\n      <td>0.0</td>\n      <td>0.0</td>\n      <td>0.0</td>\n      <td>0.0</td>\n      <td>0.0</td>\n      <td>0.0</td>\n      <td>0.0</td>\n      <td>0.0</td>\n      <td>0.0</td>\n      <td>0.0</td>\n      <td>0.0</td>\n      <td>0.0</td>\n      <td>0.0</td>\n      <td>0.0</td>\n      <td>0.0</td>\n      <td>0.000000</td>\n      <td>0.0</td>\n      <td>0.0</td>\n      <td>0.0</td>\n      <td>0.0</td>\n      <td>0.0</td>\n      <td>0.0</td>\n      <td>0.0</td>\n      <td>0.0</td>\n      <td>0.0</td>\n      <td>0.0</td>\n      <td>0.0</td>\n      <td>0.0</td>\n      <td>0.0</td>\n      <td>0.0</td>\n      <td>0.0</td>\n      <td>0.0</td>\n      <td>0.0</td>\n      <td>0.0</td>\n      <td>0.0</td>\n      <td>0.0</td>\n      <td>0.0</td>\n      <td>0.0</td>\n      <td>0.0</td>\n      <td>0.0</td>\n      <td>0.0</td>\n      <td>0.0</td>\n      <td>0.0</td>\n      <td>0.0</td>\n      <td>0.0</td>\n      <td>0.0</td>\n      <td>0.0</td>\n      <td>0.0</td>\n      <td>0.514855</td>\n      <td>0.0</td>\n      <td>0.0</td>\n      <td>0.0</td>\n      <td>0.0</td>\n      <td>0.0</td>\n      <td>0.0</td>\n      <td>0.0</td>\n      <td>0.0</td>\n      <td>0.0</td>\n      <td>0.0</td>\n      <td>0.0</td>\n      <td>0.0</td>\n      <td>0.0</td>\n      <td>0.0</td>\n      <td>0.0</td>\n      <td>0.0</td>\n      <td>0.0</td>\n      <td>0.0</td>\n      <td>0.0</td>\n      <td>0.000000</td>\n      <td>0.0</td>\n      <td>0.0</td>\n      <td>0.0</td>\n      <td>0.0</td>\n      <td>0.000000</td>\n      <td>0.0</td>\n      <td>0.000000</td>\n      <td>0.0</td>\n      <td>0.0</td>\n      <td>0.0</td>\n      <td>0.0</td>\n      <td>0.0</td>\n      <td>0.0</td>\n      <td>0.0</td>\n      <td>0.0</td>\n      <td>0.0</td>\n      <td>0.0</td>\n      <td>0.0</td>\n      <td>0.0</td>\n      <td>0.0</td>\n      <td>0.0</td>\n      <td>0.0</td>\n      <td>0.0</td>\n      <td>0.0</td>\n      <td>0.0</td>\n      <td>0.0</td>\n      <td>0.0</td>\n      <td>0.0</td>\n      <td>0.0</td>\n      <td>0.0</td>\n      <td>0.0</td>\n      <td>0.0</td>\n      <td>0.0</td>\n      <td>0.0</td>\n      <td>0.0</td>\n    </tr>\n    <tr>\n      <th>2</th>\n      <td>0.0</td>\n      <td>0.0</td>\n      <td>0.302078</td>\n      <td>0.0</td>\n      <td>0.0</td>\n      <td>0.0</td>\n      <td>0.0</td>\n      <td>0.0</td>\n      <td>0.0</td>\n      <td>0.0</td>\n      <td>0.0</td>\n      <td>0.0</td>\n      <td>0.0</td>\n      <td>0.00000</td>\n      <td>0.0</td>\n      <td>0.0</td>\n      <td>0.0</td>\n      <td>0.0</td>\n      <td>0.0</td>\n      <td>0.0</td>\n      <td>0.0</td>\n      <td>0.0</td>\n      <td>0.0</td>\n      <td>0.0</td>\n      <td>0.0</td>\n      <td>0.0</td>\n      <td>0.0</td>\n      <td>0.0</td>\n      <td>0.0</td>\n      <td>0.0</td>\n      <td>0.0</td>\n      <td>0.0</td>\n      <td>0.0</td>\n      <td>0.0</td>\n      <td>0.0</td>\n      <td>0.0</td>\n      <td>0.0</td>\n      <td>0.0</td>\n      <td>0.0</td>\n      <td>0.0</td>\n      <td>0.0</td>\n      <td>0.0</td>\n      <td>0.0</td>\n      <td>0.0</td>\n      <td>0.0</td>\n      <td>0.0</td>\n      <td>0.0</td>\n      <td>0.0</td>\n      <td>0.0</td>\n      <td>0.0</td>\n      <td>0.0</td>\n      <td>0.0</td>\n      <td>0.0</td>\n      <td>0.0</td>\n      <td>0.0</td>\n      <td>0.0</td>\n      <td>0.0</td>\n      <td>0.0</td>\n      <td>0.0</td>\n      <td>0.0</td>\n      <td>0.0</td>\n      <td>0.0</td>\n      <td>0.0</td>\n      <td>0.000000</td>\n      <td>0.0</td>\n      <td>0.0</td>\n      <td>0.0</td>\n      <td>0.0</td>\n      <td>0.0</td>\n      <td>0.0</td>\n      <td>0.0</td>\n      <td>0.0</td>\n      <td>0.0</td>\n      <td>0.0</td>\n      <td>0.0</td>\n      <td>0.0</td>\n      <td>0.0</td>\n      <td>0.0</td>\n      <td>0.0</td>\n      <td>0.0</td>\n      <td>0.0</td>\n      <td>0.0</td>\n      <td>0.0</td>\n      <td>0.0</td>\n      <td>0.0</td>\n      <td>0.0</td>\n      <td>0.0</td>\n      <td>0.0</td>\n      <td>0.0</td>\n      <td>0.0</td>\n      <td>0.0</td>\n      <td>0.0</td>\n      <td>0.0</td>\n      <td>0.0</td>\n      <td>0.0</td>\n      <td>0.0</td>\n      <td>0.0</td>\n      <td>0.0</td>\n      <td>0.0</td>\n      <td>0.0</td>\n      <td>0.0</td>\n      <td>0.0</td>\n      <td>0.0</td>\n      <td>0.0</td>\n      <td>0.0</td>\n      <td>0.0</td>\n      <td>0.0</td>\n      <td>0.0</td>\n      <td>0.000000</td>\n      <td>0.0</td>\n      <td>0.000000</td>\n      <td>0.0</td>\n      <td>0.0</td>\n      <td>0.0</td>\n      <td>0.0</td>\n      <td>0.0</td>\n      <td>0.0</td>\n      <td>0.0</td>\n      <td>0.0</td>\n      <td>0.0</td>\n      <td>0.0</td>\n      <td>0.0</td>\n      <td>0.0</td>\n      <td>0.0</td>\n      <td>0.0</td>\n      <td>0.0</td>\n      <td>0.0</td>\n      <td>0.0</td>\n      <td>0.0</td>\n      <td>0.0</td>\n      <td>0.0</td>\n      <td>0.0</td>\n      <td>0.0</td>\n      <td>0.0</td>\n      <td>0.0</td>\n      <td>0.0</td>\n      <td>0.0</td>\n      <td>0.0</td>\n      <td>0.0</td>\n      <td>0.0</td>\n      <td>0.0</td>\n      <td>0.0</td>\n      <td>0.0</td>\n      <td>0.0</td>\n      <td>0.0</td>\n      <td>0.0</td>\n      <td>0.0</td>\n      <td>0.0</td>\n      <td>0.0</td>\n      <td>0.0</td>\n      <td>0.0</td>\n      <td>0.0</td>\n      <td>0.0</td>\n      <td>0.0</td>\n      <td>0.0</td>\n      <td>0.0</td>\n      <td>0.0</td>\n      <td>0.0</td>\n      <td>0.0</td>\n      <td>0.0</td>\n      <td>0.0</td>\n      <td>0.0</td>\n      <td>0.0</td>\n      <td>0.0</td>\n      <td>0.0</td>\n      <td>0.0</td>\n      <td>0.0</td>\n      <td>0.0</td>\n      <td>0.0</td>\n      <td>0.0</td>\n      <td>0.0</td>\n      <td>0.0</td>\n      <td>0.0</td>\n      <td>0.0</td>\n      <td>0.0</td>\n      <td>0.0</td>\n      <td>0.0</td>\n      <td>0.0</td>\n      <td>0.0</td>\n      <td>0.0</td>\n      <td>0.0</td>\n      <td>0.0</td>\n      <td>0.0</td>\n      <td>0.0</td>\n      <td>0.0</td>\n      <td>0.0</td>\n      <td>0.0</td>\n      <td>0.0</td>\n      <td>0.0</td>\n      <td>0.0</td>\n      <td>0.0</td>\n      <td>0.0</td>\n      <td>0.0</td>\n      <td>0.0</td>\n      <td>0.0</td>\n      <td>0.0</td>\n      <td>0.0</td>\n      <td>0.0</td>\n      <td>0.0</td>\n      <td>0.0</td>\n      <td>0.0</td>\n      <td>0.0</td>\n      <td>0.0</td>\n      <td>0.0</td>\n      <td>0.0</td>\n      <td>0.0</td>\n      <td>0.0</td>\n      <td>0.0</td>\n      <td>0.0</td>\n      <td>0.0</td>\n      <td>0.0</td>\n      <td>0.0</td>\n      <td>0.0</td>\n      <td>0.0</td>\n      <td>0.0</td>\n      <td>0.0</td>\n      <td>0.0</td>\n      <td>0.0</td>\n      <td>0.0</td>\n      <td>0.0</td>\n      <td>0.0</td>\n      <td>0.0</td>\n      <td>0.0</td>\n      <td>0.0</td>\n      <td>0.0</td>\n      <td>0.0</td>\n      <td>0.0</td>\n      <td>0.0</td>\n      <td>0.0</td>\n      <td>0.0</td>\n      <td>0.0</td>\n      <td>0.0</td>\n      <td>0.0</td>\n      <td>0.0</td>\n      <td>0.0</td>\n      <td>0.0</td>\n      <td>0.0</td>\n      <td>0.0</td>\n      <td>0.0</td>\n      <td>0.0</td>\n      <td>0.0</td>\n      <td>0.0</td>\n      <td>0.0</td>\n      <td>0.0</td>\n      <td>0.0</td>\n      <td>0.0</td>\n      <td>0.0</td>\n      <td>0.0</td>\n      <td>0.0</td>\n      <td>0.0</td>\n      <td>...</td>\n      <td>0.0</td>\n      <td>0.0</td>\n      <td>0.0</td>\n      <td>0.0</td>\n      <td>0.284898</td>\n      <td>0.0</td>\n      <td>0.0</td>\n      <td>0.0</td>\n      <td>0.000000</td>\n      <td>0.0</td>\n      <td>0.0</td>\n      <td>0.0</td>\n      <td>0.0</td>\n      <td>0.0</td>\n      <td>0.0</td>\n      <td>0.0</td>\n      <td>0.0</td>\n      <td>0.0</td>\n      <td>0.0</td>\n      <td>0.0</td>\n      <td>0.0</td>\n      <td>0.0</td>\n      <td>0.0</td>\n      <td>0.0</td>\n      <td>0.0</td>\n      <td>0.0</td>\n      <td>0.0</td>\n      <td>0.0</td>\n      <td>0.0</td>\n      <td>0.0</td>\n      <td>0.0</td>\n      <td>0.000000</td>\n      <td>0.0</td>\n      <td>0.0</td>\n      <td>0.0</td>\n      <td>0.0</td>\n      <td>0.0</td>\n      <td>0.0</td>\n      <td>0.0</td>\n      <td>0.0</td>\n      <td>0.0</td>\n      <td>0.0</td>\n      <td>0.0</td>\n      <td>0.0</td>\n      <td>0.000000</td>\n      <td>0.0</td>\n      <td>0.0</td>\n      <td>0.0</td>\n      <td>0.0</td>\n      <td>0.0</td>\n      <td>0.0</td>\n      <td>0.0</td>\n      <td>0.0</td>\n      <td>0.0</td>\n      <td>0.000000</td>\n      <td>0.0</td>\n      <td>0.0</td>\n      <td>0.0</td>\n      <td>0.0</td>\n      <td>0.0</td>\n      <td>0.0</td>\n      <td>0.0</td>\n      <td>0.0</td>\n      <td>0.0</td>\n      <td>0.0</td>\n      <td>0.0</td>\n      <td>0.0</td>\n      <td>0.0</td>\n      <td>0.0</td>\n      <td>0.0</td>\n      <td>0.0</td>\n      <td>0.0</td>\n      <td>0.0</td>\n      <td>0.0</td>\n      <td>0.0</td>\n      <td>0.0</td>\n      <td>0.000000</td>\n      <td>0.0</td>\n      <td>0.0</td>\n      <td>0.0</td>\n      <td>0.0</td>\n      <td>0.0</td>\n      <td>0.0</td>\n      <td>0.0</td>\n      <td>0.0</td>\n      <td>0.0</td>\n      <td>0.0</td>\n      <td>0.0</td>\n      <td>0.0</td>\n      <td>0.0</td>\n      <td>0.0</td>\n      <td>0.0</td>\n      <td>0.0</td>\n      <td>0.0</td>\n      <td>0.0</td>\n      <td>0.0</td>\n      <td>0.0</td>\n      <td>0.0</td>\n      <td>0.0</td>\n      <td>0.0</td>\n      <td>0.0</td>\n      <td>0.0</td>\n      <td>0.0</td>\n      <td>0.0</td>\n      <td>0.0</td>\n      <td>0.0</td>\n      <td>0.0</td>\n      <td>0.0</td>\n      <td>0.0</td>\n      <td>0.0</td>\n      <td>0.0</td>\n      <td>0.0</td>\n      <td>0.0</td>\n      <td>0.0</td>\n      <td>0.0</td>\n      <td>0.0</td>\n      <td>0.0</td>\n      <td>0.0</td>\n      <td>0.0</td>\n      <td>0.0</td>\n      <td>0.0</td>\n      <td>0.0</td>\n      <td>0.0</td>\n      <td>0.0</td>\n      <td>0.0</td>\n      <td>0.0</td>\n      <td>0.0</td>\n      <td>0.0</td>\n      <td>0.0</td>\n      <td>0.0</td>\n      <td>0.0</td>\n      <td>0.0</td>\n      <td>0.0</td>\n      <td>0.0</td>\n      <td>0.0</td>\n      <td>0.0</td>\n      <td>0.0</td>\n      <td>0.0</td>\n      <td>0.0</td>\n      <td>0.0</td>\n      <td>0.0</td>\n      <td>0.0</td>\n      <td>0.0</td>\n      <td>0.0</td>\n      <td>0.0</td>\n      <td>0.0</td>\n      <td>0.0</td>\n      <td>0.0</td>\n      <td>0.0</td>\n      <td>0.0</td>\n      <td>0.0</td>\n      <td>0.0</td>\n      <td>0.0</td>\n      <td>0.0</td>\n      <td>0.0</td>\n      <td>0.0</td>\n      <td>0.0</td>\n      <td>0.0</td>\n      <td>0.0</td>\n      <td>0.0</td>\n      <td>0.0</td>\n      <td>0.000000</td>\n      <td>0.0</td>\n      <td>0.0</td>\n      <td>0.0</td>\n      <td>0.0</td>\n      <td>0.0</td>\n      <td>0.0</td>\n      <td>0.0</td>\n      <td>0.0</td>\n      <td>0.0</td>\n      <td>0.0</td>\n      <td>0.0</td>\n      <td>0.0</td>\n      <td>0.0</td>\n      <td>0.0</td>\n      <td>0.0</td>\n      <td>0.0</td>\n      <td>0.0</td>\n      <td>0.0</td>\n      <td>0.0</td>\n      <td>0.0</td>\n      <td>0.0</td>\n      <td>0.0</td>\n      <td>0.0</td>\n      <td>0.0</td>\n      <td>0.0</td>\n      <td>0.0</td>\n      <td>0.0</td>\n      <td>0.0</td>\n      <td>0.0</td>\n      <td>0.0</td>\n      <td>0.0</td>\n      <td>0.0</td>\n      <td>0.000000</td>\n      <td>0.0</td>\n      <td>0.0</td>\n      <td>0.0</td>\n      <td>0.0</td>\n      <td>0.0</td>\n      <td>0.0</td>\n      <td>0.0</td>\n      <td>0.0</td>\n      <td>0.0</td>\n      <td>0.0</td>\n      <td>0.0</td>\n      <td>0.0</td>\n      <td>0.0</td>\n      <td>0.0</td>\n      <td>0.0</td>\n      <td>0.0</td>\n      <td>0.0</td>\n      <td>0.0</td>\n      <td>0.0</td>\n      <td>0.186208</td>\n      <td>0.0</td>\n      <td>0.0</td>\n      <td>0.0</td>\n      <td>0.0</td>\n      <td>0.000000</td>\n      <td>0.0</td>\n      <td>0.000000</td>\n      <td>0.0</td>\n      <td>0.0</td>\n      <td>0.0</td>\n      <td>0.0</td>\n      <td>0.0</td>\n      <td>0.0</td>\n      <td>0.0</td>\n      <td>0.0</td>\n      <td>0.0</td>\n      <td>0.0</td>\n      <td>0.0</td>\n      <td>0.0</td>\n      <td>0.0</td>\n      <td>0.0</td>\n      <td>0.0</td>\n      <td>0.0</td>\n      <td>0.0</td>\n      <td>0.0</td>\n      <td>0.0</td>\n      <td>0.0</td>\n      <td>0.0</td>\n      <td>0.0</td>\n      <td>0.0</td>\n      <td>0.0</td>\n      <td>0.0</td>\n      <td>0.0</td>\n      <td>0.0</td>\n      <td>0.0</td>\n    </tr>\n    <tr>\n      <th>3</th>\n      <td>0.0</td>\n      <td>0.0</td>\n      <td>0.000000</td>\n      <td>0.0</td>\n      <td>0.0</td>\n      <td>0.0</td>\n      <td>0.0</td>\n      <td>0.0</td>\n      <td>0.0</td>\n      <td>0.0</td>\n      <td>0.0</td>\n      <td>0.0</td>\n      <td>0.0</td>\n      <td>0.00000</td>\n      <td>0.0</td>\n      <td>0.0</td>\n      <td>0.0</td>\n      <td>0.0</td>\n      <td>0.0</td>\n      <td>0.0</td>\n      <td>0.0</td>\n      <td>0.0</td>\n      <td>0.0</td>\n      <td>0.0</td>\n      <td>0.0</td>\n      <td>0.0</td>\n      <td>0.0</td>\n      <td>0.0</td>\n      <td>0.0</td>\n      <td>0.0</td>\n      <td>0.0</td>\n      <td>0.0</td>\n      <td>0.0</td>\n      <td>0.0</td>\n      <td>0.0</td>\n      <td>0.0</td>\n      <td>0.0</td>\n      <td>0.0</td>\n      <td>0.0</td>\n      <td>0.0</td>\n      <td>0.0</td>\n      <td>0.0</td>\n      <td>0.0</td>\n      <td>0.0</td>\n      <td>0.0</td>\n      <td>0.0</td>\n      <td>0.0</td>\n      <td>0.0</td>\n      <td>0.0</td>\n      <td>0.0</td>\n      <td>0.0</td>\n      <td>0.0</td>\n      <td>0.0</td>\n      <td>0.0</td>\n      <td>0.0</td>\n      <td>0.0</td>\n      <td>0.0</td>\n      <td>0.0</td>\n      <td>0.0</td>\n      <td>0.0</td>\n      <td>0.0</td>\n      <td>0.0</td>\n      <td>0.0</td>\n      <td>0.000000</td>\n      <td>0.0</td>\n      <td>0.0</td>\n      <td>0.0</td>\n      <td>0.0</td>\n      <td>0.0</td>\n      <td>0.0</td>\n      <td>0.0</td>\n      <td>0.0</td>\n      <td>0.0</td>\n      <td>0.0</td>\n      <td>0.0</td>\n      <td>0.0</td>\n      <td>0.0</td>\n      <td>0.0</td>\n      <td>0.0</td>\n      <td>0.0</td>\n      <td>0.0</td>\n      <td>0.0</td>\n      <td>0.0</td>\n      <td>0.0</td>\n      <td>0.0</td>\n      <td>0.0</td>\n      <td>0.0</td>\n      <td>0.0</td>\n      <td>0.0</td>\n      <td>0.0</td>\n      <td>0.0</td>\n      <td>0.0</td>\n      <td>0.0</td>\n      <td>0.0</td>\n      <td>0.0</td>\n      <td>0.0</td>\n      <td>0.0</td>\n      <td>0.0</td>\n      <td>0.0</td>\n      <td>0.0</td>\n      <td>0.0</td>\n      <td>0.0</td>\n      <td>0.0</td>\n      <td>0.0</td>\n      <td>0.0</td>\n      <td>0.0</td>\n      <td>0.0</td>\n      <td>0.0</td>\n      <td>0.000000</td>\n      <td>0.0</td>\n      <td>0.000000</td>\n      <td>0.0</td>\n      <td>0.0</td>\n      <td>0.0</td>\n      <td>0.0</td>\n      <td>0.0</td>\n      <td>0.0</td>\n      <td>0.0</td>\n      <td>0.0</td>\n      <td>0.0</td>\n      <td>0.0</td>\n      <td>0.0</td>\n      <td>0.0</td>\n      <td>0.0</td>\n      <td>0.0</td>\n      <td>0.0</td>\n      <td>0.0</td>\n      <td>0.0</td>\n      <td>0.0</td>\n      <td>0.0</td>\n      <td>0.0</td>\n      <td>0.0</td>\n      <td>0.0</td>\n      <td>0.0</td>\n      <td>0.0</td>\n      <td>0.0</td>\n      <td>0.0</td>\n      <td>0.0</td>\n      <td>0.0</td>\n      <td>0.0</td>\n      <td>0.0</td>\n      <td>0.0</td>\n      <td>0.0</td>\n      <td>0.0</td>\n      <td>0.0</td>\n      <td>0.0</td>\n      <td>0.0</td>\n      <td>0.0</td>\n      <td>0.0</td>\n      <td>0.0</td>\n      <td>0.0</td>\n      <td>0.0</td>\n      <td>0.0</td>\n      <td>0.0</td>\n      <td>0.0</td>\n      <td>0.0</td>\n      <td>0.0</td>\n      <td>0.0</td>\n      <td>0.0</td>\n      <td>0.0</td>\n      <td>0.0</td>\n      <td>0.0</td>\n      <td>0.0</td>\n      <td>0.0</td>\n      <td>0.0</td>\n      <td>0.0</td>\n      <td>0.0</td>\n      <td>0.0</td>\n      <td>0.0</td>\n      <td>0.0</td>\n      <td>0.0</td>\n      <td>0.0</td>\n      <td>0.0</td>\n      <td>0.0</td>\n      <td>0.0</td>\n      <td>0.0</td>\n      <td>0.0</td>\n      <td>0.0</td>\n      <td>0.0</td>\n      <td>0.0</td>\n      <td>0.0</td>\n      <td>0.0</td>\n      <td>0.0</td>\n      <td>0.0</td>\n      <td>0.0</td>\n      <td>0.0</td>\n      <td>0.0</td>\n      <td>0.0</td>\n      <td>0.0</td>\n      <td>0.0</td>\n      <td>0.0</td>\n      <td>0.0</td>\n      <td>0.0</td>\n      <td>0.0</td>\n      <td>0.0</td>\n      <td>0.0</td>\n      <td>0.0</td>\n      <td>0.0</td>\n      <td>0.0</td>\n      <td>0.0</td>\n      <td>0.0</td>\n      <td>0.0</td>\n      <td>0.0</td>\n      <td>0.0</td>\n      <td>0.0</td>\n      <td>0.0</td>\n      <td>0.0</td>\n      <td>0.0</td>\n      <td>0.0</td>\n      <td>0.0</td>\n      <td>0.0</td>\n      <td>0.0</td>\n      <td>0.0</td>\n      <td>0.0</td>\n      <td>0.0</td>\n      <td>0.0</td>\n      <td>0.0</td>\n      <td>0.0</td>\n      <td>0.0</td>\n      <td>0.0</td>\n      <td>0.0</td>\n      <td>0.0</td>\n      <td>0.0</td>\n      <td>0.0</td>\n      <td>0.0</td>\n      <td>0.0</td>\n      <td>0.0</td>\n      <td>0.0</td>\n      <td>0.0</td>\n      <td>0.0</td>\n      <td>0.0</td>\n      <td>0.0</td>\n      <td>0.0</td>\n      <td>0.0</td>\n      <td>0.0</td>\n      <td>0.0</td>\n      <td>0.0</td>\n      <td>0.0</td>\n      <td>0.0</td>\n      <td>0.0</td>\n      <td>0.0</td>\n      <td>0.0</td>\n      <td>0.0</td>\n      <td>0.0</td>\n      <td>0.0</td>\n      <td>0.0</td>\n      <td>0.0</td>\n      <td>0.0</td>\n      <td>0.0</td>\n      <td>0.0</td>\n      <td>...</td>\n      <td>0.0</td>\n      <td>0.0</td>\n      <td>0.0</td>\n      <td>0.0</td>\n      <td>0.000000</td>\n      <td>0.0</td>\n      <td>0.0</td>\n      <td>0.0</td>\n      <td>0.000000</td>\n      <td>0.0</td>\n      <td>0.0</td>\n      <td>0.0</td>\n      <td>0.0</td>\n      <td>0.0</td>\n      <td>0.0</td>\n      <td>0.0</td>\n      <td>0.0</td>\n      <td>0.0</td>\n      <td>0.0</td>\n      <td>0.0</td>\n      <td>0.0</td>\n      <td>0.0</td>\n      <td>0.0</td>\n      <td>0.0</td>\n      <td>0.0</td>\n      <td>0.0</td>\n      <td>0.0</td>\n      <td>0.0</td>\n      <td>0.0</td>\n      <td>0.0</td>\n      <td>0.0</td>\n      <td>0.332171</td>\n      <td>0.0</td>\n      <td>0.0</td>\n      <td>0.0</td>\n      <td>0.0</td>\n      <td>0.0</td>\n      <td>0.0</td>\n      <td>0.0</td>\n      <td>0.0</td>\n      <td>0.0</td>\n      <td>0.0</td>\n      <td>0.0</td>\n      <td>0.0</td>\n      <td>0.000000</td>\n      <td>0.0</td>\n      <td>0.0</td>\n      <td>0.0</td>\n      <td>0.0</td>\n      <td>0.0</td>\n      <td>0.0</td>\n      <td>0.0</td>\n      <td>0.0</td>\n      <td>0.0</td>\n      <td>0.000000</td>\n      <td>0.0</td>\n      <td>0.0</td>\n      <td>0.0</td>\n      <td>0.0</td>\n      <td>0.0</td>\n      <td>0.0</td>\n      <td>0.0</td>\n      <td>0.0</td>\n      <td>0.0</td>\n      <td>0.0</td>\n      <td>0.0</td>\n      <td>0.0</td>\n      <td>0.0</td>\n      <td>0.0</td>\n      <td>0.0</td>\n      <td>0.0</td>\n      <td>0.0</td>\n      <td>0.0</td>\n      <td>0.0</td>\n      <td>0.0</td>\n      <td>0.0</td>\n      <td>0.000000</td>\n      <td>0.0</td>\n      <td>0.0</td>\n      <td>0.0</td>\n      <td>0.0</td>\n      <td>0.0</td>\n      <td>0.0</td>\n      <td>0.0</td>\n      <td>0.0</td>\n      <td>0.0</td>\n      <td>0.0</td>\n      <td>0.0</td>\n      <td>0.0</td>\n      <td>0.0</td>\n      <td>0.0</td>\n      <td>0.0</td>\n      <td>0.0</td>\n      <td>0.0</td>\n      <td>0.0</td>\n      <td>0.0</td>\n      <td>0.0</td>\n      <td>0.0</td>\n      <td>0.0</td>\n      <td>0.0</td>\n      <td>0.0</td>\n      <td>0.0</td>\n      <td>0.0</td>\n      <td>0.0</td>\n      <td>0.0</td>\n      <td>0.0</td>\n      <td>0.0</td>\n      <td>0.0</td>\n      <td>0.0</td>\n      <td>0.0</td>\n      <td>0.0</td>\n      <td>0.0</td>\n      <td>0.0</td>\n      <td>0.0</td>\n      <td>0.0</td>\n      <td>0.0</td>\n      <td>0.0</td>\n      <td>0.0</td>\n      <td>0.0</td>\n      <td>0.0</td>\n      <td>0.0</td>\n      <td>0.0</td>\n      <td>0.0</td>\n      <td>0.0</td>\n      <td>0.0</td>\n      <td>0.0</td>\n      <td>0.0</td>\n      <td>0.0</td>\n      <td>0.0</td>\n      <td>0.0</td>\n      <td>0.0</td>\n      <td>0.0</td>\n      <td>0.0</td>\n      <td>0.0</td>\n      <td>0.0</td>\n      <td>0.0</td>\n      <td>0.0</td>\n      <td>0.0</td>\n      <td>0.0</td>\n      <td>0.0</td>\n      <td>0.0</td>\n      <td>0.0</td>\n      <td>0.0</td>\n      <td>0.0</td>\n      <td>0.0</td>\n      <td>0.0</td>\n      <td>0.0</td>\n      <td>0.0</td>\n      <td>0.0</td>\n      <td>0.0</td>\n      <td>0.0</td>\n      <td>0.0</td>\n      <td>0.0</td>\n      <td>0.0</td>\n      <td>0.0</td>\n      <td>0.0</td>\n      <td>0.0</td>\n      <td>0.0</td>\n      <td>0.0</td>\n      <td>0.0</td>\n      <td>0.0</td>\n      <td>0.236563</td>\n      <td>0.0</td>\n      <td>0.0</td>\n      <td>0.0</td>\n      <td>0.0</td>\n      <td>0.0</td>\n      <td>0.0</td>\n      <td>0.0</td>\n      <td>0.0</td>\n      <td>0.0</td>\n      <td>0.0</td>\n      <td>0.0</td>\n      <td>0.0</td>\n      <td>0.0</td>\n      <td>0.0</td>\n      <td>0.0</td>\n      <td>0.0</td>\n      <td>0.0</td>\n      <td>0.0</td>\n      <td>0.0</td>\n      <td>0.0</td>\n      <td>0.0</td>\n      <td>0.0</td>\n      <td>0.0</td>\n      <td>0.0</td>\n      <td>0.0</td>\n      <td>0.0</td>\n      <td>0.0</td>\n      <td>0.0</td>\n      <td>0.0</td>\n      <td>0.0</td>\n      <td>0.0</td>\n      <td>0.0</td>\n      <td>0.000000</td>\n      <td>0.0</td>\n      <td>0.0</td>\n      <td>0.0</td>\n      <td>0.0</td>\n      <td>0.0</td>\n      <td>0.0</td>\n      <td>0.0</td>\n      <td>0.0</td>\n      <td>0.0</td>\n      <td>0.0</td>\n      <td>0.0</td>\n      <td>0.0</td>\n      <td>0.0</td>\n      <td>0.0</td>\n      <td>0.0</td>\n      <td>0.0</td>\n      <td>0.0</td>\n      <td>0.0</td>\n      <td>0.0</td>\n      <td>0.000000</td>\n      <td>0.0</td>\n      <td>0.0</td>\n      <td>0.0</td>\n      <td>0.0</td>\n      <td>0.000000</td>\n      <td>0.0</td>\n      <td>0.000000</td>\n      <td>0.0</td>\n      <td>0.0</td>\n      <td>0.0</td>\n      <td>0.0</td>\n      <td>0.0</td>\n      <td>0.0</td>\n      <td>0.0</td>\n      <td>0.0</td>\n      <td>0.0</td>\n      <td>0.0</td>\n      <td>0.0</td>\n      <td>0.0</td>\n      <td>0.0</td>\n      <td>0.0</td>\n      <td>0.0</td>\n      <td>0.0</td>\n      <td>0.0</td>\n      <td>0.0</td>\n      <td>0.0</td>\n      <td>0.0</td>\n      <td>0.0</td>\n      <td>0.0</td>\n      <td>0.0</td>\n      <td>0.0</td>\n      <td>0.0</td>\n      <td>0.0</td>\n      <td>0.0</td>\n      <td>0.0</td>\n    </tr>\n    <tr>\n      <th>4</th>\n      <td>0.0</td>\n      <td>0.0</td>\n      <td>0.000000</td>\n      <td>0.0</td>\n      <td>0.0</td>\n      <td>0.0</td>\n      <td>0.0</td>\n      <td>0.0</td>\n      <td>0.0</td>\n      <td>0.0</td>\n      <td>0.0</td>\n      <td>0.0</td>\n      <td>0.0</td>\n      <td>0.13473</td>\n      <td>0.0</td>\n      <td>0.0</td>\n      <td>0.0</td>\n      <td>0.0</td>\n      <td>0.0</td>\n      <td>0.0</td>\n      <td>0.0</td>\n      <td>0.0</td>\n      <td>0.0</td>\n      <td>0.0</td>\n      <td>0.0</td>\n      <td>0.0</td>\n      <td>0.0</td>\n      <td>0.0</td>\n      <td>0.0</td>\n      <td>0.0</td>\n      <td>0.0</td>\n      <td>0.0</td>\n      <td>0.0</td>\n      <td>0.0</td>\n      <td>0.0</td>\n      <td>0.0</td>\n      <td>0.0</td>\n      <td>0.0</td>\n      <td>0.0</td>\n      <td>0.0</td>\n      <td>0.0</td>\n      <td>0.0</td>\n      <td>0.0</td>\n      <td>0.0</td>\n      <td>0.0</td>\n      <td>0.0</td>\n      <td>0.0</td>\n      <td>0.0</td>\n      <td>0.0</td>\n      <td>0.0</td>\n      <td>0.0</td>\n      <td>0.0</td>\n      <td>0.0</td>\n      <td>0.0</td>\n      <td>0.0</td>\n      <td>0.0</td>\n      <td>0.0</td>\n      <td>0.0</td>\n      <td>0.0</td>\n      <td>0.0</td>\n      <td>0.0</td>\n      <td>0.0</td>\n      <td>0.0</td>\n      <td>0.264564</td>\n      <td>0.0</td>\n      <td>0.0</td>\n      <td>0.0</td>\n      <td>0.0</td>\n      <td>0.0</td>\n      <td>0.0</td>\n      <td>0.0</td>\n      <td>0.0</td>\n      <td>0.0</td>\n      <td>0.0</td>\n      <td>0.0</td>\n      <td>0.0</td>\n      <td>0.0</td>\n      <td>0.0</td>\n      <td>0.0</td>\n      <td>0.0</td>\n      <td>0.0</td>\n      <td>0.0</td>\n      <td>0.0</td>\n      <td>0.0</td>\n      <td>0.0</td>\n      <td>0.0</td>\n      <td>0.0</td>\n      <td>0.0</td>\n      <td>0.0</td>\n      <td>0.0</td>\n      <td>0.0</td>\n      <td>0.0</td>\n      <td>0.0</td>\n      <td>0.0</td>\n      <td>0.0</td>\n      <td>0.0</td>\n      <td>0.0</td>\n      <td>0.0</td>\n      <td>0.0</td>\n      <td>0.0</td>\n      <td>0.0</td>\n      <td>0.0</td>\n      <td>0.0</td>\n      <td>0.0</td>\n      <td>0.0</td>\n      <td>0.0</td>\n      <td>0.0</td>\n      <td>0.0</td>\n      <td>0.000000</td>\n      <td>0.0</td>\n      <td>0.000000</td>\n      <td>0.0</td>\n      <td>0.0</td>\n      <td>0.0</td>\n      <td>0.0</td>\n      <td>0.0</td>\n      <td>0.0</td>\n      <td>0.0</td>\n      <td>0.0</td>\n      <td>0.0</td>\n      <td>0.0</td>\n      <td>0.0</td>\n      <td>0.0</td>\n      <td>0.0</td>\n      <td>0.0</td>\n      <td>0.0</td>\n      <td>0.0</td>\n      <td>0.0</td>\n      <td>0.0</td>\n      <td>0.0</td>\n      <td>0.0</td>\n      <td>0.0</td>\n      <td>0.0</td>\n      <td>0.0</td>\n      <td>0.0</td>\n      <td>0.0</td>\n      <td>0.0</td>\n      <td>0.0</td>\n      <td>0.0</td>\n      <td>0.0</td>\n      <td>0.0</td>\n      <td>0.0</td>\n      <td>0.0</td>\n      <td>0.0</td>\n      <td>0.0</td>\n      <td>0.0</td>\n      <td>0.0</td>\n      <td>0.0</td>\n      <td>0.0</td>\n      <td>0.0</td>\n      <td>0.0</td>\n      <td>0.0</td>\n      <td>0.0</td>\n      <td>0.0</td>\n      <td>0.0</td>\n      <td>0.0</td>\n      <td>0.0</td>\n      <td>0.0</td>\n      <td>0.0</td>\n      <td>0.0</td>\n      <td>0.0</td>\n      <td>0.0</td>\n      <td>0.0</td>\n      <td>0.0</td>\n      <td>0.0</td>\n      <td>0.0</td>\n      <td>0.0</td>\n      <td>0.0</td>\n      <td>0.0</td>\n      <td>0.0</td>\n      <td>0.0</td>\n      <td>0.0</td>\n      <td>0.0</td>\n      <td>0.0</td>\n      <td>0.0</td>\n      <td>0.0</td>\n      <td>0.0</td>\n      <td>0.0</td>\n      <td>0.0</td>\n      <td>0.0</td>\n      <td>0.0</td>\n      <td>0.0</td>\n      <td>0.0</td>\n      <td>0.0</td>\n      <td>0.0</td>\n      <td>0.0</td>\n      <td>0.0</td>\n      <td>0.0</td>\n      <td>0.0</td>\n      <td>0.0</td>\n      <td>0.0</td>\n      <td>0.0</td>\n      <td>0.0</td>\n      <td>0.0</td>\n      <td>0.0</td>\n      <td>0.0</td>\n      <td>0.0</td>\n      <td>0.0</td>\n      <td>0.0</td>\n      <td>0.0</td>\n      <td>0.0</td>\n      <td>0.0</td>\n      <td>0.0</td>\n      <td>0.0</td>\n      <td>0.0</td>\n      <td>0.0</td>\n      <td>0.0</td>\n      <td>0.0</td>\n      <td>0.0</td>\n      <td>0.0</td>\n      <td>0.0</td>\n      <td>0.0</td>\n      <td>0.0</td>\n      <td>0.0</td>\n      <td>0.0</td>\n      <td>0.0</td>\n      <td>0.0</td>\n      <td>0.0</td>\n      <td>0.0</td>\n      <td>0.0</td>\n      <td>0.0</td>\n      <td>0.0</td>\n      <td>0.0</td>\n      <td>0.0</td>\n      <td>0.0</td>\n      <td>0.0</td>\n      <td>0.0</td>\n      <td>0.0</td>\n      <td>0.0</td>\n      <td>0.0</td>\n      <td>0.0</td>\n      <td>0.0</td>\n      <td>0.0</td>\n      <td>0.0</td>\n      <td>0.0</td>\n      <td>0.0</td>\n      <td>0.0</td>\n      <td>0.0</td>\n      <td>0.0</td>\n      <td>0.0</td>\n      <td>0.0</td>\n      <td>0.0</td>\n      <td>0.0</td>\n      <td>0.0</td>\n      <td>0.0</td>\n      <td>0.0</td>\n      <td>0.0</td>\n      <td>0.0</td>\n      <td>0.0</td>\n      <td>0.0</td>\n      <td>...</td>\n      <td>0.0</td>\n      <td>0.0</td>\n      <td>0.0</td>\n      <td>0.0</td>\n      <td>0.000000</td>\n      <td>0.0</td>\n      <td>0.0</td>\n      <td>0.0</td>\n      <td>0.282965</td>\n      <td>0.0</td>\n      <td>0.0</td>\n      <td>0.0</td>\n      <td>0.0</td>\n      <td>0.0</td>\n      <td>0.0</td>\n      <td>0.0</td>\n      <td>0.0</td>\n      <td>0.0</td>\n      <td>0.0</td>\n      <td>0.0</td>\n      <td>0.0</td>\n      <td>0.0</td>\n      <td>0.0</td>\n      <td>0.0</td>\n      <td>0.0</td>\n      <td>0.0</td>\n      <td>0.0</td>\n      <td>0.0</td>\n      <td>0.0</td>\n      <td>0.0</td>\n      <td>0.0</td>\n      <td>0.000000</td>\n      <td>0.0</td>\n      <td>0.0</td>\n      <td>0.0</td>\n      <td>0.0</td>\n      <td>0.0</td>\n      <td>0.0</td>\n      <td>0.0</td>\n      <td>0.0</td>\n      <td>0.0</td>\n      <td>0.0</td>\n      <td>0.0</td>\n      <td>0.0</td>\n      <td>0.000000</td>\n      <td>0.0</td>\n      <td>0.0</td>\n      <td>0.0</td>\n      <td>0.0</td>\n      <td>0.0</td>\n      <td>0.0</td>\n      <td>0.0</td>\n      <td>0.0</td>\n      <td>0.0</td>\n      <td>0.174833</td>\n      <td>0.0</td>\n      <td>0.0</td>\n      <td>0.0</td>\n      <td>0.0</td>\n      <td>0.0</td>\n      <td>0.0</td>\n      <td>0.0</td>\n      <td>0.0</td>\n      <td>0.0</td>\n      <td>0.0</td>\n      <td>0.0</td>\n      <td>0.0</td>\n      <td>0.0</td>\n      <td>0.0</td>\n      <td>0.0</td>\n      <td>0.0</td>\n      <td>0.0</td>\n      <td>0.0</td>\n      <td>0.0</td>\n      <td>0.0</td>\n      <td>0.0</td>\n      <td>0.279508</td>\n      <td>0.0</td>\n      <td>0.0</td>\n      <td>0.0</td>\n      <td>0.0</td>\n      <td>0.0</td>\n      <td>0.0</td>\n      <td>0.0</td>\n      <td>0.0</td>\n      <td>0.0</td>\n      <td>0.0</td>\n      <td>0.0</td>\n      <td>0.0</td>\n      <td>0.0</td>\n      <td>0.0</td>\n      <td>0.0</td>\n      <td>0.0</td>\n      <td>0.0</td>\n      <td>0.0</td>\n      <td>0.0</td>\n      <td>0.0</td>\n      <td>0.0</td>\n      <td>0.0</td>\n      <td>0.0</td>\n      <td>0.0</td>\n      <td>0.0</td>\n      <td>0.0</td>\n      <td>0.0</td>\n      <td>0.0</td>\n      <td>0.0</td>\n      <td>0.0</td>\n      <td>0.0</td>\n      <td>0.0</td>\n      <td>0.0</td>\n      <td>0.0</td>\n      <td>0.0</td>\n      <td>0.0</td>\n      <td>0.0</td>\n      <td>0.0</td>\n      <td>0.0</td>\n      <td>0.0</td>\n      <td>0.0</td>\n      <td>0.0</td>\n      <td>0.0</td>\n      <td>0.0</td>\n      <td>0.0</td>\n      <td>0.0</td>\n      <td>0.0</td>\n      <td>0.0</td>\n      <td>0.0</td>\n      <td>0.0</td>\n      <td>0.0</td>\n      <td>0.0</td>\n      <td>0.0</td>\n      <td>0.0</td>\n      <td>0.0</td>\n      <td>0.0</td>\n      <td>0.0</td>\n      <td>0.0</td>\n      <td>0.0</td>\n      <td>0.0</td>\n      <td>0.0</td>\n      <td>0.0</td>\n      <td>0.0</td>\n      <td>0.0</td>\n      <td>0.0</td>\n      <td>0.0</td>\n      <td>0.0</td>\n      <td>0.0</td>\n      <td>0.0</td>\n      <td>0.0</td>\n      <td>0.0</td>\n      <td>0.0</td>\n      <td>0.0</td>\n      <td>0.0</td>\n      <td>0.0</td>\n      <td>0.0</td>\n      <td>0.0</td>\n      <td>0.0</td>\n      <td>0.0</td>\n      <td>0.0</td>\n      <td>0.0</td>\n      <td>0.0</td>\n      <td>0.0</td>\n      <td>0.0</td>\n      <td>0.000000</td>\n      <td>0.0</td>\n      <td>0.0</td>\n      <td>0.0</td>\n      <td>0.0</td>\n      <td>0.0</td>\n      <td>0.0</td>\n      <td>0.0</td>\n      <td>0.0</td>\n      <td>0.0</td>\n      <td>0.0</td>\n      <td>0.0</td>\n      <td>0.0</td>\n      <td>0.0</td>\n      <td>0.0</td>\n      <td>0.0</td>\n      <td>0.0</td>\n      <td>0.0</td>\n      <td>0.0</td>\n      <td>0.0</td>\n      <td>0.0</td>\n      <td>0.0</td>\n      <td>0.0</td>\n      <td>0.0</td>\n      <td>0.0</td>\n      <td>0.0</td>\n      <td>0.0</td>\n      <td>0.0</td>\n      <td>0.0</td>\n      <td>0.0</td>\n      <td>0.0</td>\n      <td>0.0</td>\n      <td>0.0</td>\n      <td>0.000000</td>\n      <td>0.0</td>\n      <td>0.0</td>\n      <td>0.0</td>\n      <td>0.0</td>\n      <td>0.0</td>\n      <td>0.0</td>\n      <td>0.0</td>\n      <td>0.0</td>\n      <td>0.0</td>\n      <td>0.0</td>\n      <td>0.0</td>\n      <td>0.0</td>\n      <td>0.0</td>\n      <td>0.0</td>\n      <td>0.0</td>\n      <td>0.0</td>\n      <td>0.0</td>\n      <td>0.0</td>\n      <td>0.0</td>\n      <td>0.000000</td>\n      <td>0.0</td>\n      <td>0.0</td>\n      <td>0.0</td>\n      <td>0.0</td>\n      <td>0.000000</td>\n      <td>0.0</td>\n      <td>0.000000</td>\n      <td>0.0</td>\n      <td>0.0</td>\n      <td>0.0</td>\n      <td>0.0</td>\n      <td>0.0</td>\n      <td>0.0</td>\n      <td>0.0</td>\n      <td>0.0</td>\n      <td>0.0</td>\n      <td>0.0</td>\n      <td>0.0</td>\n      <td>0.0</td>\n      <td>0.0</td>\n      <td>0.0</td>\n      <td>0.0</td>\n      <td>0.0</td>\n      <td>0.0</td>\n      <td>0.0</td>\n      <td>0.0</td>\n      <td>0.0</td>\n      <td>0.0</td>\n      <td>0.0</td>\n      <td>0.0</td>\n      <td>0.0</td>\n      <td>0.0</td>\n      <td>0.0</td>\n      <td>0.0</td>\n      <td>0.0</td>\n    </tr>\n  </tbody>\n</table>\n<p>5 rows × 2000 columns</p>\n</div>"
     },
     "metadata": {},
     "output_type": "display_data"
    }
   ],
   "source": [
    "# Create dataframes with the sparse matrices\n",
    "\n",
    "df_tfidf_tweets_train = pd.DataFrame(tfidf_tweets_train.todense())    # <---  It is used to convert a sparse matrix into a dense matrix.  In a dense matrix, all values are stored, including the zeros, which can consume a lot more memory. The resulting dense matrix is a regular 2D array where all the cells are explicitly represented.\n",
    "display(df_tfidf_tweets_train.head())\n",
    "df_tfidf_tweets_test = pd.DataFrame(tfidf_tweets_test.todense())\n",
    "display(df_tfidf_tweets_test.head())"
   ],
   "metadata": {
    "collapsed": false,
    "ExecuteTime": {
     "end_time": "2023-10-17T17:29:37.540366900Z",
     "start_time": "2023-10-17T17:29:36.883773100Z"
    }
   }
  },
  {
   "cell_type": "markdown",
   "source": [
    "## <a id='4-2'>4.2 DISTRIBUTED TEXT REPRESENTATION</a>"
   ],
   "metadata": {
    "collapsed": false
   }
  },
  {
   "cell_type": "markdown",
   "source": [
    "<u> <b> Important Notes about Word Embedding models </b> </u>\n",
    "\n",
    "1. All text representations are inherently biased based on what they saw in training data. For example, an embedding model trained heavily on technology news or articles is likely to identify Apple as being closer to, say, Microsoft or Facebook than to an orange or pear.\n",
    "2. Unlike the basic vectorization approaches, pre-trained embeddings are generally large-sized files (several gigabytes), which may pose problems in certain deployment scenarios. This is something we need to address while using them, otherwise it can become an engineering bottleneck in performance. The Word2vec model takes ~4.5 GB RAM."
   ],
   "metadata": {
    "collapsed": false
   }
  },
  {
   "cell_type": "markdown",
   "source": [
    "### <a id='4-2-1'>4.2.1 Word2vec Word Embeddings</a>\n",
    "\n",
    "**Word Vector**: word vectors put words to a nice vector space, where similar words cluster together and different words repel."
   ],
   "metadata": {
    "collapsed": false
   }
  },
  {
   "cell_type": "markdown",
   "source": [
    "### **Continuous Bag of Words (CBOW)**\n",
    "\n",
    "**Continuous Bag of Words (CBOW)** is a word embedding model and one of the two architectures used in the Word2Vec framework. CBOW **aims to predict the target word based on its context, which is formed by the surrounding words in a given text**.\n",
    "\n",
    "CBOW is particularly useful when you have a large amount of training data and you want to generate word embeddings that capture syntactic and semantic relationships between words. It is computationally efficient and can be trained on large datasets.\n",
    "\n",
    "**DETAILED EXPLANATION**\n",
    "**Objective**:\n",
    "- The primary goal of CBOW is **to learn distributed representations** (**vectors**) of words. *These representations are continuous and capture semantic relationships between words*.\n",
    "\n",
    "**Architecture**:\n",
    "- **CBOW is a shallow neural network model with one hidden layer**. It has *an input layer*, *a projection layer* (hidden layer), and *an output layer*. **The input and output layers have the same number of neurons, which is equal to the size of the vocabulary**.\n",
    "![CBoW](figures/CBoW.png)\n",
    "\n",
    "**Input**:\n",
    "- The input to the CBOW model is a **set of context words** (surrounding words) that are used to predict a target word. *The number of context words is determined by a fixed-size window around the target word*.\n",
    "\n",
    "**Output**:\n",
    "- The output layer of CBOW **predicts the probability distribution of the target word given the context words**.\n",
    "\n",
    "**Word Vectors**:\n",
    "- **The weights of the projection layer serve as the word vectors** (also called word embeddings). These vectors are what CBOW is primarily interested in.\n",
    "\n",
    "**Training Process**:\n",
    "- During training, **the model is presented with pairs of context words and their corresponding target words**. The *weights of the neural network are adjusted using techniques like backpropagation and gradient descent to minimize the prediction error*.\n",
    "\n",
    "**Context Window**:\n",
    "- The context window **determines the number of words to consider on either side of the target word**. For example, with a context window of 2, if the target word is in the middle, the model considers 2 words to the left and 2 words to the right.\n",
    "\n",
    "**Word Probability**:\n",
    "- The output of the model is a probability distribution over the entire vocabulary. Each element of the output vector represents the **probability of a specific word being the target word given the context**.\n",
    "\n",
    "**Loss Function**:\n",
    "- The loss function used in CBOW is typically a **softmax function**, which **measures the difference between predicted probabilities and actual labels**.\n",
    "\n",
    "**Word Similarity**:\n",
    "- After training, **words with similar meanings tend to have similar vector representations**. This means that the vectors for semantically similar words will be located close to each other in the vector space.\n",
    "\n",
    "----\n",
    "\n",
    "**<span style=\"color:red\"> Illustrated example of CBoW (taken from [Here](https://pyimagesearch.com/2022/07/11/word2vec-a-study-of-embeddings-in-nlp/) </span>**\n",
    "\n",
    "CBoW is a technique where, given the neighboring words, the center word is determined.\n",
    "\n",
    "Consider the sentence: *I am reading the book*\n",
    "- then, the input pairs and labels for a window size of 3 would be:\n",
    "    - *I*, *reading*, for the label *am*\n",
    "    - *am*, *the*, for the label *reading*\n",
    "    - *reading*, *book*, for the label *the*\n",
    "- The figure shows the sketch of the example:\n",
    "![CBoWexample](figures/cbow_example.png)\n",
    "- Assume that the sentence is the complete input, then the vocabulary size is 5.\n",
    "- Assume there are 3 embedding dimensions for simplicity\n",
    "- Consider the example of the input - label pair of (*I, reading*) *-* (*am*)\n",
    "    1. We start with the one-hot encodings of *I* and *reading* (shape $1x5$),\n",
    "    2. We multiply those encodings with an encoding matrix of shape $5x3$, and we obtain a $1x3$ hidden layer.\n",
    "    3. We multiply the hidden layer by a $3x5$ decoding matrix, and we obtain a prediction of a $1x5$ shape.\n",
    "\n",
    "---\n",
    "**<span style=\"color:red\"> Another detailed example and further explanation can be found in this Kaggle [Notebook](https://www.kaggle.com/code/nkitgupta/text-representations) </span>**"
   ],
   "metadata": {
    "collapsed": false
   }
  },
  {
   "cell_type": "markdown",
   "source": [
    "### **Example of implementation of CBoW**"
   ],
   "metadata": {
    "collapsed": false
   }
  },
  {
   "cell_type": "markdown",
   "source": [
    "One of the most commonly used implementations is with **gensim**. We have to choose several hyperparameters"
   ],
   "metadata": {
    "collapsed": false
   }
  },
  {
   "cell_type": "markdown",
   "source": [
    "**`KeyedVectors`**: Class from the `gensim.models` module that provides an interface for working with word vectors or embeddings"
   ],
   "metadata": {
    "collapsed": false
   }
  },
  {
   "cell_type": "code",
   "execution_count": 58,
   "outputs": [
    {
     "name": "stdout",
     "output_type": "stream",
     "text": [
      "Sentences on which we are gonna train our CBOW Word2Vec model:\n",
      "\n",
      "[['human', 'interface', 'computer'], ['survey', 'user', 'computer', 'system', 'response', 'time'], ['eps', 'user', 'interface', 'system'], ['system', 'human', 'system', 'eps'], ['user', 'response', 'time'], ['trees'], ['graph', 'trees'], ['graph', 'minors', 'trees'], ['graph', 'minors', 'survey']]\n",
      "Model Saved\n"
     ]
    }
   ],
   "source": [
    "import gensim\n",
    "from gensim.test.utils import common_texts         # It imports a set of common example texts provided by Gensim. These texts are used as a sample corpus to train the Word2Vec model.\n",
    "from gensim.models import Word2Vec, KeyedVectors\n",
    "\n",
    "print('Sentences on which we are gonna train our CBOW Word2Vec model:\\n')\n",
    "print(common_texts)\n",
    "\n",
    "# Train the CBOW Word2Vec model and storage it in 'CBOW_Word2Vec_model'\n",
    "CBOW_Word2Vec_model = Word2Vec(common_texts,        # Input data, which is a list of tokenized sentences or documents. In this case, it's the set of common example texts provided by Gensim.\n",
    "                               vector_size = 10,    # Dimensionality of the Word Vectors to 10: Each word will be represented as a vector of 10 numbers.\n",
    "                               window = 5,          # maximum distance between the current and predicted word within a sentence (size of the context window)\n",
    "                               min_count = 1,      # minimum number of times a word must appear in the corpus to be considered during training. Words with very low frequencies are often removed to reduce noise in the model.\n",
    "                               workers = 8,        # number of CPU cores to be used for training the model. More workers can lead to faster training.\n",
    "                               sg = 0)             # It specifies the training algorithm. sg=0 indicates that the CBOW algorithm should be used.\n",
    "\n",
    "# Save the trained CBOW Word2Vec model\n",
    "CBOW_Word2Vec_model.save(\"CBOW_Word2Vec_model.w2v\")\n",
    "print(\"Model Saved\")"
   ],
   "metadata": {
    "collapsed": false,
    "ExecuteTime": {
     "end_time": "2023-10-19T21:42:24.756759300Z",
     "start_time": "2023-10-19T21:42:23.956512600Z"
    }
   }
  },
  {
   "cell_type": "markdown",
   "source": [
    "**The CBOW_Word2Vec_model can be used to obtain word embeddings for words in the corpus or for downstream natural language processing tasks.**"
   ],
   "metadata": {
    "collapsed": false
   }
  },
  {
   "cell_type": "markdown",
   "source": [
    "**`.wv`**: stands for *\"word vectors\"*, and it's a sub-attribute of the Word2Vec model in Gensim. It provides access to word vectors."
   ],
   "metadata": {
    "collapsed": false
   }
  },
  {
   "cell_type": "markdown",
   "source": [
    " **most_similar([word])**:\n",
    " - Method used to find words that are most similar to a given word based on their vector representations in the Word2vec model. It returns a list of words similar to 'word' along with their similarity scores. This method is commonly used to find words that are semantically similar or related to a given word. It's useful in tasks like **synonym identification**, **semantic similarity tasks**, and more."
   ],
   "metadata": {
    "collapsed": false
   }
  },
  {
   "cell_type": "code",
   "execution_count": 59,
   "outputs": [
    {
     "data": {
      "text/plain": "[('graph', 0.3586882948875427),\n ('system', 0.22743132710456848),\n ('time', 0.1153423935174942),\n ('interface', 0.09816545248031616),\n ('survey', 0.01448808517307043)]"
     },
     "execution_count": 59,
     "metadata": {},
     "output_type": "execute_result"
    }
   ],
   "source": [
    "CBOW_Word2Vec_model.wv.most_similar('human',\n",
    "                                    topn = 5)       # It specifies the number of similar words to retrieve"
   ],
   "metadata": {
    "collapsed": false,
    "ExecuteTime": {
     "end_time": "2023-10-20T08:54:37.985837700Z",
     "start_time": "2023-10-20T08:54:37.888857Z"
    }
   }
  },
  {
   "cell_type": "code",
   "execution_count": 60,
   "outputs": [
    {
     "data": {
      "text/plain": "array([-0.00410223, -0.08368949, -0.05600012,  0.07104538,  0.0335254 ,\n        0.0722567 ,  0.06800248,  0.07530741, -0.03789154, -0.00561806],\n      dtype=float32)"
     },
     "execution_count": 60,
     "metadata": {},
     "output_type": "execute_result"
    }
   ],
   "source": [
    "# Show the Word Vector of 'human' based on the trained model 'CBOW_Word2Vec_model'\n",
    "CBOW_Word2Vec_model.wv['human']"
   ],
   "metadata": {
    "collapsed": false,
    "ExecuteTime": {
     "end_time": "2023-10-20T08:56:40.875862700Z",
     "start_time": "2023-10-20T08:56:40.848317100Z"
    }
   }
  },
  {
   "cell_type": "markdown",
   "source": [
    "### **Skip-gram**\n",
    "\n",
    "The **Skip-gram model** is a type of word embedding model used in Natural Language Processing (NLP) and is one of the architectures within the Word2Vec framework. It is **designed to learn distributed representations of words by predicting the context words given a target word in a given text**. It is trained using large amounts of unstructured text data and can capture the context and semantic similarity between words.\n",
    "\n",
    "**DETAILED EXPLANATION**\n",
    "**Objective**:\n",
    " - The primary goal of the Skip-gram model is **to learn distributed representations (vectors) of words**. These representations are continuous and capture semantic relationships between words.\n",
    "\n",
    "**Architecture**:\n",
    " - The Skip-gram model is a **shallow neural network model with one hidden layer**. It has *an input layer, a projection layer (hidden layer), and an output layer*. **The input and output layers have the same number of neurons, which is equal to the size of the vocabulary**.\n",
    "![SkipGram model](figures/SkipGram_model.png)\n",
    "\n",
    "**Input and Output**:\n",
    "- In the Skip-gram model, **the input is a single target word**, and **the output is a probability distribution over the entire vocabulary of words**.\n",
    "\n",
    "**Context Words**:\n",
    "- Unlike Continuous Bag of Words (CBOW), which predicts a target word based on its context, the Skip-gram model **predicts the surrounding context words based on the current target word**.\n",
    "\n",
    "**Training Process**:\n",
    "- During training, the model is presented with pairs of target words and their corresponding context words. The weights of the neural network are adjusted using techniques like backpropagation and gradient descent to minimize the prediction error.\n",
    "\n",
    "**Word Vectors**:\n",
    "- The weights of the projection layer serve as the word vectors (also called word embeddings). These vectors are what the Skip-gram model is primarily interested in.\n",
    "\n",
    "**Context Window**:\n",
    "- The context window determines the number of words to consider on either side of the target word. For example, with a context window of 2, if the target word is in the middle, the model considers 2 words to the left and 2 words to the right.\n",
    "\n",
    "**Word Probability**:\n",
    "- The output of the model is a probability distribution over the entire vocabulary. Each element of the output vector represents the probability of a specific word being in the context given the target word.\n",
    "\n",
    "**Semantic Similarity**:\n",
    "- After training, words with similar meanings tend to have similar vector representations. This means that the vectors for semantically similar words will be located close to each other in the vector space.\n",
    "\n",
    "**Use Cases**:\n",
    "- The Skip-gram model is useful for capturing semantic relationships and can be used in various NLP tasks such as **sentiment analysis**, **machine translation**, and more.\n",
    "\n",
    "The Skip-gram model, along with Continuous Bag of Words (CBOW), forms the basis of Word2Vec, which has been instrumental in advancing the state-of-the-art in various NLP tasks.\n",
    "\n",
    "----\n",
    "\n",
    "**<span style=\"color:red\"> Illustrated example of Skip-Gram (taken from [Here](https://pyimagesearch.com/2022/07/11/word2vec-a-study-of-embeddings-in-nlp/)) </span>**\n",
    "\n",
    "Skip-Gram is a technique where, given the center words, its neighboring words are predicted.\n",
    "\n",
    "Consider the sentence: *I am reading the book*\n",
    "- then, the Skip-Grma pairs for a window size of 3 would be:\n",
    "    - *am*, for labels *I* and *reading*\n",
    "    - *reading*, for labels *am* and *the*\n",
    "    - *the*,for labels *reading* and *book*\n",
    "- The figure shows the sketch of the example:\n",
    "![skipgram_example](skipgram_example.png)\n",
    "- Assume that the sentence is the complete input, then the vocabulary size is 5.\n",
    "- Assume there are 3 embedding dimensions for simplicity\n",
    "- Consider the example of the input - label pair of (*I, reading*) *-* (*am*)\n",
    "    1. We start with the encoding matrix, where we grab the vector located at the index of our center word (*am* in this case)\n",
    "    2. We transpose the vector, so we have now a $3x1$ vector representation of the word $am$ (since we are directly grabbing a row of the encoding matrix, this **will not** be a one-hot encoding).\n",
    "    3. We multiply this vector representation with the decoding matrix of shape $5x1$. The resultant vector will essentially be a softmax representation over the whole vocabulary, pointing to the indices belonging to the neighboring words of our input center word. In this example, the output should point to the indices of *I* and *reading*.\n",
    "\n",
    "---\n",
    "\n",
    "**<span style=\"color:red\"> Another detailed example and further explanation can be found in this Kaggle [Notebook](https://www.kaggle.com/code/nkitgupta/text-representations) </span>**"
   ],
   "metadata": {
    "collapsed": false
   }
  },
  {
   "cell_type": "markdown",
   "source": [
    "### **Example of implementation of Skip-Gram model**"
   ],
   "metadata": {
    "collapsed": false
   }
  },
  {
   "cell_type": "code",
   "execution_count": 61,
   "outputs": [
    {
     "name": "stdout",
     "output_type": "stream",
     "text": [
      "Model Saved\n"
     ]
    }
   ],
   "source": [
    "# Train the Skip-Gram Word2Vec model and storage it in 'SkipGram_Word2Vec_model'\n",
    "SkipGram_Word2Vec_model = Word2Vec(common_texts,\n",
    "                                   vector_size=10,\n",
    "                                   window=5,\n",
    "                                   min_count=1,\n",
    "                                   workers=8,\n",
    "                                   sg=1)  # It specifies the training algorithm. sg=1 indicates that the Skip-Gram algorithm should be used.\n",
    "\n",
    "# Save the trained Skip-Gram Word2Vec model\n",
    "SkipGram_Word2Vec_model.save(\"SkipGram_Word2Vec_model.w2v\")\n",
    "print(\"Model Saved\")"
   ],
   "metadata": {
    "collapsed": false,
    "ExecuteTime": {
     "end_time": "2023-10-20T09:08:43.577501400Z",
     "start_time": "2023-10-20T09:08:43.540787600Z"
    }
   }
  },
  {
   "cell_type": "code",
   "execution_count": 62,
   "outputs": [
    {
     "data": {
      "text/plain": "[('graph', 0.3586882948875427),\n ('system', 0.22743132710456848),\n ('time', 0.1153423935174942),\n ('interface', 0.09816545248031616),\n ('survey', 0.01448808517307043)]"
     },
     "execution_count": 62,
     "metadata": {},
     "output_type": "execute_result"
    }
   ],
   "source": [
    "SkipGram_Word2Vec_model.wv.most_similar('human',\n",
    "                                        topn = 5)"
   ],
   "metadata": {
    "collapsed": false,
    "ExecuteTime": {
     "end_time": "2023-10-20T09:10:24.081029100Z",
     "start_time": "2023-10-20T09:10:24.058992Z"
    }
   }
  },
  {
   "cell_type": "code",
   "execution_count": 65,
   "outputs": [
    {
     "data": {
      "text/plain": "array([-0.00410223, -0.08368949, -0.05600012,  0.07104538,  0.0335254 ,\n        0.0722567 ,  0.06800248,  0.07530741, -0.03789154, -0.00561806],\n      dtype=float32)"
     },
     "execution_count": 65,
     "metadata": {},
     "output_type": "execute_result"
    }
   ],
   "source": [
    "# Show the Word Vector of 'human' based on the trained model 'SkipGram_Word2Vec_model'\n",
    "SkipGram_Word2Vec_model.wv['human']"
   ],
   "metadata": {
    "collapsed": false,
    "ExecuteTime": {
     "end_time": "2023-10-20T09:13:25.629819100Z",
     "start_time": "2023-10-20T09:13:25.616009500Z"
    }
   }
  },
  {
   "cell_type": "markdown",
   "source": [
    "### **Word2Vec Word model**"
   ],
   "metadata": {
    "collapsed": false
   }
  },
  {
   "cell_type": "markdown",
   "source": [
    "**Word2vec** is a technique for natural language processing (NLP) published in 2013. It is designed to represent words as continuous vectors in a high-dimensional space, such that semantically similar words are located close to each other in this space. The word2vec algorithm **uses a neural network model** to learn word associations from a large corpus of text. Once trained, such a **model can detect synonymous words or suggest additional words for a partial sentence**. Word2vec is not a singular algorithm, rather, it is **a family of model architectures and optimizations** that can be used to learn word embeddings from large datasets.\n",
    "\n",
    "Word2Vec is the representation of words that allows words with the same meaning to have similar representation. Word2vec operationalizes this by projecting the meaning of the words in a vector space where words with similar meanings will tend to cluster together, and works with very different meanings are far from one another.\n",
    "\n",
    "**DETAILED EXPLANATION**:\n",
    "**Two Models**:\n",
    "- Word2Vec consists of two models:\n",
    "    - *Continuous Bag of Words (CBOW)*: This model predicts the current word based on its context (surrounding words).\n",
    "    - *Skip-gram*: This model predicts the surrounding words given the current word.\n",
    "\n",
    "**Neural Network Architecture**:\n",
    "- Both CBOW and Skip-gram models are shallow neural networks with one hidden layer. The input layer and output layer have the same number of neurons, which is equal to the size of the vocabulary.\n",
    "\n",
    "**Word Context**:\n",
    "- The context of a word is determined by a fixed-size window of adjacent words. The model tries to predict the target word based on this context.\n",
    "\n",
    "**Word Vectors**:\n",
    "- The weights of the hidden layer of the neural network serve as the word vectors (also called word embeddings). These vectors are what Word2Vec is primarily interested in.\n",
    "\n",
    "**Training Process**:\n",
    "- During training, the model is presented with a large corpus of text. It adjusts the weights of the neural network using techniques like backpropagation and gradient descent to minimize the prediction error.\n",
    "\n",
    "**Semantic Similarity**:\n",
    "- After training, words that have similar meanings tend to have similar vector representations. For example, the vectors for \"king\" and \"queen\" are likely to be close to each other in the vector space.\n",
    "\n",
    "**Arithmetic Operations**:\n",
    "- One of the interesting properties of Word2Vec is that vector operations in the embedding space can capture semantic relationships. For example, \"king - man + woman\" might be close to \"queen\" in the vector space.\n",
    "\n",
    "**Pre-trained models**\n",
    "Word2Vec models can be pre-trained on large corpora and then used in downstream NLP tasks like sentiment analysis, machine translation, and more. Pre-trained models are available for various languages and domains.\n",
    "Training your own word embeddings is a pretty expensive process (in terms of both time and computing). Thankfully, for many scenarios, it’s not necessary to train your own embeddings, since someone has done the hard work of training word embeddings on a large corpus, such as Wikipedia, news articles, or even the entire web, and has put words and their corresponding vectors on the web. These embeddings can be downloaded and used to get the vectors for the words you want.\n",
    "Some of the most popular pre-trained embeddings are Word2vec by Google, GloVe by Stanford, and fasttext embeddings by Facebook, to name a few.\n",
    "\n",
    "**Advantages**:\n",
    "- Word2Vec provides dense, continuous vector representations of words, which capture semantic relationships.\n",
    "- It's computationally efficient and can be trained on large datasets.\n",
    "\n",
    "---\n",
    "Learn more about gensim model: [Here](https://radimrehurek.com/gensim/auto_examples/tutorials/run_word2vec.html#sphx-glr-auto-examples-tutorials-run-word2vec-py)\n",
    "\n",
    "All available models you can download with gensim: [Here](https://github.com/RaRe-Technologies/gensim-data)"
   ],
   "metadata": {
    "collapsed": false
   }
  },
  {
   "cell_type": "markdown",
   "source": [
    "### **<span style=\"color:blue\"> Pre-trained Word2Vec model**\n",
    "I will use the **pre-trained** weights of Word2Vec that was trained on Google New corpus containing 3 bilion words (**`word2vec-google-news-300` model**) which is almost 2GB worth of memory. This model consists of 300-dimensional vectors for 3 million words and phrases.\n",
    "\n"
   ],
   "metadata": {
    "collapsed": false
   }
  },
  {
   "cell_type": "markdown",
   "source": [
    "**Downloading gensim word2vec-google-news-300 model locally** (Run Only one time!!)\n",
    "The model will be downloaded if you never download it before"
   ],
   "metadata": {
    "collapsed": false
   }
  },
  {
   "cell_type": "code",
   "execution_count": 12,
   "outputs": [],
   "source": [
    "import gensim.downloader as api\n",
    "# word2vec_model = api.load('word2vec-google-news-300')"
   ],
   "metadata": {
    "collapsed": false,
    "ExecuteTime": {
     "end_time": "2023-10-18T11:01:45.054085600Z",
     "start_time": "2023-10-18T11:01:09.260222600Z"
    }
   }
  },
  {
   "cell_type": "markdown",
   "source": [
    "**Using the pre-downloaded model in the notebook**:"
   ],
   "metadata": {
    "collapsed": false
   }
  },
  {
   "cell_type": "code",
   "execution_count": 13,
   "outputs": [],
   "source": [
    "word2vec_model = KeyedVectors.load_word2vec_format('GoogleNews-vectors-negative300.bin', binary=True)"
   ],
   "metadata": {
    "collapsed": false,
    "ExecuteTime": {
     "end_time": "2023-10-18T11:10:07.057995100Z",
     "start_time": "2023-10-18T11:09:33.491105400Z"
    }
   }
  },
  {
   "cell_type": "markdown",
   "source": [
    "I can see the **Word vector** for each word in the loaded Word2vec model:"
   ],
   "metadata": {
    "collapsed": false
   }
  },
  {
   "cell_type": "code",
   "execution_count": 16,
   "outputs": [
    {
     "data": {
      "text/plain": "(300,)"
     },
     "execution_count": 16,
     "metadata": {},
     "output_type": "execute_result"
    }
   ],
   "source": [
    "# Example:\n",
    "# Shape of the word vector \"man\" in the loaded Word2Vec model\n",
    "\n",
    "word2vec_model['man'].shape       # <--- we se that the vector is 300-dimensional"
   ],
   "metadata": {
    "collapsed": false,
    "ExecuteTime": {
     "end_time": "2023-10-18T11:20:16.910899500Z",
     "start_time": "2023-10-18T11:20:16.888841200Z"
    }
   }
  },
  {
   "cell_type": "code",
   "execution_count": 15,
   "outputs": [
    {
     "data": {
      "text/plain": "array([ 0.32617188,  0.13085938,  0.03466797, -0.08300781,  0.08984375,\n       -0.04125977, -0.19824219,  0.00689697,  0.14355469,  0.0019455 ,\n        0.02880859, -0.25      , -0.08398438, -0.15136719, -0.10205078,\n        0.04077148, -0.09765625,  0.05932617,  0.02978516, -0.10058594,\n       -0.13085938,  0.001297  ,  0.02612305, -0.27148438,  0.06396484,\n       -0.19140625, -0.078125  ,  0.25976562,  0.375     , -0.04541016,\n        0.16210938,  0.13671875, -0.06396484, -0.02062988, -0.09667969,\n        0.25390625,  0.24804688, -0.12695312,  0.07177734,  0.3203125 ,\n        0.03149414, -0.03857422,  0.21191406, -0.00811768,  0.22265625,\n       -0.13476562, -0.07617188,  0.01049805, -0.05175781,  0.03808594,\n       -0.13378906,  0.125     ,  0.0559082 , -0.18261719,  0.08154297,\n       -0.08447266, -0.07763672, -0.04345703,  0.08105469, -0.01092529,\n        0.17480469,  0.30664062, -0.04321289, -0.01416016,  0.09082031,\n       -0.00927734, -0.03442383, -0.11523438,  0.12451172, -0.0246582 ,\n        0.08544922,  0.14355469, -0.27734375,  0.03662109, -0.11035156,\n        0.13085938, -0.01721191, -0.08056641, -0.00708008, -0.02954102,\n        0.30078125, -0.09033203,  0.03149414, -0.18652344, -0.11181641,\n        0.10253906, -0.25976562, -0.02209473,  0.16796875, -0.05322266,\n       -0.14550781, -0.01049805, -0.03039551, -0.03857422,  0.11523438,\n       -0.0062561 , -0.13964844,  0.08007812,  0.06103516, -0.15332031,\n       -0.11132812, -0.14160156,  0.19824219, -0.06933594,  0.29296875,\n       -0.16015625,  0.20898438,  0.00041771,  0.01831055, -0.20214844,\n        0.04760742,  0.05810547, -0.0123291 , -0.01989746, -0.00364685,\n       -0.0135498 , -0.08251953, -0.03149414,  0.00717163,  0.20117188,\n        0.08300781, -0.0480957 , -0.26367188, -0.09667969, -0.22558594,\n       -0.09667969,  0.06494141, -0.02502441,  0.08496094,  0.03198242,\n       -0.07568359, -0.25390625, -0.11669922, -0.01446533, -0.16015625,\n       -0.00701904, -0.05712891,  0.02807617, -0.09179688,  0.25195312,\n        0.24121094,  0.06640625,  0.12988281,  0.17089844, -0.13671875,\n        0.1875    , -0.10009766, -0.04199219, -0.12011719,  0.00524902,\n        0.15625   , -0.203125  , -0.07128906, -0.06103516,  0.01635742,\n        0.18261719,  0.03588867, -0.04248047,  0.16796875, -0.15039062,\n       -0.16992188,  0.01831055,  0.27734375, -0.01269531, -0.0390625 ,\n       -0.15429688,  0.18457031, -0.07910156,  0.09033203, -0.02709961,\n        0.08251953,  0.06738281, -0.16113281, -0.19628906, -0.15234375,\n       -0.04711914,  0.04760742,  0.05908203, -0.16894531, -0.14941406,\n        0.12988281,  0.04321289,  0.02624512, -0.1796875 , -0.19628906,\n        0.06445312,  0.08935547,  0.1640625 , -0.03808594, -0.09814453,\n       -0.01483154,  0.1875    ,  0.12792969,  0.22753906,  0.01818848,\n       -0.07958984, -0.11376953, -0.06933594, -0.15527344, -0.08105469,\n       -0.09277344, -0.11328125, -0.15136719, -0.08007812, -0.05126953,\n       -0.15332031,  0.11669922,  0.06835938,  0.0324707 , -0.33984375,\n       -0.08154297, -0.08349609,  0.04003906,  0.04907227, -0.24121094,\n       -0.13476562, -0.05932617,  0.12158203, -0.34179688,  0.16503906,\n        0.06176758, -0.18164062,  0.20117188, -0.07714844,  0.1640625 ,\n        0.00402832,  0.30273438, -0.10009766, -0.13671875, -0.05957031,\n        0.0625    , -0.21289062, -0.06542969,  0.1796875 , -0.07763672,\n       -0.01928711, -0.15039062, -0.00106049,  0.03417969,  0.03344727,\n        0.19335938,  0.01965332, -0.19921875, -0.10644531,  0.01525879,\n        0.00927734,  0.01416016, -0.02392578,  0.05883789,  0.02368164,\n        0.125     ,  0.04760742, -0.05566406,  0.11572266,  0.14746094,\n        0.1015625 , -0.07128906, -0.07714844, -0.12597656,  0.0291748 ,\n        0.09521484, -0.12402344, -0.109375  , -0.12890625,  0.16308594,\n        0.28320312, -0.03149414,  0.12304688, -0.23242188, -0.09375   ,\n       -0.12988281,  0.0135498 , -0.03881836, -0.08251953,  0.00897217,\n        0.16308594,  0.10546875, -0.13867188, -0.16503906, -0.03857422,\n        0.10839844, -0.10498047,  0.06396484,  0.38867188, -0.05981445,\n       -0.0612793 , -0.10449219, -0.16796875,  0.07177734,  0.13964844,\n        0.15527344, -0.03125   , -0.20214844, -0.12988281, -0.10058594,\n       -0.06396484, -0.08349609, -0.30273438, -0.08007812,  0.02099609],\n      dtype=float32)"
     },
     "execution_count": 15,
     "metadata": {},
     "output_type": "execute_result"
    }
   ],
   "source": [
    "# Word vector \"man\":\n",
    "\n",
    "word2vec_model['man']"
   ],
   "metadata": {
    "collapsed": false,
    "ExecuteTime": {
     "end_time": "2023-10-18T11:15:47.845822700Z",
     "start_time": "2023-10-18T11:15:47.722205300Z"
    }
   }
  },
  {
   "cell_type": "code",
   "execution_count": 17,
   "outputs": [
    {
     "data": {
      "text/plain": "[('woman', 0.7664012908935547),\n ('boy', 0.6824871301651001),\n ('teenager', 0.6586930155754089),\n ('teenage_girl', 0.6147903203964233),\n ('girl', 0.5921714305877686),\n ('suspected_purse_snatcher', 0.571636438369751),\n ('robber', 0.5585119128227234),\n ('Robbery_suspect', 0.5584409832954407),\n ('teen_ager', 0.5549196600914001),\n ('men', 0.5489763021469116)]"
     },
     "execution_count": 17,
     "metadata": {},
     "output_type": "execute_result"
    }
   ],
   "source": [
    "# Example:\n",
    "\n",
    "word2vec_model.most_similar(['man'])"
   ],
   "metadata": {
    "collapsed": false,
    "ExecuteTime": {
     "end_time": "2023-10-18T11:35:51.269835300Z",
     "start_time": "2023-10-18T11:35:49.575911200Z"
    }
   }
  },
  {
   "cell_type": "markdown",
   "source": [
    "**doesnt_match()**:\n",
    "- Method used to find the word in a list of words that doesn't fit in with the others, based on their vector representations in the Word2Vec model. The method returns the word that is considered an outlier or doesn't fit in with the others in terms of their vector representations. This method can be used to identify the word in a list that is semantically dissimilar to the others. It's useful in tasks like **anomaly detection** or **quality control** in NLP applications."
   ],
   "metadata": {
    "collapsed": false
   }
  },
  {
   "cell_type": "code",
   "execution_count": 18,
   "outputs": [
    {
     "name": "stdout",
     "output_type": "stream",
     "text": [
      "car\n"
     ]
    }
   ],
   "source": [
    "# Example:\n",
    "\n",
    "# in this example, other than 'car' the rest is some form of food\n",
    "print(word2vec_model.doesnt_match(['apple', 'banana', 'orange', 'car', 'cheese', 'juice']))"
   ],
   "metadata": {
    "collapsed": false,
    "ExecuteTime": {
     "end_time": "2023-10-18T11:45:44.105688300Z",
     "start_time": "2023-10-18T11:45:44.098508800Z"
    }
   }
  },
  {
   "cell_type": "markdown",
   "source": [
    "**similarity('word1', 'word2')**:\n",
    "- Method used to calculate the **cosine similarity** between the vector representations of two words, 'word1' and 'word2', in the Word2Vec model. The method returns a similarity score, which is a numerical value between -1 and 1. A higher similarity score indicates that the words are more similar in meaning based on their vector representations. A score of 1 means the words are identical, while a score of -1 means they are completely dissimilar. This method is **used to quantify the semantic similarity between two words based on their context in the training data**."
   ],
   "metadata": {
    "collapsed": false
   }
  },
  {
   "cell_type": "code",
   "execution_count": 20,
   "outputs": [
    {
     "data": {
      "text/plain": "0.76640123"
     },
     "execution_count": 20,
     "metadata": {},
     "output_type": "execute_result"
    }
   ],
   "source": [
    "word2vec_model.similarity('man','woman')"
   ],
   "metadata": {
    "collapsed": false,
    "ExecuteTime": {
     "end_time": "2023-10-18T11:55:13.656240800Z",
     "start_time": "2023-10-18T11:55:13.648112300Z"
    }
   }
  },
  {
   "cell_type": "markdown",
   "source": [
    "**Arithmetics using the word vectors to get the most similar words to a certain word**:"
   ],
   "metadata": {
    "collapsed": false
   }
  },
  {
   "cell_type": "code",
   "execution_count": 25,
   "outputs": [
    {
     "data": {
      "text/plain": "[('king', 0.8449392318725586),\n ('queen', 0.7300517559051514),\n ('monarch', 0.645466148853302),\n ('princess', 0.6156251430511475),\n ('crown_prince', 0.5818676352500916),\n ('prince', 0.5777117609977722),\n ('kings', 0.5613663792610168),\n ('sultan', 0.5376775860786438),\n ('Queen_Consort', 0.5344247817993164),\n ('queens', 0.5289887189865112)]"
     },
     "execution_count": 25,
     "metadata": {},
     "output_type": "execute_result"
    }
   ],
   "source": [
    "# Example 1:\n",
    "\n",
    "# Get the word vectors for 'king', 'man', 'woman' and 'queen'\n",
    "vec_king = word2vec_model['king']\n",
    "vec_man = word2vec_model['man']\n",
    "vec_woman = word2vec_model['woman']\n",
    "vec_queen = word2vec_model['queen']\n",
    "\n",
    "# Vector resultant of some arithmetic between the previous word vectors\n",
    "vec = vec_king - vec_man + vec_woman\n",
    "\n",
    "# Get the most similar word vectors to vector vec based the Word2vec model\n",
    "word2vec_model.most_similar([vec])"
   ],
   "metadata": {
    "collapsed": false,
    "ExecuteTime": {
     "end_time": "2023-10-18T12:11:17.894521300Z",
     "start_time": "2023-10-18T12:11:17.755341Z"
    }
   }
  },
  {
   "cell_type": "code",
   "execution_count": 27,
   "outputs": [
    {
     "data": {
      "text/plain": "[('queen', 0.7118193507194519),\n ('monarch', 0.6189674139022827),\n ('princess', 0.5902431011199951),\n ('crown_prince', 0.5499460697174072),\n ('prince', 0.5377321839332581),\n ('kings', 0.5236844420433044),\n ('Queen_Consort', 0.5235945582389832),\n ('queens', 0.5181134343147278),\n ('sultan', 0.5098593831062317),\n ('monarchy', 0.5087411999702454)]"
     },
     "execution_count": 27,
     "metadata": {},
     "output_type": "execute_result"
    }
   ],
   "source": [
    "# Another way to get the most similar word vectors to vector vec\n",
    "word2vec_model.most_similar(positive = ['king', 'woman'], negative = ['man'])    # <--- positive means: + 'king' + 'woman', and negative means - 'man'"
   ],
   "metadata": {
    "collapsed": false,
    "ExecuteTime": {
     "end_time": "2023-10-18T12:13:23.674357600Z",
     "start_time": "2023-10-18T12:13:23.538174900Z"
    }
   }
  },
  {
   "cell_type": "code",
   "execution_count": 28,
   "outputs": [
    {
     "data": {
      "text/plain": "[('INR', 0.6407418251037598),\n ('Rs', 0.4681122899055481),\n ('Rs1', 0.4643361568450928),\n ('Rs.##', 0.4495318531990051),\n ('Rs.1', 0.44255903363227844),\n ('Rs3', 0.43901121616363525),\n ('Rs###_crore', 0.4389852285385132),\n ('Rs.#.##', 0.43212899565696716),\n ('Rs.3', 0.43179401755332947),\n ('Rs####_crore', 0.431002676486969)]"
     },
     "execution_count": 28,
     "metadata": {},
     "output_type": "execute_result"
    }
   ],
   "source": [
    "# Example 2 (less explanatory):\n",
    "vec = word2vec_model['INR'] - word2vec_model['Cuba'] + word2vec_model['England']\n",
    "\n",
    "word2vec_model.most_similar([vec])"
   ],
   "metadata": {
    "collapsed": false,
    "ExecuteTime": {
     "end_time": "2023-10-18T12:15:16.660002Z",
     "start_time": "2023-10-18T12:15:16.527031900Z"
    }
   }
  },
  {
   "cell_type": "markdown",
   "source": [
    "### **Ways to solve the OOV problem:**\n",
    "\n",
    "1. A simple approach that often works is *to exclude those words from the feature extraction process* so we don’t have to worry about how to get their representations.\n",
    "\n",
    "2. Another way to deal with the OOV problem for word embeddings is *to create vectors that are initialized randomly*.\n",
    "\n",
    "3. There are also other approaches that handle the OOV problem by modifying the training process by *bringing in characters and other subword-level linguistic components*. The key idea is that one can potentially handle the OOV problem by using subword information, such as morphological properties (e.g., prefixes, suffixes, word endings, etc.), or by using character representations. **fastText**, from Facebook AI research, is one of the popular algorithms that follows this approach.\n"
   ],
   "metadata": {
    "collapsed": false
   }
  },
  {
   "cell_type": "code",
   "execution_count": 19,
   "outputs": [
    {
     "name": "stdout",
     "output_type": "stream",
     "text": [
      "The word 'asdasd' does not appear in this model\n"
     ]
    }
   ],
   "source": [
    "# Sometimes the word you pass in doesn't have a vector\n",
    "# for more info, review the section: Out of Vocabulary (OOV)\n",
    "\n",
    "try:\n",
    "    vec_cameroon = word2vec_model['asdasd']\n",
    "except KeyError:\n",
    "    print(\"The word 'asdasd' does not appear in this model\")"
   ],
   "metadata": {
    "collapsed": false,
    "ExecuteTime": {
     "end_time": "2023-10-18T11:47:36.582171Z",
     "start_time": "2023-10-18T11:47:36.576500400Z"
    }
   }
  },
  {
   "cell_type": "markdown",
   "source": [
    "### **<span style=\"color:blue\"> Training a Word2vec model </span>**\n",
    "\n",
    "Training a Word2Vec model involves the following steps:\n",
    "\n",
    "**Data Preparation**:\n",
    "- Gather a large corpus of text data. This could be a collection of articles, books, tweets, or any other type of text.\n",
    "\n",
    "**Preprocessing**:\n",
    "- Clean and preprocess the text data. This may include tasks like removing punctuation, converting text to lowercase, handling special characters, and tokenizing the text into words or subword units.\n",
    "\n",
    "**Building Vocabulary**:\n",
    "- Create a vocabulary from the preprocessed text data. The vocabulary consists of a unique set of words or subword units that occur in the corpus.\n",
    "\n",
    "**Word2Vec Architecture**:\n",
    "- Choose between two Word2Vec architectures: Continuous Bag of Words (CBOW) or Skip-gram. CBOW predicts a target word given its context, while Skip-gram predicts context words given a target word.\n",
    "\n",
    "**Model Initialization**:\n",
    "- Set hyperparameters like the embedding dimension (size of word vectors), context window size, and others.\n",
    "\n",
    "**Training**:\n",
    "- Use the preprocessed text data to train the Word2Vec model. During training, the model adjusts its weights to predict context words based on target words (for Skip-gram) or vice versa (for CBOW).\n",
    "\n",
    "**Word Vectors**:\n",
    "- After training, the weights of the hidden layer serve as word vectors (word embeddings). These vectors represent words in a high-dimensional space.\n",
    "\n",
    "**Evaluation**:\n",
    "- Optionally, evaluate the quality of the word vectors. This can be done by measuring the similarity between words, performing analogy tasks, or using them as features in downstream NLP tasks.\n",
    "\n",
    "**Application**:\n",
    "- Use the trained Word2Vec model for various NLP tasks like sentiment analysis, machine translation, named entity recognition, and more. The pre-trained word vectors can also be used in tasks where transfer learning is beneficial.\n",
    "\n",
    "Keep in mind that the specific implementation details may vary depending on the library or framework you're using. Popular libraries for Word2Vec implementation include Gensim (Python), TensorFlow, and PyTorch. Each of these libraries has its own API for training Word2Vec models."
   ],
   "metadata": {
    "collapsed": false
   }
  },
  {
   "cell_type": "code",
   "execution_count": 2,
   "outputs": [],
   "source": [
    "import os"
   ],
   "metadata": {
    "collapsed": false,
    "ExecuteTime": {
     "end_time": "2023-10-23T10:39:19.879673900Z",
     "start_time": "2023-10-23T10:39:19.874666300Z"
    }
   }
  },
  {
   "cell_type": "markdown",
   "source": [
    "**`from gensim.utils import simple_preprocess`**\n",
    "\n",
    "The **simple_preprocess** function from the *gensim.utils* module is a utility **used for text processing in the context of natural language processing (NLP) tasks**.\n",
    "Here's why it's useful:\n",
    "*Text Tokenization*:\n",
    "- **simple_preprocess** is primarily used for tokenizing text. It takes a text input and converts it into a list of tokens (words or subword units) based on certain criteria.\n",
    "\n",
    "*Preprocessing*:\n",
    "- It performs basic preprocessing tasks like converting text to lowercase, removing punctuation, and handling special characters. This is important for standardizing text data before further analysis.\n",
    "\n",
    "*Control over Tokenization*:\n",
    "- You can customize the behavior of simple_preprocess by specifying parameters like minimum and maximum token length, controlling whether to perform lowercasing, and more. This gives you flexibility in how you want to tokenize your text.\n",
    "\n",
    "*Compatibility with Gensim Models*:\n",
    "- Gensim, a popular library for natural language processing, often requires text data to be preprocessed and tokenized before using it with models like Word2Vec, Doc2Vec, etc. simple_preprocess provides a convenient way to prepare text data for use with Gensim models.\n",
    "\n",
    "*Memory Efficiency*:\n",
    "- **simple_preprocess** is designed to be memory-efficient, which is important when dealing with large corpora or datasets. It processes text in a streaming fashion, making it suitable for handling large volumes of text.\n",
    "\n",
    "*Suitability for Gensim Pipelines*:\n",
    "- It fits well into data preprocessing pipelines within the Gensim framework. You can use it as a first step in preparing text data for subsequent NLP tasks.\n",
    "\n",
    "*Simplicity and Ease of Use*:\n",
    "- As the name implies, simple_preprocess is straightforward to use. It doesn't require complex configurations or parameter tuning, making it accessible for users at various levels of expertise."
   ],
   "metadata": {
    "collapsed": false
   }
  },
  {
   "cell_type": "markdown",
   "source": [
    "**Load, tokenize and apply basic preprocessing to the Games of Thrones Books**"
   ],
   "metadata": {
    "collapsed": false
   }
  },
  {
   "cell_type": "code",
   "execution_count": 30,
   "outputs": [],
   "source": [
    "from nltk import sent_tokenize                # <--- used for segmenting text into individual sentences\n",
    "from gensim.utils import simple_preprocess\n",
    "\n",
    "# Processes a collection of text files stored in a directory ('data'):\n",
    "\n",
    "story = []                                         # ---> Initializes an empty list named 'story'. This list will be used to store tokenized sentences.\n",
    "for filename in os.listdir('data'):                # ---> Iterates over the files in the 'data' directory. It assumes that the text files to be processed are located in a directory named 'data'.\n",
    "\n",
    "    f = open(os.path.join('data',filename))        # ---> Opens the current file in the iteration. \"os.path.join()\" is used to construct the file path by combining the directory ('data') with the filename.\n",
    "\n",
    "    corpus = f.read()                              # ---> Reads the contents of the file and stores it in the variable 'corpus'.\n",
    "\n",
    "    raw_sent = sent_tokenize(corpus)              # --->  Uses sent_tokenize to tokenize the 'corpus' into individual sentences. The resulting list of sentences is stored in the variable 'raw_sent'.\n",
    "\n",
    "    for sent in raw_sent:                        # --->  Iterates over each sentence in 'raw_sent'\n",
    "        story.append(simple_preprocess(sent))    # --->  Applies the simple_preprocess function to each sentence (tokenize and basic preprocessing tasks. Explained above).\n"
   ],
   "metadata": {
    "collapsed": false,
    "ExecuteTime": {
     "end_time": "2023-10-19T10:53:01.729403Z",
     "start_time": "2023-10-19T10:52:56.033310400Z"
    }
   }
  },
  {
   "cell_type": "code",
   "execution_count": 33,
   "outputs": [
    {
     "name": "stdout",
     "output_type": "stream",
     "text": [
      "145020\n",
      "[['game', 'of', 'thrones', 'book', 'one', 'of', 'song', 'of', 'ice', 'and', 'fire', 'by', 'george', 'martin', 'prologue', 'we', 'should', 'start', 'back', 'gared', 'urged', 'as', 'the', 'woods', 'began', 'to', 'grow', 'dark', 'around', 'them'], ['the', 'wildlings', 'are', 'dead'], ['do', 'the', 'dead', 'frighten', 'you'], ['ser', 'waymar', 'royce', 'asked', 'with', 'just', 'the', 'hint', 'of', 'smile'], ['gared', 'did', 'not', 'rise', 'to', 'the', 'bait'], ['he', 'was', 'an', 'old', 'man', 'past', 'fifty', 'and', 'he', 'had', 'seen', 'the', 'lordlings', 'come', 'and', 'go'], ['dead', 'is', 'dead', 'he', 'said'], ['we', 'have', 'no', 'business', 'with', 'the', 'dead'], ['are', 'they', 'dead'], ['royce', 'asked', 'softly'], ['what', 'proof', 'have', 'we'], ['will', 'saw', 'them', 'gared', 'said'], ['if', 'he', 'says', 'they', 'are', 'dead', 'that', 'proof', 'enough', 'for', 'me'], ['will', 'had', 'known', 'they', 'would', 'drag', 'him', 'into', 'the', 'quarrel', 'sooner', 'or', 'later'], ['he', 'wished', 'it', 'had', 'been', 'later', 'rather', 'than', 'sooner'], ['my', 'mother', 'told', 'me', 'that', 'dead', 'men', 'sing', 'no', 'songs', 'he', 'put', 'in'], ['my', 'wet', 'nurse', 'said', 'the', 'same', 'thing', 'will', 'royce', 'replied'], ['never', 'believe', 'anything', 'you', 'hear', 'at', 'woman', 'tit'], ['there', 'are', 'things', 'to', 'be', 'learned', 'even', 'from', 'the', 'dead'], ['his', 'voice', 'echoed', 'too', 'loud', 'in', 'the', 'twilit', 'forest'], ['page', 'we', 'have', 'long', 'ride', 'before', 'us', 'gared', 'pointed', 'out'], ['eight', 'days', 'maybe', 'nine'], ['and', 'night', 'is', 'falling'], ['ser', 'waymar', 'royce', 'glanced', 'at', 'the', 'sky', 'with', 'disinterest'], ['it', 'does', 'that', 'every', 'day', 'about', 'this', 'time'], ['are', 'you', 'unmanned', 'by', 'the', 'dark', 'gared'], ['will', 'could', 'see', 'the', 'tightness', 'around', 'gared', 'mouth', 'the', 'barely', 'sup', 'pressed', 'anger', 'in', 'his', 'eyes', 'under', 'the', 'thick', 'black', 'hood', 'of', 'his', 'cloak'], ['gared', 'had', 'spent', 'forty', 'years', 'in', 'the', 'night', 'watch', 'man', 'and', 'boy', 'and', 'he', 'was', 'not', 'accustomed', 'to', 'being', 'made', 'light', 'of'], ['yet', 'it', 'was', 'more', 'than', 'that'], ['under', 'the', 'wounded', 'pride', 'will', 'could', 'sense', 'something', 'else', 'in', 'the', 'older', 'man'], ['you', 'could', 'taste', 'it', 'nervous', 'tension', 'that', 'came', 'perilous', 'close', 'to', 'fear'], ['will', 'shared', 'his', 'unease'], ['he', 'had', 'been', 'four', 'years', 'on', 'the', 'wall'], ['the', 'first', 'time', 'he', 'had', 'been', 'sent', 'beyond', 'all', 'the', 'old', 'stories', 'had', 'come', 'rushing', 'back', 'and', 'his', 'bowels', 'had', 'turned', 'to', 'water'], ['he', 'had', 'laughed', 'about', 'it', 'afterward'], ['he', 'was', 'veteran', 'of', 'hundred', 'rangings', 'by', 'now', 'and', 'the', 'endless', 'dark', 'wilderness', 'that', 'the', 'southron', 'called', 'the', 'haunted', 'forest', 'had', 'no', 'more', 'terrors', 'for', 'him'], ['until', 'tonight'], ['something', 'was', 'different', 'tonight'], ['there', 'was', 'an', 'edge', 'to', 'this', 'darkness', 'that', 'made', 'his', 'hackles', 'rise'], ['nine', 'days', 'they', 'had', 'been', 'riding', 'north', 'and', 'northwest', 'and', 'then', 'north', 'again', 'farther', 'and', 'farther', 'from', 'the', 'wall', 'hard', 'on', 'the', 'track', 'of', 'band', 'of', 'wildling', 'raiders'], ['each', 'day', 'had', 'been', 'worse', 'than', 'the', 'day', 'that', 'had', 'come', 'before', 'it'], ['today', 'was', 'the', 'worst', 'of', 'all'], ['cold', 'wind', 'was', 'blowing', 'out', 'of', 'the', 'north', 'and', 'it', 'made', 'the', 'trees', 'rustle', 'like', 'living', 'things'], ['all', 'day', 'will', 'had', 'felt', 'as', 'though', 'something', 'were', 'watching', 'him', 'something', 'cold', 'and', 'implacable', 'that', 'loved', 'him', 'not'], ['gared', 'had', 'felt', 'it', 'too'], ['will', 'wanted', 'nothing', 'so', 'much', 'as', 'to', 'ride', 'hellbent', 'for', 'the', 'safety', 'of', 'the', 'wall', 'but', 'that', 'was', 'not', 'feeling', 'to', 'share', 'with', 'your', 'commander'], ['especially', 'not', 'commander', 'like', 'this', 'one'], ['ser', 'waymar', 'royce', 'was', 'the', 'youngest', 'son', 'of', 'an', 'ancient', 'house', 'with', 'too', 'many', 'heirs'], ['he', 'was', 'handsome', 'youth', 'of', 'eighteen', 'grey', 'eyed', 'and', 'graceful', 'and', 'slender', 'as', 'knife'], ['mounted', 'on', 'his', 'huge', 'black', 'destrier', 'the', 'knight', 'towered', 'above', 'will', 'and', 'gared', 'on', 'their', 'smaller', 'garrons'], ['he', 'wore', 'black', 'leather', 'boots', 'black', 'woolen', 'pants', 'black', 'moleskin', 'gloves', 'and', 'fine', 'supple', 'coat', 'of', 'gleaming', 'black', 'ringmail', 'over', 'layers', 'of', 'black', 'wool', 'and', 'boiled', 'leather'], ['ser', 'waymar', 'had', 'been', 'sworn', 'brother', 'of', 'the', 'night', 'watch', 'for', 'less', 'than', 'half', 'year', 'but', 'no', 'one', 'could', 'say', 'he', 'had', 'not', 'prepared', 'for', 'his', 'vocation'], ['at', 'least', 'insofar', 'as', 'his', 'wardrobe', 'was', 'concerned'], ['his', 'cloak', 'was', 'his', 'crowning', 'glory', 'sable', 'thick', 'and', 'black', 'and', 'soft', 'as', 'sin'], ['bet', 'he', 'killed', 'them', 'all', 'himself', 'he', 'did', 'gared', 'told', 'the', 'barracks', 'over', 'wine', 'twisted', 'their', 'little', 'heads', 'off', 'our', 'mighty', 'warrior'], ['they', 'had', 'all', 'shared', 'the', 'laugh'], ['it', 'is', 'hard', 'to', 'take', 'orders', 'from', 'man', 'you', 'laughed', 'at', 'in', 'your', 'cups', 'will', 'reflected', 'as', 'he', 'sat', 'shivering', 'atop', 'his', 'garron'], ['gared', 'must', 'have', 'felt', 'the', 'same'], ['mormont', 'said', 'as', 'we', 'should', 'track', 'them', 'and', 'we', 'did', 'gared', 'said'], ['they', 're', 'dead'], ['they', 'shan', 'trouble', 'us', 'no', 'more'], ['there', 'hard', 'riding', 'before', 'us'], ['don', 'like', 'this', 'weather'], ['if', 'it', 'snows', 'we', 'could', 'be', 'fortnight', 'getting', 'back', 'and', 'snow', 'the', 'best', 'we', 'can', 'hope', 'for'], ['ever', 'seen', 'an', 'ice', 'storm', 'my', 'lord'], ['the', 'lordling', 'seemed', 'not', 'to', 'hear', 'him'], ['he', 'studied', 'the', 'deepening', 'twilight', 'in', 'that', 'half', 'bored', 'half', 'distracted', 'page', 'way', 'he', 'had'], ['will', 'had', 'ridden', 'with', 'the', 'knight', 'long', 'enough', 'to', 'understand', 'that', 'it', 'was', 'best', 'not', 'to', 'interrupt', 'him', 'when', 'he', 'looked', 'like', 'that'], ['tell', 'me', 'again', 'what', 'you', 'saw', 'will'], ['all', 'the', 'details'], ['leave', 'nothing', 'out'], ['will', 'had', 'been', 'hunter', 'before', 'he', 'joined', 'the', 'night', 'watch'], ['well', 'poacher', 'in', 'truth'], ['mallister', 'freeriders', 'had', 'caught', 'him', 'red', 'handed', 'in', 'the', 'mallisters', 'own', 'woods', 'skinning', 'one', 'of', 'the', 'mallisters', 'own', 'bucks', 'and', 'it', 'had', 'been', 'choice', 'of', 'putting', 'on', 'the', 'black', 'or', 'losing', 'hand'], ['no', 'one', 'could', 'move', 'through', 'the', 'woods', 'as', 'silent', 'as', 'will', 'and', 'it', 'had', 'not', 'taken', 'the', 'black', 'brothers', 'long', 'to', 'discover', 'his', 'talent'], ['the', 'camp', 'is', 'two', 'miles', 'farther', 'on', 'over', 'that', 'ridge', 'hard', 'beside', 'stream', 'will', 'said'], ['got', 'close', 'as', 'dared'], ['there', 'eight', 'of', 'them', 'men', 'and', 'women', 'both'], ['no', 'children', 'could', 'see'], ['they', 'put', 'up', 'lean', 'to', 'against', 'the', 'rock'], ['the', 'snow', 'pretty', 'well', 'covered', 'it', 'now', 'but', 'could', 'still', 'make', 'it', 'out'], ['no', 'fire', 'burning', 'but', 'the', 'firepit', 'was', 'still', 'plain', 'as', 'day'], ['no', 'one', 'moving'], ['watched', 'long', 'time'], ['no', 'living', 'man', 'ever', 'lay', 'so', 'still'], ['did', 'you', 'see', 'any', 'blood'], ['well', 'no', 'will', 'admitted'], ['did', 'you', 'see', 'any', 'weapons'], ['some', 'swords', 'few', 'bows'], ['one', 'man', 'had', 'an', 'axe'], ['heavy', 'looking', 'double', 'bladed', 'cruel', 'piece', 'of', 'iron'], ['it', 'was', 'on', 'the', 'ground', 'beside', 'him', 'right', 'by', 'his', 'hand'], ['did', 'you', 'make', 'note', 'of', 'the', 'position', 'of', 'the', 'bodies'], ['will', 'shrugged'], ['couple', 'are', 'sitting', 'up', 'against', 'the', 'rock'], ['most', 'of', 'them', 'on', 'the', 'ground'], ['fallen', 'like'], ['or', 'sleeping', 'royce', 'suggested'], ['fallen', 'will', 'insisted'], ['there', 'one', 'woman', 'up', 'an', 'ironwood', 'halfhid', 'in', 'the', 'branches']]\n"
     ]
    }
   ],
   "source": [
    "# Size of 'story'\n",
    "print(len(story))\n",
    "\n",
    "# Print 'story' vector\n",
    "print(story[:100])"
   ],
   "metadata": {
    "collapsed": false,
    "ExecuteTime": {
     "end_time": "2023-10-19T10:55:43.827349100Z",
     "start_time": "2023-10-19T10:55:43.810405600Z"
    }
   }
  },
  {
   "cell_type": "markdown",
   "source": [
    "**TRAIN the Word2Vec model**"
   ],
   "metadata": {
    "collapsed": false
   }
  },
  {
   "cell_type": "code",
   "execution_count": 66,
   "outputs": [],
   "source": [
    "# Instantiate the Word2vec model\n",
    "Word2Vec_model2 = gensim.models.Word2Vec(window = 10,       # maximum distance between the current and predicted word within a sentence (size of the context window)\n",
    "                               min_count = 2,     # minimum number of times a word must appear in the corpus to be considered during training. Words with very low frequencies are often removed to reduce noise in the model.\n",
    "                               workers = 4)       # number of CPU cores to be used for training the model. More workers can lead to faster training."
   ],
   "metadata": {
    "collapsed": false,
    "ExecuteTime": {
     "end_time": "2023-10-20T09:20:49.980629900Z",
     "start_time": "2023-10-20T09:20:49.970646300Z"
    }
   }
  },
  {
   "cell_type": "code",
   "execution_count": 67,
   "outputs": [],
   "source": [
    "# Create the Vocabulary of \"story\" based on 'model'\n",
    "Word2Vec_model2.build_vocab(story)"
   ],
   "metadata": {
    "collapsed": false,
    "ExecuteTime": {
     "end_time": "2023-10-20T09:21:00.264469700Z",
     "start_time": "2023-10-20T09:20:59.837345400Z"
    }
   }
  },
  {
   "cell_type": "code",
   "execution_count": 68,
   "outputs": [
    {
     "data": {
      "text/plain": "(6570207, 8628190)"
     },
     "execution_count": 68,
     "metadata": {},
     "output_type": "execute_result"
    }
   ],
   "source": [
    "# TRAIN the Word2Vec model\n",
    "Word2Vec_model2.train(story,                                   # ---> Always expected to be tokenized sentences\n",
    "            total_examples = Word2Vec_model2.corpus_count,     # ---> Specifies the total number of training examples. 'model.corpus_count' is assumed to hold the total number of sentences\n",
    "            epochs = Word2Vec_model2.epochs)                   # --->  determines the number of training iterations over the dataset. 'model.epochs' is likely a variable holding the number of training epochs."
   ],
   "metadata": {
    "collapsed": false,
    "ExecuteTime": {
     "end_time": "2023-10-20T09:21:11.063654600Z",
     "start_time": "2023-10-20T09:21:08.936394500Z"
    }
   }
  },
  {
   "cell_type": "markdown",
   "source": [
    "**Once trained, the Word2Vec_model can be used to obtain word embeddings for words in the corpus or for downstream natural language processing tasks.**"
   ],
   "metadata": {
    "collapsed": false
   }
  },
  {
   "cell_type": "code",
   "execution_count": 70,
   "outputs": [
    {
     "data": {
      "text/plain": "[('stormborn', 0.8233193159103394),\n ('targaryen', 0.7718337774276733),\n ('unburnt', 0.7110245823860168),\n ('viserys', 0.7089210748672485),\n ('queen', 0.6991424560546875),\n ('princess', 0.698495626449585),\n ('elia', 0.691801905632019),\n ('rhaegar', 0.6882088780403137),\n ('margaery', 0.6851475834846497),\n ('myrcella', 0.6821972131729126)]"
     },
     "execution_count": 70,
     "metadata": {},
     "output_type": "execute_result"
    }
   ],
   "source": [
    "Word2Vec_model2.wv.most_similar('daenerys')"
   ],
   "metadata": {
    "collapsed": false,
    "ExecuteTime": {
     "end_time": "2023-10-20T09:21:31.622332300Z",
     "start_time": "2023-10-20T09:21:31.317457200Z"
    }
   }
  },
  {
   "cell_type": "code",
   "execution_count": 71,
   "outputs": [
    {
     "data": {
      "text/plain": "'jon'"
     },
     "execution_count": 71,
     "metadata": {},
     "output_type": "execute_result"
    }
   ],
   "source": [
    "Word2Vec_model2.wv.doesnt_match(['jon', 'rikon', 'robb', 'arya', 'sansa', 'bran'])"
   ],
   "metadata": {
    "collapsed": false,
    "ExecuteTime": {
     "end_time": "2023-10-20T09:21:31.624327400Z",
     "start_time": "2023-10-20T09:21:31.322440600Z"
    }
   }
  },
  {
   "cell_type": "code",
   "execution_count": 72,
   "outputs": [
    {
     "data": {
      "text/plain": "'bronn'"
     },
     "execution_count": 72,
     "metadata": {},
     "output_type": "execute_result"
    }
   ],
   "source": [
    "Word2Vec_model2.wv.doesnt_match(['cersei', 'jaime', 'bronn', 'tyrion'])"
   ],
   "metadata": {
    "collapsed": false,
    "ExecuteTime": {
     "end_time": "2023-10-20T09:21:31.624327400Z",
     "start_time": "2023-10-20T09:21:31.333583600Z"
    }
   }
  },
  {
   "cell_type": "code",
   "execution_count": 73,
   "outputs": [
    {
     "name": "stdout",
     "output_type": "stream",
     "text": [
      "[ 0.8385213  -0.32660002  2.4832273   1.3739705  -0.68670666  1.5288645\n",
      " -0.9064945  -0.14985189 -0.6579333  -1.2585018  -1.9412525   0.46761927\n",
      "  1.4651912   1.920611   -2.7219985  -0.7131552  -0.6748674   3.2017539\n",
      "  1.318852    2.3343842   0.6258875  -0.5407192   0.96264243 -3.1946523\n",
      " -1.2901669   1.8450948  -0.10530413 -2.2906604   1.6824007   0.46300274\n",
      " -3.3540008   0.70043564  1.9128523  -0.29968357  3.0447953  -3.237226\n",
      " -1.7406158  -1.6336908   0.57345444 -4.112034   -0.87156993  2.1654003\n",
      "  1.284714   -0.8237764  -0.06316835 -1.8724283   0.2829679  -2.7961738\n",
      "  3.126344   -2.533017   -2.325688   -0.5829145  -2.4539921  -4.4085603\n",
      "  2.1058238  -2.7390673  -0.20640023  0.5620899   0.46157134  0.5732121\n",
      "  1.2047747   1.9023302  -0.8390119   0.50373393  0.3043873   2.4742224\n",
      " -1.2991458  -0.4343109   0.59889376 -2.1053457   0.8134864   2.1276329\n",
      "  4.6359115  -0.04990909  2.4811332   0.3449794  -0.04451819 -1.9887319\n",
      " -0.34851268 -0.89618486  1.1765779   3.2417228  -1.589542   -0.52744997\n",
      " -3.671164   -2.5842717  -0.5001669   1.9763417   2.5748718  -0.37098348\n",
      "  0.9680726  -0.23157299 -1.1849668  -2.0320823   0.79343796 -2.5319114\n",
      " -2.0834458   1.0518255  -0.5375902   0.1910031 ]\n",
      "(100,)\n"
     ]
    }
   ],
   "source": [
    "print(Word2Vec_model2.wv['king'])\n",
    "\n",
    "print(Word2Vec_model2.wv['king'].shape)"
   ],
   "metadata": {
    "collapsed": false,
    "ExecuteTime": {
     "end_time": "2023-10-20T09:21:31.677928400Z",
     "start_time": "2023-10-20T09:21:31.338614100Z"
    }
   }
  },
  {
   "cell_type": "code",
   "execution_count": 74,
   "outputs": [
    {
     "data": {
      "text/plain": "0.8375704"
     },
     "execution_count": 74,
     "metadata": {},
     "output_type": "execute_result"
    }
   ],
   "source": [
    "Word2Vec_model2.wv.similarity('arya', 'sansa')"
   ],
   "metadata": {
    "collapsed": false,
    "ExecuteTime": {
     "end_time": "2023-10-20T09:21:31.677928400Z",
     "start_time": "2023-10-20T09:21:31.343151300Z"
    }
   }
  },
  {
   "cell_type": "code",
   "execution_count": 75,
   "outputs": [
    {
     "data": {
      "text/plain": "0.77544475"
     },
     "execution_count": 75,
     "metadata": {},
     "output_type": "execute_result"
    }
   ],
   "source": [
    "Word2Vec_model2.wv.similarity('cersei', 'sansa')"
   ],
   "metadata": {
    "collapsed": false,
    "ExecuteTime": {
     "end_time": "2023-10-20T09:21:31.677928400Z",
     "start_time": "2023-10-20T09:21:31.350006100Z"
    }
   }
  },
  {
   "cell_type": "code",
   "execution_count": 76,
   "outputs": [
    {
     "data": {
      "text/plain": "0.24595071"
     },
     "execution_count": 76,
     "metadata": {},
     "output_type": "execute_result"
    }
   ],
   "source": [
    "Word2Vec_model2.wv.similarity('tywin', 'sansa')"
   ],
   "metadata": {
    "collapsed": false,
    "ExecuteTime": {
     "end_time": "2023-10-20T09:21:31.677928400Z",
     "start_time": "2023-10-20T09:21:31.353110200Z"
    }
   }
  },
  {
   "cell_type": "code",
   "execution_count": 77,
   "outputs": [
    {
     "name": "stdout",
     "output_type": "stream",
     "text": [
      "[[-0.14291956 -0.16906518  0.09170673 ... -0.04753628  0.08504093\n",
      "   0.04904262]\n",
      " [-0.16266577 -0.15573785  0.11031783 ... -0.05131987 -0.02999355\n",
      "   0.18084556]\n",
      " [ 0.06822678 -0.06784158 -0.09801825 ...  0.00143532  0.03326532\n",
      "  -0.05417931]\n",
      " ...\n",
      " [ 0.03302287  0.04284379 -0.06652787 ...  0.00112755  0.03193364\n",
      "  -0.08434646]\n",
      " [-0.02375463  0.10225476  0.11504482 ...  0.00067619  0.13837829\n",
      "  -0.06792125]\n",
      " [-0.03034963  0.03301172  0.10083866 ...  0.0054536   0.02690871\n",
      "  -0.06748521]]\n",
      "(17453, 100)\n"
     ]
    }
   ],
   "source": [
    "# Get the normalized vectors for each word of the Vocabulary (Useful for PCA)\n",
    "print(Word2Vec_model2.wv.get_normed_vectors())\n",
    "\n",
    "# Get the total of normalized vectors and the size of each (the same value for all)\n",
    "print(Word2Vec_model2.wv.get_normed_vectors().shape)"
   ],
   "metadata": {
    "collapsed": false,
    "ExecuteTime": {
     "end_time": "2023-10-20T09:21:31.677928400Z",
     "start_time": "2023-10-20T09:21:31.357558Z"
    }
   }
  },
  {
   "cell_type": "code",
   "execution_count": 78,
   "outputs": [
    {
     "name": "stdout",
     "output_type": "stream",
     "text": [
      "['the', 'and', 'to', 'of', 'he', 'his', 'was', 'you', 'her', 'in', 'it', 'had', 'that', 'she', 'as', 'with', 'him', 'not', 'but', 'for', 'they', 'is', 'at', 'on', 'said', 'my', 'have', 'be', 'lord', 'them', 'no', 'from', 'would', 'were', 'me', 'your', 'one', 'all', 'when', 'will', 'ser', 'if', 'so', 'their', 'we', 'could', 'are', 'man', 'there', 'this', 'up', 'been', 'what', 'did', 'by', 'king', 'do', 'men', 'back', 'out', 'more', 'or', 'who', 'down', 'well', 'than', 'only', 'like', 'jon', 'some', 'father', 'old', 'hand', 'even', 'too', 'tyrion', 'before', 'never', 'an', 'off', 'see', 'know', 'into', 'made', 'now', 'eyes', 'black', 'told', 'lady', 'thought', 'time', 'then', 'how', 'long', 'has', 'can', 'might', 'us', 'come', 'where', 'here', 'through', 'still', 'face', 'head', 'red', 'll', 'way', 'boy', 'page', 'must', 'once', 'queen', 'good', 'two', 'brother', 'night', 'over', 'little', 'about', 'took', 'other', 'came', 'though', 'again', 'say', 'three', 'should', 'away', 'dead', 'son', 'own', 'blood', 'am', 'take', 'go', 'half', 'make', 'arya', 'saw', 'day', 'white', 'jaime', 'first', 'himself', 'our', 'look', 'want', 'after', 'much', 'enough', 'sword', 'tell', 'girl', 'bran', 'great', 'its', 'looked', 'left', 'knew', 'asked', 'gave', 'maester', 'called', 'wall', 'every', 'heard', 'sansa', 'let', 'yet', 'went', 'turned', 'dany', 'why', 'need', 'behind', 'around', 'just', 'woman', 'another', 'snow', 'beneath', 'across', 'knight', 'keep', 'grace', 'found', 'gold', 'any', 'last', 'cersei', 'castle', 'those', 'stark', 'gods', 'think', 'hair', 'many', 'feet', 'against', 'hands', 'stannis', 'mother', 'catelyn', 'robert', 'seemed', 'prince', 'may', 'ever', 'robb', 'done', 'don', 'find', 'lannister', 're', 'hear', 'grey', 'name', 'horse', 'high', 'put', 'stone', 'wine', 'hard', 'water', 'upon', 'fire', 'iron', 'until', 'these', 'voice', 'gone', 'give', 'sam', 'seen', 'better', 'shall', 'ned', 'always', 'years', 'between', 'dark', 'place', 'small', 'cold', 'winterfell', 'most', 'hundred', 'stood', 'end', 'sister', 'words', 'sea', 'right', 'nothing', 'walls', 'fingers', 'same', 'cloak', 'house', 'young', 'does', 'beside', 'get', 'mouth', 'seven', 'watch', 'door', 'joffrey', 'green', 'big', 'under', 'few', 'sent', 'perhaps', 'almost', 'such', 'wanted', 'daughter', 'true', 'while', 'leave', 'city', 'wind', 'light', 'arms', 'children', 'herself', 'sweet', 'others', 'lost', 'theon', 'each', 'felt', 'side', 'yes', 'brothers', 'best', 'very', 'die', 'brought', 'soon', 'far', 'died', 'north', 'child', 'fear', 'along', 'word', 'brienne', 'both', 'taken', 'battle', 'help', 'new', 'tywin', 'davos', 'lords', 'something', 've', 'wife', 'mean', 'rest', 'hall', 'kill', 'strong', 'steel', 'began', 'sound', 'won', 'dragon', 'past', 'life', 'tower', 'killed', 'arm', 'sons', 'tried', 'free', 'thing', 'days', 'bear', 'bloody', 'heart', 'pale', 'love', 'moment', 'sat', 'bring', 'bed', 'close', 'knights', 'cut', 'wolf', 'horses', 'smile', 'death', 'inside', 'four', 'brown', 'dragons', 'hot', 'silver', 'part', 'bastard', 'open', 'nor', 'thousand', 'landing', 'uncle', 'above', 'going', 'blue', 'air', 'captain', 'please', 'laughed', 'river', 'sun', 'rose', 'fell', 'war', 'golden', 'sleep', 'without', 'swords', 'speak', 'renly', 'full', 'fool', 'certain', 'beyond', 'feel', 'send', 'tongue', 'got', 'fight', 'rode', 'set', 'thick', 'throat', 'world', 'deep', 'legs', 'call', 'honor', 'rock', 'trees', 'tall', 'table', 'pulled', 'broken', 'mormont', 'women', 'steps', 'things', 'next', 'hodor', 'heavy', 'burned', 'oh', 'toward', 'together', 'skin', 'given', 'since', 'smiled', 'dwarf', 'alone', 'moved', 'storm', 'raised', 'ride', 'ask', 'hope', 'eye', 'soft', 'reached', 'frey', 'second', 'remember', 'someone', 'remembered', 'coming', 'meant', 'cannot', 'hold', 'morning', 'ten', 'teeth', 'else', 'throne', 'command', 'which', 'fat', 'truth', 'commander', 'walder', 'doubt', 'ground', 'jorah', 'cup', 'outside', 'known', 'wore', 'ran', 'gate', 'room', 'held', 'closed', 'home', 'matter', 'sky', 'south', 'wood', 'dozen', 'wed', 'people', 'neck', 'riverrun', 'food', 'instead', 'near', 'talk', 'turn', 'none', 'ships', 'tyrell', 'below', 'moon', 'summer', 'bolton', 'shadow', 'lips', 'watched', 'times', 'leather', 'varys', 'shoulder', 'septon', 'warm', 'caught', 'believe', 'least', 'guards', 'answer', 'god', 'blade', 'wondered', 'ice', 'opened', 'shield', 'barristan', 'mine', 'armor', 'safe', 'six', 'kept', 'wish', 'return', 'tommen', 'used', 'smell', 'less', 'being', 'foot', 'floor', 'squire', 'eddard', 'empty', 'run', 'followed', 'friends', 'serve', 'beard', 'boys', 'baratheon', 'cloaks', 'wedding', 'eat', 'wrong', 'daenerys', 'ghost', 'sight', 'flesh', 'five', 'hound', 'ship', 'strength', 'returned', 'bones', 'nose', 'crown', 'yellow', 'chest', 'covered', 'says', 'commanded', 'petyr', 'sometimes', 'filled', 'aemon', 'friend', 'led', 'aye', 'common', 'yours', 'flames', 'spoke', 'show', 'fighting', 'asha', 'huge', 'aside', 'lysa', 'crow', 'belly', 'master', 'breath', 'seem', 'yard', 'gates', 'waiting', 'within', 'looking', 'wet', 'wooden', 'realm', 'thin', 'work', 'bad', 'use', 'promised', 'later', 'tree', 'husband', 'grew', 'onto', 'wildlings', 'loved', 'afraid', 'girls', 'greyjoy', 'shoulders', 'rain', 'shouted', 'walked', 'maid', 'mance', 'remained', 'late', 'guard', 'littlefinger', 'meereen', 'liked', 'fall', 'year', 'margaery', 'dog', 'passed', 'hurt', 'balon', 'taste', 'dothraki', 'lay', 'drew', 'spear', 'song', 'realized', 'pushed', 'sure', 'named', 'reach', 'brave', 'stand', 'different', 'finally', 'whispered', 'wolves', 'suddenly', 'poor', 'kingsguard', 'drogo', 'stay', 'arryn', 'stop', 'kingdoms', 'broke', 'ears', 'edmure', 'princess', 'burning', 'faces', 'lannisters', 'dream', 'axe', 'direwolf', 'west', 'tears', 'heir', 'drink', 'clegane', 'darkness', 'either', 'pointed', 'raven', 'hill', 'try', 'forward', 'sworn', 'pain', 'khal', 'lie', 'dagger', 'truly', 'kings', 'seat', 'grown', 'born', 'road', 'harrenhal', 'care', 'bronn', 'round', 'helm', 'feast', 'understand', 'quick', 'pycelle', 'meat', 'amongst', 'lifted', 'longer', 'reminded', 'whilst', 'maybe', 'mountain', 'short', 'step', 'rodrik', 'pretty', 'melisandre', 'ones', 'third', 'bit', 'worse', 'stopped', 'lands', 'aegon', 'sit', 'victarion', 'save', 'sharp', 'knows', 'live', 'smoke', 'whose', 'pray', 'leg', 'window', 'horn', 'younger', 'westeros', 'didn', 'twenty', 'silk', 'heads', 'slaves', 'ago', 'septa', 'pie', 'peace', 'laugh', 'hizdahr', 'mind', 'low', 'bread', 'wants', 'east', 'blind', 'reek', 'mad', 'sooner', 'towers', 'bright', 'myself', 'coin', 'older', 'slain', 'camp', 'making', 'walk', 'drowned', 'served', 'narrow', 'salt', 'point', 'wait', 'glanced', 'cheeks', 'cousin', 'luwin', 'knife', 'targaryen', 'shook', 'touched', 'quiet', 'stepped', 'sort', 'often', 'riding', 'naked', 'twisted', 'loras', 'choice', 'during', 'lion', 'forgotten', 'silence', 'fish', 'kevan', 'ramsay', 'hung', 'read', 'gift', 'running', 'replied', 'fallen', 'large', 'knees', 'silent', 'fought', 'company', 'cat', 'ahead', 'sept', 'needs', 'beautiful', 'rhaegar', 'dogs', 'dawn', 'knee', 'pass', 'dorne', 'casterly', 'mud', 'themselves', 'tully', 'body', 'singer', 'gregor', 'court', 'stupid', 'age', 'meera', 'trying', 'top', 'swear', 'kind', 'offered', 'gendry', 'leaves', 'whole', 'clothes', 'closer', 'anything', 'kiss', 'whatever', 'threw', 'wonder', 'agreed', 'pay', 'answered', 'climbed', 'saying', 'saddle', 'wide', 'stars', 'comes', 'stones', 'chain', 'trust', 'host', 'fair', 'pleased', 'trident', 'yourself', 'yunkai', 'dry', 'hour', 'insisted', 'eight', 'spears', 'dying', 'ear', 'fast', 'carried', 'service', 'doors', 'ought', 'fist', 'woods', 'mail', 'council', 'wasn', 'fine', 'crossed', 'needed', 'join', 'thank', 'milk', 'wildling', 'quentyn', 'finger', 'gilly', 'shadows', 'doing', 'tent', 'win', 'bird', 'land', 'helped', 'boots', 'imp', 'crows', 'names', 'somehow', 'folk', 'kissed', 'winter', 'letter', 'banners', 'screamed', 'angry', 'pink', 'frightened', 'learn', 'alive', 'torch', 'chair', 'eunuch', 'watching', 'daughters', 'tarly', 'dragonstone', 'harm', 'fires', 'learned', 'standing', 'serving', 'easy', 'neither', 'nine', 'wings', 'question', 'drunk', 'sail', 'priest', 'sisters', 'myrcella', 'nodded', 'harbor', 'bone', 'forth', 'warned', 'giant', 'slow', 'field', 'slipped', 'slid', 'slowly', 'bronze', 'dreams', 'falling', 'atop', 'promise', 'rise', 'slave', 'illyrio', 'whore', 'line', 'move', 'flowers', 'pyke', 'makes', 'laughter', 'loose', 'earth', 'grass', 'faced', 'bay', 'declared', 'twice', 'front', 'lived', 'power', 'viserys', 'cell', 'happened', 'because', 'play', 'chains', 'break', 'dance', 'oldtown', 'surely', 'aerys', 'clean', 'claim', 'unless', 'jeyne', 'eyrie', 'cried', 'fresh', 'pair', 'tormund', 'craster', 'laid', 'quite', 'morrow', 'shouting', 'sad', 'game', 'met', 'already', 'rule', 'touch', 'softly', 'woke', 'steward', 'sense', 'afterward', 'count', 'started', 'mounted', 'waters', 'sudden', 'captive', 'hide', 'jojen', 'highgarden', 'ravens', 'cheek', 'however', 'purple', 'course', 'follow', 'means', 'taking', 'among', 'anyone', 'rickon', 'carved', 'bare', 'wench', 'noble', 'grenn', 'waited', 'rising', 'murdered', 'thinking', 'cruel', 'weak', 'vale', 'roof', 'roose', 'hidden', 'wouldn', 'eyed', 'town', 'forest', 'arrow', 'blow', 'hungry', 'today', 'growing', 'wise', 'grand', 'voices', 'sorry', 'army', 'cry', 'tale', 'wound', 'griff', 'protect', 'weight', 'twins', 'beric', 'ugly', 'inn', 'sick', 'climb', 'ygritte', 'hoped', 'forget', 'dressed', 'knelt', 'rolled', 'enemies', 'chance', 'marry', 'fur', 'daario', 'lad', 'seems', 'courage', 'grow', 'freys', 'whether', 'laughing', 'smiling', 'fleet', 'bride', 'square', 'appeared', 'meet', 'unsullied', 'marriage', 'corpse', 'breasts', 'kingslayer', 'wool', 'drank', 'showed', 'alayne', 'mountains', 'edge', 'trouble', 'frozen', 'march', 'mercy', 'arrows', 'shae', 'slynt', 'wear', 'ragged', 'sing', 'bound', 'recall', 'swore', 'allowed', 'welcome', 'offer', 'decided', 'ill', 'everything', 'spread', 'seated', 'slept', 'quickly', 'mace', 'sounded', 'wake', 'ancient', 'moving', 'tales', 'bowed', 'dare', 'flew', 'talking', 'yoren', 'lead', 'sellsword', 'living', 'apart', 'longsword', 'paid', 'till', 'breast', 'duty', 'penny', 'riders', 'claimed', 'grabbed', 'carry', 'ate', 'joff', 'beat', 'orange', 'royal', 'lives', 'babe', 'reznak', 'sellswords', 'rivers', 'village', 'remain', 'ale', 'captains', 'sighed', 'beast', 'shrugged', 'dreamed', 'defend', 'blackwater', 'tight', 'ben', 'leaving', 'listen', 'euron', 'wild', 'stared', 'joined', 'servants', 'leaned', 'sand', 'whores', 'braavos', 'handed', 'cause', 'redwyne', 'godswood', 'lot', 'bridge', 'clever', 'maiden', 'lancel', 'banner', 'strange', 'supper', 'cracked', 'bedchamber', 'astapor', 'able', 'looks', 'beg', 'feared', 'bow', 'tonight', 'whenever', 'shore', 'parchment', 'fit', 'deck', 'tom', 'lordship', 'nights', 'sandor', 'grief', 'hills', 'entered', 'swung', 'smelled', 'streets', 'fled', 'commands', 'thousands', 'widow', 'queer', 'starks', 'everywhere', 'arianne', 'khaleesi', 'chambers', 'announced', 'everyone', 'marsh', 'bannermen', 'nan', 'qyburn', 'scarcely', 'warrior', 'leagues', 'pleasure', 'terrible', 'plain', 'candle', 'frowned', 'valyrian', 'janos', 'rayder', 'hers', 'breeches', 'color', 'shoved', 'soldiers', 'shout', 'played', 'cities', 'brynden', 'cloth', 'songs', 'faith', 'taught', 'couldn', 'easily', 'built', 'share', 'book', 'tired', 'instant', 'chin', 'brow', 'volantis', 'stronger', 'murder', 'baelor', 'worth', 'windows', 'sang', 'rich', 'aeron', 'pull', 'flame', 'scream', 'fly', 'ready', 'selmy', 'fifty', 'somewhere', 'pyp', 'tourney', 'faint', 'demanded', 'feed', 'lose', 'bite', 'snapped', 'dornish', 'hundreds', 'victory', 'hunt', 'deal', 'manderly', 'pit', 'washed', 'become', 'choose', 'hardly', 'chapter', 'wounded', 'ilyn', 'belwas', 'vanished', 'forgive', 'justice', 'telling', 'pressed', 'brandon', 'secret', 'oberyn', 'sounds', 'companions', 'hate', 'heat', 'irri', 'kicked', 'lies', 'lowered', 'goat', 'edd', 'podrick', 'prayed', 'hours', 'stick', 'satin', 'burn', 'screaming', 'cheese', 'birds', 'turning', 'mare', 'sign', 'rather', 'oars', 'proud', 'thirty', 'catch', 'martell', 'rocks', 'kingsroad', 'fierce', 'qhorin', 'dared', 'fools', 'books', 'larger', 'wash', 'mount', 'tossed', 'belt', 'price', 'listening', 'alliser', 'besides', 'painted', 'anger', 'moat', 'osmund', 'cleos', 'farther', 'eastwatch', 'clad', 'attack', 'likely', 'grinned', 'wrapped', 'muttered', 'outlaws', 'wished', 'admitted', 'giving', 'dangerous', 'sour', 'broad', 'cousins', 'dress', 'torn', 'dropped', 'hit', 'gown', 'plate', 'false', 'shame', 'corpses', 'bells', 'stranger', 'surrounded', 'distant', 'doran', 'lip', 'meryn', 'reason', 'start', 'holding', 'rangers', 'castles', 'slew', 'thrust', 'grant', 'bold', 'stream', 'calling', 'wondering', 'royce', 'single', 'slaver', 'expected', 'bottom', 'stables', 'also', 'spat', 'shut', 'buy', 'sleeping', 'glover', 'suggested', 'boat', 'likes', 'houses', 'torches', 'blew', 'drinking', 'spare', 'itself', 'change', 'crimson', 'urged', 'giants', 'cook', 'dick', 'stiff', 'lem', 'temple', 'bent', 'allow', 'stories', 'gentle', 'karstark', 'shared', 'heels', 'kindly', 'boros', 'cross', 'eldest', 'pieces', 'oak', 'brushed', 'shields', 'loyal', 'sitting', 'northmen', 'islands', 'qarth', 'harder', 'changed', 'column', 'suppose', 'spent', 'weirwood', 'whip', 'wives', 'echoed', 'counsel', 'birth', 'shining', 'branches', 'chamber', 'glass', 'hunting', 'stony', 'armed', 'gathered', 'kettleblack', 'smashed', 'jhiqui', 'enemy', 'honey', 'spotted', 'weeping', 'traitor', 'lance', 'picked', 'archers', 'dontos', 'cups', 'beasts', 'places', 'pity', 'gotten', 'proved', 'handsome', 'fond', 'whispering', 'size', 'litter', 'treason', 'squires', 'raw', 'pig', 'citadel', 'sheep', 'finished', 'real', 'buried', 'hilt', 'escape', 'island', 'visit', 'foes', 'smaller', 'emerged', 'shy', 'vows', 'siege', 'twelve', 'stallion', 'walking', 'begun', 'sending', 'masters', 'listened', 'leapt', 'refused', 'alike', 'seized', 'marble', 'pool', 'glad', 'ring', 'swallowed', 'chosen', 'lake', 'craven', 'hoster', 'stag', 'drogon', 'steal', 'worst', 'crept', 'dreadfort', 'lions', 'path', 'bowen', 'tunic', 'guardsmen', 'gently', 'escort', 'arrived', 'supposed', 'skull', 'sweat', 'ranger', 'crowd', 'deny', 'smooth', 'pack', 'payne', 'drove', 'especially', 'believed', 'solar', 'loud', 'galleys', 'happy', 'tail', 'several', 'tone', 'zo', 'saved', 'music', 'complained', 'val', 'chose', 'crowned', 'risk', 'wyman', 'fury', 'glimpsed', 'throw', 'rang', 'ironmen', 'waved', 'galley', 'halfhand', 'velvet', 'flagon', 'smallfolk', 'takes', 'drawn', 'lightly', 'damp', 'waist', 'grandfather', 'swept', 'lovely', 'staring', 'bench', 'thoros', 'boiled', 'robes', 'hearth', 'crowded', 'cool', 'feeling', 'faded', 'guests', 'fields', 'darry', 'prayer', 'fed', 'ward', 'slammed', 'shape', 'prove', 'duck', 'understood', 'trade', 'flung', 'creature', 'whisper', 'missing', 'worm', 'studied', 'twin', 'having', 'xaro', 'onion', 'singing', 'sack', 'crossing', 'expect', 'pentos', 'burst', 'story', 'fill', 'asleep', 'ended', 'pate', 'seal', 'bore', 'bald', 'candles', 'killing', 'rope', 'clear', 'knocked', 'cabin', 'corn', 'stayed', 'copper', 'jory', 'beauty', 'loudly', 'scared', 'greatjon', 'heartbeat', 'pride', 'match', 'bitter', 'haired', 'lied', 'fork', 'weary', 'osha', 'haldon', 'port', 'struck', 'folly', 'innocent', 'hated', 'merryweather', 'singers', 'shaking', 'rubbed', 'yards', 'flat', 'missandei', 'nephew', 'myrish', 'yield', 'chill', 'ridden', 'straight', 'deepwood', 'piss', 'straw', 'samwell', 'boar', 'forced', 'abandoned', 'spoken', 'cock', 'baby', 'mummer', 'forty', 'crying', 'evening', 'arys', 'business', 'draw', 'wisdom', 'grave', 'apple', 'deeper', 'cursed', 'ironborn', 'noye', 'ruins', 'baelish', 'foe', 'aunt', 'flying', 'eggs', 'lying', 'spit', 'sell', 'harpy', 'weep', 'rider', 'notion', 'doublet', 'reflected', 'danced', 'fetch', 'center', 'playing', 'blackfish', 'landed', 'wounds', 'murmured', 'goes', 'thrice', 'warmth', 'imagine', 'poured', 'dolorous', 'scent', 'bend', 'hood', 'dragged', 'poison', 'blades', 'rough', 'faster', 'bank', 'ladies', 'chett', 'seek', 'snorted', 'florent', 'memory', 'monster', 'spun', 'dancing', 'mo', 'noise', 'axell', 'stair', 'simple', 'highborn', 'wearing', 'eaten', 'sails', 'seldom', 'task', 'waves', 'secrets', 'ways', 'ripped', 'needle', 'obey', 'swollen', 'happen', 'wits', 'bigger', 'blame', 'arbor', 'lit', 'remembering', 'sigil', 'isn', 'gyles', 'youth', 'fortnight', 'strike', 'dirt', 'wrist', 'selyse', 'courtesy', 'rights', 'stumbled', 'forever', 'hadn', 'corner', 'distance', 'lines', 'passing', 'cage', 'battles', 'glory', 'rats', 'butcher', 'metal', 'teach', 'wiped', 'jaw', 'oft', 'bowl', 'present', 'khalasar', 'onions', 'worn', 'taller', 'connington', 'cast', 'pulling', 'write', 'clouds', 'merchant', 'lightning', 'sharply', 'harlaw', 'household', 'require', 'dusk', 'eating', 'doesn', 'collar', 'clutched', 'furs', 'roared', 'axes', 'mummers', 'written', 'gerris', 'magnar', 'sweetling', 'flint', 'wagons', 'howling', 'proper', 'stomach', 'holy', 'emmon', 'colors', 'surprised', 'swallow', 'blowing', 'keeps', 'pardon', 'placed', 'hang', 'tents', 'magister', 'became', 'pounding', 'lys', 'hotah', 'managed', 'bought', 'dirk', 'randyll', 'cressen', 'human', 'slapped', 'flies', 'sunspear', 'hesitated', 'wrenched', 'tasted', 'thanks', 'higher', 'mark', 'nestor', 'hyle', 'damn', 'sailed', 'sleeve', 'slashed', 'osney', 'dornishmen', 'benjen', 'porridge', 'badly', 'force', 'raise', 'seeing', 'rickard', 'captives', 'savage', 'merrett', 'shivering', 'plump', 'thinks', 'kin', 'descended', 'curse', 'remains', 'garrison', 'isle', 'madness', 'shattered', 'elder', 'nurse', 'tore', 'castellan', 'crossbow', 'shaggy', 'thirteen', 'speaking', 'robe', 'lean', 'mask', 'massive', 'tied', 'oil', 'gladly', 'worked', 'hollow', 'lift', 'mallister', 'sailors', 'isles', 'begin', 'shone', 'usurper', 'message', 'mordane', 'myr', 'syrio', 'icy', 'glance', 'youngest', 'weapons', 'afternoon', 'sixteen', 'magic', 'lower', 'order', 'stretched', 'hllor', 'jhogo', 'meal', 'donned', 'case', 'plumm', 'hiding', 'charge', 'smells', 'letters', 'saan', 'slender', 'repeated', 'hero', 'considered', 'duskendale', 'trial', 'soaked', 'mistake', 'armory', 'trained', 'moonlight', 'smith', 'curled', 'ryman', 'begged', 'dareon', 'shagga', 'news', 'battlements', 'ash', 'slip', 'skahaz', 'alyn', 'sold', 'hoat', 'spied', 'armored', 'stump', 'snatched', 'shit', 'tarth', 'blanket', 'wept', 'rowan', 'star', 'pyramid', 'fifteen', 'shavepate', 'bull', 'clothing', 'lesson', 'autumn', 'marched', 'healer', 'frog', 'note', 'ghosts', 'lingered', 'breastplate', 'sewn', 'hole', 'elbow', 'pits', 'careful', 'champion', 'presence', 'horns', 'rear', 'thrown', 'holdfast', 'valyria', 'drunken', 'amidst', 'matters', 'crack', 'settled', 'joy', 'kitchens', 'stew', 'lommy', 'toes', 'bars', 'prayers', 'cost', 'fiery', 'mya', 'dust', 'agree', 'indeed', 'pot', 'knowing', 'rattleshirt', 'bodies', 'crew', 'bloodriders', 'confess', 'vargo', 'elia', 'loves', 'sides', 'clutching', 'rush', 'suffer', 'braavosi', 'stout', 'ruled', 'bid', 'roots', 'twisting', 'failed', 'wagon', 'asking', 'passage', 'brazen', 'shaft', 'quietly', 'married', 'shouldn', 'salladhor', 'riverlands', 'lined', 'wrote', 'drown', 'bleeding', 'gifts', 'comfort', 'piece', 'smallwood', 'tear', 'reply', 'terms', 'maesters', 'ashes', 'happens', 'crone', 'ah', 'ringing', 'thorne', 'bastards', 'begging', 'elsewise', 'gloves', 'swann', 'swift', 'fever', 'refuse', 'mirri', 'sullen', 'addam', 'pod', 'wary', 'hell', 'tokar', 'sniffed', 'dais', 'hooves', 'stained', 'parts', 'except', 'leading', 'hostage', 'fruit', 'flight', 'shifted', 'dried', 'scabbard', 'street', 'sunlight', 'rage', 'umber', 'plans', 'cailin', 'cleared', 'map', 'headed', 'aggo', 'snakes', 'swirling', 'clung', 'coins', 'linen', 'prefer', 'haunted', 'reed', 'chewed', 'despite', 'blackened', 'loraq', 'rolling', 'dondarrion', 'concern', 'monstrous', 'upward', 'motte', 'winds', 'gardens', 'harys', 'lannisport', 'shelter', 'support', 'dome', 'safely', 'betrayed', 'easier', 'crooked', 'taena', 'miles', 'nice', 'hopes', 'fourteen', 'steep', 'required', 'garth', 'bath', 'ignored', 'wrinkled', 'questions', 'ours', 'trusted', 'breathing', 'warriors', 'bringing', 'brush', 'kingdom', 'brick', 'curious', 'split', 'splendid', 'foolish', 'jade', 'hammer', 'drifting', 'chuckled', 'troubled', 'cave', 'louder', 'stolen', 'lances', 'backward', 'skins', 'loomed', 'missed', 'danger', 'harwin', 'cells', 'double', 'liar', 'otherwise', 'skinny', 'clydas', 'mighty', 'hid', 'throwing', 'noticed', 'carrying', 'tunnel', 'plan', 'hedge', 'foul', 'pools', 'strode', 'poisoned', 'anxious', 'hunter', 'burnt', 'maidenpool', 'stubborn', 'getting', 'asshai', 'lack', 'ghis', 'cover', 'backed', 'jerked', 'remind', 'tongues', 'voyage', 'rorge', 'journey', 'handful', 'surcoat', 'scattered', 'added', 'dim', 'skulls', 'search', 'gloom', 'jaqen', 'honest', 'huddled', 'precious', 'protector', 'yanked', 'maz', 'evil', 'tooth', 'duur', 'history', 'marillion', 'ghiscari', 'bitch', 'removed', 'stuffed', 'betrothed', 'halls', 'wager', 'damphair', 'rebellion', 'tide', 'scarred', 'climbing', 'dungeons', 'stroked', 'heroes', 'observed', 'striped', 'gaunt', 'confused', 'score', 'gallant', 'footsteps', 'servant', 'glow', 'licked', 'gilded', 'holds', 'tangled', 'grateful', 'nymeria', 'shouts', 'mounts', 'seed', 'ruin', 'brazier', 'donal', 'grip', 'hoping', 'lantern', 'vast', 'exile', 'guest', 'tumbled', 'amory', 'varamyr', 'wherever', 'enter', 'devan', 'hacked', 'overhead', 'deliver', 'rat', 'fuck', 'monsters', 'paper', 'waste', 'grasp', 'frowning', 'luck', 'flushed', 'sire', 'fourth', 'pylos', 'favor', 'aloud', 'boot', 'holes', 'shaped', 'terror', 'crawled', 'surprise', 'raped', 'doom', 'stirred', 'following', 'slit', 'creeping', 'hornwood', 'purpose', 'rushing', 'brothel', 'stole', 'scarce', 'miss', 'scarlet', 'summoned', 'sideways', 'egg', 'soul', 'party', 'sunset', 'hanging', 'blackwood', 'grim', 'fears', 'struggled', 'underneath', 'really', 'rightful', 'chained', 'shake', 'descent', 'cuts', 'denys', 'deaf', 'soup', 'band', 'fellow', 'stands', 'robin', 'piper', 'meribald', 'favorite', 'viper', 'crawling', 'anyway', 'notice', 'warden', 'whom', 'arakh', 'attend', 'slavers', 'kitchen', 'dreaming', 'weese', 'training', 'moss', 'smuggler', 'gatehouse', 'dwarfs', 'tyrells', 'slay', 'explained', 'clumsy', 'locked', 'worship', 'tables', 'maegor', 'nearest', 'blessed', 'loyalty', 'surface', 'kicking', 'admit', 'accept', 'marked', 'plucked', 'bacon', 'wildfire', 'trotted', 'main', 'lothar', 'roar', 'hanged', 'scars', 'rosby', 'torrhen', 'oath', 'scar', 'scales', 'circle', 'beating', 'mole', 'recalled', 'flapping', 'skirts', 'uncles', 'blinked', 'growled', 'heel', 'bearded', 'mules', 'quill', 'muddy', 'fewer', 'hearing', 'thoughts', 'harry', 'row', 'mead', 'carefully', 'aboard', 'mouse', 'dripping', 'direwolves', 'dear', 'rotting', 'mocked', 'dies', 'wyk', 'confessed', 'treacherous', 'building', 'tells', 'padded', 'stripped', 'thunder', 'yezzan', 'naught', 'colored', 'soldier', 'thighs', 'solid', 'view', 'howled', 'escaped', 'wax', 'drop', 'arstan', 'vow', 'centuries', 'knives', 'maids', 'stairs', 'smiles', 'judge', 'familiar', 'outer', 'kettle', 'roast', 'wars', 'former', 'kraken', 'tiny', 'ends', 'cellar', 'talked', 'garb', 'gazed', 'weasel', 'bracken', 'longships', 'lesser', 'pines', 'cotter', 'rings', 'dull', 'arse', 'shrug', 'armorer', 'timett', 'filling', 'snake', 'gestured', 'fault', 'laws', 'ornate', 'spoon', 'dreamt', 'animals', 'breaking', 'calls', 'branch', 'whispers', 'garden', 'pleasant', 'wretched', 'spinning', 'kneel', 'tightened', 'bits', 'yohn', 'walda', 'finish', 'duties', 'calm', 'jape', 'defeat', 'viserion', 'turns', 'strangers', 'lap', 'tanda', 'feathers', 'anguy', 'honored', 'lonely', 'meaning', 'hostages', 'conqueror', 'halfway', 'startled', 'portcullis', 'hip', 'whiskers', 'heavily', 'reaching', 'leaning', 'rape', 'claws', 'trant', 'whitebeard', 'mandon', 'snows', 'wun', 'summon', 'privy', 'forge', 'silks', 'fail', 'slayer', 'donnel', 'tattered', 'struggling', 'hells', 'greatsword', 'wanting', 'fealty', 'natural', 'lollys', 'pitch', 'stroke', 'drifted', 'steady', 'tytos', 'further', 'teats', 'southron', 'nod', 'keeping', 'drive', 'boats', 'thumb', 'lucky', 'marbrand', 'dismounted', 'shireen', 'pick', 'seneschal', 'shade', 'goats', 'doubtless', 'goose', 'archer', 'beds', 'middle', 'final', 'hint', 'brings', 'garron', 'assured', 'hearts', 'mention', 'treat', 'shivered', 'strangely', 'stink', 'priests', 'ribs', 'seaworth', 'paul', 'paused', 'desmond', 'parted', 'swyft', 'dug', 'innkeep', 'tyroshi', 'blankets', 'vengeance', 'flashed', 'lordling', 'beggar', 'hightower', 'wheeled', 'jack', 'build', 'promises', 'sixty', 'staff', 'dustin', 'botley', 'breathe', 'exchanged', 'prisoner', 'pushing', 'mothers', 'dancer', 'limbs', 'yesterday', 'searching', 'raiders', 'blount', 'spikes', 'sorts', 'counted', 'choked', 'consent', 'lamb', 'driving', 'nimble', 'tangle', 'press', 'mouths', 'obara', 'fastened', 'blond', 'traitors', 'reading', 'continued', 'ruby', 'trueborn', 'mile', 'stare', 'apples', 'trail', 'grows', 'hurried', 'pavilion', 'crushed', 'rags', 'inch', 'edric', 'pace', 'damned', 'backs', 'trembling', 'length', 'vile', 'stable', 'yarwyck', 'ceiling', 'yunkish', 'auburn', 'pile', 'freed', 'creatures', 'debts', 'appear', 'peered', 'haven', 'pigs', 'sake', 'praying', 'belonged', 'dread', 'roses', 'roads', 'gathering', 'market', 'bricks', 'eagle', 'plainly', 'gaze', 'outlaw', 'chief', 'biter', 'rakharo', 'dywen', 'boom', 'protection', 'prey', 'stench', 'cart', 'sheath', 'bears', 'train', 'wendel', 'dayne', 'possible', 'whirled', 'bowels', 'melted', 'wicked', 'handmaids', 'villages', 'mayhaps', 'benches', 'hounds', 'counselor', 'rooms', 'suit', 'sucked', 'nowhere', 'hopped', 'solemn', 'endless', 'reeds', 'base', 'dragonglass', 'marching', 'number', 'family', 'silvery', 'crimes', 'awake', 'flapped', 'frighten', 'forgot', 'freedom', 'purse', 'ashore', 'charged', 'freedmen', 'sparrows', 'flowing', 'rainbow', 'mock', 'toad', 'roslin', 'spilled', 'desperate', 'wights', 'leaf', 'plaza', 'jarl', 'soiled', 'jerkin', 'palace', 'eastern', 'mocking', 'smallclothes', 'scratched', 'spring', 'approach', 'crakehall', 'greater', 'gallery', 'drums', 'turncloak', 'ridge', 'crashed', 'stabbed', 'collapsed', 'poppy', 'eunuchs', 'septons', 'galbart', 'important', 'stormcrows', 'interest', 'waif', 'yronwood', 'colder', 'jewels', 'animal', 'drawbridge', 'sufficient', 'approached', 'spend', 'pillow', 'demon', 'seas', 'manhood', 'floating', 'longclaw', 'restless', 'ruined', 'speaks', 'kisses', 'studded', 'lurched', 'fog', 'bathed', 'rid', 'estermont', 'sniffing', 'lemon', 'happening', 'humble', 'dungeon', 'trap', 'glimpse', 'trimmed', 'maegi', 'content', 'net', 'formed', 'dalla', 'westerosi', 'helms', 'moments', 'feeble', 'cask', 'priestess', 'evenfall', 'glove', 'lace', 'worthy', 'butter', 'quarrel', 'gives', 'grin', 'relief', 'storms', 'swinging', 'cursing', 'root', 'spearmen', 'warning', 'theirs', 'spared', 'oldest', 'kraznys', 'wayn', 'harvest', 'packed', 'orders', 'regent', 'captured', 'suffered', 'sits', 'waynwood', 'blurted', 'ransom', 'polished', 'brune', 'suspiciously', 'horror', 'braid', 'shove', 'visited', 'bucket', 'darker', 'lyanna', 'sore', 'barred', 'crabs', 'cleon', 'merry', 'form', 'genna', 'garlan', 'comet', 'abruptly', 'stubbornly', 'curses', 'vaes', 'hobb', 'veins', 'wiser', 'proof', 'harp', 'manner', 'beginning', 'tub', 'andals', 'elsewhere', 'liege', 'thigh', 'wroth', 'poole', 'polliver', 'bedding', 'corbray', 'leathers', 'cutting', 'wrists', 'protected', 'belong', 'stern', 'tickler', 'titan', 'filthy', 'melting', 'amused', 'rains', 'concerned', 'cats', 'abed', 'gasped', 'woolen', 'weapon', 'fearsome', 'rested', 'points', 'crystal', 'vardis', 'tyene', 'chunk', 'staggered', 'cerwyn', 'terrace', 'crawl', 'silently', 'preferred', 'hideous', 'opening', 'trading', 'deer', 'innocence', 'bell', 'dornishman', 'flee', 'justin', 'tidings', 'inclined', 'ripe', 'reins', 'wealth', 'squirrel', 'chests', 'sliding', 'elephants', 'mule', 'saltpans', 'meereenese', 'sobbing', 'rank', 'returning', 'yielded', 'smash', 'shot', 'mist', 'spiked', 'stiffly', 'ink', 'edwyn', 'bowmen', 'threat', 'willow', 'lothor', 'smoking', 'floated', 'combat', 'suspected', 'rushes', 'tearing', 'scouts', 'halfmaester', 'tightly', 'nature', 'granted', 'inner', 'broth', 'ropes', 'garin', 'rhoyne', 'poked', 'uncertain', 'rotten', 'elk', 'tallhart', 'writing', 'numbers', 'hosteen', 'emmett', 'kingswood', 'knowledge', 'owen', 'cloud', 'setting', 'leo', 'casks', 'flickering', 'mord', 'pyramids', 'eager', 'continue', 'muttering', 'consider', 'fate', 'beckoned', 'sailing', 'crypts', 'rusted', 'osfryd', 'magnificence', 'betray', 'crash', 'certainty', 'snarling', 'doubts', 'naharis', 'sins', 'massey', 'qartheen', 'stumbling', 'barrow', 'chunks', 'roughspun', 'guilty', 'plunder', 'faithful', 'barrels', 'seastone', 'swirled', 'slope', 'cared', 'drag', 'comfortable', 'practice', 'halt', 'drum', 'gets', 'owe', 'palm', 'mortal', 'coast', 'willas', 'sees', 'roaring', 'kingsmoot', 'seagard', 'jagged', 'oaf', 'account', 'midday', 'ram', 'oakheart', 'prisoners', 'charred', 'putting', 'recognized', 'sleeves', 'logs', 'barefoot', 'trunk', 'qarl', 'pretend', 'cunt', 'bugger', 'shafts', 'cape', 'mammoths', 'reward', 'guarded', 'shift', 'fucking', 'warn', 'doreah', 'lemore', 'jacelyn', 'camps', 'turtle', 'remove', 'brotherhood', 'styr', 'screams', 'dirty', 'marq', 'sip', 'tyrosh', 'holiness', 'northern', 'raced', 'finest', 'pouring', 'immense', 'mists', 'aenys', 'stonesnake', 'vance', 'useless', 'helpless', 'mutton', 'beaten', 'cortnay', 'crashing', 'comely', 'shiver', 'jars', 'crust', 'shiny', 'enjoy', 'shrieked', 'curved', 'ralf', 'hissed', 'spider', 'crabb', 'finding', 'ankle', 'grandsons', 'edged', 'alleys', 'alys', 'awaits', 'driven', 'custom', 'bum', 'threatened', 'attacked', 'vaulted', 'stevron', 'falls', 'wandering', 'gust', 'deserted', 'shorter', 'jason', 'act', 'lover', 'accused', 'woken', 'curls', 'womb', 'symon', 'largest', 'rare', 'cyvasse', 'crippled', 'falyse', 'lads', 'torchlight', 'jaws', 'squeezed', 'cunning', 'visor', 'followers', 'bag', 'sly', 'shutters', 'losing', 'envoy', 'curtain', 'robett', 'shaved', 'roll', 'afire', 'rotted', 'stirring', 'pardons', 'shed', 'pearls', 'racing', 'wing', 'bows', 'freeriders', 'legged', 'blows', 'lyseni', 'tend', 'audience', 'ordered', 'fiercely', 'swaying', 'windblown', 'bitterly', 'beer', 'trout', 'worms', 'marches', 'pine', 'bar', 'bet', 'squat', 'barked', 'prepared', 'bard', 'arched', 'lamp', 'decide', 'valor', 'cripple', 'mob', 'bellowed', 'knock', 'whent', 'fighters', 'fishing', 'law', 'wrath', 'slung', 'cream', 'doomed', 'stakes', 'skinned', 'awaited', 'western', 'release', 'kindness', 'sank', 'shocked', 'coarse', 'plunged', 'draped', 'honors', 'patchface', 'cooked', 'uneasy', 'gaoler', 'grunted', 'claims', 'stableboy', 'hull', 'push', 'perched', 'spot', 'arry', 'seasoned', 'reined', 'ringmail', 'lordlings', 'looming', 'lazy', 'fearful', 'monkey', 'patience', 'slaughter', 'prize', 'babes', 'sailor', 'twist', 'alester', 'spike', 'escorted', 'witness', 'upper', 'attempt', 'moqorro', 'fifth', 'nervous', 'rushed', 'needles', 'beef', 'cog', 'colemon', 'trick', 'flaming', 'stewards', 'stale', 'paying', 'selling', 'sadly', 'limb', 'ladder', 'rhaegal', 'streaming', 'maps', 'boast', 'shallow', 'prospect', 'treated', 'daven', 'survive', 'helping', 'commanding', 'hairy', 'thrones', 'scowled', 'amusing', 'turnips', 'fathers', 'echoing', 'buildings', 'steelshanks', 'splash', 'crime', 'drowning', 'graces', 'knighthood', 'darkened', 'galloped', 'female', 'departed', 'simply', 'bared', 'westerling', 'quicker', 'nipples', 'arch', 'noted', 'lyn', 'swim', 'ellaria', 'fitting', 'sacred', 'armies', 'wishes', 'difference', 'cliff', 'radiance', 'dagmer', 'bark', 'nails', 'shapes', 'grasped', 'companion', 'serjeant', 'clasped', 'coughing', 'permit', 'roasted', 'signs', 'weren', 'dothrak', 'forged', 'signed', 'heed', 'mikken', 'defeated', 'compared', 'delivered', 'stuff', 'slick', 'cushions', 'uncomfortable', 'muffled', 'slash', 'travel', 'agony', 'squeeze', 'useful', 'hooded', 'harma', 'scrawny', 'kick', 'grease', 'rides', 'earned', 'alley', 'nostrils', 'drawing', 'offering', 'grinning', 'sentinels', 'mood', 'walton', 'attended', 'meris', 'bleak', 'chainmail', 'ford', 'desperately', 'wolfswood', 'spreading', 'honorable', 'flap', 'thieves', 'cooks', 'winding', 'haste', 'modest', 'pup', 'shaggydog', 'gather', 'safer', 'grandmother', 'tugged', 'returns', 'sheathed', 'othell', 'niece', 'cries', 'faintly', 'grazdan', 'rail', 'rot', 'realize', 'current', 'chased', 'shock', 'cow', 'rip', 'messages', 'archmaester', 'raff', 'closing', 'tornmen', 'ache', 'excuse', 'lights', 'hire', 'thief', 'nonetheless', 'bolt', 'pirates', 'nuncle', 'beloved', 'snapping', 'basket', 'tankard', 'courtesies', 'grab', 'garrons', 'standard', 'barracks', 'funny', 'stinking', 'mully', 'closely', 'flayed', 'groleo', 'underfoot', 'slim', 'mustache', 'crackling', 'sealed', 'jonos', 'steffon', 'pressing', 'carrots', 'brax', 'eleven', 'shagwell', 'height', 'fists', 'yandry', 'nervously', 'abel', 'ranging', 'healthy', 'longaxe', 'horizon', 'person', 'hal', 'trembled', 'pirate', 'wildly', 'swordbelt', 'forgiveness', 'areo', 'received', 'stokeworth', 'sweeter', 'sow', 'stealing', 'effort', 'cakes', 'spurred', 'howl', 'desire', 'cinnamon', 'hides', 'seize', 'wex', 'rookery', 'arthur', 'biggest', 'wasted', 'lorren', 'tris', 'shirt', 'shuddered', 'willem', 'rattling', 'meals', 'features', 'piled', 'raising', 'bailey', 'starve', 'grunt', 'targaryens', 'astapori', 'mailed', 'den', 'willing', 'boil', 'princes', 'whoever', 'pleaded', 'coughed', 'aurochs', 'sharpened', 'carcass', 'van', 'solemnly', 'convinced', 'streams', 'fortunate', 'paxter', 'peck', 'alleras', 'pinched', 'stalked', 'pages', 'suited', 'digging', 'fellows', 'safety', 'frail', 'abandon', 'proclaimed', 'huntsman', 'godry', 'jumped', 'wishing', 'mushrooms', 'lame', 'struggle', 'patrek', 'feeding', 'office', 'wheels', 'giantsbane', 'smelling', 'creighton', 'barking', 'vowed', 'restore', 'brothels', 'heh', 'fathered', 'gloved', 'butt', 'weeds', 'starved', 'barrel', 'jest', 'quarter', 'glowing', 'determined', 'rows', 'happily', 'lorch', 'usual', 'thorns', 'harren', 'actually', 'tysha', 'flea', 'crescent', 'bleed', 'peeled', 'whipped', 'embroidered', 'courteous', 'heal', 'strip', 'shimmering', 'midnight', 'sprawled', 'reports', 'nearby', 'rubies', 'clenched', 'savages', 'peering', 'pillars', 'famous', 'pyat', 'tucked', 'valley', 'skill', 'cloaked', 'rustling', 'champions', 'starting', 'karhold', 'tutor', 'powerful', 'longbow', 'shamed', 'officers', 'herald', 'links', 'fashion', 'sacrifice', 'washing', 'suspicious', 'block', 'ease', 'debt', 'blaze', 'kneeling', 'grumbled', 'stank', 'breakfast', 'sausage', 'pointing', 'bearing', 'coiled', 'delicate', 'folded', 'grimaced', 'shell', 'lock', 'gerold', 'nightfort', 'claw', 'wailing', 'reluctantly', 'soil', 'silken', 'brusco', 'awkwardly', 'bury', 'statue', 'nym', 'intent', 'relieved', 'maimed', 'docks', 'downstream', 'eighteen', 'sickly', 'sodden', 'bored', 'certainly', 'odd', 'violently', 'alliance', 'ninety', 'fighter', 'grievous', 'crumbling', 'accompanied', 'motley', 'towering', 'guardsman', 'ox', 'brorm', 'squinted', 'gloomy', 'valiant', 'griffin', 'fixed', 'permitted', 'waddled', 'warily', 'sobbed', 'quarters', 'forehead', 'gesture', 'butchered', 'grove', 'wisps', 'reared', 'motion', 'flowed', 'shoving', 'hammered', 'contempt', 'tullys', 'hunger', 'balerion', 'prow', 'rust', 'belongs', 'waking', 'showing', 'aware', 'planted', 'woodharp', 'cassel', 'gut', 'perfect', 'barber', 'difficult', 'loosed', 'presume', 'postern', 'sought', 'intend', 'box', 'planned', 'provisions', 'twitched', 'ryswell', 'terrors', 'baseborn', 'companies', 'wrought', 'special', 'deeply', 'sends', 'cocked', 'serves', 'owned', 'lakes', 'strickland', 'gared', 'lifting', 'woven', 'dusty', 'razor', 'splashed', 'witch', 'linger', 'leaping', 'ronnet', 'pious', 'working', 'rabbit', 'pure', 'sipped', 'runs', 'settle', 'pour', 'chase', 'accustomed', 'avoid', 'qotho', 'muscle', 'speech', 'blunt', 'giggled', 'vault', 'melt', 'greatest', 'brass', 'olenna', 'thoren', 'posted', 'pia', 'coals', 'threats', 'dipped', 'stafford', 'splintered', 'due', 'forel', 'behold', 'goods', 'dish', 'treachery', 'respect', 'embers', 'valar', 'sands', 'driftwood', 'sucking', 'hallyne', 'toe', 'pays', 'oaken', 'sway', 'seals', 'divided', 'ranks', 'crunch', 'plant', 'daggers', 'chicken', 'stunted', 'scrambled', 'confusion', 'refuge', 'afoot', 'alysanne', 'trystane', 'pies', 'thenns', 'megga', 'dismay', 'probably', 'favored', 'warhorns', 'warg', 'wizard', 'reddened', 'nest', 'thanked', 'mollen', 'rhaenys', 'outriders', 'boiling', 'suspicion', 'shimmered', 'kissing', 'warmer', 'florian', 'shown', 'therms', 'answers', 'manse', 'balance', 'bedded', 'thirst', 'protested', 'chilly', 'equal', 'wandered', 'attention', 'firmly', 'chataya', 'northman', 'angrily', 'elinor', 'mycah', 'spilling', 'bulwer', 'japes', 'jaremy', 'spray', 'breathless', 'bywater', 'aren', 'suck', 'eased', 'sprouted', 'provided', 'early', 'glimmered', 'temples', 'male', 'spirits', 'uncomfortably', 'report', 'daxos', 'greasy', 'lucas', 'shuffled', 'stalwart', 'hunched', 'robar', 'strand', 'rattled', 'barley', 'allegiance', 'pledge', 'holdfasts', 'paint', 'objected', 'deserved', 'greenbeard', 'curtains', 'clapped', 'harsh', 'wylis', 'arnolf', 'yollo', 'badge', 'goodbrother', 'pox', 'floors', 'lest', 'joust', 'hugged', 'shriek', 'searched', 'apartments', 'bodice', 'fox', 'pork', 'deeds', 'gelding', 'knocking', 'layers', 'nipple', 'limp', 'patient', 'clansmen', 'hawk', 'shores', 'gazing', 'conquest', 'banks', 'crude', 'boomed', 'eighty', 'future', 'aged', 'courser', 'healing', 'trumpets', 'winch', 'gnarled', 'greeted', 'warhorn', 'lark', 'lists', 'terrified', 'bless', 'chestnut', 'balls', 'gasp', 'magnificent', 'choking', 'hips', 'key', 'lust', 'meeting', 'mathis', 'informed', 'hovels', 'slippers', 'oarsman', 'requires', 'martyn', 'withered', 'heavier', 'unseen', 'pyre', 'embrace', 'orton', 'watery', 'enjoyed', 'peach', 'skinchanger', 'chasing', 'token', 'feasts', 'juice', 'vaults', 'gash', 'xhoan', 'leeches', 'clinging', 'mammoth', 'khrazz', 'level', 'raymun', 'canals', 'drifts', 'sheet', 'coward', 'briefly', 'wight', 'concealed', 'seventeen', 'gallop', 'mors', 'shouldered', 'uncertainly', 'pots', 'streamed', 'choosing', 'perished', 'hat', 'mostly', 'denied', 'strongboar', 'seventy', 'flashing', 'entrance', 'pepper', 'myranda', 'quiver', 'lacked', 'stepstones', 'unella', 'barrowton', 'entirely', 'speed', 'gleamed', 'slipping', 'flow', 'formerly', 'halder', 'absence', 'rippling', 'unawares', 'ivory', 'sandals', 'aurane', 'swayed', 'awkward', 'whistled', 'hugor', 'spells', 'oarsmen', 'noisily', 'hears', 'carpet', 'lash', 'deaths', 'olives', 'judgment', 'clans', 'canvas', 'survived', 'brutal', 'flicked', 'frostfangs', 'reported', 'slate', 'fucked', 'assembled', 'hunted', 'stab', 'mistaken', 'papers', 'bother', 'orphan', 'mantle', 'fossoway', 'cellars', 'bellies', 'admiral', 'freely', 'henceforth', 'bind', 'using', 'sweets', 'mander', 'letting', 'fearless', 'hired', 'blink', 'argued', 'welcomed', 'poles', 'ripping', 'sentries', 'squirmed', 'inches', 'marks', 'farewell', 'temper', 'gaped', 'lysene', 'mere', 'swam', 'boasted', 'oiled', 'slap', 'biting', 'featherbed', 'throbbing', 'staggering', 'canal', 'anymore', 'homes', 'resumed', 'reign', 'anywhere', 'ysilla', 'dripped', 'thread', 'jeweled', 'generous', 'replaced', 'stuck', 'lashed', 'baked', 'starving', 'chewing', 'member', 'steam', 'waymar', 'mane', 'pommel', 'list', 'dwindled', 'complain', 'milkwater', 'lyonel', 'skirling', 'undying', 'utterly', 'prophecy', 'private', 'corrected', 'weakness', 'wayns', 'wheel', 'punched', 'survivors', 'silly', 'splinters', 'antlers', 'mockery', 'oaths', 'killer', 'despair', 'dangling', 'laced', 'maidens', 'ramparts', 'plague', 'cupped', 'rounded', 'scrape', 'trader', 'warlocks', 'mill', 'entrails', 'midst', 'wit', 'redfort', 'string', 'threaten', 'somewhat', 'vain', 'farce', 'slight', 'blisters', 'roofs', 'tunnels', 'homely', 'counting', 'dragonknight', 'treasures', 'pree', 'builder', 'steaming', 'erik', 'eagerly', 'ghar', 'stool', 'vision', 'hardhome', 'scrubbed', 'glittered', 'wordless', 'crisp', 'pledged', 'subject', 'shrieking', 'sparrow', 'wave', 'bathe', 'quarrels', 'kinslayer', 'loss', 'shifting', 'sin', 'rescue', 'failing', 'delight', 'tollett', 'thicker', 'acorn', 'accepted', 'xhondo', 'holly', 'bobbed', 'freeze', 'id', 'dung', 'tumbling', 'clams', 'strewn', 'blown', 'har', 'headsman', 'flower', 'hushed', 'goblet', 'hurry', 'strings', 'swing', 'scorched', 'leader', 'betha', 'sevenstrings', 'visible', 'strapped', 'causeway', 'urswyck', 'deadly', 'ashamed', 'alla', 'peaceful', 'slice', 'merchants', 'growl', 'leyton', 'risen', 'sensed', 'discovered', 'splashing', 'guess', 'rattle', 'lordsport', 'mast', 'feels', 'exchange', 'trapped', 'regarded', 'volantene', 'molten', 'trailing', 'shops', 'suggest', 'dragging', 'kyra', 'queens', 'anxiously', 'chairs', 'cap', 'karstarks', 'beans', 'keys', 'harmed', 'hinges', 'pail', 'crag', 'snowy', 'watered', 'gulltown', 'onyx', 'visitors', 'platter', 'stir', 'winning', 'depart', 'bony', 'grotesque', 'pole', 'dusky', 'mused', 'clatter', 'throats', 'brooding', 'circled', 'defenders', 'norrey', 'liddle', 'hairs', 'scraped', 'weirwoods', 'ignore', 'reasons', 'narrowed', 'suffice', 'builders', 'gargoyles', 'sunk', 'spices', 'rules', 'sorcery', 'bruises', 'judged', 'dismissed', 'dizzy', 'emerge', 'eel', 'veil', 'maege', 'perchance', 'insist', 'pigeon', 'pelt', 'paced', 'hook', 'asks', 'fumbled', 'vest', 'trailed', 'grandson', 'log', 'feasted', 'intended', 'falcon', 'swears', 'slashing', 'exhausted', 'await', 'ruddy', 'warships', 'formidable', 'lick', 'politely', 'granite', 'beards', 'tar', 'nute', 'horas', 'jared', 'crowns', 'decreed', 'penrose', 'caron', 'glistening', 'borne', 'idea', 'carts', 'likeness', 'stretch', 'towns', 'procession', 'furious', 'skahazadhan', 'crossroads', 'jousting', 'swiftly', 'touching', 'garbed', 'remnants', 'marwyn', 'snap', 'glare', 'wears', 'cramped', 'pet', 'mismatched', 'patches', 'weeper', 'stores', 'presented', 'ached', 'hospitality', 'pups', 'fried', 'praise', 'candlelight', 'mattered', 'shadowcat', 'enameled', 'ham', 'scrolls', 'knighted', 'decks', 'pinned', 'acolytes', 'heirs', 'unlike', 'waving', 'picking', 'froze', 'mulled', 'locke', 'septas', 'wriggled', 'salty', 'darted', 'bitterbridge', 'rhoynar', 'puzzled', 'palfrey', 'kettleblacks', 'muscles', 'guilt', 'marya', 'martin', 'choke', 'farring', 'damon', 'peril', 'busy', 'salla', 'olive', 'travelers', 'chaos', 'warhammer', 'tender', 'warmed', 'melara', 'patted', 'saddled', 'trestle', 'owed', 'patched', 'blast', 'cares', 'suckling', 'stubble', 'khas', 'siblings', 'mourning', 'handmaid', 'weathered', 'xho', 'yelled', 'dutiful', 'plenty', 'symond', 'openly', 'tempted', 'ourselves', 'fisherfolk', 'maze', 'circling', 'headlong', 'bowing', 'doll', 'fingered', 'noose', 'wail', 'suspect', 'elephant', 'treasure', 'locusts', 'downriver', 'sausages', 'feebly', 'suitable', 'trotting', 'sweeping', 'scorpions', 'pinch', 'defense', 'assault', 'games', 'sickness', 'plank', 'suggs', 'offense', 'arrangements', 'inlaid', 'darkstar', 'jet', 'galare', 'chella', 'flared', 'provide', 'brittle', 'gorget', 'cloves', 'daeron', 'sweetrobin', 'displeased', 'walders', 'dyed', 'crest', 'scalp', 'nightmare', 'blazing', 'amusement', 'cough', 'believes', 'spurs', 'sigh', 'palanquin', 'longhall', 'gleaming', 'perilous', 'sup', 'tansy', 'sob', 'barely', 'pearl', 'sniff', 'drinkwater', 'moaned', 'balman', 'horselords', 'destroy', 'hack', 'dismount', 'lovers', 'nineteen', 'pease', 'spell', 'poking', 'orphans', 'fumbling', 'alchemist', 'tomorrow', 'sable', 'consort', 'bundle', 'fetched', 'lightbringer', 'bravely', 'haggon', 'groped', 'sticky', 'longswords', 'scratching', 'pretended', 'vanish', 'spill', 'crouched', 'alayaya', 'leobald', 'forearm', 'hurting', 'unwashed', 'maidenhead', 'rumble', 'greet', 'yunkishmen', 'although', 'norvos', 'oathkeeper', 'thumped', 'drey', 'explain', 'gaolers', 'groaned', 'avenge', 'unhorsed', 'coppers', 'irons', 'crane', 'gap', 'pouch', 'belmore', 'fleeing', 'restored', 'chances', 'commanders', 'flash', 'friendship', 'shows', 'stormborn', 'clawed', 'sticks', 'depths', 'courtyard', 'bursting', 'powers', 'treasons', 'altar', 'bristling', 'oswell', 'vyman', 'confined', 'flickered', 'drenched', 'earlier', 'beth', 'pus', 'stead', 'laces', 'demand', 'shallows', 'bloodrider', 'castamere', 'urgent', 'dunsen', 'seats', 'blacks', 'cellador', 'pails', 'ko', 'vulnerable', 'facing', 'apt', 'add', 'crusted', 'winged', 'lasted', 'guarding', 'hurts', 'slaughtered', 'century', 'tough', 'balcony', 'flush', 'hobber', 'blocked', 'costly', 'amber', 'battered', 'pimple', 'rocky', 'pause', 'agreement', 'rumbling', 'pentoshi', 'ferry', 'stalls', 'caleotte', 'closest', 'tapped', 'wield', 'homage', 'wipe', 'convince', 'bled', 'inform', 'musicians', 'pony', 'bael', 'bogs', 'forlorn', 'crannogman', 'highest', 'caves', 'squirming', 'remaining', 'stronghold', 'leap', 'deserve', 'snug', 'raymund', 'sharing', 'library', 'polite', 'piles', 'impact', 'slowed', 'lashing', 'absurd', 'displayed', 'retreated', 'thankfully', 'flanked', 'occupied', 'discuss', 'tattooed', 'spiced', 'sinking', 'thirsty', 'bounded', 'sweetly', 'bred', 'insult', 'longship', 'feather', 'tomb', 'rafters', 'farlen', 'villagers', 'thralls', 'fluttering', 'sacked', 'scrub', 'defiance', 'ignoring', 'value', 'merciful', 'foster', 'reborn', 'hardened', 'oysters', 'hunters', 'direction', 'scratch', 'braver', 'folds', 'sourleaf', 'flock', 'dotted', 'devout', 'turnip', 'gain', 'boltons', 'flour', 'someplace', 'cookfires', 'calmly', 'tumblestone', 'fragrant', 'dispatched', 'maggots', 'mollander', 'approval', 'complaining', 'track', 'unbroken', 'raventree', 'blacktyde', 'tyrek', 'pavilions', 'lute', 'ball', 'bargain', 'matched', 'pact', 'liking', 'cletus', 'tap', 'someday', 'reader', 'celtigar', 'knuckles', 'crunched', 'bites', 'smoky', 'pleasantly', 'fights', 'maddy', 'sheen', 'shudder', 'fashioned', 'unsheathed', 'cages', 'sixth', 'defending', 'jaehaerys', 'coat', 'puddle', 'descend', 'propose', 'adventure', 'melee', 'sweep', 'arrive', 'rhymes', 'wonders', 'traveled', 'graceful', 'insolence', 'scout', 'weighed', 'myles', 'pennies', 'questioned', 'stung', 'glancing', 'pipes', 'dagon', 'helman', 'scolera', 'moist', 'sullenly', 'afar', 'tapestries', 'backwards', 'unrolled', 'fostered', 'owl', 'object', 'serpent', 'glowed', 'hotho', 'bluntly', 'writes', 'saddles', 'donkey', 'fluttered', 'graves', 'mottled', 'spattered', 'crested', 'hammers', 'retreat', 'glistened', 'spearwives', 'curiously', 'mooton', 'range', 'trot', 'shortly', 'annoyed', 'greywater', 'oathbreaker', 'league', 'crones', 'sphinx', 'narbert', 'caution', 'hosts', 'roughly', 'board', 'bolts', 'pillows', 'alas', 'surviving', 'swordsman', 'art', 'mingled', 'drained', 'receive', 'illifer', 'chopped', 'clash', 'notch', 'qohor', 'quellon', 'volantenes', 'roost', 'coldhands', 'hissing', 'seventh', 'crab', 'arryns', 'deserves', 'joining', 'clambered', 'oxcross', 'cod', 'rum', 'cavernous', 'stooped', 'cheered', 'resting', 'squatted', 'tricks', 'emptied', 'restlessly', 'rams', 'yawning', 'lamprey', 'sapphires', 'brighter', 'titles', 'nasty', 'horned', 'changing', 'mute', 'grizzled', 'columns', 'brightwater', 'imagined', 'timeon', 'healed', 'grapes', 'clattered', 'trebuchets', 'jalabhar', 'swarmed', 'perwyn', 'imry', 'toregg', 'bristled', 'tremble', 'bolder', 'prowled', 'brook', 'sealord', 'dreadful', 'striding', 'greaves', 'spiders', 'awful', 'scribe', 'spine', 'space', 'hempen', 'forbidden', 'potions', 'statues', 'haigh', 'obsidian', 'jammed', 'rubble', 'peaks', 'hewett', 'scale', 'burns', 'fringed', 'forked', 'allies', 'smoothed', 'rained', 'upstream', 'coz', 'breaker', 'ankles', 'brooch', 'bridges', 'nightfire', 'stags', 'rewarded', 'tastes', 'wines', 'battlefield', 'defenses', 'destrier', 'fortune', 'recruits', 'breed', 'slopes', 'necessary', 'beheaded', 'hates', 'gaping', 'condemned', 'scarf', 'regret', 'betrayal', 'hasn', 'ghostly', 'ducked', 'oddly', 'produced', 'secure', 'kinder', 'fetters', 'timber', 'scorn', 'rebel', 'capable', 'elegant', 'dignity', 'plead', 'peasants', 'ripples', 'stride', 'licking', 'memories', 'patch', 'replace', 'ribbons', 'tallad', 'numb', 'tiger', 'cheap', 'streaked', 'owner', 'tilt', 'buckled', 'supported', 'hoarse', 'hacking', 'rebels', 'greyscale', 'clayton', 'triarch', 'baggage', 'pike', 'sunken', 'tempered', 'freezing', 'dashed', 'demons', 'meekly', 'stake', 'novice', 'thereafter', 'ebben', 'picture', 'miserable', 'friendly', 'lawful', 'devotion', 'lordly', 'snowflakes', 'sheets', 'chuckle', 'sadness', 'wealthy', 'whisperers', 'lungs', 'measure', 'lessons', 'beardless', 'tracks', 'kegs', 'descending', 'flakes', 'morghulis', 'untouched', 'calf', 'toast', 'mixed', 'bedside', 'seeking', 'scooped', 'george', 'incest', 'carpets', 'sentry', 'brief', 'dice', 'nagga', 'trickled', 'glimmering', 'tie', 'blush', 'horpe', 'jocelyn', 'councillors', 'aback', 'guide', 'shoes', 'confided', 'dire', 'mistress', 'troubles', 'cheer', 'wat', 'dorcas', 'oaks', 'velvets', 'cliffs', 'exploded', 'dreamwine', 'codd', 'bravos', 'moan', 'ebony', 'amuse', 'conceal', 'appetite', 'sheer', 'bloodbeard', 'shades', 'daylight', 'contents', 'provoke', 'rykker', 'freckled', 'frown', 'fading', 'ploy', 'toothless', 'crossbowmen', 'released', 'bundled', 'greenblood', 'arrival', 'shave', 'ryger', 'learning', 'armen', 'tighter', 'hullen', 'walgrave', 'squint', 'ascent', 'catapults', 'greyguard', 'dangers', 'strides', 'scrambling', 'passes', 'comprehend', 'difficulty', 'horsemen', 'fancy', 'gretchel', 'overgrown', 'prepare', 'smallest', 'limped', 'nigh', 'caked', 'snoring', 'cheerfully', 'snarled', 'toyne', 'position', 'stinging', 'reveal', 'garlic', 'leech', 'mislike', 'watches', 'fertile', 'sink', 'destriers', 'kennels', 'frost', 'drumm', 'allard', 'bravo', 'slower', 'butterbumps', 'chanced', 'cleftjaw', 'potion', 'trickle', 'carrion', 'bush', 'sliced', 'title', 'clan', 'pricked', 'gawen', 'general', 'giggling', 'swan', 'bands', 'raider', 'chop', 'disturb', 'flux', 'hauberk', 'turtles', 'concerns', 'oar', 'lew', 'skilled', 'traders', 'amerei', 'shuttered', 'moelle', 'galazza', 'wisp', 'sentinel', 'summons', 'span', 'impaled', 'knot', 'succession', 'circles', 'miserably', 'bounced', 'gout', 'floppy', 'blinding', 'honeyed', 'squeak', 'rhaego', 'gowns', 'loving', 'arrange', 'quaithe', 'ryam', 'buckwell', 'hush', 'snort', 'galloping', 'olyvar', 'envoys', 'santagar', 'consumed', 'hooted', 'laden', 'chalice', 'fodder', 'post', 'herd', 'brute', 'yank', 'gorold', 'ribbon', 'widowed', 'fleshy', 'hewn', 'sheepskin', 'seaweed', 'hammering', 'peppers', 'cider', 'dickon', 'teased', 'miller', 'dancers', 'pleases', 'disturbed', 'sandsilk', 'thankful', 'rises', 'apprentice', 'tourneys', 'gracious', 'tea', 'link', 'newborn', 'utherydes', 'resume', 'insolent', 'impatiently', 'prudent', 'breeze', 'godric', 'slamming', 'widened', 'ibbenese', 'traveling', 'blacksmith', 'lefford', 'nightfall', 'beak', 'disappointment', 'declare', 'thoughtfully', 'oppose', 'gems', 'tis', 'retainers', 'stain', 'softer', 'solace', 'hop', 'milord', 'jinglebell', 'urge', 'watchers', 'scented', 'ordinary', 'yurkhaz', 'painful', 'inkpots', 'richard', 'skies', 'tenth', 'commons', 'mopatis', 'expecting', 'coldly', 'vinegar', 'thenn', 'sourly', 'teaching', 'stableboys', 'bom', 'lend', 'shrewd', 'raiding', 'tended', 'decorated', 'moore', 'bannerman', 'gauntlet', 'corners', 'self', 'whoresbane', 'protectors', 'anvil', 'umbers', 'esgred', 'trace', 'clasp', 'disbelief', 'wailed', 'balding', 'thump', 'croaked', 'flinch', 'figs', 'rumbled', 'banded', 'heights', 'cracks', 'flinched', 'histories', 'bitten', 'language', 'crystals', 'lackwit', 'feigned', 'sober', 'mutter', 'bowls', 'perfume', 'limping', 'creak', 'visenya', 'cropped', 'opposite', 'amiss', 'haggo', 'jests', 'dale', 'windowless', 'bushy', 'groping', 'alchemists', 'sisterton', 'creaking', 'novices', 'buying', 'halfman', 'stripes', 'cowards', 'wearily', 'quilted', 'spice', 'amiable', 'yawned', 'strips', 'velaryon', 'unhappy', 'blur', 'covering', 'famed', 'paws', 'hugh', 'wedge', 'cravens', 'sylva', 'guild', 'hollard', 'daring', 'ponderous', 'piggy', 'undid', 'disgust', 'yourselves', 'ignorant', 'challenge', 'rast', 'settling', 'planks', 'spearwife', 'gruff', 'hey', 'thrall', 'target', 'weather', 'bog', 'ottyn', 'halted', 'warhorse', 'oranges', 'plates', 'loath', 'breathed', 'swimming', 'trencher', 'salted', 'bolted', 'noisy', 'offend', 'abide', 'brushing', 'tossing', 'spy', 'levies', 'offers', 'impossible', 'wenches', 'grieve', 'skirt', 'sunrise', 'inns', 'firm', 'jar', 'disappointed', 'threatening', 'lighter', 'fringe', 'sweating', 'perfumed', 'leal', 'jonquil', 'howland', 'slanting', 'bouncing', 'worthless', 'pahl', 'ringwall', 'rub', 'clearly', 'kindling', 'astride', 'mass', 'basin', 'serpentine', 'realms', 'finer', 'halfhelm', 'cavern', 'scents', 'dogshead', 'aron', 'earthen', 'whimpered', 'severed', 'dosh', 'khaleen', 'wizards', 'scum', 'dwell', 'sores', 'dig', 'truths', 'dock', 'morningstar', 'trickling', 'shrill', 'petty', 'waterfront', 'aching', 'ulmer', 'sweaty', 'sorrows', 'stall', 'vegetables', 'patterned', 'chew', 'scraps', 'staying', 'serry', 'slimy', 'supposedly', 'tart', 'wooded', 'protecting', 'forgiven', 'feverish', 'capture', 'emblazoned', 'scare', 'obedience', 'ermine', 'sew', 'cookfire', 'longspear', 'rocked', 'dealt', 'despised', 'plains', 'unworthy', 'flexed', 'urging', 'anchor', 'greathelm', 'slightly', 'chiswyck', 'grain', 'hulls', 'growling', 'puff', 'kills', 'habit', 'victories', 'quivering', 'crossbows', 'turret', 'remembers', 'loaded', 'incredulous', 'reeled', 'defender', 'greedy', 'bags', 'padding', 'cohollo', 'needlework', 'deed', 'series', 'recognize', 'flowered', 'mentioned', 'scornfully', 'whitetree', 'puffing', 'efforts', 'pallet', 'mice', 'sex', 'smiths', 'vines', 'tops', 'deftly', 'flicker', 'tries', 'ladders', 'chivalry', 'joints', 'knots', 'whirling', 'murderers', 'supple', 'gratitude', 'cleaned', 'notched', 'noises', 'sings', 'nuts', 'sorrow', 'dacey', 'gravely', 'visions', 'saving', 'inspection', 'milady', 'bruised', 'customs', 'frightening', 'forbid', 'sheltered', 'thus', 'weaker', 'persuaded', 'cheerful', 'blessing', 'ants', 'moves', 'griffins', 'wheat', 'karyl', 'brusque', 'matted', 'spitting', 'ion', 'mystery', 'clumsily', 'hopeless', 'cradling', 'masts', 'eats', 'humor', 'tangles', 'flement', 'azor', 'style', 'brows', 'nicely', 'stains', 'stacked', 'dank', 'hardin', 'invitation', 'sagging', 'sleeps', 'fruits', 'passages', 'ample', 'groin', 'tugging', 'powdered', 'mouthful', 'tion', 'shop', 'ahai', 'trunks', 'pleading', 'cane', 'rob', 'lewyn', 'rue', 'study', 'seawater', 'curt', 'cautious', 'sleepy', 'whelp', 'mound', 'state', 'stopping', 'blank', 'killers', 'horsemeat', 'seeds', 'puffed', 'discipline', 'uglier', 'platform', 'ringed', 'interested', 'ahorse', 'bawdy', 'amethysts', 'pursuit', 'edges', 'mistrust', 'respite', 'annoyance', 'aft', 'defy', 'plum', 'snarl', 'canopy', 'preston', 'cockles', 'rosey', 'fountains', 'umma', 'ballabar', 'blackbird', 'abomination', 'thistle', 'proprietor', 'gerion', 'kenning', 'declarant', 'largely', 'rowed', 'nakloz', 'franklyn', 'tristifer', 'benfred', 'sung', 'insisting', 'interrupted', 'raked', 'eighth', 'pursed', 'money', 'peg', 'elmar', 'skinner', 'unsmiling', 'resolved', 'scythes', 'westerlings', 'pissed', 'darting', 'infant', 'rainwood', 'prickly', 'shine', 'bonifer', 'wretch', 'soothe', 'cley', 'wull', 'nursed', 'bellowing', 'brightly', 'godly', 'rippled', 'obedient', 'runestone', 'blunted', 'witnesses', 'hare', 'coal', 'smugglers', 'bloodstained', 'jolly', 'pictured', 'footing', 'flowering', 'anointed', 'scrabbling', 'booming', 'doubtfully', 'senior', 'tumble', 'feathered', 'slide', 'collect', 'instructed', 'masks', 'prowling', 'squab', 'grounds', 'barsena', 'dimly', 'destroyed', 'merman', 'er', 'plot', 'butchery', 'hallis', 'dangled', 'arranged', 'scattering', 'trusting', 'recently', 'strap', 'cinders', 'particular', 'guyard', 'shortened', 'jump', 'nought', 'horrified', 'decision', 'eyebrow', 'clawing', 'cogs', 'spirit', 'linked', 'draft', 'hopping', 'grooms', 'ending', 'orell', 'reputation', 'devoured', 'blazed', 'beacon', 'grasping', 'confirmed', 'paramour', 'bethany', 'uneasily', 'arts', 'vanguard', 'silvered', 'sacks', 'forley', 'scheme', 'ablaze', 'follies', 'em', 'demanding', 'lanna', 'sprawling', 'pissing', 'peasant', 'forecastle', 'tin', 'charges', 'aid', 'arron', 'brisk', 'clay', 'couple', 'anyhow', 'bandaged', 'shrouded', 'load', 'gargoyle', 'godless', 'mag', 'caggo', 'officer', 'doubled', 'pier', 'mussels', 'paege', 'nibbled', 'snatch', 'goodbrook', 'lowborn', 'echo', 'anew', 'upriver', 'gnawed', 'plow', 'skagos', 'skiff', 'astonished', 'payment', 'hesitate', 'incomes', 'ushered', 'unharmed', 'fossoways', 'wiry', 'crannogmen', 'arguing', 'eels', 'kittens', 'grieves', 'anya', 'cleft', 'evidence', 'shatter', 'supplies', 'fords', 'chickens', 'suggestion', 'speckled', 'herds', 'deem', 'drapes', 'filth', 'garment', 'wriggling', 'shuddering', 'saffron', 'blushed', 'joramun', 'accent', 'kojja', 'haunt', 'poxy', 'gallows', 'pounded', 'squealed', 'health', 'flay', 'entire', 'denyo', 'indigo', 'maron', 'hiss', 'shepherd', 'tallow', 'imprisoned', 'unbidden', 'slavery', 'hitting', 'labored', 'manage', 'nobleman', 'lump', 'obvious', 'raged', 'impressed', 'contract', 'alerie', 'crusty', 'haggard', 'strained', 'accomplish', 'droll', 'reigned', 'distress', 'grigg', 'boulder', 'smelly', 'bearskin', 'betrothal', 'mildly', 'raining', 'groat', 'fare', 'crackled', 'breach', 'complete', 'dishonor', 'curl', 'beesbury', 'mop', 'punish', 'excited', 'roger', 'creaked', 'assumed', 'cows', 'firepit', 'benerro', 'spark', 'retched', 'defiant', 'duel', 'faceless', 'harper', 'glittering', 'greeting', 'homeless', 'loaf', 'heap', 'washerwomen', 'properly', 'understanding', 'dumped', 'smart', 'mischief', 'mullendore', 'bruise', 'roone', 'murmur', 'oats', 'confession', 'yearned', 'frenken', 'swarming', 'beams', 'spittle', 'follower', 'traded', 'accompany', 'merlyn', 'windy', 'selhorys', 'flows', 'judging', 'seeping', 'swirl', 'shrieks', 'rude', 'whimpering', 'straps', 'watchtower', 'sandstone', 'icicles', 'captor', 'endure', 'dismissal', 'greatly', 'archery', 'harwood', 'prowess', 'throbbed', 'cushion', 'slaying', 'herbs', 'liars', 'flanks', 'tending', 'perish', 'undo', 'practiced', 'feasting', 'alebelly', 'dragonbone', 'stoney', 'darkly', 'sighing', 'blushing', 'burden', 'violet', 'gingerly', 'shadowed', 'resist', 'gnawing', 'dour', 'acolyte', 'wanton', 'somber', 'taut', 'mattress', 'appease', 'supply', 'farmer', 'freckles', 'grimly', 'begins', 'soap', 'strongest', 'hopeful', 'glared', 'perform', 'monkeys', 'possibly', 'handle', 'heartbeats', 'wakes', 'group', 'bat', 'version', 'shortsword', 'chins', 'headless', 'kandaq', 'triumph', 'directly', 'raynald', 'substance', 'samite', 'crushing', 'sided', 'robbed', 'slumped', 'blocks', 'rabbits', 'ff', 'cupbearer', 'brood', 'scowling', 'dromonds', 'tallest', 'baker', 'deserter', 'grisly', 'subjects', 'pierced', 'failure', 'snot', 'beware', 'capon', 'gusting', 'danwell', 'control', 'briskly', 'shied', 'insults', 'stalking', 'soot', 'limper', 'cheesemonger', 'rag', 'dinted', 'daemon', 'fabled', 'starts', 'traced', 'maggy', 'comer', 'vylarr', 'archibald', 'bridle', 'tones', 'reflection', 'doubted', 'greens', 'stepping', 'triarchs', 'noseless', 'despise', 'yawn', 'tumcloak', 'andrew', 'smashing', 'lumbering', 'feelings', 'disgrace', 'rooftops', 'maidenhood', 'warlock', 'ruling', 'wargs', 'mourn', 'funeral', 'prick', 'instruct', 'morrigen', 'bathhouse', 'firelight', 'flinging', 'keeper', 'decree', 'enormous', 'surrender', 'spicer', 'weakly', 'scant', 'disappoint', 'desired', 'councils', 'apologies', 'neared', 'chimney', 'helps', 'unlikely', 'fortress', 'rely', 'giantslayer', 'defended', 'comforts', 'launched', 'kinds', 'newly', 'cobbles', 'battering', 'willful', 'shunned', 'riddle', 'wrestled', 'test', 'squeezing', 'crops', 'jabbed', 'nailed', 'prettier', 'pelts', 'laying', 'weigh', 'unburnt', 'fade', 'cleaver', 'ghael', 'arrogance', 'barge', 'passion', 'warmly', 'parchments', 'septry', 'loffrey', 'striking', 'shaven', 'vague', 'cooking', 'figured', 'mate', 'wan', 'argue', 'mint', 'separate', 'dressing', 'fact', 'drunkard', 'punishment', 'groom', 'pickled', 'tiles', 'galleas', 'cobbler', 'dully', 'crackclaw', 'waits', 'scrap', 'thundered', 'fickle', 'selaesori', 'dissolved', 'idle', 'humfrey', 'encircled', 'ghastly', 'lingering', 'oxen', 'runes', 'grasses', 'lioness', 'savory', 'childbed', 'awaiting', 'unruly', 'heddle', 'leads', 'lemoncloak', 'sybell', 'straightened', 'ambrose', 'wardrobe', 'decent', 'signal', 'toss', 'devour', 'qhoran', 'pyromancers', 'forests', 'sixskins', 'plumes', 'timid', 'joint', 'studying', 'responded', 'ragman', 'raging', 'blinking', 'lemons', 'horseback', 'sortie', 'raucous', 'bushes', 'tigers', 'lifetime', 'unnatural', 'surrounding', 'freshly', 'vigil', 'curtly', 'sers', 'sweetness', 'pyg', 'float', 'pono', 'reeling', 'lid', 'mero', 'issue', 'peer', 'brusquely', 'basilisk', 'wylde', 'shan', 'figure', 'conn', 'hem', 'sprang', 'wheelhouse', 'arrogant', 'tilted', 'blindly', 'oznak', 'pyromancer', 'device', 'exiled', 'proposed', 'tune', 'mott', 'frogs', 'painfully', 'quent', 'shadrich', 'angle', 'arches', 'hesitantly', 'interesting', 'qohorik', 'unwise', 'forcing', 'walled', 'tavern', 'wylla', 'fawn', 'cheers', 'rump', 'scraping', 'protest', 'hagen', 'cripples', 'views', 'taper', 'calves', 'regard', 'squatting', 'rubbing', 'farewells', 'writhing', 'valuable', 'plays', 'raynard', 'brea', 'sets', 'clubs', 'swell', 'jester', 'clattering', 'poisoner', 'vayon', 'soaking', 'savagely', 'dabbed', 'vintage', 'dates', 'bryce', 'envy', 'gained', 'blasts', 'squinting', 'creep', 'farmers', 'distaste', 'forefinger', 'squares', 'delena', 'concluded', 'scaled', 'bump', 'utter', 'prodded', 'deft', 'loping', 'blackness', 'jowls', 'drift', 'catching', 'crutch', 'echoes', 'harridan', 'desires', 'godswife', 'belts', 'anticipated', 'speaker', 'crowds', 'brooded', 'southern', 'lamps', 'shrunken', 'dalbridge', 'smalljon', 'scowl', 'barn', 'paths', 'richer', 'tomard', 'shirts', 'torrent', 'carve', 'ami', 'bernarr', 'engulfed', 'unfolded', 'suitors', 'palaces', 'boasting', 'loudest', 'retching', 'matching', 'hail', 'hairless', 'notes', 'moons', 'rocking', 'necks', 'scrubbing', 'response', 'tygett', 'savor', 'sorcerer', 'sport', 'glinting', 'sisterman', 'karl', 'brackens', 'forebears', 'ceased', 'bittersteel', 'attacks', 'gemstones', 'filed', 'counts', 'lichen', 'hardest', 'retch', 'bellows', 'rossart', 'stroking', 'studs', 'clangor', 'torment', 'forces', 'oakenshield', 'matthos', 'tasting', 'emerald', 'bile', 'chariots', 'clang', 'hasty', 'diamond', 'sounding', 'tipped', 'screen', 'chafed', 'queensguard', 'fanned', 'tiller', 'erected', 'endlessly', 'guts', 'bowstring', 'whickered', 'strung', 'slippery', 'vomit', 'soles', 'including', 'victor', 'wider', 'prendahl', 'brand', 'pretending', 'patiently', 'quaro', 'willingly', 'job', 'valleys', 'prester', 'venison', 'supped', 'dribbled', 'withstand', 'pudding', 'upended', 'islander', 'venom', 'willis', 'husbands', 'chiefs', 'chiggen', 'threadbare', 'wages', 'particularly', 'outrage', 'season', 'islanders', 'haunch', 'latest', 'wispy', 'palms', 'lighten', 'torchlit', 'murders', 'quay', 'merling', 'portion', 'dropping', 'disturbing', 'whalen', 'movement', 'cedra', 'whistle', 'lynesse', 'wythers', 'doorway', 'stamped', 'blackmont', 'stiffened', 'wander', 'sigorn', 'begs', 'frequent', 'respond', 'plea', 'cradled', 'messenger', 'lots', 'kettles', 'firstborn', 'wharves', 'meadows', 'yunzak', 'metals', 'refusing', 'figurehead', 'aghast', 'hooked', 'pikes', 'lusty', 'liquid', 'cowl', 'swelled', 'bathing', 'usually', 'grieving', 'implacable', 'souls', 'sweetest', 'talks', 'parapet', 'downward', 'overheard', 'puts', 'muzzle', 'persisted', 'inspect', 'appears', 'fistful', 'abandoning', 'sandy', 'unwell', 'dismal', 'ord', 'displeasure', 'examined', 'bluff', 'raid', 'reduced', 'clubfoot', 'towerhouse', 'masha', 'abreast', 'shrank', 'cayn', 'promising', 'bellied', 'ages', 'prophecies', 'acknowledged', 'desolation', 'crop', 'transformed', 'butts', 'midwife', 'misliked', 'senses', 'jyck', 'ii', 'whistling', 'hangings', 'riverbank', 'rutted', 'muscular', 'sewers', 'customary', 'shards', 'barren', 'bothered', 'kennelmaster', 'race', 'disgusted', 'hurriedly', 'poleboat', 'hens', 'robust', 'stumble', 'ominous', 'sale', 'surrendered', 'goodwife', 'bier', 'numerous', 'looped', 'appeal', 'crews', 'encountered', 'krakens', 'fainter', 'uller', 'members', 'persuade', 'contest', 'accursed', 'bids', 'grandchildren', 'pebbles', 'thoughtful', 'rung', 'nail', 'mongrel', 'dense', 'trip', 'appearance', 'wards', 'plotting', 'whale', 'naming', 'overwhelmed', 'arrowheads', 'stretching', 'residence', 'talea', 'nearly', 'ty', 'wineseller', 'queerly', 'unhand', 'hurrying', 'lofty', 'nephews', 'dermot', 'freerider', 'poisons', 'hoarfrost', 'proclaim', 'wry', 'beggars', 'worshiped', 'adorned', 'godsgrace', 'facedown', 'mustn', 'bounding', 'freak', 'haider', 'stem', 'prettily', 'wrench', 'drooping', 'reproach', 'boldly', 'bill', 'suspicions', 'necklace', 'blackwoods', 'scurrying', 'pregnant', 'rival', 'riverfront', 'despairing', 'toll', 'exquisite', 'assume', 'becoming', 'morn', 'preferring', 'relish', 'learns', 'plums', 'suits', 'unarmed', 'legend', 'assuming', 'cling', 'encounter', 'timbered', 'wicker', 'manticore', 'ponderously', 'copy', 'domes', 'driftmark', 'pretender', 'chayle', 'befit', 'ogo', 'musty', 'forming', 'roofed', 'misshapen', 'ranged', 'withdrew', 'talons', 'panic', 'turnkey', 'justly', 'crowfood', 'tasks', 'tides', 'lanterns', 'terrifying', 'jutting', 'washerwoman', 'wont', 'parapets', 'thumbs', 'bristly', 'becomes', 'cheated', 'daznak', 'lhazar', 'melon', 'uses', 'volume', 'archmaesters', 'revenge', 'heaved', 'septs', 'quest', 'stripeback', 'qavo', 'proving', 'vhagar', 'tip', 'wells', 'hoods', 'joseth', 'thinly', 'qezza', 'grell', 'risks', 'climbers', 'watcher', 'sleepers', 'conquer', 'zollo', 'unnoticed', 'flagons', 'upside', 'hamish', 'greenfield', 'grumkins', 'thrum', 'tusks', 'carnage', 'stumps', 'stricken', 'freehold', 'mournful', 'flank', 'drops', 'gooseprickles', 'tokars', 'details', 'lair', 'cuy', 'empire', 'portly', 'hornfoot', 'arguments', 'legions', 'informers', 'prompted', 'thinner', 'cleaning', 'benfrey', 'swallowing', 'balked', 'haze', 'bearer', 'lumbered', 'fountain', 'fowler', 'whiff', 'gentler', 'lobstered', 'gunthor', 'wistfully', 'sums', 'stewed', 'etched', 'doubtful', 'fooled', 'satisfied', 'fired', 'bending', 'virgin', 'groan', 'dryly', 'excellent', 'meraxes', 'squealing', 'smear', 'signature', 'pomegranate', 'recovered', 'starry', 'insists', 'flailing', 'jarman', 'malice', 'proudly', 'andrik', 'crush', 'deserters', 'tarts', 'included', 'attendance', 'reaches', 'boils', 'embraced', 'stock', 'ovens', 'announce', 'gibbet', 'glances', 'therm', 'grandsire', 'petitioners', 'loins', 'murderer', 'repay', 'pleasing', 'jhaqo', 'riot', 'dwelt', 'grinding', 'concerning', 'stinks', 'likewise', 'mines', 'raiment', 'fig', 'gutter', 'dappled', 'renowned', 'lizard', 'pluck', 'argument', 'rash', 'camped', 'route', 'ryswells', 'richly', 'tedious', 'buzzing', 'sometime', 'caps', 'wheeling', 'bandage', 'demands', 'shadowskin', 'traffic', 'palpable', 'scheming', 'merlon', 'undressed', 'waded', 'bandages', 'twisty', 'aught', 'kennos', 'desolate', 'captors', 'encamped', 'queasy', 'churning', 'rebuilt', 'cottage', 'clinking', 'inward', 'rory', 'warrant', 'corliss', 'forgiving', 'squalling', 'loft', 'mounting', 'chimneys', 'tendrils', 'craned', 'relied', 'yorko', 'unsaid', 'forgetting', 'domish', 'brigands', 'predawn', 'collected', 'styling', 'impregnable', 'shipwright', 'foothills', 'cregan', 'sevens', 'country', 'gulp', 'breaks', 'leavings', 'idly', 'fabric', 'leathern', 'lunged', 'tradition', 'boars', 'hence', 'sharpening', 'pronounced', 'grandison', 'kneelers', 'thumping', 'illness', 'warming', 'emeralds', 'scene', 'revealed', 'oven', 'tug', 'lilac', 'piety', 'rolph', 'stoneheart', 'wizened', 'sipping', 'bomm', 'spearpoint', 'callused', 'elbows', 'hauled', 'yellowed', 'tasty', 'prefers', 'florents', 'birthing', 'dun', 'troubling', 'masked', 'wilderness', 'scary', 'cowardice', 'moth', 'earn', 'starboard', 'northeast', 'childhood', 'nightly', 'entering', 'stiffen', 'rapers', 'ass', 'spots', 'parley', 'lively', 'raping', 'curdled', 'stripping', 'hom', 'ridges', 'twitching', 'gorge', 'hobbled', 'wineskin', 'scurried', 'committed', 'unyielding', 'curving', 'oldstones', 'peeling', 'courses', 'loosing', 'slicing', 'conspiring', 'brace', 'unable', 'overseer', 'antler', 'omen', 'rustle', 'puzzle', 'whipping', 'soothing', 'directions', 'suet', 'senelle', 'cedar', 'urzen', 'ditch', 'grudging', 'overturned', 'clink', 'terribly', 'ninth', 'juggler', 'sleepless', 'arrayed', 'complaint', 'nonny', 'disdain', 'almond', 'suitor', 'cheering', 'obeyed', 'corsairs', 'norcross', 'dancy', 'stinky', 'shoe', 'garments', 'acorns', 'chipped', 'thickly', 'goghor', 'ibben', 'dicing', 'moreo', 'choices', 'borrowed', 'erupted', 'tunics', 'joanna', 'braziers', 'tails', 'sparr', 'pear', 'angered', 'shells', 'hay', 'winced', 'bryen', 'gauntlets', 'spying', 'othor', 'tireless', 'tolos', 'scroll', 'cradle', 'pocket', 'assure', 'rolly', 'stunned', 'charm', 'patrols', 'sybelle', 'happier', 'orkmont', 'undone', 'incense', 'flutter', 'panes', 'blackfyre', 'blackberry', 'swordplay', 'pureborn', 'gale', 'lichyard', 'guessed', 'mariya', 'emerging', 'chuckling', 'stonehouse', 'hag', 'hake', 'fringes', 'ofttimes', 'peak', 'farm', 'orchards', 'fingertips', 'alyssa', 'snorting', 'gross', 'crossbowman', 'stub', 'caswell', 'yi', 'hother', 'bedclothes', 'handled', 'pillar', 'flints', 'kedge', 'wraith', 'roasting', 'circuit', 'ti', 'rasping', 'conquered', 'chilled', 'crueler', 'presumed', 'punch', 'slobber', 'figures', 'koss', 'changes', 'vassals', 'warhorses', 'marcher', 'ferocious', 'granddaughters', 'pinching', 'dented', 'manacles', 'yanking', 'desert', 'evenstar', 'judges', 'resigned', 'sewing', 'albar', 'scalding', 'bleached', 'lurking', 'punished', 'crackle', 'shelters', 'widows', 'stormed', 'protects', 'ledge', 'favors', 'tread', 'worried', 'stoop', 'baskets', 'upright', 'towered', 'chivalrous', 'stormy', 'knightly', 'ollo', 'nightmares', 'popped', 'subtle', 'channel', 'aisle', 'grotesquely', 'walks', 'plots', 'dares', 'writhed', 'diamonds', 'puffy', 'coverlet', 'groaning', 'tripped', 'recent', 'shelves', 'dip', 'veined', 'swordfish', 'chips', 'wreathed', 'standards', 'tumult', 'excitement', 'foretold', 'submission', 'finery', 'dealing', 'tame', 'lymond', 'longwaters', 'lambs', 'alannys', 'sobs', 'ceremony', 'meanwhile', 'profit', 'distraught', 'harrion', 'horseflesh', 'destination', 'moonlit', 'station', 'stocky', 'borroq', 'perriane', 'hilts', 'exclaimed', 'awry', 'barbs', 'taxes', 'sunburst', 'laughs', 'raisins', 'needing', 'gendel', 'arwood', 'morya', 'upraised', 'collapse', 'outlive', 'nightfires', 'ornament', 'pointy', 'childish', 'forgets', 'gossip', 'chopping', 'toy', 'platters', 'instinct', 'awash', 'correct', 'bowman', 'gruffly', 'dolf', 'haunches', 'teasing', 'da', 'freedman', 'beets', 'strokes', 'spearhead', 'similar', 'destruction', 'woe', 'drinks', 'retinue', 'brains', 'murmuring', 'dubbed', 'proven', 'fares', 'tapestry', 'fuzz', 'jealous', 'pecked', 'knotted', 'sweetened', 'enamel', 'loyally', 'bane', 'fangs', 'source', 'tycho', 'greenseers', 'beads', 'pinkeye', 'endured', 'dishes', 'bedmaid', 'birthright', 'summoning', 'trenchers', 'elm', 'longest', 'burnished', 'eroeh', 'presently', 'session', 'posts', 'serjeants', 'kasporio', 'flood', 'hoisted', 'filly', 'questioning', 'ruler', 'vivid', 'charms', 'quarrelsome', 'hillside', 'greybeard', 'ditches', 'curling', 'safest', 'purses', 'bladder', 'wrestling', 'amiably', 'visitor', 'plus', 'arrest', 'nearer', 'denying', 'jutted', 'skinning', 'enmity', 'errok', 'jugglers', 'unwanted', 'cheaper', 'follard', 'forts', 'poorly', 'heedless', 'upstairs', 'sheared', 'muscled', 'spearman', 'leaded', 'windswept', 'greyjoys', 'lowest', 'scratches', 'clacked', 'shimmer', 'clearing', 'suffering', 'quieted', 'strain', 'sap', 'unfortunate', 'preserve', 'wasting', 'panting', 'draught', 'lambswool', 'realization', 'courteously', 'nameless', 'khals', 'wrongs', 'pebbled', 'woth', 'luthor', 'irritated', 'sneak', 'thatch', 'perch', 'bunch', 'welled', 'mallisters', 'balaq', 'helmet', 'ryk', 'colossal', 'finds', 'rymund', 'myraham', 'astonishment', 'airy', 'hams', 'fits', 'darkening', 'barbrey', 'jeor', 'magical', 'outlined', 'scratchy', 'repair', 'nonce', 'disapproval', 'hungerford', 'cromm', 'gushed', 'sconce', 'loaves', 'blamed', 'lighting', 'wince', 'billowing', 'bumped', 'escorting', 'hug', 'thrusting', 'poised', 'diligent', 'befits', 'overcast', 'amends', 'philip', 'forbade', 'ashara', 'saltcliffe', 'thickened', 'flecked', 'furnishings', 'domishman', 'sunglass', 'walkers', 'richest', 'pitchfork', 'wire', 'leona', 'thunderfist', 'quartered', 'meaty', 'greenhands', 'absurdly', 'gage', 'cobblestones', 'buttocks', 'smiler', 'russet', 'dispute', 'draperies', 'heaving', 'plundered', 'clustered', 'mychel', 'owes', 'clacking', 'din', 'chanted', 'marselen', 'disease', 'dispossessed', 'ravaged', 'goddess', 'request', 'rimmed', 'brewhouse', 'conspired', 'quipped', 'murky', 'contemplate', 'strands', 'hawking', 'aflame', 'squabbling', 'sorceress', 'leathery', 'hotter', 'feral', 'persimmon', 'fleas', 'tome', 'avail', 'penned', 'prancing', 'sigrin', 'ambition', 'structure', 'naath', 'flavored', 'eon', 'odds', 'halfhelms', 'plucking', 'hippocras', 'corruption', 'garrett', 'puddles', 'admire', 'straits', 'balk', 'compliment', 'lurching', 'amabel', 'drab', 'mates', 'challenged', 'braids', 'pried', 'flaying', 'quays', 'andal', 'stirrup', 'paste', 'yew', 'sneered', 'earnest', 'accounts', 'barricade', 'ungainly', 'comfortably', 'works', 'bedrobe', 'casually', 'ermesande', 'walrus', 'lapping', 'woes', 'losses', 'despoiled', 'merlons', 'wrap', 'differently', 'drafty', 'carrot', 'leaking', 'sprouting', 'fancied', 'prone', 'wisely', 'softened', 'splendor', 'joien', 'nests', 'extinguished', 'crofter', 'hesitation', 'undertunic', 'tobho', 'rack', 'sapphire', 'affection', 'deceived', 'experience', 'traditional', 'glovers', 'desertion', 'willows', 'shackles', 'brella', 'skills', 'lithe', 'gerrick', 'bondage', 'hmmm', 'shoot', 'rills', 'penniless', 'volmark', 'reddening', 'windburnt', 'melancholy', 'tax', 'shadowcats', 'garnets', 'dimness', 'authority', 'locks', 'donkeys', 'crumbled', 'glimmer', 'kem', 'uneven', 'hart', 'frightens', 'simpler', 'ho', 'peoples', 'hoofbeats', 'itching', 'apron', 'housed', 'wynch', 'quivered', 'conversation', 'victim', 'entrusted', 'approaching', 'performed', 'scatter', 'enjoying', 'whites', 'serpents', 'utt', 'condemn', 'charger', 'courtesan', 'bannen', 'whereas', 'accusations', 'fortunately', 'tremulous', 'berries', 'mastiff', 'fore', 'wick', 'paces', 'sallow', 'inherit', 'pat', 'wove', 'bundles', 'weakling', 'ape', 'visits', 'mallador', 'teat', 'tankards', 'crenel', 'emrick', 'barmen', 'timidly', 'dockside', 'boulders', 'mhysa', 'templeton', 'clarence', 'pained', 'frayed', 'loathing', 'checked', 'worshipers', 'marrying', 'tempting', 'morrec', 'prison', 'propped', 'northerners', 'pound', 'approve', 'lets', 'dismounting', 'anguish', 'troops', 'catspaw', 'dregs', 'peaches', 'crosslegged', 'nonsense', 'cloudy', 'fastenings', 'moths', 'hulks', 'sagged', 'expanse', 'spanned', 'attackers', 'littered', 'chanting', 'lent', 'morsel', 'families', 'bloodless', 'hoarsely', 'belaquo', 'problem', 'cheat', 'packs', 'rowing', 'defensively', 'bandy', 'rainbows', 'unseemly', 'clanking', 'abashed', 'jofftey', 'whetstone', 'grimtongue', 'scrollwork', 'spies', 'cudgels', 'oblivious', 'starfall', 'sparkled', 'ronnel', 'pardoned', 'hearths', 'snarks', 'fling', 'ginger', 'repute', 'stiv', 'witted', 'reckless', 'murdering', 'rasped', 'poachers', 'accusation', 'dragonlords', 'squeal', 'shama', 'glitter', 'bidding', 'mirror', 'moaning', 'nut', 'lyle', 'rounds', 'sorely', 'oily', 'pretext', 'wholly', 'quills', 'pynto', 'summit', 'biscuits', 'smoothly', 'shattering', 'peasebury', 'rumors', 'pose', 'wallwalk', 'camel', 'swelling', 'kurz', 'acted', 'firewood', 'hayford', 'collars', 'favorites', 'oils', 'orkwood', 'disputed', 'jammos', 'squirm', 'stallions', 'approved', 'notions', 'cruelly', 'mild', 'loped', 'stillborn', 'preach', 'emptiness', 'intrude', 'westermen', 'encampment', 'obscene', 'screeching', 'delay', 'caravan', 'retake', 'egen', 'personal', 'greybeards', 'puh', 'lain', 'brigand', 'heralds', 'spasm', 'central', 'slices', 'stackspear', 'forester', 'plaster', 'fray', 'eh', 'slapping', 'shieldhall', 'outnumbered', 'merrily', 'merely', 'roamed', 'unicorn', 'shitmouth', 'slits', 'bedpost', 'vote', 'cumbersome', 'archway', 'kingspyre', 'melons', 'ironmaker', 'beats', 'gleam', 'success', 'layer', 'alfyn', 'shames', 'local', 'quenton', 'answering', 'fingering', 'ricasso', 'sinner', 'alarm', 'flown', 'guttered', 'lydden', 'liver', 'million', 'jast', 'urri', 'lambert', 'marei', 'massing', 'kinslaying', 'dew', 'unborn', 'advanced', 'bonds', 'roaches', 'undergaoler', 'fix', 'pains', 'traveler', 'loosened', 'sighted', 'kitten', 'redwynes', 'longtable', 'shuffling', 'delayed', 'stringy', 'theomore', 'chant', 'bulled', 'sealing', 'topped', 'steeper', 'inflamed', 'futile', 'exiles', 'rugen', 'trebuchet', 'longbough', 'poisonous', 'markets', 'mossy', 'alongside', 'lagoon', 'scarecrow', 'bazaar', 'wins', 'votes', 'reds', 'hatch', 'smeared', 'barleycorn', 'ashemark', 'obscured', 'execution', 'neat', 'stripling', 'tips', 'girth', 'weaver', 'exposed', 'muck', 'edging', 'rod', 'bearers', 'unspoken', 'nodding', 'seashells', 'various', 'waterskin', 'discover', 'noses', 'reassuring', 'apology', 'spin', 'wending', 'eldon', 'clap', 'paymaster', 'lamplight', 'whinny', 'ruffled', 'unhappily', 'file', 'wondrous', 'kayce', 'farms', 'noon', 'ransomed', 'cracking', 'courtyards', 'rusty', 'examine', 'wanderer', 'ascended', 'accuse', 'drip', 'celebrate', 'smoked', 'colin', 'demonstrate', 'burdens', 'denzo', 'faithfully', 'hardwood', 'palla', 'nightsong', 'seasons', 'honing', 'surcoats', 'bartimus', 'pants', 'graciously', 'daresay', 'patrons', 'mutes', 'carracks', 'assigned', 'unlaced', 'thicket', 'waddling', 'fancies', 'sloshed', 'bubbling', 'threaded', 'styled', 'gasping', 'supplied', 'giggle', 'shelf', 'loyalties', 'gag', 'tow', 'poorer', 'aerion', 'felled', 'strapping', 'numbered', 'daybreak', 'onward', 'mounds', 'galyeon', 'awhile', 'spoil', 'complaints', 'fun', 'stalks', 'notorious', 'excused', 'damage', 'princeling', 'tube', 'sting', 'cramping', 'freakish', 'meek', 'dutifully', 'receding', 'nocked', 'fold', 'dwindling', 'snowballs', 'swaddling', 'fan', 'week', 'unto', 'events', 'rescued', 'smithy', 'sauntered', 'commented', 'sparks', 'maegelle', 'tourmaline', 'gravel', 'click', 'scolded', 'dominion', 'team', 'jug', 'hastily', 'manticores', 'seamen', 'redbeard', 'spraying', 'casso', 'behest', 'framed', 'clank', 'slanted', 'malaquo', 'slitted', 'scaring', 'longbows', 'slut', 'rearing', 'catapult', 'overrun', 'silenced', 'offended', 'toys', 'banker', 'smuggling', 'stirrups', 'dreaded', 'fart', 'han', 'nestled', 'crinkled', 'depending', 'weg', 'fitted', 'hooting', 'impatient', 'halleck', 'comforting', 'unexpected', 'vole', 'ebon', 'loops', 'pitmaster', 'stays', 'grassy', 'banging', 'undoing', 'ruse', 'dismiss', 'charming', 'ringlets', 'lacking', 'withdraw', 'film', 'stack', 'throng', 'dishonored', 'impatience', 'colen', 'grunting', 'doe', 'helplessly', 'lumpyhead', 'throughout', 'harpercollins', 'fetching', 'wedded', 'ilk', 'curly', 'lumpy', 'harmen', 'bitches', 'puppy', 'reserve', 'boneway', 'patterns', 'paw', 'ornamented', 'horsehair', 'medallion', 'barth', 'hatched', 'horde', 'prodigious', 'undyed', 'nursing', 'qaggaz', 'manned', 'albett', 'glowering', 'itched', 'dismayed', 'poultice', 'cleaner', 'dubious', 'attacking', 'meager', 'tummy', 'spending', 'praised', 'console', 'screeched', 'festered', 'mournfully', 'preparations', 'harshly', 'fiercest', 'smack', 'unslung', 'selwyn', 'furiously', 'thimble', 'hayhead', 'include', 'condition', 'dohaeris', 'plotted', 'undergrowth', 'hardbread', 'holdings', 'geremy', 'tittered', 'mage', 'careless', 'betrayer', 'th', 'grumbling', 'visiting', 'arrives', 'zhak', 'tarber', 'carving', 'dagos', 'unpleasant', 'starlight', 'splintery', 'niggardly', 'willam', 'beeswax', 'blane', 'suns', 'baying', 'maric', 'teams', 'players', 'sniggered', 'perfectly', 'eagles', 'rightly', 'flurry', 'rowers', 'spires', 'allyrion', 'lewys', 'fisherman', 'peat', 'gunwale', 'storehouses', 'flipped', 'pointless', 'dobber', 'gracefully', 'satisfaction', 'repaid', 'marshal', 'lomas', 'baths', 'dye', 'mysteries', 'balanced', 'phantom', 'bake', 'toasts', 'counseled', 'humming', 'arwyn', 'underground', 'butchers', 'strongwine', 'axehead', 'grazed', 'saddlebag', 'tens', 'harmune', 'blooded', 'strongholds', 'pens', 'moose', 'extra', 'mouthed', 'regrets', 'fingerbones', 'cloudless', 'captivity', 'footfalls', 'disks', 'fort', 'chorus', 'quail', 'marlon', 'gagged', 'peckledon', 'snowdrifts', 'eyebrows', 'innkeeper', 'watchful', 'sergeant', 'manwoody', 'maul', 'stray', 'shambling', 'dalt', 'merriment', 'meets', 'glumly', 'ivy', 'suggesting', 'advantage', 'stygg', 'appointment', 'roseroad', 'display', 'riddles', 'dozens', 'orderly', 'magisters', 'sumner', 'brus', 'unease', 'hatred', 'tension', 'odor', 'coffers', 'shares', 'upjumped', 'progress', 'auctioneer', 'vex', 'yielding', 'gormond', 'leaked', 'flag', 'coverlets', 'gallantry', 'chestnuts', 'defeating', 'intentions', 'backhand', 'sinister', 'greenseer', 'afflicted', 'howls', 'watchtowers', 'marriages', 'boards', 'sconces', 'confines', 'cure', 'principal', 'swordpoint', 'wanly', 'pointedly', 'curve', 'burly', 'afford', 'salute', 'nutmeg', 'swaggering', 'movements', 'prentice', 'joss', 'fletching', 'seething', 'vair', 'leeks', 'salmon', 'chooses', 'rasp', 'sparse', 'tarbeck', 'shadd', 'shyly', 'advise', 'harle', 'sot', 'swordbelts', 'tracing', 'undress', 'spoiled', 'spurned', 'marghaz', 'pry', 'notably', 'frenya', 'blackberries', 'assemble', 'lapis', 'rollam', 'prevail', 'intoned', 'vaguely', 'mongrels', 'scabs', 'bloodshed', 'alcove', 'impressive', 'gullet', 'mold', 'loading', 'drumming', 'hazzea', 'performing', 'glorious', 'raids', 'contemptuous', 'splintering', 'hoof', 'planky', 'nets', 'gigantic', 'flatter', 'qybum', 'sty', 'foam', 'sorrowful', 'retreating', 'rabble', 'hereabouts', 'bosom', 'jowly', 'tenderly', 'avoided', 'lure', 'clanging', 'spicers', 'easiest', 'treasurer', 'crammed', 'disappeared', 'harmless', 'bends', 'bugs', 'iord', 'lustily', 'wyl', 'trousers', 'peake', 'broom', 'relentless', 'benefit', 'awoke', 'disquieted', 'twilight', 'posed', 'sedan', 'snout', 'un', 'tumbledown', 'deceit', 'scrawled', 'buckets', 'earless', 'bloom', 'combed', 'discarded', 'qorgyle', 'witless', 'devoted', 'nightingale', 'halfwit', 'horrors', 'leonette', 'reluctant', 'drape', 'trampled', 'prune', 'baking', 'image', 'cedars', 'behave', 'clammy', 'cleanse', 'virtue', 'pecking', 'lastly', 'invited', 'trials', 'medallions', 'sinned', 'harras', 'spire', 'jumble', 'earthy', 'forcefully', 'precipice', 'wode', 'plush', 'skinchangers', 'gull', 'frame', 'countless', 'flailed', 'disquiet', 'fishwives', 'kof', 'ugliest', 'straining', 'feeds', 'hale', 'rouse', 'combined', 'sallor', 'beautifully', 'bobbing', 'tray', 'pomegranates', 'staves', 'iced', 'buckling', 'levels', 'badges', 'whoring', 'endrew', 'ascend', 'teacher', 'kedry', 'cowled', 'sally', 'begone', 'serious', 'thong', 'chiseled', 'lacks', 'robber', 'toothed', 'supreme', 'mermaid', 'parties', 'armpits', 'clouded', 'hollows', 'sentence', 'madman', 'blazoned', 'alliances', 'darling', 'wynton', 'murderous', 'dearly', 'informer', 'comment', 'grape', 'towel', 'fleets', 'jacks', 'byrnie', 'barges', 'moonless', 'babies', 'driver', 'piney', 'cautioned', 'ally', 'bums', 'grabbing', 'juicy', 'gulped', 'skewer', 'seared', 'outrun', 'defied', 'unkind', 'sired', 'wiping', 'overland', 'engaged', 'deemed', 'undefended', 'ordeal', 'wearisome', 'sealskin', 'spade', 'cackled', 'nipped', 'burgundy', 'twigs', 'quhuru', 'pacing', 'unsteady', 'recoiled', 'slam', 'gelded', 'triston', 'pets', 'verses', 'inquire', 'signaled', 'spiral', 'triple', 'welling', 'eternal', 'brindled', 'fared', 'hulk', 'tombs', 'kyle', 'seeped', 'waddle', 'atone', 'blurred', 'myriad', 'curiosity', 'plodded', 'thronls', 'plunge', 'wulfe', 'rim', 'arrowhead', 'neatly', 'gylbert', 'costs', 'tongs', 'slaving', 'direct', 'boned', 'intends', 'occurred', 'craftsmen', 'aggar', 'sharper', 'misgivings', 'awakened', 'lathered', 'huny', 'relieve', 'chested', 'frosting', 'ulf', 'crunching', 'stilts', 'parting', 'improve', 'lens', 'thinning', 'mushroom', 'assist', 'patter', 'lucan', 'oatcakes', 'ambitious', 'react', 'runny', 'stillness', 'blacker', 'injured', 'sherrer', 'bestowed', 'appeased', 'mats', 'mistook', 'tensed', 'alien', 'bang', 'ironwood', 'wolfskins', 'oblige', 'devils', 'penalty', 'arakhs', 'unmoved', 'reddish', 'nuzzled', 'matthar', 'tempt', 'stupidly', 'prophet', 'maidenvault', 'wincing', 'scorpion', 'huddle', 'writ', 'hali', 'concubine', 'kingsblood', 'dispose', 'bait', 'grazhar', 'roused', 'excuses', 'weighing', 'acting', 'union', 'mashed', 'sheepskins', 'measured', 'smacked', 'blackheart', 'factors', 'gorged', 'brawny', 'chatter', 'gesturing', 'silvers', 'rafts', 'horton', 'gangplank', 'compound', 'constant', 'leaders', 'custody', 'barbed', 'hibald', 'sod', 'traces', 'swarms', 'quieter', 'wonderful', 'mustard', 'address', 'giddy', 'waterfall', 'succeeded', 'usurpers', 'faithless', 'appetites', 'girlish', 'terrence', 'puppies', 'swordsmen', 'tatters', 'puppet', 'regal', 'cocks', 'gathers', 'advance', 'invite', 'wrinkles', 'smothered', 'torwold', 'process', 'bulged', 'parried', 'cinched', 'pimples', 'unlocked', 'cub', 'gusted', 'planning', 'pipers', 'languid', 'fourteenth', 'chunky', 'yields', 'herring', 'believing', 'dumb', 'longing', 'weddings', 'shapeless', 'gratefully', 'trod', 'aunts', 'terro', 'steals', 'caravans', 'navel', 'butchering', 'fragile', 'sigils', 'blazes', 'saddened', 'taint', 'frankly', 'resolve', 'falsehood', 'welcoming', 'paled', 'unfastened', 'asunder', 'hazy', 'swamps', 'veiled', 'gouty', 'represented', 'footprints', 'doves', 'entertaining', 'cringing', 'mire', 'scares', 'stormlands', 'effect', 'unwed', 'heaped', 'alcoves', 'joking', 'widower', 'troupe', 'wilder', 'nosed', 'alehouse', 'beheld', 'earshot', 'yunkishman', 'whorehouse', 'pumping', 'betraying', 'admiring', 'tightness', 'kingly', 'moonrise', 'watering', 'confident', 'banefort', 'weds', 'contracts', 'piebald', 'itch', 'unmoving', 'inlay', 'cherished', 'pitied', 'herded', 'throb', 'whips', 'fearsomely', 'malegorn', 'scab', 'roland', 'envied', 'slightest', 'sweetsleep', 'broomstick', 'greyshield', 'manderlys', 'kerwin', 'regicide', 'tightening', 'honeywine', 'decides', 'guffawed', 'upset', 'sewed', 'duly', 'petals', 'ventured', 'kennel', 'furtive', 'mumbled', 'loop', 'loot', 'puckered', 'valonqar', 'coiling', 'fondness', 'callus', 'swat', 'hulking', 'ironhand', 'codfish', 'hares', 'surged', 'thatched', 'graven', 'keepers', 'sigfryd', 'tottered', 'consult', 'gerrold', 'gaml', 'unkempt', 'nibbling', 'tubs', 'scourged', 'plowed', 'woolens', 'courtesans', 'kicks', 'cake', 'boon', 'unleashed', 'garrisoned', 'provisioned', 'potboy', 'lice', 'unknown', 'miklaz', 'declined', 'pond', 'doeskin', 'croaking', 'twitch', 'flights', 'rebuke', 'soren', 'mistaking', 'cherish', 'fished', 'cushioned', 'shrunk', 'fingernails', 'constantly', 'sockets', 'dracarys', 'moods', 'respectfully', 'weaving', 'discolored', 'tally', 'hovel', 'cobbled', 'gales', 'ancestors', 'stares', 'discussion', 'palisade', 'anchored', 'recited', 'gutted', 'successor', 'winked', 'dispatch', 'thirds', 'steamed', 'flick', 'storerooms', 'sash', 'dwindle', 'greensick', 'firing', 'jeren', 'mummery', 'lout', 'lodged', 'fraying', 'inspected', 'disagreed', 'foraging', 'stacks', 'lum', 'infancy', 'twining', 'timoth', 'completed', 'plunging', 'cerwyns', 'ghezn', 'alyx', 'clamor', 'drilling', 'deepened', 'recover', 'belted', 'hind', 'fevered', 'surefooted', 'spooned', 'granaries', 'allar', 'rigging', 'spectators', 'clifton', 'veils', 'dragonpit', 'garse', 'cheekbones', 'crypt', 'horseface', 'abyss', 'ferocity', 'according', 'luceon', 'revulsion', 'na', 'actual', 'thrashed', 'shortest', 'lythene', 'vypren', 'interfere', 'daily', 'derision', 'core', 'morros', 'fishermen', 'mauls', 'hellholt', 'enormity', 'shabby', 'timbers', 'lemonwood', 'husky', 'confidence', 'prizes', 'khalasars', 'headland', 'prunes', 'averted', 'error', 'splitting', 'haft', 'powder', 'forging', 'bestir', 'flattened', 'crenellations', 'staunch', 'assassin', 'fervor', 'fowl', 'sphinxes', 'crowkiller', 'furnished', 'cheeked', 'strongly', 'vulture', 'infamous', 'promptly', 'quality', 'scoured', 'attached', 'unmolested', 'teeming', 'torbert', 'darken', 'nightsoil', 'soak', 'conquerors', 'muss', 'ragwyle', 'pockets', 'squirrels', 'accents', 'speck', 'folks', 'barrowlands', 'slays', 'role', 'antlered', 'horseman', 'nakedness', 'hazard', 'delighted', 'acquired', 'merrit', 'grievance', 'icemark', 'dazed', 'fornications', 'savoring', 'carvings', 'theodan', 'pin', 'ninepenny', 'wattle', 'unmortared', 'greyfeather', 'oarmaster', 'resisted', 'tim', 'lone', 'clicked', 'cupbearers', 'hysterical', 'thrummed', 'overlooking', 'border', 'conferred', 'kingship', 'bale', 'gormon', 'moryn', 'ransoms', 'dominated', 'hearted', 'janna', 'oilcloth', 'previous', 'squished', 'mêlée', 'moans', 'irritation', 'goodly', 'departing', 'burrow', 'gardener', 'rogue', 'belched', 'horrible', 'winters', 'vigorously', 'peek', 'lophand', 'spectacle', 'urine', 'slab', 'elms', 'snowing', 'disciplined', 'savaged', 'slithered', 'fraud', 'charcoal', 'trails', 'shipped', 'mirth', 'unsurprised', 'blistered', 'sincere', 'adventures', 'scourge', 'groups', 'encouragement', 'frosted', 'snails', 'beastling', 'elwood', 'translated', 'exciting', 'heartsbane', 'bestow', 'expose', 'tomcat', 'anders', 'jasper', 'watty', 'humblest', 'paraded', 'manfrey', 'locals', 'indisposed', 'glendon', 'recognition', 'declaration', 'cache', 'revealing', 'tournament', 'forsake', 'lavish', 'violent', 'shivers', 'goldengrove', 'visibly', 'sum', 'clasps', 'sickroom', 'kurleket', 'hemp', 'hovered', 'farman', 'lhazarene', 'emptying', 'hugo', 'jerkins', 'damnable', 'gripped', 'conceded', 'bowled', 'refilled', 'porther', 'miniature', 'prevent', 'munda', 'pulse', 'ronald', 'honeycomb', 'translator', 'overlooked', 'vexing', 'wracked', 'moonstones', 'ryon', 'heaps', 'secured', 'lann', 'clothed', 'peas', 'reynes', 'pocked', 'gargalen', 'winesink', 'hardstone', 'carpenters', 'charging', 'slattern', 'dashing', 'explored', 'domishmen', 'treasury', 'unsavory', 'stews', 'cruelty', 'acceptance', 'whimper', 'josmyn', 'gelmarr', 'toying', 'grerm', 'assent', 'foote', 'portions', 'uproar', 'imagining', 'bleating', 'crookedly', 'sundry', 'pinecones', 'thundering', 'buyers', 'rainy', 'rednose', 'hotly', 'sarella', 'punching', 'perimeter', 'wrenching', 'gore', 'snores', 'triangular', 'produce', 'trumpet', 'honed', 'defiantly', 'matches', 'gifted', 'restive', 'townsfolk', 'jolt', 'handles', 'pop', 'rooting', 'bedmaids', 'gutters', 'disentangled', 'coils', 'tickle', 'mix', 'ballroom', 'delicacy', 'hoist', 'rejoin', 'misery', 'fairer', 'spits', 'axeman', 'congratulations', 'convincing', 'lazily', 'translation', 'reflections', 'swifter', 'gouges', 'cheaply', 'untied', 'afloat', 'frank', 'bee', 'distinguished', 'gulls', 'bookish', 'mortar', 'sickening', 'furled', 'whaler', 'vaellyn', 'runners', 'surer', 'hardyng', 'jested', 'gravy', 'enjoys', 'lothston', 'smuggle', 'unwelcome', 'swapped', 'eluded', 'smirking', 'behalf', 'scholar', 'whence', 'sweltering', 'drunkards', 'kernels', 'mockingbird', 'stubby', 'duncan', 'slowing', 'jordayne', 'mellario', 'randa', 'tyta', 'attainted', 'maelys', 'unburied', 'agrees', 'conduct', 'marrow', 'cluster', 'mermaids', 'minds', 'serra', 'keg', 'proves', 'niche', 'shaken', 'mopped', 'beginnings', 'generations', 'bravest', 'blower', 'pallid', 'squashed', 'stoutly', 'cawed', 'apiece', 'fascination', 'apologize', 'misty', 'alesander', 'dragonfire', 'strangled', 'ebrose', 'dorna', 'tranquil', 'property', 'comb', 'rolland', 'wetness', 'buckle', 'pewter', 'bales', 'artos', 'horselord', 'jenny', 'outstretched', 'remark', 'awe', 'regain', 'namesake', 'breeding', 'whinnied', 'glyphs', 'modestly', 'dove', 'milky', 'mornings', 'sickbed', 'characters', 'stabbing', 'leviathan', 'rungs', 'speechless', 'adjust', 'groggy', 'glowered', 'joke', 'pasty', 'merciless', 'firepits', 'tortured', 'gilbert', 'foremost', 'dwellers', 'expression', 'trek', 'fervently', 'thrilled', 'covers', 'whisperings', 'bracelets', 'minutes', 'hefted', 'bitterness', 'avenged', 'crook', 'sated', 'herons', 'greenaway', 'engines', 'queenscrown', 'leek', 'accord', 'trumpeting', 'greed', 'nobler', 'grievously', 'wolfskin', 'grudgingly', 'looted', 'flamboyant', 'fairest', 'braided', 'partner', 'celebration', 'footed', 'madder', 'anytime', 'withdrawn', 'whiteye', 'elderly', 'lester', 'alyce', 'coolly', 'sported', 'frequently', 'sceptre', 'scorned', 'collecting', 'bodily', 'auction', 'loom', 'roofless', 'paramount', 'regardless', 'cutjack', 'strangle', 'merreq', 'furrowed', 'hazkar', 'goodwin', 'cautiously', 'besiegers', 'valuables', 'maroon', 'lop', 'petition', 'mourned', 'grafton', 'nobly', 'daub', 'crewed', 'mightiest', 'ripening', 'streamers', 'cantered', 'recede', 'unwary', 'considering', 'dreamless', 'sharpness', 'mantarys', 'morgan', 'meagre', 'deign', 'hauberks', 'confirm', 'preceded', 'famously', 'hut', 'gorne', 'banged', 'drummed', 'boldest', 'domeric', 'bakers', 'gloomily', 'jabbing', 'soured', 'scuttling', 'morsels', 'limited', 'hawks', 'crowding', 'plodding', 'grieved', 'loosely', 'fleshless', 'renown', 'bole', 'heraldry', 'access', 'barded', 'harra', 'translucent', 'taunts', 'betrayals', 'bodied', 'rally', 'disgusting', 'hobble', 'hues', 'urgently', 'amount', 'pairs', 'harrold', 'delicious', 'follows', 'scaling', 'nestoris', 'ronel', 'delivering', 'consented', 'squawked', 'beaded', 'chalk', 'socket', 'whittlestick', 'quintain', 'resentfully', 'contend', 'wielded', 'plentiful', 'strikes', 'hetherspoon', 'regards', 'handing', 'sinewy', 'handholds', 'crates', 'stomped', 'paler', 'lapped', 'understands', 'granddaughter', 'fishfoot', 'larmister', 'reaving', 'diminished', 'adjusted', 'bedroll', 'scuttled', 'shoreline', 'nyessos', 'presenting', 'sawane', 'respectful', 'parents', 'lintel', 'bunk', 'distracted', 'greenguts', 'ocean', 'lurked', 'reminds', 'sheepfold', 'enchanted', 'squeaked', 'lysono', 'southeast', 'southwest', 'mandrake', 'bedwyck', 'separated', 'pleas', 'depended', 'vastly', 'besieged', 'throaty', 'joins', 'sneaking', 'brimstone', 'streaks', 'cabbages', 'squired', 'reaper', 'whitewashed', 'cheyk', 'vessels', 'mess', 'cherry', 'hailed', 'captained', 'splotchy', 'altars', 'caring', 'oppo', 'germund', 'caged', 'intently', 'playful', 'revolt', 'loads', 'ruts', 'hundredth', 'fieldhands', 'minded', 'innkeeps', 'import', 'powerless', 'ruefully', 'peacock', 'interior', 'courtiers', 'shaded', 'sights', 'locust', 'seabirds', 'torgon', 'soar', 'inspire', 'accomplished', 'scabbards', 'alehouses', 'rueful', 'faime', 'gaggle', 'acres', 'soften', 'colorful', 'cherries', 'wills', 'nissa', 'spitfires', 'warship', 'rooted', 'declaring', 'truer', 'piped', 'mat', 'lashes', 'steelskin', 'aimed', 'greenshield', 'amethyst', 'tagganaro', 'vermin', 'sleepily', 'cunts', 'bountiful', 'rustled', 'prominent', 'sheathe', 'parry', 'harlaws', 'aly', 'trampling', 'turnpike', 'slithering', 'quench', 'unkindly', 'consulting', 'oaten', 'saddlebags', 'pears', 'cowbells', 'hindquarters', 'fiddle', 'crumbs', 'ha', 'buttered', 'hammock', 'narbo', 'blundered', 'cord', 'forsaken', 'winesinks', 'valyrians', 'brewer', 'purred', 'clop', 'sole', 'emm', 'bean', 'grasslands', 'raided', 'nibble', 'gulian', 'rolfe', 'storehouse', 'pampered', 'cramp', 'burying', 'sauce', 'piers', 'guttering', 'choicest', 'onetime', 'wallwalks', 'dismissing', 'southshield', 'wrung', 'shadowbinder', 'albeit', 'arryk', 'hathay', 'shorn', 'harwyn', 'erryk', 'available', 'hinted', 'muffle', 'backing', 'serwyn', 'pounce', 'turncloaks', 'rearguard', 'apex', 'fletched', 'fattest', 'addarn', 'steadied', 'sustain', 'hiring', 'drowsy', 'hungrily', 'crewmen', 'stuffing', 'dunstan', 'glib', 'casting', 'battleground', 'daryn', 'coloring', 'mortified', 'hats', 'clack', 'buzzed', 'collio', 'beseeching', 'sterner', 'dragonflies', 'abominations', 'harmony', 'reavers', 'dreading', 'neglected', 'faintest', 'marshes', 'sufficiently', 'droppings', 'livery', 'wasteland', 'bounce', 'vicious', 'criminals', 'rib', 'bellyful', 'cawing', 'withering', 'darkest', 'puffs', 'spoonful', 'necked', 'murch', 'sloping', 'blessedly', 'plume', 'teemed', 'raises', 'situation', 'stockade', 'trudged', 'swarm', 'thrashing', 'boring', 'tying', 'drain', 'unbent', 'uncouth', 'friendless', 'occasion', 'thunk', 'norvoshi', 'kingslander', 'intention', 'flaps', 'sprayed', 'pooled', 'connected', 'pulp', 'lorath', 'seaswift', 'fright', 'screamers', 'rheumy', 'neeps', 'cutpurses', 'lacquer', 'overflowing', 'altogether', 'storeroom', 'squall', 'deliberate', 'bladed', 'sprawl', 'therys', 'volon', 'provoked', 'fussing', 'haul', 'spattering', 'skulking', 'flatbread', 'forage', 'serene', 'sterncastle', 'worldly', 'cases', 'campfires', 'starless', 'flowstone', 'baring', 'treating', 'dinner', 'graceford', 'treasonous', 'soothed', 'tawney', 'carpeted', 'verse', 'jafer', 'hysterically', 'hounded', 'happiness', 'myre', 'tolorro', 'farwynd', 'perils', 'groves', 'perfumes', 'chastise', 'randy', 'adjoining', 'tinkled', 'toyed', 'intruder', 'flinty', 'sandbars', 'pothelm', 'equally', 'famine', 'reclaim', 'piglets', 'aspect', 'pug', 'plows', 'councillor', 'inquiries', 'ducking', 'drooped', 'subdued', 'courtly', 'clout', 'smarter', 'sewer', 'coil', 'theft', 'wonderfully', 'fatter', 'blinded', 'ironman', 'soundlessly', 'naerys', 'hrakkar', 'screwed', 'notable', 'dangerously', 'brotherfucker', 'jostling', 'mistrusted', 'mildew', 'assassins', 'rogues', 'knuckled', 'pelting', 'web', 'bloomed', 'sprinkled', 'lancers', 'reads', 'restrain', 'malleon', 'wormways', 'devouring', 'scuffed', 'slaughtering', 'ghouls', 'sixteenth', 'sleek', 'pisspot', 'gillam', 'bettley', 'mountainside', 'sawing', 'ponies', 'stonemason', 'dough', 'belief', 'lusts', 'ribald', 'prowl', 'balconies', 'naathi', 'forthcoming', 'insignificant', 'del', 'engraved', 'avalanche', 'hoot', 'chiefly', 'minor', 'gliding', 'goodbrothers', 'heavens', 'strutting', 'sows', 'outline', 'droplets', 'harpies', 'alysane', 'greenstone', 'finishing', 'fishwife', 'intact', 'willamen', 'entertained', 'pleasures', 'section', 'cleansed', 'dissolving', 'yearning', 'wasps', 'tines', 'aches', 'moles', 'belandra', 'approaches', 'fastening', 'fiddles', 'parade', 'winkle', 'weasels', 'henly', 'streak', 'ne', 'oddments', 'junior', 'brilliantly', 'sped', 'whimpery', 'squid', 'plagued', 'bloodied', 'swans', 'arrested', 'ugliness', 'scour', 'shepherds', 'roiling', 'jesting', 'flute', 'claiming', 'fishmonger', 'strangler', 'sinners', 'hoardings', 'dunes', 'deliverance', 'mago', 'rewards', 'joso', 'cruelest', 'reserved', 'fretful', 'succeed', 'fornication', 'rein', 'gruel', 'stiffness', 'domain', 'seeming', 'admittedly', 'tokens', 'convene', 'reappeared', 'redly', 'sternly', 'conclave', 'comparison', 'arses', 'broader', 'appropriate', 'weave', 'sage', 'scrabbled', 'callow', 'fabulous', 'shipbreaker', 'smoldering', 'sweetsister', 'borrell', 'obliged', 'yna', 'terrance', 'bridled', 'tire', 'moisture', 'coy', 'invisible', 'forges', 'squids', 'khyzai', 'reopen', 'player', 'yelling', 'warms', 'avoiding', 'sideboard', 'sill', 'oval', 'riches', 'vowing', 'swearing', 'barbican', 'foragers', 'steadily', 'leslyn', 'nameday', 'thickest', 'pronged', 'placing', 'horseshoes', 'pypar', 'circlet', 'advice', 'perra', 'fervent', 'unshaven', 'estates', 'omer', 'prints', 'eraz', 'unlucky', 'sag', 'hermit', 'progeny', 'headwaters', 'salvation', 'dribbling', 'athwart', 'manly', 'opposed', 'coppery', 'blackhaven', 'appalling', 'bug', 'goldsmiths', 'tabletop', 'gerald', 'valued', 'fully', 'arming', 'bumping', 'cords', 'willed', 'taverns', 'nobles', 'burton', 'revels', 'jut', 'stammered', 'dwarfed', 'twas', 'labors', 'jewelry', 'shitting', 'forfeit', 'steer', 'soaring', 'arise', 'sighs', 'ointments', 'amidships', 'mended', 'stragglers', 'snuffed', 'newest', 'receded', 'awaken', 'waycastle', 'softfoot', 'flustered', 'drennan', 'depend', 'hearthfire', 'brutes', 'tyr', 'binding', 'stitches', 'martells', 'whim', 'shuffle', 'huntsmen', 'snatching', 'refresh', 'lopped', 'founded', 'probe', 'rhaella', 'maddened', 'conwy', 'butterflies', 'salve', 'bereft', 'unicorns', 'esteem', 'snaked', 'torture', 'formal', 'cafferen', 'governance', 'angrier', 'lately', 'infirm', 'reconsider', 'trifle', 'tristan', 'dearest', 'confront', 'leafy', 'cringed', 'frantic', 'moleskin', 'shred', 'preferable', 'rhythm', 'enclosed', 'townfolk', 'wobbling', 'fairly', 'warmest', 'worrying', 'unsettling', 'seeks', 'calmed', 'quailed', 'permission', 'volumes', 'parmen', 'erotic', 'packing', 'numbly', 'girded', 'desperation', 'dryn', 'leggings', 'cargo', 'commotion', 'boremund', 'departure', 'moored', 'befallen', 'mend', 'innocently', 'lorent', 'tym', 'trappings', 'trench', 'khorane', 'stubbly', 'sensible', 'clambering', 'inkpot', 'vogarro', 'overlook', 'clement', 'headfirst', 'dizzily', 'mullin', 'relent', 'dorea', 'ignorance', 'hellhorn', 'adultery', 'stance', 'shod', 'codds', 'racks', 'buttery', 'vexed', 'blocking', 'crests', 'talker', 'blessings', 'wayfarer', 'apologetic', 'grotesquerie', 'rejoined', 'donning', 'consulted', 'hedges', 'ducks', 'thorny', 'delp', 'lurch', 'entry', 'united', 'weakest', 'uselessly', 'righteous', 'immaculate', 'foreign', 'established', 'refill', 'club', 'skeletal', 'fitfully', 'huntress', 'deepening', 'adequate', 'twoscore', 'fester', 'fronted', 'lightest', 'affair', 'elevated', 'sliver', 'parched', 'saddling', 'brine', 'arc', 'combatant', 'rendered', 'growth', 'tingled', 'wickedness', 'sevenstreams', 'scythe', 'cobalt', 'longwater', 'thunderous', 'ladyship', 'decisions', 'behead', 'flecks', 'distract', 'shieldbreaker', 'impoverished', 'objection', 'fearing', 'warren', 'flask', 'kneeler', 'willowy', 'mar', 'storming', 'hurtling', 'turnberry', 'tradesman', 'quickest', 'chaste', 'sentiment', 'mastered', 'forbidding', 'lakeshore', 'kingthlayer', 'inconvenient', 'mischance', 'brain', 'infested', 'webs', 'courageous', 'snowmen', 'rounsey', 'surf', 'dar', 'northwest', 'dispositions', 'highbom', 'hinterlands', 'drunkenly', 'unblooded', 'unlace', 'imprisonment', 'venture', 'enslaved', 'craggy', 'grappling', 'feign', 'inquired', 'warred', 'darklyns', 'protectively', 'infants', 'staffs', 'wheezed', 'reconcile', 'clutches', 'peculiar', 'flamed', 'palfreys', 'unspeakable', 'veteran', 'legacy', 'pillowed', 'hollowly', 'popping', 'involve', 'gusts', 'hue', 'heward', 'buxom', 'fiddlers', 'lucamore', 'involved', 'blankly', 'maar', 'pinkmaiden', 'poke', 'accusing', 'quorked', 'baggy', 'harness', 'disarray', 'antario', 'flowery', 'posing', 'pinky', 'vacant', 'showered', 'pilings', 'indifferent', 'appointments', 'buys', 'sorcerous', 'incised', 'stork', 'phlegm', 'contained', 'zei', 'tor', 'seamed', 'attacker', 'dreary', 'bushel', 'wordlessly', 'stairwell', 'tolosi', 'reeked', 'listing', 'chainless', 'dugs', 'attending', 'timed', 'hooks', 'dine', 'potent', 'elys', 'nobility', 'presents', 'tarle', 'unimpressed', 'scribes', 'lynderly', 'fragrance', 'unmistakable', 'breakwater', 'rumpled', 'weighs', 'obstacle', 'squeaking', 'burrowed', 'caltrops', 'lenyl', 'ancestral', 'slippered', 'geld', 'troop', 'disgraced', 'swaddled', 'author', 'darklyn', 'gower', 'pawed', 'recompense', 'damion', 'confessing', 'uncertainty', 'founder', 'shroud', 'admired', 'andar', 'foundations', 'slobbery', 'heroic', 'mormonts', 'prices', 'ith', 'hedgehog', 'sling', 'information', 'copies', 'foffrey', 'gums', 'barrows', 'inkling', 'afore', 'birch', 'lucos', 'latter', 'dowager', 'querulous', 'strengthened', 'arsenal', 'nourishment', 'longaxes', 'jokes', 'puzzlement', 'headaches', 'contrast', 'com', 'sickened', 'puckens', 'genuine', 'aglow', 'exhaustion', 'opponent', 'shriveled', 'elaborate', 'quickened', 'bubbled', 'overripe', 'headstrong', 'wriggle', 'herding', 'climber', 'casts', 'quit', 'sanctum', 'ceilings', 'handfuls', 'piling', 'blustery', 'shrink', 'foamdrinker', 'hating', 'fermented', 'prance', 'groomed', 'fours', 'nightingales', 'teak', 'dolls', 'fussed', 'underbrush', 'tested', 'happenstance', 'courts', 'exterior', 'surnmerhall', 'roadside', 'stops', 'trussed', 'powders', 'greetings', 'squabbles', 'caverns', 'oldcastle', 'luton', 'whoop', 'uncoiled', 'everybody', 'precise', 'leaden', 'shambled', 'warring', 'flinching', 'worships', 'jewel', 'cooled', 'snowmelt', 'elza', 'cove', 'riverside', 'quarreled', 'ledgers', 'rougher', 'beren', 'tighten', 'arriving', 'sugar', 'bide', 'exulting', 'lanky', 'shun', 'flaky', 'granary', 'snail', 'astray', 'petulant', 'signing', 'looters', 'sparkling', 'wildflowers', 'antics', 'grimace', 'metallic', 'cacophony', 'schemes', 'bedecked', 'ponder', 'todric', 'keen', 'oo', 'lax', 'crosses', 'handhold', 'immensity', 'battleaxe', 'estate', 'baffled', 'nitre', 'harroway', 'humiliation', 'explode', 'vantage', 'wring', 'advancing', 'directed', 'miscarriages', 'seduced', 'digestion', 'conspicuous', 'praed', 'shavepates', 'recite', 'seekers', 'admiration', 'knobby', 'glamor', 'crabapple', 'stalker', 'mating', 'crossguard', 'lotus', 'heigh', 'dresses', 'scowls', 'tanton', 'overwhelming', 'drinkers', 'honestly', 'basking', 'bottles', 'strolled', 'giggles', 'goblets', 'venomous', 'meandering', 'morra', 'crisscrossed', 'consummation', 'jerk', 'bowlegged', 'thudded', 'balled', 'strengthen', 'scramble', 'patchwork', 'ungrateful', 'twists', 'hordes', 'weaken', 'ointment', 'mutters', 'spirited', 'fee', 'sympathetic', 'briar', 'morrows', 'corrupt', 'craft', 'niches', 'greenish', 'latrines', 'attendants', 'mages', 'shutting', 'fondling', 'outcome', 'tools', 'ambitions', 'saduleon', 'silverhair', 'guides', 'semblance', 'armorers', 'laps', 'sulfur', 'oozed', 'oxcart', 'existed', 'store', 'mourners', 'queerer', 'perplexed', 'wrestle', 'quort', 'kid', 'morton', 'swimmer', 'surprisingly', 'irritating', 'grotesques', 'blare', 'litters', 'meredyth', 'composed', 'heralded', 'sketched', 'banish', 'queensgate', 'absent', 'hauling', 'coursers', 'flaking', 'watchman', 'ling', 'fastness', 'turrets', 'fretting', 'regretted', 'warehouses', 'milked', 'watchmen', 'sharpen', 'vipers', 'rapes', 'flutes', 'gaily', 'gladden', 'mudflats', 'nysterica', 'whoreson', 'anguished', 'keening', 'mellei', 'rafford', 'oho', 'decency', 'eater', 'slabs', 'mission', 'fruitless', 'nerves', 'guttural', 'unaccountably', 'smitten', 'gulf', 'clashed', 'mingling', 'tongued', 'quorking', 'rosy', 'staged', 'knuckle', 'precisely', 'victors', 'enters', 'poisoning', 'plainer', 'barba', 'outlived', 'brocade', 'sidled', 'whelps', 'bordered', 'belowdecks', 'deziel', 'snare', 'pigeons', 'rankled', 'battling', 'rivermen', 'presentable', 'plastered', 'unwilling', 'pyres', 'deathbed', 'appalled', 'bah', 'freshwater', 'stonehelm', 'juggle', 'feats', 'thickset', 'hisself', 'acid', 'furniture', 'swipe', 'croak', 'deserts', 'result', 'crisply', 'hammerhorn', 'hildy', 'foeman', 'jousters', 'convenient', 'coldness', 'bulls', 'queue', 'stuffy', 'leeched', 'expects', 'canter', 'lhazareen', 'stature', 'unhurt', 'foretelling', 'belch', 'servingwomen', 'eventually', 'insistent', 'stot', 'atonement', 'crisped', 'skipped', 'salad', 'lf', 'halberds', 'humors', 'limes', 'attempts', 'buckler', 'ember', 'bulbous', 'lining', 'carnal', 'poker', 'gentlest', 'shielded', 'caress', 'jelly', 'discussed', 'merchantmen', 'paving', 'scornful', 'possessions', 'quarreling', 'conquerer', 'tiring', 'crumble', 'spoons', 'hemmed', 'pitched', 'bubbles', 'fumble', 'turnkeys', 'jaqqa', 'uncut', 'staked', 'rhan', 'steed', 'cobblecat', 'removing', 'partly', 'unfit', 'spite', 'furnace', 'sized', 'cassana', 'decay', 'menagerie', 'wastes', 'weir', 'lings', 'glint', 'lickspittle', 'beet', 'meetings', 'frolics', 'caused', 'unconcerned', 'addition', 'omens', 'hostile', 'flaxen', 'satins', 'snagged', 'rebuild', 'forah', 'vickon', 'crowning', 'sprout', 'cairns', 'vilest', 'normal', 'wedged', 'ringfort', 'heady', 'bryan', 'habitation', 'lavender', 'conciliator', 'fend', 'expensive', 'goldwork', 'wolfed', 'exquisitely', 'pisswater', 'infamy', 'shady', 'maslyn', 'spoiling', 'expenses', 'nuptials', 'owls', 'silences', 'objections', 'clasping', 'swom', 'prophesied', 'fasten', 'hornwoods', 'rhyme', 'churned', 'executed', 'retired', 'shits', 'fingerless', 'spiraling', 'pattern', 'slights', 'tanner', 'festooned', 'summerhall', 'defile', 'tinkling', 'admission', 'rhymer', 'lionstar', 'properties', 'resemblance', 'completely', 'stolid', 'resplendent', 'contemplating', 'carcasses', 'larraq', 'confide', 'vegetable', 'hose', 'chinless', 'seller', 'unblinking', 'currents', 'flagship', 'graze', 'knifed', 'browntooth', 'yelped', 'bout', 'latrine', 'longstrider', 'shrilly', 'khalakka', 'irritably', 'comings', 'stockings', 'alan', 'sticking', 'tufts', 'weariness', 'goings', 'sacking', 'valiantly', 'azure', 'becalmed', 'cooler', 'tregar', 'prologue', 'lather', 'greenery', 'pockmarked', 'bridegroom', 'blister', 'deceive', 'labyrinth', 'thumbnail', 'consuming', 'marshaling', 'inflame', 'tapping', 'defensive', 'jerking', 'compensate', 'mustachios', 'mislikes', 'orson', 'scouring', 'foundation', 'mobs', 'huts', 'dispersed', 'shower', 'cork', 'defends', 'simpleminded', 'boyhood', 'chattering', 'frustration', 'helya', 'swineherds', 'frailty', 'peel', 'horsey', 'contain', 'rivulets', 'cabbage', 'tiers', 'glacier', 'hollowed', 'dogging', 'almonds', 'opal', 'wreckage', 'glinted', 'eaves', 'leveled', 'swamp', 'privily', 'disposed', 'commit', 'wares', 'unanswered', 'doused', 'hugely', 'rudder', 'galladon', 'tattersalt', 'blackest', 'hallway', 'bonebreaker', 'tallharts', 'ninestars', 'vintages', 'blistering', 'tumblers', 'blithely', 'affront', 'scruffy', 'merchanter', 'surprising', 'halves', 'blackhair', 'scouting', 'thickness', 'thence', 'scenes', 'brightened', 'lorathi', 'brandished', 'steepled', 'snowed', 'tiresome', 'obella', 'honorably', 'cubs', 'garrisons', 'www', 'reopened', 'bluffs', 'godsway', 'justiciar', 'rolls', 'killings', 'tractable', 'wetly', 'straightaway', 'vanity', 'sorceries', 'childbirth', 'loreza', 'barra', 'featured', 'dapple', 'switchback', 'feint', 'clumps', 'submitted', 'guided', 'manses', 'bleeds', 'ormond', 'manfryd', 'stopper', 'misfortune', 'fluid', 'neighbors', 'rout', 'whine', 'shat', 'extended', 'unflinching', 'confronted', 'appointed', 'agile', 'pronouncement', 'elyana', 'tidal', 'glows', 'persist', 'conscious', 'hirelings', 'amid', 'della', 'marissa', 'troublesome', 'olymer', 'pikemen', 'purposes', 'overboard', 'bessa', 'puissant', 'combatants', 'public', 'horsehead', 'whitesmile', 'acts', 'greensight', 'squishers', 'atarms', 'mudge', 'dawned', 'fearlessly', 'afield', 'example', 'wagged', 'ports', 'peevish', 'frigid', 'devilgrass', 'vests', 'pinewood', 'gwynesse', 'refreshment', 'tepid', 'symeon', 'sputtered', 'annals', 'befell', 'coats', 'kella', 'snags', 'crevices', 'tousled', 'mishap', 'ashford', 'japing', 'suffocating', 'injustice', 'grains', 'newcomers', 'solitary', 'contrite', 'wading', 'riderless', 'unfamiliar', 'grisel', 'spades', 'widening', 'grudge', 'ferrymen', 'ryella', 'action', 'blooms', 'paddled', 'cole', 'proposal', 'crouching', 'refuses', 'hungered', 'acquaint', 'counselors', 'consideration', 'freeborn', 'braced', 'regency', 'askew', 'riots', 'deception', 'aim', 'chimed', 'punishing', 'date', 'buckles', 'hopefully', 'previously', 'soared', 'wisest', 'placid', 'meadowlark', 'beam', 'blacken', 'talon', 'improved', 'hazardous', 'reassured', 'recruit', 'err', 'secretly', 'lolling', 'drohe', 'holt', 'truce', 'cerenna', 'boarded', 'ghoyan', 'dash', 'supporters', 'downwind', 'bottoms', 'treats', 'toland', 'lacing', 'shirei', 'pimply', 'snore', 'cudgel', 'cascade', 'masted', 'kite', 'humbler', 'lu', 'manure', 'fastnesses', 'crofters', 'therry', 'upthrust', 'cadaverous', 'poleaxe', 'bounty', 'peaked', 'hopelessly', 'theodore', 'servers', 'crannogs', 'maynard', 'kromm', 'eternity', 'heave', 'publishers', 'disguised', 'lampreys', 'sloughed', 'windmill', 'dusted', 'squander', 'pierce', 'messy', 'sniffling', 'grimacing', 'sepulcher', 'prying', 'mont', 'wretches', 'stiletto', 'astern', 'greased', 'lychester', 'survives', 'draqaz', 'lowering', 'protective', 'verge', 'sweeps', 'essence', 'whined', 'aftertaste', 'flaring', 'elbert', 'rightfully', 'nage', 'tricked', 'warty', 'frostbite', 'protesting', 'sleeveless', 'mudd', 'failures', 'balancing', 'craved', 'seamstress', 'denials', 'fishmarket', 'eyelids', 'cattle', 'provocation', 'perverse', 'raft', 'privacy', 'trusts', 'molest', 'gristle', 'pitiful', 'breached', 'dialect', 'prevailed', 'braying', 'finely', 'impossibly', 'sear', 'yaros', 'tarbecks', 'reaver', 'knaves', 'reminding', 'seethed', 'sweetgrass', 'tos', 'summerwine', 'sluiced', 'clutch', 'roggo', 'gouts', 'thereby', 'repairs', 'dissolve', 'conjured', 'hoary', 'hen', 'winner', 'reproaches', 'refusal', 'prongs', 'wantons', 'tease', 'organized', 'planting', 'eerie', 'firth', 'comforted', 'wagering', 'prickle', 'slunk', 'palisades', 'fumed', 'intruders', 'listlessly', 'babble', 'rampart', 'weedy', 'importance', 'cowed', 'piping', 'sorted', 'event', 'fairmarket', 'beauties', 'dothare', 'regaling', 'observe', 'baleful', 'pretends', 'lengthy', 'measuring', 'springs', 'eustace', 'herb', 'unafraid', 'skiffs', 'deathly', 'blooming', 'ketch', 'bloated', 'rammed', 'deflowered', 'carries', 'trestles', 'ghaston', 'afterdeck', 'basilisks', 'hottest', 'infantry', 'nubile', 'magics', 'wearer', 'dormund', 'muttonhead', 'stifled', 'byam', 'guffaw', 'hatchlings', 'salloreon', 'swatting', 'bottomed', 'drizzle', 'similarly', 'harclay', 'brogg', 'regained', 'stored', 'chapters', 'schemer', 'simon', 'duckfield', 'guncer', 'hubard', 'interests', 'ironbelly', 'bristle', 'grants', 'swaggered', 'disguise', 'moonmaid', 'dined', 'japed', 'eysen', 'mistrustful', 'bastardy', 'harl', 'incredulously', 'goodness', 'roggon', 'curdle', 'consigned', 'shooed', 'attempted', 'writings', 'conducted', 'awed', 'unbelievers', 'practicing', 'oss', 'knowingly', 'fellowship', 'supporting', 'plowman', 'kezmya', 'sarra', 'ezzara', 'stillbirths', 'meats', 'lusted', 'greendreams', 'grunts', 'veered', 'crawls', 'ducklings', 'drearnwine', 'collapsing', 'lucias', 'niello', 'shayala', 'aspire', 'reassure', 'lickspittles', 'wormy', 'sinks', 'desmera', 'lard', 'sloppy', 'faltered', 'nymeros', 'unbowed', 'reappear', 'myrielle', 'fastest', 'victorious', 'sunderly', 'leatherbound', 'messed', 'derives', 'unexpectedly', 'erenford', 'submit', 'befouled', 'depends', 'alaric', 'urron', 'rents', 'brimmed', 'gerren', 'humility', 'sparring', 'unchain', 'crucial', 'burdened', 'hangs', 'tingling', 'condolences', 'ravening', 'dob', 'whitecaps', 'closeness', 'check', 'humiliated', 'moldy', 'narrower', 'accommodations', 'ceaseless', 'mindful', 'slime', 'resented', 'trophies', 'varner', 'eddison', 'gorys', 'edoryen', 'humped', 'plants', 'therein', 'displease', 'dimples', 'immortal', 'partners', 'downcast', 'hawthorn', 'overlord', 'rasher', 'chills', 'unchanged', 'fret', 'circumstances', 'yos', 'tissue', 'catchers', 'bees', 'intricate', 'brilliant', 'patrol', 'deployed', 'stamp', 'dike', 'doniphos', 'outfight', 'jarmen', 'hosting', 'midden', 'beached', 'signatures', 'overmuch', 'jackanapes', 'colorless', 'ritual', 'pincers', 'entertain', 'corpsekiller', 'glaring', 'shaving', 'frustrated', 'mainland', 'suite', 'mollono', 'blonde', 'flne', 'wendamyr', 'rommo', 'bella', 'confuse', 'stagnant', 'mezzara', 'submerged', 'tons', 'problems', 'wobblecheeks', 'mewling', 'trays', 'scullion', 'cuffed', 'mercifully', 'insistence', 'wolfling', 'consume', 'lazuli', 'lumps', 'drays', 'lapsed', 'seahorse', 'alarmed', 'larra', 'bask', 'thunderbolt', 'forbearance', 'accepting', 'glimpses', 'dagged', 'helicent', 'nap', 'dangle', 'screech', 'tournaments', 'ridged', 'ygon', 'fettered', 'theobald', 'robbing', 'flopped', 'weakened', 'brigantine', 'hutch', 'curtsy', 'engulf', 'predecessor', 'requested', 'middling', 'proudest', 'straggling', 'quickness', 'savior', 'garnet', 'dragonslayer', 'fust', 'dueling', 'tremond', 'sunderland', 'brightness', 'corridor', 'resembled', 'anchorage', 'spoils', 'gape', 'roundtower', 'tripping', 'reclaimed', 'gawky', 'palanquins', 'confection', 'brooked', 'annoying', 'nieces', 'bodger', 'hinting', 'throttled', 'adamant', 'causes', 'embarrassed', 'wetter', 'howd', 'fulk', 'freckly', 'sopping', 'roars', 'astonishing', 'sloshing', 'bloodthirsty', 'morgo', 'ramshackle', 'dragonflame', 'instrument', 'fouler', 'dissuade', 'silky', 'trim', 'luke', 'fortify', 'sloe', 'masonry', 'tun', 'offerings', 'kindled', 'scuff', 'forgave', 'kingsgrave', 'pranced', 'consisted', 'eve', 'hareth', 'lime', 'claimants', 'castellans', 'sips', 'resentment', 'nicked', 'blah', 'sheepish', 'hugging', 'terraces', 'carpenter', 'downcut', 'naturally', 'reysen', 'myrtle', 'hghar', 'ashen', 'instructions', 'attract', 'womanly', 'majesty', 'proceed', 'cease', 'norreys', 'vassal', 'renounce', 'capons', 'disdainful', 'rugged', 'liddles', 'wulls', 'snowdrift', 'guidance', 'donella', 'chapped', 'pen', 'grind', 'bathes', 'outbreak', 'dynasty', 'chided', 'pleated', 'rutting', 'jarring', 'forswear', 'unrecognizable', 'rebellions', 'vanishing', 'mermen', 'suggests', 'repeating', 'topple', 'landless', 'improvement', 'scoop', 'immediately', 'downfall', 'titter', 'generosity', 'represent', 'bluetooth', 'rhoynish', 'possessed', 'peddler', 'miners', 'beron', 'painting', 'dirks', 'snarls', 'genial', 'blanketed', 'coughs', 'splashes', 'eyeholes', 'waltyr', 'lanced', 'unduly', 'bested', 'express', 'retribution', 'corsair', 'chelsted', 'districts', 'innocents', 'bedwarmer', 'blot', 'abrupt', 'sawed', 'pattering', 'wallace', 'canopied', 'whorehouses', 'fon', 'definitely', 'contemptuously', 'suspended', 'noblest', 'horsed', 'markedly', 'entreated', 'languages', 'shedding', 'excitedly', 'buttons', 'throngs', 'hazel', 'inflicted', 'fretted', 'unsteadily', 'reload', 'toed', 'crabbed', 'pang', 'ni', 'conceived', 'softness', 'waxley', 'starvation', 'chiming', 'leopard', 'scolding', 'stepfather', 'splendidly', 'foresters', 'foamed', 'oafs', 'nasal', 'baratheons', 'weaned', 'applecakes', 'grips', 'accommodate', 'weed', 'haggle', 'fireflies', 'vividly', 'cramps', 'gallantly', 'squinter', 'thrusts', 'hastened', 'tiara', 'couch', 'overwhelm', 'dubiously', 'vother', 'molested', 'thirteenth', 'thunderclap', 'queensmoot', 'tang', 'haggling', 'founding', 'compelled', 'hiked', 'shocking', 'humpback', 'mingle', 'fanciful', 'wringing', 'goldenheart', 'whicker', 'odors', 'irony', 'nhai', 'flail', 'inheritance', 'russell', 'phrase', 'evenly', 'jogos', 'meaner', 'throated', 'steaks', 'hawked', 'sacrificed', 'thoroughly', 'jommo', 'stately', 'worry', 'harmlessly', 'lye', 'speeches', 'rus', 'fulfilled', 'werlag', 'untidy', 'tattoos', 'crenels', 'described', 'beach', 'errol', 'gran', 'unguarded', 'mistakes', 'greydon', 'shrouds', 'knead', 'dan', 'unite', 'archon', 'rescuer', 'chafing', 'retire', 'mustachio', 'sane', 'cowls', 'austere', 'gorse', 'responsibility', 'droop', 'rap', 'rarer', 'conjurer', 'whelped', 'abroad', 'triumphant', 'stilled', 'raking', 'notches', 'haughty', 'vaith', 'roro', 'bellow', 'seemingly', 'normally', 'gariss', 'jingling', 'heraldic', 'attractive', 'targets', 'salting', 'madmen', 'sunbursts', 'drunker', 'dwelling', 'tilting', 'fails', 'uncontrollably', 'foemen', 'skewers', 'squandered', 'reeking', 'onset', 'scruff', 'blackthumb', 'rallied', 'leering', 'jellied', 'yell', 'shoals', 'inviting', 'noooo', 'latch', 'jousts', 'darrys', 'sicken', 'benedict', 'abhor', 'passengers', 'peeked', 'victims', 'shivery', 'deadfall', 'shiera', 'flooded', 'cascaded', 'breasted', 'chancy', 'unbound', 'checkered', 'apprehension', 'voiced', 'mosaic', 'aground', 'jouster', 'spruce', 'banter', 'belike', 'blanched', 'unconvinced', 'byrch', 'noho', 'slats', 'earnestly', 'warded', 'whichever', 'brokered', 'companionship', 'lipped', 'cutpurse', 'aplenty', 'unhorsing', 'ludicrous', 'airily', 'famished', 'overtopped', 'womanhood', 'prosperous', 'befriend', 'ton', 'redolent', 'shella', 'bass', 'fantastic', 'revered', 'roped', 'edmund', 'cannibals', 'peeking', 'lawless', 'whoosh', 'draws', 'searing', 'vastness', 'healers', 'ootho', 'snowball', 'frenzy', 'murk', 'elenei', 'discussing', 'durran', 'greys', 'beckoning', 'loans', 'weeps', 'reemerged', 'bedraggled', 'beetles', 'preferably', 'cunningly', 'pinchface', 'devastation', 'embraces', 'theomar', 'ironoaks', 'traditions', 'doublets', 'feuds', 'domed', 'norbert', 'churn', 'outburst', 'eastward', 'record', 'budge', 'occupy', 'headache', 'nary', 'outrider', 'distinction', 'illuminated', 'sulky', 'agents', 'exact', 'bats', 'discourteous', 'swatted', 'fasting', 'criston', 'greedily', 'entrust', 'cursory', 'botch', 'snuffling', 'heatedly', 'indicated', 'dens', 'feasters', 'confer', 'detain', 'mutterings', 'gritting', 'bloodstains', 'fluted', 'taverners', 'helmetless', 'bribe', 'chisel', 'purchased', 'devil', 'bullocks', 'persuasive', 'nods', 'plundering', 'aspects', 'minute', 'notoriously', 'distinguish', 'whinnying', 'hesitant', 'exploits', 'quarry', 'masons', 'offspring', 'sinew', 'motes', 'grapnels', 'mohor', 'tickled', 'spearheads', 'halffielms', 'thieving', 'muster', 'terys', 'displaying', 'tiled', 'surround', 'wistful', 'osmynd', 'encourage', 'clapping', 'destined', 'crotch', 'critically', 'ferries', 'violence', 'joked', 'kos', 'rivals', 'skeleton', 'dishonorable', 'wobbly', 'vanquished', 'wrinkle', 'somebody', 'simpering', 'unprotected', 'cackling', 'subdue', 'wendish', 'exercise', 'spiraled', 'rummaged', 'ottomore', 'sledges', 'golds', 'riper', 'rests', 'pledging', 'pander', 'mantlets', 'torso', 'sailcloth', 'fidgeting', 'devices', 'quincy', 'radiant', 'plaintively', 'plinth', 'treatment', 'panted', 'drying', 'boasts', 'fiercer', 'boggy', 'cloying', 'sweetwater', 'lharys', 'pouty', 'daena', 'borders', 'sheds', 'waterway', 'shortear', 'misstep', 'robbers', 'piteous', 'hone', 'redder', 'bewildered', 'escaping', 'chequy', 'ers', 'gall', 'sneaks', 'speared', 'stonedoor', 'arose', 'wynds', 'drummers', 'ain', 'shapely', 'sinful', 'boisterous', 'rondels', 'juncture', 'swine', 'ferryman', 'glob', 'addressed', 'heading', 'bantam', 'rooster', 'wen', 'trips', 'stiffening', 'splinter', 'growls', 'respects', 'sorcerers', 'afternoons', 'hinder', 'throws', 'pebbleton', 'snowstorms', 'gurn', 'dragonslayers', 'bolting', 'rennifer', 'dispatching', 'wields', 'dining', 'trumpeted', 'gusty', 'devotions', 'omened', 'runty', 'calumnies', 'wayward', 'toiled', 'hobbling', 'shredded', 'ragnor', 'caromed', 'lineage', 'junction', 'unwound', 'crazed', 'bracing', 'stonetrees', 'blunder', 'ballad', 'swineherd', 'streambed', 'harlon', 'mucked', 'talbert', 'rudely', 'raper', 'sadder', 'month', 'risked', 'grit', 'hinge', 'nursery', 'hosted', 'gaps', 'untaken', 'purchase', 'disfigured', 'occasional', 'credit', 'fills', 'surveyed', 'lucifer', 'surnmerwine', 'succor', 'gushing', 'scanning', 'breastplates', 'neglect', 'trenches', 'subsided', 'grimm', 'looting', 'punctuated', 'roach', 'pellets', 'maekar', 'juggled', 'temptation', 'quilt', 'persistent', 'lopsided', 'unsheathe', 'elron', 'nay', 'disobedience', 'barbarians', 'chops', 'breechclout', 'manfully', 'coasts', 'steeply', 'froth', 'exposure', 'sunlit', 'tooled', 'lionskin', 'hightowers', 'hoisting', 'janei', 'seashell', 'scion', 'shrinking', 'whack', 'chortled', 'princesses', 'insides', 'chilling', 'leafless', 'fishmongers', 'traditionally', 'hits', 'niggard', 'snowcapped', 'larboard', 'purely', 'nella', 'overcrowded', 'squabble', 'overhang', 'flitting', 'polish', 'bonelessly', 'stonehand', 'starfish', 'heritage', 'unskilled', 'dozed', 'townsman', 'smothering', 'gorgeously', 'mina', 'nested', 'ability', 'hoard', 'shaky', 'gem', 'fraught', 'contests', 'primacy', 'overtaken', 'limbed', 'sealskins', 'vortimer', 'oldfather', 'puddled', 'cozened', 'crevasse', 'vyrwel', 'staining', 'outlanders', 'helpful', 'grazing', 'creylen', 'charts', 'lomys', 'curry', 'handsomely', 'treecat', 'waynwoods', 'sweetcorn', 'blindness', 'cocksure', 'mirrors', 'reflect', 'helmets', 'attaching', 'savagery', 'acrid', 'panther', 'hatching', 'lung', 'weepy', 'joys', 'penance', 'undisturbed', 'intending', 'labor', 'championing', 'torwynd', 'bliss', 'stroll', 'refrain', 'sniggering', 'menace', 'bidder', 'disappear', 'bottomless', 'slopping', 'quizzical', 'tool', 'juggling', 'script', 'supping', 'mushy', 'botleys', 'quell', 'beset', 'deerhide', 'pretenders', 'shoves', 'pursuers', 'aisles', 'beech', 'wiggled', 'snowbank', 'outbuildings', 'bulk', 'eared', 'dart', 'mon', 'breaths', 'loses', 'tumbles', 'chattel', 'rhee', 'rylona', 'mazdhan', 'geese', 'unmarked', 'dozing', 'widen', 'fable', 'camarron', 'coves', 'aegons', 'costayne', 'wolverine', 'thaw', 'droopy', 'stomping', 'detail', 'devours', 'thewall', 'flaw', 'trifling', 'ululating', 'comic', 'overcome', 'passersby', 'weeks', 'wenda', 'twelfth', 'accorded', 'infinitely', 'misting', 'prattled', 'dimmed', 'dam', 'urho', 'dwells', 'foothold', 'babbling', 'recapture', 'tedium', 'grubbs', 'buggered', 'fugitive', 'reasonable', 'outcrop', 'fluent', 'pelted', 'cugen', 'quicksands', 'tricky', 'lenwood', 'rambton', 'footpad', 'choppy', 'myrmen', 'endings', 'soundly', 'corbrays', 'brides', 'welts', 'basalt', 'dustins', 'tridents', 'futures', 'degree', 'depicted', 'sothoros', 'capers', 'warnings', 'sprinting', 'accordingly', 'remarked', 'beamed', 'ecstasy', 'cutoff', 'advised', 'vigorous', 'tarred', 'blundering', 'clansman', 'leviathans', 'site', 'lasting', 'thee', 'unctuous', 'drumms', 'weavers', 'roust', 'jetty', 'horseradish', 'bowstrings', 'mislaid', 'lieutenant', 'goady', 'hearty', 'thud', 'tense', 'ties', 'unadorned', 'ollidor', 'inks', 'slings', 'balustrade', 'assembling', 'jangling', 'unknowing', 'tumbler', 'sweeten', 'royces', 'gait', 'glum', 'squiring', 'loathed', 'loathe', 'sufferings', 'colonnade', 'accusers', 'awning', 'perilously', 'retain', 'balking', 'befall', 'contrived', 'mourns', 'beetle', 'bribes', 'cannibal', 'splayed', 'lengths', 'knoll', 'patting', 'term', 'awfully', 'swirls', 'strawberry', 'guildhall', 'appearing', 'splat', 'doh', 'squish', 'plopped', 'blotchy', 'shrubs', 'ratty', 'vikary', 'festival', 'ghazdor', 'hoare', 'meldred', 'document', 'results', 'singularly', 'lengthen', 'steffarion', 'emmond', 'services', 'clotted', 'requests', 'rumor', 'grumble', 'whatsoever', 'sauced', 'disk', 'rufus', 'gowned', 'dragonspawn', 'ahhhh', 'louts', 'overpowering', 'fishwhiskers', 'benethon', 'correctly', 'foxglove', 'bottle', 'dannel', 'stagger', 'hummocks', 'binder', 'maiming', 'mills', 'counter', 'archons', 'considerably', 'interposed', 'strive', 'zahrina', 'chattels', 'surprises', 'tideline', 'recorded', 'sellsail', 'bidders', 'goodheart', 'seriously', 'unnamed', 'defeats', 'disarmed', 'leisurely', 'sightlessly', 'seep', 'falcons', 'blues', 'waning', 'birthmark', 'epic', 'tumco', 'yherizan', 'slips', 'swarthy', 'woo', 'strangling', 'ternesio', 'ramp', 'bhakaz', 'styles', 'fabrics', 'azzak', 'fanning', 'traps', 'heated', 'eternally', 'loon', 'crawn', 'poached', 'browns', 'complimented', 'disobey', 'minisa', 'http', 'states', 'smolder', 'votar', 'monstrously', 'drawstring', 'compendium', 'stressed', 'pronounce', 'sires', 'mudmen', 'glen', 'dragonsteel', 'broach', 'owns', 'frogeaters', 'listens', 'candidate', 'diversion', 'confidently', 'gueren', 'oxcarts', 'heaven', 'mawney', 'malo', 'aroma', 'coif', 'heron', 'outraged', 'haughtily', 'carellen', 'talents', 'confine', 'imposing', 'tolled', 'outcast', 'sawdust', 'possibilities', 'harghaz', 'morna', 'ceilinged', 'denies', 'delicately', 'threefold', 'oozing', 'mallery', 'bye', 'guise', 'ormund', 'plop', 'gashes', 'ahooo', 'aiming', 'whalers', 'thall', 'cisterns', 'galleries', 'harlot', 'socks', 'campfire', 'swiveled', 'coupling', 'abominably', 'polemen', 'crafted', 'cobwebs', 'jackals', 'brendel', 'button', 'harlan', 'quenched', 'illusions', 'lizards', 'sooty', 'rips', 'dragonkings', 'helmed', 'legion', 'besotted', 'pallets', 'bothering', 'meself', 'quaffed', 'sarsfield', 'clanker', 'saplings', 'hermaphrodite', 'assistance', 'hardness', 'grumkin', 'prattle', 'pooling', 'tybolt', 'foods', 'mincing', 'roadway', 'rangings', 'framing', 'goodman', 'inland', 'gooseflesh', 'unchanging', 'paved', 'privilege', 'remote', 'accuser', 'affairs', 'wools', 'vein', 'throttle', 'meantime', 'regarding', 'quavery', 'remarkably', 'chaotic', 'layered', 'sayings', 'monuments', 'strengths', 'titus', 'laswell', 'margot', 'cornered', 'encampments', 'lacquered', 'elaborately', 'deceased', 'merest', 'windpipe', 'stonetree', 'leashes', 'whacking', 'ascending', 'flourish', 'swordswench', 'entourage', 'deigned', 'bridal', 'winches', 'cutthroat', 'goldsmith', 'replacement', 'ruinous', 'farrow', 'rosewater', 'foodstuffs', 'tut', 'ramps', 'huddling', 'establish', 'lucion', 'fiddled', 'immediate', 'faring', 'whit', 'bead', 'mending', 'offices', 'cedric', 'scuffling', 'contended', 'necessity', 'glutton', 'dirge', 'unsettled', 'greenhand', 'squirting', 'fortified', 'striving', 'horseshoe', 'guardians', 'runnymudd', 'reining', 'populous', 'shorten', 'vanquish', 'tormented', 'doffed', 'chyttering', 'jate', 'drier', 'racked', 'sited', 'trios', 'clump', 'halting', 'cringe', 'saddest', 'sleet', 'thanking', 'dreadfully', 'husked', 'witnessed', 'decade', 'truculent', 'larence', 'mortals', 'arrangement', 'cleansing', 'sluggish', 'delights', 'horsehide', 'haunts', 'consoled', 'roelle', 'perestan', 'bodyguard', 'walys', 'jingled', 'manhoods', 'differ', 'skipping', 'chattered', 'dents', 'swiftest', 'sloped', 'opals', 'truest', 'leaner', 'mastiffs', 'alf', 'existence', 'william', 'scarcer', 'rd', 'ridgeline', 'celladar', 'crevice', 'arranging', 'ravella', 'instruments', 'temmo', 'belicho', 'broadly', 'clothe', 'exotic', 'necklaces', 'childless', 'ire', 'lane', 'alios', 'leisure', 'pinecone', 'winched', 'decline', 'guiding', 'checks', 'painless', 'testified', 'outweighed', 'haereg', 'swims', 'sheaf', 'tailed', 'consumes', 'schemed', 'enveloped', 'barbarian', 'porcupine', 'boughs', 'sympathy', 'proclaims', 'woodsmoke', 'quentin', 'stableman', 'cricket', 'maintain', 'igon', 'atranta', 'preening', 'singed', 'dimittis', 'boyish', 'mining', 'dub', 'oathbreaking', 'rumored', 'surpassing', 'bloodflies', 'cottages', 'tingle', 'trio', 'seafarer', 'hunk', 'drear', 'spacious', 'renhal', 'opinion', 'bulging', 'backplate', 'cur', 'guilds', 'snaking', 'theo', 'digest', 'eyeslit', 'leered', 'shutter', 'latticework', 'waider', 'augment', 'paleness', 'lifeless', 'conversations', 'stonemasons', 'roam', 'inhospitable', 'lockstep', 'campaign', 'plaintive', 'girlhood', 'behavior', 'staunchest', 'escutcheon', 'pipe', 'littlesister', 'eerily', 'plumage', 'dumping', 'denizens', 'lightening', 'gush', 'width', 'sweetmeats', 'drills', 'lumpyface', 'demure', 'raindrops', 'discourtesy', 'sentences', 'camels', 'moonstone', 'rhythmic', 'congealing', 'wynafryd', 'zorses', 'hoes', 'sloughing', 'dipping', 'estren', 'freeing', 'brandishing', 'consummated', 'nobody', 'exploring', 'huffed', 'contented', 'fireplace', 'struggles', 'smother', 'peacocks', 'guiltily', 'buggering', 'wrested', 'swordfight', 'apprenticed', 'interred', 'scampering', 'solution', 'sorting', 'relished', 'fuming', 'genitals', 'youths', 'buggers', 'riven', 'replacing', 'nude', 'garigus', 'overlapping', 'mulling', 'fence', 'bathwater', 'quavering', 'bully', 'raggedly', 'explaining', 'furrows', 'managing', 'mommy', 'compliments', 'partway', 'tsked', 'smoothing', 'slither', 'steamy', 'snigger', 'tenuous', 'devious', 'referring', 'simpleton', 'demurred', 'overcooked', 'flopping', 'fiction', 'virgins', 'leaks', 'likenesses', 'exploding', 'unison', 'truces', 'parris', 'papery', 'dowry', 'dragonsbane', 'skeletons', 'petitioner', 'disappointing', 'harrag', 'sandal', 'humbly', 'blames', 'vengeful', 'uncoiling', 'overthrew', 'explore', 'trapdoor', 'slimmer', 'inevitably', 'outdistanced', 'haunting', 'princely', 'taunted', 'milkglass', 'assaulted', 'shoveled', 'invest', 'disagree', 'clamber', 'transfixed', 'buck', 'crystalline', 'bloodmagic', 'subterranean', 'cinch', 'swish', 'loff', 'constricted', 'sweepings', 'ensure', 'limned', 'veterans', 'tragic', 'potter', 'discourage', 'reluctance', 'unthinking', 'grates', 'medicine', 'grate', 'hillsides', 'absently', 'byron', 'bors', 'bedchambers', 'structures', 'jowl', 'determine', 'robed', 'positioned', 'unfurled', 'capering', 'detached', 'fondly', 'jingle', 'journeymen', 'easing', 'bayard', 'lambskin', 'peopled', 'anticipate', 'oathbreakers', 'soaped', 'disrobe', 'greener', 'warrants', 'admirers', 'tuck', 'mocks', 'builds', 'fishes', 'legendary', 'mysterious', 'anybody', 'insects', 'herrock', 'rosewood', 'guileless', 'hogg', 'harvests', 'horribly', 'resistance', 'quivers', 'conspire', 'shaping', 'wreck', 'flatterers', 'ruffling', 'adopted', 'motionless', 'trickster', 'spindly', 'coaxed', 'hafted', 'reclined', 'pulls', 'greatcloak', 'squalor', 'slops', 'provoking', 'rion', 'consolation', 'madly', 'switched', 'unfair', 'dong', 'positions', 'sweetmilk', 'overnight', 'chip', 'steeped', 'inflict', 'fondle', 'sock', 'flooding', 'bower', 'fostering', 'blustering', 'misjudged', 'kneels', 'slingers', 'comical', 'maw', 'mid', 'eaters', 'wagered', 'foolishness', 'borrow', 'challengers', 'accommodating', 'drippings', 'snowfall', 'repent', 'expressionless', 'informs', 'pondered', 'clinked', 'beaks', 'fullness', 'palely', 'sown', 'suggestions', 'disregard', 'knitting', 'sniffled', 'clanged', 'ding', 'whilor', 'kaeth', 'persons', 'admirably', 'scurry', 'responsible', 'quarterstaff', 'voyaging', 'betroth', 'vixen', 'perimeters', 'darkling', 'tactics', 'fifteenth', 'falsely', 'showers', 'uncomprehending', 'deceptive', 'gynir', 'satisfy', 'print', 'westerman', 'images', 'wobbled', 'paltry', 'lingers', 'radishes', 'ascertain', 'duels', 'inseparable', 'poisoners', 'repaired', 'servitude', 'sickle', 'entertainment', 'destiny', 'prime', 'fresher', 'precedence', 'erect', 'decades', 'describe', 'sells', 'sarcasm', 'herbwomen', 'intrigues', 'oversized', 'hovering', 'slashes', 'formation', 'ominously', 'freedwoman', 'banquet', 'skittered', 'engrossed', 'presumption', 'bedslave', 'andrey', 'couched', 'burner', 'quickens', 'threads', 'cuff', 'rosamund', 'flatlands', 'native', 'tangletongue', 'sorties', 'regrouped', 'beetled', 'shears', 'brotherly', 'smears', 'disheveled', 'spur', 'shipmates', 'lidded', 'spatter', 'badger', 'slug', 'pock', 'ondrew', 'picks', 'dodged', 'simplicity', 'twentieth', 'dulled', 'spaced', 'melees', 'hungers', 'sarya', 'rousing', 'aright', 'rhaenyra', 'nonplussed', 'paddling', 'consents', 'spiderweb', 'inexorably', 'halmon', 'appeals', 'walker', 'grooming', 'besmirch', 'snick', 'berena', 'eddara', 'draughts', 'packhorses', 'pitted', 'lyessa', 'pulpit', 'rhea', 'rejoice', 'erren', 'bustling', 'brim', 'maces', 'dusting', 'squash', 'gasps', 'ripple', 'truthfully', 'bloodborn', 'coratt', 'mares', 'vrone', 'perspiration', 'tunelessly', 'nightshade', 'dignified', 'spottswood', 'whorls', 'hives', 'lull', 'lank', 'pivoted', 'reversed', 'cyrenna', 'nourish', 'befitting', 'scandal', 'larder', 'presumes', 'sovereign', 'saluted', 'unlock', 'copyright', 'assembly', 'tolling', 'scampered', 'milling', 'nourished', 'roote', 'seating', 'quaff', 'senseless', 'merrell', 'apparent', 'straddled', 'accident', 'amarei', 'absolve', 'lacy', 'packmates', 'doorstep', 'exit', 'clumsier', 'curtsied', 'transform', 'dolt', 'untie', 'poetry', 'terraced', 'demise', 'marianne', 'unmasked', 'drawings', 'bellegere', 'ordering', 'doggedly', 'pops', 'hunts', 'laboring', 'sedgekins', 'skimming', 'unload', 'corrupted', 'suckle', 'methodically', 'casual', 'brutally', 'dose', 'upsetting', 'cutthroats', 'boatmen', 'donnor', 'fissured', 'edrick', 'wyrms', 'trudging', 'fissures', 'emulate', 'fogs', 'nuisance', 'nettles', 'foggy', 'hilarious', 'reclining', 'worries', 'reigns', 'shags', 'gilwood', 'smattering', 'sputtering', 'abbatoir', 'pinning', 'lagging', 'crookback', 'todder', 'beatings', 'forded', 'piglet', 'elements', 'honesty', 'shyra', 'anthill', 'misses', 'uttered', 'solitude', 'tricksy', 'effortlessly', 'harden', 'taciturn', 'buffeted', 'chalky', 'gambling', 'modesty', 'intoxicating', 'hopfrog', 'boldness', 'instincts', 'poled', 'harpist', 'stamping', 'spank', 'ebb', 'prestayn', 'accusingly', 'sellsails', 'kingbeyond', 'reflecting', 'scamper', 'makings', 'turmoil', 'watt', 'massed', 'thirdborn', 'font', 'forestall', 'annara', 'filtered', 'alert', 'precedent', 'tablecloth', 'clutter', 'taster', 'gear', 'quence', 'fantasy', 'bounds', 'chester', 'hasten', 'aimlessly', 'loosen', 'akin', 'races', 'distraction', 'engage', 'waggled', 'distressed', 'mellara', 'neighbor', 'stablehand', 'mussed', 'murmurs', 'melwys', 'profusion', 'crewman', 'strains', 'proposes', 'prawns', 'ghazeen', 'deformed', 'warped', 'ruttiger', 'mistreat', 'rites', 'joyeuse', 'threatens', 'dorden', 'ornamental', 'budding', 'doss', 'pricking', 'shrines', 'pea', 'kinship', 'hideously', 'porters', 'freezes', 'culled', 'impassable', 'feints', 'simplest', 'australia', 'beqqo', 'presided', 'orbert', 'prospective', 'snowflake', 'canada', 'conserve', 'leyne', 'gibe', 'forewarned', 'excruciating', 'horseheads', 'drawl', 'bareheaded', 'alarmingly', 'landings', 'appealing', 'bloodroyal', 'dispense', 'zealand', 'skyreach', 'ullers', 'countenance', 'languishing', 'proposing', 'spreads', 'suffused', 'tal', 'wap', 'withheld', 'ralph', 'rhaezn', 'hollards', 'disapproving', 'unsound', 'sardonic', 'steeple', 'swagger', 'repentance', 'flattered', 'pristine', 'redden', 'sidearm', 'plowing', 'scarecrows', 'ply', 'curs', 'discomfited', 'colloquo', 'meralyn', 'gyloro', 'cinder', 'preaching', 'cragorn', 'burbled', 'hazards', 'myrmello', 'choker', 'spar', 'mixture', 'eleyna', 'sustained', 'falia', 'manacle', 'frolic', 'legitimized', 'swiped', 'oth', 'releasing', 'pockmarks', 'byrne', 'hardy', 'otherys', 'proctor', 'sallydance', 'capturing', 'transepts', 'sothoryos', 'porch', 'lamentation', 'spiky', 'freedoms', 'refrained', 'gavin', 'whiter', 'chortling', 'muggy', 'devyn', 'lemonwater', 'skirled', 'sealskinner', 'portraits', 'pinches', 'milkmaid', 'alight', 'riddler', 'sealords', 'scavengers', 'hornets', 'owners', 'resemble', 'vapid', 'branded', 'quicksand', 'overflow', 'briny', 'lush', 'harzoo', 'carelessly', 'pupil', 'chortle', 'footsore', 'versions', 'tickling', 'underlings', 'poetess', 'rainwater', 'maggot', 'accented', 'scaffold', 'stranded', 'cossomo', 'strife', 'slav', 'battlefields', 'sucks', 'bended', 'penis', 'derisive', 'absolution', 'foreboding', 'lullaby', 'goosefleshed', 'constipated', 'gyleno', 'disemboweled', 'uhlez', 'plotters', 'uninvited', 'cheerless', 'misled', 'bankers', 'autumnal', 'woefully', 'cleaved', 'protests', 'prevented', 'gravedigger', 'tybero', 'nearsighted', 'pennytree', 'frames', 'cronies', 'untried', 'arthor', 'tidewood', 'divide', 'rhegan', 'tile', 'gylo', 'urrigon', 'renamed', 'anon', 'blizzard', 'honeytree', 'darlings', 'missy', 'donel', 'unmanned', 'ornaments', 'messengers', 'artifice', 'jeering', 'congratulate', 'pommels', 'bestial', 'imply', 'undergaolers', 'sham', 'toefinger', 'butterfly', 'medrick', 'filing', 'potbellied', 'voters', 'elyria', 'clod', 'vellum', 'harbored', 'censer', 'deciding', 'sojourn', 'shellfish', 'nettle', 'teems', 'text', 'angel', 'flees', 'chatting', 'successful', 'betwixt', 'pillared', 'agonizing', 'clearer', 'zorse', 'hath', 'passably', 'influence', 'voting', 'gwayne', 'quaynis', 'betrothals', 'sculptor', 'inferior', 'polly', 'omit', 'oswald', 'forceful', 'ithoke', 'st', 'poleboats', 'combats', 'bonesnappers', 'unbuckled', 'marking', 'stringed', 'devising', 'ideal', 'profits', 'eloquent', 'indifference', 'reopening', 'blackheads', 'informing', 'reckoned', 'gobbet', 'adding', 'extend', 'shakes', 'lowbom', 'unfailingly', 'mela', 'aspires', 'helly', 'jyzene', 'incursions', 'skane', 'hazzat', 'epilogue', 'damnably', 'bloodraven', 'cass', 'belis', 'strongs', 'ridiculous', 'explanations', 'science', 'john', 'townsmen', 'kith', 'ny', 'craw', 'chastisement', 'leeching', 'onstone', 'impress', 'benedar', 'achieved', 'strongsong', 'practically', 'seduction', 'gossiping', 'accounted', 'mountainous', 'changers', 'nanny', 'nooks', 'sessions', 'moreland', 'parti', 'riverman', 'gains', 'raspy', 'vertical', 'forms', 'fans', 'uncorked', 'mossador', 'fused', 'veritable', 'zekko', 'rolley', 'selhoru', 'laggards', 'maddest', 'huffing', 'worshiper', 'lapses', 'hump', 'blackthorn', 'entangled', 'fletcher', 'lulls', 'eyeless', 'steepest', 'westward', 'horselines', 'prosperity', 'exhaled', 'straggled', 'nip', 'joth', 'fishy', 'jiggling', 'fishermonger', 'harmund', 'ynys', 'ullhor', 'ferny', 'dyah', 'gwyneth', 'farwynds', 'groats', 'slink', 'vambraces', 'crackbones', 'andalos', 'divulge', 'norne', 'crabbs', 'betoken', 'banished', 'namedays', 'motho', 'eldred', 'albino', 'surmised', 'alvyn', 'munkun', 'securing', 'swig', 'actions', 'forthwith', 'abovedecks', 'limber', 'squeamish', 'churls', 'introduced', 'outspoken', 'delivers', 'serenely', 'repayment', 'parries', 'ironwoods', 'nurtured', 'broached', 'securely', 'steely', 'essential', 'atangle', 'type', 'espoused', 'bluntness', 'dialects', 'parsnips', 'fralegg', 'drains', 'aspired', 'dragonlord', 'korra', 'shandystone', 'unaware', 'shark', 'legitimacy', 'absorbed', 'redwoods', 'wrest', 'warhelm', 'decked', 'greyish', 'advisors', 'goosebumps', 'mated', 'quilting', 'rapped', 'nightflyer', 'bedslaves', 'surname', 'overreached', 'walnuts', 'chuck', 'henk', 'hostility', 'landlord', 'waged', 'oubliettes', 'kemmett', 'moontown', 'beehives', 'wardens', 'caved', 'fades', 'testify', 'jace', 'ewer', 'affliction', 'mash', 'jeers', 'scarb', 'dingy', 'harlen', 'aglantine', 'saggy', 'spiceflower', 'cattery', 'spooning', 'gaudy', 'adventurers', 'riverlords', 'pisses', 'sizzling', 'delonne', 'rulers', 'homvale', 'readers', 'otters', 'noisier', 'nymella', 'edmyn', 'shovel', 'lorcas', 'falsehoods', 'pimpled', 'collossal', 'offending', 'chucked', 'moonshadow', 'shipping', 'brew', 'axemen', 'poultices', 'blob', 'toweled', 'silverwing', 'excrement', 'confessor', 'counterchanged', 'worlds', 'championed', 'caresses', 'myres', 'marywn', 'leniency', 'longbowmen', 'waggle', 'bloodlust', 'goldenhand', 'bluster', 'mannish', 'quicken', 'cotton', 'makeshift', 'flagstone', 'warhom', 'midmorning', 'shoveling', 'urgency', 'buns', 'emma', 'glamors', 'tucking', 'newer', 'clam', 'hangwoman', 'straightening', 'whelping', 'blackcrown', 'remainder', 'commence', 'brickmaker', 'controlled', 'feature', 'greyiron', 'changeable', 'shrugging', 'lanny', 'grating', 'apprehensive', 'merrel', 'massaged', 'supplicant', 'danny', 'orbelo', 'torwyrd', 'wagers', 'eric', 'fe', 'riffling', 'leer', 'responses', 'fined', 'acknowledgments', 'aegor', 'kingslaying', 'betrayers', 'charmed', 'grasps', 'portifer', 'rectify', 'hurtful', 'homed', 'loveliness', 'lyra', 'exceeded', 'embattled', 'gangling', 'coles', 'lorimer', 'supervise', 'clarity', 'readiness', 'smite', 'kinsman', 'major', 'maternal', 'brimming', 'breezes', 'kingfisher', 'extensive', 'duller', 'shouldering', 'santa', 'harsher', 'whirlpools', 'campsite', 'reckoning', 'stools', 'girdle', 'scrapes', 'ledger', 'vaulting', 'minions', 'necromancer', 'swallows', 'starmis', 'prendos', 'jonelle', 'wavy', 'entertainments', 'sprung', 'sinkhole', 'deprived', 'severe', 'illuminations', 'regenard', 'wyndhall', 'quenten', 'caressing', 'excites', 'myria', 'lanster', 'selmond', 'plied', 'balm', 'jynessa', 'gascoyne', 'eglantine', 'delude', 'selfsame', 'perros', 'jiggled', 'voyager', 'looping', 'arson', 'floral', 'spymaster', 'errands', 'yearns', 'seventeenth', 'ar', 'enslave', 'wealthiest', 'saturnine', 'taunt', 'polishing', 'ladybright', 'vermilion', 'govern', 'grotto', 'alyse', 'watkyn', 'profoundly', 'longsister', 'longthorpe', 'motives', 'poacher', 'kingmaker', 'designed', 'hammocks', 'concealment', 'swooping', 'espied', 'artfully', 'scepter', 'distantly', 'chord', 'bland', 'pausing', 'skittering', 'skinnier', 'brayed', 'ly', 'sunburnt', 'whacked', 'aftermath', 'manacled', 'compete', 'skyte', 'thriving', 'gnats', 'unsay', 'runaway', 'bedridden', 'tracking', 'reasonably', 'footfall', 'marred', 'piously', 'instantly', 'tilts', 'composure', 'renew', 'allows', 'humbles', 'acquitted', 'ardor', 'cleverer', 'scullions', 'gateway', 'hog', 'surefoot', 'unsung', 'thith', 'guested', 'medicines', 'caparisoned', 'behaved', 'flery', 'fuller', 'greyer', 'occur', 'smoldered', 'fascinating', 'unfortunately', 'enraged', 'investiture', 'betrays', 'unforgiving', 'suspects', 'unique', 'scanned', 'feat', 'apply', 'casterlys', 'winkled', 'births', 'irksome', 'blatant', 'nerve', 'shallower', 'conspicuously', 'occupation', 'bemused', 'horseshit', 'challenger', 'passageway', 'inky', 'sagely', 'harps', 'readied', 'sorrier', 'pulsed', 'dullard', 'bullheaded', 'whisker', 'knighthoods', 'varly', 'journeyman', 'crutches', 'smug', 'strolling', 'compare', 'razors', 'ironmongers', 'barnacles', 'commonly', 'frogeater', 'flerce', 'varnish', 'chiding', 'jen', 'ex', 'prospered', 'oat', 'twinkling', 'pondering', 'apologetically', 'invincible', 'musings', 'claimant', 'biscuit', 'doted', 'accost', 'sheaves', 'shavings', 'zenith', 'coppersmith', 'wynd', 'ensconced', 'wafting', 'yoke', 'chidings', 'conflagration', 'conical', 'dueled', 'wrongly', 'catastrophe', 'squarely', 'tad', 'hew', 'trilling', 'exist', 'contemplated', 'penetrated', 'outsider', 'opposition', 'tragedy', 'brightest', 'cozy', 'acquaintance', 'galling', 'fluffed', 'attest', 'frying', 'collarbone', 'chirping', 'bouquet', 'sweetbreads', 'rill', 'tainted', 'guardian', 'ineffectual', 'craters', 'arcing', 'snored', 'shorthand', 'befalls', 'revelry', 'spicing', 'locking', 'cordon', 'hateful', 'clanked', 'basted', 'effortless', 'inhaled', 'narrowest', 'lojen', 'needless', 'meadow', 'unfolding', 'chuckles', 'hellhound', 'equipped', 'twohanded', 'hastening', 'bong', 'clong', 'pawing', 'pouted', 'wynches', 'stifle', 'praises', 'twitches', 'clucking', 'blazon', 'fondled', 'maidservant', 'witty', 'attends', 'knob', 'disowned', 'appetizing', 'tripled', 'martial', 'gashed', 'ramming', 'drumbeats', 'collision', 'foretell', 'inferno', 'recruited', 'tangling', 'debris', 'pumpkins', 'pennons', 'cheating', 'thorn', 'boost', 'greygreen', 'swath', 'create', 'fences', 'orchard', 'drill', 'warhammers', 'examining', 'boarders', 'barre', 'jenna', 'unspoiled', 'capacity', 'ballast', 'foundered', 'calmer', 'considerable', 'centaurs', 'clothof', 'fennel', 'distinctive', 'bribed', 'resourceful', 'swoosh', 'opined', 'seaflower', 'carrack', 'adorn', 'sprays', 'thrumming', 'birthed', 'racking', 'inspired', 'drilled', 'treetops', 'admirable', 'trains', 'colleagues', 'encrusted', 'ya', 'pah', 'wiles', 'braved', 'gaming', 'grudged', 'ravages', 'trundled', 'archways', 'angled', 'immensely', 'wallowing', 'amusements', 'isolated', 'malign', 'skulked', 'ably', 'doorways', 'pathway', 'garish', 'gossips', 'envious', 'deadfalls', 'fuel', 'surging', 'handlers', 'armpit', 'cargoes', 'overhear', 'concubines', 'joyful', 'natured', 'summers', 'forswore', 'beady', 'deserting', 'fainted', 'cartwheel', 'knell', 'lurk', 'stirs', 'cruise', 'passions', 'broadened', 'inept', 'detach', 'wolfhounds', 'maidservants', 'eddied', 'bins', 'indicating', 'reverently', 'paragon', 'doings', 'shrilled', 'oilstone', 'mentions', 'thickening', 'bin', 'someones', 'plugged', 'livelier', 'plummeted', 'smokeberry', 'pudgy', 'peeping', 'harbinger', 'stalk', 'storied', 'likelihood', 'grated', 'funniest', 'baiting', 'derived', 'brats', 'crusts', 'waterfalls', 'expel', 'madwoman', 'footpaths', 'sleeper', 'preyed', 'deceiver', 'chittering', 'pounds', 'unbalanced', 'wheelbarrow', 'bladders', 'alder', 'shading', 'folding', 'unmake', 'generation', 'japery', 'forlornly', 'pestilence', 'domains', 'felted', 'reminder', 'fry', 'retrieve', 'belatedly', 'stairway', 'redwood', 'specter', 'startling', 'mutilated', 'washer', 'lumber', 'incoherently', 'topside', 'workers', 'despaired', 'hummed', 'bowshot', 'wanderings', 'lineages', 'creamy', 'conspiracy', 'uncovered', 'eyeing', 'injury', 'toehold', 'slitting', 'consequences', 'chinked', 'transport', 'cozen', 'celebrating', 'honeycombs', 'usurp', 'belonging', 'discomfort', 'sop', 'unannounced', 'feces', 'riverbanks', 'scold', 'queenly', 'shameless', 'rigid', 'protestations', 'quip', 'profaned', 'stocked', 'stirrings', 'lugged', 'lops', 'opens', 'rupture', 'emboldened', 'fatted', 'stoppered', 'damask', 'berserk', 'flavor', 'groggily', 'cheekbone', 'unarmored', 'obsequious', 'luxury', 'energetic', 'prickling', 'flitted', 'onlookers', 'congenial', 'bazaars', 'encircle', 'esteemed', 'rugs', 'umar', 'hailing', 'squishing', 'fogo', 'situated', 'andgold', 'commoners', 'milled', 'chorused', 'rakh', 'amply', 'roiled', 'disloyal', 'whomever', 'moreover', 'sputter', 'goad', 'heeded', 'quarried', 'fullers', 'crags', 'deadwood', 'warcraft', 'original', 'tethered', 'ditched', 'stonecarver', 'restlessness', 'blueberries', 'fruitlessly', 'ke', 'nimbus', 'broadleafs', 'demonic', 'yestermorn', 'twixt', 'checking', 'itches', 'stated', 'unquiet', 'undeniably', 'clench', 'monstrosity', 'reporting', 'petitions', 'encouraged', 'beseeched', 'willum', 'transforming', 'moats', 'vouchsafe', 'stanch', 'granting', 'instants', 'winking', 'boyman', 'unchivalrous', 'lowland', 'bade', 'reproachfully', 'orphaned', 'flatly', 'tenths', 'stammering', 'touches', 'delusions', 'yowling', 'stammer', 'copiously', 'plug', 'fatherly', 'lordships', 'leash', 'jeered', 'nuzzle', 'smudge', 'halffielm', 'agitated', 'tiniest', 'bumps', 'mustaches', 'teardrops', 'unscathed', 'sonorous', 'ropy', 'saucers', 'befuddled', 'firewine', 'booth', 'cupping', 'countryside', 'smiley', 'yaya', 'unloading', 'marries', 'profane', 'vigor', 'strictly', 'brooches', 'undercroft', 'grilling', 'queerest', 'retainer', 'discovery', 'topmost', 'outdo', 'pounced', 'flasks', 'probing', 'tothmure', 'fertility', 'exposing', 'bunghole', 'tsking', 'elected', 'sunny', 'ravenry', 'negligently', 'foliage', 'blotted', 'writhe', 'lifts', 'slinking', 'disinherited', 'proposals', 'mayhap', 'unmade', 'blackbar', 'estimate', 'squawking', 'fierceness', 'applied', 'flaws', 'measures', 'globs', 'seaward', 'mopping', 'concealing', 'derik', 'bracelet', 'obliging', 'yap', 'potboys', 'shearing', 'heiman', 'crumpled', 'wiggling', 'blindingly', 'piercing', 'wounding', 'coronation', 'encircling', 'tanners', 'batter', 'bloodred', 'unheard', 'frightful', 'jawed', 'matt', 'jarred', 'shyer', 'needful', 'leak', 'camping', 'stifling', 'stablehands', 'ironbound', 'softest', 'fearfully', 'flattery', 'afoul', 'bleat', 'pumpkin', 'placidly', 'beading', 'pushcart', 'waycastles', 'firemage', 'feigning', 'district', 'unsupported', 'triumphs', 'spawn', 'olden', 'impassive', 'assures', 'phantoms', 'diligently', 'boredom', 'civilized', 'thunderbolts', 'apologizing', 'rhaggat', 'clamored', 'consciousness', 'enthroned', 'whisking', 'sizes', 'densely', 'mathos', 'winded', 'downhill', 'mallarawan', 'crease', 'lacings', 'anyn', 'bunched', 'trifles', 'sheltering', 'andstars', 'dimmer', 'horrorstruck', 'flre', 'aggrieved', 'complacent', 'troupes', 'foulsmelling', 'guildhalls', 'resounding', 'channels', 'dampened', 'exists', 'dizziness', 'ere', 'gemstone', 'hunkered', 'nations', 'mightily', 'grandeur', 'yowled', 'elude', 'northerner', 'unceremoniously', 'tends', 'shins', 'mordant', 'gang', 'routes', 'ingratitude', 'advances', 'rut', 'unshipped', 'spoor', 'unpunished', 'noting', 'pads', 'oppressive', 'disaster', 'cluttered', 'stubs', 'quorks', 'craves', 'luxuriant', 'purpled', 'untroubled', 'ferret', 'urchin', 'gutting', 'wraiths', 'gamble', 'blameless', 'withhold', 'repeat', 'smokily', 'prays', 'busied', 'splinted', 'lya', 'suitably', 'knuckly', 'shameful', 'husks', 'loveliest', 'surest', 'gay', 'permons', 'landscape', 'rabbitskin', 'outright', 'berry', 'embroidery', 'reproachful', 'sisterly', 'openmouthed', 'misunderstood', 'possibility', 'singsong', 'fatherless', 'receives', 'tempers', 'doughty', 'offends', 'intimate', 'trample', 'humpbacked', 'elevate', 'highly', 'ventures', 'dreamy', 'hourly', 'recovering', 'haltingly', 'thornbush', 'equip', 'thinned', 'strangeness', 'crinet', 'stubbled', 'travesty', 'midthigh', 'deepest', 'snatches', 'flanking', 'shear', 'pump', 'cunny', 'backslash', 'unfold', 'charnfron', 'pulsing', 'specially', 'misspoke', 'wrapping', 'riddled', 'nooses', 'chink', 'escapes', 'undisciplined', 'cavalry', 'headsmen', 'girding', 'kindnesses', 'reverence', 'coax', 'prisoned', 'opportunity', 'crave', 'elated', 'overproud', 'array', 'sunshine', 'savaging', 'rays', 'splotch', 'stringing', 'stupidity', 'overly', 'seagull', 'shots', 'deliberately', 'harrying', 'establishment', 'steers', 'mountaintop', 'scraggly', 'fairs', 'slouching', 'unsightly', 'oftimes', 'pleasantries', 'yearn', 'lunge', 'erena', 'dodging', 'continues', 'brambles', 'snack', 'roasts', 'compel', 'slyly', 'tracked', 'dogged', 'cretin', 'spurting', 'disappearing', 'jurne', 'exaggerated', 'testing', 'whet', 'icily', 'wolfish', 'duram', 'lightfoot', 'marsella', 'dafyn', 'hurled', 'kingslayers', 'pictures', 'mylenda', 'judgments', 'janyce', 'corenna', 'hilltop', 'blossomed', 'rycherd', 'alekyne', 'rylene', 'restoring', 'ady', 'restoration', 'mistreated', 'hosman', 'melessa', 'jumping', 'courtier', 'inexhaustible', 'rug', 'patchy', 'liable', 'substitute', 'rescues', 'allowing', 'rabbitskins', 'catches', 'oakhearts', 'mauled', 'pressure', 'entwined', 'musky', 'praising', 'religious', 'sultry', 'decrees', 'slant', 'flax', 'horny', 'malignant', 'panel', 'earns', 'concede', 'spatters', 'gaining', 'tenacious', 'halfdozen', 'ridding', 'snowbeard', 'compact', 'relations', 'hamstrung', 'baser', 'distracting', 'brightfire', 'hmmmm', 'includes', 'thornbushes', 'elders', 'overhand', 'calor', 'appendix', 'emotion', 'shadowblack', 'slighted', 'lasts', 'formally', 'breads', 'plumpness', 'smouldering', 'crock', 'downpour', 'graced', 'tenderness', 'frosty', 'threading', 'handship', 'pleasuring', 'dower', 'spurted', 'hallooing', 'simultaneously', 'predecessors', 'plaything', 'mern', 'whining', 'diminish', 'profound', 'trafficked', 'sathmantes', 'dragonfly', 'colmar', 'affirmed', 'jyanna', 'merianne', 'tumberjon', 'sylwa', 'sallei', 'emberlei', 'tysane', 'expelled', 'leonella', 'mom', 'smartly', 'avarice', 'stilt', 'dissimilar', 'rowboat', 'tearful', 'chronology', 'outrange', 'aladale', 'otter', 'singe', 'hefting', 'begrudge', 'eighteenth', 'impulse', 'excess', 'pinions', 'hoooodor', 'collectors', 'invaluable', 'unnerved', 'gobbled', 'oarmen', 'darlessa', 'vhaghar', 'niter', 'venal', 'arisen', 'stonn', 'raze', 'beony', 'panicked', 'uncommon', 'hawick', 'bellena', 'discord', 'sparingly', 'clipped', 'glazed', 'zachery', 'filtering', 'searches', 'zia', 'blanetree', 'comers', 'cynthea', 'zhoe', 'unsatisfactory', 'tyana', 'nuggets', 'nuzzling', 'squinty', 'healthiest', 'straighter', 'melesa', 'considerate', 'deana', 'debtors', 'looms', 'unintelligible', 'heartsick', 'heartily', 'carolei', 'shoo', 'disarm', 'hatches', 'mousy', 'wynafrei', 'arbors', 'tendyris', 'oro', 'vessel', 'hank', 'bradamar', 'loan', 'weaknesses', 'betharios', 'aloof', 'documents', 'flocked', 'loyalists', 'androw', 'pathetic', 'smuggled', 'slump', 'recruiters', 'slack', 'bome', 'obeys', 'treasured', 'avert', 'battlement', 'pennylover', 'staedmon', 'developed', 'reassurance', 'incapable', 'gradually', 'bovine', 'respectively', 'splotches', 'vouch', 'warharnmer', 'unremarked', 'deeps', 'expense', 'flagging', 'inquiry', 'lovelier', 'necromancy', 'doddering', 'chick', 'wronged', 'foaming', 'mangonels', 'outlines', 'tenfold', 'deepset', 'cranes', 'meanest', 'landward', 'sylas', 'bentback', 'perforce', 'monts', 'proceedings', 'homecoming', 'stage', 'flare', 'rainfall', 'pursued', 'affronted', 'especial', 'platinum', 'lifelike', 'paints', 'glorgl', 'littleflnger', 'turquoise', 'beforehand', 'squad', 'beaming', 'littler', 'stonehouses', 'division', 'dressings', 'detailed', 'shin', 'fanfare', 'greenpools', 'limit', 'gorgeous', 'unmercifully', 'months', 'prospects', 'willit', 'indistinct', 'lobster', 'cautions', 'flirting', 'priestly', 'whispery', 'adults', 'enigmatically', 'honeycakes', 'beseech', 'tormentors', 'rivulet', 'achieve', 'challenging', 'loser', 'prank', 'trackless', 'drives', 'alabaster', 'dandled', 'embarrassing', 'shipwrights', 'titters', 'ruining', 'fathering', 'marts', 'tack', 'presumably', 'consummate', 'thickets', 'rancor', 'nurses', 'barbaric', 'rantings', 'obscure', 'porcelain', 'char', 'testimony', 'icing', 'peacefully', 'tongueless', 'mng', 'discomfit', 'pattered', 'clamped', 'eons', 'belled', 'stripe', 'resent', 'bridles', 'biding', 'smirk', 'aswarm', 'quork', 'dyes', 'mantles', 'seamstresses', 'exertion', 'fungus', 'foundering', 'crossbar', 'calfskin', 'funnel', 'blasphemies', 'fleld', 'unjust', 'selected', 'snag', 'quintains', 'limply', 'cuffs', 'collection', 'cox', 'sickeningly', 'pursuer', 'perkin', 'ushanora', 'stoatish', 'solve', 'wheezing', 'emissary', 'bumpy', 'suckled', 'codpiece', 'stomachs', 'snuff', 'proctors', 'reliable', 'foghouse', 'tormo', 'explains', 'storks', 'boxes', 'straws', 'widdle', 'evilly', 'hellbent', 'uncomplaining', 'serrett', 'backswing', 'moneylender', 'moroggo', 'contemplation', 'hoops', 'smearing', 'entice', 'cloisters', 'stoats', 'retiring', 'haranguing', 'skewered', 'offshore', 'samites', 'deliverer', 'barbers', 'inexorable', 'windfall', 'ragtag', 'depose', 'frailer', 'longshoreman', 'halftnan', 'twill', 'jez', 'draining', 'contending', 'banked', 'rawney', 'markings', 'matron', 'unman', 'fregar', 'whisked', 'tressure', 'dowered', 'aided', 'legless', 'riffled', 'wharfs', 'lioncrested', 'flaunt', 'nickered', 'endearments', 'errant', 'readings', 'teamster', 'cobb', 'supplicants', 'inconvenience', 'sere', 'reverse', 'ron', 'gluttony', 'lessened', 'restrained', 'halys', 'cement', 'windless', 'waned', 'hallowed', 'stacking', 'perpetual', 'prohibit', 'waxed', 'impractical', 'snowman', 'bronzed', 'sweetening', 'loosening', 'voyages', 'rangy', 'befoul', 'woolly', 'penitent', 'atrocities', 'fogging', 'forebear', 'besiege', 'blighted', 'funnier', 'prevaricate', 'unpredictable', 'brigandine', 'recrossed', 'converged', 'boarding', 'stating', 'purplish', 'thrilling', 'forestalled', 'seagoing', 'trill', 'gullible', 'bloodfly', 'pedestal', 'tradesmen', 'disrobing', 'playfully', 'portents', 'hackles', 'shingles', 'alms', 'rhodry', 'tillers', 'evoked', 'nightmarish', 'avid', 'greycap', 'surgeons', 'bloodmage', 'temerity', 'squabbled', 'causing', 'throes', 'daaa', 'reprieve', 'burnings', 'bulky', 'snowbound', 'eros', 'revenants', 'geldings', 'expanded', 'flaunting', 'liberties', 'untrustworthy', 'indignantly', 'devoutly', 'grub', 'recognizably', 'dodge', 'betters', 'triangles', 'respectable', 'flurries', 'whooping', 'timeless', 'snowylocks', 'arousal', 'sharpest', 'crudely', 'preparation', 'reacted', 'humanity', 'debating', 'wolfsbane', 'continuation', 'plight', 'whirl', 'rituals', 'reinforced', 'viscera', 'blindeye', 'hunnerd', 'askance', 'greenhill', 'jax', 'thrower', 'woody', 'kinsmen', 'lucantine', 'crownlands', 'cleaving', 'woodwright', 'longtown', 'frees', 'landmarks', 'benjicot', 'disrobed', 'doth', 'gamesman', 'outcrops', 'celtigars', 'honeycombed', 'whoremonger', 'hags', 'travails', 'shipowner', 'maim', 'teamsters', 'nayland', 'subcellar', 'fuzzy', 'gleefully', 'stammerer', 'brunes', 'pods', 'steffar', 'benevolence', 'impose', 'bokkoko', 'righteousness', 'thormor', 'unlimbered', 'snuggled', 'grazdar', 'grimmer', 'mightier', 'greave', 'curds', 'istarion', 'indecisive', 'virtues', 'halfpennies', 'puzzling', 'signifies', 'hoots', 'raymond', 'sawyer', 'unholy', 'lemonsweet', 'hermitage', 'daynes', 'potential', 'battleaxes', 'alynne', 'gorgets', 'unperturbed', 'redspots', 'intruded', 'reduce', 'penchant', 'thronged', 'conningtons', 'vats', 'prohibited', 'boastful', 'jayn', 'conditions', 'eleventh', 'monarch', 'counters', 'seizing', 'sparrowhawk', 'webbed', 'rook', 'squisher', 'dyre', 'plumped', 'acutely', 'baldness', 'deformities', 'regroup', 'toughen', 'unopposed', 'rots', 'lore', 'visage', 'vainly', 'parrot', 'marvel', 'skirl', 'isbn', 'typeface', 'complicit', 'electra', 'belching', 'invested', 'hardhand', 'gallons', 'virtual', 'magician', 'computer', 'admirer', 'stephen', 'fishers', 'honeyfingers', 'belting', 'ltd', 'torcs', 'elegance', 'glided', 'sapped', 'byan', 'votyris', 'awnings', 'discount', 'quibbling', 'whosoever', 'gob', 'melts', 'affixed', 'forcibly', 'brewed', 'witticisms', 'noblemen', 'rotund', 'bardings', 'lho', 'ghostskin', 'impenetrable', 'romny', 'suckholes', 'wade', 'redpool', 'consternation', 'ib', 'spicy', 'winkles', 'trinkets', 'dhazzar', 'kettledrums', 'sample', 'tilled', 'whitefish', 'poring', 'spew', 'toraq', 'ostentatious', 'argilac', 'orys', 'thunderer', 'linmed', 'rebuffed', 'smokehole', 'issued', 'skittrick', 'education', 'sneer', 'raptly', 'midges', 'undeserved', 'jokin', 'wakened', 'sandbeggars', 'rails', 'potted', 'indignant', 'befriended', 'unhorse', 'prate', 'pining', 'auspicious', 'saathos', 'insensible', 'employ', 'ditchfire', 'slaveowners', 'breeds', 'castrati', 'slimiest', 'rabid', 'profitable', 'crocodile', 'poem', 'puppeteers', 'healthful', 'cretins', 'torghen', 'grumpy', 'torque', 'sensation', 'innermost', 'swathed', 'pestilential', 'armbands', 'raki', 'wonderingly', 'tottering', 'twilit', 'greenshit', 'cinching', 'wherein', 'contradict', 'camelry', 'torques', 'infusions', 'lanes', 'skirmishes', 'mints', 'beleaguered', 'gloaming', 'gargantuan', 'wheeze', 'unaided', 'strutted', 'sinecure', 'coated', 'kernel', 'flocks', 'unhealthy', 'bargeman', 'sweetlings', 'sergeants', 'ai', 'deserving', 'foreigners', 'grandfathers', 'cooling', 'amounts', 'hos', 'snared', 'woodhedge', 'clucked', 'unabashed', 'consequence', 'acclaim', 'terns', 'coracles', 'prowls', 'despising', 'grindcorn', 'masses', 'demonstrated', 'dragonmother', 'cryptic', 'maris', 'repented', 'decayed', 'slop', 'underhand', 'absolute', 'tinkle', 'earthworms', 'pretense', 'firewyrms', 'laurel', 'gooder', 'stouter', 'legionaries', 'inscribed', 'scruple', 'noxious', 'blonds', 'roughened', 'nightlands', 'feathering', 'octarch', 'attendant', 'brethren', 'kyleg', 'shrine', 'prickles', 'passageways', 'mishaps', 'concur', 'expand', 'generously', 'rainbowstriped', 'peevishly', 'peppercorns', 'cowardly', 'misrule', 'professed', 'milking', 'tit', 'weaklings', 'unassisted', 'stepson', 'deicide', 'remedied', 'wanes', 'spitted', 'wineskins', 'jealousy', 'designs', 'atoned', 'daisy', 'sluts', 'shadowy', 'arcade', 'lapdogs', 'helliweg', 'remarkable', 'undercrofts', 'jounced', 'offing', 'ghozai', 'friendlier', 'velos', 'wean', 'hogs', 'scrying', 'relieving', 'deploy', 'heartbroken', 'usurping', 'identical', 'confectioner', 'girt', 'abolished', 'accompanying', 'uncomely', 'slake', 'copying', 'thirsts', 'resin', 'wormwalks', 'weavings', 'earnings', 'ambrode', 'bloc', 'supports', 'instruction', 'ella', 'dragonback', 'overhanging', 'alternated', 'redress', 'orgy', 'raggy', 'copied', 'creeks', 'lodey', 'acclaimed', 'loitered', 'mumble', 'floorboards', 'slipper', 'miscarried', 'elections', 'bob', 'flawless', 'wearied', 'mapmaker', 'sites', 'redwyn', 'fabulously', 'motioned', 'dated', 'passionate', 'encouraging', 'coolness', 'occupants', 'lording', 'regions', 'miasma', 'outdistance', 'gruesome', 'males', 'brightflame', 'surmounted', 'alacrity', 'hanks', 'tinder', 'wedlock', 'bards', 'disruption', 'grisella', 'heartened', 'greyskin', 'meha', 'wheresoever', 'scored', 'appraising', 'essos', 'rascals', 'spearpoints', 'lighted', 'effrontery', 'purification', 'unprecedented', 'extravagantly', 'fulsome', 'andtwenty', 'dragontamer', 'shabbily', 'adrack', 'dedication', 'quaking', 'cavil', 'searchers', 'kingbreaker', 'travelstained', 'volunteered', 'corkscrew', 'lisa', 'hollywood', 'writer', 'intriguing', 'producer', 'signified', 'zone', 'films', 'television', 'pilots', 'prose', 'insolently', 'hardiest', 'successors', 'fletchers', 'slatterns', 'mexico', 'gimpknee', 'swilling', 'professionally', 'elyas', 'interfered', 'elio', 'linda', 'website', 'bucks', 'brat', 'streambeds', 'pati', 'nagle', 'retaining', 'melinda', 'snodgrass', 'daniel', 'truthful', 'abraham', 'josua', 'competent', 'windhaven', 'tuttle', 'hod', 'fevre', 'ban', 'aah', 'resentful', 'outlander', 'succinctly', 'slinger', 'maybaps', 'tassels', 'calon', 'mileposts', 'instructing', 'happiest', 'wickedest', 'odious', 'parceled', 'filching', 'nogarys', 'ooo', 'oooooooooooo', 'weatherworn', 'catering', 'armageddon', 'beholden', 'sandkings', 'nightflyers', 'tuf', 'avenues', 'ormollen', 'sashes', 'saunter', 'conceivable', 'cubes', 'herdsmen', 'goatherd', 'teaches', 'unravel', 'jewelers', 'loptail', 'growler', 'undertone', 'random', 'midafternoon', 'towing', 'wormholes', 'waxes', 'hurries', 'piracy', 'chroyane', 'gella', 'conjure', 'sistermen', 'beacons', 'humbled', 'morose', 'obediently', 'untrimmed', 'toot', 'sar', 'jaunty', 'harbors', 'obliterated', 'mogat', 'wharf', 'husk', 'ladling', 'patrolled', 'gillyflower', 'hirsute', 'frosts', 'waterside', 'berths', 'shoots', 'repainted', 'urrax', 'syrax', 'conceals', 'upwind', 'meddle', 'forking', 'furrow', 'preparing', 'nosing', 'oilskin', 'ore', 'oldtowner', 'redhand', 'losers', 'tacking', 'docile', 'undrowned', 'squalid', 'paddle', 'torturers', 'snapper', 'pan', 'uphill', 'diverting', 'ridgeback', 'peppercrab', 'caper', 'lays', 'watchfire', 'queries', 'lethal', 'unstoppered', 'noy', 'sourmouth', 'depopulated', 'squeals', 'desk', 'wineshop', 'shoal', 'noyne', 'proudwing', 'wyverns', 'clifftop', 'riddling', 'bricklayers', 'uphold', 'binders', 'corked', 'overcame', 'shierak', 'effects', 'rigors', 'bond', 'weaponry', 'accepts', 'scions', 'hodors', 'crony', 'spate', 'dray', 'areas', 'fingernail', 'quandary', 'unwarlike', 'storage', 'qiya', 'extremities', 'stockades', 'icicle', 'invaded', 'larmisters', 'lending', 'pledges', 'fronds', 'trudge', 'diddle', 'mallet', 'impale', 'buttresses', 'rounding', 'wafted', 'mischievous', 'candied', 'digested', 'attentively', 'thirsted', 'calcified', 'seer', 'larks', 'peppery', 'wage', 'crescendo', 'livelihood', 'arousing', 'disarming', 'rant', 'yron', 'shimmers', 'unmarred', 'raindrop', 'tawny', 'interspersed', 'hitched', 'behemoth', 'amorous', 'sardines', 'confounded', 'vanities', 'prophets', 'vineyards', 'roles', 'lor', 'treacheries', 'pecans', 'heeds', 'walkway', 'quails', 'qalen', 'morass', 'winey', 'moonrunner', 'resignation', 'wh', 'locket', 'apricot', 'dotes', 'resides', 'scrawl', 'trebla', 'skyward', 'discreet', 'smacking', 'fulfill', 'obdurate', 'miser', 'waterwheel', 'pint', 'inutterably', 'schooled', 'divert', 'humiliating', 'selfish', 'daintily', 'uncombed', 'parquello', 'connivance', 'vulpine', 'debate', 'shipowners', 'filched', 'runoff', 'supportive', 'nutten', 'pillage', 'cockless', 'wardrobes', 'garret', 'delegation', 'greathelms', 'cruder', 'mooncalf', 'wrappings', 'chastity', 'braving', 'wattled', 'farming', 'motherless', 'outlandish', 'unbeknownst', 'increasing', 'enlightened', 'straightest', 'fables', 'sandalwood', 'haggled', 'obese', 'priestesses', 'westernmost', 'outpost', 'mastery', 'stanchions', 'sparrs', 'blacktydes', 'pavement', 'creeps', 'wyls', 'begot', 'spurn', 'jennelyn', 'windproud', 'wineshops', 'evoke', 'conspirators', 'guile', 'shippers', 'roe', 'savored', 'dacnerys', 'soreness', 'seduce', 'solicitous', 'foxfur', 'foxes', 'naive', 'purify', 'venting', 'anvils', 'wyvern', 'dragonmont', 'candlemakers', 'drivers', 'nerveless', 'flats', 'liberty', 'genially', 'gestures', 'decently', 'oatbread', 'recognizable', 'detailing', 'transpired', 'godsworn', 'smouldered', 'substantial', 'rapping', 'docked', 'melony', 'unsul', 'canker', 'graveworms', 'assadora', 'taunting', 'dirtier', 'moredo', 'languish', 'daunt', 'larders', 'kids', 'pinkish', 'machines', 'terse', 'ellyn', 'tyg', 'ooh', 'lornel', 'pigshit', 'sellers', 'falchion', 'sprinkle', 'mankind', 'snares', 'lotho', 'bedrolls', 'dribble', 'whisperer', 'bricklayer', 'exaggeration', 'alaquo', 'visorless', 'acidly', 'disdainfully', 'imposter', 'speechlessness', 'liquor', 'confinement', 'slates', 'dreamer', 'unleash', 'blackbelly', 'saltspear', 'helpfully', 'stint', 'nook', 'dappling', 'tabard', 'departs', 'allaquo', 'courier', 'hardships', 'repairing', 'grueling', 'paeges', 'quarterings', 'accomplishment', 'triangle', 'jackal', 'sloey', 'drunkenness', 'elevation', 'ezzelyno', 'rhazdar', 'quazzar', 'pupils', 'ailing', 'scrubs', 'jornmy', 'plumed', 'uthor', 'outset', 'lyenthe', 'ramsey', 'nineteenth', 'lastborn', 'sebaston', 'hornvale', 'myrakis', 'geography', 'trebor', 'foreswore', 'jyana', 'myrio', 'woolfield', 'replacements', 'introduce', 'predicted', 'coldwater', 'whapped', 'sargon', 'unblemished', 'salladhar', 'elongated', 'supporter', 'revive', 'hellhorse', 'trickles', 'waldon', 'alesandor', 'shatterstone', 'snakewood', 'sward', 'wickenden', 'dyer', 'interrupt', 'gimme', 'rages', 'jorelle', 'shard', 'obscenely', 'qarro', 'volentin', 'scribbler', 'excepting', 'editors', 'nita', 'blockade', 'sloth', 'taublib', 'rioting', 'chamberlain', 'announcement', 'jane', 'johnson', 'anne', 'groell', 'school', 'attentions', 'antaryon', 'ferrego', 'eleanor', 'torren', 'osbert', 'guthor', 'prudence', 'moribald', 'shadrick', 'renfred', 'gnat', 'representing', 'swampy', 'frolicked', 'deposited', 'reflex', 'foff', 'disturbance', 'imagines', 'crisps', 'brackets', 'burial', 'disprove', 'ossy', 'trivial', 'loutish', 'elusive', 'yapping', 'morgarth', 'wagging', 'gnaw', 'justify', 'wilted', 'convey', 'skinners', 'widest', 'villains', 'conquests', 'villainy', 'explosion', 'colonies', 'brownhollow', 'unheated', 'slaps', 'lemony', 'tattoo', 'rustbeard', 'customarily', 'roan', 'crusting', 'harbert', 'halffrozen', 'peppered', 'fasts', 'badbrother', 'latecomer', 'intercession', 'undercellar', 'bizarre', 'unlawful', 'appended', 'webber', 'malevolent', 'frowns', 'bullock', 'unthinkable', 'statement', 'charioteer', 'sanctity', 'beastmaster', 'norren', 'stratagem', 'salves', 'vial', 'catwalk', 'fulfillment', 'gorghan', 'acquire', 'focused', 'june', 'drowsily', 'drowsed', 'regularly', 'highlights', 'enly', 'dissemble', 'nape', 'woodpile', 'confessions', 'hidey', 'wasp', 'malachite', 'afterlife', 'merchantman', 'dons', 'qyle', 'lewis', 'bluer', 'morosh', 'myrman', 'boneless', 'imposed', 'shockingly', 'salts', 'conclusion', 'aieeee', 'harte', 'whoresons', 'scarab', 'cloven', 'napped', 'observatory', 'foraged', 'jayde', 'chalcedony', 'sentimental', 'bellyband', 'sustenance', 'shines', 'seaworthy', 'quicksilver', 'ardent', 'masquerade', 'sunblaze', 'undervault', 'apes', 'indulgence', 'upsets', 'vineyard', 'regular', 'cleverly', 'ensued', 'begotten', 'extravagance', 'distended', 'equals', 'privates', 'udders', 'washbasin', 'stocks', 'wonderment', 'lazing', 'flipping', 'longthom', 'stealth', 'globe', 'lecherous', 'windowsill', 'shifts', 'dismantled', 'threes', 'emptier', 'brightening', 'walkways', 'fastidious', 'gulping', 'handling', 'gossiped', 'reentered', 'beguile', 'scarves', 'shack', 'denial', 'embedded', 'abolish', 'uncover', 'disperse', 'raspberries', 'impassively', 'tactful', 'stormcrow', 'runner', 'degrees', 'harvested', 'footsoldiers', 'unrelenting', 'hodoring', 'niggled', 'mucking', 'shortage', 'inhabited', 'roundtowers', 'unwatched', 'aswirl', 'afresh', 'jolting', 'misremember', 'merlings', 'lopping', 'snowgate', 'drenching', 'stumbles', 'gunwales', 'fainting', 'wrecks', 'gauge', 'smudged', 'roughhewn', 'washcloth', 'competition', 'parallel', 'linens', 'recitation', 'swoop', 'edible', 'salvage', 'amend', 'tan', 'furtively', 'angers', 'hardskin', 'loneliness', 'trophy', 'updraft', 'unsaddled', 'instep', 'defiled', 'retrieved', 'blended', 'companionable', 'hatchet', 'sprain', 'catgut', 'stinted', 'reputedly', 'defection', 'lilacs', 'surly', 'model', 'adjourn', 'wheedling', 'cellmate', 'implied', 'familiarity', 'sensitive', 'surrendering', 'lipless', 'ardrian', 'marvelous', 'medger', 'stitched', 'inspiring', 'haystack', 'devised', 'monford', 'dreamily', 'pendant', 'secrecy', 'mortification', 'knit', 'simpered', 'edwyd', 'travels', 'whooped', 'falseness', 'browning', 'convened', 'steeds', 'ceremonies', 'lustrous', 'disconcerting', 'awarded', 'grope', 'jibe', 'tarnished', 'whas', 'cleanest', 'ulwyck', 'oakcakes', 'boning', 'dots', 'significant', 'diners', 'flashes', 'diced', 'leached', 'smithed', 'wenched', 'reasoned', 'monotonous', 'lamed', 'greatswords', 'swordhilt', 'deceits', 'deadliest', 'sensing', 'clumsiness', 'kenned', 'created', 'bleakly', 'pitifully', 'bothers', 'mien', 'scrapesword', 'timon', 'fortresses', 'centipedes', 'rambling', 'deflect', 'provision', 'gloating', 'brenett', 'ticked', 'vee', 'condon', 'slogging', 'barding', 'discharged', 'paired', 'sapling', 'insipid', 'delightful', 'fretty', 'distrusting', 'sidestroke', 'sweated', 'pivot', 'preference', 'bragged', 'gurgled', 'exasperated', 'endearing', 'forktop', 'weatherback', 'prodding', 'twined', 'refreshing', 'swimmers', 'airless', 'warrens', 'sweltered', 'exhaust', 'lief', 'abilities', 'ray', 'purging', 'obeisance', 'partake', 'slurred', 'bedfellows', 'stillbirth', 'stretches', 'afterthought', 'proverb', 'peerless', 'leche', 'refit', 'quorin', 'palsied', 'handiwork', 'spouting', 'fruity', 'scummy', 'skulk', 'retraced', 'untangling', 'greatness', 'hellhounds', 'provokes', 'flt', 'tarlys', 'increased', 'climbs', 'navigate', 'assurances', 'miracles', 'groundless', 'caned', 'accurate', 'fruitful', 'pegs', 'lutes', 'panels', 'strumpet', 'stickiness', 'achy', 'giggly', 'fiddling', 'tentative', 'cassell', 'exchanging', 'mll', 'enlighten', 'kinslayers', 'unasked', 'sygerrik', 'galled', 'province', 'sheathing', 'excessive', 'windbreak', 'reciting', 'unpleasantly', 'craaaack', 'timely', 'chore', 'jawbone', 'reloading', 'wildwind', 'roundly', 'contingent', 'brilliance', 'oceans', 'vances', 'sharpens', 'differed', 'relentlessly', 'turbulent', 'toughened', 'verdant', 'skirted', 'irnry', 'onslaught', 'dearth', 'hymn', 'remounted', 'legitimate', 'pins', 'missiles', 'floored', 'basebom', 'bawdier', 'unsure', 'lightness', 'spearing', 'descends', 'forks', 'onrushing', 'falter', 'startle', 'invented', 'onehanded', 'ow', 'marchers', 'planking', 'lothstons', 'unwisely', 'maker', 'spars', 'redoubtable', 'firepots', 'daeren', 'unraveled', 'pitcher', 'chords', 'ryles', 'assailed', 'shrivel', 'improving', 'ooze', 'challenges', 'vambrace', 'disuse', 'girdled', 'andahar', 'unfaithful', 'oarlocks', 'branching', 'unbend', 'unimportant', 'windier', 'confrontation', 'uprooted', 'intolerable', 'frantically', 'jeffory', 'sniveling', 'avenging', 'opposing', 'unrewarded', 'oust', 'appreciate', 'silty', 'slag', 'creepers', 'jungles', 'spellsingers', 'reemerge', 'frostbitten', 'closeted', 'shadowbinders', 'sever', 'noisiest', 'knotting', 'observing', 'fates', 'festive', 'dances', 'southrons', 'sprig', 'neigh', 'trickery', 'succumb', 'perishingly', 'broods', 'sweats', 'calumny', 'compress', 'lancing', 'lavishly', 'mahr', 'meizo', 'curb', 'wildness', 'tablet', 'flurried', 'harclays', 'knotts', 'tolerate', 'celebrated', 'summits', 'flattening', 'aethelmure', 'mountainsides', 'ting', 'shingle', 'succeeding', 'pieties', 'selves', 'undoubted', 'conveyed', 'fitter', 'deliberations', 'disposition', 'glorge', 'braggart', 'dragonking', 'quieting', 'preying', 'memorable', 'gracelessly', 'affected', 'mouming', 'sulfurous', 'refreshed', 'originally', 'stabled', 'alleged', 'lulled', 'farmland', 'contrary', 'orland', 'firs', 'beget', 'wanderers', 'coastline', 'preached', 'design', 'propitious', 'wisewoman', 'jostled', 'slowest', 'scaly', 'outdrink', 'seasoning', 'halffiand', 'iceaxe', 'vary', 'sidelong', 'elks', 'noth', 'ohhh', 'spinal', 'swooped', 'evergreen', 'morbid', 'burped', 'uneaten', 'pageantry', 'discourse', 'underbelly', 'wilds', 'chastised', 'myrrh', 'prized', 'sheepishly', 'chroniclers', 'vice', 'porthole', 'recalls', 'cobra', 'childlike', 'coveted', 'loren', 'vertigo', 'yore', 'connect', 'proceeded', 'patrolling', 'becca', 'chastising', 'surpass', 'unconscionable', 'slobbering', 'stalwarts', 'incurious', 'lag', 'disinterested', 'pastries', 'snowstorm', 'roil', 'thend', 'replies', 'attach', 'peers', 'leaky', 'confusing', 'mistresses', 'unfailing', 'dwelled', 'almondshaped', 'cleganes', 'sparked', 'option', 'slumping', 'uncounted', 'disloyalty', 'cures', 'suppress', 'deals', 'kbal', 'slander', 'musing', 'appealed', 'yen', 'parrying', 'endangered', 'vent', 'items', 'benevolent', 'reaped', 'havoc', 'tracts', 'wheatfield', 'chaff', 'bordering', 'kirtles', 'apologized', 'brooks', 'unappeased', 'elbowed', 'approving', 'rigorous', 'delirious', 'erupt', 'shifty', 'origins', 'kneaded', 'absolutely', 'discussions', 'fem', 'anyways', 'strum', 'mug', 'freckle', 'counterweight', 'pushes', 'purest', 'wickedly', 'rollarn', 'torsos', 'smirked', 'grouped', 'misted', 'sludgy', 'lernoncloak', 'accentuated', 'lass', 'malevolence', 'milkmaids', 'damasks', 'hellcrow', 'mercies', 'expectant', 'hornfoots', 'northernmost', 'giantsbabe', 'fleece', 'refusals', 'whales', 'tusk', 'foramun', 'snuffled', 'doubting', 'cookflre', 'consolations', 'rebuilding', 'obscenities', 'hounding', 'rebuff', 'lengthened', 'mangled', 'wad', 'horsefaced', 'painstakingly', 'wattles', 'bawling', 'concentration', 'tensions', 'sevenstrearns', 'leechman', 'grubbing', 'fornio', 'girly', 'sundown', 'nourishing', 'tearfully', 'sweetmeat', 'barks', 'sawwood', 'pornmels', 'tour', 'cud', 'splatter', 'pleasured', 'unchivalrously', 'talkative', 'condone', 'eloquently', 'unquestioned', 'slanders', 'knifing', 'gery', 'berated', 'distinct', 'picturing', 'cherrywood', 'caches', 'ast', 'jabber', 'extraordinary', 'bud', 'pummeling', 'derisively', 'godsforsaken', 'unloaded', 'charlton', 'nonexistent', 'activity', 'redoubt', 'graveyards', 'thuds', 'maerie', 'vvylde', 'harsley', 'sp', 'chinned', 'languidly', 'cribs', 'countercut', 'counterattack', 'toppled', 'funereal', 'prideful', 'walling', 'guardroom', 'lister', 'exhausting', 'aethan', 'fm', 'theshadowtower', 'wails', 'prettiest', 'sequential', 'dikes', 'harvesting', 'slush', 'narrative', 'garths', 'applesauce', 'roughness', 'arced', 'heft', 'dreamers', 'crumb', 'gorging', 'enfolded', 'prickled', 'georgl', 'facial', 'occurs', 'extreme', 'sucklings', 'unsympathetic', 'stubbornness', 'thoms', 'footers', 'resolute', 'partnered', 'shinny', 'bumt', 'guiltless', 'wom', 'ratters', 'preserves', 'villain', 'disobedient', 'malformed', 'brutish', 'luminous', 'imps', 'item', 'battled', 'desirous', 'wilbert', 'magnificently', 'introductions', 'dainty', 'indrawn', 'buyer', 'warlike', 'tutors', 'allied', 'stewpot', 'fooling', 'maintained', 'shush', 'tremulously', 'exulted', 'prosper', 'chicks', 'chime', 'indigestion', 'fronting', 'rebellious', 'cartwheeling', 'obviously', 'shortswords', 'imagination', 'assail', 'era', 'dampness', 'fragment', 'formless', 'nimbly', 'chasings', 'handsomest', 'amuthing', 'mush', 'gilding', 'distasteful', 'dive', 'thapphireth', 'hive', 'parading', 'rower', 'comments', 'lightheaded', 'goggled', 'unamused', 'hith', 'pieth', 'primly', 'jerks', 'cascading', 'pottery', 'ahooooooooo', 'tweaking', 'pitching', 'eclipsed', 'carelessness', 'kingslanders', 'stubbed', 'rusting', 'iggo', 'ma', 'sheepdogs', 'ledges', 'spurring', 'russets', 'lightened', 'briars', 'pinnace', 'muffling', 'nicer', 'icemelt', 'horizontal', 'silveraxe', 'chokes', 'organs', 'waken', 'bode', 'halfblind', 'chasten', 'poltices', 'admits', 'vales', 'dishonors', 'bedposts', 'gaery', 'fisher', 'ticklish', 'buzz', 'inconstant', 'unsuitable', 'uninterested', 'idiot', 'valid', 'dune', 'blossom', 'flutters', 'dromond', 'murenmure', 'gwin', 'gysella', 'lounged', 'gevin', 'pealing', 'wharfside', 'superstitious', 'relented', 'strongbox', 'thrash', 'tymor', 'expert', 'malicious', 'entrances', 'norjen', 'uncaring', 'verdict', 'pillion', 'brewing', 'clamoring', 'peeved', 'ethan', 'greyness', 'easternmost', 'willfully', 'drawled', 'unsheathing', 'solidly', 'hamper', 'rending', 'armful', 'morne', 'whittled', 'bluewhite', 'downswing', 'jorquen', 'indignation', 'skittish', 'emphasis', 'relic', 'tougher', 'cheesecloth', 'undamaged', 'thomax', 'implication', 'hungrier', 'aids', 'quarterstaffs', 'threescore', 'encased', 'sidestepped', 'capered', 'jogged', 'gauntleted', 'tracery', 'viewed', 'waggling', 'bedmate', 'hoke', 'horseleg', 'thongs', 'bittersweet', 'rondel', 'ingredients', 'uncloaked', 'shovels', 'creigh', 'bendwise', 'squirted', 'sprigs', 'regaled', 'byways', 'consorting', 'sobered', 'scalded', 'wendello', 'testily', 'dennis', 'peter', 'shamelessly', 'sadden', 'shierle', 'melwyn', 'readily', 'listless', 'blurt', 'intervene', 'tactic', 'candlelit', 'sorefoot', 'strategies', 'pursue', 'marshaled', 'shieldwall', 'toddler', 'siegecraft', 'rupert', 'powdering', 'guilts', 'sparser', 'chagrined', 'undoubtedly', 'brands', 'cocky', 'surge', 'blending', 'redforts', 'silversmiths', 'doze', 'superior', 'tendered', 'whitey', 'precipitous', 'malwyn', 'topless', 'factions', 'unanticipated', 'faros', 'emeros', 'egon', 'rickety', 'ellery', 'kirth', 'harpers', 'adjoined', 'sharna', 'caretaker', 'besieging', 'lenn', 'undercut', 'accumulation', 'differences', 'midstream', 'gnash', 'eggen', 'surfeit', 'predictable', 'unstrung', 'seam', 'olds', 'contested', 'mollos', 'figuring', 'forehand', 'troughs', 'victaria', 'retaken', 'lia', 'commonplace', 'marun', 'wellborn', 'pregnancy', 'shaming', 'pageant', 'elyn', 'norridge', 'oversize', 'medwick', 'musk', 'dab', 'broadheads', 'olene', 'slugabeds', 'anxiety', 'normund', 'blushes', 'tuffleberry', 'hints', 'aiding', 'unfriendly', 'maggo', 'hasps', 'candlemaker', 'glories', 'boundless', 'longingly', 'incident', 'draper', 'failings', 'whickering', 'jumbled', 'unlatching', 'scariest', 'fomenting', 'snuffing', 'bailiffs', 'scarier', 'stilwood', 'buttoned', 'justiciars', 'requiring', 'swatch', 'collared', 'deflected', 'maddening', 'blackening', 'masterat', 'thrive', 'forgetful', 'kingsmoots', 'volmarks', 'mockingbirds', 'decaying', 'quirked', 'sparkle', 'bearclaw', 'placate', 'eyelid', 'freaks', 'notfair', 'ossifer', 'audiences', 'unlamented', 'crib', 'disconsolate', 'flelds', 'breastbone', 'needlessly', 'offshoot', 'chandler', 'jovial', 'skaggs', 'livers', 'lullabies', 'portcullises', 'thudding', 'badgers', 'treed', 'burp', 'sandbag', 'curves', 'provender', 'loitering', 'taleteller', 'remarks', 'gauzy', 'orivel', 'remedy', 'mertyns', 'pebbly', 'herblore', 'skagosi', 'whitecap', 'parent', 'humus', 'unnaturally', 'ud', 'tendon', 'yolk', 'gelds', 'slobbered', 'pansy', 'ern', 'footmen', 'humid', 'spewed', 'courted', 'inchfield', 'mighten', 'redeem', 'myfather', 'inhuman', 'farces', 'excite', 'crannies', 'unmanly', 'octagonal', 'jaggot', 'festering', 'outgrow', 'construe', 'prophetic', 'meekness', 'worthier', 'biddable', 'disquieting', 'handsomer', 'hungriest', 'wrinkling', 'remorse', 'pigsties', 'wart', 'mouthing', 'hectoring', 'adore', 'disappointments', 'counsels', 'harrumphed', 'instance', 'respected', 'denounce', 'dealer', 'unknowable', 'discerned', 'straighten', 'adventurer', 'hellishly', 'moonsingers', 'speckles', 'winestain', 'twos', 'prows', 'innumerable', 'belongings', 'scratchings', 'woodland', 'hunnerds', 'placement', 'boundary', 'sterns', 'practices', 'outrages', 'figureheads', 'defer', 'warts', 'vapors', 'irked', 'mittens', 'damnation', 'underestimate', 'clots', 'bargained', 'quests', 'values', 'ravings', 'lament', 'misspeak', 'nostril', 'limestone', 'cultivated', 'garland', 'cuddled', 'co', 'shermer', 'scribbling', 'drunks', 'jangled', 'rethink', 'wagstaff', 'sakes', 'oakenfist', 'favorable', 'sniggers', 'suredly', 'crickets', 'handmaidens', 'butternut', 'deity', 'reigning', 'tinge', 'clenching', 'piteously', 'marker', 'dothrae', 'tiding', 'advantages', 'pitilessly', 'darke', 'lukewarm', 'saltire', 'stormlanders', 'cairn', 'glittery', 'levvys', 'gouge', 'whents', 'brindlewood', 'skittery', 'satisfying', 'homemade', 'chargers', 'tawdry', 'remiss', 'bloodbath', 'misunderstand', 'shead', 'ther', 'unsealed', 'habits', 'torchbearers', 'outdid', 'filigreed', 'execute', 'partial', 'kneading', 'intrusion', 'hereafter', 'ingratiating', 'pighead', 'mooning', 'applauding', 'mollify', 'providing', 'ironsmith', 'brawn', 'goodfolk', 'nether', 'untangled', 'gleeful', 'browned', 'squeaks', 'motive', 'swings', 'trough', 'sturdy', 'groused', 'quenching', 'stabling', 'disappearance', 'mews', 'shrouding', 'dawdle', 'welter', 'swum', 'clue', 'poorest', 'unresisting', 'arouse', 'regrow', 'fingertip', 'drowns', 'pegged', 'hillocks', 'teachers', 'jothos', 'stonier', 'untrained', 'rapists', 'drugged', 'benefits', 'excluded', 'grandest', 'cowhide', 'stretcher', 'harrowing', 'sculpted', 'sparing', 'uncrossed', 'audible', 'steadier', 'overreach', 'pungent', 'vacated', 'flimsy', 'pulses', 'inconsolably', 'cranky', 'sepulchres', 'misheard', 'demean', 'reel', 'partially', 'strawberries', 'showering', 'salads', 'spinach', 'floods', 'clogged', 'goodfather', 'dyers', 'slivers', 'juices', 'stove', 'worker', 'downstairs', 'helpers', 'advancement', 'crowed', 'anointing', 'rite', 'arcs', 'compensation', 'sponge', 'admitting', 'insect', 'shacks', 'wayfor', 'nub', 'records', 'extending', 'drowsing', 'trodding', 'patronage', 'twinge', 'towheaded', 'nagged', 'cordial', 'passable', 'fugitives', 'gullies', 'ravine', 'rapid', 'turf', 'uhoris', 'acknowledge', 'pawprints', 'greying', 'nattered', 'commission', 'defensible', 'lowly', 'firehardened', 'determination', 'taletellers', 'dilly', 'brighten', 'spry', 'cordwainer', 'ambush', 'corded', 'squirt', 'woodlands', 'shamefully', 'crocks', 'iiand', 'slides', 'area', 'fitful', 'invoked', 'marketplace', 'anticipation', 'teetering', 'dornishwoman', 'radish', 'irascible', 'sampled', 'meandered', 'grandbastards', 'rygers', 'mootons', 'drummer', 'faqen', 'mitts', 'pane', 'reforming', 'anise', 'expertly', 'blinds', 'resupplied', 'unseeing', 'nappy', 'breechclouts', 'dragonkind', 'fording', 'servitor', 'caul', 'deafening', 'feinted', 'threshold', 'hops', 'flutists', 'lounging', 'purge', 'torments', 'fluting', 'farting', 'sulking', 'seemly', 'clings', 'misplaced', 'dismally', 'meddling', 'sots', 'ideas', 'peal', 'gauntness', 'rescuing', 'dosed', 'breathes', 'trash', 'cobblestone', 'singleminded', 'conquering', 'pubic', 'howevermuch', 'fawning', 'enrage', 'fatten', 'purpling', 'perpetuity', 'anathema', 'sorrel', 'grossly', 'glide', 'michael', 'urges', 'homeland', 'journeyed', 'bestirred', 'scabbed', 'cored', 'methodical', 'blubber', 'wadded', 'scabby', 'fervid', 'godwyn', 'oof', 'careening', 'scrubwoman', 'circular', 'rhogoro', 'moro', 'unfinished', 'impious', 'withdraws', 'experienced', 'reassuringly', 'gluttons', 'feud', 'discreetly', 'upturned', 'festivities', 'ineffectually', 'threequarters', 'despises', 'harried', 'hapless', 'shadowing', 'droning', 'paternal', 'keenly', 'westerlands', 'togg', 'flatten', 'cantering', 'greenwoods', 'monterys', 'poets', 'pompous', 'bloodletting', 'annoy', 'recalling', 'endurance', 'swordsmanship', 'quibble', 'mercilessly', 'oakwood', 'survey', 'stationed', 'regretful', 'begrudged', 'unchecked', 'longed', 'breasting', 'stonework', 'crisscrossing', 'scorching', 'tromp', 'ordinarily', 'rell', 'cabins', 'bewitched', 'mylord', 'sickens', 'conveniently', 'thome', 'behaving', 'interwoven', 'ballads', 'spins', 'tresses', 'poo', 'au', 'joyous', 'rudiments', 'saws', 'cartwheels', 'pretensions', 'lenses', 'trumpetings', 'impudent', 'planes', 'untimely', 'chalked', 'examination', 'triumphed', 'twine', 'distances', 'dicker', 'commoner', 'seasick', 'bronzegate', 'uplands', 'floured', 'concession', 'incite', 'aging', 'pouches', 'sha', 'treeless', 'breakers', 'quote', 'inherited', 'nots', 'bedwarmers', 'applause', 'whistles', 'titties', 'aroused', 'flavors', 'homey', 'hoarding', 'mutual', 'squawks', 'bareback', 'tolerated', 'creased', 'oyster', 'enmities', 'attainder', 'springing', 'thwart', 'twang', 'military', 'angling', 'caressed', 'irk', 'hairnet', 'responding', 'snugly', 'glower', 'reforged', 'magicked', 'inanely', 'unjustly', 'steered', 'sunand', 'swishing', 'gawkers', 'squishlips', 'brightsmile', 'espouse', 'puppets', 'brink', 'mouthfuls', 'feinting', 'severely', 'spirals', 'quaver', 'oiling', 'ebbed', 'tinged', 'contemptible', 'somewheres', 'hardship', 'prided', 'collections', 'unlettered', 'clefts', 'uk']\n",
      "17453\n"
     ]
    }
   ],
   "source": [
    "# Get the Vocabulary, sorted by their index based on the Word2Vec model\n",
    "y = Word2Vec_model2.wv.index_to_key    # --> attribute in Gensim's Word2Vec module used to retrieve a list of words (or keys) in the vocabulary, ordered by their index. Useful when you want to retrieve the words from the model's vocabulary in a structured manner. Particularly handy when you need to access specific words based on their position in the vocabulary.\n",
    "\n",
    "print(y)\n",
    "\n",
    "print(len(y))"
   ],
   "metadata": {
    "collapsed": false,
    "ExecuteTime": {
     "end_time": "2023-10-20T09:21:31.678924700Z",
     "start_time": "2023-10-20T09:21:31.365258200Z"
    }
   }
  },
  {
   "cell_type": "markdown",
   "source": [
    "### PCA for Vectorization of Words\n",
    "\n",
    "In the context of Word2Vec vectorization, PCA can be applied for several reasons:\n",
    "\n",
    "*Reducing Computation Costs*:\n",
    "- Word2Vec models often generate high-dimensional word embeddings (e.g., 100-dimensional or 300-dimensional vectors). Operating on such high-dimensional data can be computationally expensive. PCA can help reduce the dimensionality of the vectors, making subsequent operations more efficient.\n",
    "\n",
    "*Visualizing Word Embeddings*:\n",
    "- PCA can be used to project high-dimensional word embeddings onto a lower-dimensional space (e.g., 2D or 3D). This allows for visualization of the relationships between words. While it's not always feasible to visualize high-dimensional spaces, lower-dimensional representations obtained via PCA can provide insights.\n",
    "\n",
    "*Removing Redundant Information*:\n",
    "- Some dimensions in high-dimensional space may contain redundant or noisy information. PCA can identify and remove these dimensions, retaining only the most important information.\n",
    "\n",
    "*Handling Noise in the Data*:\n",
    "- Word embeddings may contain noise or irrelevant information. By reducing the dimensionality, PCA can filter out some of this noise, potentially improving the quality of the embeddings.\n",
    "\n",
    "*Facilitating Downstream Tasks*:\n",
    "- In some NLP tasks, lower-dimensional embeddings may be more suitable. For example, tasks like clustering, classification, or visualization may benefit from lower-dimensional representations.\n",
    "\n",
    "*Interpretability*:\n",
    "- Lower-dimensional embeddings are easier to interpret and understand compared to high-dimensional vectors. They can provide insights into the underlying relationships between words.\n",
    "\n",
    "*Storage and Memory Efficiency*:\n",
    "- High-dimensional vectors require more storage space and memory compared to lower-dimensional representations. PCA can help reduce these requirements.\n",
    "\n",
    "*Maintaining Semantic Information*:\n",
    "- PCA is designed to retain the most important information while reducing dimensionality. This means that after PCA, the resulting vectors still capture much of the semantic information present in the original embeddings.\n",
    "\n",
    "<u> **Note** </u>:\n",
    "It's important to note that while PCA can be beneficial in some cases, **it's not always necessary or suitable for every application of Word2Vec. The decision to use PCA should be based on the specific requirements and constraints of the task at hand**."
   ],
   "metadata": {
    "collapsed": false
   }
  },
  {
   "cell_type": "code",
   "execution_count": 79,
   "outputs": [],
   "source": [
    "# Apply PCA for Visualization\n",
    "\n",
    "from sklearn.decomposition import PCA\n",
    "\n",
    "pca = PCA(n_components = 3)\n",
    "\n",
    "X = pca.fit_transform(Word2Vec_model2.wv.get_normed_vectors())"
   ],
   "metadata": {
    "collapsed": false,
    "ExecuteTime": {
     "end_time": "2023-10-20T09:21:31.702848800Z",
     "start_time": "2023-10-20T09:21:31.391953200Z"
    }
   }
  },
  {
   "cell_type": "code",
   "execution_count": 80,
   "outputs": [
    {
     "data": {
      "text/plain": "(17453, 3)"
     },
     "execution_count": 80,
     "metadata": {},
     "output_type": "execute_result"
    }
   ],
   "source": [
    "# Show the dimensions of the transformed vectors\n",
    "X.shape"
   ],
   "metadata": {
    "collapsed": false,
    "ExecuteTime": {
     "end_time": "2023-10-20T09:21:31.702848800Z",
     "start_time": "2023-10-20T09:21:31.541792700Z"
    }
   }
  },
  {
   "cell_type": "markdown",
   "source": [
    "**Visualization of the PCA components for each word of Vocabulary**"
   ],
   "metadata": {
    "collapsed": false
   }
  },
  {
   "cell_type": "code",
   "execution_count": 81,
   "outputs": [
    {
     "data": {
      "application/vnd.plotly.v1+json": {
       "data": [
        {
         "hovertemplate": "color=the<br>0=%{x}<br>1=%{y}<br>2=%{z}<extra></extra>",
         "legendgroup": "the",
         "marker": {
          "color": "#636efa",
          "symbol": "circle"
         },
         "mode": "markers",
         "name": "the",
         "scene": "scene",
         "showlegend": true,
         "x": [
          -0.15777577459812164
         ],
         "y": [
          0.5959141850471497
         ],
         "z": [
          -0.046911440789699554
         ],
         "type": "scatter3d"
        },
        {
         "hovertemplate": "color=and<br>0=%{x}<br>1=%{y}<br>2=%{z}<extra></extra>",
         "legendgroup": "and",
         "marker": {
          "color": "#EF553B",
          "symbol": "circle"
         },
         "mode": "markers",
         "name": "and",
         "scene": "scene",
         "showlegend": true,
         "x": [
          -0.1550111025571823
         ],
         "y": [
          0.350711464881897
         ],
         "z": [
          0.030315110459923744
         ],
         "type": "scatter3d"
        },
        {
         "hovertemplate": "color=to<br>0=%{x}<br>1=%{y}<br>2=%{z}<extra></extra>",
         "legendgroup": "to",
         "marker": {
          "color": "#00cc96",
          "symbol": "circle"
         },
         "mode": "markers",
         "name": "to",
         "scene": "scene",
         "showlegend": true,
         "x": [
          0.29513129591941833
         ],
         "y": [
          0.5595955848693848
         ],
         "z": [
          0.2178819626569748
         ],
         "type": "scatter3d"
        },
        {
         "hovertemplate": "color=of<br>0=%{x}<br>1=%{y}<br>2=%{z}<extra></extra>",
         "legendgroup": "of",
         "marker": {
          "color": "#ab63fa",
          "symbol": "circle"
         },
         "mode": "markers",
         "name": "of",
         "scene": "scene",
         "showlegend": true,
         "x": [
          0.014148613438010216
         ],
         "y": [
          0.36995023488998413
         ],
         "z": [
          -0.11497610062360764
         ],
         "type": "scatter3d"
        },
        {
         "hovertemplate": "color=he<br>0=%{x}<br>1=%{y}<br>2=%{z}<extra></extra>",
         "legendgroup": "he",
         "marker": {
          "color": "#FFA15A",
          "symbol": "circle"
         },
         "mode": "markers",
         "name": "he",
         "scene": "scene",
         "showlegend": true,
         "x": [
          0.13020914793014526
         ],
         "y": [
          0.5121671557426453
         ],
         "z": [
          0.2701655328273773
         ],
         "type": "scatter3d"
        },
        {
         "hovertemplate": "color=his<br>0=%{x}<br>1=%{y}<br>2=%{z}<extra></extra>",
         "legendgroup": "his",
         "marker": {
          "color": "#19d3f3",
          "symbol": "circle"
         },
         "mode": "markers",
         "name": "his",
         "scene": "scene",
         "showlegend": true,
         "x": [
          -0.014918634667992592
         ],
         "y": [
          0.28376421332359314
         ],
         "z": [
          0.33367156982421875
         ],
         "type": "scatter3d"
        },
        {
         "hovertemplate": "color=was<br>0=%{x}<br>1=%{y}<br>2=%{z}<extra></extra>",
         "legendgroup": "was",
         "marker": {
          "color": "#FF6692",
          "symbol": "circle"
         },
         "mode": "markers",
         "name": "was",
         "scene": "scene",
         "showlegend": true,
         "x": [
          0.11089027673006058
         ],
         "y": [
          0.38889703154563904
         ],
         "z": [
          0.30489251017570496
         ],
         "type": "scatter3d"
        },
        {
         "hovertemplate": "color=you<br>0=%{x}<br>1=%{y}<br>2=%{z}<extra></extra>",
         "legendgroup": "you",
         "marker": {
          "color": "#B6E880",
          "symbol": "circle"
         },
         "mode": "markers",
         "name": "you",
         "scene": "scene",
         "showlegend": true,
         "x": [
          0.5320298075675964
         ],
         "y": [
          0.6069527268409729
         ],
         "z": [
          0.15719027817249298
         ],
         "type": "scatter3d"
        },
        {
         "hovertemplate": "color=her<br>0=%{x}<br>1=%{y}<br>2=%{z}<extra></extra>",
         "legendgroup": "her",
         "marker": {
          "color": "#FF97FF",
          "symbol": "circle"
         },
         "mode": "markers",
         "name": "her",
         "scene": "scene",
         "showlegend": true,
         "x": [
          0.006049429066479206
         ],
         "y": [
          0.3676701784133911
         ],
         "z": [
          0.3489711880683899
         ],
         "type": "scatter3d"
        },
        {
         "hovertemplate": "color=in<br>0=%{x}<br>1=%{y}<br>2=%{z}<extra></extra>",
         "legendgroup": "in",
         "marker": {
          "color": "#FECB52",
          "symbol": "circle"
         },
         "mode": "markers",
         "name": "in",
         "scene": "scene",
         "showlegend": true,
         "x": [
          -0.07889045029878616
         ],
         "y": [
          0.4373532235622406
         ],
         "z": [
          0.08415865898132324
         ],
         "type": "scatter3d"
        },
        {
         "hovertemplate": "color=it<br>0=%{x}<br>1=%{y}<br>2=%{z}<extra></extra>",
         "legendgroup": "it",
         "marker": {
          "color": "#636efa",
          "symbol": "circle"
         },
         "mode": "markers",
         "name": "it",
         "scene": "scene",
         "showlegend": true,
         "x": [
          0.08867556601762772
         ],
         "y": [
          0.5886452794075012
         ],
         "z": [
          0.24583342671394348
         ],
         "type": "scatter3d"
        },
        {
         "hovertemplate": "color=had<br>0=%{x}<br>1=%{y}<br>2=%{z}<extra></extra>",
         "legendgroup": "had",
         "marker": {
          "color": "#EF553B",
          "symbol": "circle"
         },
         "mode": "markers",
         "name": "had",
         "scene": "scene",
         "showlegend": true,
         "x": [
          0.1485028713941574
         ],
         "y": [
          0.49622586369514465
         ],
         "z": [
          0.1676720380783081
         ],
         "type": "scatter3d"
        },
        {
         "hovertemplate": "color=that<br>0=%{x}<br>1=%{y}<br>2=%{z}<extra></extra>",
         "legendgroup": "that",
         "marker": {
          "color": "#00cc96",
          "symbol": "circle"
         },
         "mode": "markers",
         "name": "that",
         "scene": "scene",
         "showlegend": true,
         "x": [
          0.32673847675323486
         ],
         "y": [
          0.5845253467559814
         ],
         "z": [
          0.08437975496053696
         ],
         "type": "scatter3d"
        },
        {
         "hovertemplate": "color=she<br>0=%{x}<br>1=%{y}<br>2=%{z}<extra></extra>",
         "legendgroup": "she",
         "marker": {
          "color": "#ab63fa",
          "symbol": "circle"
         },
         "mode": "markers",
         "name": "she",
         "scene": "scene",
         "showlegend": true,
         "x": [
          0.08855977654457092
         ],
         "y": [
          0.4968092739582062
         ],
         "z": [
          0.2910846471786499
         ],
         "type": "scatter3d"
        },
        {
         "hovertemplate": "color=as<br>0=%{x}<br>1=%{y}<br>2=%{z}<extra></extra>",
         "legendgroup": "as",
         "marker": {
          "color": "#FFA15A",
          "symbol": "circle"
         },
         "mode": "markers",
         "name": "as",
         "scene": "scene",
         "showlegend": true,
         "x": [
          0.031100979074835777
         ],
         "y": [
          0.4629061222076416
         ],
         "z": [
          0.26002931594848633
         ],
         "type": "scatter3d"
        },
        {
         "hovertemplate": "color=with<br>0=%{x}<br>1=%{y}<br>2=%{z}<extra></extra>",
         "legendgroup": "with",
         "marker": {
          "color": "#19d3f3",
          "symbol": "circle"
         },
         "mode": "markers",
         "name": "with",
         "scene": "scene",
         "showlegend": true,
         "x": [
          -0.12012150883674622
         ],
         "y": [
          0.2876219153404236
         ],
         "z": [
          0.18892307579517365
         ],
         "type": "scatter3d"
        },
        {
         "hovertemplate": "color=him<br>0=%{x}<br>1=%{y}<br>2=%{z}<extra></extra>",
         "legendgroup": "him",
         "marker": {
          "color": "#FF6692",
          "symbol": "circle"
         },
         "mode": "markers",
         "name": "him",
         "scene": "scene",
         "showlegend": true,
         "x": [
          0.12534254789352417
         ],
         "y": [
          0.5119990706443787
         ],
         "z": [
          0.32317984104156494
         ],
         "type": "scatter3d"
        },
        {
         "hovertemplate": "color=not<br>0=%{x}<br>1=%{y}<br>2=%{z}<extra></extra>",
         "legendgroup": "not",
         "marker": {
          "color": "#B6E880",
          "symbol": "circle"
         },
         "mode": "markers",
         "name": "not",
         "scene": "scene",
         "showlegend": true,
         "x": [
          0.4601306617259979
         ],
         "y": [
          0.5638023018836975
         ],
         "z": [
          0.21902556717395782
         ],
         "type": "scatter3d"
        },
        {
         "hovertemplate": "color=but<br>0=%{x}<br>1=%{y}<br>2=%{z}<extra></extra>",
         "legendgroup": "but",
         "marker": {
          "color": "#FF97FF",
          "symbol": "circle"
         },
         "mode": "markers",
         "name": "but",
         "scene": "scene",
         "showlegend": true,
         "x": [
          0.2253136783838272
         ],
         "y": [
          0.592979371547699
         ],
         "z": [
          0.19877755641937256
         ],
         "type": "scatter3d"
        },
        {
         "hovertemplate": "color=for<br>0=%{x}<br>1=%{y}<br>2=%{z}<extra></extra>",
         "legendgroup": "for",
         "marker": {
          "color": "#FECB52",
          "symbol": "circle"
         },
         "mode": "markers",
         "name": "for",
         "scene": "scene",
         "showlegend": true,
         "x": [
          0.42904406785964966
         ],
         "y": [
          0.4992579519748688
         ],
         "z": [
          0.188648983836174
         ],
         "type": "scatter3d"
        },
        {
         "hovertemplate": "color=they<br>0=%{x}<br>1=%{y}<br>2=%{z}<extra></extra>",
         "legendgroup": "they",
         "marker": {
          "color": "#636efa",
          "symbol": "circle"
         },
         "mode": "markers",
         "name": "they",
         "scene": "scene",
         "showlegend": true,
         "x": [
          0.024232767522335052
         ],
         "y": [
          0.6841191649436951
         ],
         "z": [
          -0.04704837128520012
         ],
         "type": "scatter3d"
        },
        {
         "hovertemplate": "color=is<br>0=%{x}<br>1=%{y}<br>2=%{z}<extra></extra>",
         "legendgroup": "is",
         "marker": {
          "color": "#EF553B",
          "symbol": "circle"
         },
         "mode": "markers",
         "name": "is",
         "scene": "scene",
         "showlegend": true,
         "x": [
          0.5829358696937561
         ],
         "y": [
          0.48100918531417847
         ],
         "z": [
          0.1632271260023117
         ],
         "type": "scatter3d"
        },
        {
         "hovertemplate": "color=at<br>0=%{x}<br>1=%{y}<br>2=%{z}<extra></extra>",
         "legendgroup": "at",
         "marker": {
          "color": "#00cc96",
          "symbol": "circle"
         },
         "mode": "markers",
         "name": "at",
         "scene": "scene",
         "showlegend": true,
         "x": [
          0.04638378322124481
         ],
         "y": [
          0.3918988108634949
         ],
         "z": [
          0.32988694310188293
         ],
         "type": "scatter3d"
        },
        {
         "hovertemplate": "color=on<br>0=%{x}<br>1=%{y}<br>2=%{z}<extra></extra>",
         "legendgroup": "on",
         "marker": {
          "color": "#ab63fa",
          "symbol": "circle"
         },
         "mode": "markers",
         "name": "on",
         "scene": "scene",
         "showlegend": true,
         "x": [
          -0.1690799444913864
         ],
         "y": [
          0.46155521273612976
         ],
         "z": [
          0.25074756145477295
         ],
         "type": "scatter3d"
        },
        {
         "hovertemplate": "color=said<br>0=%{x}<br>1=%{y}<br>2=%{z}<extra></extra>",
         "legendgroup": "said",
         "marker": {
          "color": "#FFA15A",
          "symbol": "circle"
         },
         "mode": "markers",
         "name": "said",
         "scene": "scene",
         "showlegend": true,
         "x": [
          0.5575284361839294
         ],
         "y": [
          0.4509933292865753
         ],
         "z": [
          0.49240848422050476
         ],
         "type": "scatter3d"
        },
        {
         "hovertemplate": "color=my<br>0=%{x}<br>1=%{y}<br>2=%{z}<extra></extra>",
         "legendgroup": "my",
         "marker": {
          "color": "#19d3f3",
          "symbol": "circle"
         },
         "mode": "markers",
         "name": "my",
         "scene": "scene",
         "showlegend": true,
         "x": [
          0.48923709988594055
         ],
         "y": [
          0.4708115756511688
         ],
         "z": [
          0.20518940687179565
         ],
         "type": "scatter3d"
        },
        {
         "hovertemplate": "color=have<br>0=%{x}<br>1=%{y}<br>2=%{z}<extra></extra>",
         "legendgroup": "have",
         "marker": {
          "color": "#FF6692",
          "symbol": "circle"
         },
         "mode": "markers",
         "name": "have",
         "scene": "scene",
         "showlegend": true,
         "x": [
          0.41369980573654175
         ],
         "y": [
          0.5917377471923828
         ],
         "z": [
          0.15133264660835266
         ],
         "type": "scatter3d"
        },
        {
         "hovertemplate": "color=be<br>0=%{x}<br>1=%{y}<br>2=%{z}<extra></extra>",
         "legendgroup": "be",
         "marker": {
          "color": "#B6E880",
          "symbol": "circle"
         },
         "mode": "markers",
         "name": "be",
         "scene": "scene",
         "showlegend": true,
         "x": [
          0.3993208110332489
         ],
         "y": [
          0.620110273361206
         ],
         "z": [
          0.14648813009262085
         ],
         "type": "scatter3d"
        },
        {
         "hovertemplate": "color=lord<br>0=%{x}<br>1=%{y}<br>2=%{z}<extra></extra>",
         "legendgroup": "lord",
         "marker": {
          "color": "#FF97FF",
          "symbol": "circle"
         },
         "mode": "markers",
         "name": "lord",
         "scene": "scene",
         "showlegend": true,
         "x": [
          0.4676486849784851
         ],
         "y": [
          0.42615219950675964
         ],
         "z": [
          0.08909431844949722
         ],
         "type": "scatter3d"
        },
        {
         "hovertemplate": "color=them<br>0=%{x}<br>1=%{y}<br>2=%{z}<extra></extra>",
         "legendgroup": "them",
         "marker": {
          "color": "#FECB52",
          "symbol": "circle"
         },
         "mode": "markers",
         "name": "them",
         "scene": "scene",
         "showlegend": true,
         "x": [
          0.003057355061173439
         ],
         "y": [
          0.6810306906700134
         ],
         "z": [
          0.013972043991088867
         ],
         "type": "scatter3d"
        },
        {
         "hovertemplate": "color=no<br>0=%{x}<br>1=%{y}<br>2=%{z}<extra></extra>",
         "legendgroup": "no",
         "marker": {
          "color": "#636efa",
          "symbol": "circle"
         },
         "mode": "markers",
         "name": "no",
         "scene": "scene",
         "showlegend": true,
         "x": [
          0.39005452394485474
         ],
         "y": [
          0.5398810505867004
         ],
         "z": [
          0.07937362790107727
         ],
         "type": "scatter3d"
        },
        {
         "hovertemplate": "color=from<br>0=%{x}<br>1=%{y}<br>2=%{z}<extra></extra>",
         "legendgroup": "from",
         "marker": {
          "color": "#EF553B",
          "symbol": "circle"
         },
         "mode": "markers",
         "name": "from",
         "scene": "scene",
         "showlegend": true,
         "x": [
          -0.1865672916173935
         ],
         "y": [
          0.4643750488758087
         ],
         "z": [
          0.19515660405158997
         ],
         "type": "scatter3d"
        },
        {
         "hovertemplate": "color=would<br>0=%{x}<br>1=%{y}<br>2=%{z}<extra></extra>",
         "legendgroup": "would",
         "marker": {
          "color": "#00cc96",
          "symbol": "circle"
         },
         "mode": "markers",
         "name": "would",
         "scene": "scene",
         "showlegend": true,
         "x": [
          0.40242695808410645
         ],
         "y": [
          0.5492023229598999
         ],
         "z": [
          0.24668022990226746
         ],
         "type": "scatter3d"
        },
        {
         "hovertemplate": "color=were<br>0=%{x}<br>1=%{y}<br>2=%{z}<extra></extra>",
         "legendgroup": "were",
         "marker": {
          "color": "#ab63fa",
          "symbol": "circle"
         },
         "mode": "markers",
         "name": "were",
         "scene": "scene",
         "showlegend": true,
         "x": [
          -0.034605782479047775
         ],
         "y": [
          0.5104460120201111
         ],
         "z": [
          0.03803408145904541
         ],
         "type": "scatter3d"
        },
        {
         "hovertemplate": "color=me<br>0=%{x}<br>1=%{y}<br>2=%{z}<extra></extra>",
         "legendgroup": "me",
         "marker": {
          "color": "#FFA15A",
          "symbol": "circle"
         },
         "mode": "markers",
         "name": "me",
         "scene": "scene",
         "showlegend": true,
         "x": [
          0.504788875579834
         ],
         "y": [
          0.5639020800590515
         ],
         "z": [
          0.20288313925266266
         ],
         "type": "scatter3d"
        },
        {
         "hovertemplate": "color=your<br>0=%{x}<br>1=%{y}<br>2=%{z}<extra></extra>",
         "legendgroup": "your",
         "marker": {
          "color": "#19d3f3",
          "symbol": "circle"
         },
         "mode": "markers",
         "name": "your",
         "scene": "scene",
         "showlegend": true,
         "x": [
          0.4565231204032898
         ],
         "y": [
          0.4721919596195221
         ],
         "z": [
          0.18306657671928406
         ],
         "type": "scatter3d"
        },
        {
         "hovertemplate": "color=one<br>0=%{x}<br>1=%{y}<br>2=%{z}<extra></extra>",
         "legendgroup": "one",
         "marker": {
          "color": "#FF6692",
          "symbol": "circle"
         },
         "mode": "markers",
         "name": "one",
         "scene": "scene",
         "showlegend": true,
         "x": [
          0.06002002954483032
         ],
         "y": [
          0.5819618105888367
         ],
         "z": [
          0.13554981350898743
         ],
         "type": "scatter3d"
        },
        {
         "hovertemplate": "color=all<br>0=%{x}<br>1=%{y}<br>2=%{z}<extra></extra>",
         "legendgroup": "all",
         "marker": {
          "color": "#B6E880",
          "symbol": "circle"
         },
         "mode": "markers",
         "name": "all",
         "scene": "scene",
         "showlegend": true,
         "x": [
          0.22923269867897034
         ],
         "y": [
          0.6894569396972656
         ],
         "z": [
          0.001863831072114408
         ],
         "type": "scatter3d"
        },
        {
         "hovertemplate": "color=when<br>0=%{x}<br>1=%{y}<br>2=%{z}<extra></extra>",
         "legendgroup": "when",
         "marker": {
          "color": "#FF97FF",
          "symbol": "circle"
         },
         "mode": "markers",
         "name": "when",
         "scene": "scene",
         "showlegend": true,
         "x": [
          0.12137889117002487
         ],
         "y": [
          0.5701852440834045
         ],
         "z": [
          0.3159607946872711
         ],
         "type": "scatter3d"
        },
        {
         "hovertemplate": "color=will<br>0=%{x}<br>1=%{y}<br>2=%{z}<extra></extra>",
         "legendgroup": "will",
         "marker": {
          "color": "#FECB52",
          "symbol": "circle"
         },
         "mode": "markers",
         "name": "will",
         "scene": "scene",
         "showlegend": true,
         "x": [
          0.49596500396728516
         ],
         "y": [
          0.5350923538208008
         ],
         "z": [
          0.19502368569374084
         ],
         "type": "scatter3d"
        },
        {
         "hovertemplate": "color=ser<br>0=%{x}<br>1=%{y}<br>2=%{z}<extra></extra>",
         "legendgroup": "ser",
         "marker": {
          "color": "#636efa",
          "symbol": "circle"
         },
         "mode": "markers",
         "name": "ser",
         "scene": "scene",
         "showlegend": true,
         "x": [
          0.3883722424507141
         ],
         "y": [
          0.2756294310092926
         ],
         "z": [
          0.13865217566490173
         ],
         "type": "scatter3d"
        },
        {
         "hovertemplate": "color=if<br>0=%{x}<br>1=%{y}<br>2=%{z}<extra></extra>",
         "legendgroup": "if",
         "marker": {
          "color": "#EF553B",
          "symbol": "circle"
         },
         "mode": "markers",
         "name": "if",
         "scene": "scene",
         "showlegend": true,
         "x": [
          0.4046785533428192
         ],
         "y": [
          0.6134088039398193
         ],
         "z": [
          0.2969996929168701
         ],
         "type": "scatter3d"
        },
        {
         "hovertemplate": "color=so<br>0=%{x}<br>1=%{y}<br>2=%{z}<extra></extra>",
         "legendgroup": "so",
         "marker": {
          "color": "#00cc96",
          "symbol": "circle"
         },
         "mode": "markers",
         "name": "so",
         "scene": "scene",
         "showlegend": true,
         "x": [
          0.16260039806365967
         ],
         "y": [
          0.5430052876472473
         ],
         "z": [
          0.27979058027267456
         ],
         "type": "scatter3d"
        },
        {
         "hovertemplate": "color=their<br>0=%{x}<br>1=%{y}<br>2=%{z}<extra></extra>",
         "legendgroup": "their",
         "marker": {
          "color": "#ab63fa",
          "symbol": "circle"
         },
         "mode": "markers",
         "name": "their",
         "scene": "scene",
         "showlegend": true,
         "x": [
          -0.06467366218566895
         ],
         "y": [
          0.5344460606575012
         ],
         "z": [
          -0.16932228207588196
         ],
         "type": "scatter3d"
        },
        {
         "hovertemplate": "color=we<br>0=%{x}<br>1=%{y}<br>2=%{z}<extra></extra>",
         "legendgroup": "we",
         "marker": {
          "color": "#FFA15A",
          "symbol": "circle"
         },
         "mode": "markers",
         "name": "we",
         "scene": "scene",
         "showlegend": true,
         "x": [
          0.35934317111968994
         ],
         "y": [
          0.7395392060279846
         ],
         "z": [
          -0.007903003133833408
         ],
         "type": "scatter3d"
        },
        {
         "hovertemplate": "color=could<br>0=%{x}<br>1=%{y}<br>2=%{z}<extra></extra>",
         "legendgroup": "could",
         "marker": {
          "color": "#19d3f3",
          "symbol": "circle"
         },
         "mode": "markers",
         "name": "could",
         "scene": "scene",
         "showlegend": true,
         "x": [
          0.10563283413648605
         ],
         "y": [
          0.495293527841568
         ],
         "z": [
          0.269292950630188
         ],
         "type": "scatter3d"
        },
        {
         "hovertemplate": "color=are<br>0=%{x}<br>1=%{y}<br>2=%{z}<extra></extra>",
         "legendgroup": "are",
         "marker": {
          "color": "#FF6692",
          "symbol": "circle"
         },
         "mode": "markers",
         "name": "are",
         "scene": "scene",
         "showlegend": true,
         "x": [
          0.4189258813858032
         ],
         "y": [
          0.5326725840568542
         ],
         "z": [
          0.009258393198251724
         ],
         "type": "scatter3d"
        },
        {
         "hovertemplate": "color=man<br>0=%{x}<br>1=%{y}<br>2=%{z}<extra></extra>",
         "legendgroup": "man",
         "marker": {
          "color": "#B6E880",
          "symbol": "circle"
         },
         "mode": "markers",
         "name": "man",
         "scene": "scene",
         "showlegend": true,
         "x": [
          0.13218551874160767
         ],
         "y": [
          0.48849186301231384
         ],
         "z": [
          0.15595197677612305
         ],
         "type": "scatter3d"
        },
        {
         "hovertemplate": "color=there<br>0=%{x}<br>1=%{y}<br>2=%{z}<extra></extra>",
         "legendgroup": "there",
         "marker": {
          "color": "#FF97FF",
          "symbol": "circle"
         },
         "mode": "markers",
         "name": "there",
         "scene": "scene",
         "showlegend": true,
         "x": [
          0.08791419118642807
         ],
         "y": [
          0.63308185338974
         ],
         "z": [
          0.034563545137643814
         ],
         "type": "scatter3d"
        },
        {
         "hovertemplate": "color=this<br>0=%{x}<br>1=%{y}<br>2=%{z}<extra></extra>",
         "legendgroup": "this",
         "marker": {
          "color": "#FECB52",
          "symbol": "circle"
         },
         "mode": "markers",
         "name": "this",
         "scene": "scene",
         "showlegend": true,
         "x": [
          0.436484694480896
         ],
         "y": [
          0.6040095090866089
         ],
         "z": [
          0.10940078645944595
         ],
         "type": "scatter3d"
        },
        {
         "hovertemplate": "color=up<br>0=%{x}<br>1=%{y}<br>2=%{z}<extra></extra>",
         "legendgroup": "up",
         "marker": {
          "color": "#636efa",
          "symbol": "circle"
         },
         "mode": "markers",
         "name": "up",
         "scene": "scene",
         "showlegend": true,
         "x": [
          -0.3837389647960663
         ],
         "y": [
          0.546257495880127
         ],
         "z": [
          0.3398721516132355
         ],
         "type": "scatter3d"
        },
        {
         "hovertemplate": "color=been<br>0=%{x}<br>1=%{y}<br>2=%{z}<extra></extra>",
         "legendgroup": "been",
         "marker": {
          "color": "#EF553B",
          "symbol": "circle"
         },
         "mode": "markers",
         "name": "been",
         "scene": "scene",
         "showlegend": true,
         "x": [
          0.19988201558589935
         ],
         "y": [
          0.5350226759910583
         ],
         "z": [
          0.1512547880411148
         ],
         "type": "scatter3d"
        },
        {
         "hovertemplate": "color=what<br>0=%{x}<br>1=%{y}<br>2=%{z}<extra></extra>",
         "legendgroup": "what",
         "marker": {
          "color": "#00cc96",
          "symbol": "circle"
         },
         "mode": "markers",
         "name": "what",
         "scene": "scene",
         "showlegend": true,
         "x": [
          0.40180113911628723
         ],
         "y": [
          0.5939354300498962
         ],
         "z": [
          0.10490313172340393
         ],
         "type": "scatter3d"
        },
        {
         "hovertemplate": "color=did<br>0=%{x}<br>1=%{y}<br>2=%{z}<extra></extra>",
         "legendgroup": "did",
         "marker": {
          "color": "#ab63fa",
          "symbol": "circle"
         },
         "mode": "markers",
         "name": "did",
         "scene": "scene",
         "showlegend": true,
         "x": [
          0.37832894921302795
         ],
         "y": [
          0.4475705623626709
         ],
         "z": [
          0.3898678421974182
         ],
         "type": "scatter3d"
        },
        {
         "hovertemplate": "color=by<br>0=%{x}<br>1=%{y}<br>2=%{z}<extra></extra>",
         "legendgroup": "by",
         "marker": {
          "color": "#FFA15A",
          "symbol": "circle"
         },
         "mode": "markers",
         "name": "by",
         "scene": "scene",
         "showlegend": true,
         "x": [
          0.022207465022802353
         ],
         "y": [
          0.4460334777832031
         ],
         "z": [
          0.029650678858160973
         ],
         "type": "scatter3d"
        },
        {
         "hovertemplate": "color=king<br>0=%{x}<br>1=%{y}<br>2=%{z}<extra></extra>",
         "legendgroup": "king",
         "marker": {
          "color": "#19d3f3",
          "symbol": "circle"
         },
         "mode": "markers",
         "name": "king",
         "scene": "scene",
         "showlegend": true,
         "x": [
          0.40519100427627563
         ],
         "y": [
          0.6558322310447693
         ],
         "z": [
          0.0661318376660347
         ],
         "type": "scatter3d"
        },
        {
         "hovertemplate": "color=do<br>0=%{x}<br>1=%{y}<br>2=%{z}<extra></extra>",
         "legendgroup": "do",
         "marker": {
          "color": "#FF6692",
          "symbol": "circle"
         },
         "mode": "markers",
         "name": "do",
         "scene": "scene",
         "showlegend": true,
         "x": [
          0.5425899624824524
         ],
         "y": [
          0.5301927924156189
         ],
         "z": [
          0.3013365566730499
         ],
         "type": "scatter3d"
        },
        {
         "hovertemplate": "color=men<br>0=%{x}<br>1=%{y}<br>2=%{z}<extra></extra>",
         "legendgroup": "men",
         "marker": {
          "color": "#B6E880",
          "symbol": "circle"
         },
         "mode": "markers",
         "name": "men",
         "scene": "scene",
         "showlegend": true,
         "x": [
          0.10395026206970215
         ],
         "y": [
          0.7412727475166321
         ],
         "z": [
          -0.20684270560741425
         ],
         "type": "scatter3d"
        },
        {
         "hovertemplate": "color=back<br>0=%{x}<br>1=%{y}<br>2=%{z}<extra></extra>",
         "legendgroup": "back",
         "marker": {
          "color": "#FF97FF",
          "symbol": "circle"
         },
         "mode": "markers",
         "name": "back",
         "scene": "scene",
         "showlegend": true,
         "x": [
          -0.15903672575950623
         ],
         "y": [
          0.59574955701828
         ],
         "z": [
          0.484681099653244
         ],
         "type": "scatter3d"
        },
        {
         "hovertemplate": "color=out<br>0=%{x}<br>1=%{y}<br>2=%{z}<extra></extra>",
         "legendgroup": "out",
         "marker": {
          "color": "#FECB52",
          "symbol": "circle"
         },
         "mode": "markers",
         "name": "out",
         "scene": "scene",
         "showlegend": true,
         "x": [
          -0.23069779574871063
         ],
         "y": [
          0.552620530128479
         ],
         "z": [
          0.3435211777687073
         ],
         "type": "scatter3d"
        },
        {
         "hovertemplate": "color=more<br>0=%{x}<br>1=%{y}<br>2=%{z}<extra></extra>",
         "legendgroup": "more",
         "marker": {
          "color": "#636efa",
          "symbol": "circle"
         },
         "mode": "markers",
         "name": "more",
         "scene": "scene",
         "showlegend": true,
         "x": [
          0.23615355789661407
         ],
         "y": [
          0.5588448643684387
         ],
         "z": [
          0.05728119611740112
         ],
         "type": "scatter3d"
        },
        {
         "hovertemplate": "color=or<br>0=%{x}<br>1=%{y}<br>2=%{z}<extra></extra>",
         "legendgroup": "or",
         "marker": {
          "color": "#EF553B",
          "symbol": "circle"
         },
         "mode": "markers",
         "name": "or",
         "scene": "scene",
         "showlegend": true,
         "x": [
          0.34960657358169556
         ],
         "y": [
          0.5720939040184021
         ],
         "z": [
          0.07830822467803955
         ],
         "type": "scatter3d"
        },
        {
         "hovertemplate": "color=who<br>0=%{x}<br>1=%{y}<br>2=%{z}<extra></extra>",
         "legendgroup": "who",
         "marker": {
          "color": "#00cc96",
          "symbol": "circle"
         },
         "mode": "markers",
         "name": "who",
         "scene": "scene",
         "showlegend": true,
         "x": [
          0.44790175557136536
         ],
         "y": [
          0.6114413738250732
         ],
         "z": [
          -0.08337892591953278
         ],
         "type": "scatter3d"
        },
        {
         "hovertemplate": "color=down<br>0=%{x}<br>1=%{y}<br>2=%{z}<extra></extra>",
         "legendgroup": "down",
         "marker": {
          "color": "#ab63fa",
          "symbol": "circle"
         },
         "mode": "markers",
         "name": "down",
         "scene": "scene",
         "showlegend": true,
         "x": [
          -0.42198705673217773
         ],
         "y": [
          0.5735403895378113
         ],
         "z": [
          0.38866543769836426
         ],
         "type": "scatter3d"
        },
        {
         "hovertemplate": "color=well<br>0=%{x}<br>1=%{y}<br>2=%{z}<extra></extra>",
         "legendgroup": "well",
         "marker": {
          "color": "#FFA15A",
          "symbol": "circle"
         },
         "mode": "markers",
         "name": "well",
         "scene": "scene",
         "showlegend": true,
         "x": [
          0.34342411160469055
         ],
         "y": [
          0.5646304488182068
         ],
         "z": [
          0.07082486152648926
         ],
         "type": "scatter3d"
        },
        {
         "hovertemplate": "color=than<br>0=%{x}<br>1=%{y}<br>2=%{z}<extra></extra>",
         "legendgroup": "than",
         "marker": {
          "color": "#19d3f3",
          "symbol": "circle"
         },
         "mode": "markers",
         "name": "than",
         "scene": "scene",
         "showlegend": true,
         "x": [
          0.19503839313983917
         ],
         "y": [
          0.4631026089191437
         ],
         "z": [
          0.166067972779274
         ],
         "type": "scatter3d"
        },
        {
         "hovertemplate": "color=only<br>0=%{x}<br>1=%{y}<br>2=%{z}<extra></extra>",
         "legendgroup": "only",
         "marker": {
          "color": "#FF6692",
          "symbol": "circle"
         },
         "mode": "markers",
         "name": "only",
         "scene": "scene",
         "showlegend": true,
         "x": [
          0.28156349062919617
         ],
         "y": [
          0.5713205933570862
         ],
         "z": [
          0.06154903396964073
         ],
         "type": "scatter3d"
        },
        {
         "hovertemplate": "color=like<br>0=%{x}<br>1=%{y}<br>2=%{z}<extra></extra>",
         "legendgroup": "like",
         "marker": {
          "color": "#B6E880",
          "symbol": "circle"
         },
         "mode": "markers",
         "name": "like",
         "scene": "scene",
         "showlegend": true,
         "x": [
          -0.0794006884098053
         ],
         "y": [
          0.35478129982948303
         ],
         "z": [
          0.24501293897628784
         ],
         "type": "scatter3d"
        },
        {
         "hovertemplate": "color=jon<br>0=%{x}<br>1=%{y}<br>2=%{z}<extra></extra>",
         "legendgroup": "jon",
         "marker": {
          "color": "#FF97FF",
          "symbol": "circle"
         },
         "mode": "markers",
         "name": "jon",
         "scene": "scene",
         "showlegend": true,
         "x": [
          0.07199204713106155
         ],
         "y": [
          0.3919057548046112
         ],
         "z": [
          0.24692583084106445
         ],
         "type": "scatter3d"
        },
        {
         "hovertemplate": "color=some<br>0=%{x}<br>1=%{y}<br>2=%{z}<extra></extra>",
         "legendgroup": "some",
         "marker": {
          "color": "#FECB52",
          "symbol": "circle"
         },
         "mode": "markers",
         "name": "some",
         "scene": "scene",
         "showlegend": true,
         "x": [
          0.14464570581912994
         ],
         "y": [
          0.52448570728302
         ],
         "z": [
          -0.15113291144371033
         ],
         "type": "scatter3d"
        },
        {
         "hovertemplate": "color=father<br>0=%{x}<br>1=%{y}<br>2=%{z}<extra></extra>",
         "legendgroup": "father",
         "marker": {
          "color": "#636efa",
          "symbol": "circle"
         },
         "mode": "markers",
         "name": "father",
         "scene": "scene",
         "showlegend": true,
         "x": [
          0.5143100023269653
         ],
         "y": [
          0.6261205077171326
         ],
         "z": [
          0.1897987723350525
         ],
         "type": "scatter3d"
        },
        {
         "hovertemplate": "color=old<br>0=%{x}<br>1=%{y}<br>2=%{z}<extra></extra>",
         "legendgroup": "old",
         "marker": {
          "color": "#EF553B",
          "symbol": "circle"
         },
         "mode": "markers",
         "name": "old",
         "scene": "scene",
         "showlegend": true,
         "x": [
          0.17115838825702667
         ],
         "y": [
          0.395451158285141
         ],
         "z": [
          -0.009763470850884914
         ],
         "type": "scatter3d"
        },
        {
         "hovertemplate": "color=hand<br>0=%{x}<br>1=%{y}<br>2=%{z}<extra></extra>",
         "legendgroup": "hand",
         "marker": {
          "color": "#00cc96",
          "symbol": "circle"
         },
         "mode": "markers",
         "name": "hand",
         "scene": "scene",
         "showlegend": true,
         "x": [
          -0.022076603025197983
         ],
         "y": [
          0.49074819684028625
         ],
         "z": [
          0.4909035861492157
         ],
         "type": "scatter3d"
        },
        {
         "hovertemplate": "color=even<br>0=%{x}<br>1=%{y}<br>2=%{z}<extra></extra>",
         "legendgroup": "even",
         "marker": {
          "color": "#ab63fa",
          "symbol": "circle"
         },
         "mode": "markers",
         "name": "even",
         "scene": "scene",
         "showlegend": true,
         "x": [
          0.19547715783119202
         ],
         "y": [
          0.5246615409851074
         ],
         "z": [
          0.052355192601680756
         ],
         "type": "scatter3d"
        },
        {
         "hovertemplate": "color=too<br>0=%{x}<br>1=%{y}<br>2=%{z}<extra></extra>",
         "legendgroup": "too",
         "marker": {
          "color": "#FFA15A",
          "symbol": "circle"
         },
         "mode": "markers",
         "name": "too",
         "scene": "scene",
         "showlegend": true,
         "x": [
          0.2412019819021225
         ],
         "y": [
          0.4540221691131592
         ],
         "z": [
          0.19509847462177277
         ],
         "type": "scatter3d"
        },
        {
         "hovertemplate": "color=tyrion<br>0=%{x}<br>1=%{y}<br>2=%{z}<extra></extra>",
         "legendgroup": "tyrion",
         "marker": {
          "color": "#19d3f3",
          "symbol": "circle"
         },
         "mode": "markers",
         "name": "tyrion",
         "scene": "scene",
         "showlegend": true,
         "x": [
          0.17452099919319153
         ],
         "y": [
          0.2552727162837982
         ],
         "z": [
          0.35249677300453186
         ],
         "type": "scatter3d"
        },
        {
         "hovertemplate": "color=before<br>0=%{x}<br>1=%{y}<br>2=%{z}<extra></extra>",
         "legendgroup": "before",
         "marker": {
          "color": "#FF6692",
          "symbol": "circle"
         },
         "mode": "markers",
         "name": "before",
         "scene": "scene",
         "showlegend": true,
         "x": [
          0.13174355030059814
         ],
         "y": [
          0.6482474207878113
         ],
         "z": [
          0.29958826303482056
         ],
         "type": "scatter3d"
        },
        {
         "hovertemplate": "color=never<br>0=%{x}<br>1=%{y}<br>2=%{z}<extra></extra>",
         "legendgroup": "never",
         "marker": {
          "color": "#B6E880",
          "symbol": "circle"
         },
         "mode": "markers",
         "name": "never",
         "scene": "scene",
         "showlegend": true,
         "x": [
          0.48592355847358704
         ],
         "y": [
          0.5470162630081177
         ],
         "z": [
          0.26566261053085327
         ],
         "type": "scatter3d"
        },
        {
         "hovertemplate": "color=an<br>0=%{x}<br>1=%{y}<br>2=%{z}<extra></extra>",
         "legendgroup": "an",
         "marker": {
          "color": "#FF97FF",
          "symbol": "circle"
         },
         "mode": "markers",
         "name": "an",
         "scene": "scene",
         "showlegend": true,
         "x": [
          0.054051969200372696
         ],
         "y": [
          0.32109174132347107
         ],
         "z": [
          0.08458651602268219
         ],
         "type": "scatter3d"
        },
        {
         "hovertemplate": "color=off<br>0=%{x}<br>1=%{y}<br>2=%{z}<extra></extra>",
         "legendgroup": "off",
         "marker": {
          "color": "#FECB52",
          "symbol": "circle"
         },
         "mode": "markers",
         "name": "off",
         "scene": "scene",
         "showlegend": true,
         "x": [
          -0.2634156346321106
         ],
         "y": [
          0.4113096594810486
         ],
         "z": [
          0.4496564567089081
         ],
         "type": "scatter3d"
        },
        {
         "hovertemplate": "color=see<br>0=%{x}<br>1=%{y}<br>2=%{z}<extra></extra>",
         "legendgroup": "see",
         "marker": {
          "color": "#636efa",
          "symbol": "circle"
         },
         "mode": "markers",
         "name": "see",
         "scene": "scene",
         "showlegend": true,
         "x": [
          0.17807868123054504
         ],
         "y": [
          0.6349613666534424
         ],
         "z": [
          0.3767704963684082
         ],
         "type": "scatter3d"
        },
        {
         "hovertemplate": "color=know<br>0=%{x}<br>1=%{y}<br>2=%{z}<extra></extra>",
         "legendgroup": "know",
         "marker": {
          "color": "#EF553B",
          "symbol": "circle"
         },
         "mode": "markers",
         "name": "know",
         "scene": "scene",
         "showlegend": true,
         "x": [
          0.5644276142120361
         ],
         "y": [
          0.5372036695480347
         ],
         "z": [
          0.21338723599910736
         ],
         "type": "scatter3d"
        },
        {
         "hovertemplate": "color=into<br>0=%{x}<br>1=%{y}<br>2=%{z}<extra></extra>",
         "legendgroup": "into",
         "marker": {
          "color": "#00cc96",
          "symbol": "circle"
         },
         "mode": "markers",
         "name": "into",
         "scene": "scene",
         "showlegend": true,
         "x": [
          -0.37436607480049133
         ],
         "y": [
          0.40943628549575806
         ],
         "z": [
          0.3923940360546112
         ],
         "type": "scatter3d"
        },
        {
         "hovertemplate": "color=made<br>0=%{x}<br>1=%{y}<br>2=%{z}<extra></extra>",
         "legendgroup": "made",
         "marker": {
          "color": "#ab63fa",
          "symbol": "circle"
         },
         "mode": "markers",
         "name": "made",
         "scene": "scene",
         "showlegend": true,
         "x": [
          0.044048260897397995
         ],
         "y": [
          0.34428343176841736
         ],
         "z": [
          0.4041670560836792
         ],
         "type": "scatter3d"
        },
        {
         "hovertemplate": "color=now<br>0=%{x}<br>1=%{y}<br>2=%{z}<extra></extra>",
         "legendgroup": "now",
         "marker": {
          "color": "#FFA15A",
          "symbol": "circle"
         },
         "mode": "markers",
         "name": "now",
         "scene": "scene",
         "showlegend": true,
         "x": [
          0.3528859317302704
         ],
         "y": [
          0.6584655046463013
         ],
         "z": [
          0.18375536799430847
         ],
         "type": "scatter3d"
        },
        {
         "hovertemplate": "color=eyes<br>0=%{x}<br>1=%{y}<br>2=%{z}<extra></extra>",
         "legendgroup": "eyes",
         "marker": {
          "color": "#19d3f3",
          "symbol": "circle"
         },
         "mode": "markers",
         "name": "eyes",
         "scene": "scene",
         "showlegend": true,
         "x": [
          -0.14151832461357117
         ],
         "y": [
          0.4822068214416504
         ],
         "z": [
          0.37805142998695374
         ],
         "type": "scatter3d"
        },
        {
         "hovertemplate": "color=black<br>0=%{x}<br>1=%{y}<br>2=%{z}<extra></extra>",
         "legendgroup": "black",
         "marker": {
          "color": "#FF6692",
          "symbol": "circle"
         },
         "mode": "markers",
         "name": "black",
         "scene": "scene",
         "showlegend": true,
         "x": [
          -0.3732592463493347
         ],
         "y": [
          0.3733956813812256
         ],
         "z": [
          -0.07559940218925476
         ],
         "type": "scatter3d"
        },
        {
         "hovertemplate": "color=told<br>0=%{x}<br>1=%{y}<br>2=%{z}<extra></extra>",
         "legendgroup": "told",
         "marker": {
          "color": "#B6E880",
          "symbol": "circle"
         },
         "mode": "markers",
         "name": "told",
         "scene": "scene",
         "showlegend": true,
         "x": [
          0.4719085395336151
         ],
         "y": [
          0.5394002795219421
         ],
         "z": [
          0.4766193926334381
         ],
         "type": "scatter3d"
        },
        {
         "hovertemplate": "color=lady<br>0=%{x}<br>1=%{y}<br>2=%{z}<extra></extra>",
         "legendgroup": "lady",
         "marker": {
          "color": "#FF97FF",
          "symbol": "circle"
         },
         "mode": "markers",
         "name": "lady",
         "scene": "scene",
         "showlegend": true,
         "x": [
          0.5487520098686218
         ],
         "y": [
          0.3228554129600525
         ],
         "z": [
          0.190032497048378
         ],
         "type": "scatter3d"
        },
        {
         "hovertemplate": "color=thought<br>0=%{x}<br>1=%{y}<br>2=%{z}<extra></extra>",
         "legendgroup": "thought",
         "marker": {
          "color": "#FECB52",
          "symbol": "circle"
         },
         "mode": "markers",
         "name": "thought",
         "scene": "scene",
         "showlegend": true,
         "x": [
          0.36077049374580383
         ],
         "y": [
          0.5507826805114746
         ],
         "z": [
          0.5106786489486694
         ],
         "type": "scatter3d"
        },
        {
         "hovertemplate": "color=time<br>0=%{x}<br>1=%{y}<br>2=%{z}<extra></extra>",
         "legendgroup": "time",
         "marker": {
          "color": "#636efa",
          "symbol": "circle"
         },
         "mode": "markers",
         "name": "time",
         "scene": "scene",
         "showlegend": true,
         "x": [
          0.08163509517908096
         ],
         "y": [
          0.6888493895530701
         ],
         "z": [
          0.3370356261730194
         ],
         "type": "scatter3d"
        },
        {
         "hovertemplate": "color=then<br>0=%{x}<br>1=%{y}<br>2=%{z}<extra></extra>",
         "legendgroup": "then",
         "marker": {
          "color": "#EF553B",
          "symbol": "circle"
         },
         "mode": "markers",
         "name": "then",
         "scene": "scene",
         "showlegend": true,
         "x": [
          -0.07599738985300064
         ],
         "y": [
          0.5024923086166382
         ],
         "z": [
          0.498714804649353
         ],
         "type": "scatter3d"
        },
        {
         "hovertemplate": "color=how<br>0=%{x}<br>1=%{y}<br>2=%{z}<extra></extra>",
         "legendgroup": "how",
         "marker": {
          "color": "#00cc96",
          "symbol": "circle"
         },
         "mode": "markers",
         "name": "how",
         "scene": "scene",
         "showlegend": true,
         "x": [
          0.3939254581928253
         ],
         "y": [
          0.5290458798408508
         ],
         "z": [
          0.22197161614894867
         ],
         "type": "scatter3d"
        },
        {
         "hovertemplate": "color=long<br>0=%{x}<br>1=%{y}<br>2=%{z}<extra></extra>",
         "legendgroup": "long",
         "marker": {
          "color": "#ab63fa",
          "symbol": "circle"
         },
         "mode": "markers",
         "name": "long",
         "scene": "scene",
         "showlegend": true,
         "x": [
          -0.14662383496761322
         ],
         "y": [
          0.5301234126091003
         ],
         "z": [
          0.09593072533607483
         ],
         "type": "scatter3d"
        },
        {
         "hovertemplate": "color=has<br>0=%{x}<br>1=%{y}<br>2=%{z}<extra></extra>",
         "legendgroup": "has",
         "marker": {
          "color": "#FFA15A",
          "symbol": "circle"
         },
         "mode": "markers",
         "name": "has",
         "scene": "scene",
         "showlegend": true,
         "x": [
          0.5209961533546448
         ],
         "y": [
          0.48373347520828247
         ],
         "z": [
          0.08794619143009186
         ],
         "type": "scatter3d"
        },
        {
         "hovertemplate": "color=can<br>0=%{x}<br>1=%{y}<br>2=%{z}<extra></extra>",
         "legendgroup": "can",
         "marker": {
          "color": "#19d3f3",
          "symbol": "circle"
         },
         "mode": "markers",
         "name": "can",
         "scene": "scene",
         "showlegend": true,
         "x": [
          0.4054439067840576
         ],
         "y": [
          0.5017129778862
         ],
         "z": [
          0.18899068236351013
         ],
         "type": "scatter3d"
        },
        {
         "hovertemplate": "color=might<br>0=%{x}<br>1=%{y}<br>2=%{z}<extra></extra>",
         "legendgroup": "might",
         "marker": {
          "color": "#FF6692",
          "symbol": "circle"
         },
         "mode": "markers",
         "name": "might",
         "scene": "scene",
         "showlegend": true,
         "x": [
          0.40735700726509094
         ],
         "y": [
          0.4488527774810791
         ],
         "z": [
          0.22747080028057098
         ],
         "type": "scatter3d"
        },
        {
         "hovertemplate": "color=us<br>0=%{x}<br>1=%{y}<br>2=%{z}<extra></extra>",
         "legendgroup": "us",
         "marker": {
          "color": "#B6E880",
          "symbol": "circle"
         },
         "mode": "markers",
         "name": "us",
         "scene": "scene",
         "showlegend": true,
         "x": [
          0.43986520171165466
         ],
         "y": [
          0.722158670425415
         ],
         "z": [
          -0.051896244287490845
         ],
         "type": "scatter3d"
        },
        {
         "hovertemplate": "color=come<br>0=%{x}<br>1=%{y}<br>2=%{z}<extra></extra>",
         "legendgroup": "come",
         "marker": {
          "color": "#FF97FF",
          "symbol": "circle"
         },
         "mode": "markers",
         "name": "come",
         "scene": "scene",
         "showlegend": true,
         "x": [
          0.3481607139110565
         ],
         "y": [
          0.7949139475822449
         ],
         "z": [
          0.2653123736381531
         ],
         "type": "scatter3d"
        },
        {
         "hovertemplate": "color=where<br>0=%{x}<br>1=%{y}<br>2=%{z}<extra></extra>",
         "legendgroup": "where",
         "marker": {
          "color": "#FECB52",
          "symbol": "circle"
         },
         "mode": "markers",
         "name": "where",
         "scene": "scene",
         "showlegend": true,
         "x": [
          -0.128214031457901
         ],
         "y": [
          0.6288825273513794
         ],
         "z": [
          0.08438853919506073
         ],
         "type": "scatter3d"
        }
       ],
       "layout": {
        "template": {
         "data": {
          "histogram2dcontour": [
           {
            "type": "histogram2dcontour",
            "colorbar": {
             "outlinewidth": 0,
             "ticks": ""
            },
            "colorscale": [
             [
              0.0,
              "#0d0887"
             ],
             [
              0.1111111111111111,
              "#46039f"
             ],
             [
              0.2222222222222222,
              "#7201a8"
             ],
             [
              0.3333333333333333,
              "#9c179e"
             ],
             [
              0.4444444444444444,
              "#bd3786"
             ],
             [
              0.5555555555555556,
              "#d8576b"
             ],
             [
              0.6666666666666666,
              "#ed7953"
             ],
             [
              0.7777777777777778,
              "#fb9f3a"
             ],
             [
              0.8888888888888888,
              "#fdca26"
             ],
             [
              1.0,
              "#f0f921"
             ]
            ]
           }
          ],
          "choropleth": [
           {
            "type": "choropleth",
            "colorbar": {
             "outlinewidth": 0,
             "ticks": ""
            }
           }
          ],
          "histogram2d": [
           {
            "type": "histogram2d",
            "colorbar": {
             "outlinewidth": 0,
             "ticks": ""
            },
            "colorscale": [
             [
              0.0,
              "#0d0887"
             ],
             [
              0.1111111111111111,
              "#46039f"
             ],
             [
              0.2222222222222222,
              "#7201a8"
             ],
             [
              0.3333333333333333,
              "#9c179e"
             ],
             [
              0.4444444444444444,
              "#bd3786"
             ],
             [
              0.5555555555555556,
              "#d8576b"
             ],
             [
              0.6666666666666666,
              "#ed7953"
             ],
             [
              0.7777777777777778,
              "#fb9f3a"
             ],
             [
              0.8888888888888888,
              "#fdca26"
             ],
             [
              1.0,
              "#f0f921"
             ]
            ]
           }
          ],
          "heatmap": [
           {
            "type": "heatmap",
            "colorbar": {
             "outlinewidth": 0,
             "ticks": ""
            },
            "colorscale": [
             [
              0.0,
              "#0d0887"
             ],
             [
              0.1111111111111111,
              "#46039f"
             ],
             [
              0.2222222222222222,
              "#7201a8"
             ],
             [
              0.3333333333333333,
              "#9c179e"
             ],
             [
              0.4444444444444444,
              "#bd3786"
             ],
             [
              0.5555555555555556,
              "#d8576b"
             ],
             [
              0.6666666666666666,
              "#ed7953"
             ],
             [
              0.7777777777777778,
              "#fb9f3a"
             ],
             [
              0.8888888888888888,
              "#fdca26"
             ],
             [
              1.0,
              "#f0f921"
             ]
            ]
           }
          ],
          "heatmapgl": [
           {
            "type": "heatmapgl",
            "colorbar": {
             "outlinewidth": 0,
             "ticks": ""
            },
            "colorscale": [
             [
              0.0,
              "#0d0887"
             ],
             [
              0.1111111111111111,
              "#46039f"
             ],
             [
              0.2222222222222222,
              "#7201a8"
             ],
             [
              0.3333333333333333,
              "#9c179e"
             ],
             [
              0.4444444444444444,
              "#bd3786"
             ],
             [
              0.5555555555555556,
              "#d8576b"
             ],
             [
              0.6666666666666666,
              "#ed7953"
             ],
             [
              0.7777777777777778,
              "#fb9f3a"
             ],
             [
              0.8888888888888888,
              "#fdca26"
             ],
             [
              1.0,
              "#f0f921"
             ]
            ]
           }
          ],
          "contourcarpet": [
           {
            "type": "contourcarpet",
            "colorbar": {
             "outlinewidth": 0,
             "ticks": ""
            }
           }
          ],
          "contour": [
           {
            "type": "contour",
            "colorbar": {
             "outlinewidth": 0,
             "ticks": ""
            },
            "colorscale": [
             [
              0.0,
              "#0d0887"
             ],
             [
              0.1111111111111111,
              "#46039f"
             ],
             [
              0.2222222222222222,
              "#7201a8"
             ],
             [
              0.3333333333333333,
              "#9c179e"
             ],
             [
              0.4444444444444444,
              "#bd3786"
             ],
             [
              0.5555555555555556,
              "#d8576b"
             ],
             [
              0.6666666666666666,
              "#ed7953"
             ],
             [
              0.7777777777777778,
              "#fb9f3a"
             ],
             [
              0.8888888888888888,
              "#fdca26"
             ],
             [
              1.0,
              "#f0f921"
             ]
            ]
           }
          ],
          "surface": [
           {
            "type": "surface",
            "colorbar": {
             "outlinewidth": 0,
             "ticks": ""
            },
            "colorscale": [
             [
              0.0,
              "#0d0887"
             ],
             [
              0.1111111111111111,
              "#46039f"
             ],
             [
              0.2222222222222222,
              "#7201a8"
             ],
             [
              0.3333333333333333,
              "#9c179e"
             ],
             [
              0.4444444444444444,
              "#bd3786"
             ],
             [
              0.5555555555555556,
              "#d8576b"
             ],
             [
              0.6666666666666666,
              "#ed7953"
             ],
             [
              0.7777777777777778,
              "#fb9f3a"
             ],
             [
              0.8888888888888888,
              "#fdca26"
             ],
             [
              1.0,
              "#f0f921"
             ]
            ]
           }
          ],
          "mesh3d": [
           {
            "type": "mesh3d",
            "colorbar": {
             "outlinewidth": 0,
             "ticks": ""
            }
           }
          ],
          "scatter": [
           {
            "fillpattern": {
             "fillmode": "overlay",
             "size": 10,
             "solidity": 0.2
            },
            "type": "scatter"
           }
          ],
          "parcoords": [
           {
            "type": "parcoords",
            "line": {
             "colorbar": {
              "outlinewidth": 0,
              "ticks": ""
             }
            }
           }
          ],
          "scatterpolargl": [
           {
            "type": "scatterpolargl",
            "marker": {
             "colorbar": {
              "outlinewidth": 0,
              "ticks": ""
             }
            }
           }
          ],
          "bar": [
           {
            "error_x": {
             "color": "#2a3f5f"
            },
            "error_y": {
             "color": "#2a3f5f"
            },
            "marker": {
             "line": {
              "color": "#E5ECF6",
              "width": 0.5
             },
             "pattern": {
              "fillmode": "overlay",
              "size": 10,
              "solidity": 0.2
             }
            },
            "type": "bar"
           }
          ],
          "scattergeo": [
           {
            "type": "scattergeo",
            "marker": {
             "colorbar": {
              "outlinewidth": 0,
              "ticks": ""
             }
            }
           }
          ],
          "scatterpolar": [
           {
            "type": "scatterpolar",
            "marker": {
             "colorbar": {
              "outlinewidth": 0,
              "ticks": ""
             }
            }
           }
          ],
          "histogram": [
           {
            "marker": {
             "pattern": {
              "fillmode": "overlay",
              "size": 10,
              "solidity": 0.2
             }
            },
            "type": "histogram"
           }
          ],
          "scattergl": [
           {
            "type": "scattergl",
            "marker": {
             "colorbar": {
              "outlinewidth": 0,
              "ticks": ""
             }
            }
           }
          ],
          "scatter3d": [
           {
            "type": "scatter3d",
            "line": {
             "colorbar": {
              "outlinewidth": 0,
              "ticks": ""
             }
            },
            "marker": {
             "colorbar": {
              "outlinewidth": 0,
              "ticks": ""
             }
            }
           }
          ],
          "scattermapbox": [
           {
            "type": "scattermapbox",
            "marker": {
             "colorbar": {
              "outlinewidth": 0,
              "ticks": ""
             }
            }
           }
          ],
          "scatterternary": [
           {
            "type": "scatterternary",
            "marker": {
             "colorbar": {
              "outlinewidth": 0,
              "ticks": ""
             }
            }
           }
          ],
          "scattercarpet": [
           {
            "type": "scattercarpet",
            "marker": {
             "colorbar": {
              "outlinewidth": 0,
              "ticks": ""
             }
            }
           }
          ],
          "carpet": [
           {
            "aaxis": {
             "endlinecolor": "#2a3f5f",
             "gridcolor": "white",
             "linecolor": "white",
             "minorgridcolor": "white",
             "startlinecolor": "#2a3f5f"
            },
            "baxis": {
             "endlinecolor": "#2a3f5f",
             "gridcolor": "white",
             "linecolor": "white",
             "minorgridcolor": "white",
             "startlinecolor": "#2a3f5f"
            },
            "type": "carpet"
           }
          ],
          "table": [
           {
            "cells": {
             "fill": {
              "color": "#EBF0F8"
             },
             "line": {
              "color": "white"
             }
            },
            "header": {
             "fill": {
              "color": "#C8D4E3"
             },
             "line": {
              "color": "white"
             }
            },
            "type": "table"
           }
          ],
          "barpolar": [
           {
            "marker": {
             "line": {
              "color": "#E5ECF6",
              "width": 0.5
             },
             "pattern": {
              "fillmode": "overlay",
              "size": 10,
              "solidity": 0.2
             }
            },
            "type": "barpolar"
           }
          ],
          "pie": [
           {
            "automargin": true,
            "type": "pie"
           }
          ]
         },
         "layout": {
          "autotypenumbers": "strict",
          "colorway": [
           "#636efa",
           "#EF553B",
           "#00cc96",
           "#ab63fa",
           "#FFA15A",
           "#19d3f3",
           "#FF6692",
           "#B6E880",
           "#FF97FF",
           "#FECB52"
          ],
          "font": {
           "color": "#2a3f5f"
          },
          "hovermode": "closest",
          "hoverlabel": {
           "align": "left"
          },
          "paper_bgcolor": "white",
          "plot_bgcolor": "#E5ECF6",
          "polar": {
           "bgcolor": "#E5ECF6",
           "angularaxis": {
            "gridcolor": "white",
            "linecolor": "white",
            "ticks": ""
           },
           "radialaxis": {
            "gridcolor": "white",
            "linecolor": "white",
            "ticks": ""
           }
          },
          "ternary": {
           "bgcolor": "#E5ECF6",
           "aaxis": {
            "gridcolor": "white",
            "linecolor": "white",
            "ticks": ""
           },
           "baxis": {
            "gridcolor": "white",
            "linecolor": "white",
            "ticks": ""
           },
           "caxis": {
            "gridcolor": "white",
            "linecolor": "white",
            "ticks": ""
           }
          },
          "coloraxis": {
           "colorbar": {
            "outlinewidth": 0,
            "ticks": ""
           }
          },
          "colorscale": {
           "sequential": [
            [
             0.0,
             "#0d0887"
            ],
            [
             0.1111111111111111,
             "#46039f"
            ],
            [
             0.2222222222222222,
             "#7201a8"
            ],
            [
             0.3333333333333333,
             "#9c179e"
            ],
            [
             0.4444444444444444,
             "#bd3786"
            ],
            [
             0.5555555555555556,
             "#d8576b"
            ],
            [
             0.6666666666666666,
             "#ed7953"
            ],
            [
             0.7777777777777778,
             "#fb9f3a"
            ],
            [
             0.8888888888888888,
             "#fdca26"
            ],
            [
             1.0,
             "#f0f921"
            ]
           ],
           "sequentialminus": [
            [
             0.0,
             "#0d0887"
            ],
            [
             0.1111111111111111,
             "#46039f"
            ],
            [
             0.2222222222222222,
             "#7201a8"
            ],
            [
             0.3333333333333333,
             "#9c179e"
            ],
            [
             0.4444444444444444,
             "#bd3786"
            ],
            [
             0.5555555555555556,
             "#d8576b"
            ],
            [
             0.6666666666666666,
             "#ed7953"
            ],
            [
             0.7777777777777778,
             "#fb9f3a"
            ],
            [
             0.8888888888888888,
             "#fdca26"
            ],
            [
             1.0,
             "#f0f921"
            ]
           ],
           "diverging": [
            [
             0,
             "#8e0152"
            ],
            [
             0.1,
             "#c51b7d"
            ],
            [
             0.2,
             "#de77ae"
            ],
            [
             0.3,
             "#f1b6da"
            ],
            [
             0.4,
             "#fde0ef"
            ],
            [
             0.5,
             "#f7f7f7"
            ],
            [
             0.6,
             "#e6f5d0"
            ],
            [
             0.7,
             "#b8e186"
            ],
            [
             0.8,
             "#7fbc41"
            ],
            [
             0.9,
             "#4d9221"
            ],
            [
             1,
             "#276419"
            ]
           ]
          },
          "xaxis": {
           "gridcolor": "white",
           "linecolor": "white",
           "ticks": "",
           "title": {
            "standoff": 15
           },
           "zerolinecolor": "white",
           "automargin": true,
           "zerolinewidth": 2
          },
          "yaxis": {
           "gridcolor": "white",
           "linecolor": "white",
           "ticks": "",
           "title": {
            "standoff": 15
           },
           "zerolinecolor": "white",
           "automargin": true,
           "zerolinewidth": 2
          },
          "scene": {
           "xaxis": {
            "backgroundcolor": "#E5ECF6",
            "gridcolor": "white",
            "linecolor": "white",
            "showbackground": true,
            "ticks": "",
            "zerolinecolor": "white",
            "gridwidth": 2
           },
           "yaxis": {
            "backgroundcolor": "#E5ECF6",
            "gridcolor": "white",
            "linecolor": "white",
            "showbackground": true,
            "ticks": "",
            "zerolinecolor": "white",
            "gridwidth": 2
           },
           "zaxis": {
            "backgroundcolor": "#E5ECF6",
            "gridcolor": "white",
            "linecolor": "white",
            "showbackground": true,
            "ticks": "",
            "zerolinecolor": "white",
            "gridwidth": 2
           }
          },
          "shapedefaults": {
           "line": {
            "color": "#2a3f5f"
           }
          },
          "annotationdefaults": {
           "arrowcolor": "#2a3f5f",
           "arrowhead": 0,
           "arrowwidth": 1
          },
          "geo": {
           "bgcolor": "white",
           "landcolor": "#E5ECF6",
           "subunitcolor": "white",
           "showland": true,
           "showlakes": true,
           "lakecolor": "white"
          },
          "title": {
           "x": 0.05
          },
          "mapbox": {
           "style": "light"
          }
         }
        },
        "scene": {
         "domain": {
          "x": [
           0.0,
           1.0
          ],
          "y": [
           0.0,
           1.0
          ]
         },
         "xaxis": {
          "title": {
           "text": "0"
          }
         },
         "yaxis": {
          "title": {
           "text": "1"
          }
         },
         "zaxis": {
          "title": {
           "text": "2"
          }
         }
        },
        "legend": {
         "title": {
          "text": "color"
         },
         "tracegroupgap": 0
        },
        "margin": {
         "t": 60
        }
       },
       "config": {
        "plotlyServerURL": "https://plot.ly"
       }
      },
      "text/html": "<div>                            <div id=\"1898ec52-a5e1-42b5-958f-592097bcb7cb\" class=\"plotly-graph-div\" style=\"height:525px; width:100%;\"></div>            <script type=\"text/javascript\">                require([\"plotly\"], function(Plotly) {                    window.PLOTLYENV=window.PLOTLYENV || {};                                    if (document.getElementById(\"1898ec52-a5e1-42b5-958f-592097bcb7cb\")) {                    Plotly.newPlot(                        \"1898ec52-a5e1-42b5-958f-592097bcb7cb\",                        [{\"hovertemplate\":\"color=the\\u003cbr\\u003e0=%{x}\\u003cbr\\u003e1=%{y}\\u003cbr\\u003e2=%{z}\\u003cextra\\u003e\\u003c\\u002fextra\\u003e\",\"legendgroup\":\"the\",\"marker\":{\"color\":\"#636efa\",\"symbol\":\"circle\"},\"mode\":\"markers\",\"name\":\"the\",\"scene\":\"scene\",\"showlegend\":true,\"x\":[-0.15777577459812164],\"y\":[0.5959141850471497],\"z\":[-0.046911440789699554],\"type\":\"scatter3d\"},{\"hovertemplate\":\"color=and\\u003cbr\\u003e0=%{x}\\u003cbr\\u003e1=%{y}\\u003cbr\\u003e2=%{z}\\u003cextra\\u003e\\u003c\\u002fextra\\u003e\",\"legendgroup\":\"and\",\"marker\":{\"color\":\"#EF553B\",\"symbol\":\"circle\"},\"mode\":\"markers\",\"name\":\"and\",\"scene\":\"scene\",\"showlegend\":true,\"x\":[-0.1550111025571823],\"y\":[0.350711464881897],\"z\":[0.030315110459923744],\"type\":\"scatter3d\"},{\"hovertemplate\":\"color=to\\u003cbr\\u003e0=%{x}\\u003cbr\\u003e1=%{y}\\u003cbr\\u003e2=%{z}\\u003cextra\\u003e\\u003c\\u002fextra\\u003e\",\"legendgroup\":\"to\",\"marker\":{\"color\":\"#00cc96\",\"symbol\":\"circle\"},\"mode\":\"markers\",\"name\":\"to\",\"scene\":\"scene\",\"showlegend\":true,\"x\":[0.29513129591941833],\"y\":[0.5595955848693848],\"z\":[0.2178819626569748],\"type\":\"scatter3d\"},{\"hovertemplate\":\"color=of\\u003cbr\\u003e0=%{x}\\u003cbr\\u003e1=%{y}\\u003cbr\\u003e2=%{z}\\u003cextra\\u003e\\u003c\\u002fextra\\u003e\",\"legendgroup\":\"of\",\"marker\":{\"color\":\"#ab63fa\",\"symbol\":\"circle\"},\"mode\":\"markers\",\"name\":\"of\",\"scene\":\"scene\",\"showlegend\":true,\"x\":[0.014148613438010216],\"y\":[0.36995023488998413],\"z\":[-0.11497610062360764],\"type\":\"scatter3d\"},{\"hovertemplate\":\"color=he\\u003cbr\\u003e0=%{x}\\u003cbr\\u003e1=%{y}\\u003cbr\\u003e2=%{z}\\u003cextra\\u003e\\u003c\\u002fextra\\u003e\",\"legendgroup\":\"he\",\"marker\":{\"color\":\"#FFA15A\",\"symbol\":\"circle\"},\"mode\":\"markers\",\"name\":\"he\",\"scene\":\"scene\",\"showlegend\":true,\"x\":[0.13020914793014526],\"y\":[0.5121671557426453],\"z\":[0.2701655328273773],\"type\":\"scatter3d\"},{\"hovertemplate\":\"color=his\\u003cbr\\u003e0=%{x}\\u003cbr\\u003e1=%{y}\\u003cbr\\u003e2=%{z}\\u003cextra\\u003e\\u003c\\u002fextra\\u003e\",\"legendgroup\":\"his\",\"marker\":{\"color\":\"#19d3f3\",\"symbol\":\"circle\"},\"mode\":\"markers\",\"name\":\"his\",\"scene\":\"scene\",\"showlegend\":true,\"x\":[-0.014918634667992592],\"y\":[0.28376421332359314],\"z\":[0.33367156982421875],\"type\":\"scatter3d\"},{\"hovertemplate\":\"color=was\\u003cbr\\u003e0=%{x}\\u003cbr\\u003e1=%{y}\\u003cbr\\u003e2=%{z}\\u003cextra\\u003e\\u003c\\u002fextra\\u003e\",\"legendgroup\":\"was\",\"marker\":{\"color\":\"#FF6692\",\"symbol\":\"circle\"},\"mode\":\"markers\",\"name\":\"was\",\"scene\":\"scene\",\"showlegend\":true,\"x\":[0.11089027673006058],\"y\":[0.38889703154563904],\"z\":[0.30489251017570496],\"type\":\"scatter3d\"},{\"hovertemplate\":\"color=you\\u003cbr\\u003e0=%{x}\\u003cbr\\u003e1=%{y}\\u003cbr\\u003e2=%{z}\\u003cextra\\u003e\\u003c\\u002fextra\\u003e\",\"legendgroup\":\"you\",\"marker\":{\"color\":\"#B6E880\",\"symbol\":\"circle\"},\"mode\":\"markers\",\"name\":\"you\",\"scene\":\"scene\",\"showlegend\":true,\"x\":[0.5320298075675964],\"y\":[0.6069527268409729],\"z\":[0.15719027817249298],\"type\":\"scatter3d\"},{\"hovertemplate\":\"color=her\\u003cbr\\u003e0=%{x}\\u003cbr\\u003e1=%{y}\\u003cbr\\u003e2=%{z}\\u003cextra\\u003e\\u003c\\u002fextra\\u003e\",\"legendgroup\":\"her\",\"marker\":{\"color\":\"#FF97FF\",\"symbol\":\"circle\"},\"mode\":\"markers\",\"name\":\"her\",\"scene\":\"scene\",\"showlegend\":true,\"x\":[0.006049429066479206],\"y\":[0.3676701784133911],\"z\":[0.3489711880683899],\"type\":\"scatter3d\"},{\"hovertemplate\":\"color=in\\u003cbr\\u003e0=%{x}\\u003cbr\\u003e1=%{y}\\u003cbr\\u003e2=%{z}\\u003cextra\\u003e\\u003c\\u002fextra\\u003e\",\"legendgroup\":\"in\",\"marker\":{\"color\":\"#FECB52\",\"symbol\":\"circle\"},\"mode\":\"markers\",\"name\":\"in\",\"scene\":\"scene\",\"showlegend\":true,\"x\":[-0.07889045029878616],\"y\":[0.4373532235622406],\"z\":[0.08415865898132324],\"type\":\"scatter3d\"},{\"hovertemplate\":\"color=it\\u003cbr\\u003e0=%{x}\\u003cbr\\u003e1=%{y}\\u003cbr\\u003e2=%{z}\\u003cextra\\u003e\\u003c\\u002fextra\\u003e\",\"legendgroup\":\"it\",\"marker\":{\"color\":\"#636efa\",\"symbol\":\"circle\"},\"mode\":\"markers\",\"name\":\"it\",\"scene\":\"scene\",\"showlegend\":true,\"x\":[0.08867556601762772],\"y\":[0.5886452794075012],\"z\":[0.24583342671394348],\"type\":\"scatter3d\"},{\"hovertemplate\":\"color=had\\u003cbr\\u003e0=%{x}\\u003cbr\\u003e1=%{y}\\u003cbr\\u003e2=%{z}\\u003cextra\\u003e\\u003c\\u002fextra\\u003e\",\"legendgroup\":\"had\",\"marker\":{\"color\":\"#EF553B\",\"symbol\":\"circle\"},\"mode\":\"markers\",\"name\":\"had\",\"scene\":\"scene\",\"showlegend\":true,\"x\":[0.1485028713941574],\"y\":[0.49622586369514465],\"z\":[0.1676720380783081],\"type\":\"scatter3d\"},{\"hovertemplate\":\"color=that\\u003cbr\\u003e0=%{x}\\u003cbr\\u003e1=%{y}\\u003cbr\\u003e2=%{z}\\u003cextra\\u003e\\u003c\\u002fextra\\u003e\",\"legendgroup\":\"that\",\"marker\":{\"color\":\"#00cc96\",\"symbol\":\"circle\"},\"mode\":\"markers\",\"name\":\"that\",\"scene\":\"scene\",\"showlegend\":true,\"x\":[0.32673847675323486],\"y\":[0.5845253467559814],\"z\":[0.08437975496053696],\"type\":\"scatter3d\"},{\"hovertemplate\":\"color=she\\u003cbr\\u003e0=%{x}\\u003cbr\\u003e1=%{y}\\u003cbr\\u003e2=%{z}\\u003cextra\\u003e\\u003c\\u002fextra\\u003e\",\"legendgroup\":\"she\",\"marker\":{\"color\":\"#ab63fa\",\"symbol\":\"circle\"},\"mode\":\"markers\",\"name\":\"she\",\"scene\":\"scene\",\"showlegend\":true,\"x\":[0.08855977654457092],\"y\":[0.4968092739582062],\"z\":[0.2910846471786499],\"type\":\"scatter3d\"},{\"hovertemplate\":\"color=as\\u003cbr\\u003e0=%{x}\\u003cbr\\u003e1=%{y}\\u003cbr\\u003e2=%{z}\\u003cextra\\u003e\\u003c\\u002fextra\\u003e\",\"legendgroup\":\"as\",\"marker\":{\"color\":\"#FFA15A\",\"symbol\":\"circle\"},\"mode\":\"markers\",\"name\":\"as\",\"scene\":\"scene\",\"showlegend\":true,\"x\":[0.031100979074835777],\"y\":[0.4629061222076416],\"z\":[0.26002931594848633],\"type\":\"scatter3d\"},{\"hovertemplate\":\"color=with\\u003cbr\\u003e0=%{x}\\u003cbr\\u003e1=%{y}\\u003cbr\\u003e2=%{z}\\u003cextra\\u003e\\u003c\\u002fextra\\u003e\",\"legendgroup\":\"with\",\"marker\":{\"color\":\"#19d3f3\",\"symbol\":\"circle\"},\"mode\":\"markers\",\"name\":\"with\",\"scene\":\"scene\",\"showlegend\":true,\"x\":[-0.12012150883674622],\"y\":[0.2876219153404236],\"z\":[0.18892307579517365],\"type\":\"scatter3d\"},{\"hovertemplate\":\"color=him\\u003cbr\\u003e0=%{x}\\u003cbr\\u003e1=%{y}\\u003cbr\\u003e2=%{z}\\u003cextra\\u003e\\u003c\\u002fextra\\u003e\",\"legendgroup\":\"him\",\"marker\":{\"color\":\"#FF6692\",\"symbol\":\"circle\"},\"mode\":\"markers\",\"name\":\"him\",\"scene\":\"scene\",\"showlegend\":true,\"x\":[0.12534254789352417],\"y\":[0.5119990706443787],\"z\":[0.32317984104156494],\"type\":\"scatter3d\"},{\"hovertemplate\":\"color=not\\u003cbr\\u003e0=%{x}\\u003cbr\\u003e1=%{y}\\u003cbr\\u003e2=%{z}\\u003cextra\\u003e\\u003c\\u002fextra\\u003e\",\"legendgroup\":\"not\",\"marker\":{\"color\":\"#B6E880\",\"symbol\":\"circle\"},\"mode\":\"markers\",\"name\":\"not\",\"scene\":\"scene\",\"showlegend\":true,\"x\":[0.4601306617259979],\"y\":[0.5638023018836975],\"z\":[0.21902556717395782],\"type\":\"scatter3d\"},{\"hovertemplate\":\"color=but\\u003cbr\\u003e0=%{x}\\u003cbr\\u003e1=%{y}\\u003cbr\\u003e2=%{z}\\u003cextra\\u003e\\u003c\\u002fextra\\u003e\",\"legendgroup\":\"but\",\"marker\":{\"color\":\"#FF97FF\",\"symbol\":\"circle\"},\"mode\":\"markers\",\"name\":\"but\",\"scene\":\"scene\",\"showlegend\":true,\"x\":[0.2253136783838272],\"y\":[0.592979371547699],\"z\":[0.19877755641937256],\"type\":\"scatter3d\"},{\"hovertemplate\":\"color=for\\u003cbr\\u003e0=%{x}\\u003cbr\\u003e1=%{y}\\u003cbr\\u003e2=%{z}\\u003cextra\\u003e\\u003c\\u002fextra\\u003e\",\"legendgroup\":\"for\",\"marker\":{\"color\":\"#FECB52\",\"symbol\":\"circle\"},\"mode\":\"markers\",\"name\":\"for\",\"scene\":\"scene\",\"showlegend\":true,\"x\":[0.42904406785964966],\"y\":[0.4992579519748688],\"z\":[0.188648983836174],\"type\":\"scatter3d\"},{\"hovertemplate\":\"color=they\\u003cbr\\u003e0=%{x}\\u003cbr\\u003e1=%{y}\\u003cbr\\u003e2=%{z}\\u003cextra\\u003e\\u003c\\u002fextra\\u003e\",\"legendgroup\":\"they\",\"marker\":{\"color\":\"#636efa\",\"symbol\":\"circle\"},\"mode\":\"markers\",\"name\":\"they\",\"scene\":\"scene\",\"showlegend\":true,\"x\":[0.024232767522335052],\"y\":[0.6841191649436951],\"z\":[-0.04704837128520012],\"type\":\"scatter3d\"},{\"hovertemplate\":\"color=is\\u003cbr\\u003e0=%{x}\\u003cbr\\u003e1=%{y}\\u003cbr\\u003e2=%{z}\\u003cextra\\u003e\\u003c\\u002fextra\\u003e\",\"legendgroup\":\"is\",\"marker\":{\"color\":\"#EF553B\",\"symbol\":\"circle\"},\"mode\":\"markers\",\"name\":\"is\",\"scene\":\"scene\",\"showlegend\":true,\"x\":[0.5829358696937561],\"y\":[0.48100918531417847],\"z\":[0.1632271260023117],\"type\":\"scatter3d\"},{\"hovertemplate\":\"color=at\\u003cbr\\u003e0=%{x}\\u003cbr\\u003e1=%{y}\\u003cbr\\u003e2=%{z}\\u003cextra\\u003e\\u003c\\u002fextra\\u003e\",\"legendgroup\":\"at\",\"marker\":{\"color\":\"#00cc96\",\"symbol\":\"circle\"},\"mode\":\"markers\",\"name\":\"at\",\"scene\":\"scene\",\"showlegend\":true,\"x\":[0.04638378322124481],\"y\":[0.3918988108634949],\"z\":[0.32988694310188293],\"type\":\"scatter3d\"},{\"hovertemplate\":\"color=on\\u003cbr\\u003e0=%{x}\\u003cbr\\u003e1=%{y}\\u003cbr\\u003e2=%{z}\\u003cextra\\u003e\\u003c\\u002fextra\\u003e\",\"legendgroup\":\"on\",\"marker\":{\"color\":\"#ab63fa\",\"symbol\":\"circle\"},\"mode\":\"markers\",\"name\":\"on\",\"scene\":\"scene\",\"showlegend\":true,\"x\":[-0.1690799444913864],\"y\":[0.46155521273612976],\"z\":[0.25074756145477295],\"type\":\"scatter3d\"},{\"hovertemplate\":\"color=said\\u003cbr\\u003e0=%{x}\\u003cbr\\u003e1=%{y}\\u003cbr\\u003e2=%{z}\\u003cextra\\u003e\\u003c\\u002fextra\\u003e\",\"legendgroup\":\"said\",\"marker\":{\"color\":\"#FFA15A\",\"symbol\":\"circle\"},\"mode\":\"markers\",\"name\":\"said\",\"scene\":\"scene\",\"showlegend\":true,\"x\":[0.5575284361839294],\"y\":[0.4509933292865753],\"z\":[0.49240848422050476],\"type\":\"scatter3d\"},{\"hovertemplate\":\"color=my\\u003cbr\\u003e0=%{x}\\u003cbr\\u003e1=%{y}\\u003cbr\\u003e2=%{z}\\u003cextra\\u003e\\u003c\\u002fextra\\u003e\",\"legendgroup\":\"my\",\"marker\":{\"color\":\"#19d3f3\",\"symbol\":\"circle\"},\"mode\":\"markers\",\"name\":\"my\",\"scene\":\"scene\",\"showlegend\":true,\"x\":[0.48923709988594055],\"y\":[0.4708115756511688],\"z\":[0.20518940687179565],\"type\":\"scatter3d\"},{\"hovertemplate\":\"color=have\\u003cbr\\u003e0=%{x}\\u003cbr\\u003e1=%{y}\\u003cbr\\u003e2=%{z}\\u003cextra\\u003e\\u003c\\u002fextra\\u003e\",\"legendgroup\":\"have\",\"marker\":{\"color\":\"#FF6692\",\"symbol\":\"circle\"},\"mode\":\"markers\",\"name\":\"have\",\"scene\":\"scene\",\"showlegend\":true,\"x\":[0.41369980573654175],\"y\":[0.5917377471923828],\"z\":[0.15133264660835266],\"type\":\"scatter3d\"},{\"hovertemplate\":\"color=be\\u003cbr\\u003e0=%{x}\\u003cbr\\u003e1=%{y}\\u003cbr\\u003e2=%{z}\\u003cextra\\u003e\\u003c\\u002fextra\\u003e\",\"legendgroup\":\"be\",\"marker\":{\"color\":\"#B6E880\",\"symbol\":\"circle\"},\"mode\":\"markers\",\"name\":\"be\",\"scene\":\"scene\",\"showlegend\":true,\"x\":[0.3993208110332489],\"y\":[0.620110273361206],\"z\":[0.14648813009262085],\"type\":\"scatter3d\"},{\"hovertemplate\":\"color=lord\\u003cbr\\u003e0=%{x}\\u003cbr\\u003e1=%{y}\\u003cbr\\u003e2=%{z}\\u003cextra\\u003e\\u003c\\u002fextra\\u003e\",\"legendgroup\":\"lord\",\"marker\":{\"color\":\"#FF97FF\",\"symbol\":\"circle\"},\"mode\":\"markers\",\"name\":\"lord\",\"scene\":\"scene\",\"showlegend\":true,\"x\":[0.4676486849784851],\"y\":[0.42615219950675964],\"z\":[0.08909431844949722],\"type\":\"scatter3d\"},{\"hovertemplate\":\"color=them\\u003cbr\\u003e0=%{x}\\u003cbr\\u003e1=%{y}\\u003cbr\\u003e2=%{z}\\u003cextra\\u003e\\u003c\\u002fextra\\u003e\",\"legendgroup\":\"them\",\"marker\":{\"color\":\"#FECB52\",\"symbol\":\"circle\"},\"mode\":\"markers\",\"name\":\"them\",\"scene\":\"scene\",\"showlegend\":true,\"x\":[0.003057355061173439],\"y\":[0.6810306906700134],\"z\":[0.013972043991088867],\"type\":\"scatter3d\"},{\"hovertemplate\":\"color=no\\u003cbr\\u003e0=%{x}\\u003cbr\\u003e1=%{y}\\u003cbr\\u003e2=%{z}\\u003cextra\\u003e\\u003c\\u002fextra\\u003e\",\"legendgroup\":\"no\",\"marker\":{\"color\":\"#636efa\",\"symbol\":\"circle\"},\"mode\":\"markers\",\"name\":\"no\",\"scene\":\"scene\",\"showlegend\":true,\"x\":[0.39005452394485474],\"y\":[0.5398810505867004],\"z\":[0.07937362790107727],\"type\":\"scatter3d\"},{\"hovertemplate\":\"color=from\\u003cbr\\u003e0=%{x}\\u003cbr\\u003e1=%{y}\\u003cbr\\u003e2=%{z}\\u003cextra\\u003e\\u003c\\u002fextra\\u003e\",\"legendgroup\":\"from\",\"marker\":{\"color\":\"#EF553B\",\"symbol\":\"circle\"},\"mode\":\"markers\",\"name\":\"from\",\"scene\":\"scene\",\"showlegend\":true,\"x\":[-0.1865672916173935],\"y\":[0.4643750488758087],\"z\":[0.19515660405158997],\"type\":\"scatter3d\"},{\"hovertemplate\":\"color=would\\u003cbr\\u003e0=%{x}\\u003cbr\\u003e1=%{y}\\u003cbr\\u003e2=%{z}\\u003cextra\\u003e\\u003c\\u002fextra\\u003e\",\"legendgroup\":\"would\",\"marker\":{\"color\":\"#00cc96\",\"symbol\":\"circle\"},\"mode\":\"markers\",\"name\":\"would\",\"scene\":\"scene\",\"showlegend\":true,\"x\":[0.40242695808410645],\"y\":[0.5492023229598999],\"z\":[0.24668022990226746],\"type\":\"scatter3d\"},{\"hovertemplate\":\"color=were\\u003cbr\\u003e0=%{x}\\u003cbr\\u003e1=%{y}\\u003cbr\\u003e2=%{z}\\u003cextra\\u003e\\u003c\\u002fextra\\u003e\",\"legendgroup\":\"were\",\"marker\":{\"color\":\"#ab63fa\",\"symbol\":\"circle\"},\"mode\":\"markers\",\"name\":\"were\",\"scene\":\"scene\",\"showlegend\":true,\"x\":[-0.034605782479047775],\"y\":[0.5104460120201111],\"z\":[0.03803408145904541],\"type\":\"scatter3d\"},{\"hovertemplate\":\"color=me\\u003cbr\\u003e0=%{x}\\u003cbr\\u003e1=%{y}\\u003cbr\\u003e2=%{z}\\u003cextra\\u003e\\u003c\\u002fextra\\u003e\",\"legendgroup\":\"me\",\"marker\":{\"color\":\"#FFA15A\",\"symbol\":\"circle\"},\"mode\":\"markers\",\"name\":\"me\",\"scene\":\"scene\",\"showlegend\":true,\"x\":[0.504788875579834],\"y\":[0.5639020800590515],\"z\":[0.20288313925266266],\"type\":\"scatter3d\"},{\"hovertemplate\":\"color=your\\u003cbr\\u003e0=%{x}\\u003cbr\\u003e1=%{y}\\u003cbr\\u003e2=%{z}\\u003cextra\\u003e\\u003c\\u002fextra\\u003e\",\"legendgroup\":\"your\",\"marker\":{\"color\":\"#19d3f3\",\"symbol\":\"circle\"},\"mode\":\"markers\",\"name\":\"your\",\"scene\":\"scene\",\"showlegend\":true,\"x\":[0.4565231204032898],\"y\":[0.4721919596195221],\"z\":[0.18306657671928406],\"type\":\"scatter3d\"},{\"hovertemplate\":\"color=one\\u003cbr\\u003e0=%{x}\\u003cbr\\u003e1=%{y}\\u003cbr\\u003e2=%{z}\\u003cextra\\u003e\\u003c\\u002fextra\\u003e\",\"legendgroup\":\"one\",\"marker\":{\"color\":\"#FF6692\",\"symbol\":\"circle\"},\"mode\":\"markers\",\"name\":\"one\",\"scene\":\"scene\",\"showlegend\":true,\"x\":[0.06002002954483032],\"y\":[0.5819618105888367],\"z\":[0.13554981350898743],\"type\":\"scatter3d\"},{\"hovertemplate\":\"color=all\\u003cbr\\u003e0=%{x}\\u003cbr\\u003e1=%{y}\\u003cbr\\u003e2=%{z}\\u003cextra\\u003e\\u003c\\u002fextra\\u003e\",\"legendgroup\":\"all\",\"marker\":{\"color\":\"#B6E880\",\"symbol\":\"circle\"},\"mode\":\"markers\",\"name\":\"all\",\"scene\":\"scene\",\"showlegend\":true,\"x\":[0.22923269867897034],\"y\":[0.6894569396972656],\"z\":[0.001863831072114408],\"type\":\"scatter3d\"},{\"hovertemplate\":\"color=when\\u003cbr\\u003e0=%{x}\\u003cbr\\u003e1=%{y}\\u003cbr\\u003e2=%{z}\\u003cextra\\u003e\\u003c\\u002fextra\\u003e\",\"legendgroup\":\"when\",\"marker\":{\"color\":\"#FF97FF\",\"symbol\":\"circle\"},\"mode\":\"markers\",\"name\":\"when\",\"scene\":\"scene\",\"showlegend\":true,\"x\":[0.12137889117002487],\"y\":[0.5701852440834045],\"z\":[0.3159607946872711],\"type\":\"scatter3d\"},{\"hovertemplate\":\"color=will\\u003cbr\\u003e0=%{x}\\u003cbr\\u003e1=%{y}\\u003cbr\\u003e2=%{z}\\u003cextra\\u003e\\u003c\\u002fextra\\u003e\",\"legendgroup\":\"will\",\"marker\":{\"color\":\"#FECB52\",\"symbol\":\"circle\"},\"mode\":\"markers\",\"name\":\"will\",\"scene\":\"scene\",\"showlegend\":true,\"x\":[0.49596500396728516],\"y\":[0.5350923538208008],\"z\":[0.19502368569374084],\"type\":\"scatter3d\"},{\"hovertemplate\":\"color=ser\\u003cbr\\u003e0=%{x}\\u003cbr\\u003e1=%{y}\\u003cbr\\u003e2=%{z}\\u003cextra\\u003e\\u003c\\u002fextra\\u003e\",\"legendgroup\":\"ser\",\"marker\":{\"color\":\"#636efa\",\"symbol\":\"circle\"},\"mode\":\"markers\",\"name\":\"ser\",\"scene\":\"scene\",\"showlegend\":true,\"x\":[0.3883722424507141],\"y\":[0.2756294310092926],\"z\":[0.13865217566490173],\"type\":\"scatter3d\"},{\"hovertemplate\":\"color=if\\u003cbr\\u003e0=%{x}\\u003cbr\\u003e1=%{y}\\u003cbr\\u003e2=%{z}\\u003cextra\\u003e\\u003c\\u002fextra\\u003e\",\"legendgroup\":\"if\",\"marker\":{\"color\":\"#EF553B\",\"symbol\":\"circle\"},\"mode\":\"markers\",\"name\":\"if\",\"scene\":\"scene\",\"showlegend\":true,\"x\":[0.4046785533428192],\"y\":[0.6134088039398193],\"z\":[0.2969996929168701],\"type\":\"scatter3d\"},{\"hovertemplate\":\"color=so\\u003cbr\\u003e0=%{x}\\u003cbr\\u003e1=%{y}\\u003cbr\\u003e2=%{z}\\u003cextra\\u003e\\u003c\\u002fextra\\u003e\",\"legendgroup\":\"so\",\"marker\":{\"color\":\"#00cc96\",\"symbol\":\"circle\"},\"mode\":\"markers\",\"name\":\"so\",\"scene\":\"scene\",\"showlegend\":true,\"x\":[0.16260039806365967],\"y\":[0.5430052876472473],\"z\":[0.27979058027267456],\"type\":\"scatter3d\"},{\"hovertemplate\":\"color=their\\u003cbr\\u003e0=%{x}\\u003cbr\\u003e1=%{y}\\u003cbr\\u003e2=%{z}\\u003cextra\\u003e\\u003c\\u002fextra\\u003e\",\"legendgroup\":\"their\",\"marker\":{\"color\":\"#ab63fa\",\"symbol\":\"circle\"},\"mode\":\"markers\",\"name\":\"their\",\"scene\":\"scene\",\"showlegend\":true,\"x\":[-0.06467366218566895],\"y\":[0.5344460606575012],\"z\":[-0.16932228207588196],\"type\":\"scatter3d\"},{\"hovertemplate\":\"color=we\\u003cbr\\u003e0=%{x}\\u003cbr\\u003e1=%{y}\\u003cbr\\u003e2=%{z}\\u003cextra\\u003e\\u003c\\u002fextra\\u003e\",\"legendgroup\":\"we\",\"marker\":{\"color\":\"#FFA15A\",\"symbol\":\"circle\"},\"mode\":\"markers\",\"name\":\"we\",\"scene\":\"scene\",\"showlegend\":true,\"x\":[0.35934317111968994],\"y\":[0.7395392060279846],\"z\":[-0.007903003133833408],\"type\":\"scatter3d\"},{\"hovertemplate\":\"color=could\\u003cbr\\u003e0=%{x}\\u003cbr\\u003e1=%{y}\\u003cbr\\u003e2=%{z}\\u003cextra\\u003e\\u003c\\u002fextra\\u003e\",\"legendgroup\":\"could\",\"marker\":{\"color\":\"#19d3f3\",\"symbol\":\"circle\"},\"mode\":\"markers\",\"name\":\"could\",\"scene\":\"scene\",\"showlegend\":true,\"x\":[0.10563283413648605],\"y\":[0.495293527841568],\"z\":[0.269292950630188],\"type\":\"scatter3d\"},{\"hovertemplate\":\"color=are\\u003cbr\\u003e0=%{x}\\u003cbr\\u003e1=%{y}\\u003cbr\\u003e2=%{z}\\u003cextra\\u003e\\u003c\\u002fextra\\u003e\",\"legendgroup\":\"are\",\"marker\":{\"color\":\"#FF6692\",\"symbol\":\"circle\"},\"mode\":\"markers\",\"name\":\"are\",\"scene\":\"scene\",\"showlegend\":true,\"x\":[0.4189258813858032],\"y\":[0.5326725840568542],\"z\":[0.009258393198251724],\"type\":\"scatter3d\"},{\"hovertemplate\":\"color=man\\u003cbr\\u003e0=%{x}\\u003cbr\\u003e1=%{y}\\u003cbr\\u003e2=%{z}\\u003cextra\\u003e\\u003c\\u002fextra\\u003e\",\"legendgroup\":\"man\",\"marker\":{\"color\":\"#B6E880\",\"symbol\":\"circle\"},\"mode\":\"markers\",\"name\":\"man\",\"scene\":\"scene\",\"showlegend\":true,\"x\":[0.13218551874160767],\"y\":[0.48849186301231384],\"z\":[0.15595197677612305],\"type\":\"scatter3d\"},{\"hovertemplate\":\"color=there\\u003cbr\\u003e0=%{x}\\u003cbr\\u003e1=%{y}\\u003cbr\\u003e2=%{z}\\u003cextra\\u003e\\u003c\\u002fextra\\u003e\",\"legendgroup\":\"there\",\"marker\":{\"color\":\"#FF97FF\",\"symbol\":\"circle\"},\"mode\":\"markers\",\"name\":\"there\",\"scene\":\"scene\",\"showlegend\":true,\"x\":[0.08791419118642807],\"y\":[0.63308185338974],\"z\":[0.034563545137643814],\"type\":\"scatter3d\"},{\"hovertemplate\":\"color=this\\u003cbr\\u003e0=%{x}\\u003cbr\\u003e1=%{y}\\u003cbr\\u003e2=%{z}\\u003cextra\\u003e\\u003c\\u002fextra\\u003e\",\"legendgroup\":\"this\",\"marker\":{\"color\":\"#FECB52\",\"symbol\":\"circle\"},\"mode\":\"markers\",\"name\":\"this\",\"scene\":\"scene\",\"showlegend\":true,\"x\":[0.436484694480896],\"y\":[0.6040095090866089],\"z\":[0.10940078645944595],\"type\":\"scatter3d\"},{\"hovertemplate\":\"color=up\\u003cbr\\u003e0=%{x}\\u003cbr\\u003e1=%{y}\\u003cbr\\u003e2=%{z}\\u003cextra\\u003e\\u003c\\u002fextra\\u003e\",\"legendgroup\":\"up\",\"marker\":{\"color\":\"#636efa\",\"symbol\":\"circle\"},\"mode\":\"markers\",\"name\":\"up\",\"scene\":\"scene\",\"showlegend\":true,\"x\":[-0.3837389647960663],\"y\":[0.546257495880127],\"z\":[0.3398721516132355],\"type\":\"scatter3d\"},{\"hovertemplate\":\"color=been\\u003cbr\\u003e0=%{x}\\u003cbr\\u003e1=%{y}\\u003cbr\\u003e2=%{z}\\u003cextra\\u003e\\u003c\\u002fextra\\u003e\",\"legendgroup\":\"been\",\"marker\":{\"color\":\"#EF553B\",\"symbol\":\"circle\"},\"mode\":\"markers\",\"name\":\"been\",\"scene\":\"scene\",\"showlegend\":true,\"x\":[0.19988201558589935],\"y\":[0.5350226759910583],\"z\":[0.1512547880411148],\"type\":\"scatter3d\"},{\"hovertemplate\":\"color=what\\u003cbr\\u003e0=%{x}\\u003cbr\\u003e1=%{y}\\u003cbr\\u003e2=%{z}\\u003cextra\\u003e\\u003c\\u002fextra\\u003e\",\"legendgroup\":\"what\",\"marker\":{\"color\":\"#00cc96\",\"symbol\":\"circle\"},\"mode\":\"markers\",\"name\":\"what\",\"scene\":\"scene\",\"showlegend\":true,\"x\":[0.40180113911628723],\"y\":[0.5939354300498962],\"z\":[0.10490313172340393],\"type\":\"scatter3d\"},{\"hovertemplate\":\"color=did\\u003cbr\\u003e0=%{x}\\u003cbr\\u003e1=%{y}\\u003cbr\\u003e2=%{z}\\u003cextra\\u003e\\u003c\\u002fextra\\u003e\",\"legendgroup\":\"did\",\"marker\":{\"color\":\"#ab63fa\",\"symbol\":\"circle\"},\"mode\":\"markers\",\"name\":\"did\",\"scene\":\"scene\",\"showlegend\":true,\"x\":[0.37832894921302795],\"y\":[0.4475705623626709],\"z\":[0.3898678421974182],\"type\":\"scatter3d\"},{\"hovertemplate\":\"color=by\\u003cbr\\u003e0=%{x}\\u003cbr\\u003e1=%{y}\\u003cbr\\u003e2=%{z}\\u003cextra\\u003e\\u003c\\u002fextra\\u003e\",\"legendgroup\":\"by\",\"marker\":{\"color\":\"#FFA15A\",\"symbol\":\"circle\"},\"mode\":\"markers\",\"name\":\"by\",\"scene\":\"scene\",\"showlegend\":true,\"x\":[0.022207465022802353],\"y\":[0.4460334777832031],\"z\":[0.029650678858160973],\"type\":\"scatter3d\"},{\"hovertemplate\":\"color=king\\u003cbr\\u003e0=%{x}\\u003cbr\\u003e1=%{y}\\u003cbr\\u003e2=%{z}\\u003cextra\\u003e\\u003c\\u002fextra\\u003e\",\"legendgroup\":\"king\",\"marker\":{\"color\":\"#19d3f3\",\"symbol\":\"circle\"},\"mode\":\"markers\",\"name\":\"king\",\"scene\":\"scene\",\"showlegend\":true,\"x\":[0.40519100427627563],\"y\":[0.6558322310447693],\"z\":[0.0661318376660347],\"type\":\"scatter3d\"},{\"hovertemplate\":\"color=do\\u003cbr\\u003e0=%{x}\\u003cbr\\u003e1=%{y}\\u003cbr\\u003e2=%{z}\\u003cextra\\u003e\\u003c\\u002fextra\\u003e\",\"legendgroup\":\"do\",\"marker\":{\"color\":\"#FF6692\",\"symbol\":\"circle\"},\"mode\":\"markers\",\"name\":\"do\",\"scene\":\"scene\",\"showlegend\":true,\"x\":[0.5425899624824524],\"y\":[0.5301927924156189],\"z\":[0.3013365566730499],\"type\":\"scatter3d\"},{\"hovertemplate\":\"color=men\\u003cbr\\u003e0=%{x}\\u003cbr\\u003e1=%{y}\\u003cbr\\u003e2=%{z}\\u003cextra\\u003e\\u003c\\u002fextra\\u003e\",\"legendgroup\":\"men\",\"marker\":{\"color\":\"#B6E880\",\"symbol\":\"circle\"},\"mode\":\"markers\",\"name\":\"men\",\"scene\":\"scene\",\"showlegend\":true,\"x\":[0.10395026206970215],\"y\":[0.7412727475166321],\"z\":[-0.20684270560741425],\"type\":\"scatter3d\"},{\"hovertemplate\":\"color=back\\u003cbr\\u003e0=%{x}\\u003cbr\\u003e1=%{y}\\u003cbr\\u003e2=%{z}\\u003cextra\\u003e\\u003c\\u002fextra\\u003e\",\"legendgroup\":\"back\",\"marker\":{\"color\":\"#FF97FF\",\"symbol\":\"circle\"},\"mode\":\"markers\",\"name\":\"back\",\"scene\":\"scene\",\"showlegend\":true,\"x\":[-0.15903672575950623],\"y\":[0.59574955701828],\"z\":[0.484681099653244],\"type\":\"scatter3d\"},{\"hovertemplate\":\"color=out\\u003cbr\\u003e0=%{x}\\u003cbr\\u003e1=%{y}\\u003cbr\\u003e2=%{z}\\u003cextra\\u003e\\u003c\\u002fextra\\u003e\",\"legendgroup\":\"out\",\"marker\":{\"color\":\"#FECB52\",\"symbol\":\"circle\"},\"mode\":\"markers\",\"name\":\"out\",\"scene\":\"scene\",\"showlegend\":true,\"x\":[-0.23069779574871063],\"y\":[0.552620530128479],\"z\":[0.3435211777687073],\"type\":\"scatter3d\"},{\"hovertemplate\":\"color=more\\u003cbr\\u003e0=%{x}\\u003cbr\\u003e1=%{y}\\u003cbr\\u003e2=%{z}\\u003cextra\\u003e\\u003c\\u002fextra\\u003e\",\"legendgroup\":\"more\",\"marker\":{\"color\":\"#636efa\",\"symbol\":\"circle\"},\"mode\":\"markers\",\"name\":\"more\",\"scene\":\"scene\",\"showlegend\":true,\"x\":[0.23615355789661407],\"y\":[0.5588448643684387],\"z\":[0.05728119611740112],\"type\":\"scatter3d\"},{\"hovertemplate\":\"color=or\\u003cbr\\u003e0=%{x}\\u003cbr\\u003e1=%{y}\\u003cbr\\u003e2=%{z}\\u003cextra\\u003e\\u003c\\u002fextra\\u003e\",\"legendgroup\":\"or\",\"marker\":{\"color\":\"#EF553B\",\"symbol\":\"circle\"},\"mode\":\"markers\",\"name\":\"or\",\"scene\":\"scene\",\"showlegend\":true,\"x\":[0.34960657358169556],\"y\":[0.5720939040184021],\"z\":[0.07830822467803955],\"type\":\"scatter3d\"},{\"hovertemplate\":\"color=who\\u003cbr\\u003e0=%{x}\\u003cbr\\u003e1=%{y}\\u003cbr\\u003e2=%{z}\\u003cextra\\u003e\\u003c\\u002fextra\\u003e\",\"legendgroup\":\"who\",\"marker\":{\"color\":\"#00cc96\",\"symbol\":\"circle\"},\"mode\":\"markers\",\"name\":\"who\",\"scene\":\"scene\",\"showlegend\":true,\"x\":[0.44790175557136536],\"y\":[0.6114413738250732],\"z\":[-0.08337892591953278],\"type\":\"scatter3d\"},{\"hovertemplate\":\"color=down\\u003cbr\\u003e0=%{x}\\u003cbr\\u003e1=%{y}\\u003cbr\\u003e2=%{z}\\u003cextra\\u003e\\u003c\\u002fextra\\u003e\",\"legendgroup\":\"down\",\"marker\":{\"color\":\"#ab63fa\",\"symbol\":\"circle\"},\"mode\":\"markers\",\"name\":\"down\",\"scene\":\"scene\",\"showlegend\":true,\"x\":[-0.42198705673217773],\"y\":[0.5735403895378113],\"z\":[0.38866543769836426],\"type\":\"scatter3d\"},{\"hovertemplate\":\"color=well\\u003cbr\\u003e0=%{x}\\u003cbr\\u003e1=%{y}\\u003cbr\\u003e2=%{z}\\u003cextra\\u003e\\u003c\\u002fextra\\u003e\",\"legendgroup\":\"well\",\"marker\":{\"color\":\"#FFA15A\",\"symbol\":\"circle\"},\"mode\":\"markers\",\"name\":\"well\",\"scene\":\"scene\",\"showlegend\":true,\"x\":[0.34342411160469055],\"y\":[0.5646304488182068],\"z\":[0.07082486152648926],\"type\":\"scatter3d\"},{\"hovertemplate\":\"color=than\\u003cbr\\u003e0=%{x}\\u003cbr\\u003e1=%{y}\\u003cbr\\u003e2=%{z}\\u003cextra\\u003e\\u003c\\u002fextra\\u003e\",\"legendgroup\":\"than\",\"marker\":{\"color\":\"#19d3f3\",\"symbol\":\"circle\"},\"mode\":\"markers\",\"name\":\"than\",\"scene\":\"scene\",\"showlegend\":true,\"x\":[0.19503839313983917],\"y\":[0.4631026089191437],\"z\":[0.166067972779274],\"type\":\"scatter3d\"},{\"hovertemplate\":\"color=only\\u003cbr\\u003e0=%{x}\\u003cbr\\u003e1=%{y}\\u003cbr\\u003e2=%{z}\\u003cextra\\u003e\\u003c\\u002fextra\\u003e\",\"legendgroup\":\"only\",\"marker\":{\"color\":\"#FF6692\",\"symbol\":\"circle\"},\"mode\":\"markers\",\"name\":\"only\",\"scene\":\"scene\",\"showlegend\":true,\"x\":[0.28156349062919617],\"y\":[0.5713205933570862],\"z\":[0.06154903396964073],\"type\":\"scatter3d\"},{\"hovertemplate\":\"color=like\\u003cbr\\u003e0=%{x}\\u003cbr\\u003e1=%{y}\\u003cbr\\u003e2=%{z}\\u003cextra\\u003e\\u003c\\u002fextra\\u003e\",\"legendgroup\":\"like\",\"marker\":{\"color\":\"#B6E880\",\"symbol\":\"circle\"},\"mode\":\"markers\",\"name\":\"like\",\"scene\":\"scene\",\"showlegend\":true,\"x\":[-0.0794006884098053],\"y\":[0.35478129982948303],\"z\":[0.24501293897628784],\"type\":\"scatter3d\"},{\"hovertemplate\":\"color=jon\\u003cbr\\u003e0=%{x}\\u003cbr\\u003e1=%{y}\\u003cbr\\u003e2=%{z}\\u003cextra\\u003e\\u003c\\u002fextra\\u003e\",\"legendgroup\":\"jon\",\"marker\":{\"color\":\"#FF97FF\",\"symbol\":\"circle\"},\"mode\":\"markers\",\"name\":\"jon\",\"scene\":\"scene\",\"showlegend\":true,\"x\":[0.07199204713106155],\"y\":[0.3919057548046112],\"z\":[0.24692583084106445],\"type\":\"scatter3d\"},{\"hovertemplate\":\"color=some\\u003cbr\\u003e0=%{x}\\u003cbr\\u003e1=%{y}\\u003cbr\\u003e2=%{z}\\u003cextra\\u003e\\u003c\\u002fextra\\u003e\",\"legendgroup\":\"some\",\"marker\":{\"color\":\"#FECB52\",\"symbol\":\"circle\"},\"mode\":\"markers\",\"name\":\"some\",\"scene\":\"scene\",\"showlegend\":true,\"x\":[0.14464570581912994],\"y\":[0.52448570728302],\"z\":[-0.15113291144371033],\"type\":\"scatter3d\"},{\"hovertemplate\":\"color=father\\u003cbr\\u003e0=%{x}\\u003cbr\\u003e1=%{y}\\u003cbr\\u003e2=%{z}\\u003cextra\\u003e\\u003c\\u002fextra\\u003e\",\"legendgroup\":\"father\",\"marker\":{\"color\":\"#636efa\",\"symbol\":\"circle\"},\"mode\":\"markers\",\"name\":\"father\",\"scene\":\"scene\",\"showlegend\":true,\"x\":[0.5143100023269653],\"y\":[0.6261205077171326],\"z\":[0.1897987723350525],\"type\":\"scatter3d\"},{\"hovertemplate\":\"color=old\\u003cbr\\u003e0=%{x}\\u003cbr\\u003e1=%{y}\\u003cbr\\u003e2=%{z}\\u003cextra\\u003e\\u003c\\u002fextra\\u003e\",\"legendgroup\":\"old\",\"marker\":{\"color\":\"#EF553B\",\"symbol\":\"circle\"},\"mode\":\"markers\",\"name\":\"old\",\"scene\":\"scene\",\"showlegend\":true,\"x\":[0.17115838825702667],\"y\":[0.395451158285141],\"z\":[-0.009763470850884914],\"type\":\"scatter3d\"},{\"hovertemplate\":\"color=hand\\u003cbr\\u003e0=%{x}\\u003cbr\\u003e1=%{y}\\u003cbr\\u003e2=%{z}\\u003cextra\\u003e\\u003c\\u002fextra\\u003e\",\"legendgroup\":\"hand\",\"marker\":{\"color\":\"#00cc96\",\"symbol\":\"circle\"},\"mode\":\"markers\",\"name\":\"hand\",\"scene\":\"scene\",\"showlegend\":true,\"x\":[-0.022076603025197983],\"y\":[0.49074819684028625],\"z\":[0.4909035861492157],\"type\":\"scatter3d\"},{\"hovertemplate\":\"color=even\\u003cbr\\u003e0=%{x}\\u003cbr\\u003e1=%{y}\\u003cbr\\u003e2=%{z}\\u003cextra\\u003e\\u003c\\u002fextra\\u003e\",\"legendgroup\":\"even\",\"marker\":{\"color\":\"#ab63fa\",\"symbol\":\"circle\"},\"mode\":\"markers\",\"name\":\"even\",\"scene\":\"scene\",\"showlegend\":true,\"x\":[0.19547715783119202],\"y\":[0.5246615409851074],\"z\":[0.052355192601680756],\"type\":\"scatter3d\"},{\"hovertemplate\":\"color=too\\u003cbr\\u003e0=%{x}\\u003cbr\\u003e1=%{y}\\u003cbr\\u003e2=%{z}\\u003cextra\\u003e\\u003c\\u002fextra\\u003e\",\"legendgroup\":\"too\",\"marker\":{\"color\":\"#FFA15A\",\"symbol\":\"circle\"},\"mode\":\"markers\",\"name\":\"too\",\"scene\":\"scene\",\"showlegend\":true,\"x\":[0.2412019819021225],\"y\":[0.4540221691131592],\"z\":[0.19509847462177277],\"type\":\"scatter3d\"},{\"hovertemplate\":\"color=tyrion\\u003cbr\\u003e0=%{x}\\u003cbr\\u003e1=%{y}\\u003cbr\\u003e2=%{z}\\u003cextra\\u003e\\u003c\\u002fextra\\u003e\",\"legendgroup\":\"tyrion\",\"marker\":{\"color\":\"#19d3f3\",\"symbol\":\"circle\"},\"mode\":\"markers\",\"name\":\"tyrion\",\"scene\":\"scene\",\"showlegend\":true,\"x\":[0.17452099919319153],\"y\":[0.2552727162837982],\"z\":[0.35249677300453186],\"type\":\"scatter3d\"},{\"hovertemplate\":\"color=before\\u003cbr\\u003e0=%{x}\\u003cbr\\u003e1=%{y}\\u003cbr\\u003e2=%{z}\\u003cextra\\u003e\\u003c\\u002fextra\\u003e\",\"legendgroup\":\"before\",\"marker\":{\"color\":\"#FF6692\",\"symbol\":\"circle\"},\"mode\":\"markers\",\"name\":\"before\",\"scene\":\"scene\",\"showlegend\":true,\"x\":[0.13174355030059814],\"y\":[0.6482474207878113],\"z\":[0.29958826303482056],\"type\":\"scatter3d\"},{\"hovertemplate\":\"color=never\\u003cbr\\u003e0=%{x}\\u003cbr\\u003e1=%{y}\\u003cbr\\u003e2=%{z}\\u003cextra\\u003e\\u003c\\u002fextra\\u003e\",\"legendgroup\":\"never\",\"marker\":{\"color\":\"#B6E880\",\"symbol\":\"circle\"},\"mode\":\"markers\",\"name\":\"never\",\"scene\":\"scene\",\"showlegend\":true,\"x\":[0.48592355847358704],\"y\":[0.5470162630081177],\"z\":[0.26566261053085327],\"type\":\"scatter3d\"},{\"hovertemplate\":\"color=an\\u003cbr\\u003e0=%{x}\\u003cbr\\u003e1=%{y}\\u003cbr\\u003e2=%{z}\\u003cextra\\u003e\\u003c\\u002fextra\\u003e\",\"legendgroup\":\"an\",\"marker\":{\"color\":\"#FF97FF\",\"symbol\":\"circle\"},\"mode\":\"markers\",\"name\":\"an\",\"scene\":\"scene\",\"showlegend\":true,\"x\":[0.054051969200372696],\"y\":[0.32109174132347107],\"z\":[0.08458651602268219],\"type\":\"scatter3d\"},{\"hovertemplate\":\"color=off\\u003cbr\\u003e0=%{x}\\u003cbr\\u003e1=%{y}\\u003cbr\\u003e2=%{z}\\u003cextra\\u003e\\u003c\\u002fextra\\u003e\",\"legendgroup\":\"off\",\"marker\":{\"color\":\"#FECB52\",\"symbol\":\"circle\"},\"mode\":\"markers\",\"name\":\"off\",\"scene\":\"scene\",\"showlegend\":true,\"x\":[-0.2634156346321106],\"y\":[0.4113096594810486],\"z\":[0.4496564567089081],\"type\":\"scatter3d\"},{\"hovertemplate\":\"color=see\\u003cbr\\u003e0=%{x}\\u003cbr\\u003e1=%{y}\\u003cbr\\u003e2=%{z}\\u003cextra\\u003e\\u003c\\u002fextra\\u003e\",\"legendgroup\":\"see\",\"marker\":{\"color\":\"#636efa\",\"symbol\":\"circle\"},\"mode\":\"markers\",\"name\":\"see\",\"scene\":\"scene\",\"showlegend\":true,\"x\":[0.17807868123054504],\"y\":[0.6349613666534424],\"z\":[0.3767704963684082],\"type\":\"scatter3d\"},{\"hovertemplate\":\"color=know\\u003cbr\\u003e0=%{x}\\u003cbr\\u003e1=%{y}\\u003cbr\\u003e2=%{z}\\u003cextra\\u003e\\u003c\\u002fextra\\u003e\",\"legendgroup\":\"know\",\"marker\":{\"color\":\"#EF553B\",\"symbol\":\"circle\"},\"mode\":\"markers\",\"name\":\"know\",\"scene\":\"scene\",\"showlegend\":true,\"x\":[0.5644276142120361],\"y\":[0.5372036695480347],\"z\":[0.21338723599910736],\"type\":\"scatter3d\"},{\"hovertemplate\":\"color=into\\u003cbr\\u003e0=%{x}\\u003cbr\\u003e1=%{y}\\u003cbr\\u003e2=%{z}\\u003cextra\\u003e\\u003c\\u002fextra\\u003e\",\"legendgroup\":\"into\",\"marker\":{\"color\":\"#00cc96\",\"symbol\":\"circle\"},\"mode\":\"markers\",\"name\":\"into\",\"scene\":\"scene\",\"showlegend\":true,\"x\":[-0.37436607480049133],\"y\":[0.40943628549575806],\"z\":[0.3923940360546112],\"type\":\"scatter3d\"},{\"hovertemplate\":\"color=made\\u003cbr\\u003e0=%{x}\\u003cbr\\u003e1=%{y}\\u003cbr\\u003e2=%{z}\\u003cextra\\u003e\\u003c\\u002fextra\\u003e\",\"legendgroup\":\"made\",\"marker\":{\"color\":\"#ab63fa\",\"symbol\":\"circle\"},\"mode\":\"markers\",\"name\":\"made\",\"scene\":\"scene\",\"showlegend\":true,\"x\":[0.044048260897397995],\"y\":[0.34428343176841736],\"z\":[0.4041670560836792],\"type\":\"scatter3d\"},{\"hovertemplate\":\"color=now\\u003cbr\\u003e0=%{x}\\u003cbr\\u003e1=%{y}\\u003cbr\\u003e2=%{z}\\u003cextra\\u003e\\u003c\\u002fextra\\u003e\",\"legendgroup\":\"now\",\"marker\":{\"color\":\"#FFA15A\",\"symbol\":\"circle\"},\"mode\":\"markers\",\"name\":\"now\",\"scene\":\"scene\",\"showlegend\":true,\"x\":[0.3528859317302704],\"y\":[0.6584655046463013],\"z\":[0.18375536799430847],\"type\":\"scatter3d\"},{\"hovertemplate\":\"color=eyes\\u003cbr\\u003e0=%{x}\\u003cbr\\u003e1=%{y}\\u003cbr\\u003e2=%{z}\\u003cextra\\u003e\\u003c\\u002fextra\\u003e\",\"legendgroup\":\"eyes\",\"marker\":{\"color\":\"#19d3f3\",\"symbol\":\"circle\"},\"mode\":\"markers\",\"name\":\"eyes\",\"scene\":\"scene\",\"showlegend\":true,\"x\":[-0.14151832461357117],\"y\":[0.4822068214416504],\"z\":[0.37805142998695374],\"type\":\"scatter3d\"},{\"hovertemplate\":\"color=black\\u003cbr\\u003e0=%{x}\\u003cbr\\u003e1=%{y}\\u003cbr\\u003e2=%{z}\\u003cextra\\u003e\\u003c\\u002fextra\\u003e\",\"legendgroup\":\"black\",\"marker\":{\"color\":\"#FF6692\",\"symbol\":\"circle\"},\"mode\":\"markers\",\"name\":\"black\",\"scene\":\"scene\",\"showlegend\":true,\"x\":[-0.3732592463493347],\"y\":[0.3733956813812256],\"z\":[-0.07559940218925476],\"type\":\"scatter3d\"},{\"hovertemplate\":\"color=told\\u003cbr\\u003e0=%{x}\\u003cbr\\u003e1=%{y}\\u003cbr\\u003e2=%{z}\\u003cextra\\u003e\\u003c\\u002fextra\\u003e\",\"legendgroup\":\"told\",\"marker\":{\"color\":\"#B6E880\",\"symbol\":\"circle\"},\"mode\":\"markers\",\"name\":\"told\",\"scene\":\"scene\",\"showlegend\":true,\"x\":[0.4719085395336151],\"y\":[0.5394002795219421],\"z\":[0.4766193926334381],\"type\":\"scatter3d\"},{\"hovertemplate\":\"color=lady\\u003cbr\\u003e0=%{x}\\u003cbr\\u003e1=%{y}\\u003cbr\\u003e2=%{z}\\u003cextra\\u003e\\u003c\\u002fextra\\u003e\",\"legendgroup\":\"lady\",\"marker\":{\"color\":\"#FF97FF\",\"symbol\":\"circle\"},\"mode\":\"markers\",\"name\":\"lady\",\"scene\":\"scene\",\"showlegend\":true,\"x\":[0.5487520098686218],\"y\":[0.3228554129600525],\"z\":[0.190032497048378],\"type\":\"scatter3d\"},{\"hovertemplate\":\"color=thought\\u003cbr\\u003e0=%{x}\\u003cbr\\u003e1=%{y}\\u003cbr\\u003e2=%{z}\\u003cextra\\u003e\\u003c\\u002fextra\\u003e\",\"legendgroup\":\"thought\",\"marker\":{\"color\":\"#FECB52\",\"symbol\":\"circle\"},\"mode\":\"markers\",\"name\":\"thought\",\"scene\":\"scene\",\"showlegend\":true,\"x\":[0.36077049374580383],\"y\":[0.5507826805114746],\"z\":[0.5106786489486694],\"type\":\"scatter3d\"},{\"hovertemplate\":\"color=time\\u003cbr\\u003e0=%{x}\\u003cbr\\u003e1=%{y}\\u003cbr\\u003e2=%{z}\\u003cextra\\u003e\\u003c\\u002fextra\\u003e\",\"legendgroup\":\"time\",\"marker\":{\"color\":\"#636efa\",\"symbol\":\"circle\"},\"mode\":\"markers\",\"name\":\"time\",\"scene\":\"scene\",\"showlegend\":true,\"x\":[0.08163509517908096],\"y\":[0.6888493895530701],\"z\":[0.3370356261730194],\"type\":\"scatter3d\"},{\"hovertemplate\":\"color=then\\u003cbr\\u003e0=%{x}\\u003cbr\\u003e1=%{y}\\u003cbr\\u003e2=%{z}\\u003cextra\\u003e\\u003c\\u002fextra\\u003e\",\"legendgroup\":\"then\",\"marker\":{\"color\":\"#EF553B\",\"symbol\":\"circle\"},\"mode\":\"markers\",\"name\":\"then\",\"scene\":\"scene\",\"showlegend\":true,\"x\":[-0.07599738985300064],\"y\":[0.5024923086166382],\"z\":[0.498714804649353],\"type\":\"scatter3d\"},{\"hovertemplate\":\"color=how\\u003cbr\\u003e0=%{x}\\u003cbr\\u003e1=%{y}\\u003cbr\\u003e2=%{z}\\u003cextra\\u003e\\u003c\\u002fextra\\u003e\",\"legendgroup\":\"how\",\"marker\":{\"color\":\"#00cc96\",\"symbol\":\"circle\"},\"mode\":\"markers\",\"name\":\"how\",\"scene\":\"scene\",\"showlegend\":true,\"x\":[0.3939254581928253],\"y\":[0.5290458798408508],\"z\":[0.22197161614894867],\"type\":\"scatter3d\"},{\"hovertemplate\":\"color=long\\u003cbr\\u003e0=%{x}\\u003cbr\\u003e1=%{y}\\u003cbr\\u003e2=%{z}\\u003cextra\\u003e\\u003c\\u002fextra\\u003e\",\"legendgroup\":\"long\",\"marker\":{\"color\":\"#ab63fa\",\"symbol\":\"circle\"},\"mode\":\"markers\",\"name\":\"long\",\"scene\":\"scene\",\"showlegend\":true,\"x\":[-0.14662383496761322],\"y\":[0.5301234126091003],\"z\":[0.09593072533607483],\"type\":\"scatter3d\"},{\"hovertemplate\":\"color=has\\u003cbr\\u003e0=%{x}\\u003cbr\\u003e1=%{y}\\u003cbr\\u003e2=%{z}\\u003cextra\\u003e\\u003c\\u002fextra\\u003e\",\"legendgroup\":\"has\",\"marker\":{\"color\":\"#FFA15A\",\"symbol\":\"circle\"},\"mode\":\"markers\",\"name\":\"has\",\"scene\":\"scene\",\"showlegend\":true,\"x\":[0.5209961533546448],\"y\":[0.48373347520828247],\"z\":[0.08794619143009186],\"type\":\"scatter3d\"},{\"hovertemplate\":\"color=can\\u003cbr\\u003e0=%{x}\\u003cbr\\u003e1=%{y}\\u003cbr\\u003e2=%{z}\\u003cextra\\u003e\\u003c\\u002fextra\\u003e\",\"legendgroup\":\"can\",\"marker\":{\"color\":\"#19d3f3\",\"symbol\":\"circle\"},\"mode\":\"markers\",\"name\":\"can\",\"scene\":\"scene\",\"showlegend\":true,\"x\":[0.4054439067840576],\"y\":[0.5017129778862],\"z\":[0.18899068236351013],\"type\":\"scatter3d\"},{\"hovertemplate\":\"color=might\\u003cbr\\u003e0=%{x}\\u003cbr\\u003e1=%{y}\\u003cbr\\u003e2=%{z}\\u003cextra\\u003e\\u003c\\u002fextra\\u003e\",\"legendgroup\":\"might\",\"marker\":{\"color\":\"#FF6692\",\"symbol\":\"circle\"},\"mode\":\"markers\",\"name\":\"might\",\"scene\":\"scene\",\"showlegend\":true,\"x\":[0.40735700726509094],\"y\":[0.4488527774810791],\"z\":[0.22747080028057098],\"type\":\"scatter3d\"},{\"hovertemplate\":\"color=us\\u003cbr\\u003e0=%{x}\\u003cbr\\u003e1=%{y}\\u003cbr\\u003e2=%{z}\\u003cextra\\u003e\\u003c\\u002fextra\\u003e\",\"legendgroup\":\"us\",\"marker\":{\"color\":\"#B6E880\",\"symbol\":\"circle\"},\"mode\":\"markers\",\"name\":\"us\",\"scene\":\"scene\",\"showlegend\":true,\"x\":[0.43986520171165466],\"y\":[0.722158670425415],\"z\":[-0.051896244287490845],\"type\":\"scatter3d\"},{\"hovertemplate\":\"color=come\\u003cbr\\u003e0=%{x}\\u003cbr\\u003e1=%{y}\\u003cbr\\u003e2=%{z}\\u003cextra\\u003e\\u003c\\u002fextra\\u003e\",\"legendgroup\":\"come\",\"marker\":{\"color\":\"#FF97FF\",\"symbol\":\"circle\"},\"mode\":\"markers\",\"name\":\"come\",\"scene\":\"scene\",\"showlegend\":true,\"x\":[0.3481607139110565],\"y\":[0.7949139475822449],\"z\":[0.2653123736381531],\"type\":\"scatter3d\"},{\"hovertemplate\":\"color=where\\u003cbr\\u003e0=%{x}\\u003cbr\\u003e1=%{y}\\u003cbr\\u003e2=%{z}\\u003cextra\\u003e\\u003c\\u002fextra\\u003e\",\"legendgroup\":\"where\",\"marker\":{\"color\":\"#FECB52\",\"symbol\":\"circle\"},\"mode\":\"markers\",\"name\":\"where\",\"scene\":\"scene\",\"showlegend\":true,\"x\":[-0.128214031457901],\"y\":[0.6288825273513794],\"z\":[0.08438853919506073],\"type\":\"scatter3d\"}],                        {\"template\":{\"data\":{\"histogram2dcontour\":[{\"type\":\"histogram2dcontour\",\"colorbar\":{\"outlinewidth\":0,\"ticks\":\"\"},\"colorscale\":[[0.0,\"#0d0887\"],[0.1111111111111111,\"#46039f\"],[0.2222222222222222,\"#7201a8\"],[0.3333333333333333,\"#9c179e\"],[0.4444444444444444,\"#bd3786\"],[0.5555555555555556,\"#d8576b\"],[0.6666666666666666,\"#ed7953\"],[0.7777777777777778,\"#fb9f3a\"],[0.8888888888888888,\"#fdca26\"],[1.0,\"#f0f921\"]]}],\"choropleth\":[{\"type\":\"choropleth\",\"colorbar\":{\"outlinewidth\":0,\"ticks\":\"\"}}],\"histogram2d\":[{\"type\":\"histogram2d\",\"colorbar\":{\"outlinewidth\":0,\"ticks\":\"\"},\"colorscale\":[[0.0,\"#0d0887\"],[0.1111111111111111,\"#46039f\"],[0.2222222222222222,\"#7201a8\"],[0.3333333333333333,\"#9c179e\"],[0.4444444444444444,\"#bd3786\"],[0.5555555555555556,\"#d8576b\"],[0.6666666666666666,\"#ed7953\"],[0.7777777777777778,\"#fb9f3a\"],[0.8888888888888888,\"#fdca26\"],[1.0,\"#f0f921\"]]}],\"heatmap\":[{\"type\":\"heatmap\",\"colorbar\":{\"outlinewidth\":0,\"ticks\":\"\"},\"colorscale\":[[0.0,\"#0d0887\"],[0.1111111111111111,\"#46039f\"],[0.2222222222222222,\"#7201a8\"],[0.3333333333333333,\"#9c179e\"],[0.4444444444444444,\"#bd3786\"],[0.5555555555555556,\"#d8576b\"],[0.6666666666666666,\"#ed7953\"],[0.7777777777777778,\"#fb9f3a\"],[0.8888888888888888,\"#fdca26\"],[1.0,\"#f0f921\"]]}],\"heatmapgl\":[{\"type\":\"heatmapgl\",\"colorbar\":{\"outlinewidth\":0,\"ticks\":\"\"},\"colorscale\":[[0.0,\"#0d0887\"],[0.1111111111111111,\"#46039f\"],[0.2222222222222222,\"#7201a8\"],[0.3333333333333333,\"#9c179e\"],[0.4444444444444444,\"#bd3786\"],[0.5555555555555556,\"#d8576b\"],[0.6666666666666666,\"#ed7953\"],[0.7777777777777778,\"#fb9f3a\"],[0.8888888888888888,\"#fdca26\"],[1.0,\"#f0f921\"]]}],\"contourcarpet\":[{\"type\":\"contourcarpet\",\"colorbar\":{\"outlinewidth\":0,\"ticks\":\"\"}}],\"contour\":[{\"type\":\"contour\",\"colorbar\":{\"outlinewidth\":0,\"ticks\":\"\"},\"colorscale\":[[0.0,\"#0d0887\"],[0.1111111111111111,\"#46039f\"],[0.2222222222222222,\"#7201a8\"],[0.3333333333333333,\"#9c179e\"],[0.4444444444444444,\"#bd3786\"],[0.5555555555555556,\"#d8576b\"],[0.6666666666666666,\"#ed7953\"],[0.7777777777777778,\"#fb9f3a\"],[0.8888888888888888,\"#fdca26\"],[1.0,\"#f0f921\"]]}],\"surface\":[{\"type\":\"surface\",\"colorbar\":{\"outlinewidth\":0,\"ticks\":\"\"},\"colorscale\":[[0.0,\"#0d0887\"],[0.1111111111111111,\"#46039f\"],[0.2222222222222222,\"#7201a8\"],[0.3333333333333333,\"#9c179e\"],[0.4444444444444444,\"#bd3786\"],[0.5555555555555556,\"#d8576b\"],[0.6666666666666666,\"#ed7953\"],[0.7777777777777778,\"#fb9f3a\"],[0.8888888888888888,\"#fdca26\"],[1.0,\"#f0f921\"]]}],\"mesh3d\":[{\"type\":\"mesh3d\",\"colorbar\":{\"outlinewidth\":0,\"ticks\":\"\"}}],\"scatter\":[{\"fillpattern\":{\"fillmode\":\"overlay\",\"size\":10,\"solidity\":0.2},\"type\":\"scatter\"}],\"parcoords\":[{\"type\":\"parcoords\",\"line\":{\"colorbar\":{\"outlinewidth\":0,\"ticks\":\"\"}}}],\"scatterpolargl\":[{\"type\":\"scatterpolargl\",\"marker\":{\"colorbar\":{\"outlinewidth\":0,\"ticks\":\"\"}}}],\"bar\":[{\"error_x\":{\"color\":\"#2a3f5f\"},\"error_y\":{\"color\":\"#2a3f5f\"},\"marker\":{\"line\":{\"color\":\"#E5ECF6\",\"width\":0.5},\"pattern\":{\"fillmode\":\"overlay\",\"size\":10,\"solidity\":0.2}},\"type\":\"bar\"}],\"scattergeo\":[{\"type\":\"scattergeo\",\"marker\":{\"colorbar\":{\"outlinewidth\":0,\"ticks\":\"\"}}}],\"scatterpolar\":[{\"type\":\"scatterpolar\",\"marker\":{\"colorbar\":{\"outlinewidth\":0,\"ticks\":\"\"}}}],\"histogram\":[{\"marker\":{\"pattern\":{\"fillmode\":\"overlay\",\"size\":10,\"solidity\":0.2}},\"type\":\"histogram\"}],\"scattergl\":[{\"type\":\"scattergl\",\"marker\":{\"colorbar\":{\"outlinewidth\":0,\"ticks\":\"\"}}}],\"scatter3d\":[{\"type\":\"scatter3d\",\"line\":{\"colorbar\":{\"outlinewidth\":0,\"ticks\":\"\"}},\"marker\":{\"colorbar\":{\"outlinewidth\":0,\"ticks\":\"\"}}}],\"scattermapbox\":[{\"type\":\"scattermapbox\",\"marker\":{\"colorbar\":{\"outlinewidth\":0,\"ticks\":\"\"}}}],\"scatterternary\":[{\"type\":\"scatterternary\",\"marker\":{\"colorbar\":{\"outlinewidth\":0,\"ticks\":\"\"}}}],\"scattercarpet\":[{\"type\":\"scattercarpet\",\"marker\":{\"colorbar\":{\"outlinewidth\":0,\"ticks\":\"\"}}}],\"carpet\":[{\"aaxis\":{\"endlinecolor\":\"#2a3f5f\",\"gridcolor\":\"white\",\"linecolor\":\"white\",\"minorgridcolor\":\"white\",\"startlinecolor\":\"#2a3f5f\"},\"baxis\":{\"endlinecolor\":\"#2a3f5f\",\"gridcolor\":\"white\",\"linecolor\":\"white\",\"minorgridcolor\":\"white\",\"startlinecolor\":\"#2a3f5f\"},\"type\":\"carpet\"}],\"table\":[{\"cells\":{\"fill\":{\"color\":\"#EBF0F8\"},\"line\":{\"color\":\"white\"}},\"header\":{\"fill\":{\"color\":\"#C8D4E3\"},\"line\":{\"color\":\"white\"}},\"type\":\"table\"}],\"barpolar\":[{\"marker\":{\"line\":{\"color\":\"#E5ECF6\",\"width\":0.5},\"pattern\":{\"fillmode\":\"overlay\",\"size\":10,\"solidity\":0.2}},\"type\":\"barpolar\"}],\"pie\":[{\"automargin\":true,\"type\":\"pie\"}]},\"layout\":{\"autotypenumbers\":\"strict\",\"colorway\":[\"#636efa\",\"#EF553B\",\"#00cc96\",\"#ab63fa\",\"#FFA15A\",\"#19d3f3\",\"#FF6692\",\"#B6E880\",\"#FF97FF\",\"#FECB52\"],\"font\":{\"color\":\"#2a3f5f\"},\"hovermode\":\"closest\",\"hoverlabel\":{\"align\":\"left\"},\"paper_bgcolor\":\"white\",\"plot_bgcolor\":\"#E5ECF6\",\"polar\":{\"bgcolor\":\"#E5ECF6\",\"angularaxis\":{\"gridcolor\":\"white\",\"linecolor\":\"white\",\"ticks\":\"\"},\"radialaxis\":{\"gridcolor\":\"white\",\"linecolor\":\"white\",\"ticks\":\"\"}},\"ternary\":{\"bgcolor\":\"#E5ECF6\",\"aaxis\":{\"gridcolor\":\"white\",\"linecolor\":\"white\",\"ticks\":\"\"},\"baxis\":{\"gridcolor\":\"white\",\"linecolor\":\"white\",\"ticks\":\"\"},\"caxis\":{\"gridcolor\":\"white\",\"linecolor\":\"white\",\"ticks\":\"\"}},\"coloraxis\":{\"colorbar\":{\"outlinewidth\":0,\"ticks\":\"\"}},\"colorscale\":{\"sequential\":[[0.0,\"#0d0887\"],[0.1111111111111111,\"#46039f\"],[0.2222222222222222,\"#7201a8\"],[0.3333333333333333,\"#9c179e\"],[0.4444444444444444,\"#bd3786\"],[0.5555555555555556,\"#d8576b\"],[0.6666666666666666,\"#ed7953\"],[0.7777777777777778,\"#fb9f3a\"],[0.8888888888888888,\"#fdca26\"],[1.0,\"#f0f921\"]],\"sequentialminus\":[[0.0,\"#0d0887\"],[0.1111111111111111,\"#46039f\"],[0.2222222222222222,\"#7201a8\"],[0.3333333333333333,\"#9c179e\"],[0.4444444444444444,\"#bd3786\"],[0.5555555555555556,\"#d8576b\"],[0.6666666666666666,\"#ed7953\"],[0.7777777777777778,\"#fb9f3a\"],[0.8888888888888888,\"#fdca26\"],[1.0,\"#f0f921\"]],\"diverging\":[[0,\"#8e0152\"],[0.1,\"#c51b7d\"],[0.2,\"#de77ae\"],[0.3,\"#f1b6da\"],[0.4,\"#fde0ef\"],[0.5,\"#f7f7f7\"],[0.6,\"#e6f5d0\"],[0.7,\"#b8e186\"],[0.8,\"#7fbc41\"],[0.9,\"#4d9221\"],[1,\"#276419\"]]},\"xaxis\":{\"gridcolor\":\"white\",\"linecolor\":\"white\",\"ticks\":\"\",\"title\":{\"standoff\":15},\"zerolinecolor\":\"white\",\"automargin\":true,\"zerolinewidth\":2},\"yaxis\":{\"gridcolor\":\"white\",\"linecolor\":\"white\",\"ticks\":\"\",\"title\":{\"standoff\":15},\"zerolinecolor\":\"white\",\"automargin\":true,\"zerolinewidth\":2},\"scene\":{\"xaxis\":{\"backgroundcolor\":\"#E5ECF6\",\"gridcolor\":\"white\",\"linecolor\":\"white\",\"showbackground\":true,\"ticks\":\"\",\"zerolinecolor\":\"white\",\"gridwidth\":2},\"yaxis\":{\"backgroundcolor\":\"#E5ECF6\",\"gridcolor\":\"white\",\"linecolor\":\"white\",\"showbackground\":true,\"ticks\":\"\",\"zerolinecolor\":\"white\",\"gridwidth\":2},\"zaxis\":{\"backgroundcolor\":\"#E5ECF6\",\"gridcolor\":\"white\",\"linecolor\":\"white\",\"showbackground\":true,\"ticks\":\"\",\"zerolinecolor\":\"white\",\"gridwidth\":2}},\"shapedefaults\":{\"line\":{\"color\":\"#2a3f5f\"}},\"annotationdefaults\":{\"arrowcolor\":\"#2a3f5f\",\"arrowhead\":0,\"arrowwidth\":1},\"geo\":{\"bgcolor\":\"white\",\"landcolor\":\"#E5ECF6\",\"subunitcolor\":\"white\",\"showland\":true,\"showlakes\":true,\"lakecolor\":\"white\"},\"title\":{\"x\":0.05},\"mapbox\":{\"style\":\"light\"}}},\"scene\":{\"domain\":{\"x\":[0.0,1.0],\"y\":[0.0,1.0]},\"xaxis\":{\"title\":{\"text\":\"0\"}},\"yaxis\":{\"title\":{\"text\":\"1\"}},\"zaxis\":{\"title\":{\"text\":\"2\"}}},\"legend\":{\"title\":{\"text\":\"color\"},\"tracegroupgap\":0},\"margin\":{\"t\":60}},                        {\"responsive\": true}                    ).then(function(){\n                            \nvar gd = document.getElementById('1898ec52-a5e1-42b5-958f-592097bcb7cb');\nvar x = new MutationObserver(function (mutations, observer) {{\n        var display = window.getComputedStyle(gd).display;\n        if (!display || display === 'none') {{\n            console.log([gd, 'removed!']);\n            Plotly.purge(gd);\n            observer.disconnect();\n        }}\n}});\n\n// Listen for the removal of the full notebook cells\nvar notebookContainer = gd.closest('#notebook-container');\nif (notebookContainer) {{\n    x.observe(notebookContainer, {childList: true});\n}}\n\n// Listen for the clearing of the current output cell\nvar outputEl = gd.closest('.output');\nif (outputEl) {{\n    x.observe(outputEl, {childList: true});\n}}\n\n                        })                };                });            </script>        </div>"
     },
     "metadata": {},
     "output_type": "display_data"
    }
   ],
   "source": [
    "import plotly.express as px\n",
    "\n",
    "fig = px.scatter_3d(X[:100],\n",
    "                    x = 0,\n",
    "                    y = 1,\n",
    "                    z = 2,\n",
    "                    color = y[:100])    # --> Specifies the color of each data point\n",
    "\n",
    "fig.show(width=2000, height=1800)"
   ],
   "metadata": {
    "collapsed": false,
    "ExecuteTime": {
     "end_time": "2023-10-20T09:21:31.848551300Z",
     "start_time": "2023-10-20T09:21:31.545583800Z"
    }
   }
  },
  {
   "cell_type": "markdown",
   "source": [
    "### **Doc2Vec Word model**\n",
    "\n",
    "**Doc2Vec is an extension of the Word2Vec model that is used for generating vector representations of documents**. While Word2Vec generates vector representations for individual words, **Doc2Vec generates vector representations for entire documents, including sentences, paragraphs, or even entire articles**.\n",
    "\n",
    "Here's how Doc2Vec works:\n",
    "\n",
    "- **Paragraph Vector**:\n",
    "    In Doc2Vec, **each document is represented as a unique vector**. This vector is sometimes referred to as a \"paragraph vector\" or \"document vector\". It captures the semantics and context of the entire document.\n",
    "\n",
    "- **Similarity and Operations**:\n",
    "    **Doc2Vec allows you to compute similarity between documents and perform operations similar to Word2Vec**. For example, you can find documents similar to a given document, or find the document that best matches a set of words.\n",
    "\n",
    "- **Two Training Models**:\n",
    "    Like Word2Vec, **Doc2Vec has two training models: Distributed Memory (DM) and Distributed Bag of Words (DBOW)**.\n",
    "        - **Distributed Memory (DM)**: This model tries to predict a word based on its context and the entire document. It takes into account both the document and the surrounding context when generating the paragraph vector.\n",
    "        - **Distributed Bag of Words (DBOW)**: This model tries to predict a word based solely on the document. It doesn't take context into account, only the content of the document itself.\n",
    "\n",
    "- **Combining Word Vectors**:\n",
    "    **In** the **DM model, word vectors and document vectors are combined to make predictions**. This allows the model to capture both the semantics of individual words and the context of the entire document.\n",
    "\n",
    "- **Training Process**:\n",
    "    The training process **involves updating the vectors to minimize the prediction errors**. **The model learns to generate accurate vectors that can predict words or documents within the given context**.\n",
    "\n",
    "- **Applications**:\n",
    "    Doc2Vec is used in a **wide range of applications, including document classification, sentiment analysis, information retrieval, and recommendation systems**.\n",
    "\n",
    "- **Gensim Implementation**:\n",
    "    Gensim is a popular Python library for training and using Doc2Vec models. It provides an easy-to-use interface for creating and working with document vectors."
   ],
   "metadata": {
    "collapsed": false
   }
  },
  {
   "cell_type": "markdown",
   "source": [
    "### <a id='4-2-2'>4.2.2 GloVe Word Embeddings</a>"
   ],
   "metadata": {
    "collapsed": false
   }
  },
  {
   "cell_type": "markdown",
   "source": [
    "**GloVe (Global Vectors for Word Representation)** is an unsupervised learning algorithm for generating word embeddings. It was introduced by researchers at Stanford University and was launched in 2014. The **main objective** of GloVe is to **create word vectors (embeddings) that represent the semantic relationships between words**. These vectors are numerical representations of words in a continuous vector space.\n",
    "\n",
    "**Co-occurrence Matrix**:\n",
    "- **GloVe starts by constructing a co-occurrence matrix from a large corpus of text**. This matrix captures how often words co-occur with each other within a specified context window. Rows and columns correspond to words, and each cell contains the number of times the word in the row occurs in the context of the word in the column.\n",
    "\n",
    "**Optimization Objective**:\n",
    "- GloVe aims to learn word embeddings in such a way that their dot product equals the logarithm of the words' co-occurrence probabilities. The objective function combines the information from the co-occurrence matrix to achieve this goal.\n",
    "\n",
    "**Training Process**:\n",
    "- The training process of GloVe involves **minimizing the loss function** that quantifies the difference between the predicted co-occurrence probabilities and the actual probabilities in the co-occurrence matrix.\n",
    "\n",
    "**Word Similarities**:\n",
    "- **Once trained, GloVe embeddings place words with similar meanings close to each other in the vector space**. This enables operations like word analogy tasks (e.g., \"king\" - \"man\" + \"woman\" = \"queen\") and finding semantically related words.\n",
    "\n",
    "**Dimensionality**:\n",
    "- **GloVe allows users to specify the desired dimensionality of the resulting word vectors**. For example, a common choice is 50, 100, or 300 dimensions.\n",
    "\n",
    "**Pre-trained Models**:\n",
    "- Pre-trained GloVe models are available for a wide range of languages and can be used for various NLP tasks. These models have been trained on large text corpora and capture general linguistic patterns.\n",
    "\n",
    "**Applications**:\n",
    "- GloVe embeddings are used in a variety of NLP tasks, including **sentiment analysis**, **machine translation**, **question answering**, and more.\n",
    "\n",
    "**Advantages**:\n",
    "- GloVe is known for its **efficiency and ability to capture both syntactic and semantic relationships between words**.\n",
    "\n",
    "**Limitations**:\n",
    "- GloVe does **not capture polysemy** (multiple meanings of a word) as effectively as some other models. Additionally, it may struggle with rare words or words not present in the training corpus.\n",
    "\n",
    "For detailed knowledge about GloVe Word Embedding, refer to [this article](https://towardsdatascience.com/light-on-math-ml-intuitive-guide-to-understanding-glove-embeddings-b13b4f19c010)\n",
    "\n",
    "---\n",
    "\n",
    "**Advantages of Glove**:\n",
    "1. The goal of Glove is very straightforward, i.e., to enforce the word vectors to capture sub-linear relationships in the vector space. Thus, it proves to perform better than Word2vec in the word analogy tasks.\n",
    "2. Glove adds some more practical meaning to word vectors by considering the relationships between word pair and word pair rather than word and word.\n",
    "3. Glove gives lower weight for highly frequent word pairs to prevent the meaningless stop words like “the”, “an” will not dominating the training progress.\n",
    "\n",
    "**Disadvantages of Glove**:\n",
    "1. The model is trained on the co-occurrence matrix of words, which takes a lot of memory for storage. Especially, if you change the hyper-parameters related to the co-occurrence matrix, you have to reconstruct the matrix again, which is very time-consuming.\n",
    "\n",
    "Advantages and disadvantages can be found in [this site](https://www.quora.com/What-are-the-advantages-and-disadvantages-of-Word2vec-and-GloVe)\n",
    "\n",
    "2. Like the Word2Vec, can not deal directly with the OOV.\n",
    "---\n",
    "**Differences between GloVe and Word2Vec Embeddings**\n",
    "\n",
    "The first important aspect in the comparison between Glove and Word2Vec is the advantage that GloVe have where, **unlike Word2vec, GloVe does not rely just on local statistics (local context information of words), but incorporates global statistics (word co-occurrence) to obtain word vectors**. Thus, The GloVe can be used to find relations between words like synonyms, company-product relations, zip codes, and cities, etc. This is way, based on the NLP current task, we need sometimes to use GloVe instead of Word2Vec: Word2Vec relies only on local information of language, that is, the semantics learned for a given word, are only affected by the surrounding words.\n",
    "\n",
    "**Both Word2vec and Glove do not solve the problems like**:\n",
    "1. How to learn the representation for out-of-vocabulary words.\n",
    "2. How to separate some opposite word pairs. For example, “good” and “bad” are usually located very close to each other in the vector space, which may limit the performance of word vectors in NLP tasks like sentiment analysis.\n",
    "\n",
    "---\n",
    "\n",
    "**<span style=\"color:red\"> Illustrated example of GloVe Word Embedding </span>**\n",
    "\n",
    "Lets take the sentence: <span style=\"font-size: 20px;\"> The cat sat on the mat </span>\n",
    "\n",
    "Word2Vec can not capture information like:\n",
    "- is \"the\" a special context of the words \"cat\" and \"mat\"\n",
    "\n",
    "or\n",
    "\n",
    "- is \"the\" just a stopword?\n",
    "\n",
    "GloVe method is built on an important idea, You can derive semantic relationships between words from the *co-occurrence matrix*. Given a corpus having $V$ words, the co-occurrence matrix $X$ will be a $V\\times V$ matrix, where the $i-\\text{th}$ row and $j-\\text{th}$ column of $X$, $X_ij$ denotes how many times the word $i$ has co-occurred with word $j$. An example co-occurrence matrix might look as follows.\n",
    "\n",
    "![Co_occurrenceMatrix](GloVe_coocurrenceMatrix.png)\n",
    "\n",
    "This is the co-occurrence matrix for the sentence \"the cat sat on the mat\" with a window size of 1. You can observe that it is a symmetric matrix."
   ],
   "metadata": {
    "collapsed": false
   }
  },
  {
   "cell_type": "markdown",
   "source": [
    "**`glove2word2vec`**: function from the **glove2word2vec** script in the Gensim library. This function is used to convert GloVe embeddings to Word2Vec format.\n",
    "\n"
   ],
   "metadata": {
    "collapsed": false
   }
  },
  {
   "cell_type": "markdown",
   "source": [
    "**Use of the **`glove2word2vec`** utility from Gensim to convert pre-trained GloVe word embeddings to the Word2Vec format.**\n",
    "\n",
    "After running the code, a file named *glove.6B.100d.txt.word2vec* should be created in the directory set in Glove_path. This file will contain the word embeddings in the Word2Vec format, making them compatible with Gensim's Word2Vec models."
   ],
   "metadata": {
    "collapsed": false
   }
  },
  {
   "cell_type": "code",
   "execution_count": 83,
   "outputs": [
    {
     "data": {
      "text/plain": "(400000, 100)"
     },
     "execution_count": 83,
     "metadata": {},
     "output_type": "execute_result"
    }
   ],
   "source": [
    "from gensim.scripts.glove2word2vec import glove2word2vec\n",
    "\n",
    "# Assign a file path to the variable 'Glove_path'. This should point to the location of your GloVe embeddings file (glove.6B.100d.txt in this case).\n",
    "Glove_path = \"D:/git/Laboratory/NLP/Learning_NLP/data/glove.6B.100d.txt\"\n",
    "\n",
    "# Set the name of the output file after conversion\n",
    "word2vec_output_file = 'glove.6B.100d.txt.word2vec'\n",
    "\n",
    "# Apply the function 'glove2word2vec' to convert the embeddings and save them in Word2Vec format.\n",
    "glove2word2vec(Glove_path, word2vec_output_file)        # 'Glove_path' is the path and 'word2vec_output_file' is the desired output file name"
   ],
   "metadata": {
    "collapsed": false,
    "ExecuteTime": {
     "end_time": "2023-10-20T12:22:44.489848900Z",
     "start_time": "2023-10-20T12:21:11.391687700Z"
    }
   }
  },
  {
   "cell_type": "markdown",
   "source": [
    "**Load the pre-trained GloVe word vectors. The Glove_model can be use to perform various operations on the vectors, such as finding similar words or performing vector arithmetic:**"
   ],
   "metadata": {
    "collapsed": false
   }
  },
  {
   "cell_type": "code",
   "execution_count": 84,
   "outputs": [],
   "source": [
    "# Load the Stanford GloVe model\n",
    "\n",
    "# assigns a string to a variable\n",
    "filename = './glove.6B.100d.txt.word2vec'               # Assign the string './glove.6B.100d.txt.word2vec' to the variable 'filename'\n",
    "\n",
    "# Load the pre-trained GloVe_model as an instance of KeyedVectors\n",
    "Glove_model = KeyedVectors.load_word2vec_format(filename,            # file path of the GloVe word vectors file in Word2Vec format.\n",
    "                                                binary = False)      # indicates that the file is not in binary format. In this case, GloVe vectors are usually stored in plain text format"
   ],
   "metadata": {
    "collapsed": false,
    "ExecuteTime": {
     "end_time": "2023-10-20T12:56:45.793024400Z",
     "start_time": "2023-10-20T12:56:32.113402300Z"
    }
   }
  },
  {
   "cell_type": "markdown",
   "source": [
    "Performing some operations with the pre-trained model **Glove_model**:"
   ],
   "metadata": {
    "collapsed": false
   }
  },
  {
   "cell_type": "code",
   "execution_count": 85,
   "outputs": [
    {
     "name": "stdout",
     "output_type": "stream",
     "text": [
      "Most similar words to word \"human\" : \n"
     ]
    },
    {
     "data": {
      "text/plain": "[('animal', 0.7462460398674011),\n ('rights', 0.7322573661804199),\n ('humans', 0.6607711911201477),\n ('animals', 0.6567643284797668),\n ('body', 0.6552972197532654),\n ('nature', 0.6483666896820068),\n ('beings', 0.6467736959457397),\n ('organization', 0.6319881081581116),\n ('scientific', 0.630841076374054),\n ('common', 0.6211239099502563)]"
     },
     "execution_count": 85,
     "metadata": {},
     "output_type": "execute_result"
    }
   ],
   "source": [
    "print('Most similar words to word \"human\" : ')\n",
    "Glove_model.most_similar('human')"
   ],
   "metadata": {
    "collapsed": false,
    "ExecuteTime": {
     "end_time": "2023-10-20T12:58:49.435606700Z",
     "start_time": "2023-10-20T12:58:49.341973Z"
    }
   }
  },
  {
   "cell_type": "code",
   "execution_count": 86,
   "outputs": [
    {
     "name": "stdout",
     "output_type": "stream",
     "text": [
      "Glove Word Embedding of word \"human\":\n"
     ]
    },
    {
     "data": {
      "text/plain": "array([ 3.3864e-01,  5.9663e-01,  5.3322e-01,  3.1404e-01,  1.5321e-01,\n        3.1749e-01, -4.2940e-01, -2.9150e-01, -2.1047e-03, -3.9309e-01,\n       -8.5441e-01, -8.0708e-02,  1.2118e+00,  6.9316e-02,  8.0613e-03,\n        8.7888e-01,  3.1908e-02,  5.8655e-01, -5.4892e-01, -7.8468e-03,\n        1.7327e-01, -2.6693e-01,  4.2802e-01,  6.6123e-02,  5.1847e-01,\n        7.7226e-01,  2.0608e-01, -4.5836e-01,  3.5485e-01,  7.1547e-01,\n        6.0855e-01,  2.0254e-01, -4.8756e-01,  5.7974e-01,  8.6728e-02,\n       -5.1852e-01, -3.7274e-01,  1.0014e+00, -2.9259e-01,  3.2290e-01,\n       -9.7563e-01, -2.2288e-01, -2.3335e-01, -2.6891e-01,  1.4612e-01,\n        1.2004e-01, -2.0402e-01, -9.4647e-02, -1.5402e+00, -5.9510e-02,\n        1.0887e+00, -2.4998e-01, -2.5808e-01,  1.2798e+00, -1.2849e-01,\n       -1.4511e+00, -2.4686e-01, -9.5046e-02,  1.7425e+00,  1.1977e-01,\n       -1.9206e-01,  4.4368e-01, -1.6453e-01, -7.6663e-01,  1.1100e+00,\n        4.6748e-01, -2.4673e-02,  4.7179e-03,  6.9761e-01, -2.2975e-01,\n        6.4385e-01, -8.9847e-02,  7.8711e-02, -4.1255e-02,  5.3239e-01,\n       -3.9945e-01, -4.6565e-01, -2.7601e-01, -1.5407e+00,  5.3639e-01,\n        5.0511e-01,  9.7199e-01,  1.2057e-01,  6.1720e-01, -2.1424e+00,\n        6.6596e-01,  3.7060e-01,  2.6115e-01, -1.3408e-01, -3.9319e-01,\n        6.3069e-01, -5.4047e-01,  1.5467e-01,  4.0616e-01,  1.0424e-01,\n       -4.7552e-02, -8.1695e-01, -1.1976e+00,  6.9475e-01, -1.9884e-01],\n      dtype=float32)"
     },
     "execution_count": 86,
     "metadata": {},
     "output_type": "execute_result"
    }
   ],
   "source": [
    "print('Glove Word Embedding of word \"human\":')\n",
    "Glove_model['human']"
   ],
   "metadata": {
    "collapsed": false,
    "ExecuteTime": {
     "end_time": "2023-10-20T13:00:05.009580300Z",
     "start_time": "2023-10-20T13:00:04.999091400Z"
    }
   }
  },
  {
   "cell_type": "markdown",
   "source": [],
   "metadata": {
    "collapsed": false
   }
  },
  {
   "cell_type": "markdown",
   "source": [
    "### <a id='4-2-3'>4.2.3 FastText Word Embedding</a>"
   ],
   "metadata": {
    "collapsed": false
   }
  },
  {
   "cell_type": "markdown",
   "source": [
    "    **FastText** is an extension of the Word2Vec model developed by Facebook's AI Research (FAIR) lab. While Word2Vec operates at the word level, FastText **operates at the subword level**.\n",
    "**FastText is a powerful tool** for working with text data, especially **in scenarios where you need to handle rare or out-of-vocabulary words**. It has found wide applications in NLP research and industry settings.\n",
    "\n",
    "- *Subword Embeddings*:\n",
    "    FastText breaks words into smaller units called **\"subwords\"** or **\"n-grams\"**. For example, the word \"fast\" can be represented as *\"fa\"*, *\"ast\"*, and *\"fast\"*. This allows **FastText to capture morphological information and handle out-of-vocabulary words**.\n",
    "<br>\n",
    "\n",
    "- *Character-level Embeddings*:\n",
    "    **FastText also considers individual characters as special n-grams**, which means it can **generate embeddings for words even if they are not present in the training data**.\n",
    "<br>\n",
    "\n",
    "- *Handling Rare Words*:\n",
    "    FastText is particularly **effective at handling rare words, misspellings, and noisy text data**, as it can generate embeddings for subwords and characters even if they haven't been seen before.\n",
    "<br>\n",
    "\n",
    "- *Pre-trained Models*:\n",
    "    **Pre-trained FastText models are available for multiple languages and domains**. These models have been trained on large text corpora and can be used in various NLP tasks.\n",
    "<br>\n",
    "\n",
    "- *Training Objective*:\n",
    "    **FastText aims to predict the next word in a sentence given its preceding words**. This is similar to Word2Vec's Skip-gram model, but FastText considers subwords instead of entire words. To prepare the training data, you define the \"context word\" as the word that follows a given word (that will be your \"target word\"). This means you will predict the surrounding word for a given word.\n",
    "<br>\n",
    "\n",
    "- *Efficiency*:\n",
    "    FastText is known for its efficiency in training and generating embeddings, even for very large datasets.\n",
    "<br>\n",
    "\n",
    "- *Applications*:\n",
    "    FastText embeddings can be used in various NLP applications such as **text classification, sentiment analysis, machine translation, and more**.\n",
    "<br>\n",
    "\n",
    "- *Similarity and Arithmetic Operations*:\n",
    "    Like Word2Vec, you can perform operations like **finding similar words or performing vector arithmetic with FastText embeddings**.\n",
    "<br>\n",
    "\n",
    "- *Supervised Learning*:\n",
    "    **FastText can also be used for supervised tasks, where it learns to predict labels from input text**. This makes it a versatile tool for various NLP tasks.\n",
    "<br>\n",
    "\n",
    "- *Usage in Gensim*:\n",
    "    **You can use the Gensim library to train and work with FastText models**. Gensim provides an easy-to-use interface for training and using FastText embeddings.\n",
    "\n",
    "---\n",
    "- **Advantages**:\n",
    "    - *Subword Information*: FastText can handle out-of-vocabulary words and rare words effectively by breaking them down into subword units (n-grams). This allows it to capture morphological information.\n",
    "    - *Character-level Embeddings*: It considers individual characters as special n-grams, which means it can generate embeddings for words even if they are not present in the training data.\n",
    "    - *Efficient Handling of Rare Words*: FastText is particularly effective at handling rare words, misspellings, and noisy text data.\n",
    "    - *Language Agnostic*: It can work well with multiple languages and handle a wide variety of languages effectively.\n",
    "    - *Pre-trained Models*: Pre-trained FastText models are available for various languages and domains, making it easy to leverage existing embeddings.\n",
    "    - *Supervised Learning*: FastText can be used for supervised tasks where it learns to predict labels from input text. This makes it a versatile tool for various NLP tasks.\n",
    "    - *Training Efficiency*: FastText is known for its efficiency in training and generating embeddings, even for very large datasets.\n",
    "\n",
    "- **Disadvantages**:\n",
    "    - *Increased Memory Consumption*: Due to the subword information and character-level embeddings, FastText models can be memory-intensive compared to traditional word embeddings.\n",
    "\n",
    "    - *Slower Prediction Time*: While training is efficient, predicting word vectors can be slower compared to models like Word2Vec.\n",
    "\n",
    "    - *Difficulty in Interpretation*: The subword information can make the interpretation of embeddings more complex compared to traditional word embeddings.\n",
    "\n",
    "    - *Lack of Context Awareness*: FastText may not capture contextual information as well as more sophisticated models like contextual embeddings (e.g., BERT).\n",
    "\n",
    "    - *Dependency on Parameter Tuning*: The performance of FastText can be sensitive to parameter choices, so fine-tuning may be required for optimal results.\n",
    "\n",
    "    - *May Not Be Ideal for All Tasks*: While FastText is versatile, there are specialized models (e.g., BERT for contextual understanding) that may outperform it in specific NLP tasks.\n",
    "---\n",
    "\n",
    "**<span style=\"color:red\"> Example:</span>**\n",
    "\n",
    "Lets construct some training examples where,by scanning through the text, I wil prepare a \"context word\" and a \"target word\" according to Skip-Gram and FastText methodologie:\n",
    "\n",
    "Consider the sentence:\n",
    "<blockquote style=\"font-size: 20px;\"> <b> I like natural language processing </b> </blockquote>\n",
    "\n",
    "![FastText_example](figures/FastText_example.png)\n",
    "\n",
    "Based on the training examples of Skip-Gram and FastText, you observe that in Skip-Gram each word is represented as a bag of words, while in FastText each word is represented as a bag of character n-grams. This training data preparation is the only difference between FastText word embeddings and Skip-Gram (or CBOW) word embeddings."
   ],
   "metadata": {
    "collapsed": false
   }
  },
  {
   "cell_type": "markdown",
   "source": [
    "### **<span style=\"color:blue\"> Pre-trained FastText model**\n",
    "I will use the **pre-trained** vectors storaged in **Word vectors trained on Wikipedia 2017, UMBC webbase corpus, and statmt.org** dataset. In total, it contains 16B tokens.\n",
    "\n"
   ],
   "metadata": {
    "collapsed": false
   }
  },
  {
   "cell_type": "code",
   "execution_count": 8,
   "outputs": [
    {
     "name": "stdout",
     "output_type": "stream",
     "text": [
      "D:\\git\\Laboratory\\NLP\\Learning_NLP\n",
      "Most similar words to word 'human': \n"
     ]
    },
    {
     "data": {
      "text/plain": "[('non-human', 0.7691742181777954),\n ('Human', 0.7620595693588257),\n ('nonhuman', 0.7084148526191711),\n ('beings', 0.7024695873260498),\n ('humans', 0.6974276304244995),\n ('animal', 0.6924618482589722),\n ('humanity', 0.6476197838783264),\n ('human-', 0.6355127692222595),\n ('mammalian', 0.6191367506980896),\n ('natural', 0.6171244978904724)]"
     },
     "execution_count": 8,
     "metadata": {},
     "output_type": "execute_result"
    }
   ],
   "source": [
    "from gensim.models.fasttext import load_facebook_model    # ---> The function \"load_facebook_model\" is used to load pre-trained FastText word embeddings trained using Facebook's FastText library.\n",
    "\n",
    "from gensim.models import FastText, KeyedVectors\n",
    "\n",
    "# Print the working directory\n",
    "print(os.getcwd())\n",
    "\n",
    "# assigns a string to a variable\n",
    "filename = './data/wiki-news-300d-1M.vec'\n",
    "\n",
    "# Load the pre-trained GloVe_model as an instance of KeyedVectors\n",
    "fasttext_model = KeyedVectors.load_word2vec_format(filename)\n",
    "\n",
    "print(\"Most similar words to word 'human': \")\n",
    "fasttext_model.most_similar('human')"
   ],
   "metadata": {
    "collapsed": false,
    "ExecuteTime": {
     "end_time": "2023-10-23T10:49:46.258927900Z",
     "start_time": "2023-10-23T10:48:11.174813500Z"
    }
   }
  },
  {
   "cell_type": "code",
   "execution_count": 9,
   "outputs": [
    {
     "name": "stdout",
     "output_type": "stream",
     "text": [
      "fastText Word Embeddings of word 'human' \n"
     ]
    },
    {
     "data": {
      "text/plain": "array([ 8.800e-03, -1.230e-02,  3.650e-02,  1.136e-01, -8.000e-03,\n        1.574e-01,  9.080e-02,  1.293e-01, -1.400e-03,  1.081e-01,\n       -8.610e-02, -3.450e-02, -5.610e-02,  3.300e-03, -4.000e-04,\n        1.650e-02,  8.540e-02,  4.670e-02, -1.632e-01,  6.200e-02,\n        5.800e-03,  1.162e-01, -7.390e-02,  1.525e-01, -6.330e-02,\n        6.780e-02, -1.114e-01, -3.440e-02,  4.310e-02,  6.050e-02,\n       -1.349e-01,  5.660e-02, -7.210e-02,  1.785e-01,  5.520e-02,\n       -8.580e-02, -7.610e-02,  1.387e-01, -3.760e-02,  8.000e-03,\n        1.093e-01, -6.550e-02,  7.130e-02, -1.020e-01, -6.250e-02,\n       -6.340e-02, -6.770e-02, -8.940e-02,  5.400e-03,  6.740e-02,\n       -8.720e-02,  1.085e-01, -7.148e-01,  5.700e-03, -4.660e-02,\n        3.980e-02, -7.630e-02,  9.780e-02, -3.300e-03,  1.379e-01,\n       -1.192e-01,  3.700e-03, -1.599e-01, -9.340e-02, -1.021e-01,\n       -2.812e-01,  1.539e-01, -2.750e-02, -3.230e-02, -3.860e-02,\n       -1.403e-01, -7.450e-02, -7.510e-02,  1.232e-01,  8.800e-03,\n       -9.230e-02, -2.520e-02,  6.200e-02,  3.040e-02,  3.030e-01,\n       -1.490e-02,  4.990e-02,  1.314e-01, -1.909e-01,  8.500e-03,\n       -7.300e-03,  7.720e-02, -1.769e-01,  3.504e-01, -7.650e-02,\n        4.000e-02, -6.060e-02,  9.160e-02, -2.170e-02,  1.309e-01,\n        1.270e-02,  8.000e-04, -1.289e-01,  3.690e-02,  2.852e-01,\n       -1.613e-01, -4.230e-02,  5.840e-02, -1.020e-02,  1.890e-02,\n        2.270e-02,  1.939e-01,  2.150e-02, -7.990e-02, -5.360e-02,\n       -1.776e-01,  1.737e-01, -1.750e-02, -6.500e-02, -3.280e-02,\n        5.130e-02,  4.980e-02,  7.300e-03, -3.970e-02, -2.032e-01,\n        5.160e-02, -4.910e-02, -1.086e-01,  7.510e-02,  5.140e-02,\n        2.141e-01, -1.320e-02,  3.650e-02,  2.760e-02,  1.104e-01,\n       -1.000e-02, -9.150e-02,  1.560e-01, -3.750e-02, -1.490e-02,\n       -1.823e-01, -7.740e-02,  1.927e-01,  6.080e-02, -2.231e-01,\n        7.050e-02,  2.000e-02, -4.080e-02,  2.354e-01,  8.400e-03,\n       -4.500e-03,  5.060e-02, -1.730e-02,  1.409e-01, -9.430e-02,\n       -7.950e-02, -1.155e-01, -4.830e-02,  3.570e-02,  6.130e-02,\n        9.910e-02,  1.160e-02, -2.600e-03,  7.490e-02,  9.700e-03,\n       -9.020e-02,  1.664e-01, -4.080e-02, -5.850e-02,  2.000e-03,\n        9.180e-02,  1.312e-01,  5.070e-02, -3.300e-02,  8.990e-02,\n       -7.250e-02, -8.290e-02, -1.383e-01,  3.240e-02,  6.940e-02,\n       -1.532e-01,  3.353e-01, -2.800e-02,  1.170e-02, -3.120e-02,\n        6.600e-03,  1.590e-02,  6.450e-02, -1.630e-02,  6.240e-02,\n        4.270e-02,  7.520e-02,  2.870e-02, -6.200e-02,  1.186e-01,\n        1.551e-01, -1.339e-01,  7.610e-02, -1.146e-01,  7.200e-03,\n       -9.400e-03, -6.230e-02,  1.084e-01,  1.366e-01, -5.000e-03,\n       -2.360e-02,  1.105e-01, -9.430e-02, -2.500e-02, -2.270e-02,\n        6.700e-03,  4.170e-02, -1.663e-01, -6.110e-02,  2.230e-01,\n        6.910e-02, -7.020e-02,  4.420e-02, -7.630e-02, -3.030e-02,\n        1.221e-01,  6.430e-02,  2.770e-02, -9.480e-02, -1.500e-01,\n        1.330e-02, -5.110e-02, -1.250e-02,  1.145e-01, -1.244e-01,\n       -8.300e-03,  6.200e-03,  2.038e-01,  1.102e-01,  5.660e-02,\n        2.725e-01,  1.710e-02,  2.873e-01, -1.072e-01,  1.991e-01,\n       -2.468e-01, -2.590e-02, -1.153e-01, -2.346e-01,  2.000e-04,\n       -4.000e-02,  1.813e-01,  7.000e-03,  2.070e-02,  1.600e-02,\n        5.570e-02, -1.457e-01,  3.390e-02, -1.659e-01,  4.385e-01,\n        5.600e-03,  2.490e-02, -7.440e-02, -2.670e-02,  3.310e-02,\n        1.816e-01, -3.240e-02,  2.031e-01,  1.900e-02, -2.710e-02,\n       -7.970e-02, -1.566e-01,  5.000e-02, -5.820e-02, -1.322e-01,\n       -1.390e-02, -1.447e-01,  6.340e-02, -2.163e-01, -4.060e-02,\n       -3.030e-02,  6.150e-02, -1.040e-02, -1.490e-02, -1.028e-01,\n       -9.330e-02,  1.724e-01, -3.100e-03,  7.770e-02,  1.028e-01,\n        7.350e-02, -6.870e-02,  3.490e-02,  5.800e-02,  7.360e-02,\n       -3.260e-02,  1.617e-01, -3.530e-02,  1.840e-02,  1.640e-02,\n       -3.350e-02, -1.355e-01,  7.200e-02,  7.280e-02,  1.710e-02,\n       -4.510e-02,  5.940e-02,  8.270e-02, -6.300e-02, -1.246e-01],\n      dtype=float32)"
     },
     "execution_count": 9,
     "metadata": {},
     "output_type": "execute_result"
    }
   ],
   "source": [
    "print(\"fastText Word Embeddings of word 'human' \")\n",
    "fasttext_model['human']"
   ],
   "metadata": {
    "collapsed": false,
    "ExecuteTime": {
     "end_time": "2023-10-23T10:55:17.134969800Z",
     "start_time": "2023-10-23T10:55:17.110053500Z"
    }
   }
  },
  {
   "cell_type": "markdown",
   "source": [
    "### **<span style=\"color:blue\"> Training a FastText model </span>**\n",
    "\n",
    "The FastText model in Gensim has several parameters that can be adjusted during initialization. The most commonly used parameters are:\n",
    "\n",
    "- **`sentences`**:\n",
    "    This parameter is used to specify the input data for training the FastText model. It can be a list of sentences or an iterable that yields sentences.\n",
    "\n",
    "- **`vector_size`**:\n",
    "    This parameter determines the dimensionality of the word vectors. For example, if set to 100, each word will be represented by a vector of 100 dimensions.\n",
    "\n",
    "- **`window`**:\n",
    "    It defines the maximum distance between the current and predicted word within a sentence. The default value is 5.\n",
    "\n",
    "- **`min_count`**:\n",
    "    This parameter specifies the minimum frequency of a word in the corpus for it to be considered during training. Words that occur fewer times will be ignored. The default value is 5.\n",
    "\n",
    "- **`sg`**:\n",
    "    Skip-gram vs CBOW (Continuous Bag of Words). If sg is set to 1, the Skip-gram model is used; if it's set to 0, CBOW is used.\n",
    "\n",
    "- **`negative`**:\n",
    "    It specifies how many \"negative\" samples should be drawn for each positive sample during training. More negative samples can lead to a more accurate model, but also require more computation.\n",
    "\n",
    "- **`ns_exponent`**:\n",
    "    This parameter sets the exponent used to shape the negative sampling distribution. The default value is 0.75.\n",
    "\n",
    "- **`alpha`**:\n",
    "    The initial learning rate for training. It will gradually decrease as the training progresses.\n",
    "\n",
    "- **`min_n`** and **`max_n`**:\n",
    "    These parameters specify the minimum and maximum size of character n-grams to be used for training. By default, min_n=3 and max_n=6.\n",
    "\n",
    "- **`word_ngrams`**:\n",
    "    This parameter determines whether word n-grams should be used in addition to word vectors. By default, it's set to 1.\n",
    "\n",
    "- **`workers`**:\n",
    "    The number of CPU cores to use for training. By default, it's set to 3.\n",
    "\n",
    "- **`epochs`**:\n",
    "    The number of iterations over the corpus during training.\n",
    "\n"
   ],
   "metadata": {
    "collapsed": false
   }
  },
  {
   "cell_type": "code",
   "execution_count": 10,
   "outputs": [],
   "source": [
    "from gensim.models import FastText\n",
    "from gensim.test.utils import common_texts\n",
    "\n",
    "my_fasttext_model = FastText(common_texts,\n",
    "                             vector_size = 100,\n",
    "                             min_count = 1,\n",
    "                             window = 5,\n",
    "                             sg = 1)"
   ],
   "metadata": {
    "collapsed": false,
    "ExecuteTime": {
     "end_time": "2023-10-23T11:10:11.230550800Z",
     "start_time": "2023-10-23T11:10:10.461487800Z"
    }
   }
  },
  {
   "cell_type": "code",
   "execution_count": 12,
   "outputs": [
    {
     "name": "stdout",
     "output_type": "stream",
     "text": [
      "Most similar words of word 'computer' :\n"
     ]
    },
    {
     "data": {
      "text/plain": "[('user', 0.15659411251544952),\n ('response', 0.12383826076984406),\n ('eps', 0.030704911798238754),\n ('system', 0.025573883205652237),\n ('interface', 0.0058587524108588696),\n ('survey', -0.03156976401805878),\n ('minors', -0.0545564740896225),\n ('human', -0.0668589174747467),\n ('time', -0.06855931878089905),\n ('trees', -0.10636083036661148)]"
     },
     "execution_count": 12,
     "metadata": {},
     "output_type": "execute_result"
    }
   ],
   "source": [
    "print(\"Most similar words of word 'computer' :\")\n",
    "my_fasttext_model.wv.most_similar('computer')"
   ],
   "metadata": {
    "collapsed": false,
    "ExecuteTime": {
     "end_time": "2023-10-23T11:14:51.346587100Z",
     "start_time": "2023-10-23T11:14:51.338172600Z"
    }
   }
  },
  {
   "cell_type": "code",
   "execution_count": 13,
   "outputs": [
    {
     "data": {
      "text/plain": "array([ 2.96936167e-04,  3.31060466e-04, -8.77768325e-04,  3.39444174e-04,\n       -5.01747418e-04, -2.04214524e-03, -1.24066719e-03, -1.94044539e-03,\n        1.34510931e-03, -2.41268426e-03,  9.18505422e-04, -1.03151030e-03,\n       -7.63410062e-04,  7.31222244e-05,  1.38286629e-03,  5.19435504e-04,\n       -2.98849802e-04, -1.19464763e-03, -1.17238448e-03, -6.08951552e-04,\n       -6.78338984e-04,  3.92779708e-04,  9.88251195e-05,  8.12689308e-04,\n        5.81971311e-04,  7.01953366e-04, -7.36806658e-04, -1.03962549e-03,\n       -6.25258312e-04, -2.40496884e-04, -1.19316357e-03, -2.65940849e-04,\n        7.36046524e-04, -7.21505727e-04, -1.27508014e-03,  1.24231781e-04,\n        3.77583550e-04, -1.33155228e-03, -2.73441360e-03, -3.04829708e-04,\n        9.28272377e-04, -7.28168816e-04, -1.12919568e-03, -3.21931177e-04,\n       -2.06016310e-04, -1.04854174e-04, -6.22976047e-04, -1.61377620e-03,\n        9.91107081e-04,  9.22983818e-05,  3.68000241e-04, -5.37839776e-04,\n        1.13322982e-03,  8.70750577e-04, -1.63867278e-03, -8.55855411e-04,\n       -6.31069415e-04,  6.22909865e-04,  8.40167049e-04, -1.12830219e-03,\n        1.29163847e-03, -3.40488943e-04, -1.17833621e-03, -1.60850491e-03,\n        1.52693118e-03,  3.01169712e-05, -2.41883954e-05, -7.27596227e-04,\n        1.73330551e-03,  8.93421762e-04,  3.26789886e-04, -4.63379052e-04,\n       -2.31358409e-03, -1.72005536e-03,  4.35937254e-04, -4.12225461e-04,\n       -1.06689101e-03, -1.00902386e-03, -1.64344837e-03, -1.05065810e-04,\n        1.01913651e-03, -6.24372798e-04, -1.08174444e-03,  8.85603193e-04,\n       -1.45729631e-03,  6.48391724e-04,  4.41413518e-04, -1.24500669e-03,\n        3.49245267e-04, -9.81050660e-04, -9.73784481e-04, -1.98150854e-04,\n       -1.89508792e-04, -9.85311344e-04,  5.74433478e-04,  1.99000956e-03,\n        7.19957534e-05,  9.95708513e-04, -1.70885876e-03,  1.34901761e-03],\n      dtype=float32)"
     },
     "execution_count": 13,
     "metadata": {},
     "output_type": "execute_result"
    }
   ],
   "source": [
    "# Word Embedding for Word \"computer\" using fastText\n",
    "my_fasttext_model.wv['computer']"
   ],
   "metadata": {
    "collapsed": false,
    "ExecuteTime": {
     "end_time": "2023-10-23T11:16:25.977433700Z",
     "start_time": "2023-10-23T11:16:25.967555500Z"
    }
   }
  },
  {
   "cell_type": "markdown",
   "source": [
    "The results obtained are not so good because **the hyperparameters need to be nicely tuned**"
   ],
   "metadata": {
    "collapsed": false
   }
  },
  {
   "cell_type": "markdown",
   "source": [],
   "metadata": {
    "collapsed": false
   }
  }
 ],
 "metadata": {
  "kernelspec": {
   "display_name": "Python 3",
   "language": "python",
   "name": "python3"
  },
  "language_info": {
   "codemirror_mode": {
    "name": "ipython",
    "version": 2
   },
   "file_extension": ".py",
   "mimetype": "text/x-python",
   "name": "python",
   "nbconvert_exporter": "python",
   "pygments_lexer": "ipython2",
   "version": "2.7.6"
  }
 },
 "nbformat": 4,
 "nbformat_minor": 0
}
